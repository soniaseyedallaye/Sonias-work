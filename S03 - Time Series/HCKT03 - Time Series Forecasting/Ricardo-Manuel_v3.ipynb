{
 "cells": [
  {
   "cell_type": "code",
   "execution_count": 15,
   "metadata": {
    "id": "cPtW1sTlWPVW"
   },
   "outputs": [],
   "source": [
    "import pandas as pd \n",
    "from sklearn.linear_model import LinearRegression\n",
    "from matplotlib import pyplot as plt \n",
    "from sklearn.ensemble import GradientBoostingRegressor\n",
    "from tqdm import tqdm_notebook as tqdm\n",
    "from sklearn.model_selection import KFold\n",
    "from sklearn.metrics import mean_absolute_error\n",
    "%matplotlib inline \n",
    "import numpy as np\n",
    "plt.rcParams['figure.figsize'] = (16, 4)\n",
    "\n",
    "import warnings\n",
    "warnings.filterwarnings(action=\"ignore\")\n",
    "warnings.filterwarnings(action=\"ignore\", module=\"scipy\", message=\"^internal gelsd\")\n",
    "\n",
    "#from utils import * # We've added all the functions from the last BLU to the utils.py "
   ]
  },
  {
   "cell_type": "code",
   "execution_count": 16,
   "metadata": {
    "id": "2lZFqCV9Wa9e"
   },
   "outputs": [],
   "source": [
    "import pmdarima as pm\n",
    "from pmdarima.pipeline import Pipeline\n",
    "from pmdarima.preprocessing import BoxCoxEndogTransformer"
   ]
  },
  {
   "cell_type": "code",
   "execution_count": 17,
   "metadata": {
    "id": "F_0JXqxmWg1v"
   },
   "outputs": [],
   "source": [
    "wf1_df = pd.read_csv('data/wf1_data.csv')  \n",
    "wf2_df = pd.read_csv('data/wf2_data.csv')  \n",
    "wf3_df = pd.read_csv('data/wf3_data.csv')"
   ]
  },
  {
   "cell_type": "code",
   "execution_count": 18,
   "metadata": {
    "id": "pPZBz3C4WooI"
   },
   "outputs": [],
   "source": [
    "wf1_df['date'] = pd.to_datetime(wf1_df.date, format='%Y%m%d%H')\n",
    "wf2_df['date'] = pd.to_datetime(wf2_df.date, format='%Y%m%d%H')\n",
    "wf3_df['date'] = pd.to_datetime(wf3_df.date, format='%Y%m%d%H')"
   ]
  },
  {
   "cell_type": "code",
   "execution_count": 19,
   "metadata": {
    "id": "kjmEihsSW5xR"
   },
   "outputs": [],
   "source": [
    "wf1_df = wf1_df.set_index('date',    # <---- Set the index to be our timestamp data  \n",
    "                      drop=True)\n",
    "wf2_df = wf2_df.set_index('date',    # <---- Set the index to be our timestamp data  \n",
    "                      drop=True)\n",
    "wf3_df = wf3_df.set_index('date',    # <---- Set the index to be our timestamp data  \n",
    "                      drop=True)"
   ]
  },
  {
   "cell_type": "code",
   "execution_count": 20,
   "metadata": {
    "id": "yjsBSjGxXWjC"
   },
   "outputs": [],
   "source": [
    "data_wf1 = wf1_df[:-24]\n",
    "vtp_wf1 = wf1_df[-24:]\n",
    "\n",
    "data_wf2 = wf2_df[:-24]\n",
    "vtp_wf2 = wf2_df[-24:]\n",
    "\n",
    "data_wf3 = wf3_df[:-24]\n",
    "vtp_wf3 = wf3_df[-24:]"
   ]
  },
  {
   "cell_type": "code",
   "execution_count": 21,
   "metadata": {},
   "outputs": [
    {
     "data": {
      "text/plain": [
       "8759"
      ]
     },
     "execution_count": 21,
     "metadata": {},
     "output_type": "execute_result"
    }
   ],
   "source": [
    "len(wf1_df)"
   ]
  },
  {
   "cell_type": "code",
   "execution_count": 23,
   "metadata": {},
   "outputs": [],
   "source": [
    "#data_limit = 720  #30 days * 24h\n",
    "data_limit = 2160 #30 days * 24h * 3 months"
   ]
  },
  {
   "cell_type": "code",
   "execution_count": 24,
   "metadata": {
    "id": "de-cRlJ3W9Gk"
   },
   "outputs": [],
   "source": [
    "data_wf1_r = data_wf1.resample('1H').mean()\n",
    "missing_values1 = data_wf1_r[data_wf1_r.isnull()['wp']]"
   ]
  },
  {
   "cell_type": "code",
   "execution_count": 25,
   "metadata": {
    "colab": {
     "base_uri": "https://localhost:8080/",
     "height": 455
    },
    "id": "ifop3DEAXebL",
    "outputId": "ae1fb4bc-8672-4c6b-b277-84abad74196e"
   },
   "outputs": [
    {
     "ename": "NameError",
     "evalue": "name 'data_wf1_imputed' is not defined",
     "output_type": "error",
     "traceback": [
      "\u001b[0;31m---------------------------------------------------------------------------\u001b[0m",
      "\u001b[0;31mNameError\u001b[0m                                 Traceback (most recent call last)",
      "\u001b[0;32m<ipython-input-25-84451171994a>\u001b[0m in \u001b[0;36m<module>\u001b[0;34m\u001b[0m\n\u001b[1;32m      5\u001b[0m \u001b[0mdata_imputed1\u001b[0m \u001b[0;34m=\u001b[0m \u001b[0mimputer\u001b[0m\u001b[0;34m.\u001b[0m\u001b[0mfit_transform\u001b[0m\u001b[0;34m(\u001b[0m\u001b[0mdata_wf1_r\u001b[0m\u001b[0;34m)\u001b[0m \u001b[0;31m# This may take a bit to run\u001b[0m\u001b[0;34m\u001b[0m\u001b[0;34m\u001b[0m\u001b[0m\n\u001b[1;32m      6\u001b[0m \u001b[0mdata_wf3_imputed\u001b[0m \u001b[0;34m=\u001b[0m \u001b[0mpd\u001b[0m\u001b[0;34m.\u001b[0m\u001b[0mDataFrame\u001b[0m\u001b[0;34m(\u001b[0m\u001b[0mdata_imputed1\u001b[0m\u001b[0;34m,\u001b[0m \u001b[0mindex\u001b[0m\u001b[0;34m=\u001b[0m\u001b[0mdata_wf1_r\u001b[0m\u001b[0;34m.\u001b[0m\u001b[0mindex\u001b[0m\u001b[0;34m,\u001b[0m \u001b[0mcolumns\u001b[0m\u001b[0;34m=\u001b[0m\u001b[0mdata_wf1_r\u001b[0m\u001b[0;34m.\u001b[0m\u001b[0mcolumns\u001b[0m\u001b[0;34m)\u001b[0m\u001b[0;34m\u001b[0m\u001b[0;34m\u001b[0m\u001b[0m\n\u001b[0;32m----> 7\u001b[0;31m \u001b[0mdata_wf1_imputed\u001b[0m\u001b[0;34m\u001b[0m\u001b[0;34m\u001b[0m\u001b[0m\n\u001b[0m",
      "\u001b[0;31mNameError\u001b[0m: name 'data_wf1_imputed' is not defined"
     ]
    }
   ],
   "source": [
    "from sklearn.impute import KNNImputer\n",
    "imputer = KNNImputer() # To obtain better results we may want to have more neighbors, of course that in a real setting\n",
    "                       # this is a parameter that should be tunned\n",
    "    \n",
    "data_imputed1 = imputer.fit_transform(data_wf1_r) # This may take a bit to run\n",
    "data_wf3_imputed = pd.DataFrame(data_imputed1, index=data_wf1_r.index, columns=data_wf1_r.columns)\n",
    "data_wf1_imputed"
   ]
  },
  {
   "cell_type": "code",
   "execution_count": null,
   "metadata": {},
   "outputs": [],
   "source": [
    "def build_some_features(df_, num_periods_lagged=1, num_periods_diffed=0, weekday=False, month=False, rolling=[], holidays=False):\n",
    "    \"\"\"\n",
    "    Builds some features by calculating differences between periods\n",
    "    \"\"\"\n",
    "    # make a copy\n",
    "    df_ = df_.copy()\n",
    "    # for a few values, get the lags\n",
    "    for i in range(1, num_periods_lagged+1):\n",
    "        # make a new feature, with the lags in the observed values column\n",
    "        df_['lagged_%s' % str(i)] = df_['customers'].shift(i)\n",
    "    # for a few values, get the diffs\n",
    "    for i in range(1, num_periods_diffed+1):\n",
    "        # make a new feature, with the lags in the observed values column\n",
    "        df_['diff_%s' % str(i)] = df_['customers'].diff(i)\n",
    "    for stat in rolling:\n",
    "        df_['rolling_%s'%str(stat)] = df_['customers'].rolling('7D').aggregate(stat)\n",
    "    if weekday == True:\n",
    "        df_['sin_weekday'] = np.sin(2*np.pi*df_.index.weekday/7)\n",
    "        df_['cos_weekday'] = np.cos(2*np.pi*df_.index.weekday/7)\n",
    "    if month == True:\n",
    "        df_['sin_month'] = np.sin(2*np.pi*df_.index.month/12)\n",
    "        df_['cos_month'] = np.cos(2*np.pi*df_.index.month/12)\n",
    "    if hour == True:\n",
    "        df_['sin_hour'] = np.sin(2*np.pi*df_.index.hour/12)\n",
    "        df_['cos_hour'] = np.cos(2*np.pi*df_.index.hour/12)\n",
    "        \n",
    "    if holidays == True:\n",
    "        holidays = df_[((df_.index.month==12) & (df_.index.day==25))\n",
    "              |((df_.index.month==1) & (df_.index.day==1))].customers\n",
    "        df_['holidays'] = holidays + 1\n",
    "        df_['holidays'] = df_['holidays'].fillna(0)\n",
    "    return df_"
   ]
  },
  {
   "cell_type": "code",
   "execution_count": null,
   "metadata": {},
   "outputs": [],
   "source": []
  },
  {
   "cell_type": "code",
   "execution_count": 26,
   "metadata": {},
   "outputs": [],
   "source": [
    "def predict_period_n(series_, model, number_of_periods_ahead, num_periods_lagged, num_periods_diffed, weekday, month, rolling, holidays): \n",
    "    \n",
    "        X_train, y_train, X_last_period = prepare_for_prediction(series_, \n",
    "                                                             number_of_periods_ahead, \n",
    "                                                             num_periods_lagged,\n",
    "                                                             num_periods_diffed,\n",
    "                                                             weekday,\n",
    "                                                             month,\n",
    "                                                             rolling,\n",
    "                                                             holidays)\n",
    "        \n",
    "        model.fit(X_train, y_train)\n",
    "        return model.predict(X_last_period.values.reshape(1, -1))"
   ]
  },
  {
   "cell_type": "code",
   "execution_count": 27,
   "metadata": {},
   "outputs": [
    {
     "data": {
      "application/vnd.jupyter.widget-view+json": {
       "model_id": "67d52706a3cc45e196d9a669567bc70f",
       "version_major": 2,
       "version_minor": 0
      },
      "text/plain": [
       "HBox(children=(FloatProgress(value=0.0, max=8.0), HTML(value='')))"
      ]
     },
     "metadata": {},
     "output_type": "display_data"
    },
    {
     "name": "stdout",
     "output_type": "stream",
     "text": [
      "\n"
     ]
    },
    {
     "ename": "NameError",
     "evalue": "name 'predict_n_periods' is not defined",
     "output_type": "error",
     "traceback": [
      "\u001b[0;31m---------------------------------------------------------------------------\u001b[0m",
      "\u001b[0;31mNameError\u001b[0m                                 Traceback (most recent call last)",
      "\u001b[0;32m<ipython-input-27-9d204490bff7>\u001b[0m in \u001b[0;36m<module>\u001b[0;34m\u001b[0m\n\u001b[1;32m     13\u001b[0m \u001b[0merror_lst\u001b[0m \u001b[0;34m=\u001b[0m \u001b[0;34m[\u001b[0m\u001b[0;34m]\u001b[0m\u001b[0;34m\u001b[0m\u001b[0;34m\u001b[0m\u001b[0m\n\u001b[1;32m     14\u001b[0m \u001b[0;32mfor\u001b[0m \u001b[0mparams\u001b[0m \u001b[0;32min\u001b[0m \u001b[0mtqdm\u001b[0m\u001b[0;34m(\u001b[0m\u001b[0mgrid\u001b[0m\u001b[0;34m)\u001b[0m\u001b[0;34m:\u001b[0m\u001b[0;34m\u001b[0m\u001b[0;34m\u001b[0m\u001b[0m\n\u001b[0;32m---> 15\u001b[0;31m     predictions = predict_n_periods(series_=train_wp,\n\u001b[0m\u001b[1;32m     16\u001b[0m                     \u001b[0mn_periods\u001b[0m\u001b[0;34m=\u001b[0m\u001b[0;36m24\u001b[0m\u001b[0;34m,\u001b[0m\u001b[0;34m\u001b[0m\u001b[0;34m\u001b[0m\u001b[0m\n\u001b[1;32m     17\u001b[0m                       \u001b[0mmodel\u001b[0m\u001b[0;34m=\u001b[0m\u001b[0mparams\u001b[0m\u001b[0;34m[\u001b[0m\u001b[0;34m'model'\u001b[0m\u001b[0;34m]\u001b[0m\u001b[0;34m,\u001b[0m\u001b[0;34m\u001b[0m\u001b[0;34m\u001b[0m\u001b[0m\n",
      "\u001b[0;31mNameError\u001b[0m: name 'predict_n_periods' is not defined"
     ]
    }
   ],
   "source": [
    "from sklearn.model_selection import ParameterGrid\n",
    "param_grid = {'model': [ GradientBoostingRegressor()],\n",
    "              'num_periods_lagged':np.arange(1,3),\n",
    "              'num_periods_diffed':[0],\n",
    "              'weekday':[True,False],\n",
    "              'month':[True,False],\n",
    "              'holidays': [True],\n",
    "              'rolling' : [[np.mean,np.min,np.max,np.std]]\n",
    "             }\n",
    "grid = ParameterGrid(param_grid)\n",
    "\n",
    "###Seperate train test and validation\n",
    "error_lst = []\n",
    "for params in tqdm(grid):\n",
    "    predictions = predict_n_periods(series_=train_wp,\n",
    "                    n_periods=24,\n",
    "                      model=params['model'],\n",
    "                      num_periods_lagged=params['num_periods_lagged'],\n",
    "                      num_periods_diffed=params['num_periods_diffed'],\n",
    "                      weekday=params['weekday'],\n",
    "                      month=params['month'],\n",
    "                      rolling=[np.mean,np.max,np.min]\n",
    "                    )\n",
    "    error_lst.append(mean_absolute_error(val,predictions))\n",
    "pd.Series(error_lst).idxmin()"
   ]
  },
  {
   "cell_type": "code",
   "execution_count": 29,
   "metadata": {},
   "outputs": [
    {
     "ename": "NameError",
     "evalue": "name 'data_wf1_imputed' is not defined",
     "output_type": "error",
     "traceback": [
      "\u001b[0;31m---------------------------------------------------------------------------\u001b[0m",
      "\u001b[0;31mNameError\u001b[0m                                 Traceback (most recent call last)",
      "\u001b[0;32m<ipython-input-29-07d391f44138>\u001b[0m in \u001b[0;36m<module>\u001b[0;34m\u001b[0m\n\u001b[0;32m----> 1\u001b[0;31m \u001b[0mdata_wf1_imputed\u001b[0m \u001b[0;34m=\u001b[0m \u001b[0mbuild_some_features\u001b[0m\u001b[0;34m(\u001b[0m\u001b[0mseries_\u001b[0m\u001b[0;34m=\u001b[0m\u001b[0mdata_wf1_imputed\u001b[0m\u001b[0;34m,\u001b[0m\u001b[0;34m)\u001b[0m\u001b[0;34m\u001b[0m\u001b[0;34m\u001b[0m\u001b[0m\n\u001b[0m\u001b[1;32m      2\u001b[0m \u001b[0mdata_wf1_imputed\u001b[0m\u001b[0;34m[\u001b[0m\u001b[0;34m'day'\u001b[0m\u001b[0;34m]\u001b[0m \u001b[0;34m=\u001b[0m \u001b[0mdata_wf1_imputed\u001b[0m\u001b[0;34m.\u001b[0m\u001b[0mindex\u001b[0m\u001b[0;34m.\u001b[0m\u001b[0mday\u001b[0m\u001b[0;34m\u001b[0m\u001b[0;34m\u001b[0m\u001b[0m\n\u001b[1;32m      3\u001b[0m \u001b[0mdata_wf1_imputed\u001b[0m\u001b[0;34m[\u001b[0m\u001b[0;34m'month'\u001b[0m\u001b[0;34m]\u001b[0m \u001b[0;34m=\u001b[0m \u001b[0mdata_wf1_imputed\u001b[0m\u001b[0;34m.\u001b[0m\u001b[0mindex\u001b[0m\u001b[0;34m.\u001b[0m\u001b[0mmonth\u001b[0m\u001b[0;34m\u001b[0m\u001b[0;34m\u001b[0m\u001b[0m\n\u001b[1;32m      4\u001b[0m \u001b[0mdata_wf1_imputed\u001b[0m\u001b[0;34m[\u001b[0m\u001b[0;34m'hour'\u001b[0m\u001b[0;34m]\u001b[0m \u001b[0;34m=\u001b[0m \u001b[0mdata_wf1_imputed\u001b[0m\u001b[0;34m.\u001b[0m\u001b[0mindex\u001b[0m\u001b[0;34m.\u001b[0m\u001b[0mhour\u001b[0m\u001b[0;34m\u001b[0m\u001b[0;34m\u001b[0m\u001b[0m\n\u001b[1;32m      5\u001b[0m \u001b[0mdata_wf1_imputed\u001b[0m\u001b[0;34m.\u001b[0m\u001b[0mhead\u001b[0m\u001b[0;34m(\u001b[0m\u001b[0;34m)\u001b[0m\u001b[0;34m\u001b[0m\u001b[0;34m\u001b[0m\u001b[0m\n",
      "\u001b[0;31mNameError\u001b[0m: name 'data_wf1_imputed' is not defined"
     ]
    }
   ],
   "source": [
    "data_wf1_imputed = build_some_features(series_=data_wf1_imputed,)\n",
    "data_wf1_imputed['day'] = data_wf1_imputed.index.day\n",
    "data_wf1_imputed['month'] = data_wf1_imputed.index.month\n",
    "data_wf1_imputed['hour'] = data_wf1_imputed.index.hour\n",
    "data_wf1_imputed.head()"
   ]
  },
  {
   "cell_type": "code",
   "execution_count": 30,
   "metadata": {
    "colab": {
     "base_uri": "https://localhost:8080/",
     "height": 309
    },
    "id": "r_evq7GqXfEd",
    "outputId": "3d328cbf-e3d8-4cfb-d345-0eb762008891"
   },
   "outputs": [
    {
     "ename": "NameError",
     "evalue": "name 'data_wf1_imputed' is not defined",
     "output_type": "error",
     "traceback": [
      "\u001b[0;31m---------------------------------------------------------------------------\u001b[0m",
      "\u001b[0;31mNameError\u001b[0m                                 Traceback (most recent call last)",
      "\u001b[0;32m<ipython-input-30-8389ebb2e77f>\u001b[0m in \u001b[0;36m<module>\u001b[0;34m\u001b[0m\n\u001b[0;32m----> 1\u001b[0;31m \u001b[0mdata_wf1_imputed\u001b[0m \u001b[0;34m=\u001b[0m \u001b[0mdata_wf1_imputed\u001b[0m\u001b[0;34m.\u001b[0m\u001b[0msort_index\u001b[0m\u001b[0;34m(\u001b[0m\u001b[0;34m)\u001b[0m\u001b[0;34m\u001b[0m\u001b[0;34m\u001b[0m\u001b[0m\n\u001b[0m\u001b[1;32m      2\u001b[0m \u001b[0mdata1\u001b[0m \u001b[0;34m=\u001b[0m \u001b[0mdata_wf1_imputed\u001b[0m\u001b[0;34m\u001b[0m\u001b[0;34m\u001b[0m\u001b[0m\n\u001b[1;32m      3\u001b[0m \u001b[0mws1\u001b[0m \u001b[0;34m=\u001b[0m \u001b[0mdata1\u001b[0m\u001b[0;34m.\u001b[0m\u001b[0mdrop\u001b[0m\u001b[0;34m(\u001b[0m\u001b[0;34m[\u001b[0m\u001b[0;34m'wp'\u001b[0m\u001b[0;34m]\u001b[0m\u001b[0;34m,\u001b[0m\u001b[0maxis\u001b[0m \u001b[0;34m=\u001b[0m \u001b[0;36m1\u001b[0m\u001b[0;34m)\u001b[0m\u001b[0;34m\u001b[0m\u001b[0;34m\u001b[0m\u001b[0m\n\u001b[1;32m      4\u001b[0m \u001b[0mdata1\u001b[0m \u001b[0;34m=\u001b[0m \u001b[0mdata1\u001b[0m\u001b[0;34m[\u001b[0m\u001b[0;34m'wp'\u001b[0m\u001b[0;34m]\u001b[0m \u001b[0;31m#data3.drop(['ws'],axis = 1)\u001b[0m\u001b[0;34m\u001b[0m\u001b[0;34m\u001b[0m\u001b[0m\n\u001b[1;32m      5\u001b[0m \u001b[0;31m#data3.plot()\u001b[0m\u001b[0;34m\u001b[0m\u001b[0;34m\u001b[0m\u001b[0;34m\u001b[0m\u001b[0m\n",
      "\u001b[0;31mNameError\u001b[0m: name 'data_wf1_imputed' is not defined"
     ]
    }
   ],
   "source": [
    "data_wf1_imputed = data_wf1_imputed.sort_index()\n",
    "data1 = data_wf1_imputed\n",
    "ws1 = data1.drop(['wp'],axis = 1)\n",
    "data1 = data1['wp'] #data3.drop(['ws'],axis = 1)\n",
    "#data3.plot()"
   ]
  },
  {
   "cell_type": "code",
   "execution_count": 40,
   "metadata": {
    "id": "ZQnjAJ7FXrNs"
   },
   "outputs": [],
   "source": [
    "data3_c = data3\n",
    "ws3_c = ws3"
   ]
  },
  {
   "cell_type": "code",
   "execution_count": 41,
   "metadata": {
    "id": "0PfYEfM4YXCY"
   },
   "outputs": [],
   "source": [
    "#data3_s = data3_c[-data_limit:]\n",
    "#ws3_s = ws3_c[-data_limit:]\n",
    "data3_s = data3_c\n",
    "ws3_s = ws3_c"
   ]
  },
  {
   "cell_type": "code",
   "execution_count": 42,
   "metadata": {
    "id": "QkFjpUwgYtp1"
   },
   "outputs": [],
   "source": [
    "data3_t_s = data3_s[:-24]\n",
    "data3_test_s = data3_s[-24:]\n",
    "\n",
    "data3_val_s = data3_t_s[-24:]\n",
    "data3_train_s = data3_t_s[:-24]\n",
    " \n",
    "ws3_t_s = ws3_s[:-24]\n",
    "ws3_test_s = ws3_s[-24:]\n",
    "\n",
    "ws3_val_s = ws3_t_s[-24:]\n",
    "ws3_train_s = ws3_t_s[:-24]"
   ]
  },
  {
   "cell_type": "code",
   "execution_count": null,
   "metadata": {
    "colab": {
     "base_uri": "https://localhost:8080/",
     "height": 780
    },
    "id": "213_GPSvYu4t",
    "outputId": "17469bfe-84e3-4390-da96-785de767d63c"
   },
   "outputs": [
    {
     "name": "stdout",
     "output_type": "stream",
     "text": [
      "Performing stepwise search to minimize aic\n",
      " ARIMA(2,1,2)(1,0,1)[24] intercept   : AIC=-14350.560, Time=15.88 sec\n",
      " ARIMA(0,1,0)(0,0,0)[24] intercept   : AIC=-13766.703, Time=1.56 sec\n",
      " ARIMA(1,1,0)(1,0,0)[24] intercept   : AIC=-13906.853, Time=18.25 sec\n",
      " ARIMA(0,1,1)(0,0,1)[24] intercept   : AIC=-13938.778, Time=18.89 sec\n",
      " ARIMA(0,1,0)(0,0,0)[24]             : AIC=4520.395, Time=1.28 sec\n",
      " ARIMA(2,1,2)(0,0,1)[24] intercept   : AIC=-14355.925, Time=22.22 sec\n",
      " ARIMA(2,1,2)(0,0,0)[24] intercept   : AIC=-14354.078, Time=2.62 sec\n",
      " ARIMA(2,1,2)(0,0,2)[24] intercept   : AIC=-14356.402, Time=83.15 sec\n",
      " ARIMA(2,1,2)(1,0,2)[24] intercept   : AIC=-14353.240, Time=73.65 sec\n",
      " ARIMA(1,1,2)(0,0,2)[24] intercept   : AIC=-14397.517, Time=68.52 sec\n",
      " ARIMA(1,1,2)(0,0,1)[24] intercept   : AIC=-14394.664, Time=18.40 sec\n",
      " ARIMA(1,1,2)(1,0,2)[24] intercept   : AIC=-14395.997, Time=75.87 sec\n",
      " ARIMA(1,1,2)(1,0,1)[24] intercept   : AIC=-14392.400, Time=16.70 sec\n",
      " ARIMA(0,1,2)(0,0,2)[24] intercept   : AIC=-14030.140, Time=68.39 sec\n",
      " ARIMA(1,1,1)(0,0,2)[24] intercept   : AIC=-14219.360, Time=62.81 sec\n",
      " ARIMA(1,1,3)(0,0,2)[24] intercept   : AIC=-14517.020, Time=73.09 sec\n",
      " ARIMA(1,1,3)(0,0,1)[24] intercept   : AIC=-14516.582, Time=20.04 sec\n",
      " ARIMA(1,1,3)(1,0,2)[24] intercept   : AIC=-14512.882, Time=117.56 sec\n",
      " ARIMA(1,1,3)(1,0,1)[24] intercept   : AIC=-14512.529, Time=23.31 sec\n",
      " ARIMA(0,1,3)(0,0,2)[24] intercept   : AIC=-14099.237, Time=80.14 sec\n",
      " ARIMA(2,1,3)(0,0,2)[24] intercept   : AIC=-14533.240, Time=98.38 sec\n",
      " ARIMA(2,1,3)(0,0,1)[24] intercept   : AIC=-14537.534, Time=24.57 sec\n",
      " ARIMA(2,1,3)(0,0,0)[24] intercept   : AIC=-14539.712, Time=2.54 sec\n",
      " ARIMA(2,1,3)(1,0,0)[24] intercept   : AIC=-14537.933, Time=20.86 sec\n",
      " ARIMA(2,1,3)(1,0,1)[24] intercept   : AIC=-14530.232, Time=20.42 sec\n",
      " ARIMA(1,1,3)(0,0,0)[24] intercept   : AIC=-14522.103, Time=2.73 sec\n",
      " ARIMA(3,1,3)(0,0,0)[24] intercept   : AIC=-14492.296, Time=2.98 sec\n",
      " ARIMA(2,1,4)(0,0,0)[24] intercept   : AIC=-13755.071, Time=5.09 sec\n",
      " ARIMA(1,1,2)(0,0,0)[24] intercept   : AIC=-14390.626, Time=2.92 sec\n",
      " ARIMA(1,1,4)(0,0,0)[24] intercept   : AIC=-14369.076, Time=2.58 sec\n",
      " ARIMA(3,1,2)(0,0,0)[24] intercept   : AIC=-14459.713, Time=2.62 sec\n",
      " ARIMA(3,1,4)(0,0,0)[24] intercept   : AIC=-14487.175, Time=3.29 sec\n",
      " ARIMA(2,1,3)(0,0,0)[24]             : AIC=-14557.444, Time=2.50 sec\n"
     ]
    }
   ],
   "source": [
    "sarimax_pipeline_exog = Pipeline([  #The boxcox transform has been removed because it messes with the exogenous input\n",
    "    ('arima', pm.AutoARIMA(trace=True,\n",
    "                           suppress_warnings=True,\n",
    "                           m=24, \n",
    "                           method='nm',\n",
    "                           maxiter=20,\n",
    "                           \n",
    "                          )\n",
    "    )\n",
    "])\n",
    "\n",
    "sarimax_pipeline_exog.fit(data3_t_s,ws3_t_s)"
   ]
  },
  {
   "cell_type": "code",
   "execution_count": null,
   "metadata": {},
   "outputs": [],
   "source": [
    "wf3_predict = sarimax_pipeline_exog.predict(24,ws3_test_s)"
   ]
  },
  {
   "cell_type": "code",
   "execution_count": null,
   "metadata": {
    "colab": {
     "base_uri": "https://localhost:8080/",
     "height": 283
    },
    "id": "r54hRJ4pZZHV",
    "outputId": "0ec2bcd0-6fdb-4851-aced-54ee1c16c6e6"
   },
   "outputs": [],
   "source": [
    "plt.plot(data3_test_s, label='original')\n",
    "plt.plot(data3_test_s.index, wf3_predict, label='sarimax_exog')\n",
    "plt.legend()"
   ]
  },
  {
   "cell_type": "code",
   "execution_count": null,
   "metadata": {
    "id": "ES_na_cFaDLo"
   },
   "outputs": [],
   "source": [
    "data_wf2_r = data_wf2.resample('1H').mean()\n",
    "missing_values2 = data_wf2_r[data_wf2_r.isnull()['wp']]\n",
    "\n",
    "imputer = KNNImputer() # To obtain better results we may want to have more neighbors, of course that in a real setting\n",
    "                       # this is a parameter that should be tunned\n",
    "    \n",
    "data_imputed2 = imputer.fit_transform(data_wf2_r) # This may take a bit to run\n",
    "data_wf2_imputed = pd.DataFrame(data_imputed2, index=data_wf2_r.index, columns=data_wf2_r.columns)\n",
    "data_wf2_imputed = data_wf2_imputed.sort_index()\n",
    "\n",
    "data_wf2_imputed['day'] = data_wf2_imputed.index.day\n",
    "data_wf2_imputed['month'] = data_wf2_imputed.index.month\n",
    "data_wf2_imputed['hour'] = data_wf2_imputed.index.hour\n",
    "\n",
    "\n",
    "data2 = data_wf2_imputed\n",
    "ws2 = data2['ws']\n",
    "#ws2 = data2.drop(['wp'],axis = 1)\n",
    "data2 = data2.drop(['ws'],axis = 1)\n",
    "data2_c = data2\n",
    "ws2_c = ws2\n",
    "#data2_s = data2_c[-data_limit:]\n",
    "#ws2_s = ws2_c[-data_limit:]\n",
    "data2_s = data2_c\n",
    "ws2_s = ws2_c\n",
    "data2_t_s = data2_s[:-24]\n",
    "data2_test_s = data2_s[-24:]\n",
    "\n",
    "data2_val_s = data2_t_s[-24:]\n",
    "data2_train_s = data2_t_s[:-24]\n",
    " \n",
    "ws2_t_s = ws2_s[:-24]\n",
    "ws2_test_s = ws2_s[-24:]\n",
    "\n",
    "ws2_val_s = ws2_t_s[-24:]\n",
    "ws2_train_s = ws2_t_s[:-24]\n",
    "\n",
    "sarimax_pipeline_exog = Pipeline([  #The boxcox transform has been removed because it messes with the exogenous input\n",
    "    ('arima', pm.AutoARIMA(trace=True,\n",
    "                           suppress_warnings=True,\n",
    "                           m=24, \n",
    "                           method='nm',\n",
    "                           maxiter=20,\n",
    "                           \n",
    "                          )\n",
    "    )\n",
    "])\n",
    "\n",
    "sarimax_pipeline_exog.fit(data2_t_s,ws2_t_s)"
   ]
  },
  {
   "cell_type": "code",
   "execution_count": null,
   "metadata": {},
   "outputs": [],
   "source": [
    "wf2_predict = sarimax_pipeline_exog.predict(24,ws2_test_s)\n",
    "plt.plot(data2_test_s, label='original')\n",
    "plt.plot(data2_test_s.index, wf2_predict, label='sarimax_exog')\n",
    "plt.legend()"
   ]
  },
  {
   "cell_type": "code",
   "execution_count": null,
   "metadata": {},
   "outputs": [],
   "source": [
    "#####################\n",
    "#predictions = np.exp(sarimax.predict_in_sample())\n",
    "mae = mean_absolute_error(wf2_predict,emissions_train)\n",
    "\n",
    "print(mae)\n",
    "#####################"
   ]
  },
  {
   "cell_type": "code",
   "execution_count": null,
   "metadata": {},
   "outputs": [],
   "source": [
    "data_wf1_r = data_wf1.resample('1H').mean()\n",
    "missing_values1 = data_wf1_r[data_wf1_r.isnull()['wp']]\n",
    "\n",
    "imputer = KNNImputer() # To obtain better results we may want to have more neighbors, of course that in a real setting\n",
    "                       # this is a parameter that should be tunned\n",
    "    \n",
    "data_imputed1 = imputer.fit_transform(data_wf1_r) # This may take a bit to run\n",
    "data_wf1_imputed = pd.DataFrame(data_imputed1, index=data_wf1_r.index, columns=data_wf1_r.columns)\n",
    "data_wf1_imputed = data_wf1_imputed.sort_index()\n",
    "\n",
    "data_wf1_imputed['day'] = data_wf1_imputed.index.day\n",
    "data_wf1_imputed['month'] = data_wf1_imputed.index.month\n",
    "data_wf1_imputed['hour'] = data_wf1_imputed.index.hour\n",
    "\n",
    "data1 = data_wf1_imputed\n",
    "#ws1 = data1.drop(['wp'],axis = 1)\n",
    "ws1 = data1['ws']\n",
    "data1 = data1.drop(['ws'],axis = 1)\n",
    "data1_c = data1\n",
    "ws1_c = ws1\n",
    "data1_s = data1_c[-data_limit:]\n",
    "ws1_s = ws1_c[-data_limit:]\n",
    "data1_t_s = data1_s[:-24]\n",
    "data1_test_s = data1_s[-24:]\n",
    "\n",
    "data1_val_s = data1_t_s[-24:]\n",
    "data1_train_s = data1_t_s[:-24]\n",
    " \n",
    "ws1_t_s = ws1_s[:-24]\n",
    "ws1_test_s = ws1_s[-24:]\n",
    "\n",
    "ws1_val_s = ws1_t_s[-24:]\n",
    "ws1_train_s = ws1_t_s[:-24]\n",
    "\n",
    "sarimax_pipeline_exog = Pipeline([  #The boxcox transform has been removed because it messes with the exogenous input\n",
    "    ('arima', pm.AutoARIMA(trace=True,\n",
    "                           suppress_warnings=True,\n",
    "                           m=24, \n",
    "                           method='nm',\n",
    "                           maxiter=20,\n",
    "                           \n",
    "                          )\n",
    "    )\n",
    "])\n",
    "\n",
    "sarimax_pipeline_exog.fit(data1_t_s,ws1_t_s)"
   ]
  },
  {
   "cell_type": "code",
   "execution_count": null,
   "metadata": {},
   "outputs": [],
   "source": [
    "wf1_predict = sarimax_pipeline_exog.predict(24,ws1_test_s)\n",
    "plt.plot(data1_test_s, label='original')\n",
    "plt.plot(data1_test_s.index, wf1_predict, label='sarimax_exog')\n",
    "plt.legend()"
   ]
  },
  {
   "cell_type": "code",
   "execution_count": null,
   "metadata": {},
   "outputs": [],
   "source": [
    "#generate_submission_file(wf1_predict , wf2_predict , wf3_predict)"
   ]
  }
 ],
 "metadata": {
  "colab": {
   "name": "Untitled1.ipynb",
   "provenance": []
  },
  "kernelspec": {
   "display_name": "Python 3",
   "language": "python",
   "name": "python3"
  },
  "language_info": {
   "codemirror_mode": {
    "name": "ipython",
    "version": 3
   },
   "file_extension": ".py",
   "mimetype": "text/x-python",
   "name": "python",
   "nbconvert_exporter": "python",
   "pygments_lexer": "ipython3",
   "version": "3.6.9"
  }
 },
 "nbformat": 4,
 "nbformat_minor": 1
}
