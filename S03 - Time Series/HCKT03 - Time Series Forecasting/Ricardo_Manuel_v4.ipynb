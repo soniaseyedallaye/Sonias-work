{
 "cells": [
  {
   "cell_type": "code",
   "execution_count": 2,
   "metadata": {
    "id": "cPtW1sTlWPVW"
   },
   "outputs": [],
   "source": [
    "import pandas as pd \n",
    "from sklearn.linear_model import LinearRegression\n",
    "from matplotlib import pyplot as plt \n",
    "from sklearn.ensemble import GradientBoostingRegressor\n",
    "from tqdm import tqdm_notebook as tqdm\n",
    "from sklearn.model_selection import KFold\n",
    "from sklearn.metrics import mean_absolute_error\n",
    "%matplotlib inline \n",
    "import numpy as np\n",
    "plt.rcParams['figure.figsize'] = (16, 4)\n",
    "\n",
    "import warnings\n",
    "warnings.filterwarnings(action=\"ignore\")\n",
    "warnings.filterwarnings(action=\"ignore\", module=\"scipy\", message=\"^internal gelsd\")\n",
    "\n",
    "#from utils import * # We've added all the functions from the last BLU to the utils.py "
   ]
  },
  {
   "cell_type": "code",
   "execution_count": 3,
   "metadata": {
    "id": "2lZFqCV9Wa9e"
   },
   "outputs": [],
   "source": [
    "import pmdarima as pm\n",
    "from pmdarima.pipeline import Pipeline\n",
    "from pmdarima.preprocessing import BoxCoxEndogTransformer"
   ]
  },
  {
   "cell_type": "code",
   "execution_count": 4,
   "metadata": {
    "id": "F_0JXqxmWg1v"
   },
   "outputs": [],
   "source": [
    "wf1_df = pd.read_csv('data/wf1_data.csv')  \n",
    "wf2_df = pd.read_csv('data/wf2_data.csv')  \n",
    "wf3_df = pd.read_csv('data/wf3_data.csv')"
   ]
  },
  {
   "cell_type": "code",
   "execution_count": 5,
   "metadata": {
    "id": "pPZBz3C4WooI"
   },
   "outputs": [],
   "source": [
    "wf1_df['date'] = pd.to_datetime(wf1_df.date, format='%Y%m%d%H')\n",
    "wf2_df['date'] = pd.to_datetime(wf2_df.date, format='%Y%m%d%H')\n",
    "wf3_df['date'] = pd.to_datetime(wf3_df.date, format='%Y%m%d%H')"
   ]
  },
  {
   "cell_type": "code",
   "execution_count": 6,
   "metadata": {
    "id": "kjmEihsSW5xR"
   },
   "outputs": [],
   "source": [
    "wf1_df = wf1_df.set_index('date',    # <---- Set the index to be our timestamp data  \n",
    "                      drop=True)\n",
    "wf2_df = wf2_df.set_index('date',    # <---- Set the index to be our timestamp data  \n",
    "                      drop=True)\n",
    "wf3_df = wf3_df.set_index('date',    # <---- Set the index to be our timestamp data  \n",
    "                      drop=True)"
   ]
  },
  {
   "cell_type": "code",
   "execution_count": 7,
   "metadata": {
    "id": "yjsBSjGxXWjC"
   },
   "outputs": [],
   "source": [
    "data_wf1 = wf1_df[:-24]\n",
    "vtp_wf1 = wf1_df[-24:]\n",
    "\n",
    "data_wf2 = wf2_df[:-24]\n",
    "vtp_wf2 = wf2_df[-24:]\n",
    "\n",
    "data_wf3 = wf3_df[:-24]\n",
    "vtp_wf3 = wf3_df[-24:]"
   ]
  },
  {
   "cell_type": "code",
   "execution_count": 10,
   "metadata": {},
   "outputs": [
    {
     "data": {
      "text/html": [
       "<div>\n",
       "<style scoped>\n",
       "    .dataframe tbody tr th:only-of-type {\n",
       "        vertical-align: middle;\n",
       "    }\n",
       "\n",
       "    .dataframe tbody tr th {\n",
       "        vertical-align: top;\n",
       "    }\n",
       "\n",
       "    .dataframe thead th {\n",
       "        text-align: right;\n",
       "    }\n",
       "</style>\n",
       "<table border=\"1\" class=\"dataframe\">\n",
       "  <thead>\n",
       "    <tr style=\"text-align: right;\">\n",
       "      <th></th>\n",
       "      <th>wp</th>\n",
       "      <th>ws</th>\n",
       "    </tr>\n",
       "    <tr>\n",
       "      <th>date</th>\n",
       "      <th></th>\n",
       "      <th></th>\n",
       "    </tr>\n",
       "  </thead>\n",
       "  <tbody>\n",
       "    <tr>\n",
       "      <th>2010-06-30 00:00:00</th>\n",
       "      <td>NaN</td>\n",
       "      <td>6.59</td>\n",
       "    </tr>\n",
       "    <tr>\n",
       "      <th>2010-06-30 01:00:00</th>\n",
       "      <td>NaN</td>\n",
       "      <td>5.50</td>\n",
       "    </tr>\n",
       "    <tr>\n",
       "      <th>2010-06-30 02:00:00</th>\n",
       "      <td>NaN</td>\n",
       "      <td>4.51</td>\n",
       "    </tr>\n",
       "    <tr>\n",
       "      <th>2010-06-30 03:00:00</th>\n",
       "      <td>NaN</td>\n",
       "      <td>3.82</td>\n",
       "    </tr>\n",
       "    <tr>\n",
       "      <th>2010-06-30 04:00:00</th>\n",
       "      <td>NaN</td>\n",
       "      <td>3.55</td>\n",
       "    </tr>\n",
       "    <tr>\n",
       "      <th>2010-06-30 05:00:00</th>\n",
       "      <td>NaN</td>\n",
       "      <td>3.52</td>\n",
       "    </tr>\n",
       "    <tr>\n",
       "      <th>2010-06-30 06:00:00</th>\n",
       "      <td>NaN</td>\n",
       "      <td>3.54</td>\n",
       "    </tr>\n",
       "    <tr>\n",
       "      <th>2010-06-30 07:00:00</th>\n",
       "      <td>NaN</td>\n",
       "      <td>3.47</td>\n",
       "    </tr>\n",
       "    <tr>\n",
       "      <th>2010-06-30 08:00:00</th>\n",
       "      <td>NaN</td>\n",
       "      <td>3.44</td>\n",
       "    </tr>\n",
       "    <tr>\n",
       "      <th>2010-06-30 09:00:00</th>\n",
       "      <td>NaN</td>\n",
       "      <td>3.67</td>\n",
       "    </tr>\n",
       "    <tr>\n",
       "      <th>2010-06-30 10:00:00</th>\n",
       "      <td>NaN</td>\n",
       "      <td>4.28</td>\n",
       "    </tr>\n",
       "    <tr>\n",
       "      <th>2010-06-30 11:00:00</th>\n",
       "      <td>NaN</td>\n",
       "      <td>5.14</td>\n",
       "    </tr>\n",
       "    <tr>\n",
       "      <th>2010-06-30 12:00:00</th>\n",
       "      <td>NaN</td>\n",
       "      <td>6.05</td>\n",
       "    </tr>\n",
       "    <tr>\n",
       "      <th>2010-06-30 13:00:00</th>\n",
       "      <td>NaN</td>\n",
       "      <td>6.85</td>\n",
       "    </tr>\n",
       "    <tr>\n",
       "      <th>2010-06-30 14:00:00</th>\n",
       "      <td>NaN</td>\n",
       "      <td>7.47</td>\n",
       "    </tr>\n",
       "    <tr>\n",
       "      <th>2010-06-30 15:00:00</th>\n",
       "      <td>NaN</td>\n",
       "      <td>7.82</td>\n",
       "    </tr>\n",
       "    <tr>\n",
       "      <th>2010-06-30 16:00:00</th>\n",
       "      <td>NaN</td>\n",
       "      <td>7.81</td>\n",
       "    </tr>\n",
       "    <tr>\n",
       "      <th>2010-06-30 17:00:00</th>\n",
       "      <td>NaN</td>\n",
       "      <td>7.59</td>\n",
       "    </tr>\n",
       "    <tr>\n",
       "      <th>2010-06-30 18:00:00</th>\n",
       "      <td>NaN</td>\n",
       "      <td>7.36</td>\n",
       "    </tr>\n",
       "    <tr>\n",
       "      <th>2010-06-30 19:00:00</th>\n",
       "      <td>NaN</td>\n",
       "      <td>7.25</td>\n",
       "    </tr>\n",
       "    <tr>\n",
       "      <th>2010-06-30 20:00:00</th>\n",
       "      <td>NaN</td>\n",
       "      <td>7.09</td>\n",
       "    </tr>\n",
       "    <tr>\n",
       "      <th>2010-06-30 21:00:00</th>\n",
       "      <td>NaN</td>\n",
       "      <td>6.63</td>\n",
       "    </tr>\n",
       "    <tr>\n",
       "      <th>2010-06-30 22:00:00</th>\n",
       "      <td>NaN</td>\n",
       "      <td>5.74</td>\n",
       "    </tr>\n",
       "    <tr>\n",
       "      <th>2010-06-30 23:00:00</th>\n",
       "      <td>NaN</td>\n",
       "      <td>4.64</td>\n",
       "    </tr>\n",
       "  </tbody>\n",
       "</table>\n",
       "</div>"
      ],
      "text/plain": [
       "                     wp    ws\n",
       "date                         \n",
       "2010-06-30 00:00:00 NaN  6.59\n",
       "2010-06-30 01:00:00 NaN  5.50\n",
       "2010-06-30 02:00:00 NaN  4.51\n",
       "2010-06-30 03:00:00 NaN  3.82\n",
       "2010-06-30 04:00:00 NaN  3.55\n",
       "2010-06-30 05:00:00 NaN  3.52\n",
       "2010-06-30 06:00:00 NaN  3.54\n",
       "2010-06-30 07:00:00 NaN  3.47\n",
       "2010-06-30 08:00:00 NaN  3.44\n",
       "2010-06-30 09:00:00 NaN  3.67\n",
       "2010-06-30 10:00:00 NaN  4.28\n",
       "2010-06-30 11:00:00 NaN  5.14\n",
       "2010-06-30 12:00:00 NaN  6.05\n",
       "2010-06-30 13:00:00 NaN  6.85\n",
       "2010-06-30 14:00:00 NaN  7.47\n",
       "2010-06-30 15:00:00 NaN  7.82\n",
       "2010-06-30 16:00:00 NaN  7.81\n",
       "2010-06-30 17:00:00 NaN  7.59\n",
       "2010-06-30 18:00:00 NaN  7.36\n",
       "2010-06-30 19:00:00 NaN  7.25\n",
       "2010-06-30 20:00:00 NaN  7.09\n",
       "2010-06-30 21:00:00 NaN  6.63\n",
       "2010-06-30 22:00:00 NaN  5.74\n",
       "2010-06-30 23:00:00 NaN  4.64"
      ]
     },
     "execution_count": 10,
     "metadata": {},
     "output_type": "execute_result"
    }
   ],
   "source": [
    "vtp_wf1"
   ]
  },
  {
   "cell_type": "code",
   "execution_count": 8,
   "metadata": {},
   "outputs": [],
   "source": [
    "#data_limit = 720  #30 days * 24h\n",
    "data_limit = 2160 #30 days * 24h * 3 months"
   ]
  },
  {
   "cell_type": "code",
   "execution_count": 9,
   "metadata": {
    "id": "de-cRlJ3W9Gk"
   },
   "outputs": [],
   "source": [
    "data_wf3_r = data_wf3.resample('1H').mean()\n",
    "missing_values3 = data_wf3_r[data_wf3_r.isnull()['wp']]"
   ]
  },
  {
   "cell_type": "code",
   "execution_count": 10,
   "metadata": {
    "colab": {
     "base_uri": "https://localhost:8080/",
     "height": 455
    },
    "id": "ifop3DEAXebL",
    "outputId": "ae1fb4bc-8672-4c6b-b277-84abad74196e"
   },
   "outputs": [
    {
     "data": {
      "text/html": [
       "<div>\n",
       "<style scoped>\n",
       "    .dataframe tbody tr th:only-of-type {\n",
       "        vertical-align: middle;\n",
       "    }\n",
       "\n",
       "    .dataframe tbody tr th {\n",
       "        vertical-align: top;\n",
       "    }\n",
       "\n",
       "    .dataframe thead th {\n",
       "        text-align: right;\n",
       "    }\n",
       "</style>\n",
       "<table border=\"1\" class=\"dataframe\">\n",
       "  <thead>\n",
       "    <tr style=\"text-align: right;\">\n",
       "      <th></th>\n",
       "      <th>wp</th>\n",
       "      <th>ws</th>\n",
       "    </tr>\n",
       "    <tr>\n",
       "      <th>date</th>\n",
       "      <th></th>\n",
       "      <th></th>\n",
       "    </tr>\n",
       "  </thead>\n",
       "  <tbody>\n",
       "    <tr>\n",
       "      <th>2009-07-01 01:00:00</th>\n",
       "      <td>0.105000</td>\n",
       "      <td>3.810000</td>\n",
       "    </tr>\n",
       "    <tr>\n",
       "      <th>2009-07-01 02:00:00</th>\n",
       "      <td>0.033000</td>\n",
       "      <td>3.680000</td>\n",
       "    </tr>\n",
       "    <tr>\n",
       "      <th>2009-07-01 03:00:00</th>\n",
       "      <td>0.022000</td>\n",
       "      <td>3.660000</td>\n",
       "    </tr>\n",
       "    <tr>\n",
       "      <th>2009-07-01 04:00:00</th>\n",
       "      <td>0.039000</td>\n",
       "      <td>3.700000</td>\n",
       "    </tr>\n",
       "    <tr>\n",
       "      <th>2009-07-01 05:00:00</th>\n",
       "      <td>0.257337</td>\n",
       "      <td>4.333266</td>\n",
       "    </tr>\n",
       "    <tr>\n",
       "      <th>...</th>\n",
       "      <td>...</td>\n",
       "      <td>...</td>\n",
       "    </tr>\n",
       "    <tr>\n",
       "      <th>2010-06-29 19:00:00</th>\n",
       "      <td>0.468000</td>\n",
       "      <td>9.970000</td>\n",
       "    </tr>\n",
       "    <tr>\n",
       "      <th>2010-06-29 20:00:00</th>\n",
       "      <td>0.661000</td>\n",
       "      <td>9.860000</td>\n",
       "    </tr>\n",
       "    <tr>\n",
       "      <th>2010-06-29 21:00:00</th>\n",
       "      <td>0.485000</td>\n",
       "      <td>9.480000</td>\n",
       "    </tr>\n",
       "    <tr>\n",
       "      <th>2010-06-29 22:00:00</th>\n",
       "      <td>0.257337</td>\n",
       "      <td>4.333266</td>\n",
       "    </tr>\n",
       "    <tr>\n",
       "      <th>2010-06-29 23:00:00</th>\n",
       "      <td>0.402000</td>\n",
       "      <td>8.020000</td>\n",
       "    </tr>\n",
       "  </tbody>\n",
       "</table>\n",
       "<p>8735 rows × 2 columns</p>\n",
       "</div>"
      ],
      "text/plain": [
       "                           wp        ws\n",
       "date                                   \n",
       "2009-07-01 01:00:00  0.105000  3.810000\n",
       "2009-07-01 02:00:00  0.033000  3.680000\n",
       "2009-07-01 03:00:00  0.022000  3.660000\n",
       "2009-07-01 04:00:00  0.039000  3.700000\n",
       "2009-07-01 05:00:00  0.257337  4.333266\n",
       "...                       ...       ...\n",
       "2010-06-29 19:00:00  0.468000  9.970000\n",
       "2010-06-29 20:00:00  0.661000  9.860000\n",
       "2010-06-29 21:00:00  0.485000  9.480000\n",
       "2010-06-29 22:00:00  0.257337  4.333266\n",
       "2010-06-29 23:00:00  0.402000  8.020000\n",
       "\n",
       "[8735 rows x 2 columns]"
      ]
     },
     "execution_count": 10,
     "metadata": {},
     "output_type": "execute_result"
    }
   ],
   "source": [
    "from sklearn.impute import KNNImputer\n",
    "imputer = KNNImputer() # To obtain better results we may want to have more neighbors, of course that in a real setting\n",
    "                       # this is a parameter that should be tunned\n",
    "    \n",
    "data_imputed3 = imputer.fit_transform(data_wf3_r) # This may take a bit to run\n",
    "data_wf3_imputed2 = pd.DataFrame(data_imputed3, index=data_wf3_r.index, columns=data_wf3_r.columns)\n",
    "data_wf3_imputed2"
   ]
  },
  {
   "cell_type": "code",
   "execution_count": 11,
   "metadata": {},
   "outputs": [],
   "source": [
    "def build_some_features(df_, num_periods_lagged=1, num_periods_diffed=0, weekday=False, month=False, hour=False,rolling=[], holidays=False):\n",
    "    \"\"\"\n",
    "    Builds some features by calculating differences between periods\n",
    "    \"\"\"\n",
    "    # make a copy\n",
    "    df_ = df_.copy()\n",
    "    # for a few values, get the lags\n",
    "    for i in range(1, num_periods_lagged+1):\n",
    "        # make a new feature, with the lags in the observed values column\n",
    "        df_['lagged_%s' % str(i)] = df_['wp'].shift(i)\n",
    "    # for a few values, get the diffs\n",
    "    for i in range(1, num_periods_diffed+1):\n",
    "        # make a new feature, with the lags in the observed values column\n",
    "        df_['diff_%s' % str(i)] = df_['wp'].diff(i)\n",
    "    for stat in rolling:\n",
    "        df_['rolling_%s'%str(stat)] = df_['wp'].rolling('7D').aggregate(stat)\n",
    "    if weekday == True:\n",
    "        df_['sin_weekday'] = np.sin(2*np.pi*df_.index.weekday/7)\n",
    "        df_['cos_weekday'] = np.cos(2*np.pi*df_.index.weekday/7)\n",
    "    if month == True:\n",
    "        df_['sin_month'] = np.sin(2*np.pi*df_.index.month/12)\n",
    "        df_['cos_month'] = np.cos(2*np.pi*df_.index.month/12)\n",
    "    if hour == True:\n",
    "        df_['sin_hour'] = np.sin(2*np.pi*df_.index.hour/12)\n",
    "        df_['cos_hour'] = np.cos(2*np.pi*df_.index.hour/12)\n",
    "        \n",
    "    if holidays == True:\n",
    "        holidays = df_[((df_.index.month==12) & (df_.index.day==25))\n",
    "              |((df_.index.month==1) & (df_.index.day==1))].wp\n",
    "        df_['holidays'] = holidays + 1\n",
    "        df_['holidays'] = df_['holidays'].fillna(0)\n",
    "    return df_"
   ]
  },
  {
   "cell_type": "code",
   "execution_count": 12,
   "metadata": {},
   "outputs": [
    {
     "data": {
      "text/html": [
       "<div>\n",
       "<style scoped>\n",
       "    .dataframe tbody tr th:only-of-type {\n",
       "        vertical-align: middle;\n",
       "    }\n",
       "\n",
       "    .dataframe tbody tr th {\n",
       "        vertical-align: top;\n",
       "    }\n",
       "\n",
       "    .dataframe thead th {\n",
       "        text-align: right;\n",
       "    }\n",
       "</style>\n",
       "<table border=\"1\" class=\"dataframe\">\n",
       "  <thead>\n",
       "    <tr style=\"text-align: right;\">\n",
       "      <th></th>\n",
       "      <th>wp</th>\n",
       "      <th>ws</th>\n",
       "      <th>lagged_1</th>\n",
       "      <th>lagged_2</th>\n",
       "      <th>lagged_3</th>\n",
       "      <th>lagged_4</th>\n",
       "      <th>lagged_5</th>\n",
       "      <th>lagged_6</th>\n",
       "      <th>lagged_7</th>\n",
       "      <th>lagged_8</th>\n",
       "      <th>...</th>\n",
       "      <th>sin_weekday</th>\n",
       "      <th>cos_weekday</th>\n",
       "      <th>sin_month</th>\n",
       "      <th>cos_month</th>\n",
       "      <th>sin_hour</th>\n",
       "      <th>cos_hour</th>\n",
       "      <th>rolling_max</th>\n",
       "      <th>rolling_min</th>\n",
       "      <th>rolling_mean</th>\n",
       "      <th>rolling_std</th>\n",
       "    </tr>\n",
       "    <tr>\n",
       "      <th>date</th>\n",
       "      <th></th>\n",
       "      <th></th>\n",
       "      <th></th>\n",
       "      <th></th>\n",
       "      <th></th>\n",
       "      <th></th>\n",
       "      <th></th>\n",
       "      <th></th>\n",
       "      <th></th>\n",
       "      <th></th>\n",
       "      <th></th>\n",
       "      <th></th>\n",
       "      <th></th>\n",
       "      <th></th>\n",
       "      <th></th>\n",
       "      <th></th>\n",
       "      <th></th>\n",
       "      <th></th>\n",
       "      <th></th>\n",
       "      <th></th>\n",
       "      <th></th>\n",
       "    </tr>\n",
       "  </thead>\n",
       "  <tbody>\n",
       "    <tr>\n",
       "      <th>2009-07-02 01:00:00</th>\n",
       "      <td>0.0</td>\n",
       "      <td>1.15</td>\n",
       "      <td>0.0</td>\n",
       "      <td>0.0</td>\n",
       "      <td>0.257337</td>\n",
       "      <td>0.033000</td>\n",
       "      <td>0.050000</td>\n",
       "      <td>0.257337</td>\n",
       "      <td>0.000000</td>\n",
       "      <td>0.257337</td>\n",
       "      <td>...</td>\n",
       "      <td>0.433884</td>\n",
       "      <td>-0.900969</td>\n",
       "      <td>-0.5</td>\n",
       "      <td>-0.866025</td>\n",
       "      <td>0.500000</td>\n",
       "      <td>8.660254e-01</td>\n",
       "      <td>0.0</td>\n",
       "      <td>0.0</td>\n",
       "      <td>0.0</td>\n",
       "      <td>0.0</td>\n",
       "    </tr>\n",
       "    <tr>\n",
       "      <th>2009-07-02 02:00:00</th>\n",
       "      <td>0.0</td>\n",
       "      <td>0.80</td>\n",
       "      <td>0.0</td>\n",
       "      <td>0.0</td>\n",
       "      <td>0.000000</td>\n",
       "      <td>0.257337</td>\n",
       "      <td>0.033000</td>\n",
       "      <td>0.050000</td>\n",
       "      <td>0.257337</td>\n",
       "      <td>0.000000</td>\n",
       "      <td>...</td>\n",
       "      <td>0.433884</td>\n",
       "      <td>-0.900969</td>\n",
       "      <td>-0.5</td>\n",
       "      <td>-0.866025</td>\n",
       "      <td>0.866025</td>\n",
       "      <td>5.000000e-01</td>\n",
       "      <td>0.0</td>\n",
       "      <td>0.0</td>\n",
       "      <td>0.0</td>\n",
       "      <td>0.0</td>\n",
       "    </tr>\n",
       "    <tr>\n",
       "      <th>2009-07-02 03:00:00</th>\n",
       "      <td>0.0</td>\n",
       "      <td>0.66</td>\n",
       "      <td>0.0</td>\n",
       "      <td>0.0</td>\n",
       "      <td>0.000000</td>\n",
       "      <td>0.000000</td>\n",
       "      <td>0.257337</td>\n",
       "      <td>0.033000</td>\n",
       "      <td>0.050000</td>\n",
       "      <td>0.257337</td>\n",
       "      <td>...</td>\n",
       "      <td>0.433884</td>\n",
       "      <td>-0.900969</td>\n",
       "      <td>-0.5</td>\n",
       "      <td>-0.866025</td>\n",
       "      <td>1.000000</td>\n",
       "      <td>6.123234e-17</td>\n",
       "      <td>0.0</td>\n",
       "      <td>0.0</td>\n",
       "      <td>0.0</td>\n",
       "      <td>0.0</td>\n",
       "    </tr>\n",
       "    <tr>\n",
       "      <th>2009-07-02 04:00:00</th>\n",
       "      <td>0.0</td>\n",
       "      <td>0.63</td>\n",
       "      <td>0.0</td>\n",
       "      <td>0.0</td>\n",
       "      <td>0.000000</td>\n",
       "      <td>0.000000</td>\n",
       "      <td>0.000000</td>\n",
       "      <td>0.257337</td>\n",
       "      <td>0.033000</td>\n",
       "      <td>0.050000</td>\n",
       "      <td>...</td>\n",
       "      <td>0.433884</td>\n",
       "      <td>-0.900969</td>\n",
       "      <td>-0.5</td>\n",
       "      <td>-0.866025</td>\n",
       "      <td>0.866025</td>\n",
       "      <td>-5.000000e-01</td>\n",
       "      <td>0.0</td>\n",
       "      <td>0.0</td>\n",
       "      <td>0.0</td>\n",
       "      <td>0.0</td>\n",
       "    </tr>\n",
       "    <tr>\n",
       "      <th>2009-07-02 05:00:00</th>\n",
       "      <td>0.0</td>\n",
       "      <td>0.56</td>\n",
       "      <td>0.0</td>\n",
       "      <td>0.0</td>\n",
       "      <td>0.000000</td>\n",
       "      <td>0.000000</td>\n",
       "      <td>0.000000</td>\n",
       "      <td>0.000000</td>\n",
       "      <td>0.257337</td>\n",
       "      <td>0.033000</td>\n",
       "      <td>...</td>\n",
       "      <td>0.433884</td>\n",
       "      <td>-0.900969</td>\n",
       "      <td>-0.5</td>\n",
       "      <td>-0.866025</td>\n",
       "      <td>0.500000</td>\n",
       "      <td>-8.660254e-01</td>\n",
       "      <td>0.0</td>\n",
       "      <td>0.0</td>\n",
       "      <td>0.0</td>\n",
       "      <td>0.0</td>\n",
       "    </tr>\n",
       "  </tbody>\n",
       "</table>\n",
       "<p>5 rows × 36 columns</p>\n",
       "</div>"
      ],
      "text/plain": [
       "                      wp    ws  lagged_1  lagged_2  lagged_3  lagged_4  \\\n",
       "date                                                                     \n",
       "2009-07-02 01:00:00  0.0  1.15       0.0       0.0  0.257337  0.033000   \n",
       "2009-07-02 02:00:00  0.0  0.80       0.0       0.0  0.000000  0.257337   \n",
       "2009-07-02 03:00:00  0.0  0.66       0.0       0.0  0.000000  0.000000   \n",
       "2009-07-02 04:00:00  0.0  0.63       0.0       0.0  0.000000  0.000000   \n",
       "2009-07-02 05:00:00  0.0  0.56       0.0       0.0  0.000000  0.000000   \n",
       "\n",
       "                     lagged_5  lagged_6  lagged_7  lagged_8  ...  sin_weekday  \\\n",
       "date                                                         ...                \n",
       "2009-07-02 01:00:00  0.050000  0.257337  0.000000  0.257337  ...     0.433884   \n",
       "2009-07-02 02:00:00  0.033000  0.050000  0.257337  0.000000  ...     0.433884   \n",
       "2009-07-02 03:00:00  0.257337  0.033000  0.050000  0.257337  ...     0.433884   \n",
       "2009-07-02 04:00:00  0.000000  0.257337  0.033000  0.050000  ...     0.433884   \n",
       "2009-07-02 05:00:00  0.000000  0.000000  0.257337  0.033000  ...     0.433884   \n",
       "\n",
       "                     cos_weekday  sin_month  cos_month  sin_hour  \\\n",
       "date                                                               \n",
       "2009-07-02 01:00:00    -0.900969       -0.5  -0.866025  0.500000   \n",
       "2009-07-02 02:00:00    -0.900969       -0.5  -0.866025  0.866025   \n",
       "2009-07-02 03:00:00    -0.900969       -0.5  -0.866025  1.000000   \n",
       "2009-07-02 04:00:00    -0.900969       -0.5  -0.866025  0.866025   \n",
       "2009-07-02 05:00:00    -0.900969       -0.5  -0.866025  0.500000   \n",
       "\n",
       "                         cos_hour  rolling_max  rolling_min  rolling_mean  \\\n",
       "date                                                                        \n",
       "2009-07-02 01:00:00  8.660254e-01          0.0          0.0           0.0   \n",
       "2009-07-02 02:00:00  5.000000e-01          0.0          0.0           0.0   \n",
       "2009-07-02 03:00:00  6.123234e-17          0.0          0.0           0.0   \n",
       "2009-07-02 04:00:00 -5.000000e-01          0.0          0.0           0.0   \n",
       "2009-07-02 05:00:00 -8.660254e-01          0.0          0.0           0.0   \n",
       "\n",
       "                     rolling_std  \n",
       "date                              \n",
       "2009-07-02 01:00:00          0.0  \n",
       "2009-07-02 02:00:00          0.0  \n",
       "2009-07-02 03:00:00          0.0  \n",
       "2009-07-02 04:00:00          0.0  \n",
       "2009-07-02 05:00:00          0.0  \n",
       "\n",
       "[5 rows x 36 columns]"
      ]
     },
     "execution_count": 12,
     "metadata": {},
     "output_type": "execute_result"
    }
   ],
   "source": [
    "data_wf3_imputed = build_some_features(data_wf3_imputed2,\n",
    "                                       num_periods_lagged=24,\n",
    "                                       num_periods_diffed=0, \n",
    "                                       weekday=True, \n",
    "                                       month=True, \n",
    "                                       hour=True,rolling=[],\n",
    "                                       holidays=False)\n",
    "\n",
    "data_wf3_imputed = data_wf3_imputed.dropna(axis=0)\n",
    "\n",
    "data_wf3_imputed['rolling_max'] = data_wf3_imputed['wp'].rolling('24h').max().fillna(0)\n",
    "data_wf3_imputed['rolling_min'] = data_wf3_imputed['wp'].rolling('24h').min().fillna(0)\n",
    "data_wf3_imputed['rolling_mean'] = data_wf3_imputed['wp'].rolling('24h').mean().fillna(0)\n",
    "data_wf3_imputed['rolling_std'] = data_wf3_imputed['wp'].rolling('24h').std().fillna(0)\n",
    "\n",
    "data_wf3_imputed.head()"
   ]
  },
  {
   "cell_type": "code",
   "execution_count": 13,
   "metadata": {
    "colab": {
     "base_uri": "https://localhost:8080/",
     "height": 309
    },
    "id": "r_evq7GqXfEd",
    "outputId": "3d328cbf-e3d8-4cfb-d345-0eb762008891"
   },
   "outputs": [],
   "source": [
    "data_wf3_imputed = data_wf3_imputed.sort_index()\n",
    "data3 = data_wf3_imputed\n",
    "ws3 = data3.drop(['wp'],axis = 1)\n",
    "data3 = data3['wp'] #data3.drop(['ws'],axis = 1)\n",
    "#data3.plot()"
   ]
  },
  {
   "cell_type": "code",
   "execution_count": 14,
   "metadata": {
    "id": "ZQnjAJ7FXrNs"
   },
   "outputs": [],
   "source": [
    "data3_c = data3\n",
    "ws3_c = ws3"
   ]
  },
  {
   "cell_type": "code",
   "execution_count": 15,
   "metadata": {
    "id": "0PfYEfM4YXCY"
   },
   "outputs": [],
   "source": [
    "#data3_s = data3_c[-data_limit:]\n",
    "#ws3_s = ws3_c[-data_limit:]\n",
    "data3_s = data3_c\n",
    "ws3_s = ws3_c"
   ]
  },
  {
   "cell_type": "code",
   "execution_count": 16,
   "metadata": {
    "id": "QkFjpUwgYtp1"
   },
   "outputs": [],
   "source": [
    "data3_t_s = data3_s[:-24]\n",
    "data3_test_s = data3_s[-24:]\n",
    "\n",
    "data3_val_s = data3_t_s[-24:]\n",
    "data3_train_s = data3_t_s[:-24]\n",
    " \n",
    "ws3_t_s = ws3_s[:-24]\n",
    "ws3_test_s = ws3_s[-24:]\n",
    "\n",
    "ws3_val_s = ws3_t_s[-24:]\n",
    "ws3_train_s = ws3_t_s[:-24]"
   ]
  },
  {
   "cell_type": "code",
   "execution_count": 17,
   "metadata": {
    "colab": {
     "base_uri": "https://localhost:8080/",
     "height": 780
    },
    "id": "213_GPSvYu4t",
    "outputId": "17469bfe-84e3-4390-da96-785de767d63c"
   },
   "outputs": [
    {
     "name": "stdout",
     "output_type": "stream",
     "text": [
      "Performing stepwise search to minimize aic\n",
      " ARIMA(2,0,2)(0,0,0)[0] intercept   : AIC=-42316.113, Time=5.38 sec\n",
      " ARIMA(0,0,0)(0,0,0)[0] intercept   : AIC=-32080.026, Time=3.71 sec\n",
      " ARIMA(1,0,0)(0,0,0)[0] intercept   : AIC=-47202.066, Time=2.74 sec\n",
      " ARIMA(0,0,1)(0,0,0)[0] intercept   : AIC=-36234.724, Time=4.51 sec\n",
      " ARIMA(0,0,0)(0,0,0)[0]             : AIC=36189.333, Time=2.50 sec\n",
      " ARIMA(2,0,0)(0,0,0)[0] intercept   : AIC=-46672.272, Time=3.58 sec\n",
      " ARIMA(1,0,1)(0,0,0)[0] intercept   : AIC=-43692.565, Time=3.60 sec\n",
      " ARIMA(2,0,1)(0,0,0)[0] intercept   : AIC=-43834.970, Time=4.20 sec\n",
      " ARIMA(1,0,0)(0,0,0)[0]             : AIC=-47218.428, Time=3.52 sec\n",
      " ARIMA(2,0,0)(0,0,0)[0]             : AIC=-46704.607, Time=3.55 sec\n",
      " ARIMA(1,0,1)(0,0,0)[0]             : AIC=-43723.052, Time=4.74 sec\n",
      " ARIMA(0,0,1)(0,0,0)[0]             : AIC=-36239.181, Time=4.19 sec\n",
      " ARIMA(2,0,1)(0,0,0)[0]             : AIC=-43899.360, Time=3.99 sec\n",
      "\n",
      "Best model:  ARIMA(1,0,0)(0,0,0)[0]          \n",
      "Total fit time: 50.277 seconds\n"
     ]
    },
    {
     "data": {
      "text/plain": [
       "Pipeline(steps=[('arima',\n",
       "                 AutoARIMA(maxiter=20, method='nm', suppress_warnings=True,\n",
       "                           trace=True))])"
      ]
     },
     "execution_count": 17,
     "metadata": {},
     "output_type": "execute_result"
    }
   ],
   "source": [
    "sarimax_pipeline_exog = Pipeline([  #The boxcox transform has been removed because it messes with the exogenous input\n",
    "    ('arima', pm.AutoARIMA(trace=True,\n",
    "                           suppress_warnings=True,\n",
    "                           method='nm',\n",
    "                           maxiter=20,\n",
    "                           \n",
    "                          )\n",
    "    )\n",
    "])\n",
    "#                           m=24, \n",
    "\n",
    "\n",
    "sarimax_pipeline_exog.fit(data3_t_s,ws3_t_s)"
   ]
  },
  {
   "cell_type": "code",
   "execution_count": 18,
   "metadata": {},
   "outputs": [],
   "source": [
    "wf3_predict = sarimax_pipeline_exog.predict(24,ws3_test_s)"
   ]
  },
  {
   "cell_type": "code",
   "execution_count": 19,
   "metadata": {
    "colab": {
     "base_uri": "https://localhost:8080/",
     "height": 283
    },
    "id": "r54hRJ4pZZHV",
    "outputId": "0ec2bcd0-6fdb-4851-aced-54ee1c16c6e6"
   },
   "outputs": [
    {
     "data": {
      "text/plain": [
       "<matplotlib.legend.Legend at 0x12b796100>"
      ]
     },
     "execution_count": 19,
     "metadata": {},
     "output_type": "execute_result"
    },
    {
     "data": {
      "image/png": "[encoded data removed]",
      "text/plain": [
       "<Figure size 1152x288 with 1 Axes>"
      ]
     },
     "metadata": {
      "needs_background": "light"
     },
     "output_type": "display_data"
    }
   ],
   "source": [
    "plt.plot(data3_test_s, label='original')\n",
    "plt.plot(data3_test_s.index, wf3_predict, label='sarimax_exog')\n",
    "plt.legend()"
   ]
  },
  {
   "cell_type": "code",
   "execution_count": 20,
   "metadata": {
    "id": "ES_na_cFaDLo"
   },
   "outputs": [
    {
     "name": "stdout",
     "output_type": "stream",
     "text": [
      "Performing stepwise search to minimize aic\n",
      " ARIMA(2,0,2)(0,0,0)[0] intercept   : AIC=-64345.951, Time=4.98 sec\n",
      " ARIMA(0,0,0)(0,0,0)[0] intercept   : AIC=-54921.837, Time=2.73 sec\n",
      " ARIMA(1,0,0)(0,0,0)[0] intercept   : AIC=-70688.089, Time=2.88 sec\n",
      " ARIMA(0,0,1)(0,0,0)[0] intercept   : AIC=-60480.324, Time=3.64 sec\n",
      " ARIMA(0,0,0)(0,0,0)[0]             : AIC=13363.352, Time=4.31 sec\n",
      " ARIMA(2,0,0)(0,0,0)[0] intercept   : AIC=-69055.712, Time=4.24 sec\n",
      " ARIMA(1,0,1)(0,0,0)[0] intercept   : AIC=-65066.834, Time=3.81 sec\n",
      " ARIMA(2,0,1)(0,0,0)[0] intercept   : AIC=-64627.215, Time=4.07 sec\n",
      " ARIMA(1,0,0)(0,0,0)[0]             : AIC=-70695.316, Time=3.93 sec\n",
      " ARIMA(2,0,0)(0,0,0)[0]             : AIC=-69058.599, Time=3.69 sec\n",
      " ARIMA(1,0,1)(0,0,0)[0]             : AIC=-65068.854, Time=5.21 sec\n",
      " ARIMA(0,0,1)(0,0,0)[0]             : AIC=-60458.876, Time=4.17 sec\n",
      " ARIMA(2,0,1)(0,0,0)[0]             : AIC=-64629.200, Time=5.03 sec\n",
      "\n",
      "Best model:  ARIMA(1,0,0)(0,0,0)[0]          \n",
      "Total fit time: 52.727 seconds\n"
     ]
    },
    {
     "data": {
      "text/plain": [
       "Pipeline(steps=[('arima',\n",
       "                 AutoARIMA(maxiter=20, method='nm', suppress_warnings=True,\n",
       "                           trace=True))])"
      ]
     },
     "execution_count": 20,
     "metadata": {},
     "output_type": "execute_result"
    }
   ],
   "source": [
    "data_wf2_r = data_wf2.resample('1H').mean()\n",
    "missing_values2 = data_wf2_r[data_wf2_r.isnull()['wp']]\n",
    "\n",
    "imputer = KNNImputer() # To obtain better results we may want to have more neighbors, of course that in a real setting\n",
    "                       # this is a parameter that should be tunned\n",
    "    \n",
    "data_imputed2 = imputer.fit_transform(data_wf2_r) # This may take a bit to run\n",
    "data_wf2_imputed = pd.DataFrame(data_imputed2, index=data_wf2_r.index, columns=data_wf2_r.columns)\n",
    "data_wf2_imputed2 = data_wf2_imputed.sort_index()\n",
    "\n",
    "data_wf2_imputed = build_some_features(data_wf2_imputed2,\n",
    "                                       num_periods_lagged=24,\n",
    "                                       num_periods_diffed=0, \n",
    "                                       weekday=True, \n",
    "                                       month=True, \n",
    "                                       hour=True,rolling=[],\n",
    "                                       holidays=False)\n",
    "\n",
    "data_wf2_imputed = data_wf2_imputed.dropna(axis=0)\n",
    "data_wf2_imputed['rolling_max'] = data_wf2_imputed['wp'].rolling('24h').max().fillna(0)\n",
    "data_wf2_imputed['rolling_min'] = data_wf2_imputed['wp'].rolling('24h').min().fillna(0)\n",
    "data_wf2_imputed['rolling_mean'] = data_wf2_imputed['wp'].rolling('24h').mean().fillna(0)\n",
    "data_wf2_imputed['rolling_std'] = data_wf2_imputed['wp'].rolling('24h').std().fillna(0)\n",
    "\n",
    "\n",
    "\n",
    "data2 = data_wf2_imputed\n",
    "#ws2 = data2['ws']\n",
    "\n",
    "ws2 = data2.drop(['wp'],axis = 1)\n",
    "data2 = data2['wp']\n",
    "\n",
    "data2_c = data2\n",
    "ws2_c = ws2\n",
    "#data2_s = data2_c[-data_limit:]\n",
    "#ws2_s = ws2_c[-data_limit:]\n",
    "data2_s = data2_c\n",
    "ws2_s = ws2_c\n",
    "data2_t_s = data2_s[:-24]\n",
    "data2_test_s = data2_s[-24:]\n",
    "\n",
    "data2_val_s = data2_t_s[-24:]\n",
    "data2_train_s = data2_t_s[:-24]\n",
    " \n",
    "ws2_t_s = ws2_s[:-24]\n",
    "ws2_test_s = ws2_s[-24:]\n",
    "\n",
    "ws2_val_s = ws2_t_s[-24:]\n",
    "ws2_train_s = ws2_t_s[:-24]\n",
    "\n",
    "sarimax_pipeline_exog = Pipeline([  #The boxcox transform has been removed because it messes with the exogenous input\n",
    "    ('arima', pm.AutoARIMA(trace=True,\n",
    "                           suppress_warnings=True,\n",
    "                           method='nm',\n",
    "                           maxiter=20,\n",
    "                           \n",
    "                          )\n",
    "    )\n",
    "])\n",
    "\n",
    "sarimax_pipeline_exog.fit(data2_t_s,ws2_t_s)"
   ]
  },
  {
   "cell_type": "code",
   "execution_count": 21,
   "metadata": {},
   "outputs": [
    {
     "data": {
      "text/plain": [
       "<matplotlib.legend.Legend at 0x1294866d0>"
      ]
     },
     "execution_count": 21,
     "metadata": {},
     "output_type": "execute_result"
    },
    {
     "data": {
      "image/png": "[encoded data removed]",
      "text/plain": [
       "<Figure size 1152x288 with 1 Axes>"
      ]
     },
     "metadata": {
      "needs_background": "light"
     },
     "output_type": "display_data"
    }
   ],
   "source": [
    "wf2_predict = sarimax_pipeline_exog.predict(24,ws2_test_s)\n",
    "plt.plot(data2_test_s, label='original')\n",
    "plt.plot(data2_test_s.index, wf2_predict, label='sarimax_exog')\n",
    "plt.legend()"
   ]
  },
  {
   "cell_type": "code",
   "execution_count": 22,
   "metadata": {},
   "outputs": [],
   "source": [
    "#####################\n",
    "#predictions = np.exp(sarimax.predict_in_sample())\n",
    "#mae = mean_absolute_error(wf2_predict,emissions_train)\n",
    "\n",
    "#print(mae)\n",
    "#####################"
   ]
  },
  {
   "cell_type": "code",
   "execution_count": 25,
   "metadata": {},
   "outputs": [
    {
     "name": "stdout",
     "output_type": "stream",
     "text": [
      "Performing stepwise search to minimize aic\n",
      " ARIMA(2,0,2)(0,0,0)[0] intercept   : AIC=-28441.012, Time=4.60 sec\n",
      " ARIMA(0,0,0)(0,0,0)[0] intercept   : AIC=-72259.149, Time=2.81 sec\n",
      " ARIMA(1,0,0)(0,0,0)[0] intercept   : AIC=-47538.945, Time=2.72 sec\n",
      " ARIMA(0,0,1)(0,0,0)[0] intercept   : AIC=-15871.861, Time=3.55 sec\n",
      " ARIMA(0,0,0)(0,0,0)[0]             : AIC=-3948.589, Time=2.80 sec\n",
      " ARIMA(1,0,1)(0,0,0)[0] intercept   : AIC=-54790.978, Time=3.58 sec\n",
      "\n",
      "Best model:  ARIMA(0,0,0)(0,0,0)[0] intercept\n",
      "Total fit time: 20.103 seconds\n"
     ]
    },
    {
     "data": {
      "text/plain": [
       "Pipeline(steps=[('arima',\n",
       "                 AutoARIMA(maxiter=20, method='nm', suppress_warnings=True,\n",
       "                           trace=True))])"
      ]
     },
     "execution_count": 25,
     "metadata": {},
     "output_type": "execute_result"
    }
   ],
   "source": [
    "data_wf1_r = data_wf1.resample('1H').mean()\n",
    "missing_values1 = data_wf1_r[data_wf1_r.isnull()['wp']]\n",
    "\n",
    "imputer = KNNImputer() # To obtain better results we may want to have more neighbors, of course that in a real setting\n",
    "                       # this is a parameter that should be tunned\n",
    "    \n",
    "data_imputed1 = imputer.fit_transform(data_wf1_r) # This may take a bit to run\n",
    "data_wf1_imputed = pd.DataFrame(data_imputed1, index=data_wf1_r.index, columns=data_wf1_r.columns)\n",
    "data_wf1_imputed2 = data_wf1_imputed.sort_index()\n",
    "\n",
    "\n",
    "data_wf1_imputed = build_some_features(data_wf1_imputed2,\n",
    "                                       num_periods_lagged=24,\n",
    "                                       num_periods_diffed=0, \n",
    "                                       weekday=True, \n",
    "                                       month=True, \n",
    "                                       hour=True,rolling=[],\n",
    "                                       holidays=False)\n",
    "\n",
    "data_wf1_imputed = data_wf1_imputed.dropna(axis=0)\n",
    "\n",
    "data_wf1_imputed['rolling_max'] = data_wf1_imputed['wp'].rolling('24h').max().fillna(0)\n",
    "data_wf1_imputed['rolling_min'] = data_wf1_imputed['wp'].rolling('24h').min().fillna(0)\n",
    "data_wf1_imputed['rolling_mean'] = data_wf1_imputed['wp'].rolling('24h').mean().fillna(0)\n",
    "data_wf1_imputed['rolling_std'] = data_wf1_imputed['wp'].rolling('24h').std().fillna(0)\n",
    "\n",
    "\n",
    "\n",
    "data1 = data_wf1_imputed\n",
    "#ws1 = data1.drop(['wp'],axis = 1)\n",
    "\n",
    "ws1 = data1.drop(['wp'],axis = 1)\n",
    "data1 = data1['wp']\n",
    "\n",
    "data1_c = data1\n",
    "ws1_c = ws1\n",
    "data1_s = data1_c #[-data_limit:]\n",
    "ws1_s = ws1_c #[-data_limit:]\n",
    "data1_t_s = data1_s[:-24]\n",
    "data1_test_s = data1_s[-24:]\n",
    "\n",
    "data1_val_s = data1_t_s[-24:]\n",
    "data1_train_s = data1_t_s[:-24]\n",
    " \n",
    "ws1_t_s = ws1_s[:-24]\n",
    "ws1_test_s = ws1_s[-24:]\n",
    "\n",
    "ws1_val_s = ws1_t_s[-24:]\n",
    "ws1_train_s = ws1_t_s[:-24]\n",
    "\n",
    "sarimax_pipeline_exog = Pipeline([  #The boxcox transform has been removed because it messes with the exogenous input\n",
    "    ('arima', pm.AutoARIMA(trace=True,\n",
    "                           suppress_warnings=True,\n",
    "                           method='nm',\n",
    "                           maxiter=20,\n",
    "                           \n",
    "                          )\n",
    "    )\n",
    "])\n",
    "\n",
    "sarimax_pipeline_exog.fit(data1_t_s,ws1_t_s)"
   ]
  },
  {
   "cell_type": "code",
   "execution_count": 26,
   "metadata": {},
   "outputs": [
    {
     "data": {
      "text/plain": [
       "<matplotlib.legend.Legend at 0x124de17c0>"
      ]
     },
     "execution_count": 26,
     "metadata": {},
     "output_type": "execute_result"
    },
    {
     "data": {
      "image/png": "[encoded data removed]",
      "text/plain": [
       "<Figure size 1152x288 with 1 Axes>"
      ]
     },
     "metadata": {
      "needs_background": "light"
     },
     "output_type": "display_data"
    }
   ],
   "source": [
    "wf1_predict = sarimax_pipeline_exog.predict(24,ws1_test_s)\n",
    "plt.plot(data1_test_s, label='original')\n",
    "plt.plot(data1_test_s.index, wf1_predict, label='sarimax_exog')\n",
    "plt.legend()"
   ]
  },
  {
   "cell_type": "code",
   "execution_count": 27,
   "metadata": {},
   "outputs": [
    {
     "data": {
      "text/html": [
       "<div>\n",
       "<style scoped>\n",
       "    .dataframe tbody tr th:only-of-type {\n",
       "        vertical-align: middle;\n",
       "    }\n",
       "\n",
       "    .dataframe tbody tr th {\n",
       "        vertical-align: top;\n",
       "    }\n",
       "\n",
       "    .dataframe thead th {\n",
       "        text-align: right;\n",
       "    }\n",
       "</style>\n",
       "<table border=\"1\" class=\"dataframe\">\n",
       "  <thead>\n",
       "    <tr style=\"text-align: right;\">\n",
       "      <th></th>\n",
       "      <th>value</th>\n",
       "    </tr>\n",
       "  </thead>\n",
       "  <tbody>\n",
       "    <tr>\n",
       "      <th>0</th>\n",
       "      <td>0.601976</td>\n",
       "    </tr>\n",
       "    <tr>\n",
       "      <th>1</th>\n",
       "      <td>0.516233</td>\n",
       "    </tr>\n",
       "    <tr>\n",
       "      <th>2</th>\n",
       "      <td>0.431196</td>\n",
       "    </tr>\n",
       "    <tr>\n",
       "      <th>3</th>\n",
       "      <td>0.510856</td>\n",
       "    </tr>\n",
       "    <tr>\n",
       "      <th>4</th>\n",
       "      <td>0.505959</td>\n",
       "    </tr>\n",
       "    <tr>\n",
       "      <th>...</th>\n",
       "      <td>...</td>\n",
       "    </tr>\n",
       "    <tr>\n",
       "      <th>19</th>\n",
       "      <td>0.465742</td>\n",
       "    </tr>\n",
       "    <tr>\n",
       "      <th>20</th>\n",
       "      <td>0.632502</td>\n",
       "    </tr>\n",
       "    <tr>\n",
       "      <th>21</th>\n",
       "      <td>0.479010</td>\n",
       "    </tr>\n",
       "    <tr>\n",
       "      <th>22</th>\n",
       "      <td>0.256738</td>\n",
       "    </tr>\n",
       "    <tr>\n",
       "      <th>23</th>\n",
       "      <td>0.393924</td>\n",
       "    </tr>\n",
       "  </tbody>\n",
       "</table>\n",
       "<p>72 rows × 1 columns</p>\n",
       "</div>"
      ],
      "text/plain": [
       "       value\n",
       "0   0.601976\n",
       "1   0.516233\n",
       "2   0.431196\n",
       "3   0.510856\n",
       "4   0.505959\n",
       "..       ...\n",
       "19  0.465742\n",
       "20  0.632502\n",
       "21  0.479010\n",
       "22  0.256738\n",
       "23  0.393924\n",
       "\n",
       "[72 rows x 1 columns]"
      ]
     },
     "execution_count": 27,
     "metadata": {},
     "output_type": "execute_result"
    }
   ],
   "source": [
    "generate_submission_file(wf1_predict , wf2_predict , wf3_predict)"
   ]
  },
  {
   "cell_type": "code",
   "execution_count": null,
   "metadata": {},
   "outputs": [],
   "source": []
  }
 ],
 "metadata": {
  "colab": {
   "name": "Untitled1.ipynb",
   "provenance": []
  },
  "kernelspec": {
   "display_name": "Python 3",
   "language": "python",
   "name": "python3"
  },
  "language_info": {
   "codemirror_mode": {
    "name": "ipython",
    "version": 3
   },
   "file_extension": ".py",
   "mimetype": "text/x-python",
   "name": "python",
   "nbconvert_exporter": "python",
   "pygments_lexer": "ipython3",
   "version": "3.6.9"
  }
 },
 "nbformat": 4,
 "nbformat_minor": 1
}
