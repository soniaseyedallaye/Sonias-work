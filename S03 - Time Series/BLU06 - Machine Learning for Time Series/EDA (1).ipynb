{
 "cells": [
  {
   "cell_type": "code",
   "execution_count": 1,
   "metadata": {},
   "outputs": [],
   "source": [
    "import pandas as pd\n",
    "import os\n",
    "import numpy as np\n",
    "from matplotlib import pyplot as plt \n",
    "import seaborn as sns\n",
    "import datetime\n",
    "import category_encoders as ce\n",
    "from sklearn.preprocessing import KBinsDiscretizer"
   ]
  },
  {
   "cell_type": "markdown",
   "metadata": {},
   "source": [
    "# Import all data"
   ]
  },
  {
   "cell_type": "code",
   "execution_count": 2,
   "metadata": {},
   "outputs": [],
   "source": [
    "#Load data\n",
    "\n",
    "#Set parameter\n",
    "dataset = 'test'\n",
    "\n",
    "#Load data\n",
    "df_ = pd.read_csv(os.path.join('data',dataset + \".csv\"))\n",
    "df = df_.copy()\n",
    "\n",
    "df_kills = pd.read_csv(os.path.join('data','kills_columns_grouped.csv'), sep=',')\n",
    "df_monsters = pd.read_csv(os.path.join('data','monsters_columns_grouped.csv'), sep=',')\n",
    "df_towers = pd.read_csv(os.path.join('data','towers_columns_grouped.csv'), sep=',')\n",
    "df_gold = pd.read_csv(os.path.join('data','gold_columns_grouped.csv'), sep=',')"
   ]
  },
  {
   "cell_type": "code",
   "execution_count": 3,
   "metadata": {},
   "outputs": [],
   "source": [
    "df = pd.merge(df, df_kills,  on = 'game_id', how ='left')\n",
    "df = df.merge(df_monsters,  on = 'game_id', how ='left')\n",
    "df = df.merge(df_towers,  on = 'game_id', how ='left')\n",
    "df = df.merge(df_gold,  on = 'game_id', how ='left')"
   ]
  },
  {
   "cell_type": "code",
   "execution_count": 4,
   "metadata": {},
   "outputs": [
    {
     "data": {
      "text/html": [
       "<div>\n",
       "<style scoped>\n",
       "    .dataframe tbody tr th:only-of-type {\n",
       "        vertical-align: middle;\n",
       "    }\n",
       "\n",
       "    .dataframe tbody tr th {\n",
       "        vertical-align: top;\n",
       "    }\n",
       "\n",
       "    .dataframe thead th {\n",
       "        text-align: right;\n",
       "    }\n",
       "</style>\n",
       "<table border=\"1\" class=\"dataframe\">\n",
       "  <thead>\n",
       "    <tr style=\"text-align: right;\">\n",
       "      <th></th>\n",
       "      <th>Year</th>\n",
       "      <th>Season</th>\n",
       "      <th>blueTeamTag</th>\n",
       "      <th>redTeamTag</th>\n",
       "      <th>gamelength</th>\n",
       "      <th>game_id</th>\n",
       "      <th>total_kills_b_team</th>\n",
       "      <th>total_kills_r_team</th>\n",
       "      <th>total_monsters_b</th>\n",
       "      <th>total_monsters_a</th>\n",
       "      <th>total_towers_b_team</th>\n",
       "      <th>total_towers_r_team</th>\n",
       "      <th>blue_gold</th>\n",
       "      <th>red_gold</th>\n",
       "    </tr>\n",
       "  </thead>\n",
       "  <tbody>\n",
       "    <tr>\n",
       "      <th>0</th>\n",
       "      <td>2017</td>\n",
       "      <td>Spring</td>\n",
       "      <td>IMT</td>\n",
       "      <td>C9</td>\n",
       "      <td>34</td>\n",
       "      <td>9564c32b-dad9-4292-8efb-8fa41f026fe9</td>\n",
       "      <td>2.0</td>\n",
       "      <td>8.0</td>\n",
       "      <td>NaN</td>\n",
       "      <td>NaN</td>\n",
       "      <td>NaN</td>\n",
       "      <td>NaN</td>\n",
       "      <td>12900</td>\n",
       "      <td>15038</td>\n",
       "    </tr>\n",
       "    <tr>\n",
       "      <th>1</th>\n",
       "      <td>2017</td>\n",
       "      <td>Summer</td>\n",
       "      <td>SSG</td>\n",
       "      <td>EDG</td>\n",
       "      <td>46</td>\n",
       "      <td>8160b53f-417a-416c-bd66-41b115e91039</td>\n",
       "      <td>0.0</td>\n",
       "      <td>2.0</td>\n",
       "      <td>NaN</td>\n",
       "      <td>NaN</td>\n",
       "      <td>NaN</td>\n",
       "      <td>NaN</td>\n",
       "      <td>13025</td>\n",
       "      <td>13394</td>\n",
       "    </tr>\n",
       "    <tr>\n",
       "      <th>2</th>\n",
       "      <td>2017</td>\n",
       "      <td>Summer</td>\n",
       "      <td>JT</td>\n",
       "      <td>ahq</td>\n",
       "      <td>37</td>\n",
       "      <td>5bd6d56b-e337-4f61-83b6-cfe21a481892</td>\n",
       "      <td>0.0</td>\n",
       "      <td>1.0</td>\n",
       "      <td>NaN</td>\n",
       "      <td>NaN</td>\n",
       "      <td>NaN</td>\n",
       "      <td>NaN</td>\n",
       "      <td>13096</td>\n",
       "      <td>13643</td>\n",
       "    </tr>\n",
       "    <tr>\n",
       "      <th>3</th>\n",
       "      <td>2017</td>\n",
       "      <td>Spring</td>\n",
       "      <td>PNG</td>\n",
       "      <td>REM</td>\n",
       "      <td>57</td>\n",
       "      <td>614fd189-86c9-4f44-9b13-cf980e1ccc9f</td>\n",
       "      <td>2.0</td>\n",
       "      <td>0.0</td>\n",
       "      <td>NaN</td>\n",
       "      <td>NaN</td>\n",
       "      <td>NaN</td>\n",
       "      <td>NaN</td>\n",
       "      <td>13871</td>\n",
       "      <td>12650</td>\n",
       "    </tr>\n",
       "    <tr>\n",
       "      <th>4</th>\n",
       "      <td>2017</td>\n",
       "      <td>Spring</td>\n",
       "      <td>C9</td>\n",
       "      <td>DIG</td>\n",
       "      <td>46</td>\n",
       "      <td>539f6975-88f2-40ea-8d22-4b500370e971</td>\n",
       "      <td>1.0</td>\n",
       "      <td>5.0</td>\n",
       "      <td>1.0</td>\n",
       "      <td>0.0</td>\n",
       "      <td>0.0</td>\n",
       "      <td>1.0</td>\n",
       "      <td>12794</td>\n",
       "      <td>15678</td>\n",
       "    </tr>\n",
       "  </tbody>\n",
       "</table>\n",
       "</div>"
      ],
      "text/plain": [
       "   Year  Season blueTeamTag redTeamTag  gamelength  \\\n",
       "0  2017  Spring         IMT         C9          34   \n",
       "1  2017  Summer         SSG        EDG          46   \n",
       "2  2017  Summer          JT        ahq          37   \n",
       "3  2017  Spring         PNG        REM          57   \n",
       "4  2017  Spring          C9        DIG          46   \n",
       "\n",
       "                                game_id  total_kills_b_team  \\\n",
       "0  9564c32b-dad9-4292-8efb-8fa41f026fe9                 2.0   \n",
       "1  8160b53f-417a-416c-bd66-41b115e91039                 0.0   \n",
       "2  5bd6d56b-e337-4f61-83b6-cfe21a481892                 0.0   \n",
       "3  614fd189-86c9-4f44-9b13-cf980e1ccc9f                 2.0   \n",
       "4  539f6975-88f2-40ea-8d22-4b500370e971                 1.0   \n",
       "\n",
       "   total_kills_r_team  total_monsters_b  total_monsters_a  \\\n",
       "0                 8.0               NaN               NaN   \n",
       "1                 2.0               NaN               NaN   \n",
       "2                 1.0               NaN               NaN   \n",
       "3                 0.0               NaN               NaN   \n",
       "4                 5.0               1.0               0.0   \n",
       "\n",
       "   total_towers_b_team  total_towers_r_team  blue_gold  red_gold  \n",
       "0                  NaN                  NaN      12900     15038  \n",
       "1                  NaN                  NaN      13025     13394  \n",
       "2                  NaN                  NaN      13096     13643  \n",
       "3                  NaN                  NaN      13871     12650  \n",
       "4                  0.0                  1.0      12794     15678  "
      ]
     },
     "metadata": {},
     "output_type": "display_data"
    },
    {
     "data": {
      "text/plain": [
       "(3552, 14)"
      ]
     },
     "execution_count": 4,
     "metadata": {},
     "output_type": "execute_result"
    }
   ],
   "source": [
    "#First look\n",
    "display(df.head(5))\n",
    "df.shape"
   ]
  },
  {
   "cell_type": "code",
   "execution_count": 5,
   "metadata": {},
   "outputs": [],
   "source": [
    "#Drop unecessary columns\n",
    "df = df.drop(['blueTeamTag','redTeamTag'],axis=1)"
   ]
  },
  {
   "cell_type": "code",
   "execution_count": 6,
   "metadata": {},
   "outputs": [
    {
     "data": {
      "text/plain": [
       "Year                     int64\n",
       "Season                  object\n",
       "gamelength               int64\n",
       "game_id                 object\n",
       "total_kills_b_team     float64\n",
       "total_kills_r_team     float64\n",
       "total_monsters_b       float64\n",
       "total_monsters_a       float64\n",
       "total_towers_b_team    float64\n",
       "total_towers_r_team    float64\n",
       "blue_gold                int64\n",
       "red_gold                 int64\n",
       "dtype: object"
      ]
     },
     "execution_count": 6,
     "metadata": {},
     "output_type": "execute_result"
    }
   ],
   "source": [
    "#Check data type\n",
    "df.dtypes"
   ]
  },
  {
   "cell_type": "code",
   "execution_count": 7,
   "metadata": {},
   "outputs": [
    {
     "data": {
      "text/plain": [
       "Year                      0\n",
       "Season                    0\n",
       "gamelength                0\n",
       "game_id                   0\n",
       "total_kills_b_team      332\n",
       "total_kills_r_team      332\n",
       "total_monsters_b       2251\n",
       "total_monsters_a       2251\n",
       "total_towers_b_team    2382\n",
       "total_towers_r_team    2382\n",
       "blue_gold                 0\n",
       "red_gold                  0\n",
       "dtype: int64"
      ]
     },
     "execution_count": 7,
     "metadata": {},
     "output_type": "execute_result"
    }
   ],
   "source": [
    "#Find columns with nulls values\n",
    "df.isna().sum()"
   ]
  },
  {
   "cell_type": "code",
   "execution_count": 8,
   "metadata": {},
   "outputs": [],
   "source": [
    "#fill nulls\n",
    "df['total_kills_b_team'] = df.total_kills_b_team.fillna(0)\n",
    "df['total_kills_r_team'] = df.total_kills_b_team.fillna(0)\n",
    "df['total_monsters_b'] = df.total_monsters_b.fillna(0)\n",
    "df['total_monsters_a'] = df.total_monsters_a.fillna(0)\n",
    "df['total_towers_b_team'] = df.total_towers_b_team.fillna(0)\n",
    "df['total_towers_r_team'] = df.total_towers_r_team.fillna(0)"
   ]
  },
  {
   "cell_type": "code",
   "execution_count": 9,
   "metadata": {},
   "outputs": [
    {
     "data": {
      "text/plain": [
       "Year                   0\n",
       "Season                 0\n",
       "gamelength             0\n",
       "game_id                0\n",
       "total_kills_b_team     0\n",
       "total_kills_r_team     0\n",
       "total_monsters_b       0\n",
       "total_monsters_a       0\n",
       "total_towers_b_team    0\n",
       "total_towers_r_team    0\n",
       "blue_gold              0\n",
       "red_gold               0\n",
       "dtype: int64"
      ]
     },
     "execution_count": 9,
     "metadata": {},
     "output_type": "execute_result"
    }
   ],
   "source": [
    "#Cehck columns with nulls values\n",
    "df.isna().sum()"
   ]
  },
  {
   "cell_type": "code",
   "execution_count": 10,
   "metadata": {},
   "outputs": [
    {
     "data": {
      "text/plain": [
       "<AxesSubplot:>"
      ]
     },
     "execution_count": 10,
     "metadata": {},
     "output_type": "execute_result"
    },
    {
     "data": {
      "image/png": "[encoded data removed]",
      "text/plain": [
       "<Figure size 864x576 with 2 Axes>"
      ]
     },
     "metadata": {
      "needs_background": "light"
     },
     "output_type": "display_data"
    }
   ],
   "source": [
    "#check correlation\n",
    "cor_df = df.corr()\n",
    "lower_triangle_mask = np.triu(np.ones(cor_df.shape)).astype(np.bool)\n",
    "cor_df_lower = cor_df.mask(lower_triangle_mask)\n",
    "plt.figure(figsize = (12,8))\n",
    "sns.heatmap(cor_df_lower, annot = True, cmap = \"RdBu_r\")"
   ]
  },
  {
   "cell_type": "code",
   "execution_count": 11,
   "metadata": {},
   "outputs": [
    {
     "data": {
      "text/plain": [
       "\"\\n#Check for unique values\\ncategoricals = df.select_dtypes(include='object').columns\\n\\nnumber_of_uniques_per_category = df.loc[:, categoricals].nunique()\\n\\n# little plot \\nnumber_of_uniques_per_category.plot(kind='barh',\\n                                    title='# uniques / categories');\\nplt.xlabel('Number of uniques')\\nplt.show()\\n\\nnumber_of_uniques_per_category\\n\""
      ]
     },
     "execution_count": 11,
     "metadata": {},
     "output_type": "execute_result"
    }
   ],
   "source": [
    "\"\"\"\n",
    "#Check for unique values\n",
    "categoricals = df.select_dtypes(include='object').columns\n",
    "\n",
    "number_of_uniques_per_category = df.loc[:, categoricals].nunique()\n",
    "\n",
    "# little plot \n",
    "number_of_uniques_per_category.plot(kind='barh',\n",
    "                                    title='# uniques / categories');\n",
    "plt.xlabel('Number of uniques')\n",
    "plt.show()\n",
    "\n",
    "number_of_uniques_per_category\n",
    "\"\"\""
   ]
  },
  {
   "cell_type": "markdown",
   "metadata": {},
   "source": [
    "# Encoding"
   ]
  },
  {
   "cell_type": "code",
   "execution_count": 12,
   "metadata": {},
   "outputs": [
    {
     "data": {
      "text/plain": [
       "Year                     int64\n",
       "Season                  object\n",
       "gamelength               int64\n",
       "game_id                 object\n",
       "total_kills_b_team     float64\n",
       "total_kills_r_team     float64\n",
       "total_monsters_b       float64\n",
       "total_monsters_a       float64\n",
       "total_towers_b_team    float64\n",
       "total_towers_r_team    float64\n",
       "blue_gold                int64\n",
       "red_gold                 int64\n",
       "dtype: object"
      ]
     },
     "execution_count": 12,
     "metadata": {},
     "output_type": "execute_result"
    }
   ],
   "source": [
    "df.dtypes"
   ]
  },
  {
   "cell_type": "code",
   "execution_count": 13,
   "metadata": {},
   "outputs": [],
   "source": [
    "#ENCODING VARIAVEIS CATEGORICAS\n",
    "\n",
    "#Ordinal Encoder\n",
    "for f in df.select_dtypes(include='object').columns:\n",
    "    if f != 'game_id':\n",
    "        encoder = ce.ordinal.OrdinalEncoder()\n",
    "\n",
    "        X2 = df[[f]]\n",
    "        encoder.fit(X2)\n",
    "\n",
    "        df[f+'_Encode'] = encoder.transform(X2)\n",
    "        df = df.drop(f,axis=1)\n"
   ]
  },
  {
   "cell_type": "markdown",
   "metadata": {},
   "source": [
    "# Scalling numericals"
   ]
  },
  {
   "cell_type": "code",
   "execution_count": 14,
   "metadata": {},
   "outputs": [
    {
     "data": {
      "text/html": [
       "<div>\n",
       "<style scoped>\n",
       "    .dataframe tbody tr th:only-of-type {\n",
       "        vertical-align: middle;\n",
       "    }\n",
       "\n",
       "    .dataframe tbody tr th {\n",
       "        vertical-align: top;\n",
       "    }\n",
       "\n",
       "    .dataframe thead th {\n",
       "        text-align: right;\n",
       "    }\n",
       "</style>\n",
       "<table border=\"1\" class=\"dataframe\">\n",
       "  <thead>\n",
       "    <tr style=\"text-align: right;\">\n",
       "      <th></th>\n",
       "      <th>Year</th>\n",
       "      <th>gamelength</th>\n",
       "      <th>total_kills_b_team</th>\n",
       "      <th>total_kills_r_team</th>\n",
       "      <th>total_monsters_b</th>\n",
       "      <th>total_monsters_a</th>\n",
       "      <th>total_towers_b_team</th>\n",
       "      <th>total_towers_r_team</th>\n",
       "      <th>blue_gold</th>\n",
       "      <th>red_gold</th>\n",
       "    </tr>\n",
       "  </thead>\n",
       "  <tbody>\n",
       "    <tr>\n",
       "      <th>count</th>\n",
       "      <td>3552.000000</td>\n",
       "      <td>3552.000000</td>\n",
       "      <td>3552.000000</td>\n",
       "      <td>3552.000000</td>\n",
       "      <td>3552.000000</td>\n",
       "      <td>3552.000000</td>\n",
       "      <td>3552.000000</td>\n",
       "      <td>3552.000000</td>\n",
       "      <td>3552.000000</td>\n",
       "      <td>3552.000000</td>\n",
       "    </tr>\n",
       "    <tr>\n",
       "      <th>mean</th>\n",
       "      <td>2017.067849</td>\n",
       "      <td>36.445664</td>\n",
       "      <td>1.747185</td>\n",
       "      <td>1.747185</td>\n",
       "      <td>0.170045</td>\n",
       "      <td>0.211430</td>\n",
       "      <td>0.275619</td>\n",
       "      <td>0.207770</td>\n",
       "      <td>13455.478041</td>\n",
       "      <td>13335.715372</td>\n",
       "    </tr>\n",
       "    <tr>\n",
       "      <th>std</th>\n",
       "      <td>0.251522</td>\n",
       "      <td>7.921566</td>\n",
       "      <td>1.635202</td>\n",
       "      <td>1.635202</td>\n",
       "      <td>0.387532</td>\n",
       "      <td>0.415219</td>\n",
       "      <td>0.529918</td>\n",
       "      <td>0.474843</td>\n",
       "      <td>755.279926</td>\n",
       "      <td>721.387347</td>\n",
       "    </tr>\n",
       "    <tr>\n",
       "      <th>min</th>\n",
       "      <td>2017.000000</td>\n",
       "      <td>17.000000</td>\n",
       "      <td>0.000000</td>\n",
       "      <td>0.000000</td>\n",
       "      <td>0.000000</td>\n",
       "      <td>0.000000</td>\n",
       "      <td>0.000000</td>\n",
       "      <td>0.000000</td>\n",
       "      <td>11476.000000</td>\n",
       "      <td>11222.000000</td>\n",
       "    </tr>\n",
       "    <tr>\n",
       "      <th>25%</th>\n",
       "      <td>2017.000000</td>\n",
       "      <td>31.000000</td>\n",
       "      <td>1.000000</td>\n",
       "      <td>1.000000</td>\n",
       "      <td>0.000000</td>\n",
       "      <td>0.000000</td>\n",
       "      <td>0.000000</td>\n",
       "      <td>0.000000</td>\n",
       "      <td>12925.000000</td>\n",
       "      <td>12838.000000</td>\n",
       "    </tr>\n",
       "    <tr>\n",
       "      <th>50%</th>\n",
       "      <td>2017.000000</td>\n",
       "      <td>35.000000</td>\n",
       "      <td>1.000000</td>\n",
       "      <td>1.000000</td>\n",
       "      <td>0.000000</td>\n",
       "      <td>0.000000</td>\n",
       "      <td>0.000000</td>\n",
       "      <td>0.000000</td>\n",
       "      <td>13356.500000</td>\n",
       "      <td>13258.000000</td>\n",
       "    </tr>\n",
       "    <tr>\n",
       "      <th>75%</th>\n",
       "      <td>2017.000000</td>\n",
       "      <td>41.000000</td>\n",
       "      <td>3.000000</td>\n",
       "      <td>3.000000</td>\n",
       "      <td>0.000000</td>\n",
       "      <td>0.000000</td>\n",
       "      <td>0.000000</td>\n",
       "      <td>0.000000</td>\n",
       "      <td>13864.500000</td>\n",
       "      <td>13739.500000</td>\n",
       "    </tr>\n",
       "    <tr>\n",
       "      <th>max</th>\n",
       "      <td>2018.000000</td>\n",
       "      <td>95.000000</td>\n",
       "      <td>13.000000</td>\n",
       "      <td>13.000000</td>\n",
       "      <td>2.000000</td>\n",
       "      <td>2.000000</td>\n",
       "      <td>4.000000</td>\n",
       "      <td>4.000000</td>\n",
       "      <td>17036.000000</td>\n",
       "      <td>17104.000000</td>\n",
       "    </tr>\n",
       "  </tbody>\n",
       "</table>\n",
       "</div>"
      ],
      "text/plain": [
       "              Year   gamelength  total_kills_b_team  total_kills_r_team  \\\n",
       "count  3552.000000  3552.000000         3552.000000         3552.000000   \n",
       "mean   2017.067849    36.445664            1.747185            1.747185   \n",
       "std       0.251522     7.921566            1.635202            1.635202   \n",
       "min    2017.000000    17.000000            0.000000            0.000000   \n",
       "25%    2017.000000    31.000000            1.000000            1.000000   \n",
       "50%    2017.000000    35.000000            1.000000            1.000000   \n",
       "75%    2017.000000    41.000000            3.000000            3.000000   \n",
       "max    2018.000000    95.000000           13.000000           13.000000   \n",
       "\n",
       "       total_monsters_b  total_monsters_a  total_towers_b_team  \\\n",
       "count       3552.000000       3552.000000          3552.000000   \n",
       "mean           0.170045          0.211430             0.275619   \n",
       "std            0.387532          0.415219             0.529918   \n",
       "min            0.000000          0.000000             0.000000   \n",
       "25%            0.000000          0.000000             0.000000   \n",
       "50%            0.000000          0.000000             0.000000   \n",
       "75%            0.000000          0.000000             0.000000   \n",
       "max            2.000000          2.000000             4.000000   \n",
       "\n",
       "       total_towers_r_team     blue_gold      red_gold  \n",
       "count          3552.000000   3552.000000   3552.000000  \n",
       "mean              0.207770  13455.478041  13335.715372  \n",
       "std               0.474843    755.279926    721.387347  \n",
       "min               0.000000  11476.000000  11222.000000  \n",
       "25%               0.000000  12925.000000  12838.000000  \n",
       "50%               0.000000  13356.500000  13258.000000  \n",
       "75%               0.000000  13864.500000  13739.500000  \n",
       "max               4.000000  17036.000000  17104.000000  "
      ]
     },
     "execution_count": 14,
     "metadata": {},
     "output_type": "execute_result"
    }
   ],
   "source": [
    "numericals = df.select_dtypes(include=['int64','float64']).columns\n",
    "df[numericals].describe()"
   ]
  },
  {
   "cell_type": "code",
   "execution_count": 15,
   "metadata": {},
   "outputs": [
    {
     "data": {
      "text/plain": [
       "\"\\n##SCALE DE VARIAVEIS NUMERICAS\\n\\nfrom sklearn.preprocessing import RobustScaler\\n\\n#Features to scale\\n\\nscale_list = ['ORIGIN_AIRPORT_ID', 'DEST_AIRPORT_ID', 'OP_CARRIER_AIRLINE_ID', 'OP_CARRIER_FL_NUM']\\n\\n\\nfor f in scale_list:\\n    # initialize transformer with desired options\\n    robustscaler = RobustScaler()\\n\\n    # save data to scale\\n    X_rbs = df[[f]]\\n\\n    # fit transformer to data\\n    robustscaler.fit(X_rbs)\\n\\n    # create new feature by transforming the data\\n    col_new_name = f + '_robust_scaled'\\n    df[f] = robustscaler.transform(X_rbs)\\n\\n\\n#drop original columns\\ndf.drop(scale_list, axis = 1)\\ndf\\n\""
      ]
     },
     "execution_count": 15,
     "metadata": {},
     "output_type": "execute_result"
    }
   ],
   "source": [
    "\"\"\"\n",
    "##SCALE DE VARIAVEIS NUMERICAS\n",
    "\n",
    "from sklearn.preprocessing import RobustScaler\n",
    "\n",
    "#Features to scale\n",
    "\n",
    "scale_list = ['ORIGIN_AIRPORT_ID', 'DEST_AIRPORT_ID', 'OP_CARRIER_AIRLINE_ID', 'OP_CARRIER_FL_NUM']\n",
    "\n",
    "\n",
    "for f in scale_list:\n",
    "    # initialize transformer with desired options\n",
    "    robustscaler = RobustScaler()\n",
    "\n",
    "    # save data to scale\n",
    "    X_rbs = df[[f]]\n",
    "\n",
    "    # fit transformer to data\n",
    "    robustscaler.fit(X_rbs)\n",
    "\n",
    "    # create new feature by transforming the data\n",
    "    col_new_name = f + '_robust_scaled'\n",
    "    df[f] = robustscaler.transform(X_rbs)\n",
    "\n",
    "\n",
    "#drop original columns\n",
    "df.drop(scale_list, axis = 1)\n",
    "df\n",
    "\"\"\""
   ]
  },
  {
   "cell_type": "code",
   "execution_count": 16,
   "metadata": {},
   "outputs": [],
   "source": [
    "df.to_csv('data/' + dataset + '_out.csv', index=False)"
   ]
  }
 ],
 "metadata": {
  "kernelspec": {
   "display_name": "Python 3",
   "language": "python",
   "name": "python3"
  },
  "language_info": {
   "codemirror_mode": {
    "name": "ipython",
    "version": 3
   },
   "file_extension": ".py",
   "mimetype": "text/x-python",
   "name": "python",
   "nbconvert_exporter": "python",
   "pygments_lexer": "ipython3",
   "version": "3.6.9"
  }
 },
 "nbformat": 4,
 "nbformat_minor": 4
}
