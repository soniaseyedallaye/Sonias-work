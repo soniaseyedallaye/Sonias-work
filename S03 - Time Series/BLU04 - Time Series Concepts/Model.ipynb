{
 "cells": [
  {
   "cell_type": "code",
   "execution_count": 150,
   "metadata": {
    "ExecuteTime": {
     "end_time": "2020-08-02T08:49:51.523875Z",
     "start_time": "2020-08-02T08:49:31.416255Z"
    }
   },
   "outputs": [],
   "source": [
    "import pandas as pd\n",
    "import numpy as np\n",
    "import seaborn as sns\n",
    "from matplotlib import pyplot as plt \n",
    "import datetime\n",
    "import category_encoders as ce\n",
    "from sklearn.model_selection import train_test_split\n",
    "from sklearn.metrics import roc_auc_score"
   ]
  },
  {
   "cell_type": "code",
   "execution_count": 151,
   "metadata": {},
   "outputs": [],
   "source": [
    "#Load Train Data\n",
    "df_ = pd.read_csv(\"data/train_out.csv\")\n",
    "df = df_.copy()\n",
    "\n",
    "df = df.set_index('game_id')\n",
    "df = df.sort_values(by=['Year','Season_Encode'])\n",
    "\n",
    "X = df.drop('bResult', axis=1)\n",
    "y = df['bResult']\n",
    "\n",
    "X_train, X_test, y_train, y_test = train_test_split(X, y, test_size=0.4, random_state=42)"
   ]
  },
  {
   "cell_type": "code",
   "execution_count": 152,
   "metadata": {},
   "outputs": [],
   "source": [
    "#Load Test Data\n",
    "data_sub = pd.read_csv(\"data/test_out.csv\")\n",
    "data_sub_ = data_sub.copy()\n",
    "\n",
    "data_sub_ = data_sub_.set_index('game_id')\n",
    "X_sub = data_sub_"
   ]
  },
  {
   "cell_type": "markdown",
   "metadata": {},
   "source": [
    "#Linear Regression"
   ]
  },
  {
   "cell_type": "code",
   "execution_count": null,
   "metadata": {},
   "outputs": [],
   "source": []
  },
  {
   "cell_type": "markdown",
   "metadata": {},
   "source": [
    "# Logistic Regression"
   ]
  },
  {
   "cell_type": "code",
   "execution_count": 153,
   "metadata": {},
   "outputs": [
    {
     "data": {
      "text/plain": [
       "LogisticRegression()"
      ]
     },
     "execution_count": 153,
     "metadata": {},
     "output_type": "execute_result"
    }
   ],
   "source": [
    "from sklearn.linear_model import LogisticRegression\n",
    "\n",
    "#Fit model\n",
    "clf_lr = LogisticRegression()\n",
    "clf_lr.fit(X_train, y_train)"
   ]
  },
  {
   "cell_type": "code",
   "execution_count": 154,
   "metadata": {},
   "outputs": [
    {
     "data": {
      "text/plain": [
       "0.6566452701219134"
      ]
     },
     "execution_count": 154,
     "metadata": {},
     "output_type": "execute_result"
    }
   ],
   "source": [
    "#Score Model\n",
    "y_pred = clf_lr.predict(X_test)\n",
    "roc_auc = roc_auc_score(y_test, y_pred.flatten())\n",
    "roc_auc"
   ]
  },
  {
   "cell_type": "code",
   "execution_count": 155,
   "metadata": {},
   "outputs": [],
   "source": [
    "def bet(row):\n",
    "    if (row['bResult_prob_Loss'] < 0) & (row['bResult_prob_Win'] < 0) :\n",
    "        return 'NO BET'\n",
    "    else:\n",
    "        if row['bResult'] == 1:\n",
    "            return \"WIN\"\n",
    "        else:\n",
    "            return 'LOSS'"
   ]
  },
  {
   "cell_type": "code",
   "execution_count": 156,
   "metadata": {},
   "outputs": [],
   "source": [
    "#Generate predictions\n",
    "probs = clf_lr.predict_proba(X_sub)\n",
    "predict = clf_lr.predict(X_sub)\n",
    "X_final = X_sub.copy()\n",
    "\n",
    "X_final['bResult_prob_Loss']=probs[:,0]\n",
    "X_final['bResult_prob_Win']=probs[:,1]\n",
    "X_final['bResult']=predict\n",
    "\n",
    "\n",
    "X_final['bet'] = X_final.apply(lambda row: bet(row), axis=1)\n",
    "X_final.bet.value_counts()\n",
    "X_final['bet'].to_csv('data/Submission_LR.csv')"
   ]
  },
  {
   "cell_type": "code",
   "execution_count": 139,
   "metadata": {},
   "outputs": [
    {
     "data": {
      "image/png": "[encoded data removed]",
      "text/plain": [
       "<Figure size 432x288 with 1 Axes>"
      ]
     },
     "metadata": {
      "needs_background": "light"
     },
     "output_type": "display_data"
    }
   ],
   "source": [
    "plt.hist(X_final['bResult_prob_Loss'], density=True, bins=30)  # `density=False` would make counts\n",
    "plt.ylabel('Probability')\n",
    "plt.xlabel('Data');"
   ]
  },
  {
   "cell_type": "markdown",
   "metadata": {},
   "source": [
    "# DecisionTreeClassifier"
   ]
  },
  {
   "cell_type": "code",
   "execution_count": 140,
   "metadata": {},
   "outputs": [
    {
     "data": {
      "text/plain": [
       "DecisionTreeClassifier()"
      ]
     },
     "execution_count": 140,
     "metadata": {},
     "output_type": "execute_result"
    }
   ],
   "source": [
    "from sklearn.tree import DecisionTreeClassifier\n",
    "\n",
    "#Fit model\n",
    "clf_dt = DecisionTreeClassifier()\n",
    "clf_dt.fit(X_train, y_train)"
   ]
  },
  {
   "cell_type": "code",
   "execution_count": 141,
   "metadata": {},
   "outputs": [
    {
     "data": {
      "text/plain": [
       "0.58934988120602"
      ]
     },
     "execution_count": 141,
     "metadata": {},
     "output_type": "execute_result"
    }
   ],
   "source": [
    "#Score Model\n",
    "y_pred = clf_dt.predict(X_test)\n",
    "roc_auc = roc_auc_score(y_test, y_pred.flatten())\n",
    "roc_auc"
   ]
  },
  {
   "cell_type": "code",
   "execution_count": 142,
   "metadata": {},
   "outputs": [
    {
     "data": {
      "text/plain": [
       "WIN     1959\n",
       "LOSS    1593\n",
       "Name: bet, dtype: int64"
      ]
     },
     "execution_count": 142,
     "metadata": {},
     "output_type": "execute_result"
    }
   ],
   "source": [
    "#Generate predictions\n",
    "probs = clf_dt.predict_proba(X_sub)\n",
    "predict = clf_dt.predict(X_sub)\n",
    "X_final = X_sub.copy()\n",
    "\n",
    "X_final['bResult_prob_Loss']=probs[:,0]\n",
    "X_final['bResult_prob_Win']=probs[:,1]\n",
    "X_final['bResult']=predict\n",
    "\n",
    "\n",
    "X_final['bet'] = X_final.apply(lambda row: bet(row), axis=1)\n",
    "X_final.bet.value_counts()\n",
    "X_final['bet'].to_csv('data/Submission_DT.csv')"
   ]
  },
  {
   "cell_type": "markdown",
   "metadata": {},
   "source": [
    "# GradientBoostingClassifier"
   ]
  },
  {
   "cell_type": "code",
   "execution_count": 143,
   "metadata": {},
   "outputs": [
    {
     "data": {
      "text/plain": [
       "GradientBoostingClassifier()"
      ]
     },
     "execution_count": 143,
     "metadata": {},
     "output_type": "execute_result"
    }
   ],
   "source": [
    "from sklearn.ensemble import GradientBoostingClassifier\n",
    "\n",
    "#Fit modelhttp://localhost:8888/notebooks/S02%20-%20Data%20Wrangling/HCKT02%20-%20Data%20Wrangling/Model.ipynb#GradientBoostingClassifier\n",
    "clf_gd = GradientBoostingClassifier()\n",
    "clf_gd.fit(X_train, y_train)\n"
   ]
  },
  {
   "cell_type": "code",
   "execution_count": 144,
   "metadata": {},
   "outputs": [
    {
     "data": {
      "text/plain": [
       "0.6535993288783698"
      ]
     },
     "execution_count": 144,
     "metadata": {},
     "output_type": "execute_result"
    }
   ],
   "source": [
    "#Score Model\n",
    "y_pred = clf_gd.predict(X_test)\n",
    "roc_auc = roc_auc_score(y_test, y_pred.flatten())\n",
    "roc_auc"
   ]
  },
  {
   "cell_type": "code",
   "execution_count": 145,
   "metadata": {},
   "outputs": [
    {
     "data": {
      "text/plain": [
       "WIN     1975\n",
       "LOSS    1577\n",
       "Name: bet, dtype: int64"
      ]
     },
     "execution_count": 145,
     "metadata": {},
     "output_type": "execute_result"
    }
   ],
   "source": [
    "#Generate predictions\n",
    "probs = clf_gd.predict_proba(X_sub)\n",
    "predict = clf_gd.predict(X_sub)\n",
    "X_final = X_sub.copy()\n",
    "\n",
    "X_final['bResult_prob_Loss']=probs[:,0]\n",
    "X_final['bResult_prob_Win']=probs[:,1]\n",
    "X_final['bResult']=predict\n",
    "\n",
    "\n",
    "X_final['bet'] = X_final.apply(lambda row: bet(row), axis=1)\n",
    "X_final.bet.value_counts()\n",
    "X_final['bet'].to_csv('data/Submission_GD.csv')"
   ]
  },
  {
   "cell_type": "code",
   "execution_count": 146,
   "metadata": {},
   "outputs": [
    {
     "data": {
      "text/plain": [
       "blue_gold              0.366960\n",
       "red_gold               0.330559\n",
       "gamelength             0.164663\n",
       "total_kills_r_team     0.054195\n",
       "total_kills_b_team     0.027467\n",
       "total_towers_b_team    0.020393\n",
       "total_monsters_a       0.019804\n",
       "total_towers_r_team    0.008181\n",
       "total_monsters_b       0.003960\n",
       "Season_Encode          0.002768\n",
       "Year                   0.001049\n",
       "dtype: float64"
      ]
     },
     "execution_count": 146,
     "metadata": {},
     "output_type": "execute_result"
    }
   ],
   "source": [
    "feature_importances = pd.Series(data=clf_gd.feature_importances_, index=X_train.columns)\n",
    "feature_importances.sort_values(ascending=False)"
   ]
  },
  {
   "cell_type": "markdown",
   "metadata": {},
   "source": [
    "# RandomForestClassifier"
   ]
  },
  {
   "cell_type": "code",
   "execution_count": 147,
   "metadata": {},
   "outputs": [
    {
     "data": {
      "text/plain": [
       "RandomForestClassifier()"
      ]
     },
     "execution_count": 147,
     "metadata": {},
     "output_type": "execute_result"
    }
   ],
   "source": [
    "from sklearn.ensemble import RandomForestClassifier\n",
    "\n",
    "#Fit model\n",
    "clf_rf = RandomForestClassifier()\n",
    "clf_rf.fit(X_train, y_train)\n"
   ]
  },
  {
   "cell_type": "code",
   "execution_count": 148,
   "metadata": {},
   "outputs": [
    {
     "data": {
      "text/plain": [
       "0.6498303267629435"
      ]
     },
     "execution_count": 148,
     "metadata": {},
     "output_type": "execute_result"
    }
   ],
   "source": [
    "#Score Model\n",
    "y_pred = clf_rf.predict(X_test)\n",
    "roc_auc = roc_auc_score(y_test, y_pred.flatten())\n",
    "roc_auc"
   ]
  },
  {
   "cell_type": "code",
   "execution_count": 149,
   "metadata": {},
   "outputs": [
    {
     "data": {
      "text/plain": [
       "WIN     1855\n",
       "LOSS    1697\n",
       "Name: bet, dtype: int64"
      ]
     },
     "execution_count": 149,
     "metadata": {},
     "output_type": "execute_result"
    }
   ],
   "source": [
    "#Generate predictions\n",
    "probs = clf_rf.predict_proba(X_sub)\n",
    "predict = clf_rf.predict(X_sub)\n",
    "X_final = X_sub.copy()\n",
    "\n",
    "X_final['bResult_prob_Loss']=probs[:,0]\n",
    "X_final['bResult_prob_Win']=probs[:,1]\n",
    "X_final['bResult']=predict\n",
    "\n",
    "\n",
    "X_final['bet'] = X_final.apply(lambda row: bet(row), axis=1)\n",
    "X_final.bet.value_counts()\n",
    "X_final['bet'].to_csv('data/Submission_RF.csv')"
   ]
  }
 ],
 "metadata": {
  "kernelspec": {
   "display_name": "Python 3",
   "language": "python",
   "name": "python3"
  },
  "language_info": {
   "codemirror_mode": {
    "name": "ipython",
    "version": 3
   },
   "file_extension": ".py",
   "mimetype": "text/x-python",
   "name": "python",
   "nbconvert_exporter": "python",
   "pygments_lexer": "ipython3",
   "version": "3.6.9"
  },
  "toc": {
   "base_numbering": 1,
   "nav_menu": {},
   "number_sections": true,
   "sideBar": true,
   "skip_h1_title": false,
   "title_cell": "Table of Contents",
   "title_sidebar": "Contents",
   "toc_cell": false,
   "toc_position": {},
   "toc_section_display": true,
   "toc_window_display": false
  },
  "varInspector": {
   "cols": {
    "lenName": 16,
    "lenType": 16,
    "lenVar": 40
   },
   "kernels_config": {
    "python": {
     "delete_cmd_postfix": "",
     "delete_cmd_prefix": "del ",
     "library": "var_list.py",
     "varRefreshCmd": "print(var_dic_list())"
    },
    "r": {
     "delete_cmd_postfix": ") ",
     "delete_cmd_prefix": "rm(",
     "library": "var_list.r",
     "varRefreshCmd": "cat(var_dic_list()) "
    }
   },
   "types_to_exclude": [
    "module",
    "function",
    "builtin_function_or_method",
    "instance",
    "_Feature"
   ],
   "window_display": false
  }
 },
 "nbformat": 4,
 "nbformat_minor": 4
}
