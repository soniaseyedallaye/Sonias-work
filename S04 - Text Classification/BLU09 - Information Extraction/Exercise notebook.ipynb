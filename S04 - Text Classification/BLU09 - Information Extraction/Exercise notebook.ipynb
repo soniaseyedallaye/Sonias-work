{
 "cells": [
  {
   "cell_type": "markdown",
   "metadata": {
    "deletable": false,
    "editable": false,
    "nbgrader": {
     "grade": false,
     "grade_id": "cell-229243dce415caea",
     "locked": true,
     "schema_version": 1,
     "solution": false
    }
   },
   "source": [
    "# BLU09 - Exercises\n",
    "\n",
    "Welcome to the exercises of the BLU09! Should you get stuck on an exercise take a look at the hints or at the learning notebook in order to get some clues. Good luck!"
   ]
  },
  {
   "cell_type": "code",
   "execution_count": 1,
   "metadata": {},
   "outputs": [],
   "source": [
    "import math\n",
    "import hashlib\n",
    "import inspect\n",
    "import json\n",
    "import pandas as pd\n",
    "import numpy as np\n",
    "import re\n",
    "from hashlib import sha256\n",
    "from collections import Counter\n",
    "import string\n",
    "import os\n",
    "import random"
   ]
  },
  {
   "cell_type": "code",
   "execution_count": 2,
   "metadata": {
    "deletable": false,
    "editable": false,
    "nbgrader": {
     "grade": false,
     "grade_id": "cell-2c9c6fdf3e87a0f7",
     "locked": true,
     "schema_version": 1,
     "solution": false
    }
   },
   "outputs": [],
   "source": [
    "from bs4 import BeautifulSoup\n",
    "from sklearn.feature_extraction.text import TfidfVectorizer\n",
    "from nltk.tokenize import WordPunctTokenizer\n",
    "from sklearn.ensemble import RandomForestClassifier\n",
    "from sklearn.model_selection import train_test_split\n",
    "from sklearn.pipeline import Pipeline, FeatureUnion\n",
    "from sklearn.base import BaseEstimator, TransformerMixin\n",
    "from sklearn.preprocessing import StandardScaler\n",
    "import spacy\n",
    "from spacy.matcher import Matcher\n",
    "from nltk.tokenize import WordPunctTokenizer\n",
    "from spacy.lang.en import English\n",
    "from spacy.matcher import Matcher"
   ]
  },
  {
   "cell_type": "markdown",
   "metadata": {
    "deletable": false,
    "editable": false,
    "nbgrader": {
     "grade": false,
     "grade_id": "cell-8204f83b1061d2df",
     "locked": true,
     "schema_version": 1,
     "solution": false
    }
   },
   "source": [
    "## The Goal\n",
    "In this learning unit you are going to create a binary classifier to determine if a movie review is 'positive' or 'negative'. You will start by building some basic features, then go on to build more complex ones, and finally putting it all together. You should be able to have a working classifier by the end of the notebook. \n",
    "\n",
    "## The Dataset\n",
    "For this Exercise Notebook, you are going to use the IMDB Large movie dataset - [Movie Review Dataset](http://ai.stanford.edu/~amaas/data/sentiment/). Each movie review has either a Positive, or a Negative label. A negative review has a score equal or less than 4 (out of 10), and a positive review has a score equal or more than 7 (out of 10). Hence, reviews with more neutral ratings are not included in the datasets."
   ]
  },
  {
   "cell_type": "markdown",
   "metadata": {
    "deletable": false,
    "editable": false,
    "nbgrader": {
     "grade": false,
     "grade_id": "cell-aa384cff83153717",
     "locked": true,
     "schema_version": 3,
     "solution": false,
     "task": false
    }
   },
   "source": [
    "## Loading Data\n"
   ]
  },
  {
   "cell_type": "markdown",
   "metadata": {
    "deletable": false,
    "editable": false,
    "nbgrader": {
     "grade": false,
     "grade_id": "cell-72fee239d1777a4a",
     "locked": true,
     "schema_version": 3,
     "solution": false,
     "task": false
    }
   },
   "source": [
    "First of all, let's load both the train and test set into a Dataframe"
   ]
  },
  {
   "cell_type": "code",
   "execution_count": 3,
   "metadata": {
    "deletable": false,
    "editable": false,
    "nbgrader": {
     "grade": false,
     "grade_id": "cell-f7fa5bb85f101a77",
     "locked": true,
     "schema_version": 3,
     "solution": false,
     "task": false
    }
   },
   "outputs": [],
   "source": [
    "def load_imdb_sentiment_analysis_dataset(data_path, seed=42):\n",
    "\n",
    "    imdb_data_path = os.path.join(data_path, 'aclImdb')\n",
    "\n",
    "    # Load the training data\n",
    "    train_texts = []\n",
    "    train_labels = []\n",
    "    for category in ['pos', 'neg']:\n",
    "        train_path = os.path.join(imdb_data_path, 'train', category)\n",
    "        for fname in sorted(os.listdir(train_path)):\n",
    "            if fname.endswith('.txt'):\n",
    "                with open(os.path.join(train_path, fname)) as f:\n",
    "                    train_texts.append(f.read())\n",
    "                train_labels.append(0 if category == 'neg' else 1)\n",
    "                \n",
    "    print(\"\\nFinished loading Train set\\n\")\n",
    "    \n",
    "    # Load the test data.\n",
    "    test_texts = []\n",
    "    test_labels = []\n",
    "    for category in ['pos', 'neg']:\n",
    "        test_path = os.path.join(imdb_data_path, 'test', category)\n",
    "        for fname in sorted(os.listdir(test_path)):\n",
    "            if fname.endswith('.txt'):\n",
    "                with open(os.path.join(test_path, fname)) as f:\n",
    "                    test_texts.append(f.read())\n",
    "                test_labels.append(0 if category == 'neg' else 1)\n",
    "                \n",
    "    print(\"\\nFinished loading Test set\\n\")\n",
    "    \n",
    "    # Shuffle the training data and labels.\n",
    "    random.seed(seed)\n",
    "    random.shuffle(train_texts)\n",
    "    random.seed(seed)\n",
    "    random.shuffle(train_labels)\n",
    "    \n",
    "    return ((train_texts, np.array(train_labels)),\n",
    "            (test_texts, np.array(test_labels)))"
   ]
  },
  {
   "cell_type": "markdown",
   "metadata": {},
   "source": [
    "Warnings: The two cells below might take a few minutes depending on your machine..."
   ]
  },
  {
   "cell_type": "code",
   "execution_count": 4,
   "metadata": {
    "deletable": false,
    "editable": false,
    "nbgrader": {
     "grade": false,
     "grade_id": "cell-5d2fb6dc78356253",
     "locked": true,
     "schema_version": 3,
     "solution": false,
     "task": false
    }
   },
   "outputs": [
    {
     "name": "stdout",
     "output_type": "stream",
     "text": [
      "\n",
      "Finished loading Train set\n",
      "\n",
      "\n",
      "Finished loading Test set\n",
      "\n"
     ]
    }
   ],
   "source": [
    "(x_train, y_train), (x_test, y_test) = load_imdb_sentiment_analysis_dataset(\"datasets/\")\n",
    "df = pd.DataFrame(data=[x_train, y_train], index=[\"text\", \"label\"]).T\n",
    "df = df.append(pd.DataFrame(data=[x_test, y_test], index=[\"text\", \"label\"]).T)[:5000]"
   ]
  },
  {
   "cell_type": "code",
   "execution_count": 5,
   "metadata": {},
   "outputs": [
    {
     "data": {
      "text/html": [
       "<div>\n",
       "<style scoped>\n",
       "    .dataframe tbody tr th:only-of-type {\n",
       "        vertical-align: middle;\n",
       "    }\n",
       "\n",
       "    .dataframe tbody tr th {\n",
       "        vertical-align: top;\n",
       "    }\n",
       "\n",
       "    .dataframe thead th {\n",
       "        text-align: right;\n",
       "    }\n",
       "</style>\n",
       "<table border=\"1\" class=\"dataframe\">\n",
       "  <thead>\n",
       "    <tr style=\"text-align: right;\">\n",
       "      <th></th>\n",
       "      <th>text</th>\n",
       "      <th>label</th>\n",
       "    </tr>\n",
       "  </thead>\n",
       "  <tbody>\n",
       "    <tr>\n",
       "      <th>0</th>\n",
       "      <td>The exploding zeppelins crashing down upon 'Sk...</td>\n",
       "      <td>0</td>\n",
       "    </tr>\n",
       "    <tr>\n",
       "      <th>1</th>\n",
       "      <td>Classic, highly influential low budget thrille...</td>\n",
       "      <td>1</td>\n",
       "    </tr>\n",
       "    <tr>\n",
       "      <th>2</th>\n",
       "      <td>A very close and sharp discription of the bubb...</td>\n",
       "      <td>1</td>\n",
       "    </tr>\n",
       "    <tr>\n",
       "      <th>3</th>\n",
       "      <td>When robot hordes start attacking major cities...</td>\n",
       "      <td>0</td>\n",
       "    </tr>\n",
       "    <tr>\n",
       "      <th>4</th>\n",
       "      <td>This is the second Eytan Fox film I have seen....</td>\n",
       "      <td>1</td>\n",
       "    </tr>\n",
       "  </tbody>\n",
       "</table>\n",
       "</div>"
      ],
      "text/plain": [
       "                                                text label\n",
       "0  The exploding zeppelins crashing down upon 'Sk...     0\n",
       "1  Classic, highly influential low budget thrille...     1\n",
       "2  A very close and sharp discription of the bubb...     1\n",
       "3  When robot hordes start attacking major cities...     0\n",
       "4  This is the second Eytan Fox film I have seen....     1"
      ]
     },
     "execution_count": 5,
     "metadata": {},
     "output_type": "execute_result"
    }
   ],
   "source": [
    "df.head()"
   ]
  },
  {
   "cell_type": "code",
   "execution_count": 6,
   "metadata": {},
   "outputs": [],
   "source": [
    "#! python -m spacy download 'en_core_web_sm'"
   ]
  },
  {
   "cell_type": "code",
   "execution_count": 7,
   "metadata": {
    "deletable": false,
    "editable": false,
    "nbgrader": {
     "grade": false,
     "grade_id": "cell-bbc68a16f01c06dc",
     "locked": true,
     "schema_version": 1,
     "solution": false
    }
   },
   "outputs": [],
   "source": [
    "# load the small-sized SpaCy model\n",
    "nlp = spacy.load('en_core_web_sm')\n",
    "en_stopwords = nlp.Defaults.stop_words\n",
    "\n",
    "\n",
    "# Create a list of SpaCy \"Docs\" by leveraging the SpaCy pipeline\n",
    "docs = list(nlp.pipe(df.text))"
   ]
  },
  {
   "cell_type": "markdown",
   "metadata": {
    "deletable": false,
    "editable": false,
    "nbgrader": {
     "grade": false,
     "grade_id": "cell-58afbb4ebfcde68b",
     "locked": true,
     "schema_version": 3,
     "solution": false,
     "task": false
    }
   },
   "source": [
    "Now let's have a look at the first 2 reviews to understand the text we are dealing with ..."
   ]
  },
  {
   "cell_type": "code",
   "execution_count": 8,
   "metadata": {},
   "outputs": [
    {
     "data": {
      "text/plain": [
       "{\"'d\",\n",
       " \"'ll\",\n",
       " \"'m\",\n",
       " \"'re\",\n",
       " \"'s\",\n",
       " \"'ve\",\n",
       " 'a',\n",
       " 'about',\n",
       " 'above',\n",
       " 'across',\n",
       " 'after',\n",
       " 'afterwards',\n",
       " 'again',\n",
       " 'against',\n",
       " 'all',\n",
       " 'almost',\n",
       " 'alone',\n",
       " 'along',\n",
       " 'already',\n",
       " 'also',\n",
       " 'although',\n",
       " 'always',\n",
       " 'am',\n",
       " 'among',\n",
       " 'amongst',\n",
       " 'amount',\n",
       " 'an',\n",
       " 'and',\n",
       " 'another',\n",
       " 'any',\n",
       " 'anyhow',\n",
       " 'anyone',\n",
       " 'anything',\n",
       " 'anyway',\n",
       " 'anywhere',\n",
       " 'are',\n",
       " 'around',\n",
       " 'as',\n",
       " 'at',\n",
       " 'back',\n",
       " 'be',\n",
       " 'became',\n",
       " 'because',\n",
       " 'become',\n",
       " 'becomes',\n",
       " 'becoming',\n",
       " 'been',\n",
       " 'before',\n",
       " 'beforehand',\n",
       " 'behind',\n",
       " 'being',\n",
       " 'below',\n",
       " 'beside',\n",
       " 'besides',\n",
       " 'between',\n",
       " 'beyond',\n",
       " 'both',\n",
       " 'bottom',\n",
       " 'but',\n",
       " 'by',\n",
       " 'ca',\n",
       " 'call',\n",
       " 'can',\n",
       " 'cannot',\n",
       " 'could',\n",
       " 'did',\n",
       " 'do',\n",
       " 'does',\n",
       " 'doing',\n",
       " 'done',\n",
       " 'down',\n",
       " 'due',\n",
       " 'during',\n",
       " 'each',\n",
       " 'eight',\n",
       " 'either',\n",
       " 'eleven',\n",
       " 'else',\n",
       " 'elsewhere',\n",
       " 'empty',\n",
       " 'enough',\n",
       " 'even',\n",
       " 'ever',\n",
       " 'every',\n",
       " 'everyone',\n",
       " 'everything',\n",
       " 'everywhere',\n",
       " 'except',\n",
       " 'few',\n",
       " 'fifteen',\n",
       " 'fifty',\n",
       " 'first',\n",
       " 'five',\n",
       " 'for',\n",
       " 'former',\n",
       " 'formerly',\n",
       " 'forty',\n",
       " 'four',\n",
       " 'from',\n",
       " 'front',\n",
       " 'full',\n",
       " 'further',\n",
       " 'get',\n",
       " 'give',\n",
       " 'go',\n",
       " 'had',\n",
       " 'has',\n",
       " 'have',\n",
       " 'he',\n",
       " 'hence',\n",
       " 'her',\n",
       " 'here',\n",
       " 'hereafter',\n",
       " 'hereby',\n",
       " 'herein',\n",
       " 'hereupon',\n",
       " 'hers',\n",
       " 'herself',\n",
       " 'him',\n",
       " 'himself',\n",
       " 'his',\n",
       " 'how',\n",
       " 'however',\n",
       " 'hundred',\n",
       " 'i',\n",
       " 'if',\n",
       " 'in',\n",
       " 'indeed',\n",
       " 'into',\n",
       " 'is',\n",
       " 'it',\n",
       " 'its',\n",
       " 'itself',\n",
       " 'just',\n",
       " 'keep',\n",
       " 'last',\n",
       " 'latter',\n",
       " 'latterly',\n",
       " 'least',\n",
       " 'less',\n",
       " 'made',\n",
       " 'make',\n",
       " 'many',\n",
       " 'may',\n",
       " 'me',\n",
       " 'meanwhile',\n",
       " 'might',\n",
       " 'mine',\n",
       " 'more',\n",
       " 'moreover',\n",
       " 'most',\n",
       " 'mostly',\n",
       " 'move',\n",
       " 'much',\n",
       " 'must',\n",
       " 'my',\n",
       " 'myself',\n",
       " \"n't\",\n",
       " 'name',\n",
       " 'namely',\n",
       " 'neither',\n",
       " 'never',\n",
       " 'nevertheless',\n",
       " 'next',\n",
       " 'nine',\n",
       " 'no',\n",
       " 'nobody',\n",
       " 'none',\n",
       " 'noone',\n",
       " 'nor',\n",
       " 'not',\n",
       " 'nothing',\n",
       " 'now',\n",
       " 'nowhere',\n",
       " 'n‘t',\n",
       " 'n’t',\n",
       " 'of',\n",
       " 'off',\n",
       " 'often',\n",
       " 'on',\n",
       " 'once',\n",
       " 'one',\n",
       " 'only',\n",
       " 'onto',\n",
       " 'or',\n",
       " 'other',\n",
       " 'others',\n",
       " 'otherwise',\n",
       " 'our',\n",
       " 'ours',\n",
       " 'ourselves',\n",
       " 'out',\n",
       " 'over',\n",
       " 'own',\n",
       " 'part',\n",
       " 'per',\n",
       " 'perhaps',\n",
       " 'please',\n",
       " 'put',\n",
       " 'quite',\n",
       " 'rather',\n",
       " 're',\n",
       " 'really',\n",
       " 'regarding',\n",
       " 'same',\n",
       " 'say',\n",
       " 'see',\n",
       " 'seem',\n",
       " 'seemed',\n",
       " 'seeming',\n",
       " 'seems',\n",
       " 'serious',\n",
       " 'several',\n",
       " 'she',\n",
       " 'should',\n",
       " 'show',\n",
       " 'side',\n",
       " 'since',\n",
       " 'six',\n",
       " 'sixty',\n",
       " 'so',\n",
       " 'some',\n",
       " 'somehow',\n",
       " 'someone',\n",
       " 'something',\n",
       " 'sometime',\n",
       " 'sometimes',\n",
       " 'somewhere',\n",
       " 'still',\n",
       " 'such',\n",
       " 'take',\n",
       " 'ten',\n",
       " 'than',\n",
       " 'that',\n",
       " 'the',\n",
       " 'their',\n",
       " 'them',\n",
       " 'themselves',\n",
       " 'then',\n",
       " 'thence',\n",
       " 'there',\n",
       " 'thereafter',\n",
       " 'thereby',\n",
       " 'therefore',\n",
       " 'therein',\n",
       " 'thereupon',\n",
       " 'these',\n",
       " 'they',\n",
       " 'third',\n",
       " 'this',\n",
       " 'those',\n",
       " 'though',\n",
       " 'three',\n",
       " 'through',\n",
       " 'throughout',\n",
       " 'thru',\n",
       " 'thus',\n",
       " 'to',\n",
       " 'together',\n",
       " 'too',\n",
       " 'top',\n",
       " 'toward',\n",
       " 'towards',\n",
       " 'twelve',\n",
       " 'twenty',\n",
       " 'two',\n",
       " 'under',\n",
       " 'unless',\n",
       " 'until',\n",
       " 'up',\n",
       " 'upon',\n",
       " 'us',\n",
       " 'used',\n",
       " 'using',\n",
       " 'various',\n",
       " 'very',\n",
       " 'via',\n",
       " 'was',\n",
       " 'we',\n",
       " 'well',\n",
       " 'were',\n",
       " 'what',\n",
       " 'whatever',\n",
       " 'when',\n",
       " 'whence',\n",
       " 'whenever',\n",
       " 'where',\n",
       " 'whereafter',\n",
       " 'whereas',\n",
       " 'whereby',\n",
       " 'wherein',\n",
       " 'whereupon',\n",
       " 'wherever',\n",
       " 'whether',\n",
       " 'which',\n",
       " 'while',\n",
       " 'whither',\n",
       " 'who',\n",
       " 'whoever',\n",
       " 'whole',\n",
       " 'whom',\n",
       " 'whose',\n",
       " 'why',\n",
       " 'will',\n",
       " 'with',\n",
       " 'within',\n",
       " 'without',\n",
       " 'would',\n",
       " 'yet',\n",
       " 'you',\n",
       " 'your',\n",
       " 'yours',\n",
       " 'yourself',\n",
       " 'yourselves',\n",
       " '‘d',\n",
       " '‘ll',\n",
       " '‘m',\n",
       " '‘re',\n",
       " '‘s',\n",
       " '‘ve',\n",
       " '’d',\n",
       " '’ll',\n",
       " '’m',\n",
       " '’re',\n",
       " '’s',\n",
       " '’ve'}"
      ]
     },
     "execution_count": 8,
     "metadata": {},
     "output_type": "execute_result"
    }
   ],
   "source": [
    "en_stopwords"
   ]
  },
  {
   "cell_type": "code",
   "execution_count": 9,
   "metadata": {
    "deletable": false,
    "editable": false,
    "nbgrader": {
     "grade": false,
     "grade_id": "cell-0ce84919fe5c0179",
     "locked": true,
     "schema_version": 3,
     "solution": false,
     "task": false
    }
   },
   "outputs": [
    {
     "data": {
      "text/plain": [
       "[The exploding zeppelins crashing down upon 'Sky Captain' Jude Law's base present an adequate metaphor to describe how truly terrible this movie is. First off, let me state right off the bat that I sincerely doubt that Paramount will ever recover any money from this film. A cult hit it might become, but only because it is so remarkable for what it failed to achieve. I can see the studio pitch now. \"Let's combine 1920's German Expressionism and a 1940's globetrotting adventure with a modern action flick and use computer animation to dominate every scene! Wow, won't that be a success! \" Skycaptain bludgeons the viewer with its sheer excess. There are too many fake explosions, too many unconvincing dogfight scenes, and too few real moments where the characters are anything but painfully two-dimensional. After all, why shock and awe with one floating airship when you can have three, or five, or one hundred?! Moreover, what could have been a groundbreaking film, seamlessly combining computer generated imagery and human actors in a stylized and intriguing setting, will instead become a flop in no small part because it fails to meet the most important requirement of any flick using CGI. Quite simply, the graphics are amazingly poor. From the movement of the cars to the physics of the aircraft in the dogfights, everything seems to be just a little off. I'm not being nit-picky here in any way. An infant could notice that a car doesn't glide along the road like a maglev train (unless its a Mercedes S500). And for those of you raising your voices in protest, crying out 'This is a stylized film, it's not supposed to be like reality', let me just say this. Lord of the Rings has set the standard for integrating real-life actors with CGI, Starship Troopers has set the standard for ironic science fiction films, the Rocketeer did a solid job reintroducing the decade of the 1920's back into the Hollywood film portfolio, and Tim Burton's Batman created a unique picture of New York City/Gotham that has yet to be repeated. Sky Captain falls so short of all these films, it is hard for me to mention them in the same sentence. Plus, the acting is so poor, it makes me positively ill. So there you have it. I spent $9 to see this film and you get my review. I hope it might dissuade you all from making the same mistake that I did.,\n",
       " Classic, highly influential low budget thriller that gave birth to a horror icon and launched the careers of both director Carpenter and star Curtis.<br /><br />Seemingly unstoppable murderer escapes from mental institution and returns to his hometown where he begins to stalk a local babysitter on Halloween.<br /><br />Halloween is a film that never fails to live up to its reputation as a horror masterpiece! Carpenter's frightening story and clever direction give this film such chillingly good life that it must be seen to really be felt! The direction often consists of such simple elements, shadows, dark streets, creaking doors, that it makes even the everyday setting of a small town neighborhood truly creepy. Carpenter well-times his suspense and his jolting shocks to make them the most effectively startling, that in itself is a feat few horror filmmakers ever manage! Plus, he is wise enough to give us some truly likable young characters and a very scary villain to keep the tension all the more strong. Highest kudos also go to Carpenter's simple, yet frighteningly unnerving music score. In a sense, Halloween is a fine example of a perfect horror film!<br /><br />The cast is excellent. Young Jamie Lee Curtis does a very nice turn as lovable babysitter Laurie Strode, she's so good that she would go on to be in a number of other horror films before breaking into bigger films. The great Donald Pleasants does a perfect performance as a Myer's doctor, who's desperate to capture him again. Supporting cast Loomis, Soles, Castle, and others are good too.<br /><br />So like its own villain, Halloween is an unstoppable force that never fails to thrill and chill. It is a MUST for all genre fans!<br /><br />**** out of ****]"
      ]
     },
     "execution_count": 9,
     "metadata": {},
     "output_type": "execute_result"
    }
   ],
   "source": [
    "docs[:2]"
   ]
  },
  {
   "cell_type": "markdown",
   "metadata": {
    "deletable": false,
    "editable": false,
    "nbgrader": {
     "grade": false,
     "grade_id": "cell-76826c54dbe7c129",
     "locked": true,
     "schema_version": 3,
     "solution": false,
     "task": false
    }
   },
   "source": [
    "## Q1 - Text cleaning\n",
    "\n",
    "Looking at the text above, you see that there are several HTML tags. First, let's clean 'em up! BeautifulSoup has a cool `get_text()` method that strips all the leftover html tags. Then let's use Regex, something that you have learned previously, to remove all the punctuations."
   ]
  },
  {
   "cell_type": "code",
   "execution_count": 10,
   "metadata": {
    "deletable": false,
    "nbgrader": {
     "grade": false,
     "grade_id": "cell-e6a921c3380d7349",
     "locked": false,
     "schema_version": 3,
     "solution": true,
     "task": false
    }
   },
   "outputs": [],
   "source": [
    "tokenizer = WordPunctTokenizer()\n",
    "\n",
    "def remove_html_tags(text):\n",
    "    soup = BeautifulSoup(text)\n",
    "    return soup.get_text()\n",
    "\n",
    "def remove_punct(text):\n",
    "    #remove everything except words, digits and space\n",
    "    text = re.sub(r'[^\\w\\s]','',text) \n",
    "        \n",
    "    #regex often miss the underscore so let's remove that as well\n",
    "    text = re.sub(r'\\_','',text)\n",
    "    text = text.lower()\n",
    "    \n",
    "    return text\n",
    "\n",
    "def remove_stopwords(text, stopwords):\n",
    "    tokens = tokenizer.tokenize(text)\n",
    "    tokens = [tok.lower() for tok in tokens]\n",
    "    if stopwords:\n",
    "        tokens = [tok for tok in tokens if tok not in stopwords]\n",
    "\n",
    "    text_processed = ' '.join(tokens)\n",
    "    return text_processed\n",
    "\n",
    "def preprocessing(df):\n",
    "    \"\"\"\n",
    "    Implement the three above functions in the respective order to remove html tags, punctuations and stopwords\n",
    "    Hint: Use the apply function.\n",
    "    \n",
    "    \"\"\"\n",
    "    df_ = df.copy()\n",
    "    \n",
    "    #df_['text'] = df_['text'].apply(...).apply(...).apply(...)\n",
    "    \n",
    "    # YOUR CODE HERE\n",
    "    #raise NotImplementedError()\n",
    "    df_['text'] = df_['text'].apply(remove_html_tags).apply(remove_punct).apply(remove_stopwords,stopwords=en_stopwords)\n",
    "    return df_"
   ]
  },
  {
   "cell_type": "code",
   "execution_count": 11,
   "metadata": {
    "deletable": false,
    "editable": false,
    "nbgrader": {
     "grade": true,
     "grade_id": "cell-4e472878224d73d2",
     "locked": true,
     "points": 2,
     "schema_version": 3,
     "solution": false,
     "task": false
    }
   },
   "outputs": [],
   "source": [
    "# Let's clean, and process the df\n",
    "df_raw = df.copy()\n",
    "df = preprocessing(df)\n",
    "value_hash = '81596d9ecc63f0a3d1b634903b64affc939a27cb09ebe297d4c0d9697ca2bb11'\n",
    "assert sha256(str(df['text']).encode()).hexdigest() == value_hash"
   ]
  },
  {
   "cell_type": "markdown",
   "metadata": {
    "deletable": false,
    "editable": false,
    "nbgrader": {
     "grade": false,
     "grade_id": "cell-3964f5278d3e2e45",
     "locked": true,
     "schema_version": 1,
     "solution": false
    }
   },
   "source": [
    "## Q2 - Text exploration with SpaCy \n",
    "\n",
    "Now that we have cleaned the data, let's start extracting some useful features. We will first start simple and perform some exploration using `SpaCy`.\n",
    "\n",
    "### Q2.a) Create a simple matcher\n",
    "You suspect that some positive words such as \"excellent\", \"classic\", and \"great\" often occur in Positive reviews. Let's quickly test that!"
   ]
  },
  {
   "cell_type": "code",
   "execution_count": 12,
   "metadata": {},
   "outputs": [
    {
     "data": {
      "text/html": [
       "<div>\n",
       "<style scoped>\n",
       "    .dataframe tbody tr th:only-of-type {\n",
       "        vertical-align: middle;\n",
       "    }\n",
       "\n",
       "    .dataframe tbody tr th {\n",
       "        vertical-align: top;\n",
       "    }\n",
       "\n",
       "    .dataframe thead th {\n",
       "        text-align: right;\n",
       "    }\n",
       "</style>\n",
       "<table border=\"1\" class=\"dataframe\">\n",
       "  <thead>\n",
       "    <tr style=\"text-align: right;\">\n",
       "      <th></th>\n",
       "      <th>text</th>\n",
       "      <th>label</th>\n",
       "    </tr>\n",
       "  </thead>\n",
       "  <tbody>\n",
       "    <tr>\n",
       "      <th>0</th>\n",
       "      <td>exploding zeppelins crashing sky captain jude ...</td>\n",
       "      <td>0</td>\n",
       "    </tr>\n",
       "    <tr>\n",
       "      <th>1</th>\n",
       "      <td>classic highly influential low budget thriller...</td>\n",
       "      <td>1</td>\n",
       "    </tr>\n",
       "    <tr>\n",
       "      <th>2</th>\n",
       "      <td>close sharp discription bubbling dynamic emoti...</td>\n",
       "      <td>1</td>\n",
       "    </tr>\n",
       "    <tr>\n",
       "      <th>3</th>\n",
       "      <td>robot hordes start attacking major cities stop...</td>\n",
       "      <td>0</td>\n",
       "    </tr>\n",
       "    <tr>\n",
       "      <th>4</th>\n",
       "      <td>second eytan fox film seen fantastic actor lio...</td>\n",
       "      <td>1</td>\n",
       "    </tr>\n",
       "  </tbody>\n",
       "</table>\n",
       "</div>"
      ],
      "text/plain": [
       "                                                text label\n",
       "0  exploding zeppelins crashing sky captain jude ...     0\n",
       "1  classic highly influential low budget thriller...     1\n",
       "2  close sharp discription bubbling dynamic emoti...     1\n",
       "3  robot hordes start attacking major cities stop...     0\n",
       "4  second eytan fox film seen fantastic actor lio...     1"
      ]
     },
     "execution_count": 12,
     "metadata": {},
     "output_type": "execute_result"
    }
   ],
   "source": [
    "df.head()"
   ]
  },
  {
   "cell_type": "code",
   "execution_count": 13,
   "metadata": {},
   "outputs": [
    {
     "data": {
      "text/plain": [
       "1    240\n",
       "0    133\n",
       "Name: label, dtype: int64"
      ]
     },
     "execution_count": 13,
     "metadata": {},
     "output_type": "execute_result"
    }
   ],
   "source": [
    "df[df['text'].str.contains('classic')].label.value_counts()"
   ]
  },
  {
   "cell_type": "code",
   "execution_count": 14,
   "metadata": {
    "deletable": false,
    "editable": false,
    "nbgrader": {
     "grade": false,
     "grade_id": "cell-a56287fb46358b4e",
     "locked": true,
     "schema_version": 3,
     "solution": false,
     "task": false
    }
   },
   "outputs": [
    {
     "name": "stdout",
     "output_type": "stream",
     "text": [
      "classic\n",
      "1    240\n",
      "0    133\n",
      "Name: label, dtype: int64\n",
      "-------\n",
      "excellent\n",
      "1    332\n",
      "0     68\n",
      "Name: label, dtype: int64\n",
      "-------\n",
      "great\n",
      "1    934\n",
      "0    469\n",
      "Name: label, dtype: int64\n",
      "-------\n"
     ]
    }
   ],
   "source": [
    "for word in ['classic', 'excellent', 'great']:\n",
    "    print(word)\n",
    "    print(df[df['text'].str.contains(word)].label.value_counts())\n",
    "    print('-------')"
   ]
  },
  {
   "cell_type": "markdown",
   "metadata": {
    "deletable": false,
    "editable": false,
    "nbgrader": {
     "grade": false,
     "grade_id": "cell-afd00f2b839c84f5",
     "locked": true,
     "schema_version": 3,
     "solution": false,
     "task": false
    }
   },
   "source": [
    "Indeed, your intuition is right. It's clear that those positive words are more likely to occur in Positive reviews. \n",
    "\n",
    "Now, take advantage of SpaCy's `Matcher` to count the total *exact* number of matches of these words. Looking at the below figure should help you choose the pattern to use for this purpose.\n",
    "\n",
    "![](media/token_attributes.png)"
   ]
  },
  {
   "cell_type": "code",
   "execution_count": 15,
   "metadata": {
    "deletable": false,
    "nbgrader": {
     "grade": false,
     "grade_id": "cell-e1c582f5472593cf",
     "locked": false,
     "schema_version": 1,
     "solution": true
    }
   },
   "outputs": [
    {
     "data": {
      "text/plain": [
       "2473"
      ]
     },
     "execution_count": 15,
     "metadata": {},
     "output_type": "execute_result"
    }
   ],
   "source": [
    "# Count the number of total exact matches of the words \"excellent\", \"great\", and \"classic\" using the SpaCy Matcher and assign it to \"count\"\n",
    "#matcher = Matcher(...)\n",
    "#\n",
    "#for ... :\n",
    "#    pattern = [...]\n",
    "#    matcher.add(...)\n",
    "#\n",
    "#count =0\n",
    "#for doc in docs:\n",
    "#    matches = ...\n",
    "#    count += ...\n",
    "\n",
    "# YOUR CODE HERE\n",
    "matcher = Matcher(nlp.vocab)\n",
    "words = ['excellent','great','classic']\n",
    "for word in words:\n",
    "    pattern = [{'TEXT':word.lower()}]\n",
    "    matcher.add(word,None,pattern)\n",
    "count =0\n",
    "for doc in docs:\n",
    "    matches = matcher(doc)\n",
    "    for match_id, start, end in matches:\n",
    "        span = doc[start:end]  # the matched span\n",
    "        span_text = span.text  # the span as a string\n",
    "        #print(start, end, span_text)\n",
    "        count +=1\n",
    "count\n",
    "\n",
    "#raise NotImplementedError()"
   ]
  },
  {
   "cell_type": "code",
   "execution_count": 16,
   "metadata": {
    "deletable": false,
    "editable": false,
    "nbgrader": {
     "grade": true,
     "grade_id": "cell-8c4c03bc54acfdc0",
     "locked": true,
     "points": 2,
     "schema_version": 1,
     "solution": false
    }
   },
   "outputs": [],
   "source": [
    "count_hash = '33e14c27247dae6ca2ac565cf7d5fa4200defa487918c52a2dfcccb6d09b4329'\n",
    "assert sha256(str(count).encode()).hexdigest() == count_hash"
   ]
  },
  {
   "cell_type": "markdown",
   "metadata": {
    "deletable": false,
    "editable": false,
    "nbgrader": {
     "grade": false,
     "grade_id": "cell-90610064b252d533",
     "locked": true,
     "schema_version": 1,
     "solution": false
    }
   },
   "source": [
    "### Q2.b) Extract Emojis\n",
    "\n",
    "Looking at a few review examples, you realized that people tend to use emojis in their reviews. Perhaps we could extract some signals out of these? \n",
    "\n",
    "Let's build a matcher to extract positive emojis & negative emojis from the text and store their counts in `positive_emojis_count` and `negative_emojis_count`. \n",
    "\n",
    "You can easily do this with Regex - Spacy allows us to add the `REGEX` operator to our Matcher object. Hint: Check out [Spacy's documentation](https://spacy.io/usage/rule-based-matching#regex) to learn how to do that. "
   ]
  },
  {
   "cell_type": "code",
   "execution_count": 17,
   "metadata": {
    "deletable": false,
    "nbgrader": {
     "grade": false,
     "grade_id": "cell-cdebc756314d71d9",
     "locked": false,
     "schema_version": 3,
     "solution": true,
     "task": false
    }
   },
   "outputs": [],
   "source": [
    "nlp = English()  # We only want the tokenizer, so no need to load a model\n",
    "matcher = Matcher(nlp.vocab)\n",
    "\n",
    "pos_patterns = [{'TEXT':{\"REGEX\": r\"\\:\\)\"}}] #- For Positive emoji let's use \":)\"\n",
    "neg_patterns = [{'TEXT':{\"REGEX\": r\"\\:\\(\"}}] #- For Negative emoji let's use \":(\"\n",
    "\n",
    "# Hint - Don't forget to escape the special character \"(\" and \")\"\n",
    "# YOUR CODE HERE\n",
    "#raise NotImplementedError()\n",
    "\n",
    "def count_emoji_matches(pattern, docs = docs):\n",
    "    matcher = Matcher(nlp.vocab)\n",
    "    matcher.add(\"EMOJIS\", None, pattern)\n",
    "    \n",
    "    n_emojis = []\n",
    "    for doc in docs:\n",
    "        matches = matcher(doc)\n",
    "        emojis_count = len(matches)\n",
    "        for match in matches:\n",
    "            emojis_count += 1\n",
    "        n_emojis.append(emojis_count)\n",
    "            \n",
    "    return n_emojis\n",
    "\n",
    "positive_emojis_count = sum(count_emoji_matches(pos_patterns))\n",
    "negative_emojis_count = sum(count_emoji_matches(neg_patterns))"
   ]
  },
  {
   "cell_type": "code",
   "execution_count": 18,
   "metadata": {
    "deletable": false,
    "editable": false,
    "nbgrader": {
     "grade": true,
     "grade_id": "cell-790c430e04cb0f1e",
     "locked": true,
     "points": 2,
     "schema_version": 1,
     "solution": false
    }
   },
   "outputs": [],
   "source": [
    "positive_hash = '7688b6ef52555962d008fff894223582c484517cea7da49ee67800adc7fc8866'\n",
    "negative_hash = 'd4735e3a265e16eee03f59718b9b5d03019c07d8b6c51f90da3a666eec13ab35'\n",
    "assert sha256(str(positive_emojis_count).encode()).hexdigest() == positive_hash\n",
    "assert sha256(str(negative_emojis_count).encode()).hexdigest() == negative_hash"
   ]
  },
  {
   "cell_type": "markdown",
   "metadata": {
    "deletable": false,
    "editable": false,
    "nbgrader": {
     "grade": false,
     "grade_id": "cell-880531b38c9b67b6",
     "locked": true,
     "schema_version": 1,
     "solution": false
    }
   },
   "source": [
    "### Q2.c) Extract Part of Speech features\n",
    "\n",
    "You also think that negative reviews may have several adverbs followed by an adjective to express the extent to which how bad a movie is (e.g. ridiculously bad, unbelievable awful)\n",
    "\n",
    "To help you, here's the list of PoS available in SpaCy:\n",
    "\n",
    "![](media/pos_helper.png)\n",
    "\n",
    "To complete this exercise you should build a matcher to extract all adverbs that are followed by an adjective. Store this sequence in a list, and assign the result to `adv_adj_list`."
   ]
  },
  {
   "cell_type": "code",
   "execution_count": 19,
   "metadata": {
    "deletable": false,
    "nbgrader": {
     "grade": false,
     "grade_id": "cell-64683287d0596aeb",
     "locked": false,
     "schema_version": 1,
     "solution": true
    }
   },
   "outputs": [
    {
     "data": {
      "text/plain": [
       "15679"
      ]
     },
     "execution_count": 19,
     "metadata": {},
     "output_type": "execute_result"
    }
   ],
   "source": [
    "#Store all the adv-adj sequence in a list called adv_adj_list\n",
    "#matcher = ...\n",
    "#pattern = [...]\n",
    "#matcher.add(...)\n",
    "#\n",
    "#adv_adj_list = []\n",
    "#for doc in docs:\n",
    "#    matches = ...\n",
    "#    for ... in matches:\n",
    "#        adv_adj_list.append(...)\n",
    "\n",
    "\n",
    "# YOUR CODE HERE\n",
    "matcher = Matcher(nlp.vocab)\n",
    "pattern = [{'POS': 'ADV'},{'POS':'ADJ'}]\n",
    "matcher.add('word',None,pattern)\n",
    "#\n",
    "adv_adj_list = []\n",
    "for doc in docs:\n",
    "    matches = matcher(doc)\n",
    "    for match_id, start, end in matches:\n",
    "        string_id = nlp.vocab.strings[match_id] \n",
    "        span = doc[start:end]\n",
    "        adv_adj_list.append(span)\n",
    "#raise NotImplementedError()\n",
    "len(adv_adj_list)"
   ]
  },
  {
   "cell_type": "code",
   "execution_count": 20,
   "metadata": {
    "deletable": false,
    "editable": false,
    "nbgrader": {
     "grade": true,
     "grade_id": "cell-2d0d7a2d2ed5ed85",
     "locked": true,
     "points": 2,
     "schema_version": 3,
     "solution": false,
     "task": false
    }
   },
   "outputs": [],
   "source": [
    "list_hash = '1cde2b9de1483573a1d70aed1fc8f90eb8c3f18a992f289543e3aa4c09a14edd'\n",
    "assert len(adv_adj_list) == 15679\n",
    "assert sha256(','.join(map(str, adv_adj_list)).encode()).hexdigest() == list_hash"
   ]
  },
  {
   "cell_type": "markdown",
   "metadata": {
    "deletable": false,
    "editable": false,
    "nbgrader": {
     "grade": false,
     "grade_id": "cell-e178d0f93c0b875c",
     "locked": true,
     "schema_version": 3,
     "solution": false,
     "task": false
    }
   },
   "source": [
    "### Q2.d) Extract entities\n",
    "\n",
    "Your intuition is that Positive Reviews are likely to describe the movie plot, citing several locations in the movie. An idea is to extract some locations from the text.\n",
    "\n",
    "Build a `Matcher` to match Location in the text and extract the top 10 most common ones. Assign them to `most_common_ents`.\n",
    "\n",
    "*hint: Use [Counter](https://docs.python.org/3/library/collections.html#collections.Counter) to extract the most common elements (check the most_common(n) method). You will need to feed it strings (not SpaCy spans)*\n",
    "\n",
    "*note: in a real-case scenario we would perform some text preprocessing first and build a better entity recognizer, but let us not worry about that here*\n"
   ]
  },
  {
   "cell_type": "code",
   "execution_count": 21,
   "metadata": {},
   "outputs": [
    {
     "data": {
      "text/plain": [
       "5000"
      ]
     },
     "execution_count": 21,
     "metadata": {},
     "output_type": "execute_result"
    }
   ],
   "source": [
    "len(docs)"
   ]
  },
  {
   "cell_type": "code",
   "execution_count": 22,
   "metadata": {
    "deletable": false,
    "nbgrader": {
     "grade": false,
     "grade_id": "cell-7c82f29c4da571fd",
     "locked": false,
     "schema_version": 1,
     "solution": true
    }
   },
   "outputs": [
    {
     "data": {
      "text/plain": [
       "[('Hollywood', 337),\n",
       " ('New', 170),\n",
       " ('York', 141),\n",
       " ('America', 123),\n",
       " ('US', 106),\n",
       " ('London', 77),\n",
       " ('Japan', 57),\n",
       " ('Paris', 57),\n",
       " ('England', 50),\n",
       " ('City', 49)]"
      ]
     },
     "execution_count": 22,
     "metadata": {},
     "output_type": "execute_result"
    }
   ],
   "source": [
    "# Build a matcher to extract the location-type entities from the text and assign them to most_common_ents\n",
    "#\n",
    "#matcher = ...\n",
    "#\n",
    "#pattern = [...]\n",
    "#matcher.add(...)\n",
    "# \n",
    "#...\n",
    "#\n",
    "# most_common_ents = ...\n",
    "\n",
    "# YOUR CODE HERE\n",
    "\n",
    "#location_list = []\n",
    "#for i, doc in enumerate(docs):\n",
    "#    for e in doc.ents:\n",
    "#        if e.label_ == 'GPE':   \n",
    "#            location_list.append(e.text)\n",
    "#most_common_ents = Counter(location_list).most_common(10)\n",
    "#most_common_ents=[el[0] for el in most_common_ents]\n",
    "#most_common_ents\n",
    "###########################################################################\n",
    "#\n",
    "matcher = Matcher(nlp.vocab)\n",
    "#\n",
    "pattern = [{'ENT_TYPE':'GPE'}]\n",
    "matcher.add('LOC', None, pattern)\n",
    "#matcher.add(...)\n",
    "most_common_ents_list = []\n",
    "for doc in docs:\n",
    "    matches = matcher(doc)\n",
    "    for match_id, start, end in matches:\n",
    "        span = doc[start:end]  # the matched span\n",
    "        span_text = span.text  # the span as a string\n",
    "        most_common_ents_list.append(span_text)\n",
    "most_common_ents = Counter(most_common_ents_list).most_common(10)\n",
    "most_common_ents\n",
    "#raise NotImplementedError()"
   ]
  },
  {
   "cell_type": "code",
   "execution_count": 23,
   "metadata": {
    "deletable": false,
    "editable": false,
    "nbgrader": {
     "grade": true,
     "grade_id": "cell-f7cb2acd87b1549d",
     "locked": true,
     "points": 2,
     "schema_version": 3,
     "solution": false,
     "task": false
    }
   },
   "outputs": [],
   "source": [
    "ent_hash = \"35eb8667c8e28dacaba6290382dc6d46e4df777b27d1eef8678e099ad359de25\"\n",
    "assert len(most_common_ents) == 10\n",
    "assert sha256(','.join(map(str, most_common_ents)).encode()).hexdigest() == ent_hash"
   ]
  },
  {
   "cell_type": "markdown",
   "metadata": {
    "deletable": false,
    "editable": false,
    "nbgrader": {
     "grade": false,
     "grade_id": "cell-fb8248e18ff20bd6",
     "locked": true,
     "schema_version": 3,
     "solution": false,
     "task": false
    }
   },
   "source": [
    "Now that we have the most common locations, let's quickly check its usefulness and whether we should include it as a feature. \n",
    "\n",
    "Indeed, as can be seen below, locations are more likely to occur in Positive Reviews."
   ]
  },
  {
   "cell_type": "code",
   "execution_count": 24,
   "metadata": {
    "deletable": false,
    "editable": false,
    "nbgrader": {
     "grade": false,
     "grade_id": "cell-64f5f34fb17c25bc",
     "locked": true,
     "schema_version": 3,
     "solution": false,
     "task": false
    }
   },
   "outputs": [
    {
     "name": "stdout",
     "output_type": "stream",
     "text": [
      "Hollywood\n",
      "1    150\n",
      "0    123\n",
      "Name: label, dtype: int64\n",
      "-------\n",
      "New\n",
      "1    144\n",
      "0     78\n",
      "Name: label, dtype: int64\n",
      "-------\n",
      "York\n",
      "1    97\n",
      "0    35\n",
      "Name: label, dtype: int64\n",
      "-------\n",
      "America\n",
      "1    263\n",
      "0    192\n",
      "Name: label, dtype: int64\n",
      "-------\n",
      "US\n",
      "1    102\n",
      "0     81\n",
      "Name: label, dtype: int64\n",
      "-------\n",
      "London\n",
      "1    42\n",
      "0    32\n",
      "Name: label, dtype: int64\n",
      "-------\n",
      "Japan\n",
      "1    63\n",
      "0    43\n",
      "Name: label, dtype: int64\n",
      "-------\n",
      "Paris\n",
      "1    32\n",
      "0    17\n",
      "Name: label, dtype: int64\n",
      "-------\n",
      "England\n",
      "1    40\n",
      "0    17\n",
      "Name: label, dtype: int64\n",
      "-------\n",
      "City\n",
      "1    47\n",
      "0    23\n",
      "Name: label, dtype: int64\n",
      "-------\n"
     ]
    }
   ],
   "source": [
    "most_common_locations = [loc[0] for loc in most_common_ents]\n",
    "\n",
    "for word in most_common_locations:\n",
    "    print(word)\n",
    "    print(df_raw[df_raw['text'].str.contains(word)].label.value_counts())\n",
    "    print('-------')"
   ]
  },
  {
   "cell_type": "markdown",
   "metadata": {
    "deletable": false,
    "editable": false,
    "nbgrader": {
     "grade": false,
     "grade_id": "cell-45e34f159eafa6a7",
     "locked": true,
     "schema_version": 1,
     "solution": false
    }
   },
   "source": [
    "## Q3 - Create Numerical Features\n",
    "\n",
    "You start thinking what features could actually be useful for solving your problem. One possible factor that may help is to know the number of adjectives used, the length of the review, average word length and the count of positive & negative emojis\n",
    "\n",
    "Add extra fields to the `df` dataframe with:\n",
    "- The count of the number of adjectives - consider the adjectives as those identified by SpaCy\n",
    "- The length of the document - you can simply count the number of characters. \n",
    "- The average word length - you learned how to do this in Learning Notebook - you don't need to remove stopwords as we already did it in the beginning\n",
    "- The count of positive emojis - Hint: use `count_emoji_matches` function in Q2b.\n",
    "- The count of negative emojis - Hint: use `count_emoji_matches` function in Q2b.\n",
    "\n",
    "Assign the number of adjectives to a new column called `n_adjs`, the length of the reviews to a column called `text_length`, average word length to a column called `avg_word_length`, and the count of positive and negative emojis to two columns called `positive_emojis_count` and `negative_emojis_count`, respectively."
   ]
  },
  {
   "cell_type": "code",
   "execution_count": 25,
   "metadata": {
    "deletable": false,
    "nbgrader": {
     "grade": false,
     "grade_id": "cell-bab0e5a3f8f8cbc7",
     "locked": false,
     "schema_version": 1,
     "solution": true
    }
   },
   "outputs": [
    {
     "data": {
      "text/html": [
       "<div>\n",
       "<style scoped>\n",
       "    .dataframe tbody tr th:only-of-type {\n",
       "        vertical-align: middle;\n",
       "    }\n",
       "\n",
       "    .dataframe tbody tr th {\n",
       "        vertical-align: top;\n",
       "    }\n",
       "\n",
       "    .dataframe thead th {\n",
       "        text-align: right;\n",
       "    }\n",
       "</style>\n",
       "<table border=\"1\" class=\"dataframe\">\n",
       "  <thead>\n",
       "    <tr style=\"text-align: right;\">\n",
       "      <th></th>\n",
       "      <th>text</th>\n",
       "      <th>label</th>\n",
       "      <th>n_adjs</th>\n",
       "      <th>text_length</th>\n",
       "      <th>avg_word_length_old</th>\n",
       "      <th>avg_word_length</th>\n",
       "      <th>positive_emojis_count</th>\n",
       "      <th>negative_emojis_count</th>\n",
       "    </tr>\n",
       "  </thead>\n",
       "  <tbody>\n",
       "    <tr>\n",
       "      <th>0</th>\n",
       "      <td>exploding zeppelins crashing sky captain jude ...</td>\n",
       "      <td>0</td>\n",
       "      <td>30</td>\n",
       "      <td>1333</td>\n",
       "      <td>4.008299</td>\n",
       "      <td>6.329670</td>\n",
       "      <td>0</td>\n",
       "      <td>0</td>\n",
       "    </tr>\n",
       "    <tr>\n",
       "      <th>1</th>\n",
       "      <td>classic highly influential low budget thriller...</td>\n",
       "      <td>1</td>\n",
       "      <td>38</td>\n",
       "      <td>1115</td>\n",
       "      <td>4.383686</td>\n",
       "      <td>6.696552</td>\n",
       "      <td>0</td>\n",
       "      <td>0</td>\n",
       "    </tr>\n",
       "    <tr>\n",
       "      <th>2</th>\n",
       "      <td>close sharp discription bubbling dynamic emoti...</td>\n",
       "      <td>1</td>\n",
       "      <td>15</td>\n",
       "      <td>227</td>\n",
       "      <td>4.275000</td>\n",
       "      <td>6.600000</td>\n",
       "      <td>0</td>\n",
       "      <td>0</td>\n",
       "    </tr>\n",
       "    <tr>\n",
       "      <th>3</th>\n",
       "      <td>robot hordes start attacking major cities stop...</td>\n",
       "      <td>0</td>\n",
       "      <td>45</td>\n",
       "      <td>1285</td>\n",
       "      <td>4.269767</td>\n",
       "      <td>6.224719</td>\n",
       "      <td>0</td>\n",
       "      <td>0</td>\n",
       "    </tr>\n",
       "    <tr>\n",
       "      <th>4</th>\n",
       "      <td>second eytan fox film seen fantastic actor lio...</td>\n",
       "      <td>1</td>\n",
       "      <td>21</td>\n",
       "      <td>733</td>\n",
       "      <td>3.602339</td>\n",
       "      <td>5.612613</td>\n",
       "      <td>0</td>\n",
       "      <td>0</td>\n",
       "    </tr>\n",
       "    <tr>\n",
       "      <th>...</th>\n",
       "      <td>...</td>\n",
       "      <td>...</td>\n",
       "      <td>...</td>\n",
       "      <td>...</td>\n",
       "      <td>...</td>\n",
       "      <td>...</td>\n",
       "      <td>...</td>\n",
       "      <td>...</td>\n",
       "    </tr>\n",
       "    <tr>\n",
       "      <th>4995</th>\n",
       "      <td>best hong kong action films tense exciting sto...</td>\n",
       "      <td>1</td>\n",
       "      <td>8</td>\n",
       "      <td>262</td>\n",
       "      <td>3.720000</td>\n",
       "      <td>5.575000</td>\n",
       "      <td>0</td>\n",
       "      <td>0</td>\n",
       "    </tr>\n",
       "    <tr>\n",
       "      <th>4996</th>\n",
       "      <td>despite feelings star wars fans opinion return...</td>\n",
       "      <td>1</td>\n",
       "      <td>34</td>\n",
       "      <td>1417</td>\n",
       "      <td>3.965812</td>\n",
       "      <td>5.784689</td>\n",
       "      <td>0</td>\n",
       "      <td>0</td>\n",
       "    </tr>\n",
       "    <tr>\n",
       "      <th>4997</th>\n",
       "      <td>disappointed movie like french actors liked bu...</td>\n",
       "      <td>0</td>\n",
       "      <td>4</td>\n",
       "      <td>137</td>\n",
       "      <td>3.960000</td>\n",
       "      <td>5.900000</td>\n",
       "      <td>0</td>\n",
       "      <td>0</td>\n",
       "    </tr>\n",
       "    <tr>\n",
       "      <th>4998</th>\n",
       "      <td>nonaquatic role esther williams plays school t...</td>\n",
       "      <td>1</td>\n",
       "      <td>13</td>\n",
       "      <td>410</td>\n",
       "      <td>4.539823</td>\n",
       "      <td>7.058824</td>\n",
       "      <td>0</td>\n",
       "      <td>0</td>\n",
       "    </tr>\n",
       "    <tr>\n",
       "      <th>4999</th>\n",
       "      <td>true setting paris great actors fine story twi...</td>\n",
       "      <td>0</td>\n",
       "      <td>15</td>\n",
       "      <td>325</td>\n",
       "      <td>3.597315</td>\n",
       "      <td>5.520000</td>\n",
       "      <td>0</td>\n",
       "      <td>0</td>\n",
       "    </tr>\n",
       "  </tbody>\n",
       "</table>\n",
       "<p>5000 rows × 8 columns</p>\n",
       "</div>"
      ],
      "text/plain": [
       "                                                   text label  n_adjs  \\\n",
       "0     exploding zeppelins crashing sky captain jude ...     0      30   \n",
       "1     classic highly influential low budget thriller...     1      38   \n",
       "2     close sharp discription bubbling dynamic emoti...     1      15   \n",
       "3     robot hordes start attacking major cities stop...     0      45   \n",
       "4     second eytan fox film seen fantastic actor lio...     1      21   \n",
       "...                                                 ...   ...     ...   \n",
       "4995  best hong kong action films tense exciting sto...     1       8   \n",
       "4996  despite feelings star wars fans opinion return...     1      34   \n",
       "4997  disappointed movie like french actors liked bu...     0       4   \n",
       "4998  nonaquatic role esther williams plays school t...     1      13   \n",
       "4999  true setting paris great actors fine story twi...     0      15   \n",
       "\n",
       "      text_length  avg_word_length_old  avg_word_length  \\\n",
       "0            1333             4.008299         6.329670   \n",
       "1            1115             4.383686         6.696552   \n",
       "2             227             4.275000         6.600000   \n",
       "3            1285             4.269767         6.224719   \n",
       "4             733             3.602339         5.612613   \n",
       "...           ...                  ...              ...   \n",
       "4995          262             3.720000         5.575000   \n",
       "4996         1417             3.965812         5.784689   \n",
       "4997          137             3.960000         5.900000   \n",
       "4998          410             4.539823         7.058824   \n",
       "4999          325             3.597315         5.520000   \n",
       "\n",
       "      positive_emojis_count  negative_emojis_count  \n",
       "0                         0                      0  \n",
       "1                         0                      0  \n",
       "2                         0                      0  \n",
       "3                         0                      0  \n",
       "4                         0                      0  \n",
       "...                     ...                    ...  \n",
       "4995                      0                      0  \n",
       "4996                      0                      0  \n",
       "4997                      0                      0  \n",
       "4998                      0                      0  \n",
       "4999                      0                      0  \n",
       "\n",
       "[5000 rows x 8 columns]"
      ]
     },
     "execution_count": 25,
     "metadata": {},
     "output_type": "execute_result"
    }
   ],
   "source": [
    "# Hint: you can iterate over the tokens in Spacy doc to inspect them \n",
    "# for doc in docs:\n",
    "#    print(doc.ents)\n",
    "#    for token in doc:\n",
    "#        print(token.pos_)\n",
    "\n",
    "#n_adjs = []\n",
    "#\n",
    "#for doc in docs:\n",
    "#    count_adjs = 0\n",
    "#    ...\n",
    "#    ...\n",
    "#    n_adjs.append(count_adjs)\n",
    "#\n",
    "#df['n_adjs'] = n_adjs\n",
    "#df['text_length'] = ...\n",
    "#df['avg_word_length'] = ...\n",
    "#df['positive_emojis_count'] = count_emoji_matches(...)\n",
    "#df['negative_emojis_count'] = count_emoji_matches(...)\n",
    "\n",
    "# YOUR CODE HERE\n",
    "#for doc in docs:\n",
    "    #print(doc.ents)\n",
    "    #for token in doc:\n",
    "        #print(token.pos_)\n",
    "\n",
    "name_of__adjs = [[token for token in doc if token.pos_ == 'ADJ'] for doc in docs]\n",
    "n_adjs = [len(internal_list) for internal_list in name_of__adjs]\n",
    "##ssd = [[np.mean(len(token)) for token in doc] for doc in docs]\n",
    "#ssd\n",
    "avg_word_length = []\n",
    "for doc in docs:\n",
    "    len_word = []\n",
    "    for word in doc:\n",
    "        len_word.append(len(word))\n",
    "    avg_word_length.append(np.mean(len_word))  \n",
    "####for doc in docs:\n",
    "   ####count_adjs = 0\n",
    "#    ...\n",
    "#    ...\n",
    "    ####n_adjs.append(count_adjs)\n",
    "#\n",
    "df['n_adjs'] = n_adjs\n",
    "#df['text_length'] = [len(doc) for doc in docs]\n",
    "df['text_length']=df['text'].map(len)\n",
    "df['avg_word_length_old'] = avg_word_length \n",
    "#get the average word length\n",
    "df['avg_word_length'] = df['text'].apply(lambda x: np.mean([len(t) for t in x.split() ]) if len([len(t) for t in x.split(' ') ]) > 0 else 0)\n",
    "df['positive_emojis_count'] = count_emoji_matches(pos_patterns)\n",
    "df['negative_emojis_count'] = count_emoji_matches(neg_patterns)\n",
    "df\n",
    "#raise NotImplementedError()"
   ]
  },
  {
   "cell_type": "code",
   "execution_count": 26,
   "metadata": {},
   "outputs": [
    {
     "data": {
      "text/plain": [
       "30553.0"
      ]
     },
     "execution_count": 26,
     "metadata": {},
     "output_type": "execute_result"
    }
   ],
   "source": [
    "df.avg_word_length.round().sum()"
   ]
  },
  {
   "cell_type": "code",
   "execution_count": 27,
   "metadata": {
    "deletable": false,
    "editable": false,
    "nbgrader": {
     "grade": true,
     "grade_id": "cell-03dbc9fa2ea23663",
     "locked": true,
     "points": 3,
     "schema_version": 1,
     "solution": false
    }
   },
   "outputs": [],
   "source": [
    "assert all(col in df.columns for col in ('n_adjs', 'avg_word_length', 'text_length', 'positive_emojis_count', 'negative_emojis_count'))\n",
    "assert df.n_adjs.sum() == 101733\n",
    "assert np.allclose(df.avg_word_length.sum(), 29805, 5)\n",
    "assert df.text_length.sum() == 3829351\n",
    "assert df.positive_emojis_count.sum() == 56\n",
    "assert df.negative_emojis_count.sum() == 2"
   ]
  },
  {
   "cell_type": "markdown",
   "metadata": {
    "deletable": false,
    "editable": false,
    "nbgrader": {
     "grade": false,
     "grade_id": "cell-923d795a48aa24c6",
     "locked": true,
     "schema_version": 1,
     "solution": false
    }
   },
   "source": [
    "## Q4 - Pipelines and Feature Unions\n",
    "It is now time for you to leverage on your newly built features and construct pipelines that can be fed to a classifier. You decide to use a [Random Forest Classifier](https://scikit-learn.org/stable/modules/generated/sklearn.ensemble.RandomForestClassifier.html) as you hear from industry experts it tends to work well for text classification problems."
   ]
  },
  {
   "cell_type": "code",
   "execution_count": 28,
   "metadata": {
    "deletable": false,
    "editable": false,
    "nbgrader": {
     "grade": false,
     "grade_id": "cell-9c8ff5d97624ac9b",
     "locked": true,
     "schema_version": 1,
     "solution": false
    }
   },
   "outputs": [
    {
     "name": "stderr",
     "output_type": "stream",
     "text": [
      "/home/sonia/.virtualenvs/blu09/lib/python3.6/site-packages/pandas/core/generic.py:5159: SettingWithCopyWarning: \n",
      "A value is trying to be set on a copy of a slice from a DataFrame.\n",
      "Try using .loc[row_indexer,col_indexer] = value instead\n",
      "\n",
      "See the caveats in the documentation: https://pandas.pydata.org/pandas-docs/stable/user_guide/indexing.html#returning-a-view-versus-a-copy\n",
      "  self[name] = value\n"
     ]
    }
   ],
   "source": [
    "# split data into train and test sets\n",
    "train_data, test_data = train_test_split(df, test_size=0.2, random_state=42)\n",
    "train_data.label = train_data.label.astype(int)"
   ]
  },
  {
   "cell_type": "code",
   "execution_count": 29,
   "metadata": {
    "deletable": false,
    "editable": false,
    "nbgrader": {
     "grade": false,
     "grade_id": "cell-7084694ab285eb01",
     "locked": true,
     "schema_version": 1,
     "solution": false
    }
   },
   "outputs": [],
   "source": [
    "class Selector(BaseEstimator, TransformerMixin):\n",
    "    \"\"\"\n",
    "    Transformer to select a column from the dataframe to perform additional transformations on\n",
    "    \"\"\" \n",
    "    def __init__(self, key):\n",
    "        self.key = key\n",
    "        \n",
    "    def fit(self, X, y=None):\n",
    "        return self\n",
    "    \n",
    "\n",
    "class TextSelector(Selector):\n",
    "    \"\"\"\n",
    "    Transformer to select a single column from the data frame to perform additional transformations on\n",
    "    Use on text columns in the data\n",
    "    \"\"\"\n",
    "    def transform(self, X):\n",
    "        return X[self.key]\n",
    "    \n",
    "    \n",
    "class NumberSelector(Selector):\n",
    "    \"\"\"\n",
    "    Transformer to select a single column from the data frame to perform additional transformations on\n",
    "    Use on numeric columns in the data\n",
    "    \"\"\"\n",
    "    def transform(self, X):\n",
    "        return X[[self.key]]\n",
    "\n",
    "    \n",
    "def get_accuracy(feats, train_data, test_data):\n",
    "    \"\"\"\n",
    "    Return the accuracy on the test_data by using a RandomForestClassifier trained on the \n",
    "    train_data with the features described by feats\n",
    "    \"\"\"\n",
    "\n",
    "    pipeline = Pipeline([\n",
    "        ('features',feats),\n",
    "        ('classifier', RandomForestClassifier(random_state = 42, n_estimators=10)),\n",
    "    ])\n",
    "\n",
    "    pipeline.fit(train_data, train_data.label)\n",
    "\n",
    "    preds = pipeline.predict(test_data)\n",
    "    accuracy = np.mean(preds == test_data.label)\n",
    "    \n",
    "    print(\"Accuracy: {:.4f}\".format(accuracy))\n",
    "    \n",
    "    return accuracy"
   ]
  },
  {
   "cell_type": "markdown",
   "metadata": {
    "deletable": false,
    "editable": false,
    "nbgrader": {
     "grade": false,
     "grade_id": "cell-42ba44a8653efe95",
     "locked": true,
     "schema_version": 1,
     "solution": false
    }
   },
   "source": [
    "### Q4.a) Build a Feature Union\n",
    "You hypothesize that combining the text and numerical features could help you build a strong classifier. \n",
    "\n",
    "Use `FeatureUnion` to join:\n",
    "- The Text features extracted from a standard sklearn `TfidfVectorizer` (with $ngram\\_range=(1,2)$)\n",
    "- The numeric feature of the length of the messages scaled to zero mean and unit variance *[hint](https://scikit-learn.org/stable/modules/generated/sklearn.preprocessing.StandardScaler.html)*\n",
    "- The average word length that you have created previously\n",
    "\n",
    "Assign the Feature Union to a variable named `feats`."
   ]
  },
  {
   "cell_type": "code",
   "execution_count": 30,
   "metadata": {
    "deletable": false,
    "nbgrader": {
     "grade": false,
     "grade_id": "cell-0848e748dc61721f",
     "locked": false,
     "schema_version": 1,
     "solution": true
    }
   },
   "outputs": [],
   "source": [
    "text_pipe = Pipeline([\n",
    "                ('selector', TextSelector(\"text\")),\n",
    "                ('tfidf', TfidfVectorizer(ngram_range=(1,2)))\n",
    "            ])\n",
    "text_len_pipe =  Pipeline([\n",
    "                ('selector', NumberSelector(\"text_length\")),\n",
    "                ('standard', StandardScaler())\n",
    "            ])\n",
    "word_len_pipe =  Pipeline([\n",
    "                ('selector', NumberSelector(\"avg_word_length\")),\n",
    "                ('standard', StandardScaler())\n",
    "            ])\n",
    "feats = FeatureUnion([('text_pipe',text_pipe),('text_len_pipe',text_len_pipe),('word_len_pipe',word_len_pipe)])\n",
    "\n",
    "# YOUR CODE HERE\n",
    "#raise NotImplementedError()"
   ]
  },
  {
   "cell_type": "code",
   "execution_count": 31,
   "metadata": {
    "deletable": false,
    "editable": false,
    "nbgrader": {
     "grade": true,
     "grade_id": "cell-80971dd7f21ec905",
     "locked": true,
     "points": 3,
     "schema_version": 1,
     "solution": false
    }
   },
   "outputs": [
    {
     "name": "stdout",
     "output_type": "stream",
     "text": [
      "Accuracy: 0.7290\n"
     ]
    }
   ],
   "source": [
    "assert isinstance(feats, FeatureUnion)\n",
    "assert any(isinstance(obj, Selector) for obj in feats.transformer_list[0][1])\n",
    "assert any(isinstance(obj, TfidfVectorizer) for obj in feats.transformer_list[0][1])\n",
    "assert np.allclose(get_accuracy(feats, train_data, test_data), 0.7290, 0.01)"
   ]
  },
  {
   "cell_type": "markdown",
   "metadata": {
    "deletable": false,
    "editable": false,
    "nbgrader": {
     "grade": false,
     "grade_id": "cell-1f4ecd3a08b31cb9",
     "locked": true,
     "schema_version": 1,
     "solution": false
    }
   },
   "source": [
    "### Q4.b) Add more features\n",
    "You decide to try adding the number of adjectives to your features to see if they can improve the performance of your classifier. \n",
    "\n",
    "On top of all features you have used for `feats`, add the number of adjectives `n_adjs` that you computed in Q3 to your features. Then assign your features to `feats_v2`. There should be 4 features in total."
   ]
  },
  {
   "cell_type": "code",
   "execution_count": 32,
   "metadata": {
    "deletable": false,
    "nbgrader": {
     "grade": false,
     "grade_id": "cell-0ef7216ae6023fdf",
     "locked": false,
     "schema_version": 1,
     "solution": true
    }
   },
   "outputs": [],
   "source": [
    "adjs_pipe = Pipeline([\n",
    "                ('selector', NumberSelector(\"n_adjs\")),\n",
    "                ('standard', StandardScaler())\n",
    "            ])\n",
    "#...\n",
    "feats_v2 = FeatureUnion([('text_pipe',text_pipe),('text_len_pipe',text_len_pipe),('word_len_pipe',word_len_pipe),('adjs_pipe',adjs_pipe)])\n",
    "\n",
    "# YOUR CODE HERE\n",
    "#raise NotImplementedError()"
   ]
  },
  {
   "cell_type": "code",
   "execution_count": 33,
   "metadata": {
    "deletable": false,
    "editable": false,
    "nbgrader": {
     "grade": true,
     "grade_id": "cell-2726b142fbec4f14",
     "locked": true,
     "points": 2,
     "schema_version": 1,
     "solution": false
    }
   },
   "outputs": [
    {
     "name": "stdout",
     "output_type": "stream",
     "text": [
      "Accuracy: 0.6860\n"
     ]
    }
   ],
   "source": [
    "accuracy = get_accuracy(feats_v2, train_data, test_data)\n",
    "assert np.allclose(accuracy, 0.6860, 0.01)"
   ]
  },
  {
   "cell_type": "markdown",
   "metadata": {
    "deletable": false,
    "editable": false,
    "nbgrader": {
     "grade": false,
     "grade_id": "cell-b1aa91b08408579d",
     "locked": true,
     "schema_version": 1,
     "solution": false
    }
   },
   "source": [
    "### Q4.c) Add the Emojis feature\n",
    "You try to improve your model even further by including the number of emojis `positive_emojis_count` and `negative_emojis_count` features that you created above. \n",
    "\n",
    "On top of all features in `feats_v2`, add the number of emojis to your features and assign the result to `feats_v3` (**no need to scale** the features this time). There should be 6 features in total."
   ]
  },
  {
   "cell_type": "code",
   "execution_count": 34,
   "metadata": {
    "deletable": false,
    "nbgrader": {
     "grade": false,
     "grade_id": "cell-f5770ba6afa04742",
     "locked": false,
     "schema_version": 1,
     "solution": true
    }
   },
   "outputs": [],
   "source": [
    "positive_emojis_count  = Pipeline([\n",
    "                ('selector', NumberSelector(\"positive_emojis_count\"))\n",
    "            ])\n",
    "negative_emojis_count = Pipeline([\n",
    "                ('selector', NumberSelector(\"negative_emojis_count\"))\n",
    "            ])\n",
    "feats_v3 = FeatureUnion([('text_pipe',text_pipe),('text_len_pipe',text_len_pipe),('word_len_pipe',word_len_pipe),('adjs_pipe',adjs_pipe),('positive_emojis_count',positive_emojis_count),('negative_emojis_count',negative_emojis_count)])\n",
    "\n",
    "# YOUR CODE HERE\n",
    "#*raise NotImplementedError()"
   ]
  },
  {
   "cell_type": "code",
   "execution_count": 35,
   "metadata": {
    "deletable": false,
    "editable": false,
    "nbgrader": {
     "grade": true,
     "grade_id": "cell-8289104bef520ea7",
     "locked": true,
     "points": 2,
     "schema_version": 1,
     "solution": false
    }
   },
   "outputs": [
    {
     "name": "stdout",
     "output_type": "stream",
     "text": [
      "Accuracy: 0.7010\n"
     ]
    }
   ],
   "source": [
    "accuracy = get_accuracy(feats_v3, train_data, test_data)\n",
    "assert np.allclose(accuracy, 0.7010, 0.01)"
   ]
  },
  {
   "cell_type": "markdown",
   "metadata": {
    "deletable": false,
    "editable": false,
    "nbgrader": {
     "grade": false,
     "grade_id": "cell-dcbab21d6897ff51",
     "locked": true,
     "schema_version": 3,
     "solution": false,
     "task": false
    }
   },
   "source": [
    "You realize that your accuracy actually decreased, which reminds you that more features does not necessarily mean better results.\n",
    "\n",
    "## Conclusion\n",
    "\n",
    "You realize you can get fairly ok accuracy on the sentiment analysis problem using a fairly simple solution. You know there are many things you could improve (e.g. Dimensionality Reduction) and many further paths you could choose in order to try to take your classifier to the next level, but you decide to leave that challenge for another day. "
   ]
  },
  {
   "cell_type": "code",
   "execution_count": null,
   "metadata": {},
   "outputs": [],
   "source": []
  }
 ],
 "metadata": {
  "kernelspec": {
   "display_name": "Python 3",
   "language": "python",
   "name": "python3"
  },
  "language_info": {
   "codemirror_mode": {
    "name": "ipython",
    "version": 3
   },
   "file_extension": ".py",
   "mimetype": "text/x-python",
   "name": "python",
   "nbconvert_exporter": "python",
   "pygments_lexer": "ipython3",
   "version": "3.6.9"
  }
 },
 "nbformat": 4,
 "nbformat_minor": 2
}
