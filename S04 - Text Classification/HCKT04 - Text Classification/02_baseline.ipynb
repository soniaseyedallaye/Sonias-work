{
 "cells": [
  {
   "cell_type": "code",
   "execution_count": 35,
   "metadata": {},
   "outputs": [],
   "source": [
    "import math\n",
    "import hashlib\n",
    "import inspect\n",
    "import json\n",
    "import pandas as pd\n",
    "import numpy as np\n",
    "import re\n",
    "from hashlib import sha256\n",
    "from collections import Counter\n",
    "import string\n",
    "import os\n",
    "import random\n",
    "from sklearn.feature_extraction.text import TfidfVectorizer\n",
    "from nltk.tokenize import WordPunctTokenizer\n",
    "from sklearn.ensemble import RandomForestClassifier\n",
    "from sklearn.model_selection import train_test_split\n",
    "from sklearn.pipeline import Pipeline, FeatureUnion\n",
    "from sklearn.base import BaseEstimator, TransformerMixin\n",
    "from sklearn.preprocessing import StandardScaler\n",
    "import spacy\n",
    "from spacy.matcher import Matcher\n",
    "from spacy.lang.en import English\n",
    "from spacy.matcher import Matcher\n",
    "from nltk.corpus import stopwords\n",
    "from sklearn.metrics.pairwise import cosine_similarity\n",
    "from sklearn.metrics import accuracy_score, f1_score\n",
    "from sklearn.model_selection import train_test_split\n",
    "\n",
    "import warnings\n",
    "warnings.filterwarnings('ignore')"
   ]
  },
  {
   "cell_type": "code",
   "execution_count": 2,
   "metadata": {},
   "outputs": [],
   "source": [
    "df_train = pd.read_csv('data/covid19_data.csv')\n",
    "df_test_pred = pd.read_csv('data/covid19_unlabelled_test.csv')"
   ]
  },
  {
   "cell_type": "code",
   "execution_count": 3,
   "metadata": {},
   "outputs": [
    {
     "data": {
      "text/html": [
       "<div>\n",
       "<style scoped>\n",
       "    .dataframe tbody tr th:only-of-type {\n",
       "        vertical-align: middle;\n",
       "    }\n",
       "\n",
       "    .dataframe tbody tr th {\n",
       "        vertical-align: top;\n",
       "    }\n",
       "\n",
       "    .dataframe thead th {\n",
       "        text-align: right;\n",
       "    }\n",
       "</style>\n",
       "<table border=\"1\" class=\"dataframe\">\n",
       "  <thead>\n",
       "    <tr style=\"text-align: right;\">\n",
       "      <th></th>\n",
       "      <th>verifiedby</th>\n",
       "      <th>country</th>\n",
       "      <th>class</th>\n",
       "      <th>title</th>\n",
       "      <th>published_date</th>\n",
       "      <th>country1</th>\n",
       "      <th>country2</th>\n",
       "      <th>country3</th>\n",
       "      <th>country4</th>\n",
       "      <th>article_source</th>\n",
       "      <th>ref_source</th>\n",
       "      <th>source_title</th>\n",
       "      <th>content_text</th>\n",
       "      <th>category</th>\n",
       "      <th>lang</th>\n",
       "    </tr>\n",
       "  </thead>\n",
       "  <tbody>\n",
       "    <tr>\n",
       "      <th>0</th>\n",
       "      <td>Delfi Melo Detektorius (Lie Detector)</td>\n",
       "      <td>Lithuania</td>\n",
       "      <td>FALSE</td>\n",
       "      <td>Claims that coronavirus is fake and Belarus i...</td>\n",
       "      <td>2020/05/11</td>\n",
       "      <td>Lithuania</td>\n",
       "      <td>NaN</td>\n",
       "      <td>NaN</td>\n",
       "      <td>NaN</td>\n",
       "      <td>https://www.delfi.lt/news/melo-detektorius/mel...</td>\n",
       "      <td>poynter</td>\n",
       "      <td>Baltarusija atšventė nesisaugodama nuo koronav...</td>\n",
       "      <td>Gegužės 9-ąją Baltarusijos sostinėje Minske su...</td>\n",
       "      <td>NaN</td>\n",
       "      <td>lt</td>\n",
       "    </tr>\n",
       "    <tr>\n",
       "      <th>1</th>\n",
       "      <td>AfricaCheck</td>\n",
       "      <td>United States, South Africa</td>\n",
       "      <td>False</td>\n",
       "      <td>Muammar Gaddafi predicted the current coronav...</td>\n",
       "      <td>2020/03/21</td>\n",
       "      <td>United States</td>\n",
       "      <td>South Africa</td>\n",
       "      <td>NaN</td>\n",
       "      <td>NaN</td>\n",
       "      <td>https://africacheck.org/fbcheck/no-gaddafi-did...</td>\n",
       "      <td>poynter</td>\n",
       "      <td>No, Gaddafi didn’t predict coronavirus, but di...</td>\n",
       "      <td>As the world struggles to bring the new corona...</td>\n",
       "      <td>NaN</td>\n",
       "      <td>en</td>\n",
       "    </tr>\n",
       "    <tr>\n",
       "      <th>2</th>\n",
       "      <td>AFP</td>\n",
       "      <td>Hong Kong</td>\n",
       "      <td>False</td>\n",
       "      <td>Video shows quarantined people in a building ...</td>\n",
       "      <td>2020/02/17</td>\n",
       "      <td>Hong Kong</td>\n",
       "      <td>NaN</td>\n",
       "      <td>NaN</td>\n",
       "      <td>NaN</td>\n",
       "      <td>http://u.afp.com/QuarantineChina</td>\n",
       "      <td>poynter</td>\n",
       "      <td>This video shows tower blocks in Shanghai, not...</td>\n",
       "      <td>It has been viewed more than 200,000 times., T...</td>\n",
       "      <td>NaN</td>\n",
       "      <td>en</td>\n",
       "    </tr>\n",
       "    <tr>\n",
       "      <th>3</th>\n",
       "      <td>FactCrescendo</td>\n",
       "      <td>India</td>\n",
       "      <td>False</td>\n",
       "      <td>A video shows a massive explosion in Wuhan, C...</td>\n",
       "      <td>2020/02/17</td>\n",
       "      <td>India</td>\n",
       "      <td>NaN</td>\n",
       "      <td>NaN</td>\n",
       "      <td>NaN</td>\n",
       "      <td>https://english.factcrescendo.com/2020/02/17/t...</td>\n",
       "      <td>poynter</td>\n",
       "      <td>This blast took place in Tiajin, China in 2015...</td>\n",
       "      <td>The fact behind every news!, Ever since, the W...</td>\n",
       "      <td>NaN</td>\n",
       "      <td>en</td>\n",
       "    </tr>\n",
       "    <tr>\n",
       "      <th>4</th>\n",
       "      <td>Newtral.es</td>\n",
       "      <td>Spain, Peru, United States, Mexico</td>\n",
       "      <td>False</td>\n",
       "      <td>Chlorine dioxide cures the coronavirus.</td>\n",
       "      <td>2020/03/25</td>\n",
       "      <td>Spain</td>\n",
       "      <td>Peru</td>\n",
       "      <td>United States</td>\n",
       "      <td>Mexico</td>\n",
       "      <td>https://www.newtral.es/bulo-dioxido-de-cloro-c...</td>\n",
       "      <td>poynter</td>\n",
       "      <td>El dióxido de cloro no cura el coronavirus; al...</td>\n",
       "      <td>Circula un video de Youtube titulado: “El Coro...</td>\n",
       "      <td>NaN</td>\n",
       "      <td>es</td>\n",
       "    </tr>\n",
       "  </tbody>\n",
       "</table>\n",
       "</div>"
      ],
      "text/plain": [
       "                               verifiedby  \\\n",
       "0   Delfi Melo Detektorius (Lie Detector)   \n",
       "1                             AfricaCheck   \n",
       "2                                     AFP   \n",
       "3                           FactCrescendo   \n",
       "4                              Newtral.es   \n",
       "\n",
       "                               country  class  \\\n",
       "0                            Lithuania  FALSE   \n",
       "1          United States, South Africa  False   \n",
       "2                            Hong Kong  False   \n",
       "3                                India  False   \n",
       "4   Spain, Peru, United States, Mexico  False   \n",
       "\n",
       "                                               title published_date  \\\n",
       "0   Claims that coronavirus is fake and Belarus i...    2020/05/11    \n",
       "1   Muammar Gaddafi predicted the current coronav...    2020/03/21    \n",
       "2   Video shows quarantined people in a building ...    2020/02/17    \n",
       "3   A video shows a massive explosion in Wuhan, C...    2020/02/17    \n",
       "4            Chlorine dioxide cures the coronavirus.    2020/03/25    \n",
       "\n",
       "         country1       country2        country3 country4  \\\n",
       "0       Lithuania            NaN             NaN      NaN   \n",
       "1   United States   South Africa             NaN      NaN   \n",
       "2       Hong Kong            NaN             NaN      NaN   \n",
       "3           India            NaN             NaN      NaN   \n",
       "4           Spain           Peru   United States   Mexico   \n",
       "\n",
       "                                      article_source ref_source  \\\n",
       "0  https://www.delfi.lt/news/melo-detektorius/mel...    poynter   \n",
       "1  https://africacheck.org/fbcheck/no-gaddafi-did...    poynter   \n",
       "2                   http://u.afp.com/QuarantineChina    poynter   \n",
       "3  https://english.factcrescendo.com/2020/02/17/t...    poynter   \n",
       "4  https://www.newtral.es/bulo-dioxido-de-cloro-c...    poynter   \n",
       "\n",
       "                                        source_title  \\\n",
       "0  Baltarusija atšventė nesisaugodama nuo koronav...   \n",
       "1  No, Gaddafi didn’t predict coronavirus, but di...   \n",
       "2  This video shows tower blocks in Shanghai, not...   \n",
       "3  This blast took place in Tiajin, China in 2015...   \n",
       "4  El dióxido de cloro no cura el coronavirus; al...   \n",
       "\n",
       "                                        content_text category lang  \n",
       "0  Gegužės 9-ąją Baltarusijos sostinėje Minske su...      NaN   lt  \n",
       "1  As the world struggles to bring the new corona...      NaN   en  \n",
       "2  It has been viewed more than 200,000 times., T...      NaN   en  \n",
       "3  The fact behind every news!, Ever since, the W...      NaN   en  \n",
       "4  Circula un video de Youtube titulado: “El Coro...      NaN   es  "
      ]
     },
     "execution_count": 3,
     "metadata": {},
     "output_type": "execute_result"
    }
   ],
   "source": [
    "df_train.shape #(5531, 15)\n",
    "df_train.head()"
   ]
  },
  {
   "cell_type": "code",
   "execution_count": 4,
   "metadata": {},
   "outputs": [],
   "source": [
    "class_value = df_train['class'].value_counts(dropna=False)"
   ]
  },
  {
   "cell_type": "code",
   "execution_count": 5,
   "metadata": {},
   "outputs": [
    {
     "data": {
      "text/plain": [
       "5416"
      ]
     },
     "execution_count": 5,
     "metadata": {},
     "output_type": "execute_result"
    }
   ],
   "source": [
    "class_value.index\n",
    "class_value.head(20).sum() #5416 - 98%"
   ]
  },
  {
   "cell_type": "code",
   "execution_count": 15,
   "metadata": {},
   "outputs": [],
   "source": [
    "df_train['label'] = df_train['class'].replace({'False' : 'false',\n",
    "'FALSE' : 'false',\n",
    "'Misleading' : 'false',\n",
    "'MISLEADING' : 'false',\n",
    "'Mostly false' : 'false',\n",
    "'Partly false': 'false',\n",
    "'misleading' : 'false',\n",
    "'No evidence' : 'true',\n",
    "'Mostly False' : 'false',\n",
    "'Mixture': 'false',\n",
    "'True': 'true',\n",
    "'Explanatory': 'true',\n",
    "'No Evidence': 'true',\n",
    "'News': 'true',\n",
    "'PARTLY FALSE': 'false',\n",
    "'Unproven': 'false',\n",
    "'MOSTLY FALSE': 'false',\n",
    "'Partly False': 'false',\n",
    "'Miscaptioned': 'false',\n",
    "'partly false': 'false',\n",
    "'mostly false' : 'false',\n",
    "'Mostly True': 'true',\n",
    "'MOSTLY TRUE': 'true',\n",
    "'Misattributed': 'false',\n",
    "\"(Org. doesn't apply rating)\": 'false',\n",
    "'HALF TRUE': 'true',\n",
    "'Correct Attribution' :'true',\n",
    "'Partially false': 'false',\n",
    "'Labeled Satire': 'false',\n",
    "'Fake' : 'false',\n",
    "'NO EVIDENCE': 'true',\n",
    "'false' : 'false',\n",
    "'Two Pinocchios': 'false',\n",
    "'Scam' : 'false',\n",
    "'no evidence': 'true',\n",
    "'Half True': 'true',\n",
    "'PARTLY TRUE': 'true',\n",
    "'half true': 'true',\n",
    "'Correct': 'true',\n",
    "'mislEADING' : 'false',\n",
    "'Suspicions': 'false',\n",
    "'Not true' : 'false',\n",
    "'nan': 'false',\n",
    "'Partly FALSE': 'false',\n",
    "'Misleading/False' : 'false',\n",
    "'PANTS ON FIRE': 'false',\n",
    "'Partially true': 'true',\n",
    "'Mixed': 'false',\n",
    "'IN DISPUTE': 'false',\n",
    "'Unverified': 'false',\n",
    "'HALF TRUTH': 'true',\n",
    "'Collections': 'false',\n",
    "'Partially correct': 'true',\n",
    "'MiSLEADING' : 'false',\n",
    "'Mostly true': 'true',\n",
    "'True but': 'true',\n",
    "'false and misleading' : 'false',\n",
    "'Partly true': 'true',\n",
    "'Misinformation / Conspiracy theory' : 'false',\n",
    "'Unlikely' : 'false',\n",
    "'Fake news' : 'false'})"
   ]
  },
  {
   "cell_type": "code",
   "execution_count": 16,
   "metadata": {},
   "outputs": [
    {
     "data": {
      "text/plain": [
       "false    5329\n",
       "true      200\n",
       "NaN         2\n",
       "Name: label, dtype: int64"
      ]
     },
     "execution_count": 16,
     "metadata": {},
     "output_type": "execute_result"
    }
   ],
   "source": [
    "df_train['label'].value_counts(dropna=False)"
   ]
  },
  {
   "cell_type": "code",
   "execution_count": 41,
   "metadata": {},
   "outputs": [
    {
     "data": {
      "text/plain": [
       "false    5331\n",
       "true      200\n",
       "Name: label, dtype: int64"
      ]
     },
     "execution_count": 41,
     "metadata": {},
     "output_type": "execute_result"
    }
   ],
   "source": [
    "df_train['label'] = df_train['label'].fillna('false')\n",
    "df_train['label'].value_counts(dropna=False)"
   ]
  },
  {
   "cell_type": "code",
   "execution_count": 42,
   "metadata": {},
   "outputs": [
    {
     "data": {
      "text/plain": [
       "(5531, 1)"
      ]
     },
     "execution_count": 42,
     "metadata": {},
     "output_type": "execute_result"
    }
   ],
   "source": [
    "X = pd.DataFrame(df_train['title'])\n",
    "y = df_train['label']\n",
    "\n",
    "X.shape"
   ]
  },
  {
   "cell_type": "code",
   "execution_count": 33,
   "metadata": {},
   "outputs": [],
   "source": [
    "# X_train, X_test, y_train, y_test = train_test_split(X, y, test_size=0.3, random_state=42)\n",
    "\n",
    "# X_test.head()"
   ]
  },
  {
   "cell_type": "code",
   "execution_count": 43,
   "metadata": {},
   "outputs": [],
   "source": [
    "# Preprocess text\n",
    "# remove: stopwords and punctuation\n",
    "\n",
    "filter_stopwords = True\n",
    "remove_punkt = True\n",
    "\n",
    "en_stopwords = stopwords.words('english')\n",
    "tokenizer =  WordPunctTokenizer()\n",
    "\n",
    "def preprocess(text, stopwords=False, remove_punkt=False, truncate=None):\n",
    "    tokens = tokenizer.tokenize(text)\n",
    "    tokens = [tok.lower() for tok in tokens]\n",
    "    if stopwords:\n",
    "        tokens = [tok for tok in tokens if tok not in en_stopwords]\n",
    "    if remove_punkt:\n",
    "        tokens = [tok for tok in tokens if tok not in string.punctuation]\n",
    "    if truncate:\n",
    "        tokens = tokens[:truncate]\n",
    "    #tokens = [PorterStemmer().stem(tok) for tok in tokens]\n",
    "    text_preprocessed = ' '.join(tokens)\n",
    "    return text_preprocessed"
   ]
  },
  {
   "cell_type": "code",
   "execution_count": 49,
   "metadata": {},
   "outputs": [],
   "source": [
    "X['title_preprocessed'] = X['title'].apply(preprocess, args=(filter_stopwords, remove_punkt, None))"
   ]
  },
  {
   "cell_type": "code",
   "execution_count": 50,
   "metadata": {},
   "outputs": [],
   "source": [
    "X_train_preproc = pd.DataFrame(X['title_preprocessed'])"
   ]
  },
  {
   "cell_type": "code",
   "execution_count": 53,
   "metadata": {},
   "outputs": [
    {
     "data": {
      "text/html": [
       "<div>\n",
       "<style scoped>\n",
       "    .dataframe tbody tr th:only-of-type {\n",
       "        vertical-align: middle;\n",
       "    }\n",
       "\n",
       "    .dataframe tbody tr th {\n",
       "        vertical-align: top;\n",
       "    }\n",
       "\n",
       "    .dataframe thead th {\n",
       "        text-align: right;\n",
       "    }\n",
       "</style>\n",
       "<table border=\"1\" class=\"dataframe\">\n",
       "  <thead>\n",
       "    <tr style=\"text-align: right;\">\n",
       "      <th></th>\n",
       "      <th>title_preprocessed</th>\n",
       "    </tr>\n",
       "  </thead>\n",
       "  <tbody>\n",
       "    <tr>\n",
       "      <th>0</th>\n",
       "      <td>claims coronavirus fake belarus coping well “ ...</td>\n",
       "    </tr>\n",
       "    <tr>\n",
       "      <th>1</th>\n",
       "      <td>muammar gaddafi predicted current coronavirus ...</td>\n",
       "    </tr>\n",
       "    <tr>\n",
       "      <th>2</th>\n",
       "      <td>video shows quarantined people building shanghai</td>\n",
       "    </tr>\n",
       "    <tr>\n",
       "      <th>3</th>\n",
       "      <td>video shows massive explosion wuhan china cont...</td>\n",
       "    </tr>\n",
       "    <tr>\n",
       "      <th>4</th>\n",
       "      <td>chlorine dioxide cures coronavirus</td>\n",
       "    </tr>\n",
       "  </tbody>\n",
       "</table>\n",
       "</div>"
      ],
      "text/plain": [
       "                                  title_preprocessed\n",
       "0  claims coronavirus fake belarus coping well “ ...\n",
       "1  muammar gaddafi predicted current coronavirus ...\n",
       "2   video shows quarantined people building shanghai\n",
       "3  video shows massive explosion wuhan china cont...\n",
       "4                 chlorine dioxide cures coronavirus"
      ]
     },
     "execution_count": 53,
     "metadata": {},
     "output_type": "execute_result"
    }
   ],
   "source": [
    "X_train_preproc.head()"
   ]
  },
  {
   "cell_type": "code",
   "execution_count": null,
   "metadata": {},
   "outputs": [],
   "source": []
  }
 ],
 "metadata": {
  "kernelspec": {
   "display_name": "Python 3",
   "language": "python",
   "name": "python3"
  },
  "language_info": {
   "codemirror_mode": {
    "name": "ipython",
    "version": 3
   },
   "file_extension": ".py",
   "mimetype": "text/x-python",
   "name": "python",
   "nbconvert_exporter": "python",
   "pygments_lexer": "ipython3",
   "version": "3.6.9"
  }
 },
 "nbformat": 4,
 "nbformat_minor": 4
}
