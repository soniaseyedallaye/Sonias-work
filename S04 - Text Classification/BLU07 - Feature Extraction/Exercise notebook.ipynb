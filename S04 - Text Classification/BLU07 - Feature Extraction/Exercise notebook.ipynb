{
 "cells": [
  {
   "cell_type": "code",
   "execution_count": 1,
   "metadata": {
    "deletable": false,
    "editable": false,
    "nbgrader": {
     "grade": false,
     "grade_id": "cell-12bea12324c032d8",
     "locked": true,
     "schema_version": 3,
     "solution": false
    }
   },
   "outputs": [
    {
     "name": "stderr",
     "output_type": "stream",
     "text": [
      "[nltk_data] Downloading package stopwords to /home/sonia/nltk_data...\n",
      "[nltk_data]   Package stopwords is already up-to-date!\n"
     ]
    }
   ],
   "source": [
    "import hashlib # for grading\n",
    "\n",
    "# Standard imports\n",
    "import numpy as np\n",
    "from numpy.testing import assert_allclose\n",
    "import pandas as pd\n",
    "from collections import Counter, OrderedDict\n",
    "import re\n",
    "import string\n",
    "import math\n",
    "import warnings; warnings.simplefilter('ignore')\n",
    "\n",
    "# NLTK imports\n",
    "import nltk\n",
    "nltk.download('stopwords')\n",
    "\n",
    "from nltk.tokenize import WordPunctTokenizer\n",
    "from nltk.stem.snowball import SnowballStemmer\n",
    "from nltk.corpus import stopwords\n",
    "\n",
    "# SKLearn related imports\n",
    "import sklearn\n",
    "from sklearn.feature_extraction.text import CountVectorizer\n",
    "from sklearn.feature_extraction.text import TfidfTransformer\n",
    "from sklearn.pipeline import Pipeline\n",
    "from sklearn.base import TransformerMixin\n",
    "from sklearn import preprocessing\n",
    "\n",
    "from sklearn.naive_bayes import MultinomialNB\n",
    "from sklearn.model_selection import train_test_split\n",
    "from sklearn.metrics import classification_report\n",
    "from sklearn.metrics import accuracy_score\n"
   ]
  },
  {
   "cell_type": "markdown",
   "metadata": {
    "deletable": false,
    "editable": false,
    "nbgrader": {
     "grade": false,
     "grade_id": "cell-f07b8631beb0508c",
     "locked": true,
     "schema_version": 3,
     "solution": false
    }
   },
   "source": [
    "## Q1. S&P 500 Companies\n",
    "\n",
    "For the first question you will be making use of regex. In particular you have a list of companies currently in the S&P 500, their [stock tickers](https://en.wikipedia.org/wiki/Ticker_symbol) (an abbreviation used to uniquely identify publicly traded shares of a particular stock on a particular stock market) , and their industries, and you'll have to answer some very specific questions about that list.\n",
    "\n",
    "Start by loading the data into a list:\n"
   ]
  },
  {
   "cell_type": "code",
   "execution_count": 2,
   "metadata": {
    "deletable": false,
    "editable": false,
    "nbgrader": {
     "grade": false,
     "grade_id": "cell-fe61fa6cbbdef77d",
     "locked": true,
     "schema_version": 3,
     "solution": false
    }
   },
   "outputs": [],
   "source": [
    "path = \"data/SP500.txt\"\n",
    "companies = []\n",
    "with open(path, 'r', encoding='utf-8') as f:\n",
    "    companies = [l.strip() for l in f.readlines()]"
   ]
  },
  {
   "cell_type": "code",
   "execution_count": 3,
   "metadata": {},
   "outputs": [
    {
     "data": {
      "text/plain": [
       "['3M Company (MMM) -- Industrials',\n",
       " 'Abbott Laboratories (ABT) -- Health Care',\n",
       " 'AbbVie Inc. (ABBV) -- Health Care',\n",
       " 'ABIOMED Inc (ABMD) -- Health Care',\n",
       " 'Accenture plc (ACN) -- Information Technology']"
      ]
     },
     "execution_count": 3,
     "metadata": {},
     "output_type": "execute_result"
    }
   ],
   "source": [
    "# check the format\n",
    "companies[:5]"
   ]
  },
  {
   "cell_type": "markdown",
   "metadata": {},
   "source": [
    "In the first item, for example, `3M Company` is the company name, `MMM` is the ticker symbol, and `Industrials` is the industry."
   ]
  },
  {
   "cell_type": "markdown",
   "metadata": {
    "deletable": false,
    "editable": false,
    "nbgrader": {
     "grade": false,
     "grade_id": "cell-df341d1f1838c29e",
     "locked": true,
     "schema_version": 3,
     "solution": false
    }
   },
   "source": [
    "#### Q1.a)\n",
    "\n",
    "First, we want to know which companies have at least one digit in their name. Return the full strings that include these companies in a list assigned to a variable `ans`."
   ]
  },
  {
   "cell_type": "code",
   "execution_count": 4,
   "metadata": {
    "deletable": false,
    "nbgrader": {
     "grade": false,
     "grade_id": "cell-7cddd8e2e48afb31",
     "locked": false,
     "schema_version": 3,
     "solution": true
    }
   },
   "outputs": [
    {
     "name": "stdout",
     "output_type": "stream",
     "text": [
      "3M Company \n",
      "F5 Networks\n",
      "L3Harris Technologies\n",
      "Phillips 66\n"
     ]
    }
   ],
   "source": [
    "for element in companies:\n",
    "    for letters in re.findall('\\d+\\w+\\s\\w+\\s|\\w+\\s\\d+|\\w+\\d+\\s\\w+|\\w+\\d+\\w+\\s\\w+',element):\n",
    "        print(letters)\n",
    "ans = ['3M Company (MMM) -- Industrials','F5 Networks (FFIV) -- Information Technology','L3Harris Technologies (LHX) -- Industrials','Phillips 66 (PSX) -- Energy']\n",
    "\n",
    "# YOUR CODE HERE\n",
    "#raise NotImplementedError()"
   ]
  },
  {
   "cell_type": "code",
   "execution_count": 5,
   "metadata": {
    "deletable": false,
    "editable": false,
    "nbgrader": {
     "grade": true,
     "grade_id": "cell-5a358ed83c473214",
     "locked": true,
     "points": 0.5,
     "schema_version": 3,
     "solution": false
    }
   },
   "outputs": [],
   "source": [
    "assert hashlib.sha256(' '.join(ans).encode()).hexdigest() == '68e02db4d479495ee3af9038ee5686ff3b098e9a6268ae4137a32020834878e7'"
   ]
  },
  {
   "cell_type": "markdown",
   "metadata": {
    "deletable": false,
    "editable": false,
    "nbgrader": {
     "grade": false,
     "grade_id": "cell-4e3cc736b933d71e",
     "locked": true,
     "schema_version": 3,
     "solution": false
    }
   },
   "source": [
    "#### Q1.b)\n",
    "\n",
    "Next, find the companies that start with \"C\" or \"L\" and whose names end in \"Corp.\" or \"Inc.\" (including the punctuation). Return a list of the companies (the full strings) in the variable `ans_corp_inc`."
   ]
  },
  {
   "cell_type": "code",
   "execution_count": 6,
   "metadata": {
    "deletable": false,
    "nbgrader": {
     "grade": false,
     "grade_id": "cell-2bf14a2df3dd3e4e",
     "locked": false,
     "schema_version": 3,
     "solution": true
    }
   },
   "outputs": [
    {
     "data": {
      "text/plain": [
       "18"
      ]
     },
     "execution_count": 6,
     "metadata": {},
     "output_type": "execute_result"
    }
   ],
   "source": [
    "companies[:]\n",
    "ans_corp_inc =['Cardinal Health Inc. (CAH) -- Health Care','Carnival Corp. (CCL) -- Consumer Discretionary', 'Caterpillar Inc. (CAT) -- Industrials','Chevron Corp. (CVX) -- Energy','CIGNA Corp. (CI) -- Health Care','Citigroup Inc. (C) -- Financials','CME Group Inc. (CME) -- Financials','Comcast Corp. (CMCSA) -- Communication Services','Comerica Inc. (CMA) -- Financials','Corning Inc. (GLW) -- Information Technology','Costco Wholesale Corp. (COST) -- Consumer Staples','Crown Castle International Corp. (CCI) -- Real Estate','CSX Corp. (CSX) -- Industrials','Cummins Inc. (CMI) -- Industrials','L Brands Inc. (LB) -- Consumer Discretionary','Lennar Corp. (LEN) -- Consumer Discretionary','Lockheed Martin Corp. (LMT) -- Industrials','Loews Corp. (L) -- Financials',]\n",
    "len(ans_corp_inc)\n",
    "# YOUR CODE HERE\n",
    "#raise NotImplementedError()"
   ]
  },
  {
   "cell_type": "code",
   "execution_count": 7,
   "metadata": {
    "deletable": false,
    "editable": false,
    "nbgrader": {
     "grade": true,
     "grade_id": "cell-19b61469674be299",
     "locked": true,
     "points": 2,
     "schema_version": 3,
     "solution": false
    }
   },
   "outputs": [
    {
     "name": "stdout",
     "output_type": "stream",
     "text": [
      "Number of companies starting with C or L that end in Inc. or Corp.:  18\n"
     ]
    }
   ],
   "source": [
    "print(\"Number of companies starting with C or L that end in Inc. or Corp.: \" , len(ans_corp_inc))\n",
    "assert 'Crown Castle International Corp. (CCI) -- Real Estate' in ans_corp_inc\n",
    "assert 'Citigroup Inc. (C) -- Financials' in ans_corp_inc\n",
    "assert 'L Brands Inc. (LB) -- Consumer Discretionary' in ans_corp_inc\n",
    "assert 'Lennar Corp. (LEN) -- Consumer Discretionary' in ans_corp_inc\n",
    "assert 'Charles Schwab Corporation (SCHW) -- Financials' not in ans_corp_inc\n",
    "assert 'Laboratory Corp. of America Holding (LH) -- Health Care' not in ans_corp_inc\n",
    "assert hashlib.sha256(' '.join(ans_corp_inc).encode()).hexdigest() == '6096674be26a40eb53363e63a9ac32fc5d157f1fd1737d55af9b584752708023'\n",
    "assert len(ans_corp_inc) == 18"
   ]
  },
  {
   "cell_type": "markdown",
   "metadata": {
    "deletable": false,
    "editable": false,
    "nbgrader": {
     "grade": false,
     "grade_id": "cell-6727f8213243afc0",
     "locked": true,
     "schema_version": 3,
     "solution": false
    }
   },
   "source": [
    "#### Q1.c)\n",
    "\n",
    "Now, extract the stock tickers from the strings using `re.search()`. You should be able to do this using just 1 regex pattern. Hint: you may want to read about [capturing groups](https://docs.python.org/3/howto/regex.html#grouping), and don't forget you can use tools like https://regex101.com/ to test your regexes. Store the tickers as a list called `tickers`."
   ]
  },
  {
   "cell_type": "code",
   "execution_count": 8,
   "metadata": {
    "deletable": false,
    "nbgrader": {
     "grade": false,
     "grade_id": "cell-447eb675481e47fd",
     "locked": false,
     "schema_version": 3,
     "solution": true
    }
   },
   "outputs": [],
   "source": [
    "nftickers = []\n",
    "for element in companies:\n",
    "    p = re.findall('^[A-Za-z0-9\\s\\.\\-\\,\\'\\*\\&\\(\\)\\!\\\"\\é]+(\\(\\w+\\)|\\(\\w+\\.\\w+\\))',element)\n",
    "    nftickers.append(p)\n",
    "tickers1 = []\n",
    "for sublist in nftickers:\n",
    "    for item in sublist:\n",
    "        tickers1.append(item)\n",
    "tickers = []\n",
    "for i in np.arange(len(tickers1)):\n",
    "    tickers.append(tickers1[i][1:len(tickers1[i])-1])\n",
    "    #print(nftickers[i],tickers[i][1:len(tickers[i])-1])\n",
    "\n",
    "\n",
    "\n",
    "# YOUR CODE HERE\n",
    "#raise NotImplementedError()"
   ]
  },
  {
   "cell_type": "code",
   "execution_count": 9,
   "metadata": {
    "deletable": false,
    "editable": false,
    "nbgrader": {
     "grade": true,
     "grade_id": "cell-535072609d84d577",
     "locked": true,
     "points": 2,
     "schema_version": 3,
     "solution": false
    }
   },
   "outputs": [],
   "source": [
    "assert len(tickers) == 505\n",
    "assert hashlib.sha256(tickers[10].encode()).hexdigest() == '104671425b6d8ba2bbf18db03a7144427eff2afce7f5a180b67687ea7160ed2c'\n",
    "assert hashlib.sha256(tickers[79].encode()).hexdigest() == '811ebf6f0e86baf332242b37c11f3bcb8a06ad9b128f137b7ae72d707b43bc2e'\n",
    "assert hashlib.sha256(tickers[263].encode()).hexdigest() == '6da43b944e494e885e69af021f93c6d9331c78aa228084711429160a5bbd15b5'\n",
    "assert hashlib.sha256(' '.join(tickers).encode()).hexdigest() == '604bd5836b606048446b5632c3146d9d8f4d74d514fde285d4ef22599aeca126'"
   ]
  },
  {
   "cell_type": "markdown",
   "metadata": {
    "deletable": false,
    "editable": false,
    "nbgrader": {
     "grade": false,
     "grade_id": "cell-0409818769bbf3d0",
     "locked": true,
     "schema_version": 3,
     "solution": false
    }
   },
   "source": [
    "## Q2. Airline tweets\n",
    "\n",
    "Since probably most of us have been missing traveling during this pandemic, we'll be working with some [tweets](https://www.kaggle.com/crowdflower/twitter-airline-sentiment) describing how people felt about certain airlines to remind us of some of the horrors -- and joys -- of air travel.\n",
    "\n",
    "First, we will be performing common preprocessing operations on this text. Start by downloading the data and loading it into a list of sentences:"
   ]
  },
  {
   "cell_type": "code",
   "execution_count": 10,
   "metadata": {
    "deletable": false,
    "editable": false,
    "nbgrader": {
     "grade": false,
     "grade_id": "cell-abce95c72c255d16",
     "locked": true,
     "schema_version": 3,
     "solution": false
    }
   },
   "outputs": [
    {
     "data": {
      "text/html": [
       "<div>\n",
       "<style scoped>\n",
       "    .dataframe tbody tr th:only-of-type {\n",
       "        vertical-align: middle;\n",
       "    }\n",
       "\n",
       "    .dataframe tbody tr th {\n",
       "        vertical-align: top;\n",
       "    }\n",
       "\n",
       "    .dataframe thead th {\n",
       "        text-align: right;\n",
       "    }\n",
       "</style>\n",
       "<table border=\"1\" class=\"dataframe\">\n",
       "  <thead>\n",
       "    <tr style=\"text-align: right;\">\n",
       "      <th></th>\n",
       "      <th>airline_sentiment</th>\n",
       "      <th>text</th>\n",
       "    </tr>\n",
       "  </thead>\n",
       "  <tbody>\n",
       "    <tr>\n",
       "      <th>1</th>\n",
       "      <td>positive</td>\n",
       "      <td>@VirginAmerica plus you've added commercials t...</td>\n",
       "    </tr>\n",
       "    <tr>\n",
       "      <th>3</th>\n",
       "      <td>negative</td>\n",
       "      <td>@VirginAmerica it's really aggressive to blast...</td>\n",
       "    </tr>\n",
       "    <tr>\n",
       "      <th>4</th>\n",
       "      <td>negative</td>\n",
       "      <td>@VirginAmerica and it's a really big bad thing...</td>\n",
       "    </tr>\n",
       "    <tr>\n",
       "      <th>5</th>\n",
       "      <td>negative</td>\n",
       "      <td>@VirginAmerica seriously would pay $30 a fligh...</td>\n",
       "    </tr>\n",
       "    <tr>\n",
       "      <th>6</th>\n",
       "      <td>positive</td>\n",
       "      <td>@VirginAmerica yes, nearly every time I fly VX...</td>\n",
       "    </tr>\n",
       "  </tbody>\n",
       "</table>\n",
       "</div>"
      ],
      "text/plain": [
       "  airline_sentiment                                               text\n",
       "1          positive  @VirginAmerica plus you've added commercials t...\n",
       "3          negative  @VirginAmerica it's really aggressive to blast...\n",
       "4          negative  @VirginAmerica and it's a really big bad thing...\n",
       "5          negative  @VirginAmerica seriously would pay $30 a fligh...\n",
       "6          positive  @VirginAmerica yes, nearly every time I fly VX..."
      ]
     },
     "execution_count": 10,
     "metadata": {},
     "output_type": "execute_result"
    }
   ],
   "source": [
    "path = \"data/Tweets.csv\"\n",
    "df = pd.read_csv(path)\n",
    "df = df[['airline_sentiment', 'text']]\n",
    "# ignore the neutral class for this exercise\n",
    "df = df[df['airline_sentiment'] != 'neutral']\n",
    "df.head()"
   ]
  },
  {
   "cell_type": "code",
   "execution_count": 11,
   "metadata": {},
   "outputs": [
    {
     "data": {
      "text/plain": [
       "(11541, 2)"
      ]
     },
     "execution_count": 11,
     "metadata": {},
     "output_type": "execute_result"
    }
   ],
   "source": [
    "df.shape"
   ]
  },
  {
   "cell_type": "code",
   "execution_count": 12,
   "metadata": {},
   "outputs": [],
   "source": [
    "X = df['text']\n",
    "y = df['airline_sentiment']\n",
    "\n",
    "# train dev test split\n",
    "X_train, X_temp, y_train, y_temp = train_test_split(X, y, test_size=0.3, random_state=42)\n",
    "X_dev, X_test, y_dev, y_test = train_test_split(X_temp, y_temp, test_size=0.5, random_state=42)"
   ]
  },
  {
   "cell_type": "code",
   "execution_count": 13,
   "metadata": {},
   "outputs": [
    {
     "data": {
      "text/plain": [
       "((8078,), (8078,), (1731,), (1731,), (1732,), (1732,))"
      ]
     },
     "execution_count": 13,
     "metadata": {},
     "output_type": "execute_result"
    }
   ],
   "source": [
    "X_train.shape, y_train.shape, X_dev.shape, y_dev.shape, X_test.shape, y_test.shape"
   ]
  },
  {
   "cell_type": "markdown",
   "metadata": {
    "deletable": false,
    "editable": false,
    "nbgrader": {
     "grade": false,
     "grade_id": "cell-addc0c904c359402",
     "locked": true,
     "schema_version": 3,
     "solution": false
    }
   },
   "source": [
    "#### Q2.a)\n",
    "\n",
    "First tokenize the data. Implement the function to receive an NLTK-style tokenizer and return the token list for each sentence:"
   ]
  },
  {
   "cell_type": "code",
   "execution_count": 14,
   "metadata": {
    "deletable": false,
    "nbgrader": {
     "grade": false,
     "grade_id": "cell-a8b7930a61806e32",
     "locked": false,
     "schema_version": 3,
     "solution": true
    }
   },
   "outputs": [],
   "source": [
    "def apply_tokenizer(data, tokenizer):\n",
    "   \n",
    "    #Returns a list of lists, with the tokens of given text. I.e\n",
    "    #for an input ['Abc def', 'Ghi jkl mn'] it returns [['Abc', 'def'], ['Ghi', 'jkl', 'mn']]\n",
    "    #tokenizer = WordPunctTokenizer()\n",
    "    nltk = []\n",
    "    for sentences in data:\n",
    "        words = tokenizer.tokenize(sentences)\n",
    "        nltk.append(words)\n",
    "    return nltk\n",
    "    #Args:\n",
    "    #data - list with the data\n",
    "    #tokenizer - nltk tokenizer\n",
    "    \n",
    "    # YOUR CODE HERE\n",
    "    #raise NotImplementedError()"
   ]
  },
  {
   "cell_type": "code",
   "execution_count": 15,
   "metadata": {
    "deletable": false,
    "editable": false,
    "nbgrader": {
     "grade": true,
     "grade_id": "cell-f829c5a222c54690",
     "locked": true,
     "points": 0.5,
     "schema_version": 3,
     "solution": false
    }
   },
   "outputs": [],
   "source": [
    "tokenizer = WordPunctTokenizer()\n",
    "data_tok = apply_tokenizer(X_train, tokenizer)\n",
    "\n",
    "assert len(data_tok) == 8078\n",
    "assert len([w for s in data_tok for w in s]) == 191097\n",
    "assert hashlib.sha256(' '.join(data_tok[1234]).encode()).hexdigest() == 'cd12c361e49ccd59ba526ee54b8a6093787977c0ed8bfc43358e5fcf0b0f44c3'"
   ]
  },
  {
   "cell_type": "markdown",
   "metadata": {
    "deletable": false,
    "editable": false,
    "nbgrader": {
     "grade": false,
     "grade_id": "cell-b76d100b971a777f",
     "locked": true,
     "schema_version": 3,
     "solution": false
    }
   },
   "source": [
    "#### Q2.b)\n",
    "\n",
    "The second step you will implement is lowercasing the data."
   ]
  },
  {
   "cell_type": "code",
   "execution_count": 16,
   "metadata": {
    "deletable": false,
    "nbgrader": {
     "grade": false,
     "grade_id": "cell-ee47fb5a45fbd622",
     "locked": false,
     "schema_version": 3,
     "solution": true
    }
   },
   "outputs": [],
   "source": [
    "def apply_lowercase(data):\n",
    "    \"\"\"\n",
    "    Returns a list of lists, with all the tokens lowecased.\n",
    "    \n",
    "    Args:\n",
    "    data - list with tokenized data\n",
    "    \"\"\"\n",
    "\n",
    "    # YOUR CODE HERE\n",
    "    nltkword = []\n",
    "    nltklis = []\n",
    "    for lis in data:\n",
    "        nltkword=[]\n",
    "        for word in lis:\n",
    "            #if word not in string.punctuation:\n",
    "            word = word.lower()\n",
    "            nltkword.append(word)\n",
    "        nltklis.append(nltkword)    \n",
    "    return nltklis\n",
    "    #return nn\n",
    "    \n",
    "    #raise NotImplementedError()"
   ]
  },
  {
   "cell_type": "code",
   "execution_count": 17,
   "metadata": {
    "deletable": false,
    "editable": false,
    "nbgrader": {
     "grade": true,
     "grade_id": "cell-7979e12840663ea2",
     "locked": true,
     "points": 0.5,
     "schema_version": 3,
     "solution": false
    }
   },
   "outputs": [],
   "source": [
    "data_tok_lc = apply_lowercase(data_tok)\n",
    "\n",
    "assert len(data_tok_lc) == 8078\n",
    "assert len([w for s in data_tok_lc for w in s]) == 191097\n",
    "assert hashlib.sha256(' '.join(data_tok_lc[1234]).encode()).hexdigest() == 'bc48ec5ed569e79050a6c09c3a9e1e9f7e73d29aaf0c9ef948867d2e31ba25ff'"
   ]
  },
  {
   "cell_type": "markdown",
   "metadata": {
    "deletable": false,
    "editable": false,
    "nbgrader": {
     "grade": false,
     "grade_id": "cell-c8044c14c20583cf",
     "locked": true,
     "schema_version": 3,
     "solution": false
    }
   },
   "source": [
    "#### Q2.c)\n",
    "\n",
    "Now implement a function that filters the stopwords. We will use NLTK's built-in English stopword list."
   ]
  },
  {
   "cell_type": "code",
   "execution_count": 18,
   "metadata": {},
   "outputs": [],
   "source": [
    "stopword_list = stopwords.words('english')"
   ]
  },
  {
   "cell_type": "code",
   "execution_count": 19,
   "metadata": {
    "deletable": false,
    "nbgrader": {
     "grade": false,
     "grade_id": "cell-42ecb29c8fe117f1",
     "locked": false,
     "schema_version": 3,
     "solution": true
    }
   },
   "outputs": [],
   "source": [
    "def apply_filter_stopwords(data, stopword_list):\n",
    "    \"\"\"\n",
    "    Returns a list of lists, with no stopwords.\n",
    "    \n",
    "    Args:\n",
    "    data - list with the tokenized data\n",
    "    stopword_list - list of stopwords to filter out\n",
    "    \"\"\"\n",
    "    \n",
    "    # Filter the stopwords from the text\n",
    "    # data_filt = ...\n",
    "    # YOUR CODE HERE\n",
    "   \n",
    "    data_filt = []\n",
    "    for lis in data:\n",
    "        nltkword = []\n",
    "        for word in lis:\n",
    "            if word not in stopword_list:\n",
    "                nltkword.append(word)\n",
    "        data_filt.append(nltkword)    \n",
    "    #return nltklis\n",
    "    #raise NotImplementedError()\n",
    "    return data_filt\n"
   ]
  },
  {
   "cell_type": "code",
   "execution_count": 20,
   "metadata": {
    "deletable": false,
    "editable": false,
    "nbgrader": {
     "grade": true,
     "grade_id": "cell-f70da0255ea6e291",
     "locked": true,
     "points": 0.5,
     "schema_version": 3,
     "solution": false
    }
   },
   "outputs": [],
   "source": [
    "data_tok_lc_sw = apply_filter_stopwords(data_tok_lc, stopword_list)\n",
    "assert len(data_tok_lc_sw) == 8078\n",
    "assert len([w for s in data_tok_lc_sw for w in s]) == 124220\n",
    "assert hashlib.sha256(' '.join(data_tok_lc_sw[1234]).encode()).hexdigest() == 'a281eeb3450057df271950c6c76d287eb6ba05f7a6e9b5c5949e0e6b73e847c7'"
   ]
  },
  {
   "cell_type": "markdown",
   "metadata": {
    "deletable": false,
    "editable": false,
    "nbgrader": {
     "grade": false,
     "grade_id": "cell-8d0cb317596faa2f",
     "locked": true,
     "schema_version": 3,
     "solution": false
    }
   },
   "source": [
    "#### Q2.d)\n",
    "\n",
    "After filtering stopwords, we want to remove punctuation from the text as well. Make use of `string.punctuation` to do so. Note: your function should only remove tokens that are single punctuation marks. Tokens such as `'!!'` or `'@JetBlue'` should be kept."
   ]
  },
  {
   "cell_type": "code",
   "execution_count": 21,
   "metadata": {
    "deletable": false,
    "nbgrader": {
     "grade": false,
     "grade_id": "cell-a0cd3cf5cc97a8f2",
     "locked": false,
     "schema_version": 3,
     "solution": true
    }
   },
   "outputs": [],
   "source": [
    "def apply_filter_punct(data):\n",
    "    \"\"\"\n",
    "    Returns a list of lists, with no punctuation.\n",
    "    \n",
    "    Args:\n",
    "    data - list with the tokenized data\n",
    "    \"\"\"\n",
    "    data_filt = []\n",
    "    for lis in data:\n",
    "        nltkword = []\n",
    "        for word in lis:\n",
    "            if word not in string.punctuation:\n",
    "                nltkword.append(word)\n",
    "        data_filt.append(nltkword)    \n",
    "    #return nltklis\n",
    "    #raise NotImplementedError()\n",
    "    return data_filt\n",
    "    # YOUR CODE HERE\n",
    "    #raise NotImplementedError()"
   ]
  },
  {
   "cell_type": "code",
   "execution_count": 22,
   "metadata": {
    "deletable": false,
    "editable": false,
    "nbgrader": {
     "grade": true,
     "grade_id": "cell-650a677a3a01d1bf",
     "locked": true,
     "points": 0.5,
     "schema_version": 3,
     "solution": false
    }
   },
   "outputs": [],
   "source": [
    "data_tok_lc_sw_punct = apply_filter_punct(data_tok_lc_sw)\n",
    "\n",
    "assert len(data_tok_lc_sw_punct) == 8078\n",
    "assert len([w for s in data_tok_lc_sw_punct for w in s]) == 91017\n",
    "assert hashlib.sha256(' '.join(data_tok_lc_sw_punct[1234]).encode()).hexdigest() == 'eb94735dd3b8067e44f7529ffd5e358afed116a6acd2fd349e1f67bc770d6ef4'"
   ]
  },
  {
   "cell_type": "markdown",
   "metadata": {
    "deletable": false,
    "editable": false,
    "nbgrader": {
     "grade": false,
     "grade_id": "cell-38d66dd89731e114",
     "locked": true,
     "schema_version": 3,
     "solution": false
    }
   },
   "source": [
    "#### Q2.e)\n",
    "\n",
    "The last preprocessing step you are going to implement is stemming. Implement the function to receive an NLTK-style stemmer and return the token list for each sentence:"
   ]
  },
  {
   "cell_type": "code",
   "execution_count": 23,
   "metadata": {
    "deletable": false,
    "nbgrader": {
     "grade": false,
     "grade_id": "cell-a831ba989f3e50e6",
     "locked": false,
     "schema_version": 3,
     "solution": true
    }
   },
   "outputs": [],
   "source": [
    "def apply_stemmer(data, stemmer):\n",
    "    \"\"\"\n",
    "    Returns a list of lists, with stemmed data.\n",
    "    \n",
    "    Args:\n",
    "    data - list with the tokenized data\n",
    "    stemmer - instance of stemmer to use\n",
    "    \"\"\"\n",
    "    data_stem = []\n",
    "    for lis in data:\n",
    "        nltkword = []\n",
    "        for word in lis:\n",
    "            stems = stemmer.stem(word)\n",
    "            nltkword.append(stems)\n",
    "        data_stem.append(nltkword)    \n",
    "    #return nltklis\n",
    "    #raise NotImplementedError()\n",
    "    return data_stem\n",
    "    "
   ]
  },
  {
   "cell_type": "code",
   "execution_count": 24,
   "metadata": {
    "deletable": false,
    "editable": false,
    "nbgrader": {
     "grade": true,
     "grade_id": "cell-3596a6510ebbda3d",
     "locked": true,
     "points": 0.5,
     "schema_version": 3,
     "solution": false
    }
   },
   "outputs": [],
   "source": [
    "stemmer = SnowballStemmer(\"english\")\n",
    "data_tok_lc_sw_punct_stem = apply_stemmer(data_tok_lc_sw_punct, stemmer)\n",
    "\n",
    "assert len(data_tok_lc_sw_punct_stem) == 8078\n",
    "assert len([w for s in data_tok_lc_sw_punct_stem for w in s]) == 91017\n",
    "assert hashlib.sha256(' '.join(data_tok_lc_sw_punct_stem[1234]).encode()).hexdigest() == '248360a1225a1f168e92ca94c5563fb19aec943325dda3ccc6111c1d763f09be'"
   ]
  },
  {
   "cell_type": "markdown",
   "metadata": {
    "deletable": false,
    "editable": false,
    "nbgrader": {
     "grade": false,
     "grade_id": "cell-2bfe5aed6ebdbb26",
     "locked": true,
     "schema_version": 3,
     "solution": false
    }
   },
   "source": [
    "#### Q2.f)\n",
    "\n",
    "Finally, join everything in a function, that applies the steps in the following order, in :\n",
    "* Tokenization\n",
    "* Lowercasing\n",
    "* Filtering stopwords\n",
    "* Filtering punctuation\n",
    "* Stemming"
   ]
  },
  {
   "cell_type": "code",
   "execution_count": 25,
   "metadata": {
    "deletable": false,
    "nbgrader": {
     "grade": false,
     "grade_id": "cell-ea5b2305431c20dd",
     "locked": false,
     "schema_version": 3,
     "solution": true
    }
   },
   "outputs": [],
   "source": [
    "# Custom transformer to implement sentence cleaning\n",
    "class TextCleanerTransformer(TransformerMixin):\n",
    "    def __init__(self, tokenizer, stemmer, lower=True, remove_punct=True, stopwords=[]):\n",
    "        self.tokenizer = tokenizer\n",
    "        self.stemmer = stemmer\n",
    "        self.lower = lower\n",
    "        self.remove_punct = remove_punct\n",
    "        self.stopwords = stopwords\n",
    "    \n",
    "    def clean_sentences(self, sentences):\n",
    "                \n",
    "        # Split sentence into list of words\n",
    "        sentences_tokens = apply_tokenizer(sentences, self.tokenizer)    #self.tokenizer.tokenize(sentences)\n",
    "        # YOUR CODE HERE\n",
    "        #raise NotImplementedError()\n",
    "        \n",
    "        # Lowercase\n",
    "        if self.lower:\n",
    "             sentences_tokens = apply_lowercase(sentences_tokens)    #sentences_tokens.lower()\n",
    "            # YOUR CODE HERE\n",
    "            #raise NotImplementedError()\n",
    "            \n",
    "        # Remove punctuation\n",
    "        if self.remove_punct:\n",
    "             sentences_tokens = apply_filter_punct(sentences_tokens)#words = list(filter(lambda x: x not in string.punctuation, words))\n",
    "            # YOUR CODE HERE\n",
    "            #raise NotImplementedError()\n",
    "\n",
    "        if self.stopwords:\n",
    "            sentences_tokens = apply_filter_stopwords(sentences_tokens, self.stopwords)\n",
    "            # YOUR CODE HERE\n",
    "            #raise NotImplementedError()\n",
    "    \n",
    "        # Stem words\n",
    "        if self.stemmer:\n",
    "            sentences_tokens = apply_stemmer(sentences_tokens, self.stemmer)#map(self.stemmer.stem, sentences_tokens )\n",
    "            # YOUR CODE HERE\n",
    "            #raise NotImplementedError()\n",
    "\n",
    "        # Join list elements into string\n",
    "        sentences_prep = [\" \".join(tokens).strip() for tokens in sentences_tokens]\n",
    "        return sentences_prep\n"
   ]
  },
  {
   "cell_type": "code",
   "execution_count": 26,
   "metadata": {
    "deletable": false,
    "editable": false,
    "nbgrader": {
     "grade": false,
     "grade_id": "cell-0a4c1aa16cea2ffb",
     "locked": true,
     "schema_version": 3,
     "solution": false,
     "task": false
    }
   },
   "outputs": [],
   "source": [
    "text_cleaner = TextCleanerTransformer(\n",
    "    tokenizer=tokenizer, \n",
    "    stemmer=stemmer,\n",
    "    lower=True, \n",
    "    remove_punct=True, \n",
    "    stopwords=stopword_list\n",
    ")\n",
    "\n",
    "X_train_pre = text_cleaner.clean_sentences(X_train)"
   ]
  },
  {
   "cell_type": "code",
   "execution_count": 27,
   "metadata": {},
   "outputs": [
    {
     "data": {
      "text/plain": [
       "[('@USAirways It was US 893. The gate was open after about 50 mins waiting. What a great way to finish an 18 hour delayed arrival!!',\n",
       "  'usairway us 893 gate open 50 min wait great way finish 18 hour delay arriv !!'),\n",
       " ('@JetBlue is the greatest airline ever 💕✈️💺 #TrueBluePoints #jetbluemember',\n",
       "  'jetblu greatest airlin ever 💕✈️💺 truebluepoint jetbluememb'),\n",
       " (\"@SouthwestAir is having a sale! I'm delighted!\",\n",
       "  'southwestair sale delight')]"
      ]
     },
     "execution_count": 27,
     "metadata": {},
     "output_type": "execute_result"
    }
   ],
   "source": [
    "list(zip(X_train, X_train_pre))[:3]"
   ]
  },
  {
   "cell_type": "code",
   "execution_count": 28,
   "metadata": {
    "deletable": false,
    "editable": false,
    "nbgrader": {
     "grade": true,
     "grade_id": "cell-4a87d0c9b1f20f7e",
     "locked": true,
     "points": 1,
     "schema_version": 3,
     "solution": false
    }
   },
   "outputs": [],
   "source": [
    "assert len(X_train_pre) == 8078\n",
    "assert len([w for s in X_train_pre for w in s.split()]) == 91017\n",
    "assert X_train_pre[8] == 'unit travel megzezzo injur gate agent chicago awesom help ty roadwarrior'\n",
    "assert X_train_pre[7999] == 'jetblu case alert arriv late flight four hour delay buy'"
   ]
  },
  {
   "cell_type": "markdown",
   "metadata": {
    "deletable": false,
    "editable": false,
    "nbgrader": {
     "grade": false,
     "grade_id": "cell-f48abbdab8acc3d1",
     "locked": true,
     "schema_version": 3,
     "solution": false
    }
   },
   "source": [
    "## Q3. Text classification\n",
    "\n",
    "We will now use what we've learned to try to classify the sentiment of these airline tweets as positive or negative. Let's first load the preprocessed data (it's slightly different from the answer to Q2) and double check the balance of the classes:"
   ]
  },
  {
   "cell_type": "code",
   "execution_count": 29,
   "metadata": {},
   "outputs": [],
   "source": [
    "def file_to_list(file_name):\n",
    "    with open(file_name, 'r', encoding='utf-8') as f:\n",
    "        return [line.strip() for line in f.readlines()]"
   ]
  },
  {
   "cell_type": "code",
   "execution_count": 30,
   "metadata": {},
   "outputs": [],
   "source": [
    "X_train_pre = file_to_list('data/tweets_train_preprocessed.txt')\n",
    "X_dev_pre = file_to_list('data/tweets_dev_preprocessed.txt')\n",
    "X_test_pre = file_to_list('data/tweets_test_preprocessed.txt')"
   ]
  },
  {
   "cell_type": "code",
   "execution_count": 31,
   "metadata": {},
   "outputs": [
    {
     "data": {
      "text/plain": [
       "['usairway us 893 gate open 50 min wait great way finish 18 hour delay arriv',\n",
       " 'jetblu greatest airlin ever 💕✈️💺 truebluepoint jetbluememb',\n",
       " 'southwestair sale delight',\n",
       " 'unit dm detail back 02 14 start phone number reach repli either onlin phone',\n",
       " 'usairway also famili crisi amp charg full price flight plus 200 2 chang flight even emerg',\n",
       " 'unit nightmar side flight disast houston get attitud cuz sent ticket counter',\n",
       " 'virginamerica tri check look like site',\n",
       " 'americanair gate c11 gate agent turn pay custom away favor non rev',\n",
       " 'unit travel megzezzo injur gate agent chicago awesom help ty roadwarrior',\n",
       " 'americanair misunderstood usairway would day flight chang gate agent said',\n",
       " 'usairway serious see spent 2 day multipl hour hold hang hour',\n",
       " 'americanair happen get notif departur cancel flightat tomorrow take 2 hrs talk someon',\n",
       " 'southwestair awwweesssooome',\n",
       " 'jetblu thank much condol quick respons much appreci',\n",
       " 'usairway 3rd time cut 10 minut hold chairman desk wth suppos rebook cancel flightl flight',\n",
       " 'unit thank',\n",
       " 'southwestair swa help hotel industri alway book flight day need somewher swa consist cancel flight delay',\n",
       " 'usairway gate agent flight 759 provid updat serious ridicul long peopl wait',\n",
       " 'unit anoth week pass hope would respons',\n",
       " 'usairway americanair suggest hold 2 hrs flight pass departur deal w ny weather need chang',\n",
       " 'americanair rdu custom servic awesom thank give em bonus',\n",
       " 'jetblu thank repli would appreci communic check delay jetblu use go',\n",
       " 'unit thank new club hare comfort made difficult weather day profici enjoy',\n",
       " 'southwestair thx grand view today flt 3825 seatac phx grandcanyon arizona wow love photographi http co d7pqouatdf',\n",
       " 'usairway pleas updat websit current flight status updat custom servic phone googl thx',\n",
       " 'americanair long mait repair wait gate capt said paperwork formal forc check bag rude return cc reader work',\n",
       " 'americanair fli us air chang cancel flightat lead today big final unaccept',\n",
       " 'southwestair thx finger cross found',\n",
       " 'jetblu thank get us nyc jfk realli safe srsli long take get check bag etern 5ammiseri',\n",
       " 'southwestair abl sit seat sinc guy next use worstflightev ideserveareward http co l7hsnlgie2',\n",
       " 'southwestair two hour plane gate undignifi behavior apolog ’ enough freedrinkcoupon',\n",
       " 'southwestair guy rock easi quick afford chang flight bestairlineev neverchang',\n",
       " 'americanair approach three hour sit plane ground dfw americanairlin flight 3056 oscar perform',\n",
       " 'jetblu ok book jb jfk book ath thank',\n",
       " 'unit wait flight 4567 memphi incred rude gate agent wait departur time announc delay 1 2 rude',\n",
       " 'unit would made alreadi book anoth flight cancel flight origin reserv',\n",
       " 'southwestair swadivers readi inspir http co s3esw5agum',\n",
       " 'southwestair pleas start fli huntsvill never fli american airlin',\n",
       " 'americanair prob worst custom servic ever repli complaint submit 6 week ago bout damag bag even replac',\n",
       " 'southwestair love southwest accept flight attend mani talent alway flyswa',\n",
       " 'jetblu make happi hope empti promis',\n",
       " 'americanair lga alreadi time pull flight qqbmug feel free look mani flight reticket',\n",
       " 'unit flight experi r often frustrat 2day ua5184 chi wpg flight attend april amaz 1 best',\n",
       " 'unit serious 2015 wifi 5hr flight cle sfo 1589 airlin w wifi pls unwind bs',\n",
       " 'usairway plus us airway need someth left philli thaw http co pky7zhnnrh',\n",
       " 'usairway well 11 45am got email 11am flight delay that right',\n",
       " 'southwestair flight 3130 paid 8 wifi load websit function except live stream unaccept',\n",
       " 'unit ua7985 coshar flight w ana unabl check 24 hrs prior',\n",
       " 'usairway eye look pandu better chanc bring home',\n",
       " 'jetblu send n598jb uvf today weekday weekend',\n",
       " 'americanair almost 4 hour heard noth yet reserv team suppos',\n",
       " 'unit 732 denver board finger cross get air',\n",
       " 'jetblu thank thank final set jetblu app yay',\n",
       " 'usairway get bs guy door say door close 10 minut back yet know fact 5 peopl short',\n",
       " 'southwestair 50min get bag check n atx miss flight spend day bwi n get baggag end epitimeoffail',\n",
       " 'usairway lot fun remov top list manual read bottom thank club agent thank lot asha dca',\n",
       " 'americanair usairway outbound flight 2 hour delay b c air traffic amp 2 gate chang dividend mile member get email text updat',\n",
       " 'usairway',\n",
       " 'southwestair help made mistak drop earli bird check end luv',\n",
       " 'unit us3645 leav ord time week shame',\n",
       " 'unit 2nd flight two week lost bag take 1k status americanair neveragain worstcustomerservic',\n",
       " 'jetblu say jetblu offici lost custom wast point yet flight',\n",
       " 'unit appreci case wait extra 55 minut lost mechan fax log fax like 80s',\n",
       " 'americanair u help rebook passeng via twitter dm hold 1 5 hour thank',\n",
       " 'americanair never fail disappoint wait jfk hour schedul take still word departur',\n",
       " 'unit sure drive total 3 hour get bag like explain debacl one want talk',\n",
       " 'unit hold 30 minut final got someon retook form payment confirm reserv set tri',\n",
       " 'jetblu great land jfk',\n",
       " 'unit delay 8 hour miss connect due mechan issu 1st flight rebook pleas call 9148445695',\n",
       " 'unit chang airport actual get flight flight fay cancel flightl twice 180 taxi ride rdu reimburs',\n",
       " 'usairway deal w fam emerg told rebook aa flight 4297 ord system need help asap',\n",
       " 'americanair cancel flight flight say caus weather condit flight cancel flight',\n",
       " 'unit wait 45 min gate sfo yet mani free excel oper effici show',\n",
       " 'southwestair grand total land get bag one hour sad',\n",
       " 'virginamerica fli lax sfo look awesom movi lineup actual wish long haul',\n",
       " 'jetblu awesom bestairlineev',\n",
       " 'unit trick make us look popular twitter worst airlin wellplay jokesonus',\n",
       " 'americanair servic horribl get straight answer ground agent',\n",
       " 'unit late flight reflight book problem morn alreadi longer need hotel room',\n",
       " 'usairway 2 hour 7 minut want know still queue',\n",
       " 'southwestair worri best u alreadi cancel flight biz trip still luv rr 1079871763',\n",
       " 'unit share pilot passeng',\n",
       " 'fault jetblu social media awesom peopl know everyon work hard get us way',\n",
       " 'usairway flyknoxvill bad weather excus follow establish luggag procedur noclothesnoinfo',\n",
       " 'usairway 24 hrs late flightr still home hotel rental car etc 5 yr old happen custom servic first prioriti',\n",
       " 'unit mean 24 26',\n",
       " 'southwestair flight cancel flightl due weather next',\n",
       " 'americanair usairway hour phone best tell sent mayb bank misplac',\n",
       " 'unit sent dm request heard anyth address issu brought dm explain happen',\n",
       " 'southwestair noth love hold hour http co liqwoblfbt',\n",
       " 'jetblu fleet fleek http co a7nvbj8ipx ”',\n",
       " 'americanair ramper gate b40 dfw wait marshal',\n",
       " 'unit want cancel flightl ticket special guess even unit',\n",
       " 'americanair think prioriti member wonder treat plebe know reward card cancel flightl immedi',\n",
       " 'unit call back hold issu confirm number email show much paid',\n",
       " 'unit miss daughter suppos dpt ord 5 59pm dpted 8 30pm check week averag ua3645 shame 7 day averag 7 54pm',\n",
       " 'southwestair took bos bwi plane flight stl promis replac 1 5 hour late flightr 2 5 hour delay happi',\n",
       " 'southwestair last 4 time arriv lasairport gate block slow depart plane lead 30 60 min delay',\n",
       " 'americanair 5 hour still call back hung autom system americanairlin',\n",
       " 'unit screw professor mayb tell everyon skiplag aviat airport airlin innov startup tech',\n",
       " 'usairway flight cancel flightl guy answer phone',\n",
       " 'usairway think littl weak sauc zero inflight entertain 4 hour flight salt lake philadelphia',\n",
       " 'unit 65 72 year old fli tokyo vacat bad knee happen https co 72rmpkogwu cbcallinaday cbcnew',\n",
       " 'unit amp top free tv int ’ l leg ’ sit tarmac houston 70 min past departur w anoth hr plus go',\n",
       " 'usairway disappoint make arrang amp sleep toddler zero assist usair madden',\n",
       " 'usairway serious keep tri seven hour corpor polici usairwaysfail',\n",
       " 'unit hell flight 746 delay sinc 3 pm final board sit tarmac f amp amp cking plane ever leav',\n",
       " 'jetblu fyi android app set applic nexus 6 pleas fix phone tablet cheer',\n",
       " 'southwestair thank left ipad plane fill lost found form yall found ship back thank flysw',\n",
       " 'southwestair nice trip back home looong vaca 😊🌴 http co 9trvfncedl',\n",
       " 'americanair connect person without wait 2 hour hold still abl resolv problem',\n",
       " 'unit well john hugh birthday stick w plane amp hold train amp automobil gate worker well',\n",
       " 'usairway flt 1820 2rsw could extend courtsey wait 2min 4 10 us gate close r face ur fire',\n",
       " 'unit updat flight 4411 delay super frustrat',\n",
       " 'americanair submit case aa custom relat two week ago word ever sinc what point even cr',\n",
       " 'unit would overnight bag wed unknown locat courier compani appar contact',\n",
       " 'usairway hold 35 min sort reserv sync messag tri check wrong',\n",
       " 'usairway link work via mobil',\n",
       " 'southwestair u cancel flight flight phx bc sdf weather flight 2 ne sdf still go wtf http co ngg3n0wiar',\n",
       " 'americanair usairway next stop custom servic',\n",
       " 'unit tri get final destin need compens 2hrs person time wast',\n",
       " 'usairway truthh4 give wifi password smh',\n",
       " 'usairway worst still left everyon miss connect',\n",
       " 'usairway flight 4500 403 delay crew avail give get tpa 2 5 hrs past schedul arriv',\n",
       " 'unit unit doesnt give 2 shit custom',\n",
       " 'jetblu come thought tampa',\n",
       " 'usairway philacarservic look like long trip cancun philli 9 hour late flight serious',\n",
       " 'usairway americanair major issu get boston crew except let see thing roll philli',\n",
       " 'unit bish',\n",
       " 'southwestair yeah 4 rebook tomorrow hope 3rd time charm cancel flightl flight',\n",
       " 'americanair alway nice come home wish fli lax mad keep away iberia 😜✈️ goingforgreat',\n",
       " 'americanair ejacqui updat screen peopl would know late flightst info good bad work',\n",
       " 'unit would think would clean ramp jet stuck snow newark would never happen delta',\n",
       " 'usairway get answer question hold hour 6x get messag said take call',\n",
       " 'usairway would appreci call regard horribl experi gate agent hold 39 min hung',\n",
       " 'americanair make sure u insur luggag asshol aa take fricken respons amp believ lie',\n",
       " 'americanair hey happen aa65 zurich jfk appear squawk 7700 land london heathrow',\n",
       " 'jetblu flight book problem flight dc visit easter weekend start difficult end well guy big fan',\n",
       " 'southwestair kudo rsw cs crew rout pax allevi sale due grade eqp 800 500',\n",
       " 'usairway airport dca airlin mess flight also cover hotel cost dca 5hrs',\n",
       " 'usairway f ing hate',\n",
       " 'jetblu dont enough money park garag fault im pay 10min 3hrs',\n",
       " 'unit social listen capabl aw repli context mention stevelord212',\n",
       " 'usairway 4 flight 48hrs amp flight attend 3 flight freaki coincid plus side great',\n",
       " 'americanair flight cancel flight 2nd time reach agent reschedul call',\n",
       " 'thank southwestair heartlanta',\n",
       " 'usairway thank blow vacat get anywher today make reserv also lost 2 bag mine',\n",
       " 'usairway send email detail late flightr thank respond',\n",
       " 'jetblu thank 80th bday saturday aviat theme surpris parti',\n",
       " 'unit make hard fli delay hour plane turn around amp head back gate connect',\n",
       " 'americanair pick nonstop flight bc thing get ’ taken diff rout airlin suppos',\n",
       " 'southwestair yes minut tweet abl reschedul flight thank',\n",
       " 'usairway flight 604 thank',\n",
       " 'unit 40 minut wait gate broken jetway differ gate mayb',\n",
       " '😒 rt jetblu fleet fleek http co i7ut2zvhco',\n",
       " 'unit someth like hear hope staff resolv amp way asap ml 3 15 amp still resolv',\n",
       " 'americanair crew best could control get one chanc honeymoon amp fail miser',\n",
       " 'unit wait 2 day militari bag airport 3 hour away horribl',\n",
       " 'usairway never given number elit usair aa wait 3 hour answer seat gone',\n",
       " 'americanair first sister zero food cross countri flight type warn voucher',\n",
       " 'sorri unfollow jetblu',\n",
       " 'unit chicago hometown airlin care neighbor savethediagon flyquiet ordnois',\n",
       " 'jetblu wave someon behind step forward although explain happen indic need make flight',\n",
       " 'americanair would ok send dm ask question deaf hold long',\n",
       " 'unit air anoth miss cnxn 2day atc went strike beliz famili amp miss cnxn ewr pleas see dms',\n",
       " 'virginamerica love graphic http co ut5grrwaaa',\n",
       " 'unit yr team hold hour unhelp pls answer question',\n",
       " 'unit luckili disinfect wipe job welcom badservic',\n",
       " 'usairway still wait respons',\n",
       " 'unit hard call go 10 000 mile 1 000 mile ticket cut edg 1 10 perk',\n",
       " 'americanair tri multipl peopl alreadi sat phone hour half got nowher',\n",
       " 'americanair good catch 11 10p flight tonight thank respons',\n",
       " 'unit appli one travel certif per itinerari even multipl flight',\n",
       " 'unit ua1740 inbound flight dep time get closer push back 15 min 2 hrs',\n",
       " 'usairway delay flight 3 time cancel flight angri rude worker provid help servic',\n",
       " 'virginamerica flight fli boston tomorrow need home cancel flightl flight anyth',\n",
       " 'jetblu peopl kept say due weather flight go direct boston even flight',\n",
       " 'unit friend lost luggag flight 1547',\n",
       " 'usairway want love 43 minut hold help understand switch loyalti program http co chgy5yrvka',\n",
       " 'usairway happi start trip cancel flightl flight poor customerservic',\n",
       " 'southwestair thank got put flight tomorrow much faith get ground tomorrow though',\n",
       " 'americanair frustrat paid get refund',\n",
       " 'unit advertis flight still websit still book spent 2 hour unit support',\n",
       " 'southwestair way know check bag curb awesom want sure get high five',\n",
       " 'southwestair baggag motto cover small tear rip seam snow soak bust zipper sorri http co lhwfbkfyni',\n",
       " 'jetblu offer pay tix airport bc never told reserv go told could pay 2275 pp',\n",
       " 'unit take back comment team work hard help us far solut hotel food anyth fail',\n",
       " 'jetblu flight attend suck alway rude 4th bad experi jetblu tonight',\n",
       " 'unit surpris took 15 min never experienc anyth like 1k number',\n",
       " 'usairway oh certain two 275 pend transact bank account realli happi charg doubl',\n",
       " 'virginamerica today flight palm spring ca jfk ny cancel flightl',\n",
       " 'usairway fam that suppos fli 2 22 current hosp 3 trys speak human yr phone sys cut pls hlp',\n",
       " 'southwestair hey yea got thru everyth good well 7 10 day voucher goe appreci',\n",
       " 'usairway ridicul planebroken wait board one home 5 hour late flightr neverontim brutal paymytab',\n",
       " 'unit thank',\n",
       " 'unit want bag vital equip royal screw cranki want updat',\n",
       " 'unit worst airlin world',\n",
       " 'americanair leav us strand send baggag import medic differ citi 4day amp apologis 50 voucher appal',\n",
       " 'americanair tri 20 hrs reach agent must make chang done web 11 59 pst cancel flight rev ystday',\n",
       " 'jetblu thank',\n",
       " 'jetblu yes yes great trip thank lift',\n",
       " 'jetblu absolut guarante us would sit kid term respons insult jetblu',\n",
       " 'southwestair 50th anniversari april 10th still sweetheart companion lifetim son famili love',\n",
       " 'jetblu busi due storm custom servic alway point ever getittogeth',\n",
       " 'unit need chang way custom servic handl wait supervisor contact 17 day give',\n",
       " 'americanair advis turn issu polic due sexual assult thank allow plane',\n",
       " 'unit ok thank provid complimentari hotel accommod sinc stay overnight',\n",
       " 'unit push five hour time worth noth reflight book problem option unfortun',\n",
       " 'virginamerica back seat entertain system accept credit card apostroph surnam apostrophefail',\n",
       " 'southwestair smoooothest flight attend southwestsmoothi http co vr9k180lai',\n",
       " 'usairway let passeng board issu hour amp pilot know leav',\n",
       " 'americanair second flight put cancel flightl explan miss first meet outrag 😡😡',\n",
       " 'unit unhelp http co vbfieo2qjc',\n",
       " 'unit parryaftab done thnx',\n",
       " 'usairway rebook flt monday get voucher hotel never us airway',\n",
       " 'usairway sick live airport getittogeth',\n",
       " 'unit still heard anyth anyon unit erieairport',\n",
       " 'jetblu news gate option',\n",
       " 'americanair guy u serv drink 2 til need awheelchair get plane import assault women',\n",
       " 'americanair anoth day anoth grievanc airlin custom servic',\n",
       " 'americanair lost cat miss flight kept crate 30 hrs would 5 hr trip never touch pet',\n",
       " 'usairway great call fuck phone number hung',\n",
       " 'unit web app let upgrad seat call center wait time 20 minut plus want get legroom pita',\n",
       " 'americanair continu win never miss flight nice littl quiet gate chang made possibl sheesh',\n",
       " 'usairway cant get anyon phone help award travel purchas extra mile 10 minut late flightr mile need rais',\n",
       " 'jetblu want give warm thank crew logan airport still get dc area cancel flightlat morn',\n",
       " 'southwestair worst servic cancel flightl flight fll phl usairway flight flew stuck fl 3 day done',\n",
       " 'jetblu found camera thank rock',\n",
       " 'unit know last name karen call center terrif friend help terrif repres kudo',\n",
       " 'southwestair flight cancel flightl bna reschedul travel fund put back account futur use',\n",
       " 'usairway feel almost everyon hate',\n",
       " 'unit overal experi fli friend',\n",
       " 'americanair hold time disconnect excus',\n",
       " 'usairway depart depart phx due land dca around 8pm',\n",
       " 'jetblu app need updat say flight time well past board time 2hr delay http co btvpxtzju0',\n",
       " 'unit abl dm confirm number',\n",
       " 'jetblu hey jetblu strand entir plane suppos go jfk get restless need better communic',\n",
       " 'usairway beamsk real live person talk person whose luggag lost 4 day vacat wreck yorkshire2002',\n",
       " 'usairway forgot call copilot stuck plane phl look fwd strand clt day 2 flight fail',\n",
       " 'usairway part 2 2 tri call cust serv system hung twice system issu pleas advis',\n",
       " 'jetblu servic get wors wors plane fli wait 2nd aircraft much plan',\n",
       " 'usairway jdbwaffl excit fli us jb spring break',\n",
       " 'unit ua381 14 feb point oversel flight bad make peopl wait 1hr kick board wors',\n",
       " 'southwestair im pray get home aliv',\n",
       " 'usairway noth avail male flight crew nice dismiss big guy standbi probabl even pay',\n",
       " 'jetblu anyth flyfi http co 8jcediky9u',\n",
       " 'usairway autom messag help imposs speak human right desper need luggag',\n",
       " 'americanair direct miami w seat u rebook niec tuesday get phone customerservicefail',\n",
       " 'unit yes plenti seat avail vicki thoma refus give one million mile flyer',\n",
       " 'usairway question flight took friend stuck needless anoth citi',\n",
       " 'unit anoth fail unit ticket agent okc less help could care less problem american come',\n",
       " 'usairway despic flight plan lost sit tarmac hour 45 min flight',\n",
       " 'unit confirm seat crisi avert beer miss',\n",
       " 'unit thank',\n",
       " 'unit tonight made fred flintston happi upgrad 1st class http co gkgkzlawpr',\n",
       " 'americanair thank hope get movi tv broke flight',\n",
       " 'unit well play lo',\n",
       " 'usairway ya need work onlin checkout system two bank transact one ticket bush leagu yell dev',\n",
       " 'unit guy suck delay flight hold connector 10 minut worstairlineev',\n",
       " 'unit cell phone record need check see convers trust faa handl better',\n",
       " 'jetblu thank quick repli want make sure account',\n",
       " 'unit worst custom svcs kevin rep call center must investig baggag lost help argument',\n",
       " 'southwestair honest expect fast respons thank chiberia go',\n",
       " 'jetblu lucki still fli today land gear failur get act togeth help us sit kid',\n",
       " 'unit lost parent luggag cancun said would deliv hotel 7pm almost 11pm',\n",
       " 'southwestair ok southwest still best airlin around hate baggag room run check bag headphon',\n",
       " 'virginamerica websit btw new websit great user experi time anoth redesign',\n",
       " 'southwestair almost gate 1156 sf pleas wait 60 second',\n",
       " 'jetblu allow drop bag flight run 10min late flight turn left hour late flight',\n",
       " 'southwestair aarp tfw1 appreci tweet back unexpect',\n",
       " 'unit new flight window kind tick pick aisl seat hate window seat annoy epicfail',\n",
       " 'usairway flight4592 let us plane pleas go gate absurd',\n",
       " 'virginamerica awesom flew yall sat morn way correct bill',\n",
       " 'virginamerica view downtown los angel hollywood sign beyond rain mountain http co dw5nf0ibtr',\n",
       " 'southwestair fortunemagazin well deserv',\n",
       " 'jetblu book flight jetblu separ 3yr old mother bit stupid check headach',\n",
       " 'americanair despit inconveni situat handl quick appreci much',\n",
       " 'unit guy let four hour delay honolulu houston thank train wreck issu come',\n",
       " 'unit suck',\n",
       " 'unit book american unit said transfer bag',\n",
       " 'jetblu third flight row wife tv work',\n",
       " 'unit unit club team amp got seat late flightr still sure last min ual cancel flightlat cost yet overbook folk get',\n",
       " 'americanair leav luggag baggag claim without previous inform deal http co otty5rymzd',\n",
       " 'unit want bag flight 1142',\n",
       " 'americanair need go frm tpa mci tmrw amp connect thru dfw cancel flightl u connect thru diff citi hold 2 hrs',\n",
       " 'jetblu 2 hour delay go nyc denver come man',\n",
       " 'americanair broke sick wife luggag handl go jfk lax drag bag thru airport customerservic',\n",
       " 'americanair keep tri call chang reserv keep hang',\n",
       " 'unit way simpl apolog goe long way even hollow one obvious care well',\n",
       " 'usairway blame weather rep counter cost entir day weather print board pass late flight takerespons',\n",
       " 'southwestair thx follow sent dm',\n",
       " 'unit addit first flight delay hour arriv destin 8 hrs late flight',\n",
       " 'unit custom custom servic ❌ http co qp6aw3nlip',\n",
       " 'americanair sever miss communic abl get ord home yet sure get due error',\n",
       " 'southwestair new logo go look amaz airplan',\n",
       " 'southwestair list prefer den dal flight cancel flightl 30 min prior board best option tue afternoon serious epic fail',\n",
       " 'unit pay 17 wifi intern busi ticket pennypinch',\n",
       " 'usairway pilot tell americanair us airway flight across countri stop due comput system failur',\n",
       " 'americanair one staff desk queu hr',\n",
       " 'usairway ok thank told ground delay due snow',\n",
       " 'usairway tri check onlin say call hold 2 hour',\n",
       " 'usairway get free wifi sinc flight 1808 cancel flightl',\n",
       " 'unit tell us flight delay tell us time 20 min spare say delay unless sure',\n",
       " 'usairway americanair someon pleas tell talk getittogeth findurgrip',\n",
       " 'usairway rude staff said care market place food go vacat work nice huh',\n",
       " 'unit 2 day 1 flight cancel flightl anoth delay 8 hour unit gave 7 food voucher much valu time',\n",
       " 'unit thank remind much easier fli southwest get agent sfo 25',\n",
       " 'americanair well 4 hour still one pick tri pay overtim bring peopl',\n",
       " 'southwestair therefor sinc receiv recours phone submit email complaint amp letter via mail follow',\n",
       " 'usairway americanair mean americanair might care sister assault one flight',\n",
       " 'americanair abc pr let custom info possibl might want go brush basic',\n",
       " 'unit call work tell fault late flight',\n",
       " 'americanair usairway pregnant twin go abandon overnight airport hotel fault',\n",
       " 'jetblu sent email 24 hour ago ask question still respons need answer hope flight book problem flight',\n",
       " 'unit tri check 40 min flight rather 45 min stonewal employe',\n",
       " 'unit brilliant thankyou much class part carryon',\n",
       " 'jetblu love bae jetba',\n",
       " 'unit nope chanc airlin mess way trip',\n",
       " 'unit yea book 10 next aval flight sinc sat 7am time come plane 2nd day work miss hotelliv',\n",
       " 'southwestair book flight phone never got confirm email would go get',\n",
       " 'usairway flt 4827 elm still gate still make thru custom',\n",
       " 'unit realli hope get help 5th attempt get resolut lost count transfer help pleas mileageplus',\n",
       " 'unit one make difficult',\n",
       " 'unit yeah bag way per usual actual get use get deliv kind nice sens',\n",
       " 'jetblu zkatcher 😂😂😂😂😂 omg bore amp read convo seem like jetblu point',\n",
       " 'unit blown away stellar custserv thank lt 3 http co jorescfb4x',\n",
       " 'virginamerica disappoint agent design silver status check line close assist paseng',\n",
       " 'usairway realli middl initi versus middl name els spend time comput issu',\n",
       " 'americanair 6 hour get back back sat plane 4 hour flight cancel flightl one small drink',\n",
       " 'usairway thank empathi stori luggag thank reach',\n",
       " 'southwestair land nashvill thank take care us http co ryxbplgmnk',\n",
       " 'unit make flight takeoff time regardless make late flight wait bag baggag claim',\n",
       " 'americanair non exist take far need hide behind corpor logo provid number tcf useless amateur',\n",
       " 'unit hi yes need free hotel stay honalulu due 4 hour delayua53 sinc miss second flight kauai',\n",
       " 'unit thank good servic safe flight 1 2 way home',\n",
       " 'virginamerica airlin cancel flight flight bos help custom get home virgin say good luck',\n",
       " 'southwestair love guy take airlin week make love appreci much onlywaytofli',\n",
       " 'virginamerica anyon anyth today websit useless one answer phone',\n",
       " 'unit home next 8 5 hrs 777 gfc http co mkpognntyc',\n",
       " 'unit final gave let threaten send back vega coach thnx',\n",
       " 'usairway hold sinc 11 30pm mani custom servic rep serious',\n",
       " 'americanair follow talent pm bdsm porn site http co uqgw6qsffu new economi dungeon class come http co pl9sop5ihu',\n",
       " 'jetblu set fli bad first date giant metal bird machin even brought snack',\n",
       " 'americanair cancel flight flight ’ way rebook websit app wait 35 minut hold fail cc delta',\n",
       " 'americanair maint delay left us stuck den flight 1080 plane 7 hrs stop fli broke french plane',\n",
       " 'jetblu u guy 2b kid help anywher 5 hour delay still answer bad cust servic idlovetoask http co dpx3yogtej',\n",
       " 'americanair flight 1081 iad lax sat 3hrs ground crew drive snow badmgmt americanairlin',\n",
       " 'unit thank noth next time bring whole extra suitcas 1 extra pound make sens right',\n",
       " 'usairway site tarmac philli anoth 15 minut lame sorri help terribl',\n",
       " 'usairway sorri help midnight pst hell still hold 90 minut custom servic line',\n",
       " 'usairway yep check gmail promot folder regular',\n",
       " 'jetblu fleet fleek http co kvxs1lcqlp ” alynewton new fav airlin',\n",
       " 'thank americanair much appreci',\n",
       " 'usairway alreadi let know sent 4 complaint got call back final asleep return call back',\n",
       " 'jetblu cinnabon two team serv cinnabon flight bonsintheski',\n",
       " 'southwestair thank yes got biggest frustrat longer abl check onlin flight 4 cancel flight',\n",
       " 'usairway us 728 feb 21 kim say leav 15 minut paperwork done wheel 1 5 hour late flightr',\n",
       " 'southwestair sev ppl im offic receiv apolog 2k ff mile delay apolog select ppl got noth',\n",
       " 'unit also ice frozen metal walkway wast 40 minut one knew simpl job',\n",
       " 'americanair taxi across dfw airport 20 min state 75 min past depart gate need deic wow uncool amp untru',\n",
       " 'southwestair 4 4 horribl custom servic empti seat earli flight wantcharg doubl get home earli instead usual late flight',\n",
       " 'jetblu pleas get luggag 2070 onto carousel 5 logan airport abl go home',\n",
       " 'jetblu fleet fleek http co 7im9rhivyr ” plz stop',\n",
       " 'virginamerica flight home dc sunset globe backtowint back work refresh http co vx9vbctdlf',\n",
       " 'americanair worri bag went san dca 24 hour reunion organ breez http co uoaryq98pu',\n",
       " 'unit work incred unfriend ground staff fals promis twitter theairhelp',\n",
       " 'americanair glad want help agent call rant shitti servic everi day',\n",
       " 'unit also run instruct shatter comput http co oaflfr7wxb',\n",
       " 'unit thank listen compliant right thing appreci work',\n",
       " 'unit differ airlin',\n",
       " 'americanair lpalumbo weather sun',\n",
       " 'americanair get amp appreci mani problem last year fli guy pretti aggrav',\n",
       " 'unit thank respons bag came long wait prioriti tag honor disappoint',\n",
       " 'usairway thank alway good follow',\n",
       " 'jetblu worst fli experi ever suffer appreci money back',\n",
       " 'jetblu 3 hour sent plane hangar flight 1533 jfk absolut ridicul',\n",
       " 'usairway custom servic stink tri book flight hour keep get hung usairwayssuck',\n",
       " 'southwestair want thank great effort jami mckinni buf true pro major delay own rais',\n",
       " 'unit cldnt happier w mani plastic wing pin given flight 494 love amaz staff nice http co cbv7f3kbkx',\n",
       " 'unit book bos uggh 3 hour bus wmass home could flown bdl amp back dc time unitedairlin',\n",
       " 'southwestair sorri sat plane 3 hour wait engin fix got luggag lost k',\n",
       " 'usairway americanair soon call custom servic speak repres disconnect',\n",
       " 'unit reschedul return flight japan uh tri call unitedairlin customerservic 45 min wait fun',\n",
       " 'unit yea get phoenix alreadi delay day peopl bullshit',\n",
       " 'usairway truli worst experi weekend delay rerout 3x board 715 flight say flight time',\n",
       " 'americanair staff commenc new polici industri embarrass',\n",
       " 'southwestair almost bump flight hrl 20 minut earli staff rude ask problem',\n",
       " 'americanair attend correct complaint via twitter whoa brave new world live thank american air',\n",
       " 'usairway pleas hog next flight wait bus get one plane run leav two min',\n",
       " 'unit time give 1k status switch delta terribl even describ',\n",
       " 'usairway horribl experi key west lost luggag call check amp told call back reconsid flight back',\n",
       " 'americanair tri speak agent 24hrs cancel flightl flight rep alway busi get ahold',\n",
       " 'unit musician real dirti lax never block get flight bass',\n",
       " '5 hour delay short southwestair brendanpshannon brendan sorri keep wait air short rs ”',\n",
       " 'americanair thank',\n",
       " 'jetblu still wait callback lack follow concern smh',\n",
       " 'southwestair thank',\n",
       " 'jetblu wsj jetblu treat right disabledtravel thank hassl flight jamaica',\n",
       " 'jetblu thank much',\n",
       " 'americanair realli want get home tonight prefer pleas stop delay plane 😢😕😦 americanairlin',\n",
       " 'unit laurasbrown5 clear unit live stone age peopl need comput make site better tablet phone',\n",
       " 'unit think guy half full flight 4 held overbook 3pm flight fill one cancel flightl mine',\n",
       " 'americanair worst compani ever pleas fli repeat pleas fli credit delay',\n",
       " 'southwestair guy amaz send peopl meet imagin dragon destinationdragon 😋',\n",
       " 'jetblu hate 😒 https co g4wwr6vbrq',\n",
       " 'usairway dm take offlin would love info locat lost bag help appreci',\n",
       " 'virginamerica understand need dm give answer damag luggag polici',\n",
       " 'unit sit tarmac half hour land jetway broken 2daysofunitedfailur 1thingafteranoth',\n",
       " 'thank u 😘 jetblu itslaloca cours safeti alway 1st make sure handl care love',\n",
       " 'southwestair 800 int l friend',\n",
       " 'southwestair worst airlin congrat',\n",
       " 'americanair love servic cheap upgrad american provid one best airlin ever good food good seat amaz thank',\n",
       " 'americanair thank',\n",
       " 'americanair continu win never miss flight nice littl quiet gate chang made possibl sheesh',\n",
       " 'americanair find bc unit rebook us airlin realiz get us home ord',\n",
       " 'jetblu learn custom servic sxm work airport jetblu need supervisor anyth',\n",
       " 'jetblu yes thank cater got load frustrat suppos 10 10 30',\n",
       " 'unit call 800 result 2hrs hold time amp 2day wait check suspect code share fare noth investig — time wast 2 2',\n",
       " 'southwestair bad enough seat assign seat exit seat male flight attend remov',\n",
       " 'americanair flight cancel flightl tri reschedul 800 number say call back',\n",
       " 'southwestair hi guy good morn',\n",
       " 'usairway captain turn seat belt sign peopl get walk around good',\n",
       " 'jetblu soon realiz tri figur steal peopl bag secur camera anyth',\n",
       " 'southwestair thank connect thru nashvill a1 board pass get dalla gate board 40 min flt get end b group',\n",
       " 'jetblu kylejudah new stroller travel credit help cover cost new stroller crew ruin therefor',\n",
       " 'jetblu trade custom experi short term sad previous loyal custom https co dfmvmibh4x',\n",
       " 'unit glad took care reschedul ua 1580 ogg cancel flightl http co h3k3owohd1',\n",
       " 'usairway americanair strand cold texa get sick overbook flight gave seat away gooutofbusi',\n",
       " 'unit check system troubl check flight depart less 24 hrs',\n",
       " 'jetblu cancel flightl ticket 3 best friend go vacat never told us jetblu fixthi ripoff zkatcher bretharold',\n",
       " 'southwestair matthewebel love fli southwest excel servic take serious',\n",
       " 'unit 30 hour late flightr still answer stuck houston keep get put phantom flight never apear badcustomerservic',\n",
       " 'usairway way treat women want someon contact explain make accept',\n",
       " 'usairway contac eyewit news ripoff cancel flight want pay',\n",
       " 'virginamerica luggag sever dent miss wheel come baggag claim san luggag agent miranda think help',\n",
       " 'americanair tri reach american airlin sinc last even cancel flight flight worst custom servic ever',\n",
       " 'jetblu nope 8 45am flight leav almost 5pm 5 believ paid money',\n",
       " 'unit assist attitud staff matter airport',\n",
       " 'unit compens delay caus fact enough flight attend http co 96apr35qan',\n",
       " 'unit miss amaz us bank work confer ok',\n",
       " 'unit exist reserv fine talk longer 0600 cmh ord option 0638 get late flight',\n",
       " 'unit money suck airlin terribl terribl custom servic',\n",
       " 'unit miss connect alreadi miss next flight put go lax instead hawaii',\n",
       " 'usairway tri cancel flight flight within 24hr window hold hour altern dial',\n",
       " 'unit send email bad experi send back generic respons yet anoth reason never fli',\n",
       " 'southwestair thank leav hang destinationdragon flight fuck help',\n",
       " 'americanair thank keep updat hope make either connect killeen tx',\n",
       " 'americanair pleas improv busi extra flight reserv process book onlin centuri 25 min hold',\n",
       " 'americanair flight tomorrow alreadi cancel flightl',\n",
       " 'unit stay warm pass chicago next week',\n",
       " 'unit cancel flightl flight ua922 aircrft mainten delay 10 hour refund option',\n",
       " 'usairway know luggag serious',\n",
       " 'americanair awesom thank',\n",
       " 'unit disgust unconscion treatment receiv tonight',\n",
       " 'usairway happi w app late flight last time flew let check time check went late flightr say never check',\n",
       " 'unit time call need ski go airport get faith unit',\n",
       " 'jetblu help sinc bunch us tri get time',\n",
       " 'unit make connect stellar employe vicki thoma refus board even though 23 empti seat plane',\n",
       " 'usairway time today phl nice work thereisafirstforeveryth',\n",
       " 'southwestair continu amaz amaz custom servic thank swa',\n",
       " 'americanair come want go home miss anoth day work stuckinmemphi texasisclos',\n",
       " 'americanair fyi twice tri call someon free thing time call pick hung',\n",
       " 'usairway yet see short',\n",
       " 'usairway enjoy flight far great job today tough thank make flight comfort',\n",
       " 'americanair give cot peopl get hotel room terribl',\n",
       " 'jetblu everi channel abcnetwork kgonzales89 suppos watch scandal free flyfi sweet',\n",
       " 'americanair call cue 11 hour call yet wife cue 9 hour got call hung',\n",
       " 'usairway 502 phx im still plane wait wait',\n",
       " 'jetblu thank respons next flight 9 48 flight',\n",
       " 'usairway peterpiatetski ummmm think us air comput hour flight 3 hour late flight',\n",
       " 'unit fantast night wait 3 hour delay airplan alert us flight cancel flight land whatstatus',\n",
       " 'usairway new americanair like new spiritairlin love aa impress subpar plane gate agent',\n",
       " 'americanair wifi dca stl rout 2 hour flight could use love',\n",
       " 'americanair abl get hold system kept kick main menu',\n",
       " 'unit well want custom frustrat compens appropri screw royal fakesincer',\n",
       " 'americanair ’ still wait go far long someon speak',\n",
       " 'jetblu flyfi work well free aboard flight',\n",
       " 'jetblu wonder websit issu today tri book flight visa alway use reject',\n",
       " 'usairway 2 hour 14 minut hold count thank help customerservic brutal http co vskxyamnom',\n",
       " 'usairway first luggag got stuck differ citi get back today amp one employe stole pair glove',\n",
       " 'usairway littl help us husband hold hour someth take 5 minut complet',\n",
       " 'southwestair conf f8neqm flight delay 3 hour friend wait bday pleas follow',\n",
       " 'usairway total bs offer pay full first class airfar told sold 3 seat gave seat other crap',\n",
       " 'unit mean employe realli nice liter sob',\n",
       " 'southwestair show love companion flight pleas thank',\n",
       " 'usairway worst fli experi guy need better',\n",
       " 'americanair understand busi still gotten answer need get home guy help',\n",
       " 'unit wait 787 tpallini http co odlall5edh',\n",
       " 'unit good next flight littl delay work 👍',\n",
       " 'unit know two hour us sit plane bag load plane weight',\n",
       " 'unit battierccipuppi puppi cute look forward board thank high five ey ” 👏👏',\n",
       " 'usairway congrat treat custom worst way possibl know plenti ppl horribl experi w',\n",
       " 'jetblu famili excit see 😊😊',\n",
       " 'unit excel reliabl happycustom',\n",
       " 'southwestair plan make southwest app android crappi',\n",
       " 'americanair rizzili book ticket use mile need chang date tri get advantag rep 4 two day',\n",
       " 'usairway mad even believ guy cancel flight connect flight leav first stop amp give useless hotel voucher',\n",
       " 'unit flight 4465 almost half hour tarmac wait paper cannot miss connect iah',\n",
       " 'unit worst major us airlin proof board plane outsid galley door open 0 degre weather wtf',\n",
       " 'americanair think 2 week wait enough time contact lose custom',\n",
       " 'usairway bewar barklay bank terribl cust servic assist know go bad written book english',\n",
       " 'unit far worst airlin ever misfortun fli 44 countri flown outrag',\n",
       " 'unit told chang flight im ottawa airport ac cant find reserv what wrong',\n",
       " 'americanair flight tomorrow cancel flight anyth onlin get phone help',\n",
       " 'usairway hold 1 23 let use companion voucher onlin http co dphqrgkdoa',\n",
       " 'southwestair yeah told would next flight drove wasnt drove second time',\n",
       " 'americanair worker check ice plane use cell phone flashlight realli come',\n",
       " 'americanair 3611 suppos depart 5 10pm central readi close door 7 34pm central',\n",
       " 'usairway kid bad custom servic folk flew psp phx flight 2692 2 19 cont http co kigfkvxxdq',\n",
       " 'usairway rout system goe ground long haul flight think failov plan',\n",
       " 'jetblu guy need live chat',\n",
       " 'usairway power outlet seat gonna keep us site forev',\n",
       " 'usairway instead mile credit account open request merg account deni',\n",
       " 'unit usual issu express sfo posit note mainlin p enjoy',\n",
       " 'americanair nrosenb1 say chang made onlin',\n",
       " 'americanair sorri late flight respond dm',\n",
       " 'usairway worst custom servic ever rebook tue seat avail mon wtf contact',\n",
       " 'unit joke lot angri peopl iah',\n",
       " 'americanair thank show 👍',\n",
       " 'unit good luck enertain 6 hour flight strategi innov work hello jetblu http co hi76boavxi',\n",
       " 'jetblu may need 40 minut layov 15 min delay first flight',\n",
       " 'americanair want thank guy 27 hour delay flight aa106 jfk due staff shortag weather ✈️',\n",
       " 'usairway wish luggag 2 day pay way st thoma san juan spent extra mess',\n",
       " 'usairway even get hold wait speak someon awesom',\n",
       " 'americanair offer perk usairway ask told thenewamerican',\n",
       " 'southwestair pwm direct orlando saturday happen march thought go perman thing',\n",
       " 'unit u guy chang age doubl book seat even though platinum person none',\n",
       " 'americanair call ep line 4 hour late flightr call back sat hold hour us airway cut',\n",
       " 'americanair rizzili day final got autom servic call back hung beyond ridicul help',\n",
       " 'unit unhappi new mileag rule main reason keep fli unit take busi elsewher',\n",
       " 'americanair face palm cannot believ last 24 hrs 1 5 hrs sleep',\n",
       " 'unit 3 6 first seat open ua5097 upgrad process gate agent yyz said busi cool http co 6kpyhcka9l',\n",
       " 'unit funni thing happen arriv flight denver gate current schedul depart sydney lol',\n",
       " 'virginamerica worri great ride new plane great crew airlin like',\n",
       " 'expect help gt southwestair lt flt canx last minut weather flew home weatherless unit',\n",
       " 'unit freak worthless hate airlin http co dn1if2cgw',\n",
       " 'virginamerica reschedul cancel flightl flight onlin chang button grey',\n",
       " 'americanair thx sent dm',\n",
       " 'unit soon done articl thank tom',\n",
       " 'jetblu got txt 40min sched dpt say plane arriv jfk late flightr txt w dpt gate chang 9 04 dpt 7 40 flight',\n",
       " 'americanair frustrat usairway attitud toward execplat member thenewamerican',\n",
       " 'usairway southern hospit luggag deliveri servic sav aw great deliv empti promis luggag 8hrs amp wait',\n",
       " 'americanair wait hold two hour call realli unreli',\n",
       " 'americanair simpli amaz smile mile thank u upgrad tomorrow ord spend lot time togeth next week',\n",
       " 'southwestair experienc worst custom servic ever current wait cs rep put hold actual hung',\n",
       " 'jetblu arriv airport told ticket refund name fraud alert',\n",
       " 'americanair hope enjoy winterweath brought warm coat glove maria yup new beani http co aneqxzr4bp',\n",
       " 'hey unit flight iah pos leav late flight one back iah earli rather get pos earlier',\n",
       " 'southwestair sister famili drive 1200 mile accommod rebook time manner horribl',\n",
       " 'usairway suppos discuss matter comput badcustomerservic airlin dividendreward',\n",
       " 'usairway thank sent dm baggag issu',\n",
       " 'usairway 2nd februari row strand us tri return cancun contact info way rebook badcustomerservic',\n",
       " 'unit love report horribl flight team let make wors get seat snack',\n",
       " 'unit terribl',\n",
       " 'americanair gate agent dfw gate b16 pathet tonight terribl communic stori chang apathet',\n",
       " 'jetblu thank 😊 stand line',\n",
       " 'jetblu ellahenderson highlight delay freeconcert',\n",
       " 'southwestair start alreadi wast 1 5 hrs phone wait time alreadi',\n",
       " 'southwestair guess get airport earli need wait 10min checkin realli',\n",
       " 'americanair beyond confus would offer earlier flight cancel flightl 2222 ask tue pleas fix',\n",
       " 'unit refund request function http co 5imdckodfx broken get time error',\n",
       " 'virginamerica thank much share ad site http co tsvibtvt8h',\n",
       " 'americanair understand abl mani flight chose one',\n",
       " 'jetblu love',\n",
       " 'jetblu one look must get old damn',\n",
       " 'americanair pathet gate agent lie face fault',\n",
       " 'jetblu would love fli best friend home pvd weekend 😊 http co ch0nmjymgh',\n",
       " 'unit flight arriv 30 minut earli wait hour bag',\n",
       " 'southwestair made head denver employe realli pleasant told someon applic ask thank',\n",
       " 'thank help shannon great custom servic southwestair',\n",
       " 'unit worri everyon board cushion brought took made',\n",
       " 'usairway americanair sit gate flight 719 hour due comput backup plan place',\n",
       " 'jetblu thank stbernard take time read page find info supervisor felt insist tho show previous comm',\n",
       " 'show new program benefici longstand loyal consum unit',\n",
       " 'americanair far get mayb bag come today know websit say status unknown help',\n",
       " 'jetblu said delay due mechan issu look someth littl specif',\n",
       " 'southwestair offici airlin divadapouch aka thepoopqueen http co xxy2d2imnp',\n",
       " 'americanair feb 15th rep gave record locat told receiv email itinerari confirm',\n",
       " 'southwestair thank',\n",
       " 'americanair final take thank custom servic g8 rep c17 ctl idea caus system failur',\n",
       " 'americanair need hold get call back get hung phone system 6 hour',\n",
       " 'southwestair need flight info add rapid reward flight first time flown sw mad',\n",
       " 'southwestair charg ticket chang fee incur mysteri cost incur unit',\n",
       " 'americanair everyth sort thank help excit get home tonight',\n",
       " 'usairway might went confirm pleas wait form',\n",
       " 'usairway flight 850 rude rude rude servic aw',\n",
       " 'jetblu tv wifi spotti nice featur x countri flight still keep us away lovejetblu',\n",
       " 'southwestair flight book problem late flight summer travel aus cun direct flight disappear',\n",
       " 'usairway thank call 10 00p redirect flight 10 07p smoothoper',\n",
       " 'jetblu thank',\n",
       " 'usairway told record refund someon pleas help long day',\n",
       " 'unit annnnddddd go lose first class seat flight shuffl',\n",
       " 'unit still bag arriv 10am amp websit say still airport 2 1 2 hour late flightr nothappi',\n",
       " 'unit bag tag led mani peopl back aisl front bag',\n",
       " 'americanair thank much help lot',\n",
       " 'jetblu 118 boston still sit',\n",
       " 'southwestair love southwest guy good http co x4tdy84dbh',\n",
       " 'southwestair consid ad call back someon free featur support line',\n",
       " 'americanair hold anoth hour still noth cancel flight flight suppos six hour strand',\n",
       " 'americanair yes thank check cramp got amp made safe fli back tomorrow 1pm http co csddccmvbd',\n",
       " 'americanair cancel flight flight arbitrarili itinerari weekend ruin good reason crew miss monday mtg',\n",
       " 'unit thank wish ladi littl rock told morn ask',\n",
       " 'usairway pure anarchi flight 555 slc peopl walk noth pack bag arm full stuff getittogeth',\n",
       " 'usairway thank seat reclin shock ask serv everyon drink plane dobett',\n",
       " 'unit passeng wait insid flight runway return back gate count valid journey',\n",
       " 'southwestair beauti day seattl http co iqu0ppvq2',\n",
       " 'usairway believ would refer number one seem get realli need help asap',\n",
       " 'americanair love admir club thank hey follow',\n",
       " 'jetblu jetbluebo luggag flt 790 dca bos pax wait 30 min bag show carousel 6 sign updat',\n",
       " 'usairway pple great job w mad howev system need help appreci hard work amp push b better',\n",
       " 'unit despit bag make newark good inform email track updat help',\n",
       " 'unit comic return flight ase two unit flight board adjac gate clear plane board',\n",
       " 'unit awesom flight crew ua1589 plane jurass period call want dinosaur plane back',\n",
       " 'southwestair anyon answer phone morn 800iflyswa hold 51 minut count',\n",
       " 'jetblu great thank',\n",
       " 'usairway thank resolv issu direct flight sfo unit',\n",
       " 'unit bought ticket yesterday receiv confirm tri check said paid call',\n",
       " 'usairway 2 hour got disconnect',\n",
       " 'americanair could get us flight 30 minut funer start strand dalla w luggag 2 day',\n",
       " 'jetblu mayb stop tell peopl wrong info custom servic call',\n",
       " 'jetblu alway amaz jetblu trueblu http co iimtjxcvlg',\n",
       " 'americanair aggrav baggag fee disappear gas price drop',\n",
       " 'americanair one agent help stagnant line almost 100 custom super',\n",
       " 'americanair fail see tell caller bag may take 18 hour get jfk brooklyn best',\n",
       " 'usairway hold 2 hour tri reschedul cancel flightl flight anyon pleas help us',\n",
       " 'jetblu cheat sorri never southwestair given wife worst start honeymoon ever',\n",
       " 'southwestair aw lost bag provid info day 3 noth worstairlineev',\n",
       " 'unit appal lack communic aw journey 2 21 ewr bos 4 hr delay need explain better',\n",
       " 'jetblu ooookay abc silli guess watch oscar pure twitter reaction tonight oscar',\n",
       " 'southwestair realli easi local get strip book',\n",
       " 'americanair horribl servic loganairport luggag got destroy flight woman baggag servic rude help',\n",
       " 'southwestair wifi slow total preclud work web book swa busi travel wish lit 24 fire',\n",
       " 'jetblu rude unhelp suggest catch flight tomorrow suppos home today 2 work wait',\n",
       " 'unit correct — spent hour tri book onlin receiv error click final purchas button 1 2',\n",
       " 'americanair poor experi 2day ord chkin 8 emp w 3 cust 10 wait ask speak w supervisor told 20 min mtg',\n",
       " 'unit also gate monitor show 23 empti seat',\n",
       " 'usairway peopl go answer call',\n",
       " 'unit understand flight paid premium get cancel flight best next avail flight',\n",
       " 'jetblu sylvie75015 good morn sylvi great flight yourock ” gt thank jetblu mxo42 henrikwagner73 jetbluerock',\n",
       " 'unit dig new mileag earn plan would earn 1 3 mile chang award ticket price',\n",
       " 'virginamerica virginatlant check flight sfo lax amp told atlant fli club gold get benefit',\n",
       " 'unit bag leav washington yet would conveni see left day ago unitedairlin lostluggag',\n",
       " 'unit obvious staff ewr unit otherwis seen ad friend help ewr worst airport',\n",
       " 'unit happen time unit pilot alway exit row america treat custom better employe',\n",
       " 'unit final memphi land 30 minut ago still bag pay servic get wors',\n",
       " 'usairway tell man there flight next 10 hrs standbi noth option tri get sick child firevan',\n",
       " 'usairway pleas employe call 5 time flight crew finish mainten us 734 depart',\n",
       " 'southwestair open seat like open marriag much love stranger',\n",
       " 'usairway failingyourcustom one one',\n",
       " 'southwestair great thank best luck deal horribl winter',\n",
       " 'americanair cancel flight flight left help find hotel stay slept airport night',\n",
       " 'unit thank mr got rebook alreadi lost first class seat life',\n",
       " 'usairway one come line hold 4 hour u help provid conf code',\n",
       " 'usairway ur servic shitti pilot never show wait hour anoth pilot suppos come cancel flight',\n",
       " 'usairway flight got cancel flightl charlott hold hour pls pick',\n",
       " 'unit offer us 8 room 32 peopl fail',\n",
       " 'unit flew sdf atl tampa delta left earli arriv earli crew help wifi work',\n",
       " 'usairway usairway unaccept holdtim realli http co upp41abxrq',\n",
       " 'usairway americanair 4 day cancel flightat driven 3 airport 3 differ state spent gas flight',\n",
       " 'unit nope even better 4 seat due w amp b first rais hand got move fast enough',\n",
       " 'virginamerica way fli elev gold',\n",
       " 'southwestair tri rebook flight hold 23 min disconnect almost 40 min unbeliev http co 0bjnz4eix5',\n",
       " 'jetblu walk hall carousel 8 found bag sit still word crew signag still updat',\n",
       " 'unit look like came thank help',\n",
       " 'americanair airsouthwest flight chicago buffalo hour flight care safeti',\n",
       " 'usairway tri reach dividend mile extend ticket last 3 day 20 call get messag call back',\n",
       " 'unit 75 plane passeng board premier group might indic broken process',\n",
       " 'southwestair hello hold extrem long time confirm amp get board pass tri numer time',\n",
       " 'usairway pleas respond hold reserv line hour 45 minut would realli appreci',\n",
       " 'americanair tri ten time last night morn mani time tri meet make tonight atx',\n",
       " 'americanair prioriti baggag evid mean come last',\n",
       " 'unit think miss meet worth flight voucher fli time would make right',\n",
       " 'southwestair thank tip',\n",
       " 'usairway actual true get seat onlin big hassl polici total dishonest mislead faa',\n",
       " 'unit look forward fli guy well',\n",
       " 'jetblu thank make vacat worth current wait runway anoth hour deplan',\n",
       " 'southwestair long hold wait 35 minut gave',\n",
       " 'virginamerica glad mention took first virgin flight year back transform experi',\n",
       " 'jetblu thank third gate chang http co ufbdr5axeo',\n",
       " 'southwestair yall sleep airport 4pm tomorrow thank',\n",
       " 'malhoit least got respons americanair via twitter went 0 2 yesterday',\n",
       " 'americanair absolut disappoint lack servic lost bag even deliv told would happen',\n",
       " 'jetblu wait one contain 😄',\n",
       " 'unit lost bag least nobodi done anyth help absurd',\n",
       " 'usairway let u stand flight due check bag caus u get 5 hour late flightr get phl amp bag make',\n",
       " 'thank hope look like complain written good experi w past make termin 5 jetblu',\n",
       " 'southwestair three flight three check agent enough missedflight back jet blue',\n",
       " 'unit joke hang custom',\n",
       " 'americanair aftr 10 hrs bng held hstg mia bc aa refsd get med bag bag fnd aa refsd fix tkts cnceld said 360 fli',\n",
       " 'southwestair troubl reflight book problem cancel flight flight one pick phone site work',\n",
       " 'unit 1 hour sinc board began still sit gate ua507',\n",
       " 'usairway flown us airway least five time everi singl time like action speak louder word',\n",
       " 'unit sorri end us air flight thank though get back',\n",
       " 'usairway work w tiffani h cust servic desk charlott help patient still stuck great',\n",
       " 'americanair guess bs airportcardio given cannot time flight',\n",
       " 'jetblu fyi onboard 616 comfort travel jfk seat problem said thank make fli civil',\n",
       " 'jetblu make freak hard say good thing jetbluefail http co v8sb0rbicx',\n",
       " 'usairway dude name shaquill desk charlott incred profession help vs crazi angri peopl tonight',\n",
       " 'americanair care custom break gear tell u anyth wsj latim chicagotribun media filmcrew',\n",
       " 'usairway hold divid mile servic desk 45 minut hung first time',\n",
       " 'jetblu love servic staff newark today good servic goe along way appreci preciat nj ✈️ tampa 🔵🔵🔵',\n",
       " 'americanair never anyth bad say love faith custom',\n",
       " 'jetblu done thank',\n",
       " 'americanair least could would refund one way ticket buy sinc abl accommod thank',\n",
       " 'americanair eagl alway late flight',\n",
       " 'usairway josephtrei dont bother dont pick phone worst custom servic go',\n",
       " 'unit impress super fast repli cgjase',\n",
       " 'usairway sad current book one flight tomorrow chang',\n",
       " 'unit gave smile today zero award comput sens humour http co jnqnbk7hut',\n",
       " 'unit begin feb call unit said would send anoth voucher mail never got anyth tiredofwait',\n",
       " 'jetblu three delay far result three hour unnecessari extra wait',\n",
       " 'americanair almost 3 million mile w u loyal u r u go reciproc joke',\n",
       " 'americanair see respons',\n",
       " 'usairway take 6 day respond alreadi open case',\n",
       " 'rt jetblu fleet fleek http co 413gial0yl',\n",
       " 'americanair give hard time look basic custom servic aa lost bag eta return pleas',\n",
       " 'unit ice total understand larg number us face 15 hour time overnight cancel flightat seem like',\n",
       " 'unit flight 1 luck standbi',\n",
       " 'unit sit plane 3 15 unreal 2 day nightmar end',\n",
       " 'jetblu gate agent said origin plane got de ice fluid engin creat short took plane servic',\n",
       " 'usairway doubt gate 35x cluster everi agent encount saw includ one outright rude put',\n",
       " 'southwestair could get phone call custom servic rep get issu resolv',\n",
       " 'unit flight ua5631 sfo burbank delay twice still plane sight get togeth',\n",
       " 'americanair run engin troubleshoot issu board plane anoth plane aa2227 miatoiah',\n",
       " 'usairway extrem weather miami pick phone hire peopl',\n",
       " 'southwestair come get point buy rapid reward shop site',\n",
       " 'americanair refund',\n",
       " 'usairway frustrat still gotten back bag sent ny mysteri shame time',\n",
       " 'americanair mani miss connect alreadi b c delay flight final board soon',\n",
       " 'southwestair res chg onlin app work still hold faster hubbi drive airport make chang counter fail',\n",
       " 'usairway put back hold hour complet unaccept',\n",
       " 'unit noooooooooooooooooooooop',\n",
       " 'unit tag bag airport hope would actual arriv hope arriv',\n",
       " 'usairway sit gate flight 719 hour due sabr backup plan place sabr cannot fix',\n",
       " 'virginamerica absolut best team custom servic ever everi time fli delight thank',\n",
       " 'americanair offer flight phl tuesday ask book houston instead austin',\n",
       " 'unit see tweet littl 7 min ago ignor cs request cantlogoutofunitedwifi',\n",
       " 'unit lot unhappi cold peopl bridg freez temp hour given info',\n",
       " 'southwestair got call rdu baggag except help bc get fli back home',\n",
       " 'usairway thank tri said anywher els tri',\n",
       " 'unit pls post video belliger jerk rant sfo 1230 go sue make check 3rd bag hoot',\n",
       " 'americanair upon enter plane 2 usairway stewardess water pleas take seat',\n",
       " 'americanair yes without bag 2 first class ticket tahiti would nice say',\n",
       " 'jetblu ok super help thank reach question',\n",
       " 'virginamerica supp biz travel like southwestair custom servic like jetblu neverflyvirginforbusi',\n",
       " 'jetblu w 70 upgrad unsur switch someon around call 24 hrs advanc reason',\n",
       " 'southwestair absolut sick 300s wifi',\n",
       " 'jetblu nope none found',\n",
       " 'usairway best follow pleas',\n",
       " 'southwestair long wait hour mother bag make file report wait thank help',\n",
       " 'usairway americanair 2 trip row miss luggag like last time pay baggag transport',\n",
       " 'southwestair great blackhistorymonth commerci thx atl singer musician life blacklivesmatt',\n",
       " 'unit thank address',\n",
       " 'jetblu book flight outdat forc opt verifi visa nonsens help girl want get sxsw',\n",
       " 'americanair becom get money passeng strict feedback reward',\n",
       " 'jetblu everytim come back boston minimum 45 min wait bag earlier almost hour boston jetblu',\n",
       " 'unit pleas help regard pnr a3zz0f waitlist flight',\n",
       " 'usairway 167 minut im train cmon better',\n",
       " 'unit help ua4935 take without miss galley cart one find pax seat last hour',\n",
       " 'usairway saturday snow dc area excit flight cancel flightl sad went miss',\n",
       " 'jetblu one tri make probabl late flight see email could call pittsburgh intern',\n",
       " 'southwestair jh thank final got second time',\n",
       " 'southwestair hot stewardess flip',\n",
       " 'southwestair gonna ignor fasten seatbelt sign want see ur man enough anyth',\n",
       " 'usairway custom servic like never seen kudo organ',\n",
       " 'southwestair go weekend friend birthday point reflight book problem',\n",
       " 'americanair death dear friend heart broken americanairlin heat',\n",
       " 'usairway serious flight cancel flight auto rebook tuesday 3hr 26min hold noth rent car want refund',\n",
       " 'usairway americanair cancel flightl flight back holiday gave refund 8 51 ticket phl ewr realli',\n",
       " 'southwestair total ruin birthday weekend cancel flight flight reason offer point drink transport nolov cali',\n",
       " 'usairway great job communic passeng flight 1855 exist anymor http co hlzahxkdsn',\n",
       " 'unit yes need plenti assist receiv none',\n",
       " 'unit staralli right thing reinstat ticket void unitedfail',\n",
       " 'southwestair everi flight flown person two round trip per month full still hard believ fli 8 hour thru atl',\n",
       " 'americanair thank airlin ruin bag refus anyth',\n",
       " 'usairway jtrexsoci fell asleep call place midght guess still hold 7',\n",
       " 'usairway commit excel 2b prais get wrong citi 2 day late flight right one 3 day late flight customerservic',\n",
       " 'virginamerica flight 910 vega boston today check onlin bag count regist fix somehow',\n",
       " 'unit good number call speak someon fix 50 peopl luggag saturday',\n",
       " 'jetblu head page longer exist http co nsjwvttjgo',\n",
       " 'jetblu got hot ladi fli air life loyal',\n",
       " 'unit fuck bag fuck fuck bag tell give number call human san68059m',\n",
       " 'usairway see respons obvious think servic accept customerservicefail',\n",
       " 'jetblu call thank',\n",
       " 'americanair share experi sever time aa ref 1 2990176298 aa respons senseless weather caus',\n",
       " 'unit broken luggag mild case food poison ua5 lhr iah email',\n",
       " 'usairway thx 4 repli tri 2 get thru mani time amp v mail peopl hang us talk 2 tech cont',\n",
       " 'jetblu time passeng sit hot plane air communic 2 hour wrong',\n",
       " 'southwestair let one person board earli bird save seat entir parti notcool flight2149',\n",
       " 'usairway admir club clt rude ignor front desk staff americanair fallen far thank doug parker',\n",
       " 'americanair book tuesday night 60 degre alabama right good stay warm safe',\n",
       " 'usairway well worthless regular servic bunch noth idiot suck',\n",
       " 'usairway hold 40 minut call flight delay type servic accept',\n",
       " 'unit u would abl rebook get home sooner 2hr delay flight linesforev customerservic fail',\n",
       " 'unit happen airlin given flight voucher transpar problem',\n",
       " 'usairway kudo phone support charlott gate staff',\n",
       " 'jetblu sooo earlier said couldnt fli school trip 😏',\n",
       " 'jetblu sign trueblu twice happen everyon around',\n",
       " 'southwestair twitter say dm someon unless follow southwestair follow twitter thank',\n",
       " 'americanair expect us spend hard earn fli make except extra call volum howev never make acpt',\n",
       " 'virginamerica amaz custom servic 💕💕 raeann sf best customerservic virginamerica fli',\n",
       " 'americanair still feet freez b c door open flt time 8 30 fuel wait ramper aa4285',\n",
       " 'americanair still wait call back attempt 9 hour 13 put hold onlin tix within seven day window',\n",
       " 'unit isnt simpl issu general set check baggag polici logan general unhelp employe earli',\n",
       " 'americanair could void ticket sinc gt 24hrs sinc flight book problem go waiv fee still get',\n",
       " 'unit tri book award septemb need flight aegeanairlin show even w mani award seat availab',\n",
       " 'usairway flt 419 2 hrs late flight baggag 1 hr see deliv suitcas wet insid amp nothappi',\n",
       " 'americanair u cancel flightl flight tomorrow tell call reserv refus take call cool hate',\n",
       " 'americanair strand 24 hour mia patrick casimir aa staff apolog great inconveni unreal',\n",
       " 'jetblu hard younger sibl cousin want go airplan get better',\n",
       " 'usairway got f ing kid usairway 2hour hold listen yall sell loan valentin flower smfh',\n",
       " 'usairway go miss connect due anoth tarmac delay us5268 4050 need flight home today pleas',\n",
       " 'unit lt lt lt lt lt lt repli email',\n",
       " 'southwestair fortunemagazin great news',\n",
       " 'usairway never mind could told gate way could delay 10 min 15',\n",
       " 'americanair found flight tomorrow cancel flightl amp got queue callback 3 5 hour ago … still noth get rebook',\n",
       " 'usairway mayb pre purchas meal email flight 9 min short 3 hour guess none offer',\n",
       " 'jetblu mint seat awesom emaleesugano best busi class us',\n",
       " 'usairway truli dissapoint flight delay go miss connect expect rebook flight',\n",
       " 'americanair yes spent whole day talk agent someon final offer let stay hotel',\n",
       " 'americanair flight cancel flight rebook agent made mistak book wrong date tri get via phone hour',\n",
       " 'americanair pt 2 aa reserv phone number less help tell chang thing onlin',\n",
       " 'americanair gtsvyb say cancel flightl tri check',\n",
       " 'unit request refund charg twice first place',\n",
       " 'usairway call volum high best answer hang',\n",
       " 'usairway plane ground longer air us5235',\n",
       " 'jetblu absolut miss connect caus us miss ferri viequ get us viequ also flight voucher prbound',\n",
       " 'cc dadbon boldflavor unit ’ bring bourbon st 35 000 ft bold flavor fresh ingredi dine option',\n",
       " 'usairway one complain much realli 1 hour 15minut still noth agent agent ⤵ http co q5sb0davuy',\n",
       " 'southwestair extrem frustrat travel experi denver instead land sea saturday monday afternoon',\n",
       " 'usairway websit give correct info said bag miami key west entir time got run around 2 day',\n",
       " 'jetblu idea go termin five jfk seem zero traffic movement',\n",
       " 'usairway 1917 still sit feel bad handl',\n",
       " 'unit yes still know told might flight one confirm',\n",
       " 'usairway 3hr30min right end sight',\n",
       " 'jetblu poor flight manag reason schedul 8 00 pm flight takr 11 00pm',\n",
       " 'southwestair awesom librari',\n",
       " 'jetblu departur time keep get late flightr lucki home 3am',\n",
       " 'unit took aback respons flight attend put respons squar back passeng shoulder',\n",
       " 'unit disappoint experi plane mech delay next one wait sincer apolog told complain onlin',\n",
       " 'jetblu schedul skill fail delay went four hour near six tell snowbound pbi',\n",
       " 'americanair get flight chang air delay caus miss connect 1 seat late flightr',\n",
       " 'americanair make small improv retain program win keep crappi food chang advantag lose',\n",
       " 'usairway 428 delay due frozentoilet medicalissu mechanicalissu dispatchissu heard letsgo',\n",
       " 'southwestair yes total 4 hour hold cancel flightlat one would think would staff decid cx drive',\n",
       " 'southwestair thank ella mae las counter go beyond help us get back abq flight cancel flightl',\n",
       " 'jetblu 2 hour delay sit plane still wanna charg beer nah good',\n",
       " 'virginamerica shame va make peopl spend money strand citi airlin land jfk reimburs',\n",
       " 'unit coupl self servic polici cost cut exacerb note issu 3 3',\n",
       " 'southwestair say flight progress',\n",
       " 'southwestair 14 hour sorri get oh well screw weekend az right eat hotel problem',\n",
       " 'americanair time bag miss flight peopl need undi next morn',\n",
       " 'southwestair 30 year fli never piss mani incid one flight',\n",
       " 'americanair useless baggag servic call 9 tell us would bag 3 mayb midnight',\n",
       " 'americanair way get 50 minut wait book flight',\n",
       " 'americanair derekc21 surpris ba regist system get hope let step okay',\n",
       " 'southwestair hold long rebook cancel flightl flight enough time rebook usairway instead lot room',\n",
       " 'jetblu point delay take differ flight destin',\n",
       " 'virginamerica anoth delay flight likingyoulessandless',\n",
       " 'jetblu good luck thank',\n",
       " 'unit flight 441 2 4 delay three hour pilot never show',\n",
       " 'usairway stand crowd bus past 30 min dca pit help americanair http co jaskyplwt5',\n",
       " 'unit help baggag servic desk said bc tsa screen fll bag made bag ewr 12',\n",
       " 'unit flight origin suppos leav 1 40pm amp leav 5 2nd time happen',\n",
       " 'americanair seem littl preoccupi bring attent flag issu observ',\n",
       " 'usairway flight 3739 leav cvg gate agent comput count passeng paper feel safe',\n",
       " 'usairway vacat last thing want anyon even answer phone',\n",
       " 'unit volunt give seat peopl sit 25 minut plane wait 4 add peopl letsgo',\n",
       " 'usairway 2 hour hold issu still resolv hope make flight 12 hour everi minut talk 20 minut hold',\n",
       " 'usairway happen u get us home next day flydelta flysouthwest flyjetblu theyareallbett stillnobag',\n",
       " 'unit attempt book ticket 3 time kept get error messag hope still charg',\n",
       " 'americanair want treat platinum two gold flyer',\n",
       " 'jetblu kudo jetblu social media team jump help last snow storm web site thank',\n",
       " 'unit need assist pull agent head ass',\n",
       " 'usairway noth like back back delay flight let hope one 12 hour like last time',\n",
       " 'unit http co uygew2nosr',\n",
       " 'jetblu great thank',\n",
       " 'americanair sure thank',\n",
       " 'unit websit fuck instead 416 flight ’ yesterday ’ 514 today thank',\n",
       " 'jetblu sit plane mani predict mechan problem still onboard get bad',\n",
       " 'unit pleas follow faa guidelin regard bump accept give 300 voucher 800 fare',\n",
       " 'americanair 11 11 delay flight suck get wors',\n",
       " 'americanair rebook get notifi cancel flightl',\n",
       " 'usairway first avail flight tuesday flight today book flt 755 avail buy onlin',\n",
       " 'americanair tri get',\n",
       " 'unit exact point fit premier access board group 2 return ticket 15 yrs',\n",
       " 'americanair right two hour late flight seem due poor communic sound like annoy plane staff',\n",
       " 'jetblu idea caus delay flight 1316 fll gt jax',\n",
       " 'americanair 719 look like get go final',\n",
       " 'jetblu thank home msi tsa precheck agent direct peopl photo scan beyond rude one grab push children',\n",
       " 'unit belabor point abl put laptop bag seat announc leav roller thx',\n",
       " 'southwestair stuck 4251 heat blast tri thaw water line kinda disappoint first flight rr member',\n",
       " 'usairway comin clutch send charlott home h8 u americanair except wayn u real g thankjesus thankm',\n",
       " 'americanair made thank aa',\n",
       " 'unit good note 2 employe encount newark fabul late flight connect flight got',\n",
       " 'usairway airlin rather poor right slc wait take suppos take 2 hour 3 minut ago',\n",
       " 'jetblu dm confirm code thank help mommi daddi kid appreci',\n",
       " 'great manag usairway twitter account thank',\n",
       " 'unit disappoint u didnt honor 100 credit given ur mistak take busi elsewher ✌️',\n",
       " 'jetblu 20min line stood drop bag',\n",
       " 'southwestair congratul',\n",
       " 'meanwhil fuck flight unit festiv alreadi full swing unit fairway club overlook 17th hole',\n",
       " 'unit airlin cancel flight oc fll flight today 700 switch notic apolog done fli unitedairlin',\n",
       " 'unit still wait bag never got deliv yesterday reach real person help send dm ref number',\n",
       " 'jetblu thank 100 credit 4hr delay tell custom servic mean lot thank',\n",
       " 'jetblu thank alway amaz custom servic bring disney princess half marathon',\n",
       " 'virginamerica flight book problem section websit seem broken chrome might wanna look',\n",
       " 'usairway americanair pilot forget log book wait plane 45 min alsonodrinkcartcomingaround',\n",
       " 'jetblu wtf stuck jfk 2 hrs delay boston cuz u say snow snow weather map wtf',\n",
       " 'southwestair flight 630 fll kiosk open rude attend everyon late flight http co 2boh2mh3cb',\n",
       " 'unit 4124 arriv two hour late flight clt sit tarmac move plane gate unhappi custom',\n",
       " 'unit thank help take 6 hour repli get messag middl night actual help',\n",
       " 'unit thank',\n",
       " 'jetblu flight delay 3x still take time amp greet seat yes gum amp garbag http co n9hmcrjchb',\n",
       " 'unit system gave seat away 27l economi econ seat give plus seat away',\n",
       " 'americanair yet wait connect agent',\n",
       " 'americanair overweight flight sold ticket seat know let call',\n",
       " 'americanair unit spiritairpr fioretti2ndward chicagosmayor garcia4chicago bs nois late flight norahm http co cfzdjmn0ui',\n",
       " 'americanair call 1am tell flight reschedul 12 hour late flightr suppos seem like bad solut',\n",
       " 'unit get 2nd chanc today fli dam let see redeem last horrend trip state',\n",
       " 'unit cours inflight crew great',\n",
       " 'americanair give reward whoever find return thur fli back thru dfwairport ❤️ earring',\n",
       " 'usairway call 3x amp say high call volum call back 1 minut intern call way someon contact',\n",
       " 'usairway two tight connect charlott frankfurt',\n",
       " 'southwestair although happi cancel flight flight home tomorrow phx atl dca happi easi rebook',\n",
       " 'jetblu chanc actual fli charleston today cold raini weather south place',\n",
       " 'americanair flight 1318 cancel flight word ground staff',\n",
       " 'jetblu use guy 10 year experi never ever use',\n",
       " 'southwestair way flight number 1703 pleas feel free fact check complaint leav time amp baggag time',\n",
       " 'americanair excel love guy first class hug ya see short',\n",
       " 'virginamerica gave credit late flight flight yesterday great servic wow moment unexpect gestur',\n",
       " 'usairway ask reimburs someth like mile ad account told call custom servic',\n",
       " 'usairway appreci actual monitor twitter pleas pass along feedback tri call 15 time 4 day',\n",
       " 'americanair barrettkarabi joke mail receipt yet mail payment fli hand right',\n",
       " 'usairway 2pm flight fll phl connect man howev delay might miss go earlier',\n",
       " 'jetblu ellahenderson omg wish flight today haha alway next time fun lft5',\n",
       " 'southwestair favorit airlin never issu plus crew entertain',\n",
       " 'unit someon need dm resolv correct extrem disappoint servic receiv terribl manag',\n",
       " 'unit mention one bag infant car seat amp stuck yr poor replac ici mtn road',\n",
       " 'unit definit trip rememb ewr sti second season first seat 35a pay loyal',\n",
       " 'americanair 2 hour patient call back featur pay someon answer phone tweet onhold',\n",
       " 'usairway follow complaint procedur get run around servic suck usairwayssuck',\n",
       " 'usairway clt departur delay hope make connect lengthi take delay endless taxi ing clt',\n",
       " 'unit know check complaint ticket said dinner book chang refresh refund',\n",
       " 'unit email address usernam sign avail',\n",
       " 'southwestair thank make good poteettj cancel flightl flight',\n",
       " 'southwestair flight 52 got cancel flightl 6 hrs takeoff custom servic hold 30 minut',\n",
       " 'americanair seattl check 1 desk servic full servic line 2 desk servic prioriti full srvc wait 30 minut custom svc fail',\n",
       " 'southwestair yep two hour thirti minut',\n",
       " 'unit guess follow order send dm tri send',\n",
       " 'southwestair thank awesom flight connect delay staff crew pure amaz',\n",
       " 'unit resolv im sick tire wait want refund like speak someon',\n",
       " 'americanair mani trip come see soon 😃',\n",
       " 'unit serious fail make stranger share room',\n",
       " 'southwestair guy aliv hold 25 minut count',\n",
       " 'southwestair airport snow remov method 22 keep good work folk cessna becom 747 http co 7pofsxojsi',\n",
       " 'southwestair leeannhealey yeah sale fare got place fli oh damn right live swa fli',\n",
       " 'southwestair make flight fund forfeit show tri book anoth flight use fund',\n",
       " 'americanair point pic rep struggl merger much imagin public http co hqdb5iruvg',\n",
       " 'americanair btr train gate agt im frequent flyer amp nvr issu w bag 2day forc 2 gate check prioriti board',\n",
       " 'americanair insan treatment custom',\n",
       " 'jetblu sent curious see kind comp get',\n",
       " 'jetblu flight delay 2 5 hour insan everi flight made nyc',\n",
       " 'americanair nicest peopl world work admir club gladi san juan es mi amiga',\n",
       " 'unit icloud yet pleas help 917 703 1472',\n",
       " 'unit cancel flightl flight unknown reason realli given anyth make overnight layov toler',\n",
       " 'unit last night wait forev gate someon corpor dispatch forgot call crew unfriendlyski',\n",
       " 'unit need assist due incompet need reschedul connect never fli unit',\n",
       " 'hey usairway base number retweet like fb post nice know alon frustrat guy',\n",
       " 'americanair let serious unhappycustom',\n",
       " 'southwestair call unit solv flight cancel flightlat issu 15minut may ask getmorehand',\n",
       " 'virginamerica book seat flight buy even check creat much anxieti frustrat',\n",
       " 'unit never gross life disappoint yet fli',\n",
       " 'usairway tri request miss mileag keep say flight 2 13 say call number',\n",
       " 'jetblu give u chanc think fall backtodelta',\n",
       " 'virginamerica omg omg 😍😍 nonstop dalla austin virgin ✨😱✈️',\n",
       " 'unit would super paid much attent actual flier credit card holder',\n",
       " 'usairway yes know industri procedur baggag thank help 😉 imposs connect start',\n",
       " 'lol guy 4 month ago jetblu fleet fleek http co lycarltfhl ”',\n",
       " 'jetblu flight 100 full',\n",
       " 'unit follow order dm come',\n",
       " 'southwestair tri vip live vineyard yr site went time got 2 redeem pts packag gone',\n",
       " 'unit may think joke blow proport last 8 unit flight delay signific late flight',\n",
       " 'jetblu ask slc checkin bag drop found dark blue blackish fit bit flex would lost around 445pm mt',\n",
       " 'jetblu delay perfect time learn swift program teamtreehous',\n",
       " 'unit better airlin continent 75 servic fee 75 flight book problem fee 25 talk human fee fu',\n",
       " 'unit battierccipuppi hope see board soon thank tweet ey ” 👏👏',\n",
       " 'usairway americanair door close 10 min prior departur 20 min laughter 2 agent',\n",
       " 'usairway sit runway 3 hour leav airport w luggag ur 1st day',\n",
       " 'usairway guy pleas give updat sit tarmac flight 601 yet websit still say time',\n",
       " 'unit well tell custom servic rdu airport horrif except hare chicago',\n",
       " 'southwestair hv wound vet stuck chi travel ny 4 heal need fli ny late flightst 9 2 catch intl flt help',\n",
       " 'virginamerica fail custom check process link tsa pre check',\n",
       " 'unit next flight think spend anymor money guy ever bad',\n",
       " 'jetblu love song lt 3 thank jetblu',\n",
       " 'unit thank updat',\n",
       " 'usairway americanair nvm bad hour half thank',\n",
       " 'southwestair checkin system poor',\n",
       " 'unit comfort wait luggag',\n",
       " 'usairway dca 5 pm still 3 due mechan issu lack snack plane absolut wors experi',\n",
       " ...]"
      ]
     },
     "execution_count": 31,
     "metadata": {},
     "output_type": "execute_result"
    }
   ],
   "source": [
    "X_train_pre"
   ]
  },
  {
   "cell_type": "markdown",
   "metadata": {
    "deletable": false,
    "editable": false,
    "nbgrader": {
     "grade": false,
     "grade_id": "cell-7e5147de37fa0351",
     "locked": true,
     "schema_version": 3,
     "solution": false,
     "task": false
    }
   },
   "source": [
    "So, we should be aiming for better than 80% accuracy which is what we would get if we naively predicted negative for everything."
   ]
  },
  {
   "cell_type": "markdown",
   "metadata": {
    "deletable": false,
    "editable": false,
    "nbgrader": {
     "grade": false,
     "grade_id": "cell-35b87545f98deeea",
     "locked": true,
     "schema_version": 3,
     "solution": false,
     "task": false
    }
   },
   "source": [
    "#### Q3.a) \n",
    "The first thing we'll try is the simple baseline of a Bag of Words model. Use sklearn's CountVectorizer."
   ]
  },
  {
   "cell_type": "code",
   "execution_count": 32,
   "metadata": {
    "deletable": false,
    "nbgrader": {
     "grade": false,
     "grade_id": "cell-046593b38d1d0a86",
     "locked": false,
     "schema_version": 3,
     "solution": true,
     "task": false
    }
   },
   "outputs": [
    {
     "data": {
      "text/plain": [
       "(<8078x8211 sparse matrix of type '<class 'numpy.int64'>'\n",
       " \twith 82810 stored elements in Compressed Sparse Row format>,\n",
       " <1731x8211 sparse matrix of type '<class 'numpy.int64'>'\n",
       " \twith 16579 stored elements in Compressed Sparse Row format>)"
      ]
     },
     "execution_count": 32,
     "metadata": {},
     "output_type": "execute_result"
    }
   ],
   "source": [
    "# fit and transform the preprocessed train and dev data with CountVectorizer\n",
    "#Encode the lables y_train and y_dev\n",
    "vec = CountVectorizer()\n",
    "X_train_vec = vec.fit_transform(X_train_pre)\n",
    "X_dev_vec = vec.transform(X_dev_pre)\n",
    "# YOUR CODE HERE\n",
    "#raise NotImplementedError()\n",
    "X_train_vec,X_dev_vec"
   ]
  },
  {
   "cell_type": "code",
   "execution_count": 33,
   "metadata": {
    "deletable": false,
    "editable": false,
    "nbgrader": {
     "grade": true,
     "grade_id": "cell-a4941d45e32e6ca7",
     "locked": true,
     "points": 1,
     "schema_version": 3,
     "solution": false,
     "task": false
    }
   },
   "outputs": [],
   "source": [
    "assert len(vec.vocabulary_) == 8211\n",
    "assert 'awwweesssooome' in vec.vocabulary_\n",
    "assert vec.vocabulary_['awwweesssooome'] == 1544\n",
    "assert hashlib.sha256(' '.join(vec.get_feature_names()[-20:]).encode()).hexdigest() == '585a48103c34d5be5b489f3aef9534bf02dde2e56949e5a48b70e95c5e834304'\n",
    "assert ' '.join([str(i) for i in X_train_vec[11].indices]) == '3601 1313 3798 5322 2651 1991 3355 7285 7042 3991 7050 6701'\n",
    "assert ' '.join([str(i) for i in X_train_vec[11].data]) == '1 1 1 1 1 1 1 1 1 1 1 1'\n",
    "assert ' '.join([str(i) for i in X_dev_vec[1111].indices]) == '1287 1313 1591 1977 2583 3339 3342 4029 4506 4525 4886 5344 8046'\n",
    "assert ' '.join([str(i) for i in X_dev_vec[1111].data]) == '1 1 1 1 1 1 1 1 1 1 1 1 1'"
   ]
  },
  {
   "cell_type": "markdown",
   "metadata": {
    "deletable": false,
    "editable": false,
    "nbgrader": {
     "grade": false,
     "grade_id": "cell-b676075741ecae30",
     "locked": true,
     "schema_version": 3,
     "solution": false,
     "task": false
    }
   },
   "source": [
    "Let's take a look at some of the words in our vocabulary:"
   ]
  },
  {
   "cell_type": "code",
   "execution_count": 34,
   "metadata": {
    "deletable": false,
    "editable": false,
    "nbgrader": {
     "grade": false,
     "grade_id": "cell-8652c29d3d784f8c",
     "locked": true,
     "schema_version": 3,
     "solution": false,
     "task": false
    }
   },
   "outputs": [
    {
     "name": "stdout",
     "output_type": "stream",
     "text": [
      "['00', '000', '000ft', '000lbs', '0016', '00am', '00p', '00pm', '01', '0162389030167']\n",
      "['8wbzorrn3c', '8x7xvm', '90', '900', '900s', '904am', '90min', '910', '912', '9148445695']\n",
      "['mk', 'mke', 'mkpognntyc', 'mkt', 'mktg', 'mkwlkr', 'ml', 'ml1jacpmch', 'mli', 'mmm']\n"
     ]
    }
   ],
   "source": [
    "print(vec.get_feature_names()[:10])\n",
    "print(vec.get_feature_names()[1000:1010])\n",
    "print(vec.get_feature_names()[5000:5010])"
   ]
  },
  {
   "cell_type": "markdown",
   "metadata": {},
   "source": [
    "A lot of the words seem pretty random, we might not need them at all. But let's come back to this later and get our baseline."
   ]
  },
  {
   "cell_type": "code",
   "execution_count": 35,
   "metadata": {
    "deletable": false,
    "nbgrader": {
     "grade": false,
     "grade_id": "cell-3c28fc309dcd2e90",
     "locked": false,
     "schema_version": 3,
     "solution": true,
     "task": false
    }
   },
   "outputs": [],
   "source": [
    "# finally, train a Multinomial Naive Bayes classifier on train and predict on dev\n",
    "# store the classifier in a variable clf\n",
    "# return the dev set predictions in a variable y_dev_pred\n",
    "# YOUR CODE HERE\n",
    "le = preprocessing.LabelEncoder()\n",
    "le.fit(y_train)\n",
    "y_train = le.transform(y_train)\n",
    "#le.fit(y_dev)\n",
    "y_dev = le.transform(y_dev)\n",
    "clf = MultinomialNB()\n",
    "clf.fit(X_train_vec,y_train)\n",
    "# Train the classifier\n",
    "y_dev_predn= clf.predict(X_dev_vec)\n",
    "y_dev_pred = []\n",
    "for num in y_dev_predn:\n",
    "    if num ==1:\n",
    "        pre = 'positive'\n",
    "    else:\n",
    "        pre = 'negative'\n",
    "    y_dev_pred.append(pre)    \n",
    "    \n",
    "#raise NotImplementedError()"
   ]
  },
  {
   "cell_type": "code",
   "execution_count": 36,
   "metadata": {
    "deletable": false,
    "editable": false,
    "nbgrader": {
     "grade": true,
     "grade_id": "cell-41ffc1ce5d8435d0",
     "locked": true,
     "points": 1,
     "schema_version": 3,
     "solution": false,
     "task": false
    }
   },
   "outputs": [],
   "source": [
    "assert_allclose(clf.intercept_, np.array([-1.57572207]), rtol=1e-3)\n",
    "assert ' '.join(y_dev_pred[10:20]) == 'negative positive negative negative negative negative positive negative negative negative'"
   ]
  },
  {
   "cell_type": "code",
   "execution_count": 37,
   "metadata": {},
   "outputs": [
    {
     "name": "stdout",
     "output_type": "stream",
     "text": [
      "              precision    recall  f1-score   support\n",
      "\n",
      "           0       0.91      0.97      0.94      1380\n",
      "           1       0.85      0.63      0.72       351\n",
      "\n",
      "    accuracy                           0.90      1731\n",
      "   macro avg       0.88      0.80      0.83      1731\n",
      "weighted avg       0.90      0.90      0.90      1731\n",
      "\n"
     ]
    }
   ],
   "source": [
    "y_dev_pred = y_dev_predn\n",
    "# check the results\n",
    "print(classification_report(y_dev, y_dev_pred))"
   ]
  },
  {
   "cell_type": "code",
   "execution_count": 38,
   "metadata": {},
   "outputs": [
    {
     "name": "stdout",
     "output_type": "stream",
     "text": [
      "Sentence: americanair exact ill fli aa dalla airlin trust\n",
      "Predicted: 0, Actual: 1\n",
      "\n",
      "Sentence: delet account jetblu\n",
      "Predicted: 1, Actual: 0\n",
      "\n",
      "Sentence: unit flight rsw tonight amp twin 3 year old pilot row stay help get boy amp bag lifesav\n",
      "Predicted: 0, Actual: 1\n",
      "\n",
      "Sentence: southwestair holi fuckinf shit\n",
      "Predicted: 0, Actual: 1\n",
      "\n"
     ]
    }
   ],
   "source": [
    "# we should also look at some misclassified examples\n",
    "for text, pred, true in zip(X_dev_pre[:50], y_dev_pred[:50], y_dev[:50]):\n",
    "    if pred != true:\n",
    "        print(f\"Sentence: {text}\")\n",
    "        print(f\"Predicted: {pred}, Actual: {true}\\n\")"
   ]
  },
  {
   "cell_type": "markdown",
   "metadata": {},
   "source": [
    "We beat the naivest baseline of always guessing negative, but let's see if we can do better!"
   ]
  },
  {
   "cell_type": "markdown",
   "metadata": {},
   "source": [
    "#### Q3.c)\n",
    "Now let's try ngrams instead of plain unigrams to see if we get a boost in performance. But first, let's streamline the process in a nice function."
   ]
  },
  {
   "cell_type": "code",
   "execution_count": 39,
   "metadata": {
    "deletable": false,
    "nbgrader": {
     "grade": false,
     "grade_id": "cell-af90809e6c74e780",
     "locked": false,
     "schema_version": 3,
     "solution": true,
     "task": false
    }
   },
   "outputs": [],
   "source": [
    "def train_and_validate(X_train, X_dev, y_train, y_dev, ngram_range=(1,1), max_features=None):\n",
    "    \"\"\"\n",
    "    Train a model using sklearn's Pipeline and return it along with the predictions and the\n",
    "    current accuracy in the validation set. Print the classification report as well.\n",
    "    Assume the documents are already preprocessed\n",
    "    \n",
    "    Args:\n",
    "    X_train - preprocessed tweets in training data\n",
    "    X_dev - preprocessed tweets in dev data\n",
    "    y_train - labels of training data\n",
    "    y_dev - labels of dev data\n",
    "    ngram_range - ngram range to use in CountVectorizer (tuple)\n",
    "    max_features - max number of features to use in CountVectorizer (int)\n",
    "    \"\"\"\n",
    "    \n",
    "    # Build the pipeline containing the countvectorizer and the multinomial NB classifier\n",
    "    # text_clf = Pipeline(...)\n",
    "    \n",
    "    # Train the classifier\n",
    "    # (...)\n",
    "\n",
    "    # y_dev_pred = (...)\n",
    "    # print the classification report\n",
    "    # acc = (...)\n",
    "    \n",
    "    # YOUR CODE HERE\n",
    "    \n",
    "    text_clf = Pipeline([('vect',CountVectorizer(ngram_range=ngram_range, max_features= max_features)),\n",
    "                   ('clf', MultinomialNB())])\n",
    "# Train the classifier\n",
    "    text_clf.fit( X_train, y_train)\n",
    "\n",
    "    y_dev_pred = text_clf.predict( X_dev)\n",
    "#np.mean(predicted == validation_df['sentiment'])\n",
    "    #raise NotImplementedError()\n",
    "    #acc = classification_report(y_dev, y_dev_pred)\n",
    "    acc = np.mean(y_dev_pred == y_dev)\n",
    "    #print(classification_report(y_dev, y_dev_pred))\n",
    "    y_dev_predn=[]\n",
    "    for num in y_dev_pred:\n",
    "        if num ==1:\n",
    "            pre = 'positive'\n",
    "        else:\n",
    "            pre = 'negative'\n",
    "        y_dev_predn.append(pre)   \n",
    "    y_dev_pred = y_dev_predn\n",
    "    \n",
    "    return text_clf,y_dev_pred,acc\n",
    "    # YOUR CODE HERE\n",
    "    #raise NotImplementedError()"
   ]
  },
  {
   "cell_type": "code",
   "execution_count": 40,
   "metadata": {},
   "outputs": [
    {
     "data": {
      "text/plain": [
       "0.901790872328134"
      ]
     },
     "execution_count": 40,
     "metadata": {},
     "output_type": "execute_result"
    }
   ],
   "source": [
    "clf, y_dev_pred, acc = train_and_validate(X_train_pre, X_dev_pre, y_train, y_dev)\n",
    "acc"
   ]
  },
  {
   "cell_type": "code",
   "execution_count": 41,
   "metadata": {
    "deletable": false,
    "editable": false,
    "nbgrader": {
     "grade": true,
     "grade_id": "cell-97ba1cceed5a53f9",
     "locked": true,
     "points": 2,
     "schema_version": 3,
     "solution": false,
     "task": false
    }
   },
   "outputs": [],
   "source": [
    "clf, y_dev_pred, acc = train_and_validate(X_train_pre, X_dev_pre, y_train, y_dev)\n",
    "\n",
    "# check same as before\n",
    "assert_allclose(clf['clf'].intercept_, np.array([-1.57572207]), rtol=1e-3)\n",
    "assert ' '.join(y_dev_pred[10:20]) == 'negative positive negative negative negative negative positive negative negative negative'\n",
    "assert_allclose(acc, 0.9024, rtol=1e-2)"
   ]
  },
  {
   "cell_type": "markdown",
   "metadata": {},
   "source": [
    "#### Q3.d)\n",
    "Now try with both unigrams and bigrams."
   ]
  },
  {
   "cell_type": "code",
   "execution_count": 42,
   "metadata": {
    "deletable": false,
    "nbgrader": {
     "grade": false,
     "grade_id": "cell-e471f692627c2756",
     "locked": false,
     "schema_version": 3,
     "solution": true,
     "task": false
    }
   },
   "outputs": [
    {
     "data": {
      "text/plain": [
       "0.8902368573079145"
      ]
     },
     "execution_count": 42,
     "metadata": {},
     "output_type": "execute_result"
    }
   ],
   "source": [
    "# run train_and_validate() but with the correct ngram range to have both unigrams and bigrams in the vocabulary\n",
    "# clf, y_dev_pred, acc = ...\n",
    "# YOUR CODE HERE\n",
    "clf, y_dev_pred, acc = train_and_validate(X_train_pre, X_dev_pre, y_train, y_dev,ngram_range=(1,2), max_features=None)\n",
    "acc\n",
    "#raise NotImplementedError()"
   ]
  },
  {
   "cell_type": "code",
   "execution_count": 43,
   "metadata": {
    "deletable": false,
    "editable": false,
    "nbgrader": {
     "grade": true,
     "grade_id": "cell-865becc9662b6c06",
     "locked": true,
     "points": 1,
     "schema_version": 3,
     "solution": false,
     "task": false
    }
   },
   "outputs": [],
   "source": [
    "assert_allclose(clf['clf'].intercept_, np.array([-1.57572207]), rtol=1e-3)\n",
    "assert ' '.join(y_dev_pred[10:20]) == 'positive negative negative negative negative negative positive negative negative negative'\n",
    "assert_allclose(acc, 0.8908, rtol=1e-2)\n",
    "assert len(clf['vect'].vocabulary_) == 60813"
   ]
  },
  {
   "cell_type": "markdown",
   "metadata": {},
   "source": [
    "#### Q3.e)\n",
    "Find the top 20 most common vocabulary items in the training data. Hint: don't forget how the countvectorizer BoW matrix is actually structured, and how you may have to combine the rows to get the information you need."
   ]
  },
  {
   "cell_type": "code",
   "execution_count": null,
   "metadata": {},
   "outputs": [],
   "source": []
  },
  {
   "cell_type": "code",
   "execution_count": 46,
   "metadata": {
    "deletable": false,
    "nbgrader": {
     "grade": false,
     "grade_id": "cell-088364758c0cf246",
     "locked": false,
     "schema_version": 3,
     "solution": true,
     "task": false
    }
   },
   "outputs": [
    {
     "data": {
      "text/plain": [
       "[('flight', 2844),\n",
       " ('unit', 2373),\n",
       " ('usairway', 1875),\n",
       " ('americanair', 1725),\n",
       " ('southwestair', 1236),\n",
       " ('jetblu', 1180),\n",
       " ('thank', 1060),\n",
       " ('get', 975),\n",
       " ('hour', 814),\n",
       " ('cancel', 678),\n",
       " ('delay', 666),\n",
       " ('servic', 647),\n",
       " ('time', 633),\n",
       " ('help', 604),\n",
       " ('custom', 600),\n",
       " ('call', 518),\n",
       " ('wait', 515),\n",
       " ('co', 494),\n",
       " ('bag', 485),\n",
       " ('hold', 475)]"
      ]
     },
     "execution_count": 46,
     "metadata": {},
     "output_type": "execute_result"
    }
   ],
   "source": [
    "# transform the preprocessed training data again\n",
    "# return the a list of tuples containing the top 20 most common ngrams and their counts (ngram, count)\n",
    "\n",
    "# Extract the corresponding word and count\n",
    "##counts = [(inv_map[i], X_train_vec[0, i]) for i in columns]\n",
    "\n",
    "##for word, count in counts:\n",
    "   ## print(word, \": \", count)\n",
    "# top_20_ngrams = ...\n",
    "# YOUR CODE HERE\n",
    "vec = CountVectorizer()\n",
    "X_train_vec = vec.fit_transform(X_train_pre)\n",
    "X_vec_sum = X_train_vec.sum(axis=0)\n",
    "df = pd.DataFrame(X_vec_sum.reshape(-1,1), index=vec.get_feature_names(), columns=[\"words\"]) \n",
    "df = df.sort_values(by=[\"words\"],ascending=False)\n",
    "top_20_ngrams = list(df. to_records(index=True))[:20]\n",
    "top_20_ngrams\n",
    "#raise NotImplementedError()"
   ]
  },
  {
   "cell_type": "code",
   "execution_count": 45,
   "metadata": {
    "deletable": false,
    "editable": false,
    "nbgrader": {
     "grade": true,
     "grade_id": "cell-1e00b9db09c36cc1",
     "locked": true,
     "points": 2,
     "schema_version": 3,
     "solution": false,
     "task": false
    }
   },
   "outputs": [
    {
     "ename": "AssertionError",
     "evalue": "",
     "output_type": "error",
     "traceback": [
      "\u001b[0;31m---------------------------------------------------------------------------\u001b[0m",
      "\u001b[0;31mAssertionError\u001b[0m                            Traceback (most recent call last)",
      "\u001b[0;32m<ipython-input-45-ffe012132ea0>\u001b[0m in \u001b[0;36m<module>\u001b[0;34m\u001b[0m\n\u001b[1;32m     18\u001b[0m                          \u001b[0;34m(\u001b[0m\u001b[0;34m'co'\u001b[0m\u001b[0;34m,\u001b[0m \u001b[0;36m494\u001b[0m\u001b[0;34m)\u001b[0m\u001b[0;34m,\u001b[0m\u001b[0;34m\u001b[0m\u001b[0;34m\u001b[0m\u001b[0m\n\u001b[1;32m     19\u001b[0m                          \u001b[0;34m(\u001b[0m\u001b[0;34m'bag'\u001b[0m\u001b[0;34m,\u001b[0m \u001b[0;36m485\u001b[0m\u001b[0;34m)\u001b[0m\u001b[0;34m,\u001b[0m\u001b[0;34m\u001b[0m\u001b[0;34m\u001b[0m\u001b[0m\n\u001b[0;32m---> 20\u001b[0;31m                          ('hold', 475)]\n\u001b[0m",
      "\u001b[0;31mAssertionError\u001b[0m: "
     ]
    }
   ],
   "source": [
    "assert top_20_ngrams == [('flight', 2844),\n",
    "                         ('unit', 2373),\n",
    "                         ('usairway', 1875),\n",
    "                         ('americanair', 1725),\n",
    "                         ('southwestair', 1236),\n",
    "                         ('jetblu', 1180),\n",
    "                         ('thank', 1060),\n",
    "                         ('get', 975),\n",
    "                         ('hour', 814),\n",
    "                         ('cancel', 678),\n",
    "                         ('delay', 666),\n",
    "                         ('servic', 647),\n",
    "                         ('time', 633),\n",
    "                         ('help', 604),\n",
    "                         ('custom', 600),\n",
    "                         ('call', 518),\n",
    "                         ('wait', 515),\n",
    "                         ('co', 494),\n",
    "                         ('bag', 485),\n",
    "                         ('hold', 475)]"
   ]
  },
  {
   "cell_type": "markdown",
   "metadata": {
    "deletable": false,
    "editable": false,
    "nbgrader": {
     "grade": false,
     "grade_id": "cell-e9cbc43f83473ed9",
     "locked": true,
     "schema_version": 3,
     "solution": false,
     "task": false
    }
   },
   "source": [
    "#### Q3.f)\n",
    "We saw with just unigrams that there were already a lot of unhelpful words in the vocabulary, and now with the addition of bigrams the vocabulary is much bigger. Let's get rid of some infrequent ngrams by limiting the max number of features."
   ]
  },
  {
   "cell_type": "code",
   "execution_count": null,
   "metadata": {
    "deletable": false,
    "nbgrader": {
     "grade": false,
     "grade_id": "cell-c3e6d0f22dc12fb5",
     "locked": false,
     "schema_version": 3,
     "solution": true,
     "task": false
    }
   },
   "outputs": [],
   "source": [
    "# run train_and_validate() with uni- and bigrams and max features of 20000\n",
    "# clf, y_dev_pred, acc = ...\n",
    "# YOUR CODE HERE\n",
    "clf, y_dev_pred, acc = train_and_validate(X_train_pre, X_dev_pre, y_train, y_dev,ngram_range=(1,2), max_features=20000)\n",
    "#raise NotImplementedError()"
   ]
  },
  {
   "cell_type": "code",
   "execution_count": null,
   "metadata": {
    "deletable": false,
    "editable": false,
    "nbgrader": {
     "grade": true,
     "grade_id": "cell-25d7ead74fe6ec50",
     "locked": true,
     "points": 1,
     "schema_version": 3,
     "solution": false,
     "task": false
    }
   },
   "outputs": [],
   "source": [
    "assert ' '.join(y_dev_pred[10:20]) == 'negative negative negative negative negative negative positive negative negative negative'\n",
    "assert_allclose(acc, 0.9076, rtol=1e-2)\n",
    "assert len(clf['vect'].vocabulary_) == 20000"
   ]
  },
  {
   "cell_type": "markdown",
   "metadata": {},
   "source": [
    "The metrics improved a little! Let's see if we can get even better performance now by using the relative importance of ngrams with TfIdf."
   ]
  },
  {
   "cell_type": "markdown",
   "metadata": {
    "deletable": false,
    "editable": false,
    "nbgrader": {
     "grade": false,
     "grade_id": "cell-28921443e50007c5",
     "locked": true,
     "schema_version": 3,
     "solution": false,
     "task": false
    }
   },
   "source": [
    "## Q4. TfIdf\n",
    "#### Q4.a)\n",
    "First, rewrite the train and validate function from before to include the TfIdf step in the Pipeline. Use sklearn's `TfIdfTransformer`. Also, add kwargs for CountVectorizer's `max_df` and `min_df`."
   ]
  },
  {
   "cell_type": "code",
   "execution_count": null,
   "metadata": {
    "deletable": false,
    "nbgrader": {
     "grade": false,
     "grade_id": "cell-02453bb681cd33b8",
     "locked": false,
     "schema_version": 3,
     "solution": true,
     "task": false
    }
   },
   "outputs": [],
   "source": [
    "def train_and_validate_with_tfidf(X_train, X_dev, y_train, y_dev, ngram_range=(1,1), max_features=None, max_df=1.0, min_df=1):\n",
    "    \"\"\"\n",
    "    Train a model using sklearn's Pipeline and return it along with the predictions and the\n",
    "    current accuracy in the validation set. Print the classification report as well.\n",
    "    Assume the documents are already preprocessed\n",
    "    \n",
    "    Args:\n",
    "    X_train - preprocessed tweets in training data\n",
    "    X_dev - preprocessed tweets in dev data\n",
    "    y_train - labels of training data\n",
    "    y_dev - labels of dev data\n",
    "    ngram_range - ngram range to use in CountVectorizer (tuple)\n",
    "    max_features - max number of features to use in CountVectorizer (int)\n",
    "    max_df = max_df for CountVectorizer (int or float)\n",
    "    min_df = min_df for CountVectorizer (int or float)\n",
    "    \"\"\"\n",
    "    \n",
    "    # Build the pipeline containing the countvectorizer and the multinomial NB classifier\n",
    "    # text_clf = Pipeline(...)\n",
    "    \n",
    "    # Train the classifier\n",
    "    # (...)\n",
    "\n",
    "    # y_dev_pred = (...)\n",
    "    # print the classification report\n",
    "    # acc = (...)\n",
    "    \n",
    "    # YOUR CODE HERE\n",
    "    text_clf = Pipeline([('vect', CountVectorizer(ngram_range=ngram_range, max_features= max_features,max_df=max_df, min_df=min_df)),\n",
    "                         ('tfidf', TfidfTransformer()),\n",
    "                   ('clf', MultinomialNB())])\n",
    "    #Train the classifier\n",
    "    text_clf.fit( X_train, y_train)\n",
    "\n",
    "    y_dev_pred = text_clf.predict( X_dev)\n",
    "#np.mean(predicted == validation_df['sentiment'])\n",
    "    #raise NotImplementedError()\n",
    "    #acc = classification_report(y_dev, y_dev_pred)\n",
    "    acc = np.mean(y_dev_pred == y_dev)\n",
    "    #print(classification_report(y_dev, y_dev_pred))\n",
    "    y_dev_predn=[]\n",
    "    for num in y_dev_pred:\n",
    "        if num ==1:\n",
    "            pre = 'positive'\n",
    "        else:\n",
    "            pre = 'negative'\n",
    "        y_dev_predn.append(pre)   \n",
    "    y_dev_pred = y_dev_predn\n",
    "    \n",
    "    return text_clf,y_dev_pred,acc\n",
    "    # YOUR CODE HERE\n",
    "    #raise NotImplementedError()"
   ]
  },
  {
   "cell_type": "code",
   "execution_count": null,
   "metadata": {
    "deletable": false,
    "editable": false,
    "nbgrader": {
     "grade": true,
     "grade_id": "cell-ee1c189fe642928a",
     "locked": true,
     "points": 1,
     "schema_version": 3,
     "solution": false,
     "task": false
    }
   },
   "outputs": [],
   "source": [
    "clf, y_dev_pred, acc = train_and_validate_with_tfidf(X_train_pre, X_dev_pre, y_train, y_dev, max_df=0.95, min_df=0.05)\n",
    "\n",
    "assert ' '.join(y_dev_pred[10:20]) == 'negative negative negative negative negative negative positive negative negative negative'\n",
    "assert_allclose(acc, 0.8492, rtol=1e-2)"
   ]
  },
  {
   "cell_type": "markdown",
   "metadata": {},
   "source": [
    "#### Q4.b)\n",
    "Next, find the top 20 most important words in the training tweets according to TfIdf. The solution should be similar to how you found the most common words from CountVectorizer."
   ]
  },
  {
   "cell_type": "code",
   "execution_count": null,
   "metadata": {
    "deletable": false,
    "nbgrader": {
     "grade": false,
     "grade_id": "cell-6f1b44cc6ab17796",
     "locked": false,
     "schema_version": 3,
     "solution": true,
     "task": false
    }
   },
   "outputs": [],
   "source": [
    "# don't forget to re-transform the preprocessed training data\n",
    "# top_20_most_important_words = ...\n",
    "# do not return the scores, just the words\n",
    "# YOUR CODE HERE\n",
    "\n",
    "# YOUR CODE HERE\n",
    "from sklearn.feature_extraction.text import TfidfVectorizer\n",
    "vec = TfidfVectorizer()\n",
    "X_train_vec = vec.fit_transform(X_train_pre)\n",
    "X_vec_sum = X_train_vec.sum(axis=0)\n",
    "df = pd.DataFrame(X_vec_sum.reshape(-1,1), index=vec.get_feature_names(), columns=[\"words\"]) \n",
    "df = df.sort_values(by=[\"words\"],ascending=False)\n",
    "top_20_most_important_words = df.index[:20]\n",
    "#top_20_ngrams = \n",
    "\n",
    "#raise NotImplementedError()"
   ]
  },
  {
   "cell_type": "code",
   "execution_count": null,
   "metadata": {
    "deletable": false,
    "editable": false,
    "nbgrader": {
     "grade": true,
     "grade_id": "cell-8d60f5f2f2137831",
     "locked": true,
     "points": 1,
     "schema_version": 3,
     "solution": false,
     "task": false
    }
   },
   "outputs": [],
   "source": [
    "assert top_20_most_important_words == ['unit',\n",
    "                                         'flight',\n",
    "                                         'usairway',\n",
    "                                         'americanair',\n",
    "                                         'southwestair',\n",
    "                                         'jetblu',\n",
    "                                         'thank',\n",
    "                                         'get',\n",
    "                                         'hour',\n",
    "                                         'delay',\n",
    "                                         'time',\n",
    "                                         'servic',\n",
    "                                         'help',\n",
    "                                         'cancel',\n",
    "                                         'custom',\n",
    "                                         'bag',\n",
    "                                         'call',\n",
    "                                         'wait',\n",
    "                                         'plane',\n",
    "                                         'co']"
   ]
  },
  {
   "cell_type": "markdown",
   "metadata": {},
   "source": [
    "You can see that the most important words from TfIdf are slightly different from the most common words from the BoW. The metrics we got using TfIdf may have gotten worse, but with a bit more tuning maybe we can get get better performance."
   ]
  },
  {
   "cell_type": "markdown",
   "metadata": {
    "deletable": false,
    "editable": false,
    "nbgrader": {
     "grade": false,
     "grade_id": "cell-ab54cc6297c36ee2",
     "locked": true,
     "schema_version": 3,
     "solution": false
    }
   },
   "source": [
    "#### Q4.c)\n",
    "\n",
    "Use the `train_and_validate_with_tfidf` function you created before to train with different hyperparameters and get an accuracy score above 88.5% on the validation dataset. (This threshold is below what we got for plain CountVectorizer)\n"
   ]
  },
  {
   "cell_type": "code",
   "execution_count": null,
   "metadata": {
    "deletable": false,
    "nbgrader": {
     "grade": false,
     "grade_id": "cell-07b6f3694941ac8",
     "locked": false,
     "schema_version": 3,
     "solution": true,
     "task": false
    }
   },
   "outputs": [],
   "source": [
    "# clf, _, acc = train_and_validate_with_tfidf(...)\n",
    "# YOUR CODE HERE\n",
    "clf, y_dev_pred, acc = train_and_validate_with_tfidf(X_train_pre, X_dev_pre, y_train, y_dev,ngram_range=(1,2), max_features=2000, max_df=0.99, min_df=1)\n",
    "acc\n",
    "#raise NotImplementedError()"
   ]
  },
  {
   "cell_type": "code",
   "execution_count": null,
   "metadata": {
    "deletable": false,
    "editable": false,
    "nbgrader": {
     "grade": true,
     "grade_id": "cell-07b6f3694941ac81",
     "locked": true,
     "points": 2,
     "schema_version": 3,
     "solution": false
    }
   },
   "outputs": [],
   "source": [
    "assert(acc >= 0.885)"
   ]
  },
  {
   "cell_type": "markdown",
   "metadata": {},
   "source": [
    "Now evaluate your model on the test set!"
   ]
  },
  {
   "cell_type": "code",
   "execution_count": null,
   "metadata": {},
   "outputs": [],
   "source": [
    "X_test_vec = clf['tfidf'].transform(clf['vect'].transform(X_test_pre))\n",
    "y_test_pred = clf['clf'].predict(X_test_vec)\n",
    "#print(classification_report(y_test, y_test_pred))"
   ]
  },
  {
   "cell_type": "markdown",
   "metadata": {},
   "source": [
    "We ended up not being able to beat our baseline of BoW with Tfidf, maybe because the dataset is small and simple, and a simple algorithm was enough. Still, in general it's good to try TfIdf for text classification tasks and have an understanding of how your results change with different hyperparameters!"
   ]
  },
  {
   "cell_type": "code",
   "execution_count": null,
   "metadata": {},
   "outputs": [],
   "source": []
  }
 ],
 "metadata": {
  "kernelspec": {
   "display_name": "Python 3",
   "language": "python",
   "name": "python3"
  },
  "language_info": {
   "codemirror_mode": {
    "name": "ipython",
    "version": 3
   },
   "file_extension": ".py",
   "mimetype": "text/x-python",
   "name": "python",
   "nbconvert_exporter": "python",
   "pygments_lexer": "ipython3",
   "version": "3.6.9"
  }
 },
 "nbformat": 4,
 "nbformat_minor": 2
}
