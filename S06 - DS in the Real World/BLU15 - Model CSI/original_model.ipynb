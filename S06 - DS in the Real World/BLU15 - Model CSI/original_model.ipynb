{
 "cells": [
  {
   "cell_type": "code",
   "execution_count": 1,
   "metadata": {},
   "outputs": [],
   "source": [
    "import json\n",
    "import joblib\n",
    "import pickle\n",
    "import pandas as pd\n",
    "from lightgbm import LGBMClassifier\n",
    "from sklearn.model_selection import train_test_split\n",
    "from sklearn.pipeline import make_pipeline, Pipeline\n",
    "from sklearn.preprocessing import OneHotEncoder\n",
    "from sklearn.compose import ColumnTransformer\n",
    "from sklearn.impute import SimpleImputer\n",
    "from sklearn.metrics import precision_score, recall_score\n",
    "import numpy as np\n",
    "from sklearn.metrics import precision_recall_curve\n",
    "import matplotlib.pyplot as plt"
   ]
  },
  {
   "cell_type": "code",
   "execution_count": 2,
   "metadata": {},
   "outputs": [
    {
     "data": {
      "text/html": [
       "<div>\n",
       "<style scoped>\n",
       "    .dataframe tbody tr th:only-of-type {\n",
       "        vertical-align: middle;\n",
       "    }\n",
       "\n",
       "    .dataframe tbody tr th {\n",
       "        vertical-align: top;\n",
       "    }\n",
       "\n",
       "    .dataframe thead th {\n",
       "        text-align: right;\n",
       "    }\n",
       "</style>\n",
       "<table border=\"1\" class=\"dataframe\">\n",
       "  <thead>\n",
       "    <tr style=\"text-align: right;\">\n",
       "      <th></th>\n",
       "      <th>VehicleSearchedIndicator</th>\n",
       "      <th>ContrabandIndicator</th>\n",
       "      <th>Department Name</th>\n",
       "      <th>InterventionDateTime</th>\n",
       "      <th>InterventionLocationName</th>\n",
       "      <th>InterventionReasonCode</th>\n",
       "      <th>ReportingOfficerIdentificationID</th>\n",
       "      <th>ResidentIndicator</th>\n",
       "      <th>SearchAuthorizationCode</th>\n",
       "      <th>StatuteReason</th>\n",
       "      <th>SubjectAge</th>\n",
       "      <th>SubjectEthnicityCode</th>\n",
       "      <th>SubjectRaceCode</th>\n",
       "      <th>SubjectSexCode</th>\n",
       "      <th>TownResidentIndicator</th>\n",
       "    </tr>\n",
       "  </thead>\n",
       "  <tbody>\n",
       "    <tr>\n",
       "      <th>0</th>\n",
       "      <td>True</td>\n",
       "      <td>False</td>\n",
       "      <td>Bridgeport</td>\n",
       "      <td>10/01/2013 12:46:00 AM</td>\n",
       "      <td>Bridgeport</td>\n",
       "      <td>V</td>\n",
       "      <td>1207</td>\n",
       "      <td>True</td>\n",
       "      <td>I</td>\n",
       "      <td>Speed Related</td>\n",
       "      <td>37.0</td>\n",
       "      <td>H</td>\n",
       "      <td>W</td>\n",
       "      <td>M</td>\n",
       "      <td>True</td>\n",
       "    </tr>\n",
       "    <tr>\n",
       "      <th>1</th>\n",
       "      <td>True</td>\n",
       "      <td>True</td>\n",
       "      <td>Milford</td>\n",
       "      <td>10/01/2013 01:50:00 AM</td>\n",
       "      <td>MILFORD</td>\n",
       "      <td>E</td>\n",
       "      <td>2325</td>\n",
       "      <td>True</td>\n",
       "      <td>I</td>\n",
       "      <td>Defective Lights</td>\n",
       "      <td>30.0</td>\n",
       "      <td>N</td>\n",
       "      <td>W</td>\n",
       "      <td>M</td>\n",
       "      <td>True</td>\n",
       "    </tr>\n",
       "    <tr>\n",
       "      <th>2</th>\n",
       "      <td>True</td>\n",
       "      <td>False</td>\n",
       "      <td>Torrington</td>\n",
       "      <td>10/01/2013 03:49:00 AM</td>\n",
       "      <td>Torrington</td>\n",
       "      <td>V</td>\n",
       "      <td>DACYR048</td>\n",
       "      <td>True</td>\n",
       "      <td>C</td>\n",
       "      <td>Registration</td>\n",
       "      <td>43.0</td>\n",
       "      <td>N</td>\n",
       "      <td>W</td>\n",
       "      <td>M</td>\n",
       "      <td>True</td>\n",
       "    </tr>\n",
       "    <tr>\n",
       "      <th>3</th>\n",
       "      <td>True</td>\n",
       "      <td>False</td>\n",
       "      <td>State Police</td>\n",
       "      <td>10/01/2013 05:30:00 AM</td>\n",
       "      <td>TOLLAND</td>\n",
       "      <td>V</td>\n",
       "      <td>1000002715</td>\n",
       "      <td>False</td>\n",
       "      <td>C</td>\n",
       "      <td>Other</td>\n",
       "      <td>19.0</td>\n",
       "      <td>N</td>\n",
       "      <td>B</td>\n",
       "      <td>M</td>\n",
       "      <td>False</td>\n",
       "    </tr>\n",
       "    <tr>\n",
       "      <th>4</th>\n",
       "      <td>True</td>\n",
       "      <td>False</td>\n",
       "      <td>Greenwich</td>\n",
       "      <td>10/01/2013 05:47:00 AM</td>\n",
       "      <td>RIVERSIDE</td>\n",
       "      <td>V</td>\n",
       "      <td>110993</td>\n",
       "      <td>False</td>\n",
       "      <td>N</td>\n",
       "      <td>Speed Related</td>\n",
       "      <td>34.0</td>\n",
       "      <td>M</td>\n",
       "      <td>B</td>\n",
       "      <td>M</td>\n",
       "      <td>False</td>\n",
       "    </tr>\n",
       "  </tbody>\n",
       "</table>\n",
       "</div>"
      ],
      "text/plain": [
       "   VehicleSearchedIndicator  ContrabandIndicator Department Name  \\\n",
       "0                      True                False      Bridgeport   \n",
       "1                      True                 True         Milford   \n",
       "2                      True                False      Torrington   \n",
       "3                      True                False    State Police   \n",
       "4                      True                False       Greenwich   \n",
       "\n",
       "     InterventionDateTime InterventionLocationName InterventionReasonCode  \\\n",
       "0  10/01/2013 12:46:00 AM               Bridgeport                      V   \n",
       "1  10/01/2013 01:50:00 AM                  MILFORD                      E   \n",
       "2  10/01/2013 03:49:00 AM               Torrington                      V   \n",
       "3  10/01/2013 05:30:00 AM                  TOLLAND                      V   \n",
       "4  10/01/2013 05:47:00 AM                RIVERSIDE                      V   \n",
       "\n",
       "  ReportingOfficerIdentificationID  ResidentIndicator SearchAuthorizationCode  \\\n",
       "0                             1207               True                       I   \n",
       "1                             2325               True                       I   \n",
       "2                         DACYR048               True                       C   \n",
       "3                       1000002715              False                       C   \n",
       "4                           110993              False                       N   \n",
       "\n",
       "      StatuteReason  SubjectAge SubjectEthnicityCode SubjectRaceCode  \\\n",
       "0     Speed Related        37.0                    H               W   \n",
       "1  Defective Lights        30.0                    N               W   \n",
       "2      Registration        43.0                    N               W   \n",
       "3             Other        19.0                    N               B   \n",
       "4     Speed Related        34.0                    M               B   \n",
       "\n",
       "  SubjectSexCode  TownResidentIndicator  \n",
       "0              M                   True  \n",
       "1              M                   True  \n",
       "2              M                   True  \n",
       "3              M                  False  \n",
       "4              M                  False  "
      ]
     },
     "execution_count": 2,
     "metadata": {},
     "output_type": "execute_result"
    }
   ],
   "source": [
    "df = pd.read_csv(\"data/train_searched.csv\")\n",
    "df.head()"
   ]
  },
  {
   "cell_type": "code",
   "execution_count": 68,
   "metadata": {},
   "outputs": [
    {
     "data": {
      "text/plain": [
       "0"
      ]
     },
     "execution_count": 68,
     "metadata": {},
     "output_type": "execute_result"
    }
   ],
   "source": [
    "df.SubjectAge.isnull().sum()"
   ]
  },
  {
   "cell_type": "code",
   "execution_count": 3,
   "metadata": {},
   "outputs": [],
   "source": [
    "# lowercaes departments and location names\n",
    "df['Department Name'] = df['Department Name'].apply(lambda x: str(x).lower())\n",
    "df['InterventionLocationName'] = df['InterventionLocationName'].apply(lambda x: str(x).lower())"
   ]
  },
  {
   "cell_type": "code",
   "execution_count": 4,
   "metadata": {},
   "outputs": [],
   "source": [
    "train_features = df.columns.drop(['VehicleSearchedIndicator', 'ContrabandIndicator'])"
   ]
  },
  {
   "cell_type": "code",
   "execution_count": 5,
   "metadata": {},
   "outputs": [],
   "source": [
    "categorical_features = train_features.drop(['InterventionDateTime', 'SubjectAge'])\n",
    "numerical_features = ['SubjectAge']"
   ]
  },
  {
   "cell_type": "code",
   "execution_count": 6,
   "metadata": {},
   "outputs": [],
   "source": [
    "target = 'ContrabandIndicator'"
   ]
  },
  {
   "cell_type": "code",
   "execution_count": 7,
   "metadata": {},
   "outputs": [
    {
     "data": {
      "text/plain": [
       "state police                5449\n",
       "new haven                   5006\n",
       "wallingford                 2717\n",
       "waterbury                   2506\n",
       "west hartford               2214\n",
       "                            ... \n",
       "mta stamford                   4\n",
       "mta                            2\n",
       "wcsu                           1\n",
       "met dist water authority       1\n",
       "ecsu                           1\n",
       "Name: Department Name, Length: 117, dtype: int64"
      ]
     },
     "metadata": {},
     "output_type": "display_data"
    },
    {
     "data": {
      "text/plain": [
       "new haven               5719\n",
       "waterbury               2938\n",
       "wallingford             2771\n",
       "norwich                 2201\n",
       "bridgeport              2092\n",
       "                        ... \n",
       "main street/ east el       1\n",
       "coventry                   1\n",
       "new haven                  1\n",
       "high at turner             1\n",
       "main street                1\n",
       "Name: InterventionLocationName, Length: 458, dtype: int64"
      ]
     },
     "metadata": {},
     "output_type": "display_data"
    },
    {
     "data": {
      "text/plain": [
       "V    57944\n",
       "E    13187\n",
       "I     5612\n",
       "Name: InterventionReasonCode, dtype: int64"
      ]
     },
     "metadata": {},
     "output_type": "display_data"
    },
    {
     "data": {
      "text/plain": [
       "1000003196    517\n",
       "1000002072    370\n",
       "790642042     349\n",
       "10502         300\n",
       "30233         299\n",
       "             ... \n",
       "MLS0487         1\n",
       "101278130       1\n",
       "18907           1\n",
       "345000640       1\n",
       "100000408       1\n",
       "Name: ReportingOfficerIdentificationID, Length: 4941, dtype: int64"
      ]
     },
     "metadata": {},
     "output_type": "display_data"
    },
    {
     "data": {
      "text/plain": [
       "True     70049\n",
       "False     6694\n",
       "Name: ResidentIndicator, dtype: int64"
      ]
     },
     "metadata": {},
     "output_type": "display_data"
    },
    {
     "data": {
      "text/plain": [
       "O    30670\n",
       "C    27063\n",
       "I    15710\n",
       "N     3290\n",
       "Name: SearchAuthorizationCode, dtype: int64"
      ]
     },
     "metadata": {},
     "output_type": "display_data"
    },
    {
     "data": {
      "text/plain": [
       "Other                     11066\n",
       "Moving Violation           9969\n",
       "Defective Lights           9127\n",
       "Speed Related              8332\n",
       "Registration               7329\n",
       "Display of Plates          5859\n",
       "Administrative Offense     4845\n",
       "Stop Sign                  3738\n",
       "Traffic Control Signal     3716\n",
       "Window Tint                3375\n",
       "Other/Error                2240\n",
       "Seatbelt                   2173\n",
       "Cell Phone                 1731\n",
       "Suspended License          1376\n",
       "Unlicensed Operation        697\n",
       "STC Violation               595\n",
       "Equipment Violation         562\n",
       "Stop Sign                     3\n",
       "Name: StatuteReason, dtype: int64"
      ]
     },
     "metadata": {},
     "output_type": "display_data"
    },
    {
     "data": {
      "text/plain": [
       "N    58343\n",
       "H    17524\n",
       "M      876\n",
       "Name: SubjectEthnicityCode, dtype: int64"
      ]
     },
     "metadata": {},
     "output_type": "display_data"
    },
    {
     "data": {
      "text/plain": [
       "W    53524\n",
       "B    22501\n",
       "A      498\n",
       "I      220\n",
       "Name: SubjectRaceCode, dtype: int64"
      ]
     },
     "metadata": {},
     "output_type": "display_data"
    },
    {
     "data": {
      "text/plain": [
       "M    62686\n",
       "F    14057\n",
       "Name: SubjectSexCode, dtype: int64"
      ]
     },
     "metadata": {},
     "output_type": "display_data"
    },
    {
     "data": {
      "text/plain": [
       "False    46264\n",
       "True     30479\n",
       "Name: TownResidentIndicator, dtype: int64"
      ]
     },
     "metadata": {},
     "output_type": "display_data"
    }
   ],
   "source": [
    "# show the most common feature values for all the categorical features\n",
    "for feature in categorical_features:\n",
    "    display(df[feature].value_counts())"
   ]
  },
  {
   "cell_type": "code",
   "execution_count": 8,
   "metadata": {},
   "outputs": [],
   "source": [
    "# I'm going to remove less common features. \n",
    "# Let's create a dictionary with the minimum required number of appearences\n",
    "min_frequency = {\n",
    "    \"Department Name\": 50,\n",
    "    \"InterventionLocationName\": 50,\n",
    "    \"ReportingOfficerIdentificationID\": 30,\n",
    "    \"StatuteReason\": 10\n",
    "}"
   ]
  },
  {
   "cell_type": "code",
   "execution_count": 10,
   "metadata": {},
   "outputs": [
    {
     "data": {
      "text/plain": [
       "dict_items([('Department Name', 50), ('InterventionLocationName', 50), ('ReportingOfficerIdentificationID', 30), ('StatuteReason', 10)])"
      ]
     },
     "execution_count": 10,
     "metadata": {},
     "output_type": "execute_result"
    }
   ],
   "source": [
    "min_frequency.items()"
   ]
  },
  {
   "cell_type": "code",
   "execution_count": 15,
   "metadata": {},
   "outputs": [
    {
     "data": {
      "text/plain": [
       "state police     5449\n",
       "new haven        5006\n",
       "wallingford      2717\n",
       "waterbury        2506\n",
       "west hartford    2214\n",
       "                 ... \n",
       "east lyme          89\n",
       "scsu               74\n",
       "shelton            71\n",
       "granby             65\n",
       "stonington         57\n",
       "Name: Department Name, Length: 103, dtype: int64"
      ]
     },
     "execution_count": 15,
     "metadata": {},
     "output_type": "execute_result"
    }
   ],
   "source": [
    "value_counts = df[\"Department Name\"].value_counts()\n",
    "value_counts\n",
    "to_keep = value_counts[value_counts > 50]\n",
    "to_keep"
   ]
  },
  {
   "cell_type": "code",
   "execution_count": 16,
   "metadata": {},
   "outputs": [],
   "source": [
    "def filter_values(df: pd.DataFrame, column_name: str, threshold: int):\n",
    "    value_counts = df[column_name].value_counts()\n",
    "    to_keep = value_counts[value_counts > threshold].index\n",
    "    filtered = df[df[column_name].isin(to_keep)]\n",
    "    return filtered"
   ]
  },
  {
   "cell_type": "code",
   "execution_count": 17,
   "metadata": {},
   "outputs": [
    {
     "data": {
      "text/plain": [
       "(76743, 15)"
      ]
     },
     "execution_count": 17,
     "metadata": {},
     "output_type": "execute_result"
    }
   ],
   "source": [
    "df.shape"
   ]
  },
  {
   "cell_type": "code",
   "execution_count": 18,
   "metadata": {},
   "outputs": [],
   "source": [
    "for feature, threshold in min_frequency.items():\n",
    "    df = filter_values(df, feature, threshold)"
   ]
  },
  {
   "cell_type": "code",
   "execution_count": 19,
   "metadata": {},
   "outputs": [
    {
     "data": {
      "text/plain": [
       "(45334, 15)"
      ]
     },
     "execution_count": 19,
     "metadata": {},
     "output_type": "execute_result"
    }
   ],
   "source": [
    "df.shape"
   ]
  },
  {
   "cell_type": "code",
   "execution_count": 23,
   "metadata": {},
   "outputs": [],
   "source": [
    "X = df[train_features]\n",
    "y = df[target]"
   ]
  },
  {
   "cell_type": "code",
   "execution_count": 24,
   "metadata": {},
   "outputs": [],
   "source": [
    "X_train, X_test, y_train, y_test = train_test_split(X, y, test_size=0.25, random_state=42)"
   ]
  },
  {
   "cell_type": "code",
   "execution_count": 25,
   "metadata": {},
   "outputs": [],
   "source": [
    "categorical_transformer = Pipeline(steps=[\n",
    "    ('imputer', SimpleImputer(strategy='constant', fill_value='missing')),\n",
    "    ('onehot', OneHotEncoder(handle_unknown='ignore'))])\n",
    "\n",
    "preprocessor = ColumnTransformer(\n",
    "    transformers=[('cat', categorical_transformer, categorical_features)])\n",
    "\n",
    "pipeline = make_pipeline(\n",
    "    preprocessor,\n",
    "    LGBMClassifier(n_jobs=-1, random_state=42),\n",
    ")"
   ]
  },
  {
   "cell_type": "code",
   "execution_count": 26,
   "metadata": {},
   "outputs": [
    {
     "data": {
      "text/plain": [
       "Pipeline(steps=[('columntransformer',\n",
       "                 ColumnTransformer(transformers=[('cat',\n",
       "                                                  Pipeline(steps=[('imputer',\n",
       "                                                                   SimpleImputer(fill_value='missing',\n",
       "                                                                                 strategy='constant')),\n",
       "                                                                  ('onehot',\n",
       "                                                                   OneHotEncoder(handle_unknown='ignore'))]),\n",
       "                                                  Index(['Department Name', 'InterventionLocationName', 'InterventionReasonCode',\n",
       "       'ReportingOfficerIdentificationID', 'ResidentIndicator',\n",
       "       'SearchAuthorizationCode', 'StatuteReason', 'SubjectEthnicityCode',\n",
       "       'SubjectRaceCode', 'SubjectSexCode', 'TownResidentIndicator'],\n",
       "      dtype='object'))])),\n",
       "                ('lgbmclassifier', LGBMClassifier(random_state=42))])"
      ]
     },
     "execution_count": 26,
     "metadata": {},
     "output_type": "execute_result"
    }
   ],
   "source": [
    "pipeline.fit(X_train, y_train)"
   ]
  },
  {
   "cell_type": "code",
   "execution_count": 35,
   "metadata": {},
   "outputs": [
    {
     "data": {
      "text/plain": [
       "array([[0.39236829, 0.60763171],\n",
       "       [0.78677826, 0.21322174],\n",
       "       [0.96591376, 0.03408624],\n",
       "       ...,\n",
       "       [0.74437072, 0.25562928],\n",
       "       [0.94480763, 0.05519237],\n",
       "       [0.66848456, 0.33151544]])"
      ]
     },
     "execution_count": 35,
     "metadata": {},
     "output_type": "execute_result"
    }
   ],
   "source": [
    "preds = pipeline.predict(X_test)\n",
    "preds_2= pipeline.predict_proba(X_test)\n",
    "preds_2"
   ]
  },
  {
   "cell_type": "code",
   "execution_count": 36,
   "metadata": {},
   "outputs": [
    {
     "data": {
      "text/plain": [
       "array([ True, False, False, ..., False, False, False])"
      ]
     },
     "execution_count": 36,
     "metadata": {},
     "output_type": "execute_result"
    }
   ],
   "source": [
    "preds"
   ]
  },
  {
   "cell_type": "code",
   "execution_count": 28,
   "metadata": {},
   "outputs": [],
   "source": [
    "def verify_success_rate_above(y_true, y_pred, min_success_rate=0.5):\n",
    "    \"\"\"\n",
    "    Verifies the success rate on a test set is above a provided minimum\n",
    "    \n",
    "    \n",
    "    \"\"\"\n",
    "    \n",
    "    precision = precision_score(y_true, y_pred, pos_label=True)\n",
    "    is_satisfied = (precision >= min_success_rate)\n",
    "    \n",
    "    return is_satisfied, precision\n"
   ]
  },
  {
   "cell_type": "code",
   "execution_count": 29,
   "metadata": {},
   "outputs": [],
   "source": [
    "def verify_amount_found(y_true, y_pred):\n",
    "    \"\"\"\n",
    "    Verifies the amout of contraband found in the test dataset - a.k.a the recall in our test set\n",
    "    \"\"\"\n",
    "    \n",
    "    recall = recall_score(y_true, y_pred)    \n",
    "    return recall\n"
   ]
  },
  {
   "cell_type": "code",
   "execution_count": 30,
   "metadata": {},
   "outputs": [
    {
     "data": {
      "text/plain": [
       "(True, 0.6681299385425812)"
      ]
     },
     "execution_count": 30,
     "metadata": {},
     "output_type": "execute_result"
    }
   ],
   "source": [
    "verify_success_rate_above(y_test, preds)"
   ]
  },
  {
   "cell_type": "code",
   "execution_count": 31,
   "metadata": {},
   "outputs": [
    {
     "data": {
      "text/plain": [
       "0.6125570163670513"
      ]
     },
     "execution_count": 31,
     "metadata": {},
     "output_type": "execute_result"
    }
   ],
   "source": [
    "verify_amount_found(y_test, preds)"
   ]
  },
  {
   "cell_type": "markdown",
   "metadata": {},
   "source": [
    "Now let's find the best threshold for our requirements.\n",
    "\n",
    "Precision needs to be at least 0.5, and recall has to be as max as possible.\n",
    "\n",
    "It's usually true that the bigger is precision, the lower is the recall. \n",
    "\n",
    "So we need to find the threshold that coresponds to precision = 0.5"
   ]
  },
  {
   "cell_type": "code",
   "execution_count": 38,
   "metadata": {},
   "outputs": [
    {
     "data": {
      "text/plain": [
       "array([[0.39236829, 0.60763171],\n",
       "       [0.78677826, 0.21322174],\n",
       "       [0.96591376, 0.03408624],\n",
       "       ...,\n",
       "       [0.74437072, 0.25562928],\n",
       "       [0.94480763, 0.05519237],\n",
       "       [0.66848456, 0.33151544]])"
      ]
     },
     "execution_count": 38,
     "metadata": {},
     "output_type": "execute_result"
    }
   ],
   "source": [
    "proba = pipeline.predict_proba(X_test)\n",
    "proba"
   ]
  },
  {
   "cell_type": "code",
   "execution_count": 39,
   "metadata": {},
   "outputs": [
    {
     "data": {
      "text/plain": [
       "45766    False\n",
       "55808     True\n",
       "59823    False\n",
       "47880    False\n",
       "34477     True\n",
       "         ...  \n",
       "70365     True\n",
       "5520     False\n",
       "71745    False\n",
       "35879    False\n",
       "34151    False\n",
       "Name: ContrabandIndicator, Length: 11334, dtype: bool"
      ]
     },
     "execution_count": 39,
     "metadata": {},
     "output_type": "execute_result"
    }
   ],
   "source": [
    "y_test"
   ]
  },
  {
   "cell_type": "code",
   "execution_count": 41,
   "metadata": {},
   "outputs": [],
   "source": [
    "precision, recall, thresholds = precision_recall_curve(y_test, proba[:, 1])"
   ]
  },
  {
   "cell_type": "code",
   "execution_count": 42,
   "metadata": {},
   "outputs": [
    {
     "name": "stdout",
     "output_type": "stream",
     "text": [
      "6615 6615 6614\n"
     ]
    }
   ],
   "source": [
    "print(len(precision), len(recall), len(thresholds))"
   ]
  },
  {
   "cell_type": "code",
   "execution_count": 43,
   "metadata": {},
   "outputs": [
    {
     "data": {
      "text/plain": [
       "array([0.33585654, 0.33582695, 0.33585722, ..., 1.        , 1.        ,\n",
       "       1.        ])"
      ]
     },
     "execution_count": 43,
     "metadata": {},
     "output_type": "execute_result"
    }
   ],
   "source": [
    "precision"
   ]
  },
  {
   "cell_type": "code",
   "execution_count": 57,
   "metadata": {},
   "outputs": [
    {
     "data": {
      "text/plain": [
       "[(0, 'a'),\n",
       " (1, 's'),\n",
       " (2, 'f'),\n",
       " (3, 'v'),\n",
       " (4, 'n'),\n",
       " (5, 'h'),\n",
       " (6, 'g'),\n",
       " (7, 'd')]"
      ]
     },
     "execution_count": 57,
     "metadata": {},
     "output_type": "execute_result"
    }
   ],
   "source": [
    "qq = ['a','s','f','v','n','h','g','d']\n",
    "[el for el in enumerate(qq)]"
   ]
  },
  {
   "cell_type": "code",
   "execution_count": 53,
   "metadata": {},
   "outputs": [
    {
     "data": {
      "text/plain": [
       "[(2570, 0.5),\n",
       " (2571, 0.5000751089079165),\n",
       " (2572, 0.5001502403846154),\n",
       " (2573, 0.5002253944402705),\n",
       " (2574, 0.5001502855425308),\n",
       " (2575, 0.5002254621975049),\n",
       " (2576, 0.5001503307276007),\n",
       " (2577, 0.5003007518796992),\n",
       " (2578, 0.5003008423586041),\n",
       " (2579, 0.5003010234798314),\n",
       " (2580, 0.5002258015956647),\n",
       " (2581, 0.5003011141222523),\n",
       " (2582, 0.5003764493299202),\n",
       " (2583, 0.5004518072289157),\n",
       " (2584, 0.5005271878294923),\n",
       " (2585, 0.5006025911419102),\n",
       " (2586, 0.5006780171764351),\n",
       " (2587, 0.5007534659433394),\n",
       " (2588, 0.5008289374529012),\n",
       " (2589, 0.5007536930961712),\n",
       " (2590, 0.5008291873963516),\n",
       " (2591, 0.5009047044632087),\n",
       " (2592, 0.5009802443070427),\n",
       " (2593, 0.5010558069381599),\n",
       " (2594, 0.5009805400512898),\n",
       " (2595, 0.5009808359740455),\n",
       " (2596, 0.5011320754716981),\n",
       " (2597, 0.5010567632850241),\n",
       " (2598, 0.5011324173335346),\n",
       " (2599, 0.50120809423135),\n",
       " (2600, 0.5012837939888234),\n",
       " (2601, 0.5012841819005892),\n",
       " (2602, 0.5012088244182532),\n",
       " (2603, 0.5011334441589844),\n",
       " (2604, 0.5012091898428053),\n",
       " (2605, 0.5011337868480725),\n",
       " (2606, 0.501209555488358),\n",
       " (2607, 0.5012853470437018),\n",
       " (2608, 0.5015151515151515),\n",
       " (2609, 0.5017432166136122),\n",
       " (2610, 0.502889294403893),\n",
       " (2611, 0.5029657794676806),\n",
       " (2612, 0.5030422878004259),\n",
       " (2613, 0.5029666818804199),\n",
       " (2614, 0.503043213633597),\n",
       " (2615, 0.503272948698432),\n",
       " (2616, 0.5034262220191869),\n",
       " (2617, 0.5035028936947914),\n",
       " (2618, 0.5035795887281036),\n",
       " (2619, 0.5035039609993907),\n",
       " (2620, 0.5036574215178299),\n",
       " (2621, 0.5037341868617589),\n",
       " (2622, 0.5038109756097561),\n",
       " (2623, 0.503735325506937),\n",
       " (2624, 0.503888973615983),\n",
       " (2625, 0.5038133007931666),\n",
       " (2626, 0.5038901601830663),\n",
       " (2627, 0.503967043027159),\n",
       " (2628, 0.5040439493361819),\n",
       " (2629, 0.5041208791208791),\n",
       " (2630, 0.5041978323920012),\n",
       " (2631, 0.5042748091603053),\n",
       " (2632, 0.5043518094365552),\n",
       " (2633, 0.5044288332315211),\n",
       " (2634, 0.5045058805559799),\n",
       " (2635, 0.504582951420715),\n",
       " (2636, 0.5046600458365165),\n",
       " (2637, 0.5048143053645117),\n",
       " (2638, 0.5048914704983185),\n",
       " (2639, 0.5048157774040667),\n",
       " (2640, 0.5048929663608562),\n",
       " (2641, 0.5049701789264414),\n",
       " (2642, 0.505047415111655),\n",
       " (2643, 0.5051246749273367),\n",
       " (2644, 0.5052035506580961),\n",
       " (2645, 0.5052808816776366),\n",
       " (2646, 0.5053582363747704),\n",
       " (2647, 0.5054356147603736),\n",
       " (2648, 0.5055130168453292),\n",
       " (2649, 0.5055904426405269),\n",
       " (2650, 0.5055147058823529),\n",
       " (2651, 0.5059040024536114),\n",
       " (2652, 0.5058282208588957),\n",
       " (2653, 0.5059058137751189),\n",
       " (2654, 0.5058300092052777),\n",
       " (2655, 0.505907626208378),\n",
       " (2656, 0.5058317986494782),\n",
       " (2657, 0.5057559478127398),\n",
       " (2658, 0.5060666564275841),\n",
       " (2659, 0.5059907834101383),\n",
       " (2660, 0.506068520510063),\n",
       " (2661, 0.5061462814996927),\n",
       " (2662, 0.5062240663900415),\n",
       " (2663, 0.5063018751921303),\n",
       " (2664, 0.5065354451791481),\n",
       " (2665, 0.5066153846153846),\n",
       " (2666, 0.5068493150684932),\n",
       " (2667, 0.5069273399014779),\n",
       " (2668, 0.507161558601571),\n",
       " (2669, 0.5072396796056685),\n",
       " (2670, 0.5073178246803266),\n",
       " (2671, 0.5072419106317412),\n",
       " (2672, 0.5088126159554731),\n",
       " (2673, 0.5088912942631824),\n",
       " (2674, 0.5088153417878132),\n",
       " (2675, 0.5092879256965944),\n",
       " (2676, 0.5092119523145998),\n",
       " (2677, 0.5092908021059152),\n",
       " (2678, 0.5092148056372928),\n",
       " (2679, 0.5092936802973977),\n",
       " (2680, 0.5093725793958171),\n",
       " (2681, 0.5100077579519007),\n",
       " (2682, 0.5100869025450031),\n",
       " (2683, 0.5101660717057271),\n",
       " (2684, 0.5100900341508848),\n",
       " (2685, 0.5101692283806862),\n",
       " (2686, 0.5100931677018633),\n",
       " (2687, 0.5100170833980432),\n",
       " (2688, 0.5100963031997515),\n",
       " (2689, 0.5101755476153488),\n",
       " (2690, 0.5102548166563082),\n",
       " (2691, 0.5103341103341104),\n",
       " (2692, 0.5104134286602424),\n",
       " (2693, 0.5104927716461993),\n",
       " (2694, 0.5105721393034826),\n",
       " (2695, 0.5106515316436013),\n",
       " (2696, 0.5107309486780716),\n",
       " (2697, 0.51065484523254),\n",
       " (2698, 0.5108137544733157),\n",
       " (2699, 0.5108932461873639),\n",
       " (2700, 0.5108171206225681),\n",
       " (2701, 0.5109830191618632),\n",
       " (2702, 0.5110626363353069),\n",
       " (2703, 0.5112219451371571),\n",
       " (2704, 0.5110695353913315),\n",
       " (2705, 0.5109170305676856),\n",
       " (2706, 0.5109967243799719),\n",
       " (2707, 0.511000156030582),\n",
       " (2708, 0.5111596691119088),\n",
       " (2709, 0.5112394630034343),\n",
       " (2710, 0.5111631537861046),\n",
       " (2711, 0.5110868207370394),\n",
       " (2712, 0.5111666406372013),\n",
       " (2713, 0.5110902842861605),\n",
       " (2714, 0.5113334375488511),\n",
       " (2715, 0.5114133833646028),\n",
       " (2716, 0.5114933541829554),\n",
       " (2717, 0.5114169533938067),\n",
       " (2718, 0.5118171857880732),\n",
       " (2719, 0.5118973074514716),\n",
       " (2720, 0.5119047619047619),\n",
       " (2721, 0.5119849600501332),\n",
       " (2722, 0.5120651833281104),\n",
       " (2723, 0.5121454317505093),\n",
       " (2724, 0.5122257053291536),\n",
       " (2725, 0.512306004075874),\n",
       " (2726, 0.5123863280025086),\n",
       " (2727, 0.5124666771209032),\n",
       " (2728, 0.5124705882352941),\n",
       " (2729, 0.5123941010354566),\n",
       " (2730, 0.5125549278091651),\n",
       " (2731, 0.5126353790613718),\n",
       " (2732, 0.5127158555729985),\n",
       " (2733, 0.5127963573559429),\n",
       " (2734, 0.5127238454288408),\n",
       " (2735, 0.5128043990573449),\n",
       " (2736, 0.5128849780012571),\n",
       " (2737, 0.5128084236995128),\n",
       " (2738, 0.5128890286073562),\n",
       " (2739, 0.5128124508725044),\n",
       " (2740, 0.5128930817610063),\n",
       " (2741, 0.5129737380091209),\n",
       " (2742, 0.513054419628814),\n",
       " (2743, 0.5131351266320592),\n",
       " (2744, 0.513215859030837),\n",
       " (2745, 0.5130626377085301),\n",
       " (2746, 0.5131433968203998),\n",
       " (2747, 0.5132241813602015),\n",
       " (2748, 0.5133049913399464),\n",
       " (2749, 0.5132283464566929),\n",
       " (2750, 0.5133091825484328),\n",
       " (2751, 0.5133900441083806),\n",
       " (2752, 0.5135561160151324),\n",
       " (2753, 0.5137180700094608),\n",
       " (2754, 0.5138034390282379),\n",
       " (2755, 0.5138845061533607),\n",
       " (2756, 0.5139655988638157),\n",
       " (2757, 0.5140467171717171),\n",
       " (2758, 0.5141278610891871),\n",
       " (2759, 0.514290225801358),\n",
       " (2760, 0.5145385587863464),\n",
       " (2761, 0.5146198830409356),\n",
       " (2762, 0.5145431552323744),\n",
       " (2763, 0.5144664031620554),\n",
       " (2764, 0.5145477545857052),\n",
       " (2765, 0.514629131741262),\n",
       " (2766, 0.5145523568490984),\n",
       " (2767, 0.5146337604809366),\n",
       " (2768, 0.5147151898734177),\n",
       " (2769, 0.514796645038772),\n",
       " (2770, 0.5148828372387587),\n",
       " (2771, 0.5149643705463183),\n",
       " (2772, 0.5148875514729173),\n",
       " (2773, 0.5149691113575162),\n",
       " (2774, 0.5150506970849176),\n",
       " (2775, 0.5151323086674061),\n",
       " (2776, 0.5152139461172741),\n",
       " (2777, 0.515295609446822),\n",
       " (2778, 0.5152187698161065),\n",
       " (2779, 0.5153004598065641),\n",
       " (2780, 0.5153821757056771),\n",
       " (2781, 0.5153053132434575),\n",
       " (2782, 0.5154835636017151),\n",
       " (2783, 0.5155654383735705),\n",
       " (2784, 0.5154884829229547),\n",
       " (2785, 0.515570384493168),\n",
       " (2786, 0.5160674514794782),\n",
       " (2787, 0.5161495624502784),\n",
       " (2788, 0.5162316995544239),\n",
       " (2789, 0.5163138628043928),\n",
       " (2790, 0.5163960522126712),\n",
       " (2791, 0.5164782677917529),\n",
       " (2792, 0.5164012738853503),\n",
       " (2793, 0.5164835164835165),\n",
       " (2794, 0.5164064988849952),\n",
       " (2795, 0.5163294567468536),\n",
       " (2796, 0.5164117272147865),\n",
       " (2797, 0.5164940239043825),\n",
       " (2798, 0.5164169588779088),\n",
       " (2799, 0.5164992826398852),\n",
       " (2800, 0.5165816326530612),\n",
       " (2801, 0.5167464114832536),\n",
       " (2802, 0.5168288403254108),\n",
       " (2803, 0.5169937769267592),\n",
       " (2804, 0.5170762847111395),\n",
       " (2805, 0.5171588188347965),\n",
       " (2806, 0.5172413793103449),\n",
       " (2807, 0.5173239661504071),\n",
       " (2808, 0.5175718849840255),\n",
       " (2809, 0.5176545774085317),\n",
       " (2810, 0.5177372962607862),\n",
       " (2811, 0.5176602205529807),\n",
       " (2812, 0.5177429667519181),\n",
       " (2813, 0.5178257394084732),\n",
       " (2814, 0.5177486408698433),\n",
       " (2815, 0.517831440908364),\n",
       " (2816, 0.5177543186180422),\n",
       " (2817, 0.5178371460566309),\n",
       " (2818, 0.51792),\n",
       " (2819, 0.5180857874519846),\n",
       " (2820, 0.5181687209860734),\n",
       " (2821, 0.5182516810758886),\n",
       " (2822, 0.5183346677341873),\n",
       " (2823, 0.5184176809737348),\n",
       " (2824, 0.5185837872476771),\n",
       " (2825, 0.518666880307643),\n",
       " (2826, 0.51875),\n",
       " (2827, 0.5186728642410643),\n",
       " (2828, 0.518756011542161),\n",
       " (2829, 0.5188391855058522),\n",
       " (2830, 0.5188512754692765),\n",
       " (2831, 0.5187740693196405),\n",
       " (2832, 0.5188573262718664),\n",
       " (2833, 0.5189406099518459),\n",
       " (2834, 0.5190239203724515),\n",
       " (2835, 0.518946692357097),\n",
       " (2836, 0.5190300305122852),\n",
       " (2837, 0.5189527786700932),\n",
       " (2838, 0.5188755020080321),\n",
       " (2839, 0.5189588688946015),\n",
       " (2840, 0.5191256830601093),\n",
       " (2841, 0.5192091303648931),\n",
       " (2842, 0.5192926045016077),\n",
       " (2843, 0.5193761054831967),\n",
       " (2844, 0.5194596333226118),\n",
       " (2845, 0.5195431880328133),\n",
       " (2846, 0.5194658944658944),\n",
       " (2847, 0.5195494770716009),\n",
       " (2848, 0.5196330865786932),\n",
       " (2849, 0.5197167230001609),\n",
       " (2850, 0.5198003863490019),\n",
       " (2851, 0.5200515380898696),\n",
       " (2852, 0.5203291384317522),\n",
       " (2853, 0.5204131031144102),\n",
       " (2854, 0.5204970948999355),\n",
       " (2855, 0.5206651598320956),\n",
       " (2856, 0.5215140731154966),\n",
       " (2857, 0.52159844685326),\n",
       " (2858, 0.5216828478964401),\n",
       " (2859, 0.5217672762582942),\n",
       " (2860, 0.521851731952088),\n",
       " (2861, 0.521936214991096),\n",
       " (2862, 0.522020725388601),\n",
       " (2863, 0.5221052631578947),\n",
       " (2864, 0.5220278587625526),\n",
       " (2865, 0.5220421393841167),\n",
       " (2866, 0.5221267628464905),\n",
       " (2867, 0.5235533822330888),\n",
       " (2868, 0.5239105598172026),\n",
       " (2869, 0.5240973697108315),\n",
       " (2870, 0.5243543641712978),\n",
       " (2871, 0.5244400850089913),\n",
       " (2872, 0.5245258338783518),\n",
       " (2873, 0.5246116107931317),\n",
       " (2874, 0.5246196630132505),\n",
       " (2875, 0.5245418848167539),\n",
       " (2876, 0.5247135842880524),\n",
       " (2877, 0.5247994761826813),\n",
       " (2878, 0.5247216764898494),\n",
       " (2879, 0.5248075978385459),\n",
       " (2880, 0.5248935473304946),\n",
       " (2881, 0.5249795249795249),\n",
       " (2882, 0.5250655307994757),\n",
       " (2883, 0.5251515648041947),\n",
       " (2884, 0.5254959829480242),\n",
       " (2885, 0.5254181698917678),\n",
       " (2886, 0.5255043463998688),\n",
       " (2887, 0.5255905511811023),\n",
       " (2888, 0.5256767842493847),\n",
       " (2889, 0.5257630456186413),\n",
       " (2890, 0.5258493353028065),\n",
       " (2891, 0.5257715036112935),\n",
       " (2892, 0.5258578230175669),\n",
       " (2893, 0.5257799671592776),\n",
       " (2894, 0.5257020857283626),\n",
       " (2895, 0.5257884362680684),\n",
       " (2896, 0.5257105306390668),\n",
       " (2897, 0.5257189811010682),\n",
       " (2898, 0.5261513157894737),\n",
       " (2899, 0.5262378680704063),\n",
       " (2900, 0.5263244488318526),\n",
       " (2901, 0.5262465032088202),\n",
       " (2902, 0.5263331138907176),\n",
       " (2903, 0.5263417846559104),\n",
       " (2904, 0.5264284538119546),\n",
       " (2905, 0.5265151515151515),\n",
       " (2906, 0.526601877779608),\n",
       " (2907, 0.5266886326194399),\n",
       " (2908, 0.5266106442577031),\n",
       " (2909, 0.5266974291364536),\n",
       " (2910, 0.5271317829457365),\n",
       " (2911, 0.5272187396898713),\n",
       " (2912, 0.5273057251278667),\n",
       " (2913, 0.5273147384056776),\n",
       " (2914, 0.5274017827665897),\n",
       " (2915, 0.5274888558692422),\n",
       " (2916, 0.5274979355904211),\n",
       " (2917, 0.527585067723819),\n",
       " (2918, 0.527672228646952),\n",
       " (2919, 0.5277594183740912),\n",
       " (2920, 0.5278466369195174),\n",
       " (2921, 0.5279338842975206),\n",
       " (2922, 0.5289831069890693),\n",
       " (2923, 0.5290707304952791),\n",
       " (2924, 0.5291583830351226),\n",
       " (2925, 0.5292460646230324),\n",
       " (2926, 0.5292557599867396),\n",
       " (2927, 0.5296167247386759),\n",
       " (2928, 0.5297046133421839),\n",
       " (2929, 0.529792531120332),\n",
       " (2930, 0.5297144754316069),\n",
       " (2931, 0.5299784089021757),\n",
       " (2932, 0.530242605516783),\n",
       " (2933, 0.5303307295994681),\n",
       " (2934, 0.5305070656691604),\n",
       " (2935, 0.5305952776854007),\n",
       " (2936, 0.5307717897538257),\n",
       " (2937, 0.5310367781660842),\n",
       " (2938, 0.5311251664447404),\n",
       " (2939, 0.5312135841518228),\n",
       " (2940, 0.5311355311355311),\n",
       " (2941, 0.5310574521232306),\n",
       " (2942, 0.5311459027315123),\n",
       " (2943, 0.5312343828085957),\n",
       " (2944, 0.5314114314280953),\n",
       " (2945, 0.5312552092015336),\n",
       " (2946, 0.5313437812604201),\n",
       " (2947, 0.5314533622559653),\n",
       " (2948, 0.5315420560747663),\n",
       " (2949, 0.5316307795025872),\n",
       " (2950, 0.5317195325542571),\n",
       " (2951, 0.5321637426900585),\n",
       " (2952, 0.5322526737967914),\n",
       " (2953, 0.5324306252089602),\n",
       " (2954, 0.5325196455442234),\n",
       " (2955, 0.5327868852459017),\n",
       " (2956, 0.5327087167475322),\n",
       " (2957, 0.5327978580990629),\n",
       " (2958, 0.5329762303314363),\n",
       " (2959, 0.5336014747779454),\n",
       " (2960, 0.5336909151860543),\n",
       " (2961, 0.533612740989103),\n",
       " (2962, 0.533702213279678),\n",
       " (2963, 0.5337917155794063),\n",
       " (2964, 0.5337135189533714),\n",
       " (2965, 0.5340718361866398),\n",
       " (2966, 0.5341614906832298),\n",
       " (2967, 0.5342511752854264),\n",
       " (2968, 0.5341729638958858),\n",
       " (2969, 0.5342626805508902),\n",
       " (2970, 0.5343524273475558),\n",
       " (2971, 0.5344422043010753),\n",
       " (2972, 0.534532011426651),\n",
       " (2973, 0.534453781512605),\n",
       " (2974, 0.5345436207766011),\n",
       " (2975, 0.5346334902488231),\n",
       " (2976, 0.5347233899445099),\n",
       " (2977, 0.5348250336473755),\n",
       " (2978, 0.5347467608951708),\n",
       " (2979, 0.5348367553012454),\n",
       " (2980, 0.5349267800033665),\n",
       " (2981, 0.5350168350168351),\n",
       " (2982, 0.5349385418420609),\n",
       " (2983, 0.5351187468418394),\n",
       " (2984, 0.5352088948787062),\n",
       " (2985, 0.5352990732940185),\n",
       " (2986, 0.5353892821031345),\n",
       " (2987, 0.5354795213214225),\n",
       " (2988, 0.5355697909642616),\n",
       " (2989, 0.5356600910470409),\n",
       " (2990, 0.5355034575813796),\n",
       " (2991, 0.5355937921727395),\n",
       " (2992, 0.5355154378268939),\n",
       " (2993, 0.535437057036787),\n",
       " (2994, 0.5356178257933828),\n",
       " (2995, 0.535708255951376),\n",
       " (2996, 0.5357987166497805),\n",
       " (2997, 0.5358892079040702),\n",
       " (2998, 0.5359797297297297),\n",
       " (2999, 0.535901334684913),\n",
       " (3000, 0.5359918891517405),\n",
       " (3001, 0.5360824742268041),\n",
       " (3002, 0.5380425531914894),\n",
       " (3003, 0.5381341504937011),\n",
       " (3004, 0.5381471389645777),\n",
       " (3005, 0.5382388008857094),\n",
       " (3006, 0.5381601362862011),\n",
       " (3007, 0.5380814448798773),\n",
       " (3008, 0.538173142467621),\n",
       " (3009, 0.5382648713141299),\n",
       " (3010, 0.5383566314353904),\n",
       " (3011, 0.5382779198635976),\n",
       " (3012, 0.5383697135061392),\n",
       " (3013, 0.5384615384615384),\n",
       " (3014, 0.5386452823750213),\n",
       " (3015, 0.5385665529010238),\n",
       " (3016, 0.5386584741423451),\n",
       " (3017, 0.5387504267668146),\n",
       " (3018, 0.5388424107905071),\n",
       " (3019, 0.5389344262295082),\n",
       " (3020, 0.5390264730999146),\n",
       " (3021, 0.5389477280491971),\n",
       " (3022, 0.5390398086451392),\n",
       " (3023, 0.5391319207108681),\n",
       " (3024, 0.5393162393162393),\n",
       " (3025, 0.539237476491708),\n",
       " (3026, 0.5391586867305062),\n",
       " (3027, 0.539172083475881),\n",
       " (3028, 0.5391066233099435),\n",
       " (3029, 0.5390277302293734),\n",
       " (3030, 0.5390410958904109),\n",
       " (3031, 0.5391334132556944),\n",
       " (3032, 0.5392661179698217),\n",
       " (3033, 0.5394511149228131),\n",
       " (3034, 0.5395436610053183),\n",
       " (3035, 0.5396362388469458),\n",
       " (3036, 0.5397288484640467),\n",
       " (3037, 0.5396498455200824),\n",
       " (3038, 0.5397424892703863),\n",
       " (3039, 0.5398351648351648),\n",
       " (3040, 0.5399278722308088),\n",
       " (3041, 0.5402990204502491),\n",
       " (3042, 0.5403918872464765),\n",
       " (3043, 0.5405777166437414),\n",
       " (3044, 0.5404987102321582),\n",
       " (3045, 0.5405916752665979),\n",
       " (3046, 0.5406846722862549),\n",
       " (3047, 0.5407777013076394),\n",
       " (3048, 0.5408707623472724),\n",
       " (3049, 0.5407917383820998),\n",
       " (3050, 0.5408848338784644),\n",
       " (3051, 0.5409779614325069),\n",
       " (3052, 0.5408989151024626),\n",
       " (3053, 0.5409920771615571),\n",
       " (3054, 0.5408339076498966),\n",
       " (3055, 0.5410344827586206),\n",
       " (3056, 0.5409553371270909),\n",
       " (3057, 0.5408761641945499),\n",
       " (3058, 0.5407177363699103),\n",
       " (3059, 0.5408110440034513),\n",
       " (3060, 0.5409185082872928),\n",
       " (3061, 0.5410119150405802),\n",
       " (3062, 0.5411988253584384),\n",
       " (3063, 0.5411195577055978),\n",
       " (3064, 0.5412130637636081),\n",
       " (3065, 0.5414001728608471),\n",
       " (3066, 0.5415874113781775),\n",
       " (3067, 0.5416810792113456),\n",
       " (3068, 0.5416017989967133),\n",
       " (3069, 0.5416955017301038),\n",
       " (3070, 0.5417892368921959),\n",
       " (3071, 0.541883004499827),\n",
       " (3072, 0.5418037043448156),\n",
       " (3073, 0.5418975069252078),\n",
       " (3074, 0.5418181818181819),\n",
       " (3075, 0.5419120193972983),\n",
       " (3076, 0.5420058894855361),\n",
       " (3077, 0.5421937272569746),\n",
       " (3078, 0.5421143847487002),\n",
       " (3079, 0.5420350147339227),\n",
       " (3080, 0.5421289875173371),\n",
       " (3081, 0.5422229928905844),\n",
       " (3082, 0.5423170308706209),\n",
       " (3083, 0.5425052047189451),\n",
       " (3084, 0.5425993406212042),\n",
       " (3085, 0.542693509198195),\n",
       " (3086, 0.5427877104669329),\n",
       " (3087, 0.5428819444444445),\n",
       " (3088, 0.5429762111477687),\n",
       " (3089, 0.5428968391802709),\n",
       " (3090, 0.5434782608695652),\n",
       " (3091, 0.5435879589350966),\n",
       " (3092, 0.5436825617821093),\n",
       " (3093, 0.543712991988854),\n",
       " (3094, 0.5438076990071417),\n",
       " (3095, 0.5439024390243903),\n",
       " (3096, 0.5438229656734622),\n",
       " (3097, 0.5439177413733008),\n",
       " (3098, 0.544202266782912),\n",
       " (3099, 0.5448191507950376),\n",
       " (3100, 0.5450096137038979),\n",
       " (3101, 0.54493006993007),\n",
       " (3102, 0.5450253540828817),\n",
       " (3103, 0.5451206715634838),\n",
       " (3104, 0.5452160223893651),\n",
       " (3105, 0.5453114065780266),\n",
       " (3106, 0.5454068241469816),\n",
       " (3107, 0.5453272663633182),\n",
       " (3108, 0.5453431372549019),\n",
       " (3109, 0.5454386272106462),\n",
       " (3110, 0.5455341506129597),\n",
       " (3111, 0.5456297074794184),\n",
       " (3112, 0.5457252978276104),\n",
       " (3113, 0.5456456982652882),\n",
       " (3114, 0.5457413249211357),\n",
       " (3115, 0.5458369851007888),\n",
       " (3116, 0.5459326788218793),\n",
       " (3117, 0.5459487898982813),\n",
       " (3118, 0.54604455358709),\n",
       " (3119, 0.546140350877193),\n",
       " (3120, 0.5460768825697736),\n",
       " (3121, 0.5463645943097998),\n",
       " (3122, 0.5464605656068856),\n",
       " (3123, 0.5463808854532678),\n",
       " (3124, 0.546476893340362),\n",
       " (3125, 0.546572934973638),\n",
       " (3126, 0.5464932325540517),\n",
       " (3127, 0.5463337436258132),\n",
       " (3128, 0.5464298276468519),\n",
       " (3129, 0.546622097114708),\n",
       " (3130, 0.5467182825972198),\n",
       " (3131, 0.5467347298010914),\n",
       " (3132, 0.5466549295774648),\n",
       " (3133, 0.5467511885895404),\n",
       " (3134, 0.5468474815075731),\n",
       " (3135, 0.5469438083494803),\n",
       " (3136, 0.5470401691331924),\n",
       " (3137, 0.547136563876652),\n",
       " (3138, 0.5470567500881213),\n",
       " (3139, 0.5472496473906912),\n",
       " (3140, 0.5471698113207547),\n",
       " (3141, 0.5470899470899471),\n",
       " (3142, 0.5471864526371494),\n",
       " (3143, 0.5472829922371206),\n",
       " (3144, 0.5473795659078877),\n",
       " (3145, 0.5472996823155666),\n",
       " (3146, 0.5472197705207414),\n",
       " (3147, 0.5471398305084746),\n",
       " (3148, 0.5472364471128377),\n",
       " (3149, 0.5470764882529588),\n",
       " (3150, 0.5472698356600106),\n",
       " (3151, 0.5471898197242842),\n",
       " (3152, 0.5473833097595474),\n",
       " (3153, 0.547576936681995),\n",
       " (3154, 0.5474969042986025),\n",
       " (3155, 0.5475937721160651),\n",
       " (3156, 0.5477075588599752),\n",
       " (3157, 0.5478045325779037),\n",
       " (3158, 0.5479015406410483),\n",
       " (3159, 0.5479985830676585),\n",
       " (3160, 0.5480956598759965),\n",
       " (3161, 0.5480155917788803),\n",
       " (3162, 0.5479354953039164),\n",
       " (3163, 0.5478553704360156),\n",
       " (3164, 0.547775217160078),\n",
       " (3165, 0.5479694981379677),\n",
       " (3166, 0.5478893224547712),\n",
       " (3167, 0.547986517651233),\n",
       " (3168, 0.5480837473385379),\n",
       " (3169, 0.548278310259141),\n",
       " (3170, 0.548198118231848),\n",
       " (3171, 0.5482954545454546),\n",
       " (3172, 0.5483928254306517),\n",
       " (3173, 0.5485876709895185),\n",
       " (3174, 0.5485074626865671),\n",
       " (3175, 0.5484272258752444),\n",
       " (3176, 0.5483469605403484),\n",
       " (3177, 0.5484444444444444),\n",
       " (3178, 0.5484616752623155),\n",
       " (3179, 0.5485592315901814),\n",
       " (3180, 0.5484789183419321),\n",
       " (3181, 0.5484961736963873),\n",
       " (3182, 0.5486111111111112),\n",
       " (3183, 0.5484503028143926),\n",
       " (3184, 0.5486457590876693),\n",
       " (3185, 0.5487435394760293),\n",
       " (3186, 0.5488413547237077),\n",
       " (3187, 0.5487783128232566),\n",
       " (3188, 0.548876204067071),\n",
       " (3189, 0.5487957181088314),\n",
       " (3190, 0.548893647394718),\n",
       " (3191, 0.5488131358200964),\n",
       " (3192, 0.5489111031774366),\n",
       " (3193, 0.549009105516872),\n",
       " (3194, 0.5491071428571429),\n",
       " (3195, 0.549205215217003),\n",
       " (3196, 0.5493033226152197),\n",
       " (3197, 0.5494014650705735),\n",
       " (3198, 0.5494996426018585),\n",
       " (3199, 0.5495978552278821),\n",
       " (3200, 0.5496961029674652),\n",
       " (3201, 0.550026848040093),\n",
       " (3202, 0.5499462943071965),\n",
       " (3203, 0.5501432664756447),\n",
       " (3204, 0.5500626903098692),\n",
       " (3205, 0.5501612325331422),\n",
       " (3206, 0.5502598100698799),\n",
       " (3207, 0.5503584229390681),\n",
       " (3208, 0.550457071159706),\n",
       " (3209, 0.5503764790247401),\n",
       " (3210, 0.5502958579881657),\n",
       " (3211, 0.5502152080344332),\n",
       " (3212, 0.5501345291479821),\n",
       " (3213, 0.5503319576529697),\n",
       " (3214, 0.550251256281407),\n",
       " (3215, 0.5503500269251481),\n",
       " (3216, 0.5502692998204668),\n",
       " (3217, 0.5501885437241875),\n",
       " (3218, 0.5502873563218391),\n",
       " (3219, 0.5504850880344951),\n",
       " (3220, 0.5506021930612979),\n",
       " (3221, 0.5507011866235167),\n",
       " (3222, 0.5508992805755396),\n",
       " (3223, 0.5509983810037776),\n",
       " (3224, 0.5510975170924793),\n",
       " (3225, 0.5511966888608961),\n",
       " (3226, 0.5512958963282938),\n",
       " (3227, 0.5514136502791284),\n",
       " (3228, 0.5518111371418274),\n",
       " (3229, 0.5519105984138428),\n",
       " (3230, 0.5520100955471426),\n",
       " (3231, 0.5520476276384629),\n",
       " (3232, 0.5522468868435301),\n",
       " (3233, 0.5523465703971119),\n",
       " (3234, 0.5523654749006862),\n",
       " (3235, 0.5522846306664259),\n",
       " (3236, 0.5527792866195907),\n",
       " (3237, 0.552698297718218),\n",
       " (3238, 0.5530179445350734),\n",
       " (3239, 0.5529369108049311),\n",
       " (3240, 0.5530371713508613),\n",
       " (3241, 0.552956111715633),\n",
       " (3242, 0.5530564121168148),\n",
       " (3243, 0.5531567489114659),\n",
       " (3244, 0.5530756668481219),\n",
       " (3245, 0.5531760435571688),\n",
       " (3246, 0.5530949355599928),\n",
       " (3247, 0.5530137981118374),\n",
       " (3248, 0.553214674900109),\n",
       " (3249, 0.553133514986376),\n",
       " (3250, 0.553234011627907),\n",
       " (3251, 0.5531528257314192),\n",
       " (3252, 0.5530716103235187),\n",
       " (3253, 0.5531721505180877),\n",
       " (3254, 0.5532727272727272),\n",
       " (3255, 0.5533733406073832),\n",
       " (3256, 0.5534739905420153),\n",
       " (3257, 0.5535746770965981),\n",
       " (3258, 0.5535129231889334),\n",
       " (3259, 0.553714493809177),\n",
       " (3260, 0.5538153341832089),\n",
       " (3261, 0.5539162112932605),\n",
       " (3262, 0.5540171251594097),\n",
       " (3263, 0.5541180758017493),\n",
       " (3264, 0.5542190632403864),\n",
       " (3265, 0.5543200874954429),\n",
       " (3266, 0.5544211485870556),\n",
       " (3267, 0.5545222465353756),\n",
       " (3268, 0.554623381360569),\n",
       " (3269, 0.5545421379058738),\n",
       " (3270, 0.554643313264003),\n",
       " (3271, 0.554845774776419),\n",
       " (3272, 0.5550483841519079),\n",
       " (3273, 0.5551497443389335),\n",
       " (3274, 0.5552511415525114),\n",
       " (3275, 0.5553525758129338),\n",
       " (3276, 0.5552713319934223),\n",
       " (3277, 0.5554743191372692),\n",
       " (3278, 0.5555758683729434),\n",
       " (3279, 0.5556774547449259),\n",
       " (3280, 0.555596196049744),\n",
       " (3281, 0.5556978233034571),\n",
       " (3282, 0.5557994877424076),\n",
       " (3283, 0.5559421351400843),\n",
       " (3284, 0.5558608058608059),\n",
       " (3285, 0.5557794467851255),\n",
       " (3286, 0.5558812751923782),\n",
       " (3287, 0.5559831409199194),\n",
       " (3288, 0.5560850439882697),\n",
       " (3289, 0.5560036663611365),\n",
       " (3290, 0.555922258892556),\n",
       " (3291, 0.5568014705882353),\n",
       " (3292, 0.5573348058163078),\n",
       " (3293, 0.5575400478733198),\n",
       " (3294, 0.557745441149383),\n",
       " (3295, 0.5578481945467944),\n",
       " (3296, 0.5579509858116823),\n",
       " (3297, 0.5580538149649834),\n",
       " (3298, 0.5581566820276498),\n",
       " (3299, 0.5582595870206489),\n",
       " (3300, 0.5581781301862437),\n",
       " (3301, 0.5582810770933235),\n",
       " (3302, 0.5583840619811843),\n",
       " (3303, 0.5584870848708487),\n",
       " (3304, 0.5585901457833549),\n",
       " (3305, 0.5586932447397563),\n",
       " (3306, 0.558714918759232),\n",
       " (3307, 0.5586334256694367),\n",
       " (3308, 0.5587366087920207),\n",
       " (3309, 0.5586550895991133),\n",
       " (3310, 0.5585735402808574),\n",
       " (3311, 0.5587800369685767),\n",
       " (3312, 0.5588833425771862),\n",
       " (3313, 0.5587201775476235),\n",
       " (3314, 0.5588235294117647),\n",
       " (3315, 0.5589269195189639),\n",
       " (3316, 0.5590303478904515),\n",
       " (3317, 0.5591338145474736),\n",
       " (3318, 0.5591557119052027),\n",
       " (3319, 0.5590740740740741),\n",
       " (3320, 0.5591776254862012),\n",
       " (3321, 0.5593031875463306),\n",
       " (3322, 0.5592215013901761),\n",
       " (3323, 0.5593251761216166),\n",
       " (3324, 0.5594509367464292),\n",
       " (3325, 0.5593692022263451),\n",
       " (3326, 0.5593912397921307),\n",
       " (3327, 0.5595171773444754),\n",
       " (3328, 0.5597250603752554),\n",
       " (3329, 0.5596432552954292),\n",
       " (3330, 0.5597472588738153),\n",
       " (3331, 0.5598513011152416),\n",
       " (3332, 0.5597694738799033),\n",
       " (3333, 0.5599776827227079),\n",
       " (3334, 0.5598958333333334),\n",
       " (3335, 0.56),\n",
       " (3336, 0.5599181243021958),\n",
       " (3337, 0.5600223338916807),\n",
       " (3338, 0.5602308694842674),\n",
       " (3339, 0.5603351955307263),\n",
       " (3340, 0.5604395604395604),\n",
       " (3341, 0.5603576751117735),\n",
       " (3342, 0.5605665300037271),\n",
       " (3343, 0.5606710158434296),\n",
       " (3344, 0.5607755406413124),\n",
       " (3345, 0.5608801044191684),\n",
       " (3346, 0.5611940298507463),\n",
       " (3347, 0.5612987497667475),\n",
       " (3348, 0.5614035087719298),\n",
       " (3349, 0.5615083068881837),\n",
       " (3350, 0.561613144137416),\n",
       " (3351, 0.56171802054155),\n",
       " (3352, 0.5618229361225252),\n",
       " (3353, 0.5619278909022978),\n",
       " (3354, 0.5620328849028401),\n",
       " (3355, 0.5619510371893104),\n",
       " (3356, 0.5620560747663551),\n",
       " (3357, 0.5619742007851934),\n",
       " (3358, 0.5618922961854899),\n",
       " (3359, 0.5619973817093697),\n",
       " (3360, 0.562102506546951),\n",
       " (3361, 0.5622076707202993),\n",
       " (3362, 0.562312874251497),\n",
       " (3363, 0.5622309563915403),\n",
       " (3364, 0.5621490078622239),\n",
       " (3365, 0.562254259501966),\n",
       " (3366, 0.5623595505617978),\n",
       " (3367, 0.5630157539384846),\n",
       " (3368, 0.5631213655974489),\n",
       " (3369, 0.5630393996247655),\n",
       " (3370, 0.562957402889848),\n",
       " (3371, 0.5629810399849822),\n",
       " (3372, 0.5628989861058956),\n",
       " (3373, 0.5629226145755072),\n",
       " (3374, 0.5628405034754838),\n",
       " (3375, 0.562946260804209),\n",
       " (3376, 0.5630520578838564),\n",
       " (3377, 0.5629699248120301),\n",
       " (3378, 0.562887760857304),\n",
       " (3379, 0.5629936066190298),\n",
       " (3380, 0.5630994921948467),\n",
       " (3381, 0.5630173062452972),\n",
       " (3382, 0.5629350893697084),\n",
       " (3383, 0.5629587803500847),\n",
       " (3384, 0.5630647590361446),\n",
       " (3385, 0.5630885122410546),\n",
       " (3386, 0.5634068211795742),\n",
       " (3387, 0.5635130041462495),\n",
       " (3388, 0.5636192271442035),\n",
       " (3389, 0.5637254901960784),\n",
       " (3390, 0.5638317933245333),\n",
       " (3391, 0.5639381365522445),\n",
       " (3392, 0.5638558762497642),\n",
       " (3393, 0.5637735849056604),\n",
       " (3394, 0.5637976594941487),\n",
       " (3395, 0.563904096658486),\n",
       " (3396, 0.5638217522658611),\n",
       " (3397, 0.5639282341831917),\n",
       " (3398, 0.5638458632414054),\n",
       " (3399, 0.5639523899489892),\n",
       " (3400, 0.5645100264850549),\n",
       " (3401, 0.5646168401135289),\n",
       " (3402, 0.5645344436033308),\n",
       " (3403, 0.5646413022903654),\n",
       " (3404, 0.5646657829956447),\n",
       " (3405, 0.5645833333333333),\n",
       " (3406, 0.5646902822504262),\n",
       " (3407, 0.5647972716938234),\n",
       " (3408, 0.5647148000758007),\n",
       " (3409, 0.5648218347232752),\n",
       " (3410, 0.5649289099526066),\n",
       " (3411, 0.5650360257868791),\n",
       " (3412, 0.565143182249194),\n",
       " (3413, 0.5653576171504459),\n",
       " (3414, 0.5655722148415259),\n",
       " (3415, 0.5655971141067021),\n",
       " (3416, 0.5657045195594379),\n",
       " (3417, 0.5658119658119658),\n",
       " (3418, 0.5660269808094243),\n",
       " (3419, 0.566242159285307),\n",
       " (3420, 0.5663498098859315),\n",
       " (3421, 0.5663750475465956),\n",
       " (3422, 0.5664827848582842),\n",
       " (3423, 0.5665905631659056),\n",
       " (3424, 0.566698382492864),\n",
       " (3425, 0.5668062428625809),\n",
       " (3426, 0.5669141442984961),\n",
       " (3427, 0.5670220868240671),\n",
       " (3428, 0.567130070462769),\n",
       " (3429, 0.5673718315227749),\n",
       " (3430, 0.5674799847502859),\n",
       " (3431, 0.567397521448999),\n",
       " (3432, 0.5675057208237986),\n",
       " (3433, 0.5674232309746329),\n",
       " (3434, 0.5673407096528043),\n",
       " (3435, 0.5673664122137405),\n",
       " (3436, 0.5672012218403971),\n",
       " (3437, 0.567309528355929),\n",
       " (3438, 0.5675262655205349),\n",
       " (3439, 0.5676605504587156),\n",
       " (3440, 0.5676864244741874),\n",
       " (3441, 0.5677949894817365),\n",
       " (3442, 0.5679035960214232),\n",
       " (3443, 0.5678209297876411),\n",
       " (3444, 0.567929582854956),\n",
       " (3445, 0.5680382775119617),\n",
       " (3446, 0.5681470137825421),\n",
       " (3447, 0.5682557916905993),\n",
       " (3448, 0.5683646112600537),\n",
       " (3449, 0.5684734725148439),\n",
       " (3450, 0.5685823754789272),\n",
       " (3451, 0.5688003066308931),\n",
       " (3452, 0.5687176538240368),\n",
       " (3453, 0.5686349693251533),\n",
       " (3454, 0.5687440076701822),\n",
       " (3455, 0.5689622098599655),\n",
       " (3456, 0.569071373752878),\n",
       " (3457, 0.5689886777969679),\n",
       " (3458, 0.5690978886756238),\n",
       " (3459, 0.5692071414858898),\n",
       " (3460, 0.5693164362519201),\n",
       " (3461, 0.5694257729978874),\n",
       " (3462, 0.5695351517479831),\n",
       " (3463, 0.5697540353574174),\n",
       " (3464, 0.5698635402652316),\n",
       " (3465, 0.5698904056912132),\n",
       " (3466, 0.57),\n",
       " (3467, 0.5699172917868821),\n",
       " (3468, 0.5701366172791995),\n",
       " (3469, 0.5702463433410315),\n",
       " (3470, 0.5703561116458132),\n",
       " (3471, 0.5704659222179438),\n",
       " (3472, 0.570575775081841),\n",
       " (3473, 0.5706856702619415),\n",
       " (3474, 0.5706029666730881),\n",
       " (3475, 0.5706301792252843),\n",
       " (3476, 0.5707401696222051),\n",
       " (3477, 0.5706574127626759),\n",
       " (3478, 0.570877531340405),\n",
       " (3479, 0.5707947530864198),\n",
       " (3480, 0.5709048813428517),\n",
       " (3481, 0.571015052103435),\n",
       " (3482, 0.5710424710424711),\n",
       " (3483, 0.571152732187681),\n",
       " (3484, 0.5710699111626111),\n",
       " (3485, 0.5711802202047518),\n",
       " (3486, 0.57129057187017),\n",
       " (3487, 0.571207729468599),\n",
       " (3488, 0.5713181291070738),\n",
       " (3489, 0.5713457076566125),\n",
       " (3490, 0.571262811835235),\n",
       " (3491, 0.5711798839458414),\n",
       " (3492, 0.5712074303405573),\n",
       " (3493, 0.5713179794851945),\n",
       " (3494, 0.5712349980642664),\n",
       " (3495, 0.5713455953533398),\n",
       " (3496, 0.5714562354763749),\n",
       " (3497, 0.5715669184582607),\n",
       " (3498, 0.5713178294573643),\n",
       " (3499, 0.5714285714285714),\n",
       " (3500, 0.5713454827452501),\n",
       " (3501, 0.571262361838278),\n",
       " (3502, 0.5714839961202716),\n",
       " (3503, 0.5715948777648429),\n",
       " (3504, 0.5718167701863354),\n",
       " (3505, 0.5718446601941748),\n",
       " (3506, 0.5717615070887551),\n",
       " (3507, 0.5716783216783217),\n",
       " (3508, 0.5718172983479106),\n",
       " (3509, 0.5719284603421462),\n",
       " (3510, 0.5720396655648454),\n",
       " (3511, 0.5721509140412291),\n",
       " (3512, 0.5720676911106789),\n",
       " (3513, 0.5720957384705195),\n",
       " (3514, 0.5722070844686649),\n",
       " (3515, 0.5723184738174032),\n",
       " (3516, 0.5726529022204908),\n",
       " (3517, 0.5727644652250146),\n",
       " (3518, 0.5728760717069369),\n",
       " (3519, 0.572987721691678),\n",
       " (3520, 0.5733229329173167),\n",
       " (3521, 0.5734347571679345),\n",
       " (3522, 0.5736585365853658),\n",
       " (3523, 0.5737704918032787),\n",
       " (3524, 0.573687292601991),\n",
       " (3525, 0.5736040609137056),\n",
       " (3526, 0.5737160710798672),\n",
       " (3527, 0.573828125),\n",
       " (3528, 0.5739402226997461),\n",
       " (3529, 0.5738569753810082),\n",
       " (3530, 0.5741102854908096),\n",
       " (3531, 0.5742225699198122),\n",
       " (3532, 0.5743348982785602),\n",
       " (3533, 0.5742516141655254),\n",
       " (3534, 0.5741682974559686),\n",
       " (3535, 0.5742264003133568),\n",
       " (3536, 0.5743388834476004),\n",
       " (3537, 0.5741720556535371),\n",
       " (3538, 0.5740885927087417),\n",
       " (3539, 0.5742011370319545),\n",
       " (3540, 0.5743137254901961),\n",
       " (3541, 0.5744263581094332),\n",
       " (3542, 0.5745390349156532),\n",
       " (3543, 0.5746517559348636),\n",
       " (3544, 0.5747645211930926),\n",
       " (3545, 0.5748773307163886),\n",
       " (3546, 0.5749901845308206),\n",
       " (3547, 0.5751030826624779),\n",
       " (3548, 0.5752160251374705),\n",
       " (3549, 0.5753290119819289),\n",
       " (3550, 0.5754420432220039),\n",
       " (3551, 0.5753586166240912),\n",
       " (3552, 0.5754716981132075),\n",
       " (3553, 0.5756979944946913),\n",
       " (3554, 0.575811209439528),\n",
       " (3555, 0.5759244689221086),\n",
       " (3556, 0.5760377729687193),\n",
       " (3557, 0.5761511216056671),\n",
       " (3558, 0.5760677032080299),\n",
       " (3559, 0.5761811023622048),\n",
       " (3560, 0.5760976570190982),\n",
       " (3561, 0.576211106734935),\n",
       " (3562, 0.5763246011424069),\n",
       " (3563, 0.5764381402679275),\n",
       " (3564, 0.576581904198699),\n",
       " (3565, 0.5764984227129337),\n",
       " (3566, 0.5766121080654704),\n",
       " (3567, 0.5767258382642998),\n",
       " (3568, 0.5772951628825271),\n",
       " (3569, 0.5772116903633492),\n",
       " ...]"
      ]
     },
     "execution_count": 53,
     "metadata": {},
     "output_type": "execute_result"
    }
   ],
   "source": [
    "bb = [element for element in enumerate(precision) if element[1]>=0.5]\n",
    "bb"
   ]
  },
  {
   "cell_type": "code",
   "execution_count": 44,
   "metadata": {},
   "outputs": [
    {
     "data": {
      "text/plain": [
       "array([1.00000000e+00, 9.99731688e-01, 9.99731688e-01, ...,\n",
       "       5.36624631e-04, 2.68312316e-04, 0.00000000e+00])"
      ]
     },
     "execution_count": 44,
     "metadata": {},
     "output_type": "execute_result"
    }
   ],
   "source": [
    "recall"
   ]
  },
  {
   "cell_type": "code",
   "execution_count": 46,
   "metadata": {},
   "outputs": [
    {
     "data": {
      "text/plain": [
       "array([0.02332206, 0.0234002 , 0.02362547, ..., 0.9523625 , 0.95317882,\n",
       "       0.95970433])"
      ]
     },
     "execution_count": 46,
     "metadata": {},
     "output_type": "execute_result"
    }
   ],
   "source": [
    "thresholds"
   ]
  },
  {
   "cell_type": "code",
   "execution_count": 48,
   "metadata": {},
   "outputs": [
    {
     "data": {
      "text/plain": [
       "6613"
      ]
     },
     "execution_count": 48,
     "metadata": {},
     "output_type": "execute_result"
    }
   ],
   "source": [
    "# according to documentation, precision and recall\n",
    "# have 1 and 0 at the end, so we should remove them before plotting.\n",
    "precision = precision[:-1]\n",
    "recall = recall[:-1]\n",
    "len(precision)"
   ]
  },
  {
   "cell_type": "code",
   "execution_count": 49,
   "metadata": {},
   "outputs": [
    {
     "data": {
      "text/plain": [
       "[1, 2, 3, 4, 5, 6, 7, 8]"
      ]
     },
     "execution_count": 49,
     "metadata": {},
     "output_type": "execute_result"
    }
   ],
   "source": [
    "ar = [1,2,3,4,5,6,7,8,9]\n",
    "ar[:-1]"
   ]
  },
  {
   "cell_type": "code",
   "execution_count": 28,
   "metadata": {},
   "outputs": [
    {
     "data": {
      "image/png": "[encoded data removed]",
      "text/plain": [
       "<Figure size 432x288 with 2 Axes>"
      ]
     },
     "metadata": {
      "needs_background": "light"
     },
     "output_type": "display_data"
    }
   ],
   "source": [
    "fig=plt.figure()\n",
    "ax1 = plt.subplot(211)\n",
    "ax2 = plt.subplot(212)\n",
    "ax1.hlines(y=0.5,xmin=0, xmax=1, colors='red')\n",
    "ax1.plot(thresholds,precision)\n",
    "ax2.plot(thresholds,recall)\n",
    "ax1.get_shared_x_axes().join(ax1, ax2)\n",
    "ax1.set_xticklabels([])\n",
    "ax1.set_title('Precision')\n",
    "ax2.set_title('Recall')\n",
    "plt.xlabel('Threshold')\n",
    "plt.show()"
   ]
  },
  {
   "cell_type": "markdown",
   "metadata": {},
   "source": [
    "Red line shows the point where precision is equal 0.5. \n",
    "\n",
    "It looks like the biggest recall for precision >= 0.5 is around 0.2\n",
    "\n",
    "Let's find the exact value."
   ]
  },
  {
   "cell_type": "code",
   "execution_count": 50,
   "metadata": {},
   "outputs": [
    {
     "data": {
      "text/plain": [
       "<enumerate at 0x7ffb3e813bd0>"
      ]
     },
     "execution_count": 50,
     "metadata": {},
     "output_type": "execute_result"
    }
   ],
   "source": [
    "enumerate(precision)"
   ]
  },
  {
   "cell_type": "code",
   "execution_count": 59,
   "metadata": {},
   "outputs": [
    {
     "name": "stdout",
     "output_type": "stream",
     "text": [
      "2570\n"
     ]
    }
   ],
   "source": [
    "min_index = [i for i, prec in enumerate(precision) if prec >= 0.5][0]\n",
    "print(min_index)"
   ]
  },
  {
   "cell_type": "code",
   "execution_count": 60,
   "metadata": {},
   "outputs": [
    {
     "data": {
      "text/plain": [
       "0.5"
      ]
     },
     "execution_count": 60,
     "metadata": {},
     "output_type": "execute_result"
    }
   ],
   "source": [
    "precision[min_index]"
   ]
  },
  {
   "cell_type": "code",
   "execution_count": 61,
   "metadata": {},
   "outputs": [
    {
     "data": {
      "text/plain": [
       "0.8932116984169574"
      ]
     },
     "execution_count": 61,
     "metadata": {},
     "output_type": "execute_result"
    }
   ],
   "source": [
    "recall[min_index]"
   ]
  },
  {
   "cell_type": "code",
   "execution_count": 62,
   "metadata": {},
   "outputs": [
    {
     "data": {
      "text/plain": [
       "0.21073452797732833"
      ]
     },
     "execution_count": 62,
     "metadata": {},
     "output_type": "execute_result"
    }
   ],
   "source": [
    "thresholds[min_index]"
   ]
  },
  {
   "cell_type": "code",
   "execution_count": 63,
   "metadata": {},
   "outputs": [],
   "source": [
    "best_preds = [1 if pred > thresholds[min_index] else 0 for pred in proba[:, 1]]"
   ]
  },
  {
   "cell_type": "code",
   "execution_count": 64,
   "metadata": {},
   "outputs": [
    {
     "data": {
      "text/plain": [
       "(True, 0.5000751089079165)"
      ]
     },
     "execution_count": 64,
     "metadata": {},
     "output_type": "execute_result"
    }
   ],
   "source": [
    "verify_success_rate_above(y_test, best_preds)"
   ]
  },
  {
   "cell_type": "code",
   "execution_count": 65,
   "metadata": {},
   "outputs": [
    {
     "data": {
      "text/plain": [
       "0.8932116984169574"
      ]
     },
     "execution_count": 65,
     "metadata": {},
     "output_type": "execute_result"
    }
   ],
   "source": [
    "verify_amount_found(y_test, best_preds)"
   ]
  },
  {
   "cell_type": "code",
   "execution_count": 66,
   "metadata": {},
   "outputs": [],
   "source": [
    "with open('columns.json', 'w') as fh:\n",
    "    json.dump(X_train.columns.tolist(), fh)\n",
    "    \n",
    "with open('dtypes.pickle', 'wb') as fh:\n",
    "    pickle.dump(X_train.dtypes, fh)\n",
    "    \n",
    "joblib.dump(pipeline, 'pipeline.pickle');"
   ]
  },
  {
   "cell_type": "code",
   "execution_count": null,
   "metadata": {},
   "outputs": [],
   "source": []
  }
 ],
 "metadata": {
  "kernelspec": {
   "display_name": "Python 3",
   "language": "python",
   "name": "python3"
  },
  "language_info": {
   "codemirror_mode": {
    "name": "ipython",
    "version": 3
   },
   "file_extension": ".py",
   "mimetype": "text/x-python",
   "name": "python",
   "nbconvert_exporter": "python",
   "pygments_lexer": "ipython3",
   "version": "3.6.9"
  }
 },
 "nbformat": 4,
 "nbformat_minor": 4
}
