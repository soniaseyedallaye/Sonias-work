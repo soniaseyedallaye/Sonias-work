{
 "cells": [
  {
   "cell_type": "markdown",
   "metadata": {
    "deletable": false,
    "editable": false,
    "nbgrader": {
     "grade": false,
     "grade_id": "cell-1b6b75485105e36c",
     "locked": true,
     "schema_version": 1,
     "solution": false
    }
   },
   "source": [
    "# BLU03 - Exercises Notebook"
   ]
  },
  {
   "cell_type": "code",
   "execution_count": 1,
   "metadata": {
    "deletable": false,
    "editable": false,
    "nbgrader": {
     "grade": false,
     "grade_id": "cell-ee9dcdd4eb1308b9",
     "locked": true,
     "schema_version": 1,
     "solution": false
    }
   },
   "outputs": [],
   "source": [
    "import hashlib # for grading purposes\n",
    "import math\n",
    "import numpy as np\n",
    "import pandas as pd\n",
    "import requests\n",
    "import sqlalchemy\n",
    "\n",
    "from bs4 import BeautifulSoup"
   ]
  },
  {
   "cell_type": "markdown",
   "metadata": {
    "deletable": false,
    "editable": false,
    "nbgrader": {
     "grade": false,
     "grade_id": "cell-cc67f3fcb340fbcd",
     "locked": true,
     "schema_version": 1,
     "solution": false
    }
   },
   "source": [
    "## Part A - SQL exercises\n",
    "\n",
    "### Querying the FIFAdb with a SQL client\n",
    "\n",
    "Open your favorite SQL client and connect to the FIFAdb.\n",
    "The connection settings are the following.\n",
    "\n",
    "* host: batch4-s02-db-instance.ctq2kxc7kx1i.eu-west-1.rds.amazonaws.com\n",
    "* port: 5432\n",
    "* user: ldsa_student\n",
    "* database: batch4_s02_db\n",
    "* schema: public\n",
    "* password: XXX (shared through slack)\n",
    "\n",
    "This is a different schema than the one we used in the learning notebooks (don't forget to change to this schema, see the Learning Notebook). This schema contains information about football matches, players, teams, and which league and country these matches took place in. Additionally, it also contains the player's and team's \"attributes\", sourced from the EA Sports' FIFA video game series.\n",
    "\n",
    "The tables in this schema are the following:\n",
    "\n",
    "1. Match: has information about the football matches: who were the 11 home and away players (identified by their player_id), how many goals did each team score, the date of the match, the league id and the home/away team id's.\n",
    "2. Player: contains informations about the players.\n",
    "3. Team: contains information about the teams.\n",
    "4. League: contains information about the football leagues, including the id of the country where they take place.\n",
    "5. Country: names and id's of the countries\n",
    "6. Player_Attributes: contains the attributes for each player.\n",
    "7. Team_Attributes: contains the attributes for each team.\n",
    "\n",
    "You can preview these tables using the SQL client.\n",
    "\n",
    "### Q1. Select the name of the team with id 10252\n",
    "\n",
    "Write a query that selects the name of the team whose id is 10252, and run it in the SQL client.\n",
    "\n",
    "Then, assign the result to variable q1_answer (just copy and paste the name you obtained)."
   ]
  },
  {
   "cell_type": "code",
   "execution_count": 2,
   "metadata": {
    "deletable": false,
    "nbgrader": {
     "grade": false,
     "grade_id": "cell-03b22b93be7b587e",
     "locked": false,
     "schema_version": 1,
     "solution": true
    }
   },
   "outputs": [],
   "source": [
    "# YOUR CODE HERE\n",
    "q1_answer = 'Aston Villa'\n",
    "#raise NotImplementedError()"
   ]
  },
  {
   "cell_type": "code",
   "execution_count": 3,
   "metadata": {
    "deletable": false,
    "editable": false,
    "nbgrader": {
     "grade": true,
     "grade_id": "cell-92e8f002ca863db1",
     "locked": true,
     "points": 3,
     "schema_version": 1,
     "solution": false
    }
   },
   "outputs": [],
   "source": [
    "expected_hash = '2fa9bd880a4d7139b4a42c4adb80a942a8b4c7e4ee95aa0f13be5b4005995dcf'\n",
    "assert hashlib.sha256(q1_answer.encode()).hexdigest() == expected_hash"
   ]
  },
  {
   "cell_type": "markdown",
   "metadata": {},
   "source": [
    "### Q2. How many players are taller than 200 cm?\n",
    "\n",
    "Write a query that counts how many players are taller than 200 cm.\n",
    "\n",
    "Then, assign the result to variable q2_answer (just copy and paste the value)."
   ]
  },
  {
   "cell_type": "code",
   "execution_count": 4,
   "metadata": {
    "deletable": false,
    "nbgrader": {
     "grade": false,
     "grade_id": "cell-be58fad2af1735bd",
     "locked": false,
     "schema_version": 1,
     "solution": true
    }
   },
   "outputs": [],
   "source": [
    "# YOUR CODE HERE\n",
    "q2_answer = 22\n",
    "#raise NotImplementedError()"
   ]
  },
  {
   "cell_type": "code",
   "execution_count": 5,
   "metadata": {
    "deletable": false,
    "editable": false,
    "nbgrader": {
     "grade": true,
     "grade_id": "cell-1f2f87262d1b5fc4",
     "locked": true,
     "points": 3,
     "schema_version": 1,
     "solution": false
    }
   },
   "outputs": [],
   "source": [
    "expected_hash = '785f3ec7eb32f30b90cd0fcf3657d388b5ff4297f2f9716ff66e9b69c05ddd09'\n",
    "assert hashlib.sha256(str(q2_answer).encode()).hexdigest() == expected_hash"
   ]
  },
  {
   "cell_type": "markdown",
   "metadata": {
    "deletable": false,
    "editable": false,
    "nbgrader": {
     "grade": false,
     "grade_id": "cell-010c418f565b3108",
     "locked": true,
     "schema_version": 1,
     "solution": false
    }
   },
   "source": [
    "### Q3. Calculate the average buildUpPlaySpeed attribute of teams whose names start with \"FC\"\n",
    "\n",
    "Do teams whose names start with \"FC\" usually play fast? Only one way to find out! \n",
    "\n",
    "Write a query that calculates the average buildUpPlaySpeed attribute of teams whose name is **like** \"FC *something*\" (for example, \"FC Pandas\"), and run it in the SQL client.\n",
    "\n",
    "Then, assign the result to variable q3_answer, rounded to two decimal places!\n",
    "\n",
    "**Hints**: check the [LIKE](https://www.postgresql.org/docs/current/static/functions-matching.html#FUNCTIONS-LIKE) keyword for this exercise. Also: the team name is not on the Team_Attributes table - you'll have to get it from somewhere else."
   ]
  },
  {
   "cell_type": "code",
   "execution_count": 6,
   "metadata": {
    "deletable": false,
    "nbgrader": {
     "grade": false,
     "grade_id": "cell-3a7464176782e2cb",
     "locked": false,
     "schema_version": 1,
     "solution": true
    }
   },
   "outputs": [],
   "source": [
    "# YOUR CODE HERE\n",
    "q3_answer = 51.32\n",
    "#raise NotImplementedError()"
   ]
  },
  {
   "cell_type": "code",
   "execution_count": 7,
   "metadata": {
    "deletable": false,
    "editable": false,
    "nbgrader": {
     "grade": true,
     "grade_id": "cell-f1f24a46b0d15dc9",
     "locked": true,
     "points": 2,
     "schema_version": 1,
     "solution": false
    }
   },
   "outputs": [],
   "source": [
    "expected_hash = '4ce1d6e46996014e34d90e3d0dcec6b8d0b4948173f4aaf37084033c3fa0a372'\n",
    "assert hashlib.sha256(str(q3_answer).encode()).hexdigest() == expected_hash"
   ]
  },
  {
   "cell_type": "markdown",
   "metadata": {
    "deletable": false,
    "editable": false,
    "nbgrader": {
     "grade": false,
     "grade_id": "cell-f1ef8aaf001e8015",
     "locked": true,
     "schema_version": 1,
     "solution": false
    }
   },
   "source": [
    "### Q4. Count how many different teams have played in the \"Italy Serie A\" league\n",
    "\n",
    "Write a query that counts the number of **distinct** teams that played in the league whose name is \"Italy Serie A\", across all games. You can calculate this value considering only the home or away team - it should be the same, because every team has played on both sides of the field!\n",
    "\n",
    "Assign the result to variable q4_answer (just copy and paste the value).\n",
    "\n",
    "**Hints**: keep in mind you only want to count DISTINCT team names. For this, the [DISTINCT](https://www.postgresql.org/docs/current/static/sql-select.html#SQL-DISTINCT) keyword will be essential. Also, remember that the relationship between Country and Match isn't explicitly presented on the Match table, but there is a relationship between League and Country."
   ]
  },
  {
   "cell_type": "code",
   "execution_count": 8,
   "metadata": {
    "deletable": false,
    "nbgrader": {
     "grade": false,
     "grade_id": "cell-645c2fbe3b16c880",
     "locked": false,
     "schema_version": 1,
     "solution": true
    }
   },
   "outputs": [],
   "source": [
    "# YOUR CODE HERE\n",
    "q4_answer= 32\n",
    "#raise NotImplementedError()"
   ]
  },
  {
   "cell_type": "code",
   "execution_count": 9,
   "metadata": {
    "deletable": false,
    "editable": false,
    "nbgrader": {
     "grade": true,
     "grade_id": "cell-41d99aabd53c87e7",
     "locked": true,
     "points": 2,
     "schema_version": 1,
     "solution": false
    }
   },
   "outputs": [],
   "source": [
    "expected_hash = 'e29c9c180c6279b0b02abd6a1801c7c04082cf486ec027aa13515e4f3884bb6b'\n",
    "assert hashlib.sha256(str(q4_answer).encode()).hexdigest() == expected_hash"
   ]
  },
  {
   "cell_type": "markdown",
   "metadata": {
    "deletable": false,
    "editable": false,
    "nbgrader": {
     "grade": false,
     "grade_id": "cell-24c0142cc3082a0c",
     "locked": true,
     "schema_version": 1,
     "solution": false
    }
   },
   "source": [
    "### Q5. Find out in what country the teams score an highest average number of goals when playing away.\n",
    "\n",
    "Write a query to find out in what country the teams score the highest average number of goals when playing away.\n",
    "\n",
    "Assign this country to variable q5_answer_1.\n",
    "\n",
    "Also find out what this average amount of goals is, and assign it to the variable q5_answer_2 (round to one decimal place).\n",
    "\n",
    "**Hint**: there isn't a direct connection between the matches and the country, but you can get there using an extra table."
   ]
  },
  {
   "cell_type": "code",
   "execution_count": 10,
   "metadata": {
    "deletable": false,
    "nbgrader": {
     "grade": false,
     "grade_id": "cell-c5ef88aa51ea99f6",
     "locked": false,
     "schema_version": 1,
     "solution": true
    }
   },
   "outputs": [],
   "source": [
    "# YOUR CODE HERE\n",
    "q5_answer_1 = 'Netherlands'\n",
    "q5_answer_2 =1.3\n",
    "#raise NotImplementedError()"
   ]
  },
  {
   "cell_type": "code",
   "execution_count": 11,
   "metadata": {
    "deletable": false,
    "editable": false,
    "nbgrader": {
     "grade": true,
     "grade_id": "cell-f0f9a337b81de14a",
     "locked": true,
     "points": 1,
     "schema_version": 1,
     "solution": false
    }
   },
   "outputs": [],
   "source": [
    "expected_hash_1 = '3a386c13d283dc2ebbe2aeffc1ab3930d086b28956930d913d8dc58f34c013b7'\n",
    "assert hashlib.sha256(q5_answer_1.encode()).hexdigest() == expected_hash_1\n",
    "\n",
    "expected_goals_hash = '9c193c604ad7de942961af97b39ff541f2e611fdf0b93a3044e16dfbd808f41b'\n",
    "assert hashlib.sha256(str(q5_answer_2).encode()).hexdigest() == expected_goals_hash"
   ]
  },
  {
   "cell_type": "markdown",
   "metadata": {
    "deletable": false,
    "editable": false,
    "nbgrader": {
     "grade": false,
     "grade_id": "cell-3a1dca85f9b02ebf",
     "locked": true,
     "schema_version": 1,
     "solution": false
    }
   },
   "source": [
    "### Querying the FIFAdb with pandas\n",
    "\n",
    "In these exercises, the goal is to query the FIFAdb using pandas.\n",
    "\n",
    "### Q6. Find the teams who are very successful at dribbling and at scoring goals.\n",
    "\n",
    "The connection settings to use in this exercise are the same ones as in the previous exercises.\n",
    "\n",
    "Write a query to find the name, short_name and *max amount of goals scored when playing at home* of the teams with a high \"buildUpPlayDribbling\" team attribute (*greater than 50*).\n",
    "\n",
    "Search only for teams with:\n",
    "* an *average amount of goals scored when playing at home* greater than 2; \n",
    "* more than 50 games played at home, to reduce the number of statistically insignificant results.\n",
    "\n",
    "Order the results by the team short names in descending order.\n",
    "\n",
    "Assign the result to dataframe df6."
   ]
  },
  {
   "cell_type": "code",
   "execution_count": 12,
   "metadata": {
    "deletable": false,
    "nbgrader": {
     "grade": false,
     "grade_id": "cell-f2cd873c0ac14ca0",
     "locked": false,
     "schema_version": 1,
     "solution": true
    }
   },
   "outputs": [
    {
     "data": {
      "text/html": [
       "<div>\n",
       "<style scoped>\n",
       "    .dataframe tbody tr th:only-of-type {\n",
       "        vertical-align: middle;\n",
       "    }\n",
       "\n",
       "    .dataframe tbody tr th {\n",
       "        vertical-align: top;\n",
       "    }\n",
       "\n",
       "    .dataframe thead th {\n",
       "        text-align: right;\n",
       "    }\n",
       "</style>\n",
       "<table border=\"1\" class=\"dataframe\">\n",
       "  <thead>\n",
       "    <tr style=\"text-align: right;\">\n",
       "      <th></th>\n",
       "      <th>name</th>\n",
       "      <th>short_name</th>\n",
       "      <th>max_amount_of_goal</th>\n",
       "    </tr>\n",
       "  </thead>\n",
       "  <tbody>\n",
       "    <tr>\n",
       "      <th>0</th>\n",
       "      <td>BSC Young Boys</td>\n",
       "      <td>YB</td>\n",
       "      <td>7</td>\n",
       "    </tr>\n",
       "    <tr>\n",
       "      <th>1</th>\n",
       "      <td>VfL Wolfsburg</td>\n",
       "      <td>WOL</td>\n",
       "      <td>6</td>\n",
       "    </tr>\n",
       "    <tr>\n",
       "      <th>2</th>\n",
       "      <td>Real Madrid CF</td>\n",
       "      <td>REA</td>\n",
       "      <td>10</td>\n",
       "    </tr>\n",
       "    <tr>\n",
       "      <th>3</th>\n",
       "      <td>Rangers</td>\n",
       "      <td>RAN</td>\n",
       "      <td>7</td>\n",
       "    </tr>\n",
       "    <tr>\n",
       "      <th>4</th>\n",
       "      <td>Paris Saint-Germain</td>\n",
       "      <td>PSG</td>\n",
       "      <td>6</td>\n",
       "    </tr>\n",
       "    <tr>\n",
       "      <th>5</th>\n",
       "      <td>Napoli</td>\n",
       "      <td>NAP</td>\n",
       "      <td>6</td>\n",
       "    </tr>\n",
       "    <tr>\n",
       "      <th>6</th>\n",
       "      <td>Club Brugge KV</td>\n",
       "      <td>CLB</td>\n",
       "      <td>7</td>\n",
       "    </tr>\n",
       "    <tr>\n",
       "      <th>7</th>\n",
       "      <td>Celtic</td>\n",
       "      <td>CEL</td>\n",
       "      <td>9</td>\n",
       "    </tr>\n",
       "    <tr>\n",
       "      <th>8</th>\n",
       "      <td>SL Benfica</td>\n",
       "      <td>BEN</td>\n",
       "      <td>8</td>\n",
       "    </tr>\n",
       "    <tr>\n",
       "      <th>9</th>\n",
       "      <td>FC Basel</td>\n",
       "      <td>BAS</td>\n",
       "      <td>6</td>\n",
       "    </tr>\n",
       "    <tr>\n",
       "      <th>10</th>\n",
       "      <td>Arsenal</td>\n",
       "      <td>ARS</td>\n",
       "      <td>7</td>\n",
       "    </tr>\n",
       "    <tr>\n",
       "      <th>11</th>\n",
       "      <td>Atlético Madrid</td>\n",
       "      <td>AMA</td>\n",
       "      <td>7</td>\n",
       "    </tr>\n",
       "  </tbody>\n",
       "</table>\n",
       "</div>"
      ],
      "text/plain": [
       "                   name short_name  max_amount_of_goal\n",
       "0        BSC Young Boys         YB                   7\n",
       "1         VfL Wolfsburg        WOL                   6\n",
       "2        Real Madrid CF        REA                  10\n",
       "3               Rangers        RAN                   7\n",
       "4   Paris Saint-Germain        PSG                   6\n",
       "5                Napoli        NAP                   6\n",
       "6        Club Brugge KV        CLB                   7\n",
       "7                Celtic        CEL                   9\n",
       "8            SL Benfica        BEN                   8\n",
       "9              FC Basel        BAS                   6\n",
       "10              Arsenal        ARS                   7\n",
       "11      Atlético Madrid        AMA                   7"
      ]
     },
     "execution_count": 12,
     "metadata": {},
     "output_type": "execute_result"
    }
   ],
   "source": [
    "# Create an engine that allows to connect to the FIFAdb PostgreSQL database\n",
    "# engine = sqlalchemy.create_engine(...)\n",
    "# Db settings - PostgreSQL\n",
    "username = 'ldsa_student'\n",
    "password = 'R4Fr4P3aAgMYBqqP'  # the password is not XXX by the way\n",
    "host_name = 'batch4-s02-db-instance.ctq2kxc7kx1i.eu-west-1.rds.amazonaws.com'\n",
    "port = 5432\n",
    "db_name = 'batch4_s02_db'\n",
    "schema = 'public'\n",
    "conn_str = 'postgresql://{}:{}@{}:{}/{}'.format(username, password, host_name, port, db_name)\n",
    "conn_args = {'options': '-csearch_path={}'.format(schema)}\n",
    "engine = sqlalchemy.create_engine(conn_str, connect_args=conn_args)\n",
    "# YOUR CODE HERE\n",
    "#raise NotImplementedError()\n",
    "query = 'select t.name,t.short_name,max(m.home_team_goal) as max_amount_of_goal from team as t inner join team_attributes as ta on t.id = ta.team_id inner join match as m on m.home_team_id = t.id where ta.buildupplaydribbling>50 group by t.name,t.short_name having count(t.name)>50 and avg(m.home_team_goal)>2 order by t.short_name desc;'\n",
    "\n",
    "# Write the query as specified in the question\n",
    "# YOUR CODE HERE\n",
    "#raise NotImplementedError()\n",
    "\n",
    "# Use pandas read_sql_query function to read the query result into a DataFrame\n",
    "df6 = pd.read_sql_query(query,engine)\n",
    "df6\n",
    "# YOUR CODE HERE\n",
    "#raise NotImplementedError()"
   ]
  },
  {
   "cell_type": "code",
   "execution_count": 13,
   "metadata": {
    "deletable": false,
    "editable": false,
    "nbgrader": {
     "grade": true,
     "grade_id": "cell-28986c4b783959be",
     "locked": true,
     "points": 1,
     "schema_version": 1,
     "solution": false
    }
   },
   "outputs": [],
   "source": [
    "assert type(engine) == sqlalchemy.engine.base.Engine\n",
    "assert len(df6) == 12\n",
    "assert len(df6.columns) == 3\n",
    "\n",
    "expected_hash = '8df238f8673b71d0b4e74ce6a2439d63b31cefd33c2aeb795328f6a7b7a77cea'\n",
    "assert hashlib.sha256(df6.iloc[2][\"name\"].encode()).hexdigest() == expected_hash\n",
    "\n",
    "expected_hash = '4b1824b663a4f4b36465d3d43c70f19500a0f47feafd71722e1459673394e041'\n",
    "assert hashlib.sha256(df6.iloc[4].short_name.encode()).hexdigest() == expected_hash"
   ]
  },
  {
   "cell_type": "markdown",
   "metadata": {
    "deletable": false,
    "editable": false,
    "nbgrader": {
     "grade": false,
     "grade_id": "cell-06b122f1f318a355",
     "locked": true,
     "schema_version": 1,
     "solution": false
    }
   },
   "source": [
    "### Q7. Find out some attributes from players with high potential.\n",
    "\n",
    "In this exercise, we want to query a local SQLite database.\n",
    "In order to do this, connect to the FIFAdb.sqlite database, as was done in the learning notebooks for the_movies.db. The database file we're using is in the **data** directory.\n",
    "\n",
    "Write a query that selects the player name, height, weight, potential, crossing and finishing for all players with overall_rating lower or equal to 55 and potential greater than 70. Order these results by player name in ascending order.\n",
    "\n",
    "Use pandas to read this query into a DataFrame called df7 with six columns: name, height, weight, potential, crossing, and finishing."
   ]
  },
  {
   "cell_type": "code",
   "execution_count": 14,
   "metadata": {
    "deletable": false,
    "nbgrader": {
     "grade": false,
     "grade_id": "cell-8d45d74ae0d84110",
     "locked": false,
     "schema_version": 1,
     "solution": true
    }
   },
   "outputs": [],
   "source": [
    "# Create an engine that allows to to connect to the the_movies.db SQLite database\n",
    "# Local SQLite Db\n",
    "db_file_path = 'data/FIFAdb.sqlite'\n",
    "conn_str = 'sqlite:///{}'.format(db_file_path)\n",
    "engine = sqlalchemy.create_engine(conn_str)\n",
    "# YOUR CODE HERE\n",
    "#raise NotImplementedError()\n",
    "\n",
    "\n",
    "# Write the query as specified in the question\n",
    "query = 'select p.name, p.height, p.weight,pa.potential, pa.crossing, pa.finishing from player as p inner join player_attributes as pa on p.id = pa.player_id where pa.overall_rating <=55 and pa.potential >70 order by p.name asc'\n",
    "# YOUR CODE HERE\n",
    "#raise NotImplementedError()\n",
    "\n",
    "# Use pandas read_sql_query function to read the query result into a DataFrame\n",
    "df7 = pd.read_sql_query(query,engine)\n",
    "# YOUR CODE HERE\n",
    "#raise NotImplementedError()"
   ]
  },
  {
   "cell_type": "code",
   "execution_count": 15,
   "metadata": {
    "deletable": false,
    "editable": false,
    "nbgrader": {
     "grade": true,
     "grade_id": "cell-19abd085a003ab6f",
     "locked": true,
     "points": 1,
     "schema_version": 1,
     "solution": false
    }
   },
   "outputs": [],
   "source": [
    "assert type(engine) == sqlalchemy.engine.base.Engine\n",
    "assert len(df7) == 16\n",
    "assert len(df7.columns) == 6\n",
    "assert df7.columns.tolist() == ['name', 'height', 'weight', 'potential', 'crossing', 'finishing']\n",
    "\n",
    "expected_hash = 'e966c1725d9d0682476dd1959984b5d597af96ed9de4dd12e860c084ba68f2aa'\n",
    "assert hashlib.sha256(df7.loc[0, 'name'].encode()).hexdigest() == expected_hash\n",
    "\n",
    "expected_hash = '71c77c676e8d2d8f17b4ddcf203211ad6b887d96250270c397094bd19cf0b4f5'\n",
    "assert hashlib.sha256(str(df7.loc[2, 'height']).encode()).hexdigest() == expected_hash\n",
    "\n",
    "expected_hash = 'd3d6cae6e3de77d000864df356581fc373ed344126f5b707dbd3c7c48f39dbfd'\n",
    "assert hashlib.sha256(str(df7.loc[7, 'crossing']).encode()).hexdigest() == expected_hash"
   ]
  },
  {
   "cell_type": "markdown",
   "metadata": {
    "deletable": false,
    "editable": false,
    "nbgrader": {
     "grade": false,
     "grade_id": "cell-a63384ff91b49abf",
     "locked": true,
     "schema_version": 1,
     "solution": false
    }
   },
   "source": [
    "## Part B - Public APIs\n",
    "\n",
    "<h2>WARNING</h2>\n",
    "\n",
    "The following API-related exercises have been disabled due to the API being down.\n",
    "\n",
    "-----------------------------------\n",
    "\n",
    "In this exercises, the goal is to get data from a public API. We'll go full geek, and use the [Magic: The Gathering API](https://magicthegathering.io/)!\n",
    "\n",
    "In order to complete the exercises, you'll have to consult the API's [documentation](https://docs.magicthegathering.io/). More specifically, you'll have to check the API (v1) section to see what are the different endpoints from which you can GET information.\n",
    "\n",
    "<br>\n",
    "\n",
    "<img src=\"media/api-image.png\" width=600>\n",
    "\n",
    "<br>\n",
    "\n",
    "### Q8. Find information about the Black Lotus card.\n",
    "\n",
    "The \"Black Lotus\" card is one of the rarest cards in the game. Use the API to find information about this card. \n",
    "\n",
    "In order to get this data, you'll need to do an HTTP GET request to one of the endpoints. You also need to specify\n",
    "\n",
    "* the card name: Black Lotus\n",
    "* the set name: Collectors’ Edition (copy the set name from here, the tick in the name is not a regular tick)\n",
    "\n",
    "using the right parameters.\n",
    "\n",
    "The response should be converted to a JSON object (which is the same as a dictionary in Python), and assigned to variable q8_answer.\n",
    "\n",
    "Note: the request might take a minute."
   ]
  },
  {
   "cell_type": "code",
   "execution_count": null,
   "metadata": {
    "deletable": false,
    "editable": false,
    "nbgrader": {
     "grade": false,
     "grade_id": "cell-3e7084c9bf8398d0",
     "locked": true,
     "schema_version": 1,
     "solution": false
    }
   },
   "outputs": [],
   "source": [
    "# Do an HTTP GET request to the Magic: The Gathering API to get information about \n",
    "# the Black Lotus card as a JSON object\n",
    "\n",
    "# payload = {\n",
    "#     \"name\": \"Black Lotus\",\n",
    "#     \"setName\": \"Collectors’ Edition\"\n",
    "# }\n",
    "# response = requests.get(\"https://api.magicthegathering.io/v1/cards\", params=payload)\n",
    "# q8_answer = response.json()\n"
   ]
  },
  {
   "cell_type": "code",
   "execution_count": null,
   "metadata": {
    "deletable": false,
    "editable": false,
    "nbgrader": {
     "grade": false,
     "grade_id": "cell-50d051ce26525944",
     "locked": true,
     "schema_version": 1,
     "solution": false
    }
   },
   "outputs": [],
   "source": [
    "# assert type(q8_answer) == dict\n",
    "# assert 'cards' in q8_answer\n",
    "# assert set(q8_answer['cards'][0].keys()) == {'artist', 'cmc', 'colorIdentity', 'colors', 'foreignNames', 'id', 'layout', 'legalities', 'manaCost', 'name', 'number', 'printings', 'rarity', 'rulings', 'set', 'setName', 'subtypes', 'supertypes', 'text', 'type', 'types'}\n",
    "\n",
    "# card_name_hash = '790a4590717918485f0e38385da506c95ec4eb9b6adf42a0183c260c2c887ae2'\n",
    "# assert hashlib.sha256(q8_answer['cards'][0]['name'].encode()).hexdigest() == card_name_hash\n",
    "\n",
    "# expected_id_hash = '572e1ec08de73129296c63d1d475dbc8bf3c5178fda663e687cda5897dcf0cd4'\n",
    "# assert hashlib.sha256(str(q8_answer['cards'][0]['id']).encode()).hexdigest() == expected_id_hash"
   ]
  },
  {
   "cell_type": "markdown",
   "metadata": {
    "deletable": false,
    "editable": false,
    "nbgrader": {
     "grade": false,
     "grade_id": "cell-90ff2db8962c1d5b",
     "locked": true,
     "schema_version": 1,
     "solution": false
    }
   },
   "source": [
    "### Q9. Find information about a specific set\n",
    "\n",
    "Read the documentation of the API in order to find out how to request and filter sets, and get all information from the sets belonging to the \"Shadows over Innistrad\" block.\n",
    "\n",
    "The desired results can be found in the 'sets' field of the response. Assign these results to the q9_answer variable."
   ]
  },
  {
   "cell_type": "code",
   "execution_count": null,
   "metadata": {
    "deletable": false,
    "editable": false,
    "nbgrader": {
     "grade": false,
     "grade_id": "cell-3c68a66b3b6b56d0",
     "locked": true,
     "schema_version": 1,
     "solution": false
    }
   },
   "outputs": [],
   "source": [
    "# # Do an HTTP GET request to filter the card sets according to the criteria above\n",
    "\n",
    "# payload = {\n",
    "#     \"block\": \"Shadows over Innistrad\"\n",
    "# }\n",
    "# response = requests.get(\"https://api.magicthegathering.io/v1/sets\", params=payload)\n",
    "# q9_answer = response.json()['sets']"
   ]
  },
  {
   "cell_type": "code",
   "execution_count": null,
   "metadata": {
    "deletable": false,
    "editable": false,
    "nbgrader": {
     "grade": false,
     "grade_id": "cell-15c07449c3238657",
     "locked": true,
     "schema_version": 1,
     "solution": false
    }
   },
   "outputs": [],
   "source": [
    "# assert type(q9_answer) == list\n",
    "# assert len(q9_answer) == 4\n",
    "# assert set(q9_answer[0].keys()) == {'block', 'booster', 'code', 'name', 'onlineOnly', 'releaseDate', 'type'}\n",
    "\n",
    "# expected_name = '8bdf7b056442242035bcb6d8d88a3be4f8e1b2f306ccff681b64bba3f5ea4ee8'\n",
    "# assert hashlib.sha256(q9_answer[0]['name'].encode()).hexdigest() == expected_name\n",
    "\n",
    "# expected_date = 'f2b552e894e18156759c1f4d7eedbc0ca5a5d9c464c3f53a204d8947465d39fc'\n",
    "# assert hashlib.sha256(q9_answer[1]['releaseDate'].encode()).hexdigest() == expected_date"
   ]
  },
  {
   "cell_type": "markdown",
   "metadata": {
    "deletable": false,
    "editable": false,
    "nbgrader": {
     "grade": false,
     "grade_id": "cell-91ec6c1c0bc1f4f5",
     "locked": true,
     "schema_version": 1,
     "solution": false
    }
   },
   "source": [
    "## Part C - Web scraping\n",
    "\n",
    "In this exercise, we're going to use web scraping to get data about some books! You can find them in this page: http://books.toscrape.com/\n",
    "\n",
    "### Q10. Scrape all book categories from the sidebar.\n",
    "\n",
    "Store the book categories found in the sidebar, on the left side of the page, in the variable **category_list**. This should be a list of strings with all the categories. There are several ways to reach this solution.\n",
    "**Warning:** don't forget to remove the \"Books\" string found on the top of the sidebar from the list, since it's not a category. \n",
    "\n",
    "**Tips:** A good approach would be to \"Inspect\" the page and look for the class and tag of the sidebar."
   ]
  },
  {
   "cell_type": "code",
   "execution_count": 16,
   "metadata": {
    "deletable": false,
    "nbgrader": {
     "grade": false,
     "grade_id": "cell-bd8d7b19855c5b9f",
     "locked": false,
     "schema_version": 1,
     "solution": true
    }
   },
   "outputs": [],
   "source": [
    "# Assign the URL of the page to be scraped to variable url\n",
    "url ='http://books.toscrape.com/'\n",
    "# YOUR CODE HERE\n",
    "#raise NotImplementedError()\n",
    "\n",
    "# Do a GET request to get the page content, using the url we've just defined\n",
    "response = requests.get(url)\n",
    "# YOUR CODE HERE\n",
    "#raise NotImplementedError()\n",
    "\n",
    "# Instantiate a soup object using the response of the GET request\n",
    "soup = BeautifulSoup(response.content, 'html.parser')\n",
    "# YOUR CODE HERE\n",
    "#raise NotImplementedError()\n",
    "    \n",
    "# Now it's the tricky part!\n",
    "# Parse the soup in order to retrieve the categories.\n",
    "# In the end, store the categories in a list and assign it to variable category_list.\n",
    "soup_children = list(soup.children)\n",
    "book_list = soup.find_all('ul', class_=\"nav nav-list\")\n",
    "book_table = soup.find_all('li',class_ = False)\n",
    "book_names = [book.get_text().strip() for book in book_table]\n",
    "book_names = book_names[2:]\n",
    "category_list=book_names\n",
    "# YOUR CODE HERE\n",
    "#raise NotImplementedError()"
   ]
  },
  {
   "cell_type": "code",
   "execution_count": 17,
   "metadata": {
    "deletable": false,
    "editable": false,
    "nbgrader": {
     "grade": true,
     "grade_id": "cell-335a90721257cd1a",
     "locked": true,
     "points": 6,
     "schema_version": 1,
     "solution": false
    }
   },
   "outputs": [],
   "source": [
    "assert 'Books' not in category_list, \"Did you forget to remove the Books header?\"\n",
    "\n",
    "expected_hash = 'ded4efd711466185ecddc1fd70e5f1e5763731685515f717a05db6c75f3b3d0b'\n",
    "assert hashlib.sha256(str(sorted(category_list)).encode()).hexdigest() == expected_hash"
   ]
  },
  {
   "cell_type": "markdown",
   "metadata": {
    "deletable": false,
    "editable": false,
    "nbgrader": {
     "grade": false,
     "grade_id": "cell-ff83f6395e265feb",
     "locked": true,
     "schema_version": 1,
     "solution": false
    }
   },
   "source": [
    "### Q11. Find all the prices in the first page\n",
    "\n",
    "Use your web scraping skills to find all the prices in the first page! Assign them as **strings** (with the currency attached) to the variable price_list, \n",
    "\n",
    "**Food for thought:** notice what happens to the URL when you press the \"next\" button at the bottom of the page. Can you figure out a way to scrape the entire website? Don't forget to scrape responsibly, and limit your request rates!"
   ]
  },
  {
   "cell_type": "code",
   "execution_count": 19,
   "metadata": {
    "deletable": false,
    "nbgrader": {
     "grade": false,
     "grade_id": "cell-88e2603722dac1e3",
     "locked": false,
     "schema_version": 1,
     "solution": true
    }
   },
   "outputs": [],
   "source": [
    "# Assign the URL of the page to be scraped to variable url\n",
    "url = 'http://books.toscrape.com/'\n",
    "# YOUR CODE HERE\n",
    "#raise NotImplementedError()\n",
    "\n",
    "# Do a GET request to get the page content, using the url we've just defined\n",
    "response = requests.get(url)\n",
    "# YOUR CODE HERE\n",
    "#raise NotImplementedError()\n",
    "\n",
    "# Instanciate a soup object using the response of the GET request\n",
    "# YOUR CODE HERE\n",
    "soup = BeautifulSoup(response.content, 'html.parser')\n",
    "#raise NotImplementedError()\n",
    "\n",
    "# Parse the soup in order to retrieve the prices.\n",
    "# In the end, store the prices as strings in a list and assign it to variable price_list.\n",
    "price_list_all = soup.find_all('p', class_= \"price_color\") \n",
    "price_list = [p.get_text() for p in price_list_all]\n",
    "\n",
    "\n",
    "# YOUR CODE HERE\n",
    "#raise NotImplementedError()"
   ]
  },
  {
   "cell_type": "code",
   "execution_count": 20,
   "metadata": {
    "deletable": false,
    "editable": false,
    "nbgrader": {
     "grade": true,
     "grade_id": "cell-f78d31cd4e4779eb",
     "locked": true,
     "points": 1,
     "schema_version": 1,
     "solution": false
    }
   },
   "outputs": [],
   "source": [
    "expected_hash = '45449fc594578027c5c7ffc5ce11e85c93620f333de511e5a53e2a691359244f'\n",
    "assert hashlib.sha256(str(sorted(price_list)).encode()).hexdigest() == expected_hash"
   ]
  },
  {
   "cell_type": "code",
   "execution_count": null,
   "metadata": {},
   "outputs": [],
   "source": []
  }
 ],
 "metadata": {
  "kernelspec": {
   "display_name": "Python 3",
   "language": "python",
   "name": "python3"
  },
  "language_info": {
   "codemirror_mode": {
    "name": "ipython",
    "version": 3
   },
   "file_extension": ".py",
   "mimetype": "text/x-python",
   "name": "python",
   "nbconvert_exporter": "python",
   "pygments_lexer": "ipython3",
   "version": "3.6.9"
  }
 },
 "nbformat": 4,
 "nbformat_minor": 2
}
