{
 "cells": [
  {
   "cell_type": "code",
   "execution_count": 14,
   "metadata": {
    "ExecuteTime": {
     "end_time": "2020-08-02T08:49:51.523875Z",
     "start_time": "2020-08-02T08:49:31.416255Z"
    }
   },
   "outputs": [],
   "source": [
    "import pandas as pd\n",
    "import numpy as np\n",
    "import seaborn as sns\n",
    "from matplotlib import pyplot as plt \n",
    "import datetime\n",
    "import category_encoders as ce\n",
    "from sklearn.model_selection import train_test_split\n",
    "from sklearn.metrics import roc_auc_score"
   ]
  },
  {
   "cell_type": "code",
   "execution_count": 15,
   "metadata": {},
   "outputs": [],
   "source": [
    "#Load Train Data\n",
    "df_ = pd.read_csv(\"data/train_out.csv\")\n",
    "df = df_.copy()\n",
    "\n",
    "df = df.set_index('game_id')\n",
    "\n",
    "X = df.drop('bResult', axis=1)\n",
    "y = df['bResult']\n",
    "\n",
    "X_train, X_test, y_train, y_test = train_test_split(X, y, test_size=0.4, random_state=42)"
   ]
  },
  {
   "cell_type": "code",
   "execution_count": 16,
   "metadata": {},
   "outputs": [],
   "source": [
    "#Load Test Data\n",
    "data_sub = pd.read_csv(\"data/test_out.csv\")\n",
    "data_sub_ = data_sub.copy()\n",
    "\n",
    "data_sub_ = data_sub_.set_index('game_id')\n",
    "X_sub = data_sub_"
   ]
  },
  {
   "cell_type": "code",
   "execution_count": 37,
   "metadata": {},
   "outputs": [],
   "source": [
    "def bet(row):\n",
    "    if row['bResult_prob'] < 0.5:\n",
    "        return 'NO BET'\n",
    "    else:\n",
    "        if row['bResult'] == 1:\n",
    "            return \"WIN\"\n",
    "        else:\n",
    "            return 'LOSS'"
   ]
  },
  {
   "cell_type": "markdown",
   "metadata": {},
   "source": [
    "# Logistic Regression"
   ]
  },
  {
   "cell_type": "code",
   "execution_count": 17,
   "metadata": {},
   "outputs": [
    {
     "data": {
      "text/plain": [
       "LogisticRegression()"
      ]
     },
     "execution_count": 17,
     "metadata": {},
     "output_type": "execute_result"
    }
   ],
   "source": [
    "from sklearn.linear_model import LogisticRegression\n",
    "\n",
    "#Fit model\n",
    "clf_lr = LogisticRegression()\n",
    "clf_lr.fit(X_train, y_train)"
   ]
  },
  {
   "cell_type": "code",
   "execution_count": 18,
   "metadata": {},
   "outputs": [
    {
     "data": {
      "text/plain": [
       "0.6052243608761736"
      ]
     },
     "execution_count": 18,
     "metadata": {},
     "output_type": "execute_result"
    }
   ],
   "source": [
    "#Score Model\n",
    "y_pred = clf_lr.predict(X_test)\n",
    "roc_auc = roc_auc_score(y_test, y_pred.flatten())\n",
    "roc_auc"
   ]
  },
  {
   "cell_type": "code",
   "execution_count": 100,
   "metadata": {},
   "outputs": [],
   "source": [
    "def bet(row):\n",
    "    if (row['bResult_prob_Loss'] < 0) & (row['bResult_prob_Win'] < 0) :\n",
    "        return 'NO BET'\n",
    "    else:\n",
    "        if row['bResult'] == 1:\n",
    "            return \"WIN\"\n",
    "        else:\n",
    "            return 'LOSS'"
   ]
  },
  {
   "cell_type": "code",
   "execution_count": 101,
   "metadata": {},
   "outputs": [
    {
     "data": {
      "text/plain": [
       "NO BET    3322\n",
       "WIN        230\n",
       "Name: bet, dtype: int64"
      ]
     },
     "execution_count": 101,
     "metadata": {},
     "output_type": "execute_result"
    }
   ],
   "source": [
    "#Generate predictions\n",
    "probs = clf_lr.predict_proba(X_sub)\n",
    "predict = clf_lr.predict(X_sub)\n",
    "X_final = X_sub.copy()\n",
    "\n",
    "X_final['bResult_prob_Loss']=probs[:,0]\n",
    "X_final['bResult_prob_Win']=probs[:,1]\n",
    "X_final['bResult']=predict\n",
    "\n",
    "\n",
    "X_final['bet'] = X_final.apply(lambda row: bet(row), axis=1)\n",
    "X_final.bet.value_counts()\n",
    "#X_final['bet'].to_csv('data/Submission_LR.csv')"
   ]
  },
  {
   "cell_type": "code",
   "execution_count": 88,
   "metadata": {},
   "outputs": [
    {
     "data": {
      "image/png": "[encoded data removed]",
      "text/plain": [
       "<Figure size 432x288 with 1 Axes>"
      ]
     },
     "metadata": {
      "needs_background": "light"
     },
     "output_type": "display_data"
    }
   ],
   "source": [
    "plt.hist(X_final['bResult_prob_Loss'], density=True, bins=30)  # `density=False` would make counts\n",
    "plt.ylabel('Probability')\n",
    "plt.xlabel('Data');"
   ]
  },
  {
   "cell_type": "markdown",
   "metadata": {},
   "source": [
    "# DecisionTreeClassifier"
   ]
  },
  {
   "cell_type": "code",
   "execution_count": 59,
   "metadata": {},
   "outputs": [
    {
     "data": {
      "text/plain": [
       "DecisionTreeClassifier()"
      ]
     },
     "execution_count": 59,
     "metadata": {},
     "output_type": "execute_result"
    }
   ],
   "source": [
    "from sklearn.tree import DecisionTreeClassifier\n",
    "\n",
    "#Fit model\n",
    "clf_dt = DecisionTreeClassifier()\n",
    "clf_dt.fit(X_train, y_train)"
   ]
  },
  {
   "cell_type": "code",
   "execution_count": 60,
   "metadata": {},
   "outputs": [
    {
     "data": {
      "text/plain": [
       "0.5630139654052311"
      ]
     },
     "execution_count": 60,
     "metadata": {},
     "output_type": "execute_result"
    }
   ],
   "source": [
    "#Score Model\n",
    "y_pred = clf_dt.predict(X_test)\n",
    "roc_auc = roc_auc_score(y_test, y_pred.flatten())\n",
    "roc_auc"
   ]
  },
  {
   "cell_type": "code",
   "execution_count": 61,
   "metadata": {},
   "outputs": [
    {
     "data": {
      "text/html": [
       "<div>\n",
       "<style scoped>\n",
       "    .dataframe tbody tr th:only-of-type {\n",
       "        vertical-align: middle;\n",
       "    }\n",
       "\n",
       "    .dataframe tbody tr th {\n",
       "        vertical-align: top;\n",
       "    }\n",
       "\n",
       "    .dataframe thead th {\n",
       "        text-align: right;\n",
       "    }\n",
       "</style>\n",
       "<table border=\"1\" class=\"dataframe\">\n",
       "  <thead>\n",
       "    <tr style=\"text-align: right;\">\n",
       "      <th></th>\n",
       "      <th>bResult</th>\n",
       "    </tr>\n",
       "    <tr>\n",
       "      <th>game_id</th>\n",
       "      <th></th>\n",
       "    </tr>\n",
       "  </thead>\n",
       "  <tbody>\n",
       "    <tr>\n",
       "      <th>9564c32b-dad9-4292-8efb-8fa41f026fe9</th>\n",
       "      <td>0.571429</td>\n",
       "    </tr>\n",
       "    <tr>\n",
       "      <th>8160b53f-417a-416c-bd66-41b115e91039</th>\n",
       "      <td>0.333333</td>\n",
       "    </tr>\n",
       "    <tr>\n",
       "      <th>5bd6d56b-e337-4f61-83b6-cfe21a481892</th>\n",
       "      <td>0.600000</td>\n",
       "    </tr>\n",
       "    <tr>\n",
       "      <th>614fd189-86c9-4f44-9b13-cf980e1ccc9f</th>\n",
       "      <td>1.000000</td>\n",
       "    </tr>\n",
       "    <tr>\n",
       "      <th>539f6975-88f2-40ea-8d22-4b500370e971</th>\n",
       "      <td>0.250000</td>\n",
       "    </tr>\n",
       "    <tr>\n",
       "      <th>...</th>\n",
       "      <td>...</td>\n",
       "    </tr>\n",
       "    <tr>\n",
       "      <th>a59e0afe-9c05-4000-9ec5-c3468f6a473b</th>\n",
       "      <td>0.333333</td>\n",
       "    </tr>\n",
       "    <tr>\n",
       "      <th>36ae936c-e159-49b1-96c6-3b8b877269d8</th>\n",
       "      <td>0.461538</td>\n",
       "    </tr>\n",
       "    <tr>\n",
       "      <th>8a2f2bb9-c899-4861-b5bb-b44e00d5a309</th>\n",
       "      <td>0.000000</td>\n",
       "    </tr>\n",
       "    <tr>\n",
       "      <th>b6e7e76a-60e0-4494-87c6-36a036f19353</th>\n",
       "      <td>0.000000</td>\n",
       "    </tr>\n",
       "    <tr>\n",
       "      <th>16d6cc6f-e923-4686-a23f-d277f65d12d9</th>\n",
       "      <td>0.571429</td>\n",
       "    </tr>\n",
       "  </tbody>\n",
       "</table>\n",
       "<p>3552 rows × 1 columns</p>\n",
       "</div>"
      ],
      "text/plain": [
       "                                       bResult\n",
       "game_id                                       \n",
       "9564c32b-dad9-4292-8efb-8fa41f026fe9  0.571429\n",
       "8160b53f-417a-416c-bd66-41b115e91039  0.333333\n",
       "5bd6d56b-e337-4f61-83b6-cfe21a481892  0.600000\n",
       "614fd189-86c9-4f44-9b13-cf980e1ccc9f  1.000000\n",
       "539f6975-88f2-40ea-8d22-4b500370e971  0.250000\n",
       "...                                        ...\n",
       "a59e0afe-9c05-4000-9ec5-c3468f6a473b  0.333333\n",
       "36ae936c-e159-49b1-96c6-3b8b877269d8  0.461538\n",
       "8a2f2bb9-c899-4861-b5bb-b44e00d5a309  0.000000\n",
       "b6e7e76a-60e0-4494-87c6-36a036f19353  0.000000\n",
       "16d6cc6f-e923-4686-a23f-d277f65d12d9  0.571429\n",
       "\n",
       "[3552 rows x 1 columns]"
      ]
     },
     "execution_count": 61,
     "metadata": {},
     "output_type": "execute_result"
    }
   ],
   "source": [
    "#Generate predictions\n",
    "probs = clf_dt.predict_proba(X_sub)\n",
    "X_final = X_sub.copy()\n",
    "X_final['bResult']=probs[:,1]\n",
    "\n",
    "X_final = X_final[['bResult']]\n",
    "#X_final.to_csv('data/Submission_DT.csv')\n",
    "X_final"
   ]
  },
  {
   "cell_type": "markdown",
   "metadata": {},
   "source": [
    "# GradientBoostingClassifier"
   ]
  },
  {
   "cell_type": "code",
   "execution_count": 62,
   "metadata": {},
   "outputs": [
    {
     "data": {
      "text/plain": [
       "GradientBoostingClassifier()"
      ]
     },
     "execution_count": 62,
     "metadata": {},
     "output_type": "execute_result"
    }
   ],
   "source": [
    "from sklearn.ensemble import GradientBoostingClassifier\n",
    "\n",
    "#Fit model\n",
    "clf_gd = GradientBoostingClassifier()\n",
    "clf_gd.fit(X_train, y_train)\n"
   ]
  },
  {
   "cell_type": "code",
   "execution_count": 63,
   "metadata": {},
   "outputs": [
    {
     "data": {
      "text/plain": [
       "0.5627560793406637"
      ]
     },
     "execution_count": 63,
     "metadata": {},
     "output_type": "execute_result"
    }
   ],
   "source": [
    "#Score Model\n",
    "y_pred = clf_gd.predict(X_test)\n",
    "roc_auc = roc_auc_score(y_test, y_pred.flatten())\n",
    "roc_auc"
   ]
  },
  {
   "cell_type": "code",
   "execution_count": null,
   "metadata": {},
   "outputs": [],
   "source": [
    "#Generate predictions\n",
    "probs = clf_gd.predict_proba(X_sub)\n",
    "X_final = X_sub.copy()\n",
    "X_final['ARR_DEL15']=probs[:,1]\n",
    "\n",
    "X_final = X_final[['ARR_DEL15']]\n",
    "X_final.to_csv('data/Submission_GD.csv')"
   ]
  },
  {
   "cell_type": "code",
   "execution_count": 43,
   "metadata": {},
   "outputs": [
    {
     "data": {
      "text/plain": [
       "DEP_DEL15            0.946608\n",
       "DEP_HOUR_BIN         0.016175\n",
       "OP_CARRIER_Encode    0.015772\n",
       "ARR_HOUR_BIN         0.006466\n",
       "DISTANCE_BIN         0.004526\n",
       "DEST_Encode          0.004195\n",
       "ORIGIN_Encode        0.003483\n",
       "OP_CARRIER_FL_NUM    0.002774\n",
       "dtype: float64"
      ]
     },
     "execution_count": 43,
     "metadata": {},
     "output_type": "execute_result"
    }
   ],
   "source": [
    "feature_importances = pd.Series(data=clf_gd.feature_importances_, index=X_train.columns)\n",
    "feature_importances.sort_values(ascending=False)"
   ]
  },
  {
   "cell_type": "markdown",
   "metadata": {},
   "source": [
    "# RandomForestClassifier"
   ]
  },
  {
   "cell_type": "code",
   "execution_count": 64,
   "metadata": {},
   "outputs": [
    {
     "data": {
      "text/plain": [
       "RandomForestClassifier()"
      ]
     },
     "execution_count": 64,
     "metadata": {},
     "output_type": "execute_result"
    }
   ],
   "source": [
    "from sklearn.ensemble import RandomForestClassifier\n",
    "\n",
    "#Fit model\n",
    "clf_rf = RandomForestClassifier()\n",
    "clf_rf.fit(X_train, y_train)\n"
   ]
  },
  {
   "cell_type": "code",
   "execution_count": 65,
   "metadata": {},
   "outputs": [
    {
     "data": {
      "text/plain": [
       "0.5624396173853244"
      ]
     },
     "execution_count": 65,
     "metadata": {},
     "output_type": "execute_result"
    }
   ],
   "source": [
    "#Score Model\n",
    "y_pred = clf_rf.predict(X_test)\n",
    "roc_auc = roc_auc_score(y_test, y_pred.flatten())\n",
    "roc_auc"
   ]
  },
  {
   "cell_type": "code",
   "execution_count": null,
   "metadata": {},
   "outputs": [],
   "source": [
    "#Generate predictions\n",
    "probs = clf_rf.predict_proba(X_sub)\n",
    "X_final = X_sub.copy()\n",
    "X_final['ARR_DEL15']=probs[:,1]\n",
    "\n",
    "X_final = X_final[['ARR_DEL15']]\n",
    "X_final.to_csv('data/Submission_RF.csv')"
   ]
  }
 ],
 "metadata": {
  "kernelspec": {
   "display_name": "Python 3",
   "language": "python",
   "name": "python3"
  },
  "language_info": {
   "codemirror_mode": {
    "name": "ipython",
    "version": 3
   },
   "file_extension": ".py",
   "mimetype": "text/x-python",
   "name": "python",
   "nbconvert_exporter": "python",
   "pygments_lexer": "ipython3",
   "version": "3.8.5"
  },
  "toc": {
   "base_numbering": 1,
   "nav_menu": {},
   "number_sections": true,
   "sideBar": true,
   "skip_h1_title": false,
   "title_cell": "Table of Contents",
   "title_sidebar": "Contents",
   "toc_cell": false,
   "toc_position": {},
   "toc_section_display": true,
   "toc_window_display": false
  },
  "varInspector": {
   "cols": {
    "lenName": 16,
    "lenType": 16,
    "lenVar": 40
   },
   "kernels_config": {
    "python": {
     "delete_cmd_postfix": "",
     "delete_cmd_prefix": "del ",
     "library": "var_list.py",
     "varRefreshCmd": "print(var_dic_list())"
    },
    "r": {
     "delete_cmd_postfix": ") ",
     "delete_cmd_prefix": "rm(",
     "library": "var_list.r",
     "varRefreshCmd": "cat(var_dic_list()) "
    }
   },
   "types_to_exclude": [
    "module",
    "function",
    "builtin_function_or_method",
    "instance",
    "_Feature"
   ],
   "window_display": false
  }
 },
 "nbformat": 4,
 "nbformat_minor": 4
}
