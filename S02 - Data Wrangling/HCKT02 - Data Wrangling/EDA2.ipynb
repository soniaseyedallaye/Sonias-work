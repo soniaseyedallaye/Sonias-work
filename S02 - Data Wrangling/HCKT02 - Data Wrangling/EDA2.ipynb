{
 "cells": [
  {
   "cell_type": "code",
   "execution_count": 13,
   "metadata": {},
   "outputs": [],
   "source": [
    "import pandas as pd\n",
    "import os\n",
    "import numpy as np\n",
    "from matplotlib import pyplot as plt \n",
    "import seaborn as sns\n",
    "import datetime\n",
    "import category_encoders as ce\n",
    "from sklearn.preprocessing import KBinsDiscretizer"
   ]
  },
  {
   "cell_type": "markdown",
   "metadata": {},
   "source": [
    "# Import all data"
   ]
  },
  {
   "cell_type": "code",
   "execution_count": 14,
   "metadata": {},
   "outputs": [],
   "source": [
    "#Load data\n",
    "\n",
    "#Set parameter\n",
    "dataset = 'train'\n",
    "\n",
    "#Load data\n",
    "df_ = pd.read_csv(os.path.join('data',dataset + \".csv\"))\n",
    "df = df_.copy()\n",
    "\n",
    "df_kills = pd.read_csv('kills_columns_grouped.csv', sep=',')\n",
    "df_monsters = pd.read_csv('monsters_columns_grouped.csv', sep=',')\n",
    "df_towers = pd.read_csv('towers_columns_grouped.csv', sep=',')\n",
    "df_gold = pd.read_csv('gold_columns_grouped.csv', sep=',')"
   ]
  },
  {
   "cell_type": "code",
   "execution_count": 5,
   "metadata": {},
   "outputs": [],
   "source": [
    "! explorer.exe ."
   ]
  },
  {
   "cell_type": "code",
   "execution_count": 15,
   "metadata": {},
   "outputs": [],
   "source": [
    "df = pd.merge(df, df_kills,  on = 'game_id', how ='left')\n",
    "df = df.merge(df_monsters,  on = 'game_id', how ='left')\n",
    "df = df.merge(df_towers,  on = 'game_id', how ='left')\n",
    "df = df.merge(df_gold,  on = 'game_id', how ='left')"
   ]
  },
  {
   "cell_type": "code",
   "execution_count": 16,
   "metadata": {},
   "outputs": [
    {
     "data": {
      "text/html": [
       "<div>\n",
       "<style scoped>\n",
       "    .dataframe tbody tr th:only-of-type {\n",
       "        vertical-align: middle;\n",
       "    }\n",
       "\n",
       "    .dataframe tbody tr th {\n",
       "        vertical-align: top;\n",
       "    }\n",
       "\n",
       "    .dataframe thead th {\n",
       "        text-align: right;\n",
       "    }\n",
       "</style>\n",
       "<table border=\"1\" class=\"dataframe\">\n",
       "  <thead>\n",
       "    <tr style=\"text-align: right;\">\n",
       "      <th></th>\n",
       "      <th>Year</th>\n",
       "      <th>Season</th>\n",
       "      <th>blueTeamTag</th>\n",
       "      <th>bResult</th>\n",
       "      <th>redTeamTag</th>\n",
       "      <th>gamelength</th>\n",
       "      <th>game_id</th>\n",
       "      <th>total_kills_b_team</th>\n",
       "      <th>total_kills_r_team</th>\n",
       "      <th>total_monsters_b</th>\n",
       "      <th>total_monsters_a</th>\n",
       "      <th>total_towers_b_team</th>\n",
       "      <th>total_towers_r_team</th>\n",
       "      <th>blue_gold</th>\n",
       "      <th>red_gold</th>\n",
       "    </tr>\n",
       "  </thead>\n",
       "  <tbody>\n",
       "    <tr>\n",
       "      <th>0</th>\n",
       "      <td>2016</td>\n",
       "      <td>Summer</td>\n",
       "      <td>TT</td>\n",
       "      <td>1</td>\n",
       "      <td>HWA</td>\n",
       "      <td>50</td>\n",
       "      <td>b96f782c-da04-4641-9306-68968036bfd9</td>\n",
       "      <td>2.0</td>\n",
       "      <td>0.0</td>\n",
       "      <td>NaN</td>\n",
       "      <td>NaN</td>\n",
       "      <td>NaN</td>\n",
       "      <td>NaN</td>\n",
       "      <td>13015</td>\n",
       "      <td>12153</td>\n",
       "    </tr>\n",
       "    <tr>\n",
       "      <th>1</th>\n",
       "      <td>2016</td>\n",
       "      <td>Summer</td>\n",
       "      <td>CRW</td>\n",
       "      <td>0</td>\n",
       "      <td>HWA</td>\n",
       "      <td>31</td>\n",
       "      <td>2a7e2cb1-5ac2-4ea2-bd18-0b261e43345a</td>\n",
       "      <td>6.0</td>\n",
       "      <td>0.0</td>\n",
       "      <td>1.0</td>\n",
       "      <td>0.0</td>\n",
       "      <td>NaN</td>\n",
       "      <td>NaN</td>\n",
       "      <td>13341</td>\n",
       "      <td>12773</td>\n",
       "    </tr>\n",
       "    <tr>\n",
       "      <th>2</th>\n",
       "      <td>2016</td>\n",
       "      <td>Summer</td>\n",
       "      <td>SUP</td>\n",
       "      <td>1</td>\n",
       "      <td>AUR</td>\n",
       "      <td>50</td>\n",
       "      <td>e04ed84d-929b-4f0e-a769-e7bffc2b5162</td>\n",
       "      <td>2.0</td>\n",
       "      <td>2.0</td>\n",
       "      <td>1.0</td>\n",
       "      <td>0.0</td>\n",
       "      <td>1.0</td>\n",
       "      <td>0.0</td>\n",
       "      <td>12618</td>\n",
       "      <td>12674</td>\n",
       "    </tr>\n",
       "    <tr>\n",
       "      <th>3</th>\n",
       "      <td>2016</td>\n",
       "      <td>Spring</td>\n",
       "      <td>JAG</td>\n",
       "      <td>1</td>\n",
       "      <td>SSB</td>\n",
       "      <td>40</td>\n",
       "      <td>8829614a-313e-413c-9520-d95d7b95af31</td>\n",
       "      <td>NaN</td>\n",
       "      <td>NaN</td>\n",
       "      <td>NaN</td>\n",
       "      <td>NaN</td>\n",
       "      <td>NaN</td>\n",
       "      <td>NaN</td>\n",
       "      <td>12968</td>\n",
       "      <td>13264</td>\n",
       "    </tr>\n",
       "    <tr>\n",
       "      <th>4</th>\n",
       "      <td>2016</td>\n",
       "      <td>Spring</td>\n",
       "      <td>SIN</td>\n",
       "      <td>0</td>\n",
       "      <td>CHF</td>\n",
       "      <td>36</td>\n",
       "      <td>db2cf98d-a55e-4e28-9702-d7363fad2ebb</td>\n",
       "      <td>0.0</td>\n",
       "      <td>4.0</td>\n",
       "      <td>NaN</td>\n",
       "      <td>NaN</td>\n",
       "      <td>1.0</td>\n",
       "      <td>1.0</td>\n",
       "      <td>12418</td>\n",
       "      <td>13436</td>\n",
       "    </tr>\n",
       "  </tbody>\n",
       "</table>\n",
       "</div>"
      ],
      "text/plain": [
       "   Year  Season blueTeamTag  bResult redTeamTag  gamelength  \\\n",
       "0  2016  Summer          TT        1        HWA          50   \n",
       "1  2016  Summer         CRW        0        HWA          31   \n",
       "2  2016  Summer         SUP        1        AUR          50   \n",
       "3  2016  Spring         JAG        1        SSB          40   \n",
       "4  2016  Spring         SIN        0        CHF          36   \n",
       "\n",
       "                                game_id  total_kills_b_team  \\\n",
       "0  b96f782c-da04-4641-9306-68968036bfd9                 2.0   \n",
       "1  2a7e2cb1-5ac2-4ea2-bd18-0b261e43345a                 6.0   \n",
       "2  e04ed84d-929b-4f0e-a769-e7bffc2b5162                 2.0   \n",
       "3  8829614a-313e-413c-9520-d95d7b95af31                 NaN   \n",
       "4  db2cf98d-a55e-4e28-9702-d7363fad2ebb                 0.0   \n",
       "\n",
       "   total_kills_r_team  total_monsters_b  total_monsters_a  \\\n",
       "0                 0.0               NaN               NaN   \n",
       "1                 0.0               1.0               0.0   \n",
       "2                 2.0               1.0               0.0   \n",
       "3                 NaN               NaN               NaN   \n",
       "4                 4.0               NaN               NaN   \n",
       "\n",
       "   total_towers_b_team  total_towers_r_team  blue_gold  red_gold  \n",
       "0                  NaN                  NaN      13015     12153  \n",
       "1                  NaN                  NaN      13341     12773  \n",
       "2                  1.0                  0.0      12618     12674  \n",
       "3                  NaN                  NaN      12968     13264  \n",
       "4                  1.0                  1.0      12418     13436  "
      ]
     },
     "metadata": {},
     "output_type": "display_data"
    },
    {
     "data": {
      "text/plain": [
       "(4068, 15)"
      ]
     },
     "execution_count": 16,
     "metadata": {},
     "output_type": "execute_result"
    }
   ],
   "source": [
    "#First look\n",
    "display(df.head(5))\n",
    "df.shape"
   ]
  },
  {
   "cell_type": "code",
   "execution_count": 17,
   "metadata": {},
   "outputs": [],
   "source": [
    "#Drop unecessary columns\n",
    "df = df.drop(['blueTeamTag','redTeamTag'],axis=1)"
   ]
  },
  {
   "cell_type": "code",
   "execution_count": 18,
   "metadata": {},
   "outputs": [
    {
     "data": {
      "text/plain": [
       "Year                     int64\n",
       "Season                  object\n",
       "bResult                  int64\n",
       "gamelength               int64\n",
       "game_id                 object\n",
       "total_kills_b_team     float64\n",
       "total_kills_r_team     float64\n",
       "total_monsters_b       float64\n",
       "total_monsters_a       float64\n",
       "total_towers_b_team    float64\n",
       "total_towers_r_team    float64\n",
       "blue_gold                int64\n",
       "red_gold                 int64\n",
       "dtype: object"
      ]
     },
     "execution_count": 18,
     "metadata": {},
     "output_type": "execute_result"
    }
   ],
   "source": [
    "#Check data type\n",
    "df.dtypes"
   ]
  },
  {
   "cell_type": "code",
   "execution_count": 19,
   "metadata": {},
   "outputs": [
    {
     "data": {
      "text/plain": [
       "Year                      0\n",
       "Season                    0\n",
       "bResult                   0\n",
       "gamelength                0\n",
       "game_id                   0\n",
       "total_kills_b_team      535\n",
       "total_kills_r_team      535\n",
       "total_monsters_b       2041\n",
       "total_monsters_a       2041\n",
       "total_towers_b_team    2195\n",
       "total_towers_r_team    2195\n",
       "blue_gold                 0\n",
       "red_gold                  0\n",
       "dtype: int64"
      ]
     },
     "execution_count": 19,
     "metadata": {},
     "output_type": "execute_result"
    }
   ],
   "source": [
    "#Find columns with nulls values\n",
    "df.isna().sum()"
   ]
  },
  {
   "cell_type": "code",
   "execution_count": 20,
   "metadata": {},
   "outputs": [],
   "source": [
    "#fill nulls\n",
    "df['total_kills_b_team'] = df.total_kills_b_team.fillna(0)\n",
    "df['total_kills_r_team'] = df.total_kills_b_team.fillna(0)\n",
    "df['total_monsters_b'] = df.total_monsters_b.fillna(0)\n",
    "df['total_monsters_a'] = df.total_monsters_a.fillna(0)\n",
    "df['total_towers_b_team'] = df.total_towers_b_team.fillna(0)\n",
    "df['total_towers_r_team'] = df.total_towers_r_team.fillna(0)"
   ]
  },
  {
   "cell_type": "code",
   "execution_count": 21,
   "metadata": {},
   "outputs": [
    {
     "data": {
      "text/plain": [
       "Year                   0\n",
       "Season                 0\n",
       "bResult                0\n",
       "gamelength             0\n",
       "game_id                0\n",
       "total_kills_b_team     0\n",
       "total_kills_r_team     0\n",
       "total_monsters_b       0\n",
       "total_monsters_a       0\n",
       "total_towers_b_team    0\n",
       "total_towers_r_team    0\n",
       "blue_gold              0\n",
       "red_gold               0\n",
       "dtype: int64"
      ]
     },
     "execution_count": 21,
     "metadata": {},
     "output_type": "execute_result"
    }
   ],
   "source": [
    "#Cehck columns with nulls values\n",
    "df.isna().sum()"
   ]
  },
  {
   "cell_type": "code",
   "execution_count": 22,
   "metadata": {},
   "outputs": [
    {
     "data": {
      "text/plain": [
       "<AxesSubplot:>"
      ]
     },
     "execution_count": 22,
     "metadata": {},
     "output_type": "execute_result"
    },
    {
     "data": {
      "image/png": "[encoded data removed]",
      "text/plain": [
       "<Figure size 864x576 with 2 Axes>"
      ]
     },
     "metadata": {
      "needs_background": "light"
     },
     "output_type": "display_data"
    }
   ],
   "source": [
    "#check correlation\n",
    "cor_df = df.corr()\n",
    "lower_triangle_mask = np.triu(np.ones(cor_df.shape)).astype(np.bool)\n",
    "cor_df_lower = cor_df.mask(lower_triangle_mask)\n",
    "plt.figure(figsize = (12,8))\n",
    "sns.heatmap(cor_df_lower, annot = True, cmap = \"RdBu_r\")"
   ]
  },
  {
   "cell_type": "code",
   "execution_count": 23,
   "metadata": {},
   "outputs": [
    {
     "data": {
      "text/plain": [
       "\"\\n#Check for unique values\\ncategoricals = df.select_dtypes(include='object').columns\\n\\nnumber_of_uniques_per_category = df.loc[:, categoricals].nunique()\\n\\n# little plot \\nnumber_of_uniques_per_category.plot(kind='barh',\\n                                    title='# uniques / categories');\\nplt.xlabel('Number of uniques')\\nplt.show()\\n\\nnumber_of_uniques_per_category\\n\""
      ]
     },
     "execution_count": 23,
     "metadata": {},
     "output_type": "execute_result"
    }
   ],
   "source": [
    "\"\"\"\n",
    "#Check for unique values\n",
    "categoricals = df.select_dtypes(include='object').columns\n",
    "\n",
    "number_of_uniques_per_category = df.loc[:, categoricals].nunique()\n",
    "\n",
    "# little plot \n",
    "number_of_uniques_per_category.plot(kind='barh',\n",
    "                                    title='# uniques / categories');\n",
    "plt.xlabel('Number of uniques')\n",
    "plt.show()\n",
    "\n",
    "number_of_uniques_per_category\n",
    "\"\"\""
   ]
  },
  {
   "cell_type": "markdown",
   "metadata": {},
   "source": [
    "# Encoding"
   ]
  },
  {
   "cell_type": "code",
   "execution_count": 24,
   "metadata": {},
   "outputs": [
    {
     "data": {
      "text/plain": [
       "Year                     int64\n",
       "Season                  object\n",
       "bResult                  int64\n",
       "gamelength               int64\n",
       "game_id                 object\n",
       "total_kills_b_team     float64\n",
       "total_kills_r_team     float64\n",
       "total_monsters_b       float64\n",
       "total_monsters_a       float64\n",
       "total_towers_b_team    float64\n",
       "total_towers_r_team    float64\n",
       "blue_gold                int64\n",
       "red_gold                 int64\n",
       "dtype: object"
      ]
     },
     "execution_count": 24,
     "metadata": {},
     "output_type": "execute_result"
    }
   ],
   "source": [
    "df.dtypes"
   ]
  },
  {
   "cell_type": "code",
   "execution_count": 25,
   "metadata": {},
   "outputs": [],
   "source": [
    "#ENCODING VARIAVEIS CATEGORICAS\n",
    "\n",
    "#Ordinal Encoder\n",
    "for f in df.select_dtypes(include='object').columns:\n",
    "    if f != 'game_id':\n",
    "        encoder = ce.ordinal.OrdinalEncoder()\n",
    "\n",
    "        X2 = df[[f]]\n",
    "        encoder.fit(X2)\n",
    "\n",
    "        df[f+'_Encode'] = encoder.transform(X2)\n",
    "        df = df.drop(f,axis=1)\n"
   ]
  },
  {
   "cell_type": "markdown",
   "metadata": {},
   "source": [
    "# Scalling numericals"
   ]
  },
  {
   "cell_type": "code",
   "execution_count": 26,
   "metadata": {},
   "outputs": [
    {
     "data": {
      "text/html": [
       "<div>\n",
       "<style scoped>\n",
       "    .dataframe tbody tr th:only-of-type {\n",
       "        vertical-align: middle;\n",
       "    }\n",
       "\n",
       "    .dataframe tbody tr th {\n",
       "        vertical-align: top;\n",
       "    }\n",
       "\n",
       "    .dataframe thead th {\n",
       "        text-align: right;\n",
       "    }\n",
       "</style>\n",
       "<table border=\"1\" class=\"dataframe\">\n",
       "  <thead>\n",
       "    <tr style=\"text-align: right;\">\n",
       "      <th></th>\n",
       "      <th>Year</th>\n",
       "      <th>bResult</th>\n",
       "      <th>gamelength</th>\n",
       "      <th>total_kills_b_team</th>\n",
       "      <th>total_kills_r_team</th>\n",
       "      <th>total_monsters_b</th>\n",
       "      <th>total_monsters_a</th>\n",
       "      <th>total_towers_b_team</th>\n",
       "      <th>total_towers_r_team</th>\n",
       "      <th>blue_gold</th>\n",
       "      <th>red_gold</th>\n",
       "      <th>Season_Encode</th>\n",
       "    </tr>\n",
       "  </thead>\n",
       "  <tbody>\n",
       "    <tr>\n",
       "      <th>count</th>\n",
       "      <td>4068.000000</td>\n",
       "      <td>4068.000000</td>\n",
       "      <td>4068.000000</td>\n",
       "      <td>4068.000000</td>\n",
       "      <td>4068.000000</td>\n",
       "      <td>4068.000000</td>\n",
       "      <td>4068.000000</td>\n",
       "      <td>4068.000000</td>\n",
       "      <td>4068.000000</td>\n",
       "      <td>4068.000000</td>\n",
       "      <td>4068.000000</td>\n",
       "      <td>4068.000000</td>\n",
       "    </tr>\n",
       "    <tr>\n",
       "      <th>mean</th>\n",
       "      <td>2015.593904</td>\n",
       "      <td>0.536136</td>\n",
       "      <td>37.507620</td>\n",
       "      <td>3.145526</td>\n",
       "      <td>3.145526</td>\n",
       "      <td>0.277040</td>\n",
       "      <td>0.312193</td>\n",
       "      <td>0.635939</td>\n",
       "      <td>0.607178</td>\n",
       "      <td>13005.626106</td>\n",
       "      <td>12981.887414</td>\n",
       "      <td>1.425762</td>\n",
       "    </tr>\n",
       "    <tr>\n",
       "      <th>std</th>\n",
       "      <td>0.528771</td>\n",
       "      <td>0.498754</td>\n",
       "      <td>8.004897</td>\n",
       "      <td>3.267210</td>\n",
       "      <td>3.267210</td>\n",
       "      <td>0.484522</td>\n",
       "      <td>0.501170</td>\n",
       "      <td>0.904300</td>\n",
       "      <td>0.895069</td>\n",
       "      <td>964.248093</td>\n",
       "      <td>951.556901</td>\n",
       "      <td>0.494519</td>\n",
       "    </tr>\n",
       "    <tr>\n",
       "      <th>min</th>\n",
       "      <td>2014.000000</td>\n",
       "      <td>0.000000</td>\n",
       "      <td>18.000000</td>\n",
       "      <td>0.000000</td>\n",
       "      <td>0.000000</td>\n",
       "      <td>0.000000</td>\n",
       "      <td>0.000000</td>\n",
       "      <td>0.000000</td>\n",
       "      <td>0.000000</td>\n",
       "      <td>10088.000000</td>\n",
       "      <td>10098.000000</td>\n",
       "      <td>1.000000</td>\n",
       "    </tr>\n",
       "    <tr>\n",
       "      <th>25%</th>\n",
       "      <td>2015.000000</td>\n",
       "      <td>0.000000</td>\n",
       "      <td>32.000000</td>\n",
       "      <td>0.000000</td>\n",
       "      <td>0.000000</td>\n",
       "      <td>0.000000</td>\n",
       "      <td>0.000000</td>\n",
       "      <td>0.000000</td>\n",
       "      <td>0.000000</td>\n",
       "      <td>12321.000000</td>\n",
       "      <td>12294.500000</td>\n",
       "      <td>1.000000</td>\n",
       "    </tr>\n",
       "    <tr>\n",
       "      <th>50%</th>\n",
       "      <td>2016.000000</td>\n",
       "      <td>1.000000</td>\n",
       "      <td>37.000000</td>\n",
       "      <td>2.000000</td>\n",
       "      <td>2.000000</td>\n",
       "      <td>0.000000</td>\n",
       "      <td>0.000000</td>\n",
       "      <td>0.000000</td>\n",
       "      <td>0.000000</td>\n",
       "      <td>12966.500000</td>\n",
       "      <td>12956.500000</td>\n",
       "      <td>1.000000</td>\n",
       "    </tr>\n",
       "    <tr>\n",
       "      <th>75%</th>\n",
       "      <td>2016.000000</td>\n",
       "      <td>1.000000</td>\n",
       "      <td>42.000000</td>\n",
       "      <td>4.000000</td>\n",
       "      <td>4.000000</td>\n",
       "      <td>1.000000</td>\n",
       "      <td>1.000000</td>\n",
       "      <td>1.000000</td>\n",
       "      <td>1.000000</td>\n",
       "      <td>13650.250000</td>\n",
       "      <td>13614.250000</td>\n",
       "      <td>2.000000</td>\n",
       "    </tr>\n",
       "    <tr>\n",
       "      <th>max</th>\n",
       "      <td>2016.000000</td>\n",
       "      <td>1.000000</td>\n",
       "      <td>81.000000</td>\n",
       "      <td>28.000000</td>\n",
       "      <td>28.000000</td>\n",
       "      <td>3.000000</td>\n",
       "      <td>2.000000</td>\n",
       "      <td>5.000000</td>\n",
       "      <td>6.000000</td>\n",
       "      <td>17155.000000</td>\n",
       "      <td>17742.000000</td>\n",
       "      <td>2.000000</td>\n",
       "    </tr>\n",
       "  </tbody>\n",
       "</table>\n",
       "</div>"
      ],
      "text/plain": [
       "              Year      bResult   gamelength  total_kills_b_team  \\\n",
       "count  4068.000000  4068.000000  4068.000000         4068.000000   \n",
       "mean   2015.593904     0.536136    37.507620            3.145526   \n",
       "std       0.528771     0.498754     8.004897            3.267210   \n",
       "min    2014.000000     0.000000    18.000000            0.000000   \n",
       "25%    2015.000000     0.000000    32.000000            0.000000   \n",
       "50%    2016.000000     1.000000    37.000000            2.000000   \n",
       "75%    2016.000000     1.000000    42.000000            4.000000   \n",
       "max    2016.000000     1.000000    81.000000           28.000000   \n",
       "\n",
       "       total_kills_r_team  total_monsters_b  total_monsters_a  \\\n",
       "count         4068.000000       4068.000000       4068.000000   \n",
       "mean             3.145526          0.277040          0.312193   \n",
       "std              3.267210          0.484522          0.501170   \n",
       "min              0.000000          0.000000          0.000000   \n",
       "25%              0.000000          0.000000          0.000000   \n",
       "50%              2.000000          0.000000          0.000000   \n",
       "75%              4.000000          1.000000          1.000000   \n",
       "max             28.000000          3.000000          2.000000   \n",
       "\n",
       "       total_towers_b_team  total_towers_r_team     blue_gold      red_gold  \\\n",
       "count          4068.000000          4068.000000   4068.000000   4068.000000   \n",
       "mean              0.635939             0.607178  13005.626106  12981.887414   \n",
       "std               0.904300             0.895069    964.248093    951.556901   \n",
       "min               0.000000             0.000000  10088.000000  10098.000000   \n",
       "25%               0.000000             0.000000  12321.000000  12294.500000   \n",
       "50%               0.000000             0.000000  12966.500000  12956.500000   \n",
       "75%               1.000000             1.000000  13650.250000  13614.250000   \n",
       "max               5.000000             6.000000  17155.000000  17742.000000   \n",
       "\n",
       "       Season_Encode  \n",
       "count    4068.000000  \n",
       "mean        1.425762  \n",
       "std         0.494519  \n",
       "min         1.000000  \n",
       "25%         1.000000  \n",
       "50%         1.000000  \n",
       "75%         2.000000  \n",
       "max         2.000000  "
      ]
     },
     "execution_count": 26,
     "metadata": {},
     "output_type": "execute_result"
    }
   ],
   "source": [
    "numericals = df.select_dtypes(include=['int64','float64']).columns\n",
    "df[numericals].describe()"
   ]
  },
  {
   "cell_type": "code",
   "execution_count": 27,
   "metadata": {},
   "outputs": [
    {
     "data": {
      "text/plain": [
       "\"\\n##SCALE DE VARIAVEIS NUMERICAS\\n\\nfrom sklearn.preprocessing import RobustScaler\\n\\n#Features to scale\\n\\nscale_list = ['ORIGIN_AIRPORT_ID', 'DEST_AIRPORT_ID', 'OP_CARRIER_AIRLINE_ID', 'OP_CARRIER_FL_NUM']\\n\\n\\nfor f in scale_list:\\n    # initialize transformer with desired options\\n    robustscaler = RobustScaler()\\n\\n    # save data to scale\\n    X_rbs = df[[f]]\\n\\n    # fit transformer to data\\n    robustscaler.fit(X_rbs)\\n\\n    # create new feature by transforming the data\\n    col_new_name = f + '_robust_scaled'\\n    df[f] = robustscaler.transform(X_rbs)\\n\\n\\n#drop original columns\\ndf.drop(scale_list, axis = 1)\\ndf\\n\""
      ]
     },
     "execution_count": 27,
     "metadata": {},
     "output_type": "execute_result"
    }
   ],
   "source": [
    "\"\"\"\n",
    "##SCALE DE VARIAVEIS NUMERICAS\n",
    "\n",
    "from sklearn.preprocessing import RobustScaler\n",
    "\n",
    "#Features to scale\n",
    "\n",
    "scale_list = ['ORIGIN_AIRPORT_ID', 'DEST_AIRPORT_ID', 'OP_CARRIER_AIRLINE_ID', 'OP_CARRIER_FL_NUM']\n",
    "\n",
    "\n",
    "for f in scale_list:\n",
    "    # initialize transformer with desired options\n",
    "    robustscaler = RobustScaler()\n",
    "\n",
    "    # save data to scale\n",
    "    X_rbs = df[[f]]\n",
    "\n",
    "    # fit transformer to data\n",
    "    robustscaler.fit(X_rbs)\n",
    "\n",
    "    # create new feature by transforming the data\n",
    "    col_new_name = f + '_robust_scaled'\n",
    "    df[f] = robustscaler.transform(X_rbs)\n",
    "\n",
    "\n",
    "#drop original columns\n",
    "df.drop(scale_list, axis = 1)\n",
    "df\n",
    "\"\"\""
   ]
  },
  {
   "cell_type": "code",
   "execution_count": 28,
   "metadata": {},
   "outputs": [],
   "source": [
    "df.to_csv( dataset + '_out.csv', index=False)"
   ]
  },
  {
   "cell_type": "code",
   "execution_count": null,
   "metadata": {},
   "outputs": [],
   "source": []
  }
 ],
 "metadata": {
  "kernelspec": {
   "display_name": "Python 3",
   "language": "python",
   "name": "python3"
  },
  "language_info": {
   "codemirror_mode": {
    "name": "ipython",
    "version": 3
   },
   "file_extension": ".py",
   "mimetype": "text/x-python",
   "name": "python",
   "nbconvert_exporter": "python",
   "pygments_lexer": "ipython3",
   "version": "3.6.9"
  }
 },
 "nbformat": 4,
 "nbformat_minor": 4
}
