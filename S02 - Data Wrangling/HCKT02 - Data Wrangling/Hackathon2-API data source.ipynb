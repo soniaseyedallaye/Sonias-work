{
 "cells": [
  {
   "cell_type": "code",
   "execution_count": 7,
   "metadata": {},
   "outputs": [],
   "source": [
    "import pandas as pd\n",
    "import os\n",
    "import requests\n",
    "import json"
   ]
  },
  {
   "cell_type": "code",
   "execution_count": 15,
   "metadata": {},
   "outputs": [
    {
     "data": {
      "text/plain": [
       "(7620, 7)"
      ]
     },
     "execution_count": 15,
     "metadata": {},
     "output_type": "execute_result"
    }
   ],
   "source": [
    "#Load game_id list\n",
    "train_data = pd.read_csv('data/train.csv', sep=',')\n",
    "test_data = pd.read_csv('data/test.csv', sep=',')\n",
    "all_data = pd.concat([train_data, test_data], axis = 0, ignore_index = True)\n",
    "all_data.shape\n",
    "all_data.shape"
   ]
  },
  {
   "cell_type": "markdown",
   "metadata": {},
   "source": [
    "# Get Data & Save Data to CSV"
   ]
  },
  {
   "cell_type": "code",
   "execution_count": 3,
   "metadata": {},
   "outputs": [],
   "source": [
    "#GET DATA\n",
    "base_url = 'https://9bdcopqrc9.execute-api.eu-west-1.amazonaws.com/dev/missingdata/'\n",
    "\n",
    "columns = ['game_id','Team','Time']\n",
    "response_list = pd.DataFrame(columns=columns)\n",
    "\n",
    "## GET  DATA\n",
    "#Iterate over  data an get information\n",
    "for index, row in all_data.iterrows():\n",
    "    url = base_url + row['game_id']\n",
    "    response = requests.get(url)\n",
    "    if response.status_code == 200:\n",
    "        response_json = response.json()\n",
    "        response_pd = pd.json_normalize(response_json['kills'])\n",
    "        response_pd['game_id'] = row['game_id']\n",
    "        response_list = response_list.append(response_pd, ignore_index = True)\n",
    "\n",
    "#Save data\n",
    "response_list.to_csv(os.path.join('data','kills_columns_.csv'), index=False)  "
   ]
  },
  {
   "cell_type": "markdown",
   "metadata": {},
   "source": [
    "# Load data from CSV"
   ]
  },
  {
   "cell_type": "code",
   "execution_count": 117,
   "metadata": {},
   "outputs": [],
   "source": [
    "df = pd.read_csv(os.path.join('data','kills_columns_.csv'), sep=',')"
   ]
  },
  {
   "cell_type": "markdown",
   "metadata": {},
   "source": [
    "# Transform Data"
   ]
  },
  {
   "cell_type": "code",
   "execution_count": 123,
   "metadata": {},
   "outputs": [],
   "source": [
    "#Total kills per team\n",
    "#B team\n",
    "total_kills_b_team = df[df['Team'] == 'bKills'].groupby('game_id').size()\n",
    "total_kills_b_team = pd.DataFrame(total_kills_b_team).reset_index()\n",
    "total_kills_b_team.columns = ['game_id','total_kills_b_team']\n",
    "\n",
    "#R team\n",
    "total_kills_r_team = df[df['Team'] == 'rKills'].groupby('game_id').size()\n",
    "total_kills_r_team = pd.DataFrame(total_kills_r_team).reset_index()\n",
    "total_kills_r_team.columns = ['game_id','total_kills_r_team']"
   ]
  },
  {
   "cell_type": "code",
   "execution_count": null,
   "metadata": {},
   "outputs": [],
   "source": [
    "\"\"\"\n",
    "#Total kill per team and minutes\n",
    "column_list = []\n",
    "min_list = [i for i in range(5,90,5)]\n",
    "\n",
    "for i in min_list:\n",
    "    b_teamkills_min = train_data[(train_data['Team'] == 'bKills') & (train_data['Time'] < i)].groupby('game_id').size()\n",
    "    r_teamkills_min = train_data[(train_data['Team'] == 'rKills') & (train_data['Time'] < i)].groupby('game_id').size()\n",
    "\n",
    "#b_teamkills_min.shape\n",
    "r_teamkills_min[r_teamkills_min['game_id'] =='00032e36-8a18-472c-bf38-61b836b72e45 ']    \n",
    "\"\"\""
   ]
  },
  {
   "cell_type": "markdown",
   "metadata": {},
   "source": [
    "# Generate final output & Save to CSV"
   ]
  },
  {
   "cell_type": "code",
   "execution_count": 124,
   "metadata": {},
   "outputs": [],
   "source": [
    "df_final = pd.merge(total_kills_b_team, total_kills_r_team, on = 'game_id', how ='outer').fillna(0)\n",
    "df_final.to_csv(os.path.join('data','kills_columns_grouped.csv'), index=False)  "
   ]
  }
 ],
 "metadata": {
  "kernelspec": {
   "display_name": "Python 3",
   "language": "python",
   "name": "python3"
  },
  "language_info": {
   "codemirror_mode": {
    "name": "ipython",
    "version": 3
   },
   "file_extension": ".py",
   "mimetype": "text/x-python",
   "name": "python",
   "nbconvert_exporter": "python",
   "pygments_lexer": "ipython3",
   "version": "3.6.9"
  }
 },
 "nbformat": 4,
 "nbformat_minor": 4
}
