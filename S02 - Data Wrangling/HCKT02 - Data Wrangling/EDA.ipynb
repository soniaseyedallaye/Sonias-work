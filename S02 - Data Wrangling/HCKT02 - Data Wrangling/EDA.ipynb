{
 "cells": [
  {
   "cell_type": "code",
   "execution_count": 1,
   "metadata": {},
   "outputs": [],
   "source": [
    "import pandas as pd\n",
    "import os\n",
    "import numpy as np\n",
    "from matplotlib import pyplot as plt \n",
    "import seaborn as sns\n",
    "import datetime\n",
    "import category_encoders as ce\n",
    "from sklearn.preprocessing import KBinsDiscretizer"
   ]
  },
  {
   "cell_type": "markdown",
   "metadata": {},
   "source": [
    "# Import all data"
   ]
  },
  {
   "cell_type": "code",
   "execution_count": 2,
   "metadata": {},
   "outputs": [],
   "source": [
    "#Load data\n",
    "\n",
    "#Set parameter\n",
    "dataset = 'train'\n",
    "\n",
    "#Load data\n",
    "df_ = pd.read_csv(os.path.join('data',dataset + \".csv\"))\n",
    "df = df_.copy()\n",
    "\n",
    "df_kills = pd.read_csv(os.path.join('data','kills_columns_grouped.csv'), sep=',')\n",
    "df_monsters = pd.read_csv(os.path.join('data','monsters_columns_.csv'), sep=',')\n",
    "df_towers = pd.read_csv(os.path.join('data','towers_columns_.csv'), sep=',')\n",
    "df_gold = pd.read_csv(os.path.join('data','gold_columns_.csv'), sep=',')"
   ]
  },
  {
   "cell_type": "code",
   "execution_count": 3,
   "metadata": {},
   "outputs": [],
   "source": [
    "df = pd.merge(df, df_kills,  on = 'game_id', how ='left')\n",
    "#df = df.merge(df_monsters,  on = 'game_id', how ='left')\n",
    "#df = df.merge(df_towers,  on = 'game_id', how ='left')\n",
    "#df = df.merge(df_gold,  on = 'game_id', how ='left')"
   ]
  },
  {
   "cell_type": "code",
   "execution_count": 4,
   "metadata": {},
   "outputs": [
    {
     "data": {
      "text/html": [
       "<div>\n",
       "<style scoped>\n",
       "    .dataframe tbody tr th:only-of-type {\n",
       "        vertical-align: middle;\n",
       "    }\n",
       "\n",
       "    .dataframe tbody tr th {\n",
       "        vertical-align: top;\n",
       "    }\n",
       "\n",
       "    .dataframe thead th {\n",
       "        text-align: right;\n",
       "    }\n",
       "</style>\n",
       "<table border=\"1\" class=\"dataframe\">\n",
       "  <thead>\n",
       "    <tr style=\"text-align: right;\">\n",
       "      <th></th>\n",
       "      <th>Year</th>\n",
       "      <th>Season</th>\n",
       "      <th>blueTeamTag</th>\n",
       "      <th>bResult</th>\n",
       "      <th>redTeamTag</th>\n",
       "      <th>gamelength</th>\n",
       "      <th>game_id</th>\n",
       "      <th>total_kills_b_team</th>\n",
       "      <th>total_kills_r_team</th>\n",
       "    </tr>\n",
       "  </thead>\n",
       "  <tbody>\n",
       "    <tr>\n",
       "      <th>0</th>\n",
       "      <td>2016</td>\n",
       "      <td>Summer</td>\n",
       "      <td>TT</td>\n",
       "      <td>1</td>\n",
       "      <td>HWA</td>\n",
       "      <td>50</td>\n",
       "      <td>b96f782c-da04-4641-9306-68968036bfd9</td>\n",
       "      <td>2.0</td>\n",
       "      <td>0.0</td>\n",
       "    </tr>\n",
       "    <tr>\n",
       "      <th>1</th>\n",
       "      <td>2016</td>\n",
       "      <td>Summer</td>\n",
       "      <td>CRW</td>\n",
       "      <td>0</td>\n",
       "      <td>HWA</td>\n",
       "      <td>31</td>\n",
       "      <td>2a7e2cb1-5ac2-4ea2-bd18-0b261e43345a</td>\n",
       "      <td>6.0</td>\n",
       "      <td>0.0</td>\n",
       "    </tr>\n",
       "    <tr>\n",
       "      <th>2</th>\n",
       "      <td>2016</td>\n",
       "      <td>Summer</td>\n",
       "      <td>SUP</td>\n",
       "      <td>1</td>\n",
       "      <td>AUR</td>\n",
       "      <td>50</td>\n",
       "      <td>e04ed84d-929b-4f0e-a769-e7bffc2b5162</td>\n",
       "      <td>2.0</td>\n",
       "      <td>2.0</td>\n",
       "    </tr>\n",
       "    <tr>\n",
       "      <th>3</th>\n",
       "      <td>2016</td>\n",
       "      <td>Spring</td>\n",
       "      <td>JAG</td>\n",
       "      <td>1</td>\n",
       "      <td>SSB</td>\n",
       "      <td>40</td>\n",
       "      <td>8829614a-313e-413c-9520-d95d7b95af31</td>\n",
       "      <td>NaN</td>\n",
       "      <td>NaN</td>\n",
       "    </tr>\n",
       "    <tr>\n",
       "      <th>4</th>\n",
       "      <td>2016</td>\n",
       "      <td>Spring</td>\n",
       "      <td>SIN</td>\n",
       "      <td>0</td>\n",
       "      <td>CHF</td>\n",
       "      <td>36</td>\n",
       "      <td>db2cf98d-a55e-4e28-9702-d7363fad2ebb</td>\n",
       "      <td>0.0</td>\n",
       "      <td>4.0</td>\n",
       "    </tr>\n",
       "  </tbody>\n",
       "</table>\n",
       "</div>"
      ],
      "text/plain": [
       "   Year  Season blueTeamTag  bResult redTeamTag  gamelength  \\\n",
       "0  2016  Summer          TT        1        HWA          50   \n",
       "1  2016  Summer         CRW        0        HWA          31   \n",
       "2  2016  Summer         SUP        1        AUR          50   \n",
       "3  2016  Spring         JAG        1        SSB          40   \n",
       "4  2016  Spring         SIN        0        CHF          36   \n",
       "\n",
       "                                game_id  total_kills_b_team  \\\n",
       "0  b96f782c-da04-4641-9306-68968036bfd9                 2.0   \n",
       "1  2a7e2cb1-5ac2-4ea2-bd18-0b261e43345a                 6.0   \n",
       "2  e04ed84d-929b-4f0e-a769-e7bffc2b5162                 2.0   \n",
       "3  8829614a-313e-413c-9520-d95d7b95af31                 NaN   \n",
       "4  db2cf98d-a55e-4e28-9702-d7363fad2ebb                 0.0   \n",
       "\n",
       "   total_kills_r_team  \n",
       "0                 0.0  \n",
       "1                 0.0  \n",
       "2                 2.0  \n",
       "3                 NaN  \n",
       "4                 4.0  "
      ]
     },
     "metadata": {},
     "output_type": "display_data"
    },
    {
     "data": {
      "text/plain": [
       "(4068, 9)"
      ]
     },
     "execution_count": 4,
     "metadata": {},
     "output_type": "execute_result"
    }
   ],
   "source": [
    "#First look\n",
    "display(df.head(5))\n",
    "df.shape"
   ]
  },
  {
   "cell_type": "code",
   "execution_count": 5,
   "metadata": {},
   "outputs": [],
   "source": [
    "#Drop unecessary columns\n",
    "df = df.drop(['blueTeamTag','redTeamTag'],axis=1)"
   ]
  },
  {
   "cell_type": "code",
   "execution_count": 6,
   "metadata": {},
   "outputs": [
    {
     "data": {
      "text/plain": [
       "Year                    int64\n",
       "Season                 object\n",
       "bResult                 int64\n",
       "gamelength              int64\n",
       "game_id                object\n",
       "total_kills_b_team    float64\n",
       "total_kills_r_team    float64\n",
       "dtype: object"
      ]
     },
     "execution_count": 6,
     "metadata": {},
     "output_type": "execute_result"
    }
   ],
   "source": [
    "#Check data type\n",
    "df.dtypes"
   ]
  },
  {
   "cell_type": "code",
   "execution_count": 7,
   "metadata": {},
   "outputs": [
    {
     "data": {
      "text/plain": [
       "Year                    0\n",
       "Season                  0\n",
       "bResult                 0\n",
       "gamelength              0\n",
       "game_id                 0\n",
       "total_kills_b_team    535\n",
       "total_kills_r_team    535\n",
       "dtype: int64"
      ]
     },
     "execution_count": 7,
     "metadata": {},
     "output_type": "execute_result"
    }
   ],
   "source": [
    "#Find columns with nulls values\n",
    "df.isna().sum()"
   ]
  },
  {
   "cell_type": "code",
   "execution_count": 8,
   "metadata": {},
   "outputs": [],
   "source": [
    "#fill nulls\n",
    "df['total_kills_b_team'] = df.total_kills_b_team.fillna(0)\n",
    "df['total_kills_r_team'] = df.total_kills_b_team.fillna(0)"
   ]
  },
  {
   "cell_type": "code",
   "execution_count": 9,
   "metadata": {},
   "outputs": [
    {
     "data": {
      "text/plain": [
       "Year                  0\n",
       "Season                0\n",
       "bResult               0\n",
       "gamelength            0\n",
       "game_id               0\n",
       "total_kills_b_team    0\n",
       "total_kills_r_team    0\n",
       "dtype: int64"
      ]
     },
     "execution_count": 9,
     "metadata": {},
     "output_type": "execute_result"
    }
   ],
   "source": [
    "#Cehck columns with nulls values\n",
    "df.isna().sum()"
   ]
  },
  {
   "cell_type": "code",
   "execution_count": 10,
   "metadata": {},
   "outputs": [
    {
     "data": {
      "text/plain": [
       "<AxesSubplot:>"
      ]
     },
     "execution_count": 10,
     "metadata": {},
     "output_type": "execute_result"
    },
    {
     "data": {
      "image/png": "[encoded data removed]",
      "text/plain": [
       "<Figure size 864x576 with 2 Axes>"
      ]
     },
     "metadata": {
      "needs_background": "light"
     },
     "output_type": "display_data"
    }
   ],
   "source": [
    "#check correlation\n",
    "cor_df = df.corr()\n",
    "lower_triangle_mask = np.triu(np.ones(cor_df.shape)).astype(np.bool)\n",
    "cor_df_lower = cor_df.mask(lower_triangle_mask)\n",
    "plt.figure(figsize = (12,8))\n",
    "sns.heatmap(cor_df_lower, annot = True, cmap = \"RdBu_r\")"
   ]
  },
  {
   "cell_type": "code",
   "execution_count": 11,
   "metadata": {},
   "outputs": [
    {
     "data": {
      "text/plain": [
       "\"\\n#Check for unique values\\ncategoricals = df.select_dtypes(include='object').columns\\n\\nnumber_of_uniques_per_category = df.loc[:, categoricals].nunique()\\n\\n# little plot \\nnumber_of_uniques_per_category.plot(kind='barh',\\n                                    title='# uniques / categories');\\nplt.xlabel('Number of uniques')\\nplt.show()\\n\\nnumber_of_uniques_per_category\\n\""
      ]
     },
     "execution_count": 11,
     "metadata": {},
     "output_type": "execute_result"
    }
   ],
   "source": [
    "\"\"\"\n",
    "#Check for unique values\n",
    "categoricals = df.select_dtypes(include='object').columns\n",
    "\n",
    "number_of_uniques_per_category = df.loc[:, categoricals].nunique()\n",
    "\n",
    "# little plot \n",
    "number_of_uniques_per_category.plot(kind='barh',\n",
    "                                    title='# uniques / categories');\n",
    "plt.xlabel('Number of uniques')\n",
    "plt.show()\n",
    "\n",
    "number_of_uniques_per_category\n",
    "\"\"\""
   ]
  },
  {
   "cell_type": "markdown",
   "metadata": {},
   "source": [
    "# Encoding"
   ]
  },
  {
   "cell_type": "code",
   "execution_count": 12,
   "metadata": {},
   "outputs": [
    {
     "data": {
      "text/plain": [
       "Year                    int64\n",
       "Season                 object\n",
       "bResult                 int64\n",
       "gamelength              int64\n",
       "game_id                object\n",
       "total_kills_b_team    float64\n",
       "total_kills_r_team    float64\n",
       "dtype: object"
      ]
     },
     "execution_count": 12,
     "metadata": {},
     "output_type": "execute_result"
    }
   ],
   "source": [
    "df.dtypes"
   ]
  },
  {
   "cell_type": "code",
   "execution_count": 13,
   "metadata": {},
   "outputs": [],
   "source": [
    "#ENCODING VARIAVEIS CATEGORICAS\n",
    "\n",
    "#Ordinal Encoder\n",
    "for f in df.select_dtypes(include='object').columns:\n",
    "    if f != 'game_id':\n",
    "        encoder = ce.ordinal.OrdinalEncoder()\n",
    "\n",
    "        X2 = df[[f]]\n",
    "        encoder.fit(X2)\n",
    "\n",
    "        df[f+'_Encode'] = encoder.transform(X2)\n",
    "        df = df.drop(f,axis=1)\n"
   ]
  },
  {
   "cell_type": "code",
   "execution_count": 14,
   "metadata": {},
   "outputs": [
    {
     "data": {
      "text/html": [
       "<div>\n",
       "<style scoped>\n",
       "    .dataframe tbody tr th:only-of-type {\n",
       "        vertical-align: middle;\n",
       "    }\n",
       "\n",
       "    .dataframe tbody tr th {\n",
       "        vertical-align: top;\n",
       "    }\n",
       "\n",
       "    .dataframe thead th {\n",
       "        text-align: right;\n",
       "    }\n",
       "</style>\n",
       "<table border=\"1\" class=\"dataframe\">\n",
       "  <thead>\n",
       "    <tr style=\"text-align: right;\">\n",
       "      <th></th>\n",
       "      <th>Year</th>\n",
       "      <th>bResult</th>\n",
       "      <th>gamelength</th>\n",
       "      <th>game_id</th>\n",
       "      <th>total_kills_b_team</th>\n",
       "      <th>total_kills_r_team</th>\n",
       "      <th>Season_Encode</th>\n",
       "    </tr>\n",
       "  </thead>\n",
       "  <tbody>\n",
       "    <tr>\n",
       "      <th>0</th>\n",
       "      <td>2016</td>\n",
       "      <td>1</td>\n",
       "      <td>50</td>\n",
       "      <td>b96f782c-da04-4641-9306-68968036bfd9</td>\n",
       "      <td>2.0</td>\n",
       "      <td>2.0</td>\n",
       "      <td>1</td>\n",
       "    </tr>\n",
       "    <tr>\n",
       "      <th>1</th>\n",
       "      <td>2016</td>\n",
       "      <td>0</td>\n",
       "      <td>31</td>\n",
       "      <td>2a7e2cb1-5ac2-4ea2-bd18-0b261e43345a</td>\n",
       "      <td>6.0</td>\n",
       "      <td>6.0</td>\n",
       "      <td>1</td>\n",
       "    </tr>\n",
       "    <tr>\n",
       "      <th>2</th>\n",
       "      <td>2016</td>\n",
       "      <td>1</td>\n",
       "      <td>50</td>\n",
       "      <td>e04ed84d-929b-4f0e-a769-e7bffc2b5162</td>\n",
       "      <td>2.0</td>\n",
       "      <td>2.0</td>\n",
       "      <td>1</td>\n",
       "    </tr>\n",
       "    <tr>\n",
       "      <th>3</th>\n",
       "      <td>2016</td>\n",
       "      <td>1</td>\n",
       "      <td>40</td>\n",
       "      <td>8829614a-313e-413c-9520-d95d7b95af31</td>\n",
       "      <td>0.0</td>\n",
       "      <td>0.0</td>\n",
       "      <td>2</td>\n",
       "    </tr>\n",
       "    <tr>\n",
       "      <th>4</th>\n",
       "      <td>2016</td>\n",
       "      <td>0</td>\n",
       "      <td>36</td>\n",
       "      <td>db2cf98d-a55e-4e28-9702-d7363fad2ebb</td>\n",
       "      <td>0.0</td>\n",
       "      <td>0.0</td>\n",
       "      <td>2</td>\n",
       "    </tr>\n",
       "    <tr>\n",
       "      <th>...</th>\n",
       "      <td>...</td>\n",
       "      <td>...</td>\n",
       "      <td>...</td>\n",
       "      <td>...</td>\n",
       "      <td>...</td>\n",
       "      <td>...</td>\n",
       "      <td>...</td>\n",
       "    </tr>\n",
       "    <tr>\n",
       "      <th>4063</th>\n",
       "      <td>2016</td>\n",
       "      <td>0</td>\n",
       "      <td>35</td>\n",
       "      <td>55f5aa54-756b-4054-bb85-eea3698c2455</td>\n",
       "      <td>0.0</td>\n",
       "      <td>0.0</td>\n",
       "      <td>2</td>\n",
       "    </tr>\n",
       "    <tr>\n",
       "      <th>4064</th>\n",
       "      <td>2015</td>\n",
       "      <td>1</td>\n",
       "      <td>52</td>\n",
       "      <td>6005ab0a-0a02-4df6-855d-0b7485a46157</td>\n",
       "      <td>0.0</td>\n",
       "      <td>0.0</td>\n",
       "      <td>2</td>\n",
       "    </tr>\n",
       "    <tr>\n",
       "      <th>4065</th>\n",
       "      <td>2016</td>\n",
       "      <td>0</td>\n",
       "      <td>40</td>\n",
       "      <td>fdd3e754-53cc-40d6-8f61-c881e28e920b</td>\n",
       "      <td>2.0</td>\n",
       "      <td>2.0</td>\n",
       "      <td>2</td>\n",
       "    </tr>\n",
       "    <tr>\n",
       "      <th>4066</th>\n",
       "      <td>2015</td>\n",
       "      <td>0</td>\n",
       "      <td>36</td>\n",
       "      <td>87e8410f-f028-4186-9c2c-3fe3c2e41fe3</td>\n",
       "      <td>0.0</td>\n",
       "      <td>0.0</td>\n",
       "      <td>1</td>\n",
       "    </tr>\n",
       "    <tr>\n",
       "      <th>4067</th>\n",
       "      <td>2016</td>\n",
       "      <td>1</td>\n",
       "      <td>42</td>\n",
       "      <td>75c33cf7-44b3-4439-994a-d27a308117b1</td>\n",
       "      <td>2.0</td>\n",
       "      <td>2.0</td>\n",
       "      <td>2</td>\n",
       "    </tr>\n",
       "  </tbody>\n",
       "</table>\n",
       "<p>4068 rows × 7 columns</p>\n",
       "</div>"
      ],
      "text/plain": [
       "      Year  bResult  gamelength                               game_id  \\\n",
       "0     2016        1          50  b96f782c-da04-4641-9306-68968036bfd9   \n",
       "1     2016        0          31  2a7e2cb1-5ac2-4ea2-bd18-0b261e43345a   \n",
       "2     2016        1          50  e04ed84d-929b-4f0e-a769-e7bffc2b5162   \n",
       "3     2016        1          40  8829614a-313e-413c-9520-d95d7b95af31   \n",
       "4     2016        0          36  db2cf98d-a55e-4e28-9702-d7363fad2ebb   \n",
       "...    ...      ...         ...                                   ...   \n",
       "4063  2016        0          35  55f5aa54-756b-4054-bb85-eea3698c2455   \n",
       "4064  2015        1          52  6005ab0a-0a02-4df6-855d-0b7485a46157   \n",
       "4065  2016        0          40  fdd3e754-53cc-40d6-8f61-c881e28e920b   \n",
       "4066  2015        0          36  87e8410f-f028-4186-9c2c-3fe3c2e41fe3   \n",
       "4067  2016        1          42  75c33cf7-44b3-4439-994a-d27a308117b1   \n",
       "\n",
       "      total_kills_b_team  total_kills_r_team  Season_Encode  \n",
       "0                    2.0                 2.0              1  \n",
       "1                    6.0                 6.0              1  \n",
       "2                    2.0                 2.0              1  \n",
       "3                    0.0                 0.0              2  \n",
       "4                    0.0                 0.0              2  \n",
       "...                  ...                 ...            ...  \n",
       "4063                 0.0                 0.0              2  \n",
       "4064                 0.0                 0.0              2  \n",
       "4065                 2.0                 2.0              2  \n",
       "4066                 0.0                 0.0              1  \n",
       "4067                 2.0                 2.0              2  \n",
       "\n",
       "[4068 rows x 7 columns]"
      ]
     },
     "execution_count": 14,
     "metadata": {},
     "output_type": "execute_result"
    }
   ],
   "source": [
    "df"
   ]
  },
  {
   "cell_type": "markdown",
   "metadata": {},
   "source": [
    "# Scalling numericals"
   ]
  },
  {
   "cell_type": "code",
   "execution_count": 15,
   "metadata": {},
   "outputs": [
    {
     "data": {
      "text/html": [
       "<div>\n",
       "<style scoped>\n",
       "    .dataframe tbody tr th:only-of-type {\n",
       "        vertical-align: middle;\n",
       "    }\n",
       "\n",
       "    .dataframe tbody tr th {\n",
       "        vertical-align: top;\n",
       "    }\n",
       "\n",
       "    .dataframe thead th {\n",
       "        text-align: right;\n",
       "    }\n",
       "</style>\n",
       "<table border=\"1\" class=\"dataframe\">\n",
       "  <thead>\n",
       "    <tr style=\"text-align: right;\">\n",
       "      <th></th>\n",
       "      <th>Year</th>\n",
       "      <th>bResult</th>\n",
       "      <th>gamelength</th>\n",
       "      <th>total_kills_b_team</th>\n",
       "      <th>total_kills_r_team</th>\n",
       "    </tr>\n",
       "  </thead>\n",
       "  <tbody>\n",
       "    <tr>\n",
       "      <th>count</th>\n",
       "      <td>4068.000000</td>\n",
       "      <td>4068.000000</td>\n",
       "      <td>4068.000000</td>\n",
       "      <td>4068.000000</td>\n",
       "      <td>4068.000000</td>\n",
       "    </tr>\n",
       "    <tr>\n",
       "      <th>mean</th>\n",
       "      <td>2015.593904</td>\n",
       "      <td>0.536136</td>\n",
       "      <td>37.507620</td>\n",
       "      <td>3.145526</td>\n",
       "      <td>3.145526</td>\n",
       "    </tr>\n",
       "    <tr>\n",
       "      <th>std</th>\n",
       "      <td>0.528771</td>\n",
       "      <td>0.498754</td>\n",
       "      <td>8.004897</td>\n",
       "      <td>3.267210</td>\n",
       "      <td>3.267210</td>\n",
       "    </tr>\n",
       "    <tr>\n",
       "      <th>min</th>\n",
       "      <td>2014.000000</td>\n",
       "      <td>0.000000</td>\n",
       "      <td>18.000000</td>\n",
       "      <td>0.000000</td>\n",
       "      <td>0.000000</td>\n",
       "    </tr>\n",
       "    <tr>\n",
       "      <th>25%</th>\n",
       "      <td>2015.000000</td>\n",
       "      <td>0.000000</td>\n",
       "      <td>32.000000</td>\n",
       "      <td>0.000000</td>\n",
       "      <td>0.000000</td>\n",
       "    </tr>\n",
       "    <tr>\n",
       "      <th>50%</th>\n",
       "      <td>2016.000000</td>\n",
       "      <td>1.000000</td>\n",
       "      <td>37.000000</td>\n",
       "      <td>2.000000</td>\n",
       "      <td>2.000000</td>\n",
       "    </tr>\n",
       "    <tr>\n",
       "      <th>75%</th>\n",
       "      <td>2016.000000</td>\n",
       "      <td>1.000000</td>\n",
       "      <td>42.000000</td>\n",
       "      <td>4.000000</td>\n",
       "      <td>4.000000</td>\n",
       "    </tr>\n",
       "    <tr>\n",
       "      <th>max</th>\n",
       "      <td>2016.000000</td>\n",
       "      <td>1.000000</td>\n",
       "      <td>81.000000</td>\n",
       "      <td>28.000000</td>\n",
       "      <td>28.000000</td>\n",
       "    </tr>\n",
       "  </tbody>\n",
       "</table>\n",
       "</div>"
      ],
      "text/plain": [
       "              Year      bResult   gamelength  total_kills_b_team  \\\n",
       "count  4068.000000  4068.000000  4068.000000         4068.000000   \n",
       "mean   2015.593904     0.536136    37.507620            3.145526   \n",
       "std       0.528771     0.498754     8.004897            3.267210   \n",
       "min    2014.000000     0.000000    18.000000            0.000000   \n",
       "25%    2015.000000     0.000000    32.000000            0.000000   \n",
       "50%    2016.000000     1.000000    37.000000            2.000000   \n",
       "75%    2016.000000     1.000000    42.000000            4.000000   \n",
       "max    2016.000000     1.000000    81.000000           28.000000   \n",
       "\n",
       "       total_kills_r_team  \n",
       "count         4068.000000  \n",
       "mean             3.145526  \n",
       "std              3.267210  \n",
       "min              0.000000  \n",
       "25%              0.000000  \n",
       "50%              2.000000  \n",
       "75%              4.000000  \n",
       "max             28.000000  "
      ]
     },
     "execution_count": 15,
     "metadata": {},
     "output_type": "execute_result"
    }
   ],
   "source": [
    "numericals = df.select_dtypes(include=['int64','float64']).columns\n",
    "df[numericals].describe()"
   ]
  },
  {
   "cell_type": "code",
   "execution_count": 16,
   "metadata": {},
   "outputs": [
    {
     "data": {
      "text/plain": [
       "\"\\n##SCALE DE VARIAVEIS NUMERICAS\\n\\nfrom sklearn.preprocessing import RobustScaler\\n\\n#Features to scale\\n\\nscale_list = ['ORIGIN_AIRPORT_ID', 'DEST_AIRPORT_ID', 'OP_CARRIER_AIRLINE_ID', 'OP_CARRIER_FL_NUM']\\n\\n\\nfor f in scale_list:\\n    # initialize transformer with desired options\\n    robustscaler = RobustScaler()\\n\\n    # save data to scale\\n    X_rbs = df[[f]]\\n\\n    # fit transformer to data\\n    robustscaler.fit(X_rbs)\\n\\n    # create new feature by transforming the data\\n    col_new_name = f + '_robust_scaled'\\n    df[f] = robustscaler.transform(X_rbs)\\n\\n\\n#drop original columns\\ndf.drop(scale_list, axis = 1)\\ndf\\n\""
      ]
     },
     "execution_count": 16,
     "metadata": {},
     "output_type": "execute_result"
    }
   ],
   "source": [
    "\"\"\"\n",
    "##SCALE DE VARIAVEIS NUMERICAS\n",
    "\n",
    "from sklearn.preprocessing import RobustScaler\n",
    "\n",
    "#Features to scale\n",
    "\n",
    "scale_list = ['ORIGIN_AIRPORT_ID', 'DEST_AIRPORT_ID', 'OP_CARRIER_AIRLINE_ID', 'OP_CARRIER_FL_NUM']\n",
    "\n",
    "\n",
    "for f in scale_list:\n",
    "    # initialize transformer with desired options\n",
    "    robustscaler = RobustScaler()\n",
    "\n",
    "    # save data to scale\n",
    "    X_rbs = df[[f]]\n",
    "\n",
    "    # fit transformer to data\n",
    "    robustscaler.fit(X_rbs)\n",
    "\n",
    "    # create new feature by transforming the data\n",
    "    col_new_name = f + '_robust_scaled'\n",
    "    df[f] = robustscaler.transform(X_rbs)\n",
    "\n",
    "\n",
    "#drop original columns\n",
    "df.drop(scale_list, axis = 1)\n",
    "df\n",
    "\"\"\""
   ]
  },
  {
   "cell_type": "code",
   "execution_count": 17,
   "metadata": {},
   "outputs": [],
   "source": [
    "df.to_csv('data/' + dataset + '_out.csv', index=False)"
   ]
  }
 ],
 "metadata": {
  "kernelspec": {
   "display_name": "Python 3",
   "language": "python",
   "name": "python3"
  },
  "language_info": {
   "codemirror_mode": {
    "name": "ipython",
    "version": 3
   },
   "file_extension": ".py",
   "mimetype": "text/x-python",
   "name": "python",
   "nbconvert_exporter": "python",
   "pygments_lexer": "ipython3",
   "version": "3.8.5"
  }
 },
 "nbformat": 4,
 "nbformat_minor": 4
}
