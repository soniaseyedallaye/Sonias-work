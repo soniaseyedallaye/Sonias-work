{
 "cells": [
  {
   "cell_type": "code",
   "execution_count": 1,
   "metadata": {},
   "outputs": [
    {
     "name": "stdout",
     "output_type": "stream",
     "text": [
      "'Exercise notebook.ipynb'\r\n",
      "\"Learning Notebook - Part 1 of 3 - Dealing with csv's... and beyond.ipynb\"\r\n",
      "'Learning Notebook - Part 2 of 3 - Common Problems and Solutions.ipynb'\r\n",
      "'Learning Notebook - Part 3 of 3 - Dealing with larger datasets.ipynb'\r\n",
      " README.md\r\n",
      " Untitled.ipynb\r\n",
      " data\r\n",
      " media\r\n",
      " requirements.txt\r\n"
     ]
    }
   ],
   "source": [
    "! ls"
   ]
  },
  {
   "cell_type": "code",
   "execution_count": 2,
   "metadata": {},
   "outputs": [],
   "source": [
    "! explorer.exe ."
   ]
  },
  {
   "cell_type": "code",
   "execution_count": 3,
   "metadata": {},
   "outputs": [
    {
     "ename": "NameError",
     "evalue": "name 'lh' is not defined",
     "output_type": "error",
     "traceback": [
      "\u001b[0;31m---------------------------------------------------------------------------\u001b[0m",
      "\u001b[0;31mNameError\u001b[0m                                 Traceback (most recent call last)",
      "\u001b[0;32m<ipython-input-3-aff17478a47c>\u001b[0m in \u001b[0;36m<module>\u001b[0;34m\u001b[0m\n\u001b[0;32m----> 1\u001b[0;31m \u001b[0mlh\u001b[0m\u001b[0;34m\u001b[0m\u001b[0;34m\u001b[0m\u001b[0m\n\u001b[0m",
      "\u001b[0;31mNameError\u001b[0m: name 'lh' is not defined"
     ]
    }
   ],
   "source": [
    "lh"
   ]
  },
  {
   "cell_type": "code",
   "execution_count": 4,
   "metadata": {},
   "outputs": [
    {
     "name": "stdout",
     "output_type": "stream",
     "text": [
      "/bin/bash: lh: command not found\r\n"
     ]
    }
   ],
   "source": [
    "! lh"
   ]
  },
  {
   "cell_type": "code",
   "execution_count": 5,
   "metadata": {},
   "outputs": [
    {
     "name": "stdout",
     "output_type": "stream",
     "text": [
      "/bin/bash: ls-lh: command not found\r\n"
     ]
    }
   ],
   "source": [
    "! ls-lh"
   ]
  },
  {
   "cell_type": "code",
   "execution_count": 6,
   "metadata": {},
   "outputs": [
    {
     "name": "stdout",
     "output_type": "stream",
     "text": [
      "total 280K\r\n",
      "-rw-rw-rw- 1 sonia sonia  25K Aug 10 20:10 'Exercise notebook.ipynb'\r\n",
      "-rw-rw-rw- 1 sonia sonia 132K Aug 10 20:10 \"Learning Notebook - Part 1 of 3 - Dealing with csv's... and beyond.ipynb\"\r\n",
      "-rw-rw-rw- 1 sonia sonia  65K Aug 10 20:10 'Learning Notebook - Part 2 of 3 - Common Problems and Solutions.ipynb'\r\n",
      "-rw-rw-rw- 1 sonia sonia  35K Aug 10 20:10 'Learning Notebook - Part 3 of 3 - Dealing with larger datasets.ipynb'\r\n",
      "-rw-rw-rw- 1 sonia sonia 1.5K Aug 10 20:03  README.md\r\n",
      "-rw-rw-rw- 1 sonia sonia 2.1K Aug 10 20:15  Untitled.ipynb\r\n",
      "drwxrwxrwx 1 sonia sonia 4.0K Aug 10 20:03  data\r\n",
      "drwxrwxrwx 1 sonia sonia 4.0K Aug 10 20:03  media\r\n",
      "-rw-rw-rw- 1 sonia sonia 1.4K Aug 10 20:03  requirements.txt\r\n"
     ]
    }
   ],
   "source": [
    "!ls -lh"
   ]
  },
  {
   "cell_type": "code",
   "execution_count": 10,
   "metadata": {},
   "outputs": [
    {
     "name": "stdout",
     "output_type": "stream",
     "text": [
      "Lorem ipsum dolor sit amet, consectetur adipiscing elit. Duis et tristique enim. Sed eget venenatis eros, quis suscipit lorem. Ut malesuada, erat a scelerisque cursus, odio mi sodales ligula, at elementum ipsum dui condimentum ipsum. Nam imperdiet viverra dictum. Aenean commodo accumsan iaculis. Vestibulum ante ipsum primis in faucibus orci luctus et ultrices posuere cubilia Curae; Maecenas sed suscipit odio, ornare ullamcorper felis. Donec sit amet egestas sem, ac semper sem. Integer mattis purus sed orci volutpat porta. Donec cursus dapibus interdum. Donec ornare mattis dolor. Sed quis scelerisque nisl, in efficitur odio. Phasellus posuere libero eget orci feugiat scelerisque. Phasellus ullamcorper tortor nec facilisis blandit.\r\n",
      "Vestibulum tempus, purus id ultrices eleifend, lorem nunc malesuada odio, vitae aliquam elit ipsum a nulla. Vivamus sed neque arcu. Vivamus commodo nunc a est hendrerit tempor. Nullam viverra sit amet augue in sagittis. Pellentesque molestie porttitor volutpat. Nullam nec sagittis mi. Duis tempor dui mollis ligula vehicula, sed sodales lacus ullamcorper. Maecenas ultrices vestibulum mollis.\r\n"
     ]
    }
   ],
   "source": [
    "! cat data/lorem/lorem_ipsum_short.txt"
   ]
  },
  {
   "cell_type": "code",
   "execution_count": 13,
   "metadata": {},
   "outputs": [
    {
     "name": "stdout",
     "output_type": "stream",
     "text": [
      "150\r\n"
     ]
    }
   ],
   "source": [
    "! wc -l < data/lorem/lorem_ipsum_long.txt"
   ]
  },
  {
   "cell_type": "code",
   "execution_count": 14,
   "metadata": {},
   "outputs": [
    {
     "name": "stdout",
     "output_type": "stream",
     "text": [
      "Lorem ipsum dolor sit amet, consectetur adipiscing elit. Sed pharetra pulvinar nulla, nec ultricies velit posuere nec. Nulla rhoncus convallis lectus in dignissim. Nulla aliquet justo risus, ac dapibus urna faucibus aliquet. Cras in pretium leo. Etiam id neque a erat feugiat vehicula. Curabitur accumsan volutpat ante, vitae vestibulum lorem congue et. Vivamus fringilla massa id dictum bibendum. Maecenas iaculis arcu ut tellus varius, at imperdiet metus lacinia. Maecenas eget turpis metus. Maecenas est mauris, venenatis cursus nulla at, gravida posuere sapien. Fusce a ex purus. Pellentesque eleifend, lorem sed pulvinar scelerisque, orci eros maximus purus, id sagittis dolor est non nulla. Vestibulum ex metus, porttitor a leo ornare, pharetra pharetra libero. Suspendisse cursus ligula in ante tincidunt rhoncus malesuada eu justo.\r\n",
      "Class aptent taciti sociosqu ad litora torquent per conubia nostra, per inceptos himenaeos. Nam nec sem nisl. Aliquam at velit neque. Cras nec sem fringilla, hendrerit massa vel, accumsan leo. Sed scelerisque tellus ut diam volutpat, in gravida justo tristique. Morbi venenatis nisi id aliquam congue. Curabitur ut convallis justo, eu mattis augue. Aliquam sollicitudin elit eros, eu vulputate enim eleifend sed. Fusce sollicitudin fermentum mauris, id hendrerit dui vehicula sit amet. Duis tempus tellus ut sem malesuada lobortis. Vivamus rutrum sit amet eros ac faucibus. Sed gravida ante ut porta lacinia. In et ante ante.\r\n"
     ]
    }
   ],
   "source": [
    "! head -2 data/lorem/lorem_ipsum_long.txt"
   ]
  },
  {
   "cell_type": "code",
   "execution_count": 15,
   "metadata": {},
   "outputs": [
    {
     "name": "stdout",
     "output_type": "stream",
     "text": [
      "150\r\n"
     ]
    }
   ],
   "source": [
    "! wc -l < data/lorem/lorem_ipsum_long.txt"
   ]
  },
  {
   "cell_type": "code",
   "execution_count": 16,
   "metadata": {},
   "outputs": [
    {
     "name": "stdout",
     "output_type": "stream",
     "text": [
      "Lorem ipsum dolor sit amet, consectetur adipiscing elit. Sed pharetra pulvinar nulla, nec ultricies velit posuere nec. Nulla rhoncus convallis lectus in dignissim. Nulla aliquet justo risus, ac dapibus urna faucibus aliquet. Cras in pretium leo. Etiam id neque a erat feugiat vehicula. Curabitur accumsan volutpat ante, vitae vestibulum lorem congue et. Vivamus fringilla massa id dictum bibendum. Maecenas iaculis arcu ut tellus varius, at imperdiet metus lacinia. Maecenas eget turpis metus. Maecenas est mauris, venenatis cursus nulla at, gravida posuere sapien. Fusce a ex purus. Pellentesque eleifend, lorem sed pulvinar scelerisque, orci eros maximus purus, id sagittis dolor est non nulla. Vestibulum ex metus, porttitor a leo ornare, pharetra pharetra libero. Suspendisse cursus ligula in ante tincidunt rhoncus malesuada eu justo.\r\n",
      "Class aptent taciti sociosqu ad litora torquent per conubia nostra, per inceptos himenaeos. Nam nec sem nisl. Aliquam at velit neque. Cras nec sem fringilla, hendrerit massa vel, accumsan leo. Sed scelerisque tellus ut diam volutpat, in gravida justo tristique. Morbi venenatis nisi id aliquam congue. Curabitur ut convallis justo, eu mattis augue. Aliquam sollicitudin elit eros, eu vulputate enim eleifend sed. Fusce sollicitudin fermentum mauris, id hendrerit dui vehicula sit amet. Duis tempus tellus ut sem malesuada lobortis. Vivamus rutrum sit amet eros ac faucibus. Sed gravida ante ut porta lacinia. In et ante ante.\r\n"
     ]
    }
   ],
   "source": [
    "! head -2 data/lorem/lorem_ipsum_long.txt"
   ]
  },
  {
   "cell_type": "code",
   "execution_count": 17,
   "metadata": {},
   "outputs": [
    {
     "name": "stdout",
     "output_type": "stream",
     "text": [
      "Morbi sodales et felis in bibendum. Nullam sollicitudin dapibus tellus, at molestie dui sagittis sed. Proin a tellus ac mi pharetra ullamcorper et in diam. Donec at posuere massa. Vestibulum ante ipsum primis in faucibus orci luctus et ultrices posuere cubilia Curae; Quisque faucibus justo sollicitudin tincidunt tincidunt. Mauris magna massa, convallis quis erat sit amet, varius consequat nibh. In ac elit eu purus tempor lobortis quis at ante. Aliquam erat volutpat. Etiam sed arcu ut ex venenatis suscipit. Quisque ac porta diam. Lorem ipsum dolor sit amet, consectetur adipiscing elit. Fusce tristique malesuada diam, at hendrerit neque euismod sit amet.\r\n",
      "Aenean commodo posuere elit, et ornare mi bibendum eget. Mauris scelerisque elit neque, vel eleifend leo pellentesque et. Aliquam erat volutpat. Vestibulum porttitor, neque in eleifend tincidunt, dolor tortor sagittis velit, a vehicula odio lectus et neque. Etiam odio diam, congue nec neque quis, hendrerit convallis nisi. Nullam leo ligula, faucibus eu felis eget, imperdiet egestas odio. Integer mollis consectetur fringilla. Maecenas quis blandit justo, ac tempor libero. Morbi ac est eu leo feugiat venenatis at in massa. In mattis mollis rutrum. Donec tempor auctor interdum. Etiam ultricies mi non mi convallis, at congue est tincidunt.\r\n",
      "Nunc ut luctus ligula. Class aptent taciti sociosqu ad litora torquent per conubia nostra, per inceptos himenaeos. Sed eu imperdiet erat. Donec sit amet odio tincidunt lorem consectetur tempus. Orci varius natoque penatibus et magnis dis parturient montes, nascetur ridiculus mus. Curabitur blandit arcu et purus facilisis vehicula. Aenean cursus felis enim, nec fringilla nisl laoreet vitae. Donec hendrerit mi lectus, eu convallis urna accumsan vitae. Donec imperdiet egestas justo, ullamcorper aliquam ex semper non. Fusce vel consectetur nulla, ac interdum odio. Suspendisse sit amet magna laoreet, interdum augue eu, pellentesque tortor. Sed consectetur blandit massa, interdum efficitur libero ullamcorper eget. Donec interdum sagittis justo, quis aliquam arcu pellentesque quis.\r\n"
     ]
    }
   ],
   "source": [
    "! tail -3 data/lorem/lorem_ipsum_long.txt"
   ]
  },
  {
   "cell_type": "code",
   "execution_count": 18,
   "metadata": {},
   "outputs": [],
   "source": [
    "var = ! wc -l < data/lorem/lorem_ipsum_long.txt"
   ]
  },
  {
   "cell_type": "code",
   "execution_count": 19,
   "metadata": {},
   "outputs": [
    {
     "data": {
      "text/plain": [
       "['150']"
      ]
     },
     "execution_count": 19,
     "metadata": {},
     "output_type": "execute_result"
    }
   ],
   "source": [
    "var"
   ]
  },
  {
   "cell_type": "code",
   "execution_count": 20,
   "metadata": {},
   "outputs": [],
   "source": [
    "var2 = ! head -3"
   ]
  },
  {
   "cell_type": "code",
   "execution_count": 21,
   "metadata": {},
   "outputs": [
    {
     "data": {
      "text/plain": [
       "[]"
      ]
     },
     "execution_count": 21,
     "metadata": {},
     "output_type": "execute_result"
    }
   ],
   "source": [
    "var2"
   ]
  },
  {
   "cell_type": "code",
   "execution_count": 22,
   "metadata": {},
   "outputs": [],
   "source": [
    "var3 = ! ls -la"
   ]
  },
  {
   "cell_type": "code",
   "execution_count": 23,
   "metadata": {},
   "outputs": [
    {
     "data": {
      "text/plain": [
       "['total 288',\n",
       " 'drwxrwxrwx 1 sonia sonia   4096 Aug 10 20:39 .',\n",
       " 'drwxrwxrwx 1 sonia sonia   4096 Aug 10 20:03 ..',\n",
       " 'drwxrwxrwx 1 sonia sonia   4096 Aug 10 20:13 .ipynb_checkpoints',\n",
       " '-rw-rw-rw- 1 sonia sonia  25491 Aug 10 20:10 Exercise notebook.ipynb',\n",
       " \"-rw-rw-rw- 1 sonia sonia 134480 Aug 10 20:10 Learning Notebook - Part 1 of 3 - Dealing with csv's... and beyond.ipynb\",\n",
       " '-rw-rw-rw- 1 sonia sonia  65559 Aug 10 20:10 Learning Notebook - Part 2 of 3 - Common Problems and Solutions.ipynb',\n",
       " '-rw-rw-rw- 1 sonia sonia  35678 Aug 10 20:10 Learning Notebook - Part 3 of 3 - Dealing with larger datasets.ipynb',\n",
       " '-rw-rw-rw- 1 sonia sonia   1456 Aug 10 20:03 README.md',\n",
       " '-rw-rw-rw- 1 sonia sonia  12114 Aug 10 20:39 Untitled.ipynb',\n",
       " 'drwxrwxrwx 1 sonia sonia   4096 Aug 10 20:03 data',\n",
       " 'drwxrwxrwx 1 sonia sonia   4096 Aug 10 20:03 media',\n",
       " '-rw-rw-rw- 1 sonia sonia   1338 Aug 10 20:03 requirements.txt']"
      ]
     },
     "execution_count": 23,
     "metadata": {},
     "output_type": "execute_result"
    }
   ],
   "source": [
    "var3"
   ]
  },
  {
   "cell_type": "code",
   "execution_count": 27,
   "metadata": {},
   "outputs": [
    {
     "name": "stdout",
     "output_type": "stream",
     "text": [
      "150\r\n"
     ]
    }
   ],
   "source": [
    "filename = \"data/lorem/lorem_ipsum_long.txt\"\n",
    "! wc -l < {filename}"
   ]
  },
  {
   "cell_type": "code",
   "execution_count": 28,
   "metadata": {},
   "outputs": [
    {
     "name": "stdout",
     "output_type": "stream",
     "text": [
      "#,Name,Type 1,Type 2,HP,Attack,Defense,Sp. Atk,Sp. Def,Speed,Generation,Legendary\r\n",
      "1,Bulbasaur,Grass,Poison,45,49,49,65,65,45,1,False\r\n",
      "2,Ivysaur,Grass,Poison,60,62,63,80,80,60,1,False\r\n",
      "3,Venusaur,Grass,Poison,80,82,83,100,100,80,1,False\r\n",
      "4,Mega Venusaur,Grass,Poison,80,100,123,122,120,80,1,False\r\n"
     ]
    }
   ],
   "source": [
    "! head -5 data/pokemons/pokemons.csv"
   ]
  },
  {
   "cell_type": "code",
   "execution_count": 29,
   "metadata": {},
   "outputs": [
    {
     "name": "stdout",
     "output_type": "stream",
     "text": [
      "{\r\n",
      "    \"1\": {\r\n",
      "        \"Name\": \"Bulbasaur\",\r\n",
      "        \"Types\": [\r\n",
      "            \"Grass\",\r\n",
      "            \"Poison\"\r\n",
      "        ],\r\n",
      "        \"HP\": 45,\r\n",
      "        \"Attack\": 49,\r\n",
      "        \"Defense\": 49,\r\n",
      "        \"Sp. Atk\": 65,\r\n",
      "        \"Sp. Def\": 65,\r\n",
      "        \"Speed\": 45,\r\n",
      "        \"Generation\": 1,\r\n",
      "        \"Legendary\": false\r\n",
      "    },\r\n",
      "    \"2\": {\r\n",
      "        \"Name\": \"Ivysaur\",\r\n",
      "        \"Types\": [\r\n",
      "            \"Grass\",\r\n",
      "            \"Poison\"\r\n",
      "        ],\r\n",
      "        \"HP\": 60,\r\n",
      "        \"Attack\": 62,\r\n",
      "        \"Defense\": 63,\r\n",
      "        \"Sp. Atk\": 80,\r\n",
      "        \"Sp. Def\": 80,\r\n",
      "        \"Speed\": 60,\r\n",
      "        \"Generation\": 1,\r\n",
      "        \"Legendary\": false\r\n",
      "    }\r\n",
      "}"
     ]
    }
   ],
   "source": [
    "! cat data/pokemons/pokemons.json"
   ]
  },
  {
   "cell_type": "code",
   "execution_count": 30,
   "metadata": {},
   "outputs": [
    {
     "name": "stdout",
     "output_type": "stream",
     "text": [
      "<table border=\"1\" class=\"dataframe\">\r\n",
      "  <thead>\r\n",
      "    <tr style=\"text-align: right;\">\r\n",
      "      <th>#</th>\r\n",
      "      <th>Name</th>\r\n",
      "      <th>Type 1</th>\r\n",
      "      <th>Type 2</th>\r\n",
      "      <th>HP</th>\r\n",
      "      <th>Attack</th>\r\n",
      "      <th>Defense</th>\r\n",
      "      <th>Sp. Atk</th>\r\n",
      "      <th>Sp. Def</th>\r\n",
      "      <th>Speed</th>\r\n",
      "      <th>Generation</th>\r\n",
      "      <th>Legendary</th>\r\n",
      "    </tr>\r\n",
      "  </thead>\r\n",
      "  <tbody>\r\n",
      "    <tr>\r\n",
      "      <td>1</td>\r\n",
      "      <td>Bulbasaur</td>\r\n",
      "      <td>Grass</td>\r\n",
      "      <td>Poison</td>\r\n",
      "      <td>45</td>\r\n",
      "      <td>49</td>\r\n",
      "      <td>49</td>\r\n",
      "      <td>65</td>\r\n",
      "      <td>65</td>\r\n",
      "      <td>45</td>\r\n",
      "      <td>1</td>\r\n",
      "      <td>False</td>\r\n",
      "    </tr>\r\n",
      "    <tr>\r\n",
      "      <td>2</td>\r\n",
      "      <td>Ivysaur</td>\r\n",
      "      <td>Grass</td>\r\n",
      "      <td>Poison</td>\r\n",
      "      <td>60</td>\r\n",
      "      <td>62</td>\r\n",
      "      <td>63</td>\r\n",
      "      <td>80</td>\r\n",
      "      <td>80</td>\r\n",
      "      <td>60</td>\r\n",
      "      <td>1</td>\r\n",
      "      <td>False</td>\r\n",
      "    </tr>\r\n",
      "  </tbody>\r\n",
      "</table>"
     ]
    }
   ],
   "source": [
    "! cat data/pokemons/pokemons.html"
   ]
  },
  {
   "cell_type": "markdown",
   "metadata": {},
   "source": [
    "<table border=\"1\" class=\"dataframe\">\n",
    "  <thead>\n",
    "    <tr style=\"text-align: right;\">\n",
    "      <th>#</th>\n",
    "      <th>Name</th>\n",
    "      <th>Type 1</th>\n",
    "      <th>Type 2</th>\n",
    "      <th>HP</th>\n",
    "      <th>Attack</th>\n",
    "      <th>Defense</th>\n",
    "      <th>Sp. Atk</th>\n",
    "      <th>Sp. Def</th>\n",
    "      <th>Speed</th>\n",
    "      <th>Generation</th>\n",
    "      <th>Legendary</th>\n",
    "    </tr>\n",
    "  </thead>\n",
    "  <tbody>\n",
    "    <tr>\n",
    "      <td>1</td>\n",
    "      <td>Bulbasaur</td>\n",
    "      <td>Grass</td>\n",
    "      <td>Poison</td>\n",
    "      <td>45</td>\n",
    "      <td>49</td>\n",
    "      <td>49</td>\n",
    "      <td>65</td>\n",
    "      <td>65</td>\n",
    "      <td>45</td>\n",
    "      <td>1</td>\n",
    "      <td>False</td>\n",
    "    </tr>\n",
    "    <tr>\n",
    "      <td>2</td>\n",
    "      <td>Ivysaur</td>\n",
    "      <td>Grass</td>\n",
    "      <td>Poison</td>\n",
    "      <td>60</td>\n",
    "      <td>62</td>\n",
    "      <td>63</td>\n",
    "      <td>80</td>\n",
    "      <td>80</td>\n",
    "      <td>60</td>\n",
    "      <td>1</td>\n",
    "      <td>False</td>\n",
    "    </tr>\n",
    "  </tbody>\n",
    "</table>"
   ]
  },
  {
   "cell_type": "code",
   "execution_count": 31,
   "metadata": {},
   "outputs": [],
   "source": [
    "import pandas as pd"
   ]
  },
  {
   "cell_type": "code",
   "execution_count": 32,
   "metadata": {},
   "outputs": [
    {
     "data": {
      "text/plain": [
       "2"
      ]
     },
     "execution_count": 32,
     "metadata": {},
     "output_type": "execute_result"
    }
   ],
   "source": [
    "5%3"
   ]
  },
  {
   "cell_type": "code",
   "execution_count": null,
   "metadata": {},
   "outputs": [],
   "source": []
  }
 ],
 "metadata": {
  "kernelspec": {
   "display_name": "Python 3",
   "language": "python",
   "name": "python3"
  },
  "language_info": {
   "codemirror_mode": {
    "name": "ipython",
    "version": 3
   },
   "file_extension": ".py",
   "mimetype": "text/x-python",
   "name": "python",
   "nbconvert_exporter": "python",
   "pygments_lexer": "ipython3",
   "version": "3.6.9"
  }
 },
 "nbformat": 4,
 "nbformat_minor": 4
}
