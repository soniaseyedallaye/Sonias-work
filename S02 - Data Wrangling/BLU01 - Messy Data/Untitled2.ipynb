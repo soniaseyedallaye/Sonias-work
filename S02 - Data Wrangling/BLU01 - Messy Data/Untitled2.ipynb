{
 "cells": [
  {
   "cell_type": "code",
   "execution_count": 1,
   "metadata": {},
   "outputs": [
    {
     "name": "stdout",
     "output_type": "stream",
     "text": [
      "'Exercise notebook.ipynb'\r\n",
      "\"Learning Notebook - Part 1 of 3 - Dealing with csv's... and beyond.ipynb\"\r\n",
      "'Learning Notebook - Part 2 of 3 - Common Problems and Solutions.ipynb'\r\n",
      "'Learning Notebook - Part 3 of 3 - Dealing with larger datasets.ipynb'\r\n",
      " README.md\r\n",
      " Untitled.ipynb\r\n",
      " Untitled1.ipynb\r\n",
      " Untitled2.ipynb\r\n",
      " data\r\n",
      " media\r\n",
      " requirements.txt\r\n"
     ]
    }
   ],
   "source": [
    "! ls"
   ]
  },
  {
   "cell_type": "code",
   "execution_count": 2,
   "metadata": {},
   "outputs": [],
   "source": [
    "! cd"
   ]
  },
  {
   "cell_type": "code",
   "execution_count": 4,
   "metadata": {},
   "outputs": [
    {
     "name": "stdout",
     "output_type": "stream",
     "text": [
      "total 348K\r\n",
      "-rw-rw-rw- 1 sonia sonia  64K Aug 27 14:30 'Exercise notebook.ipynb'\r\n",
      "-rw-rw-rw- 1 sonia sonia 132K Aug 27 14:58 \"Learning Notebook - Part 1 of 3 - Dealing with csv's... and beyond.ipynb\"\r\n",
      "-rw-rw-rw- 1 sonia sonia  70K Aug 13 02:56 'Learning Notebook - Part 2 of 3 - Common Problems and Solutions.ipynb'\r\n",
      "-rw-rw-rw- 1 sonia sonia  35K Aug 14 13:26 'Learning Notebook - Part 3 of 3 - Dealing with larger datasets.ipynb'\r\n",
      "-rw-rw-rw- 1 sonia sonia 1.5K Aug 10 20:03  README.md\r\n",
      "-rw-rw-rw- 1 sonia sonia  20K Aug 11 05:37  Untitled.ipynb\r\n",
      "-rw-rw-rw- 1 sonia sonia  11K Aug 14 21:20  Untitled1.ipynb\r\n",
      "-rw-rw-rw- 1 sonia sonia   72 Aug 27 14:56  Untitled2.ipynb\r\n",
      "drwxrwxrwx 1 sonia sonia 4.0K Aug 10 20:03  data\r\n",
      "drwxrwxrwx 1 sonia sonia 4.0K Aug 10 20:03  media\r\n",
      "-rw-rw-rw- 1 sonia sonia 1.4K Aug 10 20:03  requirements.txt\r\n"
     ]
    }
   ],
   "source": [
    "! ls -lh"
   ]
  },
  {
   "cell_type": "code",
   "execution_count": null,
   "metadata": {},
   "outputs": [],
   "source": [
    "!"
   ]
  }
 ],
 "metadata": {
  "kernelspec": {
   "display_name": "Python 3",
   "language": "python",
   "name": "python3"
  },
  "language_info": {
   "codemirror_mode": {
    "name": "ipython",
    "version": 3
   },
   "file_extension": ".py",
   "mimetype": "text/x-python",
   "name": "python",
   "nbconvert_exporter": "python",
   "pygments_lexer": "ipython3",
   "version": "3.6.9"
  }
 },
 "nbformat": 4,
 "nbformat_minor": 4
}
