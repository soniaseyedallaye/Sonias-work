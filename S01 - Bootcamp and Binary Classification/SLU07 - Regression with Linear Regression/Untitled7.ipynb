{
 "cells": [
  {
   "cell_type": "code",
   "execution_count": 3,
   "metadata": {},
   "outputs": [],
   "source": [
    "import numpy as np\n",
    "import matplotlib.pyplot as plt\n",
    "import math"
   ]
  },
  {
   "cell_type": "code",
   "execution_count": 8,
   "metadata": {},
   "outputs": [],
   "source": [
    "def metodoquasinewton(f,d,x0,e,m):\n",
    "    i=1\n",
    "    erro=1\n",
    "    seq = [x0]\n",
    "    if abs(f(x0))<=e:\n",
    "        return i,x0,seq,erro\n",
    "    #print(\"i\\t x0\\t\\t f(x0)\\t\\t erro\\t\")\n",
    "    while erro>e and i<=m:\n",
    "        x1=x0-((d/(f(x0+d)-f(x0)))*f(x0))\n",
    "        erro=abs(x1-x0)\n",
    "        #print(\"%d\\t %e\\t %e\\t %e\"%(i,x1,f(x1),erro))\n",
    "        #if abs(erro)<=e:\n",
    "            #return x1\n",
    "        seq.append(x1)\n",
    "        x0=x1\n",
    "        i=i+1\n",
    "    if i>m:\n",
    "        print(\"Numero de iteracoes ultrapassadas\")\n",
    "    return i,x0,seq,erro"
   ]
  },
  {
   "cell_type": "code",
   "execution_count": 9,
   "metadata": {},
   "outputs": [
    {
     "data": {
      "text/plain": [
       "(10,\n",
       " 0.7601699743733693,\n",
       " [0.5,\n",
       "  0.7510690985830752,\n",
       "  0.7610283863324,\n",
       "  0.7600764071722923,\n",
       "  0.7601800379816339,\n",
       "  0.7601688905811936,\n",
       "  0.7601700912520775,\n",
       "  0.7601699619476088,\n",
       "  0.7601699758730718,\n",
       "  0.7601699743733693],\n",
       " 1.4997024733176545e-09)"
      ]
     },
     "execution_count": 9,
     "metadata": {},
     "output_type": "execute_result"
    }
   ],
   "source": [
    "metodoquasinewton(lambda r: 2*math.exp(-r)*math.sin(3*r)+2*math.exp(-r)*math.cos(3*r)-0.1,0.1,0.5,10**(-8),20)"
   ]
  },
  {
   "cell_type": "code",
   "execution_count": null,
   "metadata": {},
   "outputs": [],
   "source": []
  }
 ],
 "metadata": {
  "kernelspec": {
   "display_name": "Python 3",
   "language": "python",
   "name": "python3"
  },
  "language_info": {
   "codemirror_mode": {
    "name": "ipython",
    "version": 3
   },
   "file_extension": ".py",
   "mimetype": "text/x-python",
   "name": "python",
   "nbconvert_exporter": "python",
   "pygments_lexer": "ipython3",
   "version": "3.6.9"
  }
 },
 "nbformat": 4,
 "nbformat_minor": 4
}
