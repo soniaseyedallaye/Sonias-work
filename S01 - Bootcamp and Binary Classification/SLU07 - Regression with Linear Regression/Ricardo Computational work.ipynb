{
 "cells": [
  {
   "cell_type": "code",
   "execution_count": 3,
   "metadata": {},
   "outputs": [],
   "source": [
    "from math import *"
   ]
  },
  {
   "cell_type": "code",
   "execution_count": 23,
   "metadata": {},
   "outputs": [],
   "source": [
    "def QNewton(f,delt,x0,tol,nmax):\n",
    "    suciter = [x0];\n",
    "    res = [];\n",
    "    if f(x0)==0:\n",
    "        zero = x0\n",
    "        res.append(0)\n",
    "        niter = 0\n",
    "        print('Root equal to the initial iteration.')\n",
    "        #break\n",
    "    fiter=lambda x:x-f(x)*delt/(f(x+delt)-f(x))\n",
    "    zold = x0\n",
    "    niter = 1\n",
    "    znew = fiter(zold)\n",
    "    suciter.append(znew)\n",
    "    erro = abs(znew-zold)\n",
    "    fnew=f(znew)\n",
    "    res.append(erro)\n",
    "    while ((erro >= tol) & ~(fnew == 0) & (niter < nmax)):\n",
    "        zold = znew \n",
    "        fold=f(znew)\n",
    "        znew = fiter(zold) \n",
    "        erro = abs(znew - zold)\n",
    "        fnew=f(znew)\n",
    "        suciter.append(znew) \n",
    "        res.append(erro)\n",
    "        niter = niter + 1\n",
    "    zero = znew\n",
    "    if f(zero)==0:\n",
    "        print('was meet to the root.')\n",
    "    elif niter == nmax:\n",
    "        print('Maximum number of iterations has been reached.')\n",
    "    return zero,res,niter,suciter"
   ]
  },
  {
   "cell_type": "code",
   "execution_count": 15,
   "metadata": {},
   "outputs": [],
   "source": [
    "zero,res,niter,suciter = QNewton(lambda x:x**2-1,0.1,0.1,10**(-6),10)"
   ]
  },
  {
   "cell_type": "code",
   "execution_count": 17,
   "metadata": {},
   "outputs": [
    {
     "data": {
      "text/plain": [
       "1.0000000085482192"
      ]
     },
     "execution_count": 17,
     "metadata": {},
     "output_type": "execute_result"
    }
   ],
   "source": [
    "zero"
   ]
  },
  {
   "cell_type": "code",
   "execution_count": 18,
   "metadata": {},
   "outputs": [
    {
     "data": {
      "text/plain": [
       "[3.299999999999997,\n",
       " 1.53043478260869,\n",
       " 0.6499581466344979,\n",
       " 0.1919654585530317,\n",
       " 0.026004602317723613,\n",
       " 0.0015579042686175715,\n",
       " 7.533598741527037e-05,\n",
       " 3.590117707563678e-06,\n",
       " 1.7096409443695393e-07]"
      ]
     },
     "execution_count": 18,
     "metadata": {},
     "output_type": "execute_result"
    }
   ],
   "source": [
    "res"
   ]
  },
  {
   "cell_type": "code",
   "execution_count": 19,
   "metadata": {},
   "outputs": [
    {
     "data": {
      "text/plain": [
       "9"
      ]
     },
     "execution_count": 19,
     "metadata": {},
     "output_type": "execute_result"
    }
   ],
   "source": [
    "niter"
   ]
  },
  {
   "cell_type": "code",
   "execution_count": 20,
   "metadata": {},
   "outputs": [
    {
     "data": {
      "text/plain": [
       "[0.1,\n",
       " 3.3999999999999972,\n",
       " 1.8695652173913073,\n",
       " 1.2196070707568094,\n",
       " 1.0276416122037777,\n",
       " 1.001637009886054,\n",
       " 1.0000791056174365,\n",
       " 1.0000037696300212,\n",
       " 1.0000001795123137,\n",
       " 1.0000000085482192]"
      ]
     },
     "execution_count": 20,
     "metadata": {},
     "output_type": "execute_result"
    }
   ],
   "source": [
    "suciter"
   ]
  },
  {
   "cell_type": "code",
   "execution_count": 21,
   "metadata": {},
   "outputs": [
    {
     "name": "stdout",
     "output_type": "stream",
     "text": [
      "/bin/sh: 1: explorer: not found\r\n"
     ]
    }
   ],
   "source": [
    "! explorer>exe ."
   ]
  },
  {
   "cell_type": "code",
   "execution_count": 22,
   "metadata": {},
   "outputs": [],
   "source": [
    "! explorer.exe ."
   ]
  },
  {
   "cell_type": "code",
   "execution_count": null,
   "metadata": {},
   "outputs": [],
   "source": []
  }
 ],
 "metadata": {
  "kernelspec": {
   "display_name": "Python 3",
   "language": "python",
   "name": "python3"
  },
  "language_info": {
   "codemirror_mode": {
    "name": "ipython",
    "version": 3
   },
   "file_extension": ".py",
   "mimetype": "text/x-python",
   "name": "python",
   "nbconvert_exporter": "python",
   "pygments_lexer": "ipython3",
   "version": "3.6.9"
  }
 },
 "nbformat": 4,
 "nbformat_minor": 4
}
