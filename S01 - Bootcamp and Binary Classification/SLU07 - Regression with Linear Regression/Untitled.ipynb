{
 "cells": [
  {
   "cell_type": "code",
   "execution_count": 1,
   "metadata": {},
   "outputs": [],
   "source": [
    "linear_regression = lambda x, b0, b1: b0 + b1 * x"
   ]
  },
  {
   "cell_type": "code",
   "execution_count": 3,
   "metadata": {},
   "outputs": [],
   "source": [
    "%matplotlib inline\n",
    "import numpy as np\n",
    "import matplotlib.pyplot as plt\n",
    "import pandas as pd"
   ]
  },
  {
   "cell_type": "code",
   "execution_count": 7,
   "metadata": {},
   "outputs": [
    {
     "data": {
      "text/html": [
       "<div>\n",
       "<style scoped>\n",
       "    .dataframe tbody tr th:only-of-type {\n",
       "        vertical-align: middle;\n",
       "    }\n",
       "\n",
       "    .dataframe tbody tr th {\n",
       "        vertical-align: top;\n",
       "    }\n",
       "\n",
       "    .dataframe thead th {\n",
       "        text-align: right;\n",
       "    }\n",
       "</style>\n",
       "<table border=\"1\" class=\"dataframe\">\n",
       "  <thead>\n",
       "    <tr style=\"text-align: right;\">\n",
       "      <th></th>\n",
       "      <th>x</th>\n",
       "      <th>y</th>\n",
       "    </tr>\n",
       "  </thead>\n",
       "  <tbody>\n",
       "    <tr>\n",
       "      <th>0</th>\n",
       "      <td>-3.325653</td>\n",
       "      <td>4.930689</td>\n",
       "    </tr>\n",
       "    <tr>\n",
       "      <th>1</th>\n",
       "      <td>-5.208228</td>\n",
       "      <td>5.155557</td>\n",
       "    </tr>\n",
       "    <tr>\n",
       "      <th>2</th>\n",
       "      <td>-4.224491</td>\n",
       "      <td>3.764528</td>\n",
       "    </tr>\n",
       "    <tr>\n",
       "      <th>3</th>\n",
       "      <td>-4.000666</td>\n",
       "      <td>4.424947</td>\n",
       "    </tr>\n",
       "    <tr>\n",
       "      <th>4</th>\n",
       "      <td>-5.858069</td>\n",
       "      <td>5.782441</td>\n",
       "    </tr>\n",
       "  </tbody>\n",
       "</table>\n",
       "</div>"
      ],
      "text/plain": [
       "          x         y\n",
       "0 -3.325653  4.930689\n",
       "1 -5.208228  5.155557\n",
       "2 -4.224491  3.764528\n",
       "3 -4.000666  4.424947\n",
       "4 -5.858069  5.782441"
      ]
     },
     "execution_count": 7,
     "metadata": {},
     "output_type": "execute_result"
    }
   ],
   "source": [
    "df = pd.read_csv('data/linear-learning-notebook.csv')\n",
    "df.head(n=5)"
   ]
  },
  {
   "cell_type": "code",
   "execution_count": 8,
   "metadata": {},
   "outputs": [
    {
     "data": {
      "text/html": [
       "<div>\n",
       "<style scoped>\n",
       "    .dataframe tbody tr th:only-of-type {\n",
       "        vertical-align: middle;\n",
       "    }\n",
       "\n",
       "    .dataframe tbody tr th {\n",
       "        vertical-align: top;\n",
       "    }\n",
       "\n",
       "    .dataframe thead th {\n",
       "        text-align: right;\n",
       "    }\n",
       "</style>\n",
       "<table border=\"1\" class=\"dataframe\">\n",
       "  <thead>\n",
       "    <tr style=\"text-align: right;\">\n",
       "      <th></th>\n",
       "      <th>x</th>\n",
       "      <th>y</th>\n",
       "    </tr>\n",
       "  </thead>\n",
       "  <tbody>\n",
       "    <tr>\n",
       "      <th>4</th>\n",
       "      <td>-5.858069</td>\n",
       "      <td>5.782441</td>\n",
       "    </tr>\n",
       "    <tr>\n",
       "      <th>1</th>\n",
       "      <td>-5.208228</td>\n",
       "      <td>5.155557</td>\n",
       "    </tr>\n",
       "    <tr>\n",
       "      <th>11</th>\n",
       "      <td>-4.897145</td>\n",
       "      <td>5.735623</td>\n",
       "    </tr>\n",
       "    <tr>\n",
       "      <th>5</th>\n",
       "      <td>-4.746939</td>\n",
       "      <td>5.369360</td>\n",
       "    </tr>\n",
       "    <tr>\n",
       "      <th>9</th>\n",
       "      <td>-4.486578</td>\n",
       "      <td>5.597853</td>\n",
       "    </tr>\n",
       "  </tbody>\n",
       "</table>\n",
       "</div>"
      ],
      "text/plain": [
       "           x         y\n",
       "4  -5.858069  5.782441\n",
       "1  -5.208228  5.155557\n",
       "11 -4.897145  5.735623\n",
       "5  -4.746939  5.369360\n",
       "9  -4.486578  5.597853"
      ]
     },
     "execution_count": 8,
     "metadata": {},
     "output_type": "execute_result"
    }
   ],
   "source": [
    "df = df.sort_values('x')\n",
    "df.head(n=5)"
   ]
  },
  {
   "cell_type": "code",
   "execution_count": 12,
   "metadata": {},
   "outputs": [
    {
     "data": {
      "text/plain": [
       "array([-5.85806896, -5.20822783, -4.89714493, -4.74693931, -4.486578  ,\n",
       "       -4.22449135, -4.00066616, -3.89276018, -3.75678736, -3.71509187,\n",
       "       -3.3256531 , -2.60157926, -2.4528291 , -2.16561415, -1.78676704,\n",
       "       -1.63762403, -1.20549681, -1.0798503 , -1.05847984, -0.95896241,\n",
       "       -0.84417899, -0.78961754, -0.76682863, -0.71308352, -0.51530245,\n",
       "       -0.17995591, -0.02832166,  0.18653916,  0.31362835,  0.42309829,\n",
       "        0.60348512,  0.63685481,  1.40177226,  1.51901736,  1.94566325,\n",
       "        2.51685308,  2.62959263,  2.72551315,  3.09958694,  3.21285862,\n",
       "        3.30562618,  3.32341762,  3.32713508,  3.43804382,  4.21049121,\n",
       "        4.52790258,  4.75437599,  5.69162607,  5.86634591,  5.88655295])"
      ]
     },
     "execution_count": 12,
     "metadata": {},
     "output_type": "execute_result"
    }
   ],
   "source": [
    "x_lin_df = df['x'].values\n",
    "y_lin_df = df['y'].values\n",
    "x_lin_df"
   ]
  },
  {
   "cell_type": "code",
   "execution_count": 13,
   "metadata": {},
   "outputs": [
    {
     "data": {
      "text/plain": [
       "array([ 5.78244061,  5.15555724,  5.73562293,  5.36936035,  5.59785307,\n",
       "        3.76452839,  4.42494662,  3.7420432 ,  2.65113389,  2.70816601,\n",
       "        4.93068883,  2.17206275,  1.21930189,  1.79956941,  2.05186855,\n",
       "        2.85768191,  0.66019834,  0.01256745,  1.89415973,  1.85431005,\n",
       "        0.15218277,  1.98477973, -0.93738145,  0.91877715,  1.21019015,\n",
       "       -1.03728547, -0.4312569 , -0.95827868,  0.14978679, -1.20964059,\n",
       "       -1.86981453, -1.3970584 , -2.26017091, -2.61737478, -3.29065083,\n",
       "       -3.12489049, -4.49930014, -4.8931871 , -3.05877131, -2.57985736,\n",
       "       -4.42774647, -4.48390405, -4.06965024, -5.29043013, -6.09155906,\n",
       "       -4.84551941, -4.98224629, -7.47671453, -8.30841259, -5.69834336])"
      ]
     },
     "execution_count": 13,
     "metadata": {},
     "output_type": "execute_result"
    }
   ],
   "source": [
    "y_lin_df"
   ]
  },
  {
   "cell_type": "code",
   "execution_count": null,
   "metadata": {},
   "outputs": [],
   "source": []
  }
 ],
 "metadata": {
  "kernelspec": {
   "display_name": "Python 3",
   "language": "python",
   "name": "python3"
  },
  "language_info": {
   "codemirror_mode": {
    "name": "ipython",
    "version": 3
   },
   "file_extension": ".py",
   "mimetype": "text/x-python",
   "name": "python",
   "nbconvert_exporter": "python",
   "pygments_lexer": "ipython3",
   "version": "3.6.9"
  }
 },
 "nbformat": 4,
 "nbformat_minor": 4
}
