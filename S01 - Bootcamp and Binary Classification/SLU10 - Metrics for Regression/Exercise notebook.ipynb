{
 "cells": [
  {
   "cell_type": "markdown",
   "metadata": {
    "deletable": false,
    "editable": false,
    "nbgrader": {
     "grade": false,
     "grade_id": "cell-68fa160327bd350b",
     "locked": true,
     "schema_version": 1,
     "solution": false
    }
   },
   "source": [
    "# SLU10 - Metrics for Regression: Exercise Notebook\n",
    "\n",
    "In this notebook, you will implement:\n",
    "    - Mean Absolute Error (MAE)\n",
    "    - Mean Squared Error (MSE)\n",
    "    - Root Mean Squared Error (RMSE)\n",
    "    - Coefficient of Determination (R²)\n",
    "    - Adjusted R²\n",
    "    - Scikitlearn metrics\n",
    "    - Using metrics for k-fold cross validation\n"
   ]
  },
  {
   "cell_type": "markdown",
   "metadata": {
    "deletable": false,
    "editable": false,
    "nbgrader": {
     "grade": false,
     "grade_id": "cell-517511ad73591944",
     "locked": true,
     "schema_version": 1,
     "solution": false
    }
   },
   "source": [
    "Start by loading the data we will use to fit a linear regression - hopefully you still have SLU07 in your memory - and fitting the LinearRegression estimator from scikitlearn:"
   ]
  },
  {
   "cell_type": "code",
   "execution_count": 1,
   "metadata": {
    "deletable": false,
    "editable": false,
    "nbgrader": {
     "grade": false,
     "grade_id": "cell-c3b5b62586587194",
     "locked": true,
     "schema_version": 1,
     "solution": false
    }
   },
   "outputs": [
    {
     "data": {
      "text/html": [
       "<div>\n",
       "<style scoped>\n",
       "    .dataframe tbody tr th:only-of-type {\n",
       "        vertical-align: middle;\n",
       "    }\n",
       "\n",
       "    .dataframe tbody tr th {\n",
       "        vertical-align: top;\n",
       "    }\n",
       "\n",
       "    .dataframe thead th {\n",
       "        text-align: right;\n",
       "    }\n",
       "</style>\n",
       "<table border=\"1\" class=\"dataframe\">\n",
       "  <thead>\n",
       "    <tr style=\"text-align: right;\">\n",
       "      <th></th>\n",
       "      <th>age</th>\n",
       "      <th>sex</th>\n",
       "      <th>bmi</th>\n",
       "      <th>bp</th>\n",
       "      <th>s1</th>\n",
       "      <th>s2</th>\n",
       "      <th>s3</th>\n",
       "      <th>s4</th>\n",
       "      <th>s5</th>\n",
       "      <th>s6</th>\n",
       "    </tr>\n",
       "  </thead>\n",
       "  <tbody>\n",
       "    <tr>\n",
       "      <th>0</th>\n",
       "      <td>0.038076</td>\n",
       "      <td>0.050680</td>\n",
       "      <td>0.061696</td>\n",
       "      <td>0.021872</td>\n",
       "      <td>-0.044223</td>\n",
       "      <td>-0.034821</td>\n",
       "      <td>-0.043401</td>\n",
       "      <td>-0.002592</td>\n",
       "      <td>0.019908</td>\n",
       "      <td>-0.017646</td>\n",
       "    </tr>\n",
       "    <tr>\n",
       "      <th>1</th>\n",
       "      <td>-0.001882</td>\n",
       "      <td>-0.044642</td>\n",
       "      <td>-0.051474</td>\n",
       "      <td>-0.026328</td>\n",
       "      <td>-0.008449</td>\n",
       "      <td>-0.019163</td>\n",
       "      <td>0.074412</td>\n",
       "      <td>-0.039493</td>\n",
       "      <td>-0.068330</td>\n",
       "      <td>-0.092204</td>\n",
       "    </tr>\n",
       "    <tr>\n",
       "      <th>2</th>\n",
       "      <td>0.085299</td>\n",
       "      <td>0.050680</td>\n",
       "      <td>0.044451</td>\n",
       "      <td>-0.005671</td>\n",
       "      <td>-0.045599</td>\n",
       "      <td>-0.034194</td>\n",
       "      <td>-0.032356</td>\n",
       "      <td>-0.002592</td>\n",
       "      <td>0.002864</td>\n",
       "      <td>-0.025930</td>\n",
       "    </tr>\n",
       "    <tr>\n",
       "      <th>3</th>\n",
       "      <td>-0.089063</td>\n",
       "      <td>-0.044642</td>\n",
       "      <td>-0.011595</td>\n",
       "      <td>-0.036656</td>\n",
       "      <td>0.012191</td>\n",
       "      <td>0.024991</td>\n",
       "      <td>-0.036038</td>\n",
       "      <td>0.034309</td>\n",
       "      <td>0.022692</td>\n",
       "      <td>-0.009362</td>\n",
       "    </tr>\n",
       "    <tr>\n",
       "      <th>4</th>\n",
       "      <td>0.005383</td>\n",
       "      <td>-0.044642</td>\n",
       "      <td>-0.036385</td>\n",
       "      <td>0.021872</td>\n",
       "      <td>0.003935</td>\n",
       "      <td>0.015596</td>\n",
       "      <td>0.008142</td>\n",
       "      <td>-0.002592</td>\n",
       "      <td>-0.031991</td>\n",
       "      <td>-0.046641</td>\n",
       "    </tr>\n",
       "  </tbody>\n",
       "</table>\n",
       "</div>"
      ],
      "text/plain": [
       "        age       sex       bmi        bp        s1        s2        s3  \\\n",
       "0  0.038076  0.050680  0.061696  0.021872 -0.044223 -0.034821 -0.043401   \n",
       "1 -0.001882 -0.044642 -0.051474 -0.026328 -0.008449 -0.019163  0.074412   \n",
       "2  0.085299  0.050680  0.044451 -0.005671 -0.045599 -0.034194 -0.032356   \n",
       "3 -0.089063 -0.044642 -0.011595 -0.036656  0.012191  0.024991 -0.036038   \n",
       "4  0.005383 -0.044642 -0.036385  0.021872  0.003935  0.015596  0.008142   \n",
       "\n",
       "         s4        s5        s6  \n",
       "0 -0.002592  0.019908 -0.017646  \n",
       "1 -0.039493 -0.068330 -0.092204  \n",
       "2 -0.002592  0.002864 -0.025930  \n",
       "3  0.034309  0.022692 -0.009362  \n",
       "4 -0.002592 -0.031991 -0.046641  "
      ]
     },
     "execution_count": 1,
     "metadata": {},
     "output_type": "execute_result"
    }
   ],
   "source": [
    "# Base imports\n",
    "import math\n",
    "import numpy as np\n",
    "import pandas as pd\n",
    "from sklearn.datasets import load_diabetes\n",
    "from sklearn.linear_model import LinearRegression\n",
    "\n",
    "data = load_diabetes()\n",
    "\n",
    "x = pd.DataFrame(data['data'], columns=data['feature_names'])\n",
    "y = pd.Series(data['target'])\n",
    "x.head()"
   ]
  },
  {
   "cell_type": "code",
   "execution_count": 2,
   "metadata": {
    "deletable": false,
    "editable": false,
    "nbgrader": {
     "grade": false,
     "grade_id": "cell-7aed052cfe019718",
     "locked": true,
     "schema_version": 1,
     "solution": false
    }
   },
   "outputs": [],
   "source": [
    "np.random.seed(42)\n",
    "\n",
    "x_diabetes = x.values\n",
    "y_diabetes = y.values\n",
    "\n",
    "lr = LinearRegression()\n",
    "lr.fit(x_diabetes, y_diabetes)\n",
    "\n",
    "y_hat_diabetes = lr.predict(x_diabetes)\n",
    "betas_diabetes = pd.Series([lr.intercept_] + list(lr.coef_))"
   ]
  },
  {
   "cell_type": "markdown",
   "metadata": {
    "deletable": false,
    "editable": false,
    "nbgrader": {
     "grade": false,
     "grade_id": "cell-ec6525e56e745670",
     "locked": true,
     "schema_version": 1,
     "solution": false
    }
   },
   "source": [
    "## 1 Metrics\n",
    "\n",
    "We will start by covering the metrics we learned in the unit, in particular a set of related metrics:\n",
    "\n",
    "- Mean Squared Error\n",
    "\n",
    "$$MSE = \\frac{1}{N} \\sum_{n=1}^N (y_n - \\hat{y}_n)^2$$\n",
    "\n",
    "\n",
    "- Root Mean Squared Error\n",
    "\n",
    "$$RMSE = \\sqrt{MSE}$$\n",
    "\n",
    "\n",
    "- Mean Absolute Error\n",
    "\n",
    "$$MAE = \\frac{1}{N} \\sum_{n=1}^N \\left| y_n - \\hat{y}_n \\right|$$"
   ]
  },
  {
   "cell_type": "markdown",
   "metadata": {
    "deletable": false,
    "editable": false,
    "nbgrader": {
     "grade": false,
     "grade_id": "cell-6e19afebf9f22bab",
     "locked": true,
     "schema_version": 1,
     "solution": false
    }
   },
   "source": [
    "### 1.1 Mean Squared Error\n",
    "\n",
    "Implement the mean squared error in the next function:"
   ]
  },
  {
   "cell_type": "code",
   "execution_count": 3,
   "metadata": {
    "deletable": false,
    "nbgrader": {
     "grade": false,
     "grade_id": "cell-d7a35367fa5f0f10",
     "locked": false,
     "schema_version": 1,
     "solution": true
    }
   },
   "outputs": [],
   "source": [
    "def mean_squared_error(y, y_pred): \n",
    "    \"\"\"\n",
    "    Args: \n",
    "        y_pred : numpy.array with shape (num_samples,) - predictions\n",
    "        y : numpy.array with shape (num_samples,) - labels \n",
    "        \n",
    "    Returns: \n",
    "        mse : float with Mean Squared Error Value\n",
    "\n",
    "    \"\"\"\n",
    "    # 1) Compute the error.\n",
    "    # error = ...\n",
    "    # YOUR CODE HERE\n",
    "    error = (y-y_pred)\n",
    "    #raise NotImplementedError()\n",
    "    \n",
    "    # 2) Compute the squared value of the errors for each sample\n",
    "    # squared_error = ...\n",
    "    # YOUR CODE HERE\n",
    "    squared_error = error**2\n",
    "    #raise NotImplementedError()\n",
    "    \n",
    "    # 3) Compute the mean squared value of the errors\n",
    "    # mse = ...\n",
    "    # YOUR CODE HERE\n",
    "    mse = squared_error.mean()\n",
    "    #raise NotImplementedError()\n",
    "    \n",
    "    return mse"
   ]
  },
  {
   "cell_type": "markdown",
   "metadata": {
    "deletable": false,
    "editable": false,
    "nbgrader": {
     "grade": false,
     "grade_id": "cell-cb656ddb462c6d28",
     "locked": true,
     "schema_version": 1,
     "solution": false
    }
   },
   "source": [
    "Check the outputs of your function match the results below:"
   ]
  },
  {
   "cell_type": "code",
   "execution_count": 4,
   "metadata": {
    "deletable": false,
    "editable": false,
    "nbgrader": {
     "grade": true,
     "grade_id": "cell-8ea8afca85e2b4bd",
     "locked": true,
     "points": 2,
     "schema_version": 1,
     "solution": false
    }
   },
   "outputs": [
    {
     "name": "stdout",
     "output_type": "stream",
     "text": [
      "Mean Squared Error Diabetes dataset: 2859.6903987680657\n"
     ]
    }
   ],
   "source": [
    "mse = mean_squared_error(y_diabetes, y_hat_diabetes)\n",
    "print('Mean Squared Error Diabetes dataset: {}'.format(mse))\n",
    "assert math.isclose(2859.6903987680657, mse)"
   ]
  },
  {
   "cell_type": "markdown",
   "metadata": {
    "deletable": false,
    "editable": false,
    "nbgrader": {
     "grade": false,
     "grade_id": "cell-6d6fa40bc386a18f",
     "locked": true,
     "schema_version": 1,
     "solution": false
    }
   },
   "source": [
    "### 1.2 Root Mean Squared Error\n",
    "Implement the root mean squared error in the function below:"
   ]
  },
  {
   "cell_type": "code",
   "execution_count": 5,
   "metadata": {
    "deletable": false,
    "nbgrader": {
     "grade": false,
     "grade_id": "cell-116b13594e8c311c",
     "locked": false,
     "schema_version": 1,
     "solution": true
    }
   },
   "outputs": [],
   "source": [
    "def root_mean_squared_error(y, y_pred): \n",
    "    \"\"\"\n",
    "    Args: \n",
    "        y_pred : numpy.array with shape (num_samples,) - predictions\n",
    "        y : numpy.array with shape (num_samples,) - labels \n",
    "        \n",
    "    Returns: \n",
    "        mse : float with the Root Mean Squared Error Value\n",
    "    \"\"\"\n",
    "    # 1) Compute the mean squared error. \n",
    "    # mse = ...\n",
    "    # YOUR CODE HERE\n",
    "    mse = ((y-y_pred)**2).mean()\n",
    "    #raise NotImplementedError()\n",
    "    \n",
    "    # 2) Compute the root square.\n",
    "    # rmse = ...\n",
    "    # YOUR CODE HERE\n",
    "    rmse = math.sqrt(mse)\n",
    "    #raise NotImplementedError()\n",
    "    \n",
    "    return rmse"
   ]
  },
  {
   "cell_type": "markdown",
   "metadata": {
    "deletable": false,
    "editable": false,
    "nbgrader": {
     "grade": false,
     "grade_id": "cell-1ba1a1df9f8b9691",
     "locked": true,
     "schema_version": 1,
     "solution": false
    }
   },
   "source": [
    "Check the outputs of your function match the results below:"
   ]
  },
  {
   "cell_type": "code",
   "execution_count": 6,
   "metadata": {
    "deletable": false,
    "editable": false,
    "nbgrader": {
     "grade": true,
     "grade_id": "cell-774c0900c5f9193c",
     "locked": true,
     "points": 2,
     "schema_version": 1,
     "solution": false
    }
   },
   "outputs": [
    {
     "name": "stdout",
     "output_type": "stream",
     "text": [
      "Root Mean Squared Error Diabetes dataset: 53.47607314274362\n"
     ]
    }
   ],
   "source": [
    "rmse = root_mean_squared_error(y_diabetes, y_hat_diabetes)\n",
    "print('Root Mean Squared Error Diabetes dataset: {}'.format(rmse))\n",
    "assert math.isclose(53.47607314274362, rmse)"
   ]
  },
  {
   "cell_type": "markdown",
   "metadata": {
    "deletable": false,
    "editable": false,
    "nbgrader": {
     "grade": false,
     "grade_id": "cell-b4277453d93ffea7",
     "locked": true,
     "schema_version": 1,
     "solution": false
    }
   },
   "source": [
    "### 1.3 Mean Absolute Error\n",
    "\n",
    "Finally, implement the Mean Absolute Error in the function below. "
   ]
  },
  {
   "cell_type": "code",
   "execution_count": 7,
   "metadata": {
    "deletable": false,
    "nbgrader": {
     "grade": false,
     "grade_id": "cell-4959a7de3c3ad479",
     "locked": false,
     "schema_version": 1,
     "solution": true
    }
   },
   "outputs": [],
   "source": [
    "def mean_absolute_error(y, y_pred): \n",
    "    \"\"\"\n",
    "    Args: \n",
    "        y_pred : numpy.array with shape (num_samples,) - predictions\n",
    "        y : numpy.array with shape (num_samples,) - labels \n",
    "        \n",
    "    Returns: \n",
    "        mae : float with Mean Absolute Error\n",
    "    \"\"\"\n",
    "    # 1) Compute the error.\n",
    "    # error = ...\n",
    "    # YOUR CODE HERE\n",
    "    error = (y - y_pred)\n",
    "    #raise NotImplementedError()\n",
    "    \n",
    "    # 2) Compute the absolute value of the errors for each sample\n",
    "    # abs_error = ...\n",
    "    # YOUR CODE HERE\n",
    "    abs_error = abs(error)\n",
    "    #raise NotImplementedError()\n",
    "    \n",
    "    # 3) Compute the mean of the absolute value of the errors\n",
    "    # mae = ...\n",
    "    # YOUR CODE HERE\n",
    "    mae = abs_error.mean()\n",
    "    #raise NotImplementedError()\n",
    "    \n",
    "    return mae"
   ]
  },
  {
   "cell_type": "markdown",
   "metadata": {
    "deletable": false,
    "editable": false,
    "nbgrader": {
     "grade": false,
     "grade_id": "cell-4bc5a8e9de443554",
     "locked": true,
     "schema_version": 1,
     "solution": false
    }
   },
   "source": [
    "Check the outputs of your function match the results below:"
   ]
  },
  {
   "cell_type": "code",
   "execution_count": 8,
   "metadata": {
    "deletable": false,
    "editable": false,
    "nbgrader": {
     "grade": true,
     "grade_id": "cell-41455e2d039c8354",
     "locked": true,
     "points": 2,
     "schema_version": 1,
     "solution": false
    }
   },
   "outputs": [
    {
     "name": "stdout",
     "output_type": "stream",
     "text": [
      "Mean Absolute Error Diabetes dataset: 43.27739508374988\n"
     ]
    }
   ],
   "source": [
    "mae = mean_absolute_error(y_diabetes, y_hat_diabetes)\n",
    "print('Mean Absolute Error Diabetes dataset: {}'.format(mae))\n",
    "assert math.isclose(43.277395083749866, mae)"
   ]
  },
  {
   "cell_type": "markdown",
   "metadata": {
    "deletable": false,
    "editable": false,
    "nbgrader": {
     "grade": false,
     "grade_id": "cell-7247af52a77608d5",
     "locked": true,
     "schema_version": 1,
     "solution": false
    }
   },
   "source": [
    "Next we will focus on the Coefficient of Determination - $R^2$ - and its adjusted form. See the equations below:\n",
    "\n",
    "- $R^2$ score \n",
    "\n",
    "$$R² = 1 - \\frac{MSE(y, \\hat{y})}{MSE(y, \\bar{y})} \n",
    "= 1 - \\frac{\\frac{1}{N} \\sum_{n=1}^N (y_n - \\hat{y}_n)^2}{\\frac{1}{N} \\sum_{n=1}^N (y_n - \\bar{y})^2}\n",
    "= 1 - \\frac{\\sum_{n=1}^N (y_n - \\hat{y}_n)^2}{\\sum_{n=1}^N (y_n - \\bar{y})^2}$$\n",
    "\n",
    "where $$\\bar{y} = \\frac{1}{N} \\sum_{n=1}^N y_n$$\n",
    "\n",
    "- Adjusted $R^2$ score \n",
    "\n",
    "$$\\bar{R}^2 = 1 - \\frac{N - 1}{N - K - 1} (1 - R^2)$$\n",
    "\n",
    "where $N$ is the number of observations in the dataset used for training the model (i.e. number of rows of the pandas dataframe) and $K$ is the number of features used by your model (i.e. number of columns of the pandas dataframe)\n",
    "\n",
    "\n",
    "### 1.4 R² score\n",
    "\n",
    "Start by implementing the $R^2$ score in the function below:"
   ]
  },
  {
   "cell_type": "code",
   "execution_count": 9,
   "metadata": {
    "deletable": false,
    "nbgrader": {
     "grade": false,
     "grade_id": "cell-51f11aef440a31c5",
     "locked": false,
     "schema_version": 1,
     "solution": true
    }
   },
   "outputs": [],
   "source": [
    "def r_squared(y, y_pred): \n",
    "    \"\"\"\n",
    "    Args: \n",
    "        y_pred : numpy.array with shape (num_samples,) - predictions\n",
    "        y : numpy.array with shape (num_samples,) - labels \n",
    "        \n",
    "    Returns: \n",
    "        r2 : float with R squared value\n",
    "    \"\"\"\n",
    "\n",
    "    # 1) Compute labels mean.\n",
    "    # y_mean = ...\n",
    "    # YOUR CODE HERE\n",
    "    y_mean = y.mean()\n",
    "    #raise NotImplementedError()\n",
    "\n",
    "    # 2) Compute the mean squared error between the target and the predictions.\n",
    "    # mse_pred = ...\n",
    "    # YOUR CODE HERE\n",
    "    mse_pred = mean_squared_error(y,y_pred)\n",
    "    #raise NotImplementedError()\n",
    "    \n",
    "    # 3) Compute the mean squared error between the target and its mean.\n",
    "    # YOUR CODE HERE\n",
    "    mse_mean = mean_squared_error(y,y_mean)\n",
    "    #raise NotImplementedError()\n",
    "    \n",
    "    # 4) Finally, compute R²\n",
    "    # r2 = ...\n",
    "    # YOUR CODE HERE\n",
    "    r2 = 1-(mse_pred/mse_mean)\n",
    "    #raise NotImplementedError()\n",
    "    \n",
    "    return r2"
   ]
  },
  {
   "cell_type": "markdown",
   "metadata": {
    "deletable": false,
    "editable": false,
    "nbgrader": {
     "grade": false,
     "grade_id": "cell-1063e13d06463111",
     "locked": true,
     "schema_version": 1,
     "solution": false
    }
   },
   "source": [
    "Check the outputs of your function match the results below:"
   ]
  },
  {
   "cell_type": "code",
   "execution_count": 10,
   "metadata": {
    "deletable": false,
    "editable": false,
    "nbgrader": {
     "grade": true,
     "grade_id": "cell-7fb94c0cc204ea9b",
     "locked": true,
     "points": 3,
     "schema_version": 1,
     "solution": false
    }
   },
   "outputs": [
    {
     "name": "stdout",
     "output_type": "stream",
     "text": [
      "R² Diabetes dataset: 0.5177494254132934\n"
     ]
    }
   ],
   "source": [
    "r2 = r_squared(y_diabetes, y_hat_diabetes)\n",
    "print('R² Diabetes dataset: {}'.format(r2))\n",
    "assert math.isclose(0.5177494254132934, r2)"
   ]
  },
  {
   "cell_type": "markdown",
   "metadata": {
    "deletable": false,
    "editable": false,
    "nbgrader": {
     "grade": false,
     "grade_id": "cell-e5687e52ae19a518",
     "locked": true,
     "schema_version": 1,
     "solution": false
    }
   },
   "source": [
    "### 1.5 Adjusted R² score\n",
    "\n",
    "Then implement the adjusted $R^2$ score in the function below:"
   ]
  },
  {
   "cell_type": "code",
   "execution_count": 11,
   "metadata": {
    "deletable": false,
    "nbgrader": {
     "grade": false,
     "grade_id": "cell-b35baba302fa675b",
     "locked": false,
     "schema_version": 1,
     "solution": true
    }
   },
   "outputs": [],
   "source": [
    "def adjusted_r_squared(y, y_pred, K):\n",
    "    \"\"\"\n",
    "    Args: \n",
    "        y : numpy.array with shape (num_samples,) - labels \n",
    "        y_pred : numpy.array with shape (num_samples,) - predictions\n",
    "        K : integer - Number of features used in the model that computed y_hat.\n",
    "\n",
    "    Returns: \n",
    "        r2_adj : float with adjusted R squared value\n",
    "    \"\"\"\n",
    "    \n",
    "    # 1) Compute R².\n",
    "    # r2 = ...\n",
    "    # YOUR CODE HERE\n",
    "    r2 = r_squared(y, y_pred)\n",
    "    #raise NotImplementedError()\n",
    "    \n",
    "    # 2) Get number of samples \n",
    "    # N = ...\n",
    "    # YOUR CODE HERE\n",
    "    N = len(y)\n",
    "    #raise NotImplementedError()\n",
    "\n",
    "    # 3) Adjust R²\n",
    "    # r2_adj = ...\n",
    "    # YOUR CODE HERE\n",
    "    r2_adj = 1-(N-1)*(1-r2)/(N-K-1)\n",
    "    #raise NotImplementedError()\n",
    "    \n",
    "    return r2_adj"
   ]
  },
  {
   "cell_type": "markdown",
   "metadata": {
    "deletable": false,
    "editable": false,
    "nbgrader": {
     "grade": false,
     "grade_id": "cell-32b7193c2bd18cd3",
     "locked": true,
     "schema_version": 1,
     "solution": false
    }
   },
   "source": [
    "Check the outputs of your function match the results below:"
   ]
  },
  {
   "cell_type": "code",
   "execution_count": 12,
   "metadata": {
    "deletable": false,
    "editable": false,
    "nbgrader": {
     "grade": true,
     "grade_id": "cell-2f310b9310e8fc38",
     "locked": true,
     "points": 3,
     "schema_version": 1,
     "solution": false
    }
   },
   "outputs": [
    {
     "name": "stdout",
     "output_type": "stream",
     "text": [
      "Adjusted R² Diabetes dataset: 0.506560316954205\n"
     ]
    }
   ],
   "source": [
    "r2 = adjusted_r_squared(y_diabetes, y_hat_diabetes, x_diabetes.shape[1])\n",
    "print('Adjusted R² Diabetes dataset: {}'.format(r2))\n",
    "assert math.isclose(0.506560316954205, r2)"
   ]
  },
  {
   "cell_type": "markdown",
   "metadata": {
    "deletable": false,
    "editable": false,
    "nbgrader": {
     "grade": false,
     "grade_id": "cell-56bdb7b77c9bc15b",
     "locked": true,
     "schema_version": 1,
     "solution": false
    }
   },
   "source": [
    "## 2 Scikit-Learn metrics\n",
    "\n",
    "As you know, scikitlearn also already provides you with implementations of these metrics: \n",
    "\n",
    "- `sklearn.metrics.mean_absolute_error`\n",
    "- `sklearn.metrics.mean_squared_error`\n",
    "- `sklearn.metrics.r2_score`\n",
    "- `sklearn.linear_model.LinearRegression.score` "
   ]
  },
  {
   "cell_type": "code",
   "execution_count": 28,
   "metadata": {
    "deletable": false,
    "editable": false,
    "nbgrader": {
     "grade": false,
     "grade_id": "cell-4f974da1ba19fbc4",
     "locked": true,
     "schema_version": 1,
     "solution": false
    }
   },
   "outputs": [],
   "source": [
    "# Import sklearn metrics\n",
    "from sklearn import metrics as sklearn_metrics"
   ]
  },
  {
   "cell_type": "markdown",
   "metadata": {
    "deletable": false,
    "editable": false,
    "nbgrader": {
     "grade": false,
     "grade_id": "cell-c80d8cb59ab1e49e",
     "locked": true,
     "schema_version": 1,
     "solution": false
    }
   },
   "source": [
    "#### 2.1 Root Mean Squared Error\n",
    "\n",
    "Implement the root mean squared error functions below with scikitlearn:"
   ]
  },
  {
   "cell_type": "code",
   "execution_count": 34,
   "metadata": {
    "deletable": false,
    "nbgrader": {
     "grade": false,
     "grade_id": "cell-91685e84daf075d0",
     "locked": false,
     "schema_version": 1,
     "solution": true
    }
   },
   "outputs": [],
   "source": [
    "def sklearn_root_mean_squared_error(y, y_pred): \n",
    "    \"\"\"\n",
    "    Args: \n",
    "        y_pred : numpy.array with shape (num_samples,) - predictions\n",
    "        y : numpy.array with shape (num_samples,) - labels \n",
    "        \n",
    "    Returns: \n",
    "        rmse : float with Root Mean Squared Error\n",
    "    \"\"\"\n",
    "    # YOUR CODE HERE\n",
    "    rmse = np.sqrt(sklearn_metrics.mean_squared_error(y, y_pred))\n",
    "    return rmse\n",
    "    #raise NotImplementedError()"
   ]
  },
  {
   "cell_type": "markdown",
   "metadata": {
    "deletable": false,
    "editable": false,
    "nbgrader": {
     "grade": false,
     "grade_id": "cell-44bf1a140786fac4",
     "locked": true,
     "schema_version": 1,
     "solution": false
    }
   },
   "source": [
    "Make sure your function passes the tests below:"
   ]
  },
  {
   "cell_type": "code",
   "execution_count": 19,
   "metadata": {
    "deletable": false,
    "editable": false,
    "nbgrader": {
     "grade": true,
     "grade_id": "cell-bb0647e6f49b6b36",
     "locked": true,
     "points": 2,
     "schema_version": 1,
     "solution": false
    }
   },
   "outputs": [
    {
     "name": "stdout",
     "output_type": "stream",
     "text": [
      "Sklearn RMSE Diabetes dataset: 53.47607314274362\n"
     ]
    }
   ],
   "source": [
    "rmse = sklearn_root_mean_squared_error(y_diabetes, y_hat_diabetes)\n",
    "print('Sklearn RMSE Diabetes dataset: {}'.format(rmse))\n",
    "assert math.isclose(53.47607314274362, rmse)"
   ]
  },
  {
   "cell_type": "markdown",
   "metadata": {
    "deletable": false,
    "editable": false,
    "nbgrader": {
     "grade": false,
     "grade_id": "cell-483ede84836e8211",
     "locked": true,
     "schema_version": 1,
     "solution": false
    }
   },
   "source": [
    "#### 2.2  Adjusted R² score\n",
    "\n",
    "Implement the adjusted R² score below using scikitlearn:"
   ]
  },
  {
   "cell_type": "code",
   "execution_count": 32,
   "metadata": {
    "deletable": false,
    "nbgrader": {
     "grade": false,
     "grade_id": "cell-bc8ebf5c8c8c6e23",
     "locked": false,
     "schema_version": 1,
     "solution": true
    }
   },
   "outputs": [],
   "source": [
    "def sklearn_adjusted_r_squared(y, y_pred, K): \n",
    "    \"\"\"\n",
    "    Args: \n",
    "        y_pred : numpy.array with shape (num_samples,) - predictions\n",
    "        y : numpy.array with shape (num_samples,) - labels \n",
    "        K : integer - Number of features used in the model that computed y_hat.\n",
    "\n",
    "    Returns: \n",
    "        r2_adj : float with adjusted R squared value\n",
    "    \"\"\"\n",
    "    # YOUR CODE HERE\n",
    "    N = len(y)\n",
    "    r2_adj = 1-((N-1)/(N-K-1))*(1-sklearn_metrics.r2_score(y, y_pred))\n",
    "    return r2_adj\n",
    "    #raise NotImplementedError()"
   ]
  },
  {
   "cell_type": "markdown",
   "metadata": {
    "deletable": false,
    "editable": false,
    "nbgrader": {
     "grade": false,
     "grade_id": "cell-df5035b5103e0f49",
     "locked": true,
     "schema_version": 1,
     "solution": false
    }
   },
   "source": [
    "Make sure your function passes the tests below:"
   ]
  },
  {
   "cell_type": "code",
   "execution_count": 33,
   "metadata": {
    "deletable": false,
    "editable": false,
    "nbgrader": {
     "grade": true,
     "grade_id": "cell-f53ac73f1b9e0e25",
     "locked": true,
     "points": 3,
     "schema_version": 1,
     "solution": false
    }
   },
   "outputs": [
    {
     "name": "stdout",
     "output_type": "stream",
     "text": [
      "Sklearn Adjusted R² Diabetes dataset: 0.506560316954205\n"
     ]
    }
   ],
   "source": [
    "r2 = sklearn_adjusted_r_squared(y_diabetes, y_hat_diabetes, x_diabetes.shape[1])\n",
    "print('Sklearn Adjusted R² Diabetes dataset: {}'.format(r2))\n",
    "assert math.isclose(0.506560316954205, r2)"
   ]
  },
  {
   "cell_type": "markdown",
   "metadata": {
    "deletable": false,
    "editable": false,
    "nbgrader": {
     "grade": false,
     "grade_id": "cell-1d4eac2c0c131600",
     "locked": true,
     "schema_version": 1,
     "solution": false
    }
   },
   "source": [
    "Finally, compare the sklearn-based metrics with your own for the diabetes dataset:"
   ]
  },
  {
   "cell_type": "code",
   "execution_count": 35,
   "metadata": {
    "deletable": false,
    "editable": false,
    "nbgrader": {
     "grade": false,
     "grade_id": "cell-a640ee4b962fead1",
     "locked": true,
     "schema_version": 1,
     "solution": false
    }
   },
   "outputs": [
    {
     "name": "stdout",
     "output_type": "stream",
     "text": [
      "Metric for diabetes dataset with base implementation:\n",
      "Mean Absolute Error diabetes dataset: 43.27739508374988\n",
      "Mean Squared Error diabetes dataset: 2859.6903987680657\n",
      "Root Mean Squared Error diabetes dataset: 53.47607314274362\n",
      "R² diabetes dataset: 0.5177494254132934\n",
      "Adjusted R² diabetes dataset: 0.506560316954205\n",
      "\n",
      "\n",
      "Metric for diabetes dataset with scikitlearn:\n",
      "Mean Absolute Error diabetes dataset: 43.27739508374988\n",
      "Mean Squared Error diabetes dataset: 2859.6903987680657\n",
      "Root Mean Squared Error diabetes dataset: 53.47607314274362\n",
      "R² diabetes dataset: 0.5177494254132934\n",
      "Adjusted R² diabetes dataset: 0.506560316954205\n"
     ]
    }
   ],
   "source": [
    "MAE = mean_absolute_error(y_diabetes, y_hat_diabetes)\n",
    "MSE = mean_squared_error(y_diabetes, y_hat_diabetes)\n",
    "RMSE = root_mean_squared_error(y_diabetes, y_hat_diabetes)\n",
    "R2 = r_squared(y_diabetes, y_hat_diabetes)\n",
    "R2_adj = adjusted_r_squared(y_diabetes, y_hat_diabetes, x_diabetes.shape[1])\n",
    "\n",
    "print('Metric for diabetes dataset with base implementation:')\n",
    "print('Mean Absolute Error diabetes dataset: {}'.format(MAE))\n",
    "print('Mean Squared Error diabetes dataset: {}'.format(MSE))\n",
    "print('Root Mean Squared Error diabetes dataset: {}'.format(RMSE))\n",
    "print('R² diabetes dataset: {}'.format(R2))\n",
    "print('Adjusted R² diabetes dataset: {}'.format(R2_adj))\n",
    "print('\\n')\n",
    "\n",
    "SK_MAE = sklearn_metrics.mean_absolute_error(y_diabetes, y_hat_diabetes)\n",
    "SK_MSE = sklearn_metrics.mean_squared_error(y_diabetes, y_hat_diabetes)\n",
    "SK_RMSE = sklearn_root_mean_squared_error(y_diabetes, y_hat_diabetes)\n",
    "SK_R2 = sklearn_metrics.r2_score(y_diabetes, y_hat_diabetes)\n",
    "SK_R2_adj = sklearn_adjusted_r_squared(y_diabetes, y_hat_diabetes, x_diabetes.shape[1])\n",
    "\n",
    "print('Metric for diabetes dataset with scikitlearn:')\n",
    "print('Mean Absolute Error diabetes dataset: {}'.format(SK_MAE))\n",
    "print('Mean Squared Error diabetes dataset: {}'.format(SK_MSE))\n",
    "print('Root Mean Squared Error diabetes dataset: {}'.format(SK_RMSE))\n",
    "print('R² diabetes dataset: {}'.format(SK_R2))\n",
    "print('Adjusted R² diabetes dataset: {}'.format(SK_R2_adj))\n"
   ]
  },
  {
   "cell_type": "markdown",
   "metadata": {
    "deletable": false,
    "editable": false,
    "nbgrader": {
     "grade": false,
     "grade_id": "cell-4db11cce9296226a",
     "locked": true,
     "schema_version": 1,
     "solution": false
    }
   },
   "source": [
    "## 3 Using the Metrics\n",
    "\n",
    "Now you'll use the metrics to fit and check performance of your LinearRegression and SGDRegressor, with the `cross_val_scores` method of scikitlearn. Implement the missing steps below:\n"
   ]
  },
  {
   "cell_type": "code",
   "execution_count": null,
   "metadata": {
    "deletable": false,
    "nbgrader": {
     "grade": false,
     "grade_id": "cell-3897cdeea2d9f3c1",
     "locked": false,
     "schema_version": 1,
     "solution": true
    }
   },
   "outputs": [],
   "source": [
    "from sklearn.model_selection import cross_val_score\n",
    "from sklearn import metrics\n",
    "from sklearn import linear_model\n",
    "\n",
    "def estimator_cross_fold(X, y, K, clf_choice='linear', scoring='neg_mean_squared_error'):\n",
    "    \"\"\"\n",
    "    Args: \n",
    "        X : numpy.array with shape (num_samples, num_features) - sample data\n",
    "        y : numpy.array with shape (num_samples,) - sample labels \n",
    "        K : integer - Number of iterations for k-fold\n",
    "        clf_choice: choice of estimator \n",
    "        scoring : scoring function as per sklearn notation\n",
    "\n",
    "    Returns: \n",
    "        clf: estimator trained with full data\n",
    "        scores : scores for each fold\n",
    "    \"\"\"\n",
    "    \n",
    "    if clf_choice == 'linear':\n",
    "        clf = linear_model.LinearRegression()\n",
    "    elif clf_choice == 'sgd':\n",
    "        clf = linear_model.SGDRegressor(max_iter=10000)\n",
    "    else:\n",
    "        print('Invalid estimator')\n",
    "        return None\n",
    "     \n",
    "    # 1) Fit linear_model\n",
    "    for key, clf in clfs.items():\n",
    "    clf.fit(x_train_clf, y_train)\n",
    "\n",
    "    # YOUR CODE HERE\n",
    "    raise NotImplementedError()\n",
    "\n",
    "    # 2) Run k-fold cross validation\n",
    "    # YOUR CODE HERE\n",
    "    raise NotImplementedError()\n",
    "    \n",
    "    return clf, scores"
   ]
  },
  {
   "cell_type": "markdown",
   "metadata": {
    "deletable": false,
    "editable": false,
    "nbgrader": {
     "grade": false,
     "grade_id": "cell-0b40e60f00f4f1fa",
     "locked": true,
     "schema_version": 1,
     "solution": false
    }
   },
   "source": [
    "Let's run the k-fold cross validation for the several cases and get the average error:"
   ]
  },
  {
   "cell_type": "code",
   "execution_count": null,
   "metadata": {
    "deletable": false,
    "editable": false,
    "nbgrader": {
     "grade": true,
     "grade_id": "cell-5565c9de30569d21",
     "locked": true,
     "points": 3,
     "schema_version": 1,
     "solution": false
    }
   },
   "outputs": [],
   "source": [
    "np.random.seed(42)\n",
    "\n",
    "clf_lr, nmse_lr = estimator_cross_fold(x_diabetes, y_diabetes.ravel(), 5, clf_choice='linear', scoring='neg_mean_squared_error')\n",
    "assert math.isclose(-2993.0729432998864, nmse_lr.mean())\n",
    "\n",
    "clf_sgd, nmse_sgd = estimator_cross_fold(x_diabetes, y_diabetes.ravel(), 5, clf_choice='sgd', scoring='neg_mean_squared_error')\n",
    "assert math.isclose(-3024.1665383692743, nmse_sgd.mean())\n",
    "\n",
    "clf_lr, r2_lr = estimator_cross_fold(x_diabetes, y_diabetes.ravel(), 5, clf_choice='linear', scoring='r2')\n",
    "assert math.isclose(0.48231812211149394, r2_lr.mean())\n",
    "\n",
    "clf_sgd, r2_sgd = estimator_cross_fold(x_diabetes, y_diabetes.ravel(), 5, clf_choice='sgd', scoring='r2')\n",
    "assert math.isclose(0.4754722767620816, r2_sgd.mean())\n"
   ]
  },
  {
   "cell_type": "code",
   "execution_count": null,
   "metadata": {},
   "outputs": [],
   "source": [
    "print('Cross val evaluation for diabetes dataset:')\n",
    "print('NMSE with Linear Regression: {}'.format(nmse_lr.mean()))\n",
    "print('NMSE with SGD: {}'.format(nmse_sgd.mean()))\n",
    "print('R² Score with Linear Regression: {}'.format(r2_lr.mean()))\n",
    "print('R² Score with SGD: {}'.format(r2_sgd.mean()))"
   ]
  },
  {
   "cell_type": "markdown",
   "metadata": {},
   "source": [
    "For this particular case it seems that the linear regression generalises better than the SGD regressor. It's important to remind that the SGD regressor is at a slight disadvantage, because we didn't check the data distribution to understand if it has appropriate scaling. Remember that SGD will be sensitive to this, while linear regression won't. Feel free to replicate these exercises but applying min-max scaling beforehand and check the new results."
   ]
  }
 ],
 "metadata": {
  "kernelspec": {
   "display_name": "Python 3",
   "language": "python",
   "name": "python3"
  },
  "language_info": {
   "codemirror_mode": {
    "name": "ipython",
    "version": 3
   },
   "file_extension": ".py",
   "mimetype": "text/x-python",
   "name": "python",
   "nbconvert_exporter": "python",
   "pygments_lexer": "ipython3",
   "version": "3.6.9"
  }
 },
 "nbformat": 4,
 "nbformat_minor": 2
}
