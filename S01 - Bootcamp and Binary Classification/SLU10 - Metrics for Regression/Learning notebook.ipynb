{
 "cells": [
  {
   "cell_type": "markdown",
   "metadata": {},
   "source": [
    "# SLU10 - Metrics for regression: Learning Notebook"
   ]
  },
  {
   "cell_type": "markdown",
   "metadata": {},
   "source": [
    "In this notebook, you will learn about:\n",
    "    - Loss functions vs. Evaluation Metrics\n",
    "    - Mean Squared Error (MSE)\n",
    "    - Root Mean Squared Error (RMSE)\n",
    "    - Mean Absolute Error (MAE)\n",
    "    - Coefficient of Determination (R²)\n",
    "    - Adjusted R²\n",
    "    - Scikitlearn metrics\n",
    "    - Using metrics"
   ]
  },
  {
   "cell_type": "markdown",
   "metadata": {},
   "source": [
    "## 1 - Loss functions vs. Evaluation metrics\n",
    "\n",
    "A big part of data science is translating customer business problems into machine learning problems. An important step in this process is defining the **key performance indicators (KPIs)**. These are basically measures of success. To obtain maximum success your model should optimise towards these KPIs. Unfortunately, this is not always possible. \n",
    "\n",
    "As you know, the learning process during model training requires a differentiable loss function, and you have no guarantees that the KPI you defined with your customer will be differentiable. This means you need a proxy metric that approximates the true KPI but is differentiable. \n",
    "\n",
    "In common literature the KPI is actually called the evaluation metric, and the proxy metric you use to train the model is the loss function. Many times these are actually the same, but you should be aware that they mean different things. So, don't forget:\n",
    "\n",
    "* **Loss function** is what your model will minimize;\n",
    "* **Evaluation metric** is what you will use to evaluate how good your model is.\n",
    "\n",
    "Normally the workflow is that you are given or you collaboratively define an evaluation metric. If this metric is differentiable, then you should most probably use it as your loss function. If it isn't, you should find an adequate proxy loss function.\n",
    "\n",
    "Next we'll cover several metrics for regression problems that can be used both as evaluation metrics."
   ]
  },
  {
   "cell_type": "markdown",
   "metadata": {},
   "source": [
    "## 2 - Metrics for regression\n",
    "### 2.1 - Mean Squared Error (MSE)"
   ]
  },
  {
   "cell_type": "markdown",
   "metadata": {},
   "source": [
    "$$MSE = \\frac{1}{N} \\sum_{n=1}^N (y_n - \\hat{y}_n)^2$$\n",
    "\n",
    "where $N$ is the number of observations in your dataset, $y_n$ is the target and $\\hat{y}_n$ is the prediction given the observation $x_n$."
   ]
  },
  {
   "cell_type": "code",
   "execution_count": 1,
   "metadata": {},
   "outputs": [],
   "source": [
    "mse = lambda y, y_hat: ((y - y_hat)**2).mean()"
   ]
  },
  {
   "cell_type": "markdown",
   "metadata": {},
   "source": [
    "* Corresponds to converging to the mean of the target distribution\n",
    "* Loses interpretability due to the squaring. So, if you're predicting a price, the labels have the unit \\\\$ but the evaluation metric has the unit \\\\$².\n",
    "* It is sensible to outliers."
   ]
  },
  {
   "cell_type": "markdown",
   "metadata": {},
   "source": [
    "### 2.2 - Root Mean Squared Error (RMSE)"
   ]
  },
  {
   "cell_type": "markdown",
   "metadata": {},
   "source": [
    "$$RMSE = \\sqrt{MSE}$$"
   ]
  },
  {
   "cell_type": "code",
   "execution_count": 2,
   "metadata": {},
   "outputs": [],
   "source": [
    "rmse = lambda y, y_hat: np.sqrt(mse(y, y_hat))"
   ]
  },
  {
   "cell_type": "markdown",
   "metadata": {},
   "source": [
    "* Normally prefered to the MSE because the square root recovers some of the interpretability. Continuing the previous example, the evaluation metric now has the unit $."
   ]
  },
  {
   "cell_type": "markdown",
   "metadata": {},
   "source": [
    "### 2.3 - Mean Absolute Error (MAE)"
   ]
  },
  {
   "cell_type": "markdown",
   "metadata": {},
   "source": [
    "$$MAE = \\frac{1}{N} \\sum_{n=1}^N \\left|y_n - \\hat{y}_n\\right|$$\n",
    "\n",
    "where $N$ is the number of observations in your dataset, $y_n$ is the target and $\\hat{y}_n$ is the prediction given the observation $x_n$."
   ]
  },
  {
   "cell_type": "code",
   "execution_count": 3,
   "metadata": {},
   "outputs": [],
   "source": [
    "mae = lambda y, y_hat: np.abs(y - y_hat).mean()"
   ]
  },
  {
   "cell_type": "markdown",
   "metadata": {},
   "source": [
    "* Corresponds to converging towards the median of the distribution.\n",
    "* It's more robust to outliers.\n",
    "* It's more interpretable than the MSE since its values are on the same units as the target.\n",
    "* The output can be interpreted as the expected error measured in the same units as the target.\n",
    "* Given that the MAE is not differentiable at 0, most libraries implement slight variations that solve this."
   ]
  },
  {
   "cell_type": "markdown",
   "metadata": {},
   "source": [
    "### 2.4 - Coefficient of Determination (R²)"
   ]
  },
  {
   "cell_type": "markdown",
   "metadata": {},
   "source": [
    "$$\\bar{y} = \\frac{1}{N} \\sum_{n=1}^N y_n$$\n",
    "\n",
    "$$R² = 1 - \\frac{MSE(y, \\hat{y})}{MSE(y, \\bar{y})} \n",
    "= 1 - \\frac{\\frac{1}{N} \\sum_{n=1}^N (y_n - \\hat{y}_n)^2}{\\frac{1}{N} \\sum_{n=1}^N (y_n - \\bar{y})^2}\n",
    "= 1 - \\frac{\\sum_{n=1}^N (y_n - \\hat{y}_n)^2}{\\sum_{n=1}^N (y_n - \\bar{y})^2}$$\n",
    "\n",
    "where $N$ is the number of observations in your dataset, $y_n$ is the target and $\\hat{y}_n$ is the prediction given the observation $x_n$."
   ]
  },
  {
   "cell_type": "code",
   "execution_count": 4,
   "metadata": {},
   "outputs": [],
   "source": [
    "r2 = lambda y, y_hat: 1 - (mse(y, y_hat) / mse(y, np.mean(y)))"
   ]
  },
  {
   "cell_type": "markdown",
   "metadata": {},
   "source": [
    "* R² compares how much better your regression model is when compared with a predictor that outputs just the mean of the targets. The higher is R², the more sure you are that the independent variables you used explain how the dependent variable changes. For example, if you got a R² of 0.7, you can say that the set of features you used are able to explain 70% of the target variable.\n",
    "* Another interpretaiton is that R² measures the linear correlation between the predictions and the target. \n",
    "* The R² has an upper bound of 1, depending on your application this may be an advantage. An R² = 0 or below means that your model doesn't explain anything in the target by using the features you have selected.\n",
    "* Also, when using R², there are something important [caveats](https://en.wikipedia.org/wiki/Coefficient_of_determination#Caveats) to take into account. One of the caveats is that, depending on the model, using more features can inflate the R² when, in fact, those features are really noisy, meaning the model is actually fitting to the noise."
   ]
  },
  {
   "cell_type": "markdown",
   "metadata": {},
   "source": [
    "### 2.5 - Adjusted R²"
   ]
  },
  {
   "cell_type": "markdown",
   "metadata": {},
   "source": [
    "$$R_{adj}^2 = 1 - \\frac{N - 1}{N - K - 1} (1 - R^2)$$\n",
    "\n",
    "where $N$ is the number of observations in the training dataset and K is the number of features your model is using."
   ]
  },
  {
   "cell_type": "code",
   "execution_count": 5,
   "metadata": {},
   "outputs": [],
   "source": [
    "adjusted_r2 = lambda y, y_hat, N, K: 1 - ((N - 1) / (N - K - 1)) * (1 - r2(y, y_hat))"
   ]
  },
  {
   "cell_type": "markdown",
   "metadata": {},
   "source": [
    "* In order to take into account the addition of useless variables, we can use the adjusted R² score"
   ]
  },
  {
   "cell_type": "markdown",
   "metadata": {},
   "source": [
    "## 3 - Using the metrics"
   ]
  },
  {
   "cell_type": "markdown",
   "metadata": {},
   "source": [
    "As you learned in previous units, there are many ways of selecting your best estimator, and most of it relies on some way of measuring an in-sample-error (ISE) - computed on data used for training - and an out-of-sample error (OSE) - computed on data not used for training. \n",
    "\n",
    "### 3.1 - Hold out method\n",
    "\n",
    "One of the methods you've seen is the hold-out method, where you can just split your data in a training set, where we will compute the ISE, and a test set, where we will compute the OSE.\n",
    "\n",
    "Let's start by seeing how to use this method with different metrics. First, let's load some data. "
   ]
  },
  {
   "cell_type": "code",
   "execution_count": 6,
   "metadata": {},
   "outputs": [
    {
     "data": {
      "text/plain": [
       "[<matplotlib.lines.Line2D at 0x10fe90450>]"
      ]
     },
     "execution_count": 6,
     "metadata": {},
     "output_type": "execute_result"
    },
    {
     "data": {
      "image/png": "[encoded data removed]",
      "text/plain": [
       "<Figure size 432x288 with 1 Axes>"
      ]
     },
     "metadata": {
      "needs_background": "light"
     },
     "output_type": "display_data"
    }
   ],
   "source": [
    "import pandas as pd\n",
    "import numpy as np\n",
    "import matplotlib.pyplot as plt\n",
    "%matplotlib inline\n",
    "\n",
    "df = pd.read_csv('data/example_data.csv')\n",
    "x = df['LotArea'].values\n",
    "y = df['SalePrice'].values\n",
    "\n",
    "plt.plot(x, y, 'r.')"
   ]
  },
  {
   "cell_type": "markdown",
   "metadata": {},
   "source": [
    "Now, remember the sklearn function to get your split for the hold-out method:"
   ]
  },
  {
   "cell_type": "code",
   "execution_count": 7,
   "metadata": {},
   "outputs": [
    {
     "name": "stdout",
     "output_type": "stream",
     "text": [
      "Number of observations:\n",
      "Train: 852 | Test: 569\n"
     ]
    }
   ],
   "source": [
    "from sklearn.model_selection import train_test_split\n",
    "\n",
    "x_train, x_test, y_train, y_test = train_test_split(x, y, test_size=0.4, random_state=10)\n",
    "print(\"Number of observations:\\nTrain: {} | Test: {}\".format(x_train.shape[0], x_test.shape[0]))"
   ]
  },
  {
   "cell_type": "markdown",
   "metadata": {},
   "source": [
    "We now want to train some models and get estimates on both the training data and the test data. Let's train three models:\n",
    "* **Linear Regression**: You have learned about this model in SLU07. It is the closed form solution for optimising towards the RMSE.\n",
    "* **SGDRegressor:** You have learned about this model in SLU07. It is a iterative solution for linear regression based on SGD. By default it optimises for the RMSE.\n",
    "* **SGDRegressor_MAE:** This is a slight variation of the SGDRegressor where we change the loss to *epsilon insensitive* and the epsilon to 0. For now you only need to know that this is an approximation so that the SGD converges to the MAE instead of the RMSE."
   ]
  },
  {
   "cell_type": "code",
   "execution_count": 8,
   "metadata": {},
   "outputs": [],
   "source": [
    "from sklearn import linear_model\n",
    "\n",
    "x_train_clf = x_train.reshape(-1, 1)\n",
    "x_test_clf = x_test.reshape(-1, 1)\n",
    "\n",
    "clf_1 = linear_model.LinearRegression()\n",
    "clf_2 = linear_model.SGDRegressor(random_state=10)\n",
    "clf_3 = linear_model.SGDRegressor(loss='epsilon_insensitive', epsilon=0, random_state=10)\n",
    "\n",
    "clf_1.fit(x_train_clf, y_train)\n",
    "clf_2.fit(x_train_clf, y_train)\n",
    "clf_3.fit(x_train_clf, y_train)\n",
    "\n",
    "y_hat_train_1 = clf_1.predict(x_train_clf)\n",
    "y_hat_train_2 = clf_2.predict(x_train_clf)\n",
    "y_hat_train_3 = clf_3.predict(x_train_clf)\n",
    "\n",
    "\n",
    "y_hat_test_1 = clf_1.predict(x_test_clf)\n",
    "y_hat_test_2 = clf_2.predict(x_test_clf)\n",
    "y_hat_test_3 = clf_3.predict(x_test_clf)"
   ]
  },
  {
   "cell_type": "markdown",
   "metadata": {},
   "source": [
    "Let's compare the metrics on both sets:"
   ]
  },
  {
   "cell_type": "code",
   "execution_count": 9,
   "metadata": {},
   "outputs": [
    {
     "name": "stdout",
     "output_type": "stream",
     "text": [
      "Mean Squared Error (MAE)\n",
      "LinearRegression (Train): 0.1045869600187045\n",
      "SGDRegressor (Train): 0.10691756445904843\n",
      "SGDRegressor_MAE (Train): 0.10201551648216646\n",
      "LinearRegression (Test): 0.10231247228421318\n",
      "SGDRegressor (Test): 0.10676318525512477\n",
      "SGDRegressor_MAE (Test): 0.09976946697182527\n",
      "\n",
      "========================\n",
      "\n",
      "Root Mean Squared Error (RMSE)\n",
      "LinearRegression (Train): 0.1371304197162865\n",
      "SGDRegressor (Train): 0.14084638029623725\n",
      "SGDRegressor_MAE (Train): 0.1440540290850338\n",
      "LinearRegression (Test): 0.13084320786241477\n",
      "SGDRegressor (Test): 0.13692955251099317\n",
      "SGDRegressor_MAE (Test): 0.13724366451104925\n",
      "\n",
      "========================\n",
      "\n",
      "R Squared (R2)\n",
      "LinearRegression (Train): 0.1454781963155537\n",
      "SGDRegressor (Train): 0.09853904994075191\n",
      "SGDRegressor_MAE (Train): 0.05701158485101809\n",
      "LinearRegression (Test): 0.19233940791017645\n",
      "SGDRegressor (Test): 0.11545301906486449\n",
      "SGDRegressor_MAE (Test): 0.11139011953629918\n"
     ]
    }
   ],
   "source": [
    "print(\"Mean Squared Error (MAE)\")\n",
    "print(\"LinearRegression (Train): {}\".format(mae(y_train, y_hat_train_1)))\n",
    "print(\"SGDRegressor (Train): {}\".format(mae(y_train, y_hat_train_2)))\n",
    "print(\"SGDRegressor_MAE (Train): {}\".format(mae(y_train, y_hat_train_3)))\n",
    "print(\"LinearRegression (Test): {}\".format(mae(y_test, y_hat_test_1)))\n",
    "print(\"SGDRegressor (Test): {}\".format(mae(y_test, y_hat_test_2)))\n",
    "print(\"SGDRegressor_MAE (Test): {}\".format(mae(y_test, y_hat_test_3)))\n",
    "\n",
    "print(\"\\n========================\\n\")\n",
    "\n",
    "print(\"Root Mean Squared Error (RMSE)\")\n",
    "print(\"LinearRegression (Train): {}\".format(rmse(y_train, y_hat_train_1)))\n",
    "print(\"SGDRegressor (Train): {}\".format(rmse(y_train, y_hat_train_2)))\n",
    "print(\"SGDRegressor_MAE (Train): {}\".format(rmse(y_train, y_hat_train_3)))\n",
    "print(\"LinearRegression (Test): {}\".format(rmse(y_test, y_hat_test_1)))\n",
    "print(\"SGDRegressor (Test): {}\".format(rmse(y_test, y_hat_test_2)))\n",
    "print(\"SGDRegressor_MAE (Test): {}\".format(rmse(y_test, y_hat_test_3)))\n",
    "\n",
    "print(\"\\n========================\\n\")\n",
    "\n",
    "print(\"R Squared (R2)\")\n",
    "print(\"LinearRegression (Train): {}\".format(r2(y_train, y_hat_train_1)))\n",
    "print(\"SGDRegressor (Train): {}\".format(r2(y_train, y_hat_train_2)))\n",
    "print(\"SGDRegressor_MAE (Train): {}\".format(r2(y_train, y_hat_train_3)))\n",
    "print(\"LinearRegression (Test): {}\".format(r2(y_test, y_hat_test_1)))\n",
    "print(\"SGDRegressor (Test): {}\".format(r2(y_test, y_hat_test_2)))\n",
    "print(\"SGDRegressor_MAE (Test): {}\".format(r2(y_test, y_hat_test_3)))"
   ]
  },
  {
   "cell_type": "markdown",
   "metadata": {},
   "source": [
    "As you may have expected, the model that obtains best test MAE is the SGDRegressor_MAE. This is in line with what we previously discussed, you should always use the loss functions that best approximates your evaluation metric. In this case the MAE itself is not available as a loss function, but we can approximate it. For now you don't need to know exactly why those parameters approximate the MAE, it's just important that you remember this concept. \n",
    "\n",
    "Regarding the RMSE and the R2 the best model is the linear regression.  But let's look at the atual predictions to get a better intuition:"
   ]
  },
  {
   "cell_type": "code",
   "execution_count": 10,
   "metadata": {},
   "outputs": [
    {
     "data": {
      "text/plain": [
       "<matplotlib.legend.Legend at 0x11cd1b790>"
      ]
     },
     "execution_count": 10,
     "metadata": {},
     "output_type": "execute_result"
    },
    {
     "data": {
      "image/png": "[encoded data removed]",
      "text/plain": [
       "<Figure size 432x288 with 1 Axes>"
      ]
     },
     "metadata": {
      "needs_background": "light"
     },
     "output_type": "display_data"
    }
   ],
   "source": [
    "plt.plot(x_test, y_test, 'r.')\n",
    "plt.plot(x_test, y_hat_test_1, 'r.', color='blue', label='LinearRegression')\n",
    "plt.plot(x_test, y_hat_test_2, 'r.', color='green', label='SGDRegressor')\n",
    "plt.plot(x_test, y_hat_test_3, 'r.', color='gold', label='SGDRegressor_MAE')\n",
    "plt.legend()"
   ]
  },
  {
   "cell_type": "markdown",
   "metadata": {},
   "source": [
    "It seems that the default SGDRegressor is highly impacted by the outliers on the left, this results in it obtaining a worse MAE than the SGDRegressor_MAE. It's also interesting to note that the linear regression has a stronger slope than the SGDRegressor_MAE, although they have a similar intercept. \n",
    "\n",
    "Also, don't forget that the SGD is an iterative based solution that has several parameters, this means that if we tuned the parameters in an extra validation set we may be able to squeeze extra performance. Also, this is just a toy example with one feature, perhaps due to the simplicity of the data it just so happens that linear regression works best."
   ]
  },
  {
   "cell_type": "markdown",
   "metadata": {},
   "source": [
    "Finally, to make a consistent analysis, you need to know if our metric should be minimized (like RMSE) or maximized (like R2). If you want to normalize this to make sure your implementation is able to pick a model you can simply impose that your metric should be maximized, for example, and just reverse metrics that don't fit this definition.\n",
    "\n",
    "For example, we can turn RMSE into negative RMSE and apply the same behavior to other metrics that aim to be minimized. That way, we could write:"
   ]
  },
  {
   "cell_type": "code",
   "execution_count": 11,
   "metadata": {},
   "outputs": [
    {
     "name": "stdout",
     "output_type": "stream",
     "text": [
      "Negative MAE\n",
      "LinearRegressor (Train): -0.1045869600187045\n",
      "LinearRegressor (Test): -0.10231247228421318\n",
      "SGDRegressor (Train): -0.10691756445904843\n",
      "SGDRegressor (Test): -0.10676318525512477\n",
      "SGDRegressor_MAE (Train): -0.10201551648216646\n",
      "SGDRegressor_MAE (Test): -0.09976946697182527\n",
      "\n",
      "Best model with Negative MAE: SGDRegressor_MAE\n",
      "\n",
      "========================\n",
      "\n",
      "Negative RMSE\n",
      "LinearRegressor (Train): -0.1371304197162865\n",
      "LinearRegressor (Test): -0.13084320786241477\n",
      "SGDRegressor (Train): -0.14084638029623725\n",
      "SGDRegressor (Test): -0.13692955251099317\n",
      "SGDRegressor_MAE (Train): -0.1440540290850338\n",
      "SGDRegressor_MAE (Test): -0.13724366451104925\n",
      "\n",
      "Best model with Negative RMSE: LinearRegressor\n",
      "\n",
      "========================\n",
      "\n",
      "R2\n",
      "LinearRegressor (Train): 0.1454781963155537\n",
      "LinearRegressor (Test): 0.19233940791017645\n",
      "SGDRegressor (Train): 0.09853904994075191\n",
      "SGDRegressor (Test): 0.11545301906486449\n",
      "SGDRegressor_MAE (Train): 0.05701158485101809\n",
      "SGDRegressor_MAE (Test): 0.11139011953629918\n",
      "\n",
      "Best model with R2: LinearRegressor\n",
      "\n",
      "========================\n",
      "\n"
     ]
    }
   ],
   "source": [
    "mae_mod = lambda y, y_hat: -mae(y, y_hat)\n",
    "mse_mod = lambda y, y_hat: -mse(y, y_hat)\n",
    "rmse_mod = lambda y, y_hat: -rmse(y, y_hat)\n",
    "\n",
    "metrics = {\n",
    "    'Negative MAE': mae_mod,\n",
    "    'Negative RMSE': rmse_mod,\n",
    "    'R2': r2\n",
    "}\n",
    "\n",
    "clfs = {\n",
    "    'LinearRegressor': clf_1,\n",
    "    'SGDRegressor': clf_2,\n",
    "    'SGDRegressor_MAE': clf_3\n",
    "}\n",
    "\n",
    "\n",
    "for key, clf in clfs.items():\n",
    "    clf.fit(x_train_clf, y_train)\n",
    "\n",
    "lst = []\n",
    "for metric, metric_f in metrics.items():\n",
    "    \n",
    "    best = None \n",
    "    best_model = None\n",
    "    lst_lst = []\n",
    "    print(\"{}\".format(metric))\n",
    "    for key, clf in clfs.items():\n",
    "        y_hat_train = clf.predict(x_train_clf)\n",
    "        y_hat_test = clf.predict(x_test_clf)\n",
    "\n",
    "        train_score = metric_f(y_train, y_hat_train)\n",
    "        test_score = metric_f(y_test, y_hat_test)\n",
    "        print(\"{} (Train): {}\".format(key, train_score))\n",
    "        print(\"{} (Test): {}\".format(key, test_score))\n",
    "        if not best or test_score > best:\n",
    "            best = test_score\n",
    "            best_model = key\n",
    "        lst_lst.append([train_score,test_score])\n",
    "    lst.append(lst_lst)\n",
    "    print(\"\\nBest model with {}: {}\".format(metric, best_model))\n",
    "        \n",
    "    print(\"\\n========================\\n\")\n",
    "    \n"
   ]
  },
  {
   "cell_type": "markdown",
   "metadata": {},
   "source": [
    "As you see, it is quite usefull for all metrics to have the same logic in terms of performance, this is, how you should interpret if the model is better or not. We will see the same for cross-validation now.\n",
    "\n",
    "### 3.2 - K-fold cross validation\n",
    "\n",
    "Another of the methods you've seen is cross validation by using a division in train/test data K times and assessing the scores that come out of it. Let's use the same example and models as before:"
   ]
  },
  {
   "cell_type": "code",
   "execution_count": 12,
   "metadata": {},
   "outputs": [],
   "source": [
    "df = pd.read_csv('data/example_data.csv')\n",
    "x = df['LotArea'].values\n",
    "y = df['SalePrice'].values\n",
    "\n",
    "x_clf = x.reshape(-1, 1)\n",
    "y_clf = y.reshape(-1, 1)\n",
    "\n",
    "clf_1 = linear_model.LinearRegression()\n",
    "clf_2 = linear_model.SGDRegressor(random_state=10)\n",
    "clf_3 = linear_model.SGDRegressor(loss='epsilon_insensitive', epsilon=0, random_state=10)"
   ]
  },
  {
   "cell_type": "markdown",
   "metadata": {},
   "source": [
    "With scikitlearn, you can run the `cross_val_score` with k-fold and output the scores in each fold for both estimators:"
   ]
  },
  {
   "cell_type": "code",
   "execution_count": 13,
   "metadata": {},
   "outputs": [
    {
     "name": "stdout",
     "output_type": "stream",
     "text": [
      "Estimator: LinearRegressor\n",
      "Score avg. : 0.15316753486109685\n",
      "Estimator: SGDRegressor\n",
      "Score avg. : 0.10532130371304502\n",
      "Estimator: SGDRegressor_MAE\n",
      "Score avg. : 0.11667100295160308\n"
     ]
    }
   ],
   "source": [
    "from sklearn.model_selection import cross_val_score\n",
    "\n",
    "clfs = {\n",
    "    'LinearRegressor': clf_1,\n",
    "    'SGDRegressor': clf_2,\n",
    "    'SGDRegressor_MAE': clf_3\n",
    "}\n",
    "\n",
    "for key, clf in clfs.items():\n",
    "    clf.fit(x_train_clf, y_train)\n",
    "\n",
    "    \n",
    "K = 5\n",
    "for key, clf in clfs.items():\n",
    "    scores = cross_val_score(clf, x_clf, y, cv=K)\n",
    "    print('Estimator: {}'.format(key))\n",
    "    print('Score avg. : {}'.format(scores.mean()))"
   ]
  },
  {
   "cell_type": "markdown",
   "metadata": {},
   "source": [
    "But what is this score? If the scoring method is not specified, the estimator scorer is used. For our three estimators, in this particular case, this corresponds to the coefficient of determination R2 of the prediction. \n",
    "\n",
    "But what if we want to use another metric? Actually, the `cross_val_score` gives us the possibility of doing so, by passing a `scoring` parameter, which can be a string, for example. You can check [here](https://scikit-learn.org/stable/modules/model_evaluation.html#scoring-parameter) all of the possibilities, but for this SLU the most important one are:\n",
    "\n",
    "* `neg_mean_absolute_error`\t \n",
    "* `neg_mean_squared_error`\t \n",
    "* `r2`\n",
    "\n",
    "In this case, the metrics follow the rule of \"higher is better\", thus the negative MAE and MSE options. \n"
   ]
  },
  {
   "cell_type": "code",
   "execution_count": 14,
   "metadata": {},
   "outputs": [
    {
     "name": "stdout",
     "output_type": "stream",
     "text": [
      "Estimator: LinearRegressor\n",
      "Negative MAE avg. : -0.10347445378375131\n",
      "Estimator: SGDRegressor\n",
      "Negative MAE avg. : -0.10599255477662213\n",
      "Estimator: SGDRegressor_MAE\n",
      "Negative MAE avg. : -0.10095477222325781\n"
     ]
    }
   ],
   "source": [
    "from sklearn.model_selection import cross_val_score\n",
    "\n",
    "clfs = {\n",
    "    'LinearRegressor': clf_1,\n",
    "    'SGDRegressor': clf_2,\n",
    "    'SGDRegressor_MAE': clf_3\n",
    "}\n",
    "\n",
    "for key, clf in clfs.items():\n",
    "    clf.fit(x_train_clf, y_train)\n",
    "\n",
    "    \n",
    "K = 5\n",
    "for key, clf in clfs.items():\n",
    "    scores = cross_val_score(clf, x_clf, y, cv=K, scoring=\"neg_mean_absolute_error\")\n",
    "    print('Estimator: {}'.format(key))\n",
    "    print('Negative MAE avg. : {}'.format(scores.mean()))"
   ]
  },
  {
   "cell_type": "markdown",
   "metadata": {},
   "source": [
    "There are also other ways of passing on metrics do these functions, and this is not the only function to perform these comparisons. You can explore the model selection to learn more about it. But for now, move forward to the exercises and the next SLUs.\n",
    "\n",
    "![goodbye](assets/goodbye.gif)"
   ]
  },
  {
   "cell_type": "markdown",
   "metadata": {},
   "source": [
    "## 4 - For the more curious"
   ]
  },
  {
   "cell_type": "markdown",
   "metadata": {},
   "source": [
    "This notebook is not an exhaustive exploration of this topic. Here is some curated material if you want to learn more:\n",
    "* [Coursera - Regression metrics review I](https://www.coursera.org/lecture/competitive-data-science/regression-metrics-review-i-UWhYf) and [II](https://www.coursera.org/lecture/competitive-data-science/regression-metrics-review-ii-qhRmV)\n",
    "* [Sklearn - Regression metrics](https://scikit-learn.org/stable/modules/model_evaluation.html#regression-metrics)\n",
    "* [H2O.ai - Regression metrics’ guide](https://www.h2o.ai/blog/regression-metrics-guide/)"
   ]
  }
 ],
 "metadata": {
  "kernelspec": {
   "display_name": "Python 3",
   "language": "python",
   "name": "python3"
  },
  "language_info": {
   "codemirror_mode": {
    "name": "ipython",
    "version": 3
   },
   "file_extension": ".py",
   "mimetype": "text/x-python",
   "name": "python",
   "nbconvert_exporter": "python",
   "pygments_lexer": "ipython3",
   "version": "3.6.9"
  }
 },
 "nbformat": 4,
 "nbformat_minor": 2
}
