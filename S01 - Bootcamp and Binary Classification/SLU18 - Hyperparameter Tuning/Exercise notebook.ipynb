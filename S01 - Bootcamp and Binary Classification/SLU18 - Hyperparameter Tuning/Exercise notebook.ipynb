{
 "cells": [
  {
   "cell_type": "markdown",
   "metadata": {
    "colab_type": "text",
    "deletable": false,
    "editable": false,
    "id": "jc1eU_dVECIZ",
    "nbgrader": {
     "grade": false,
     "grade_id": "cell-e37aef4d78b4c632",
     "locked": true,
     "schema_version": 3,
     "solution": false
    }
   },
   "source": [
    "# SLU18 - Hyperparameter Tuning : Exercise notebook\n",
    "\n",
    "### New concepts in this unit\n",
    "\n",
    "*  Hyperparameter definition\n",
    "*  Hyperparameter search\n",
    "*  Model selection\n",
    "\n",
    "### New tools in this unit\n",
    "- [GridSearchCV](http://scikit-learn.org/stable/modules/generated/sklearn.model_selection.GridSearchCV.html)\n",
    "- [RandomizedSearchCV](http://scikit-learn.org/stable/modules/generated/sklearn.model_selection.RandomizedSearchCV.html)"
   ]
  },
  {
   "cell_type": "markdown",
   "metadata": {
    "colab_type": "text",
    "deletable": false,
    "editable": false,
    "id": "UpoBQazfOcdm",
    "nbgrader": {
     "grade": false,
     "grade_id": "cell-673e46abe486e6cf",
     "locked": true,
     "schema_version": 3,
     "solution": false
    }
   },
   "source": [
    "## Introduction\n",
    "\n",
    "\n",
    "Yay! You have a new fancy watch with all those accelerometers and gyros! \n",
    "\n",
    "![](./media/applewatch.png)\n",
    "\n",
    "\n",
    "...and you were able to wait 10 minutes before hacking it and extract data from those instruments... you want to estimate when you are WALKING, WALKING_UPSTAIRS, WALKING_DOWNSTAIRS, SITTING, STANDING and LAYING. Not sure why.\n",
    "\n",
    "You come up with a dataset with 7353 labeled activities - yeah, strangely enough you did label all these movements.  \n",
    "\n",
    "The data set has: \n",
    "\n",
    "- A 7353 instances with 6 features each (3 linear avg accelerations, 3 angular avg accelerations) - there are more in the given URL below, but we will not use it\n",
    "- A label of the activity being done \n",
    "\n",
    "labels are already encoded as `1-WALKING`, `2-WALKING_UPSTAIRS`, `3-WALKING_DOWNSTAIRS`, `4-SITTING`, `5- STANDING` and `6-LAYING`\n",
    "\n",
    "\n",
    "You don't need this but data came from here (that's the truth...) https://archive.ics.uci.edu/ml/datasets/Human+Activity+Recognition+Using+Smartphones)"
   ]
  },
  {
   "cell_type": "code",
   "execution_count": null,
   "metadata": {
    "ExecuteTime": {
     "end_time": "2020-07-17T08:44:45.474173Z",
     "start_time": "2020-07-17T08:44:44.211895Z"
    },
    "colab": {},
    "colab_type": "code",
    "deletable": false,
    "editable": false,
    "id": "zvs-JlaoOqhB",
    "nbgrader": {
     "grade": false,
     "grade_id": "cell-8c2e27bca8450438",
     "locked": true,
     "schema_version": 3,
     "solution": false
    }
   },
   "outputs": [],
   "source": [
    "import pandas as pd\n",
    "import numpy as np\n",
    "import scipy\n",
    "import warnings\n",
    "from hashlib import sha256\n",
    "import json\n",
    "\n",
    "import sklearn\n",
    "# These will be needed to prepare the dataset\n",
    "from sklearn.model_selection import train_test_split\n",
    "from sklearn.preprocessing import StandardScaler"
   ]
  },
  {
   "cell_type": "code",
   "execution_count": null,
   "metadata": {
    "ExecuteTime": {
     "end_time": "2020-07-17T08:44:45.497021Z",
     "start_time": "2020-07-17T08:44:45.477217Z"
    },
    "colab": {
     "base_uri": "https://localhost:8080/",
     "height": 204
    },
    "colab_type": "code",
    "deletable": false,
    "editable": false,
    "id": "Cxy3SZa9Vl8-",
    "nbgrader": {
     "grade": false,
     "grade_id": "cell-af75adfcef8e3e25",
     "locked": true,
     "schema_version": 3,
     "solution": false
    },
    "outputId": "d745d4af-91fe-47a4-840b-1f76b6dcfd25"
   },
   "outputs": [],
   "source": [
    "# Seed for reproducibility\n",
    "np.random.seed(42)\n",
    "\n",
    "warnings.simplefilter(\"ignore\")\n",
    "\n",
    "# Load data\n",
    "mobile_df = pd.read_csv(\"data/X_data.csv\", delimiter=\",\")\n",
    "mobile_df_target = pd.read_csv(\"data/y_data.csv\", delimiter=\",\")"
   ]
  },
  {
   "cell_type": "markdown",
   "metadata": {
    "colab_type": "text",
    "deletable": false,
    "editable": false,
    "id": "qRj_iSssTcLg",
    "nbgrader": {
     "grade": false,
     "grade_id": "cell-f1b446af2ec6ae5f",
     "locked": true,
     "schema_version": 3,
     "solution": false
    }
   },
   "source": [
    "You then train-test split your dataset so that you keep a portion of it out of training and validation process"
   ]
  },
  {
   "cell_type": "code",
   "execution_count": null,
   "metadata": {
    "ExecuteTime": {
     "end_time": "2020-07-17T08:44:45.507563Z",
     "start_time": "2020-07-17T08:44:45.499703Z"
    },
    "colab": {},
    "colab_type": "code",
    "deletable": false,
    "editable": false,
    "id": "Anbcj4COS7nK",
    "nbgrader": {
     "grade": false,
     "grade_id": "cell-f53edd3f32161821",
     "locked": true,
     "schema_version": 3,
     "solution": false
    }
   },
   "outputs": [],
   "source": [
    "X_train, X_test, y_train, y_test = train_test_split(\n",
    "                                        mobile_df,\n",
    "                                        mobile_df_target, \n",
    "                                        test_size=0.30,\n",
    "                                        random_state=42\n",
    "                                        )"
   ]
  },
  {
   "cell_type": "code",
   "execution_count": null,
   "metadata": {
    "ExecuteTime": {
     "end_time": "2020-07-17T08:44:45.515355Z",
     "start_time": "2020-07-17T08:44:45.509787Z"
    },
    "colab": {},
    "colab_type": "code",
    "deletable": false,
    "editable": false,
    "id": "Anbcj4COS7nK",
    "nbgrader": {
     "grade": false,
     "grade_id": "cell-fabf478785185daf",
     "locked": true,
     "schema_version": 3,
     "solution": false
    }
   },
   "outputs": [],
   "source": [
    "print(\"X_train of shape \", X_train.shape)\n",
    "print(\"y_train of shape \", y_train.shape)\n",
    "print(\"X_test of shape  \", X_test.shape)\n",
    "print(\"y_test of shape  \", y_test.shape)"
   ]
  },
  {
   "cell_type": "markdown",
   "metadata": {
    "colab_type": "text",
    "deletable": false,
    "editable": false,
    "id": "QTatcWRNOq8Q",
    "nbgrader": {
     "grade": false,
     "grade_id": "cell-ed19a5f6c8c3ad68",
     "locked": true,
     "schema_version": 3,
     "solution": false
    }
   },
   "source": [
    "Notice your target variable is not binary and you are working with a multiclass classification problem. \n",
    "Because you want to start with a simple and explainable model, you decide to use a decision tree model.\n",
    "You start by run it with default settings and with a simple accuracy metric (for the sake of simplicity)."
   ]
  },
  {
   "cell_type": "markdown",
   "metadata": {
    "ExecuteTime": {
     "end_time": "2020-07-12T16:42:36.147550Z",
     "start_time": "2020-07-12T16:42:36.145212Z"
    },
    "colab_type": "text",
    "deletable": false,
    "editable": false,
    "id": "QTatcWRNOq8Q",
    "nbgrader": {
     "grade": false,
     "grade_id": "cell-d6bd46c2b64b5199",
     "locked": true,
     "schema_version": 3,
     "solution": false
    }
   },
   "source": [
    "## Exercise 0 - Simple Model, no Hyper Parameter Tuning"
   ]
  },
  {
   "cell_type": "code",
   "execution_count": null,
   "metadata": {
    "ExecuteTime": {
     "end_time": "2020-07-17T08:44:45.721185Z",
     "start_time": "2020-07-17T08:44:45.517478Z"
    },
    "colab_type": "text",
    "deletable": false,
    "id": "QTatcWRNOq8Q",
    "nbgrader": {
     "grade": false,
     "grade_id": "cell-a535e70dd993e511",
     "locked": false,
     "schema_version": 3,
     "solution": true
    }
   },
   "outputs": [],
   "source": [
    "# Use a simple DecisionTreeClassifier with random_state = 43 with default settings, \n",
    "# assigned it to a variable called d_tree = ...\n",
    "# Add the resulting score over the test set to a variable called default_score = ...\n",
    "\n",
    "\n",
    "# YOUR CODE HERE\n",
    "raise NotImplementedError()"
   ]
  },
  {
   "cell_type": "code",
   "execution_count": null,
   "metadata": {
    "ExecuteTime": {
     "end_time": "2020-07-17T08:44:45.729010Z",
     "start_time": "2020-07-17T08:44:45.723779Z"
    },
    "colab_type": "text",
    "deletable": false,
    "editable": false,
    "id": "QTatcWRNOq8Q",
    "nbgrader": {
     "grade": true,
     "grade_id": "cell-e2dc672475d5fdcc",
     "locked": true,
     "points": 2,
     "schema_version": 3,
     "solution": false
    }
   },
   "outputs": [],
   "source": [
    "import math\n",
    "assert d_tree.random_state == 43\n",
    "assert isinstance(d_tree, sklearn.tree.DecisionTreeClassifier)\n",
    "assert sha256(d_tree.predict(X_test)).hexdigest() == \"b9f93d9ac0d93397ea703723b7f3d4cb8c2be4823e707c04757ebb4e03901cec\"\n",
    "assert math.isclose(default_score, 0.528, abs_tol=0.001)"
   ]
  },
  {
   "cell_type": "markdown",
   "metadata": {
    "ExecuteTime": {
     "end_time": "2020-07-12T15:59:50.727137Z",
     "start_time": "2020-07-12T15:59:50.658417Z"
    },
    "colab_type": "text",
    "deletable": false,
    "editable": false,
    "id": "QTatcWRNOq8Q",
    "nbgrader": {
     "grade": false,
     "grade_id": "cell-6bbf70d43ddbcc48",
     "locked": true,
     "schema_version": 3,
     "solution": false
    }
   },
   "source": [
    "You decide to search for better hyperparameters that could increase your metrics."
   ]
  },
  {
   "cell_type": "markdown",
   "metadata": {
    "colab_type": "text",
    "deletable": false,
    "editable": false,
    "id": "7eQkWwv-Elxa",
    "nbgrader": {
     "grade": false,
     "grade_id": "cell-6ca133b5766a78ff",
     "locked": true,
     "schema_version": 3,
     "solution": false
    }
   },
   "source": [
    "## Exercise 1- Grid Search\n",
    "\n",
    "Since you are not entirely sure what hyperparameters to choose, you decide to run a grid search to start with.\n",
    "\n",
    "1.1) Create a hyperparameter search space with the following specifications:\n",
    "\n",
    "- max_leaf_nodes: between 180 and 220 (incl.), with increments of 5\n",
    "- max_depth between 12 and 18 (incl.), with increments of 1\n",
    "- 'criterion': \"gini\" and \"entropy\"\n"
   ]
  },
  {
   "cell_type": "code",
   "execution_count": null,
   "metadata": {
    "ExecuteTime": {
     "end_time": "2020-07-17T08:44:45.736875Z",
     "start_time": "2020-07-17T08:44:45.732807Z"
    },
    "colab": {},
    "colab_type": "code",
    "deletable": false,
    "id": "vTRk97yhpsQC",
    "nbgrader": {
     "grade": false,
     "grade_id": "cell-7bae1466cae03dfa",
     "locked": false,
     "schema_version": 3,
     "solution": true
    }
   },
   "outputs": [],
   "source": [
    "# Create a hyperparameter search space (a dictionary with 3 entries) with the following specifications:\n",
    "# - max_leaf_nodes: between 180 and 220 (incl.), with increments of 5\n",
    "# - max_depth between 12 and 18 (incl.), with increments of 1\n",
    "# - 'criterion': \"gini\" and \"entropy\"\n",
    "# assign your grid to the variable grid\n",
    "# grid = ...\n",
    "\n",
    "# YOUR CODE HERE\n",
    "raise NotImplementedError()"
   ]
  },
  {
   "cell_type": "code",
   "execution_count": null,
   "metadata": {
    "ExecuteTime": {
     "end_time": "2020-07-17T08:44:45.744728Z",
     "start_time": "2020-07-17T08:44:45.740029Z"
    },
    "colab": {},
    "colab_type": "code",
    "deletable": false,
    "editable": false,
    "id": "78i0emuGM22J",
    "nbgrader": {
     "grade": true,
     "grade_id": "cell-74b192f294d472a6",
     "locked": true,
     "points": 2,
     "schema_version": 3,
     "solution": false
    }
   },
   "outputs": [],
   "source": [
    "assert isinstance(grid, dict)\n",
    "assert \"max_depth\" in grid\n",
    "assert \"criterion\" in grid\n",
    "assert all(num in grid[\"max_depth\"] for num in [n for n in range(12, 19, 1)])\n",
    "assert all(num in grid[\"max_leaf_nodes\"] for num in [n for n in range(180, 221, 5)])\n",
    "assert \"gini\" in grid[\"criterion\"] \n",
    "assert \"entropy\" in grid[\"criterion\"]"
   ]
  },
  {
   "cell_type": "markdown",
   "metadata": {
    "colab_type": "text",
    "deletable": false,
    "editable": false,
    "id": "bT7t3PeoHxd8",
    "nbgrader": {
     "grade": false,
     "grade_id": "cell-697bd760cb114938",
     "locked": true,
     "schema_version": 3,
     "solution": false
    }
   },
   "source": [
    "1.2) Create a grid search (`GridSearchCV`) with a Decision Tree Classifier using the hyperparameter space defined in 1.1. Set the scoring function as \"accuracy\" (again, for the sake of simplicity)\n"
   ]
  },
  {
   "cell_type": "code",
   "execution_count": null,
   "metadata": {
    "ExecuteTime": {
     "end_time": "2020-07-17T08:44:45.753104Z",
     "start_time": "2020-07-17T08:44:45.747035Z"
    },
    "colab": {
     "base_uri": "https://localhost:8080/",
     "height": 34
    },
    "colab_type": "code",
    "deletable": false,
    "id": "AC891dnTH3Ky",
    "nbgrader": {
     "grade": false,
     "grade_id": "cell-839764842b89da11",
     "locked": false,
     "schema_version": 3,
     "solution": true
    },
    "outputId": "54acbcc7-4fcb-47fb-d83f-3cfe3093ab9b"
   },
   "outputs": [],
   "source": [
    "# Create a grid search with a Decision Tree Classifier\n",
    "# use the hyperparameter space defined in 1.1\n",
    "# Again don't forget to set the random_state to 43\n",
    "# Set the scoring function as the accuracy\n",
    "# assign the gridsearch to the variable grid_search = ...\n",
    "\n",
    "# YOUR CODE HERE\n",
    "raise NotImplementedError()"
   ]
  },
  {
   "cell_type": "code",
   "execution_count": null,
   "metadata": {
    "ExecuteTime": {
     "end_time": "2020-07-17T08:44:45.761104Z",
     "start_time": "2020-07-17T08:44:45.755922Z"
    },
    "colab": {},
    "colab_type": "code",
    "deletable": false,
    "editable": false,
    "id": "sN_VU6RpM1gQ",
    "nbgrader": {
     "grade": true,
     "grade_id": "cell-454d9120b621dcc9",
     "locked": true,
     "points": 2,
     "schema_version": 3,
     "solution": false
    }
   },
   "outputs": [],
   "source": [
    "scoring_hash='4c378f74c01e3ca1b174cc5fe7631fe9686a2d619f2090d244f7b958e9f18211'\n",
    "\n",
    "assert isinstance(grid_search, sklearn.model_selection.GridSearchCV)\n",
    "assert isinstance(grid_search.estimator, sklearn.tree.DecisionTreeClassifier)\n",
    "assert grid_search.estimator.random_state == 43\n",
    "assert scoring_hash == sha256(\n",
    "                        json.dumps(grid_search.get_params()[\"scoring\"]).encode()\n",
    "                       ).hexdigest()"
   ]
  },
  {
   "cell_type": "markdown",
   "metadata": {
    "colab_type": "text",
    "deletable": false,
    "editable": false,
    "id": "BbOZacl7KYu1",
    "nbgrader": {
     "grade": false,
     "grade_id": "cell-a82ab7b985f9b84a",
     "locked": true,
     "schema_version": 3,
     "solution": false
    }
   },
   "source": [
    "1.3). Find the best estimator using grid_search"
   ]
  },
  {
   "cell_type": "code",
   "execution_count": null,
   "metadata": {
    "ExecuteTime": {
     "end_time": "2020-07-17T08:45:16.117162Z",
     "start_time": "2020-07-17T08:44:45.763577Z"
    },
    "colab": {
     "base_uri": "https://localhost:8080/",
     "height": 34
    },
    "colab_type": "code",
    "deletable": false,
    "id": "o-eaeEA-KMTn",
    "nbgrader": {
     "grade": false,
     "grade_id": "cell-039b24bfea2fb51a",
     "locked": false,
     "schema_version": 3,
     "solution": true
    },
    "outputId": "16e0962b-d5af-4e78-ba76-3b904f2c7b1b"
   },
   "outputs": [],
   "source": [
    "# Find the best estimator using grid_search from 1.2\n",
    "# Begin by performing the grid search over the train data (this can take around 1 minute)\n",
    "# Then, extract the best estimator and assign it to best_dt_model\n",
    "# best_dt_model = ...\n",
    "# \n",
    "\n",
    "# YOUR CODE HERE\n",
    "raise NotImplementedError()"
   ]
  },
  {
   "cell_type": "code",
   "execution_count": null,
   "metadata": {
    "ExecuteTime": {
     "end_time": "2020-07-17T08:45:16.122369Z",
     "start_time": "2020-07-17T08:45:16.119146Z"
    },
    "colab": {
     "base_uri": "https://localhost:8080/",
     "height": 34
    },
    "colab_type": "code",
    "deletable": false,
    "editable": false,
    "id": "o-eaeEA-KMTn",
    "nbgrader": {
     "grade": true,
     "grade_id": "cell-b45d882dbebfe2f0",
     "locked": true,
     "points": 2,
     "schema_version": 3,
     "solution": false
    },
    "outputId": "16e0962b-d5af-4e78-ba76-3b904f2c7b1b"
   },
   "outputs": [],
   "source": [
    "hash_ = \"79568e90ea80a995673b940fb772f0b6306160f85c85111c5c798f88716bba8a\"\n",
    "assert isinstance(best_dt_model, sklearn.tree.DecisionTreeClassifier)\n",
    "assert hash_ == sha256(json.dumps(best_dt_model.get_params()).encode()).hexdigest()"
   ]
  },
  {
   "cell_type": "markdown",
   "metadata": {
    "ExecuteTime": {
     "end_time": "2020-07-12T15:47:41.601564Z",
     "start_time": "2020-07-12T15:47:41.562998Z"
    },
    "colab": {
     "base_uri": "https://localhost:8080/",
     "height": 34
    },
    "colab_type": "code",
    "deletable": false,
    "editable": false,
    "id": "AC891dnTH3Ky",
    "nbgrader": {
     "grade": false,
     "grade_id": "cell-a073e46fda3cec51",
     "locked": true,
     "schema_version": 3,
     "solution": false
    },
    "outputId": "54acbcc7-4fcb-47fb-d83f-3cfe3093ab9b"
   },
   "source": [
    "1.4) Make predictions on the test set using the estimator with the best found parameters"
   ]
  },
  {
   "cell_type": "code",
   "execution_count": null,
   "metadata": {
    "ExecuteTime": {
     "end_time": "2020-07-17T08:45:16.129292Z",
     "start_time": "2020-07-17T08:45:16.123945Z"
    },
    "colab": {
     "base_uri": "https://localhost:8080/",
     "height": 34
    },
    "colab_type": "code",
    "deletable": false,
    "id": "AC891dnTH3Ky",
    "nbgrader": {
     "grade": false,
     "grade_id": "cell-821ecff921c05078",
     "locked": false,
     "schema_version": 3,
     "solution": true
    },
    "outputId": "54acbcc7-4fcb-47fb-d83f-3cfe3093ab9b"
   },
   "outputs": [],
   "source": [
    "# Measure accuracy for the best estimator from 1.3) over the test set\n",
    "# assign it to the variable best_dt_model_score=...\n",
    "# Check the new hyperparameters of this model and assign to \n",
    "# best_dt_model_param =...\n",
    "\n",
    "# YOUR CODE HERE\n",
    "raise NotImplementedError()"
   ]
  },
  {
   "cell_type": "code",
   "execution_count": null,
   "metadata": {
    "ExecuteTime": {
     "end_time": "2020-07-17T08:45:16.134168Z",
     "start_time": "2020-07-17T08:45:16.131078Z"
    },
    "colab": {
     "base_uri": "https://localhost:8080/",
     "height": 34
    },
    "colab_type": "code",
    "deletable": false,
    "editable": false,
    "id": "AC891dnTH3Ky",
    "nbgrader": {
     "grade": true,
     "grade_id": "cell-a5516169cb41e4ea",
     "locked": true,
     "points": 3,
     "schema_version": 3,
     "solution": false
    },
    "outputId": "54acbcc7-4fcb-47fb-d83f-3cfe3093ab9b"
   },
   "outputs": [],
   "source": [
    "hash_  = \"79568e90ea80a995673b940fb772f0b6306160f85c85111c5c798f88716bba8a\"\n",
    "assert math.isclose(best_dt_model_score, 0.570, abs_tol=0.001)\n",
    "assert hash_ == sha256(json.dumps(best_dt_model_param).encode()).hexdigest()"
   ]
  },
  {
   "cell_type": "markdown",
   "metadata": {
    "ExecuteTime": {
     "end_time": "2020-07-15T18:44:30.381161Z",
     "start_time": "2020-07-15T18:44:30.376433Z"
    },
    "colab": {
     "base_uri": "https://localhost:8080/",
     "height": 34
    },
    "colab_type": "code",
    "deletable": false,
    "editable": false,
    "id": "AC891dnTH3Ky",
    "nbgrader": {
     "grade": false,
     "grade_id": "cell-794db7765bf9301d",
     "locked": true,
     "schema_version": 3,
     "solution": false,
     "task": false
    },
    "outputId": "54acbcc7-4fcb-47fb-d83f-3cfe3093ab9b"
   },
   "source": [
    "Now Let's compare Normal and Grid Search approach:"
   ]
  },
  {
   "cell_type": "code",
   "execution_count": null,
   "metadata": {
    "ExecuteTime": {
     "end_time": "2020-07-17T08:45:16.142382Z",
     "start_time": "2020-07-17T08:45:16.137423Z"
    },
    "colab": {
     "base_uri": "https://localhost:8080/",
     "height": 34
    },
    "colab_type": "code",
    "deletable": false,
    "editable": false,
    "id": "AC891dnTH3Ky",
    "nbgrader": {
     "grade": false,
     "grade_id": "cell-b6cda52f2ff1a8da",
     "locked": true,
     "schema_version": 3,
     "solution": false,
     "task": false
    },
    "outputId": "54acbcc7-4fcb-47fb-d83f-3cfe3093ab9b"
   },
   "outputs": [],
   "source": [
    "print(\"Normal (Exercise 0) model score: \", default_score)\n",
    "print(\"Grid Search (Exercise 1) Best Model Score: \", best_dt_model_score)\n",
    "print(\"Score difference: \", (best_dt_model_score-default_score)*100)"
   ]
  },
  {
   "cell_type": "markdown",
   "metadata": {
    "ExecuteTime": {
     "end_time": "2020-07-12T17:04:25.035746Z",
     "start_time": "2020-07-12T17:04:25.029279Z"
    },
    "colab": {
     "base_uri": "https://localhost:8080/",
     "height": 34
    },
    "colab_type": "code",
    "deletable": false,
    "editable": false,
    "id": "AC891dnTH3Ky",
    "nbgrader": {
     "grade": false,
     "grade_id": "cell-872f7495f53e77cb",
     "locked": true,
     "schema_version": 3,
     "solution": false
    },
    "outputId": "54acbcc7-4fcb-47fb-d83f-3cfe3093ab9b"
   },
   "source": [
    "You can see that you got more than 4% extra accuracy just by fastly tweaking hyperparameters. \n",
    "\n",
    "Looking into the new parameters you should actually see that your model was overfitting, and that the best model found is actually adding some regularization by shorting the tree max depth and the number of leaves."
   ]
  },
  {
   "cell_type": "markdown",
   "metadata": {
    "colab_type": "text",
    "deletable": false,
    "editable": false,
    "id": "6GvdvJLR55Ok",
    "nbgrader": {
     "grade": false,
     "grade_id": "cell-be72385637b53b03",
     "locked": true,
     "schema_version": 3,
     "solution": false
    }
   },
   "source": [
    "## Exercise 2 - Random Search \n",
    "\n",
    "You then decide to try the Logistic Regression model along with a Random Search method\n",
    "\n",
    "2.1) Create a random search distribution with the following hyperparameter distribution,\n",
    "\n",
    "- Inverse of regularization strength 'C' between 0.1 and 10 with 100 points\n",
    "- penalty  \"l2\" or \"l1\"\n"
   ]
  },
  {
   "cell_type": "code",
   "execution_count": null,
   "metadata": {
    "ExecuteTime": {
     "end_time": "2020-07-17T08:58:38.576590Z",
     "start_time": "2020-07-17T08:58:38.572732Z"
    },
    "colab": {},
    "colab_type": "code",
    "deletable": false,
    "id": "W9V-aI_95_mb",
    "nbgrader": {
     "grade": false,
     "grade_id": "cell-9e55b42741f78f71",
     "locked": false,
     "schema_version": 3,
     "solution": true
    }
   },
   "outputs": [],
   "source": [
    "# Create a random search distribution with the\n",
    "# following hyperparameter distribution\n",
    "#- Inverse of regularization strength 'C' (list) uniformly distributed between 0.1 and 10 with 100 points (hint: use a numpy linspace)\n",
    "#- penalty  \"l2\" or \"l1\"\n",
    "# assign it to random_grid\n",
    "# random_grid = ...\n",
    "\n",
    "# YOUR CODE HERE\n",
    "raise NotImplementedError()"
   ]
  },
  {
   "cell_type": "code",
   "execution_count": null,
   "metadata": {
    "ExecuteTime": {
     "end_time": "2020-07-17T08:58:39.108040Z",
     "start_time": "2020-07-17T08:58:39.104154Z"
    },
    "colab": {},
    "colab_type": "code",
    "deletable": false,
    "editable": false,
    "id": "30crPizWOSy1",
    "nbgrader": {
     "grade": true,
     "grade_id": "cell-a95e4715d3d0e17e",
     "locked": true,
     "points": 2,
     "schema_version": 3,
     "solution": false
    }
   },
   "outputs": [],
   "source": [
    "assert \"C\" in random_grid\n",
    "assert \"penalty\" in random_grid\n",
    "assert isinstance(random_grid[\"C\"], list)\n",
    "assert \"l2\" in random_grid[\"penalty\"]\n",
    "assert \"l1\" in random_grid[\"penalty\"]"
   ]
  },
  {
   "cell_type": "markdown",
   "metadata": {
    "colab_type": "text",
    "deletable": false,
    "editable": false,
    "id": "OkdtEC20NQT1",
    "nbgrader": {
     "grade": false,
     "grade_id": "cell-1d92fd58e8e4e83e",
     "locked": true,
     "schema_version": 3,
     "solution": false
    }
   },
   "source": [
    "2.2) Create a random search over a  Logistic Regression estimator.\n",
    "- Set the random_state to 43\n",
    "- Set the number of iterations to 25\n",
    "- Set the scoring to accuracy"
   ]
  },
  {
   "cell_type": "code",
   "execution_count": null,
   "metadata": {
    "ExecuteTime": {
     "end_time": "2020-07-17T08:58:40.562360Z",
     "start_time": "2020-07-17T08:58:40.555727Z"
    },
    "colab": {
     "base_uri": "https://localhost:8080/",
     "height": 34
    },
    "colab_type": "code",
    "deletable": false,
    "id": "JNBN-RT9OWXO",
    "nbgrader": {
     "grade": false,
     "grade_id": "cell-6da83075a9663ae5",
     "locked": false,
     "schema_version": 3,
     "solution": true
    },
    "outputId": "c5a47d2b-9ef8-4d4d-86ca-0d34fd48859b"
   },
   "outputs": [],
   "source": [
    "# Create a random search \n",
    "# - Use a Logistic Regression estimator\n",
    "# - Set the random_state to 43\n",
    "# - Set the number of iterations to 25\n",
    "# - Set the scoring to accuracy\n",
    "# - Use the random grid you created in 2.1\n",
    "# assign it to random_search\n",
    "# random_search = ...\n",
    "\n",
    "# YOUR CODE HERE\n",
    "raise NotImplementedError()"
   ]
  },
  {
   "cell_type": "code",
   "execution_count": null,
   "metadata": {
    "ExecuteTime": {
     "end_time": "2020-07-17T08:58:41.426039Z",
     "start_time": "2020-07-17T08:58:41.420914Z"
    },
    "colab": {},
    "colab_type": "code",
    "deletable": false,
    "editable": false,
    "id": "8ZJai0McPmtf",
    "nbgrader": {
     "grade": true,
     "grade_id": "cell-94cd192ba475e33d",
     "locked": true,
     "points": 2,
     "schema_version": 3,
     "solution": false
    }
   },
   "outputs": [],
   "source": [
    "scoring_hash='4c378f74c01e3ca1b174cc5fe7631fe9686a2d619f2090d244f7b958e9f18211'\n",
    "\n",
    "assert isinstance(random_search, sklearn.model_selection.RandomizedSearchCV)\n",
    "assert isinstance(random_search.estimator, sklearn.linear_model.LogisticRegression)\n",
    "assert random_search.random_state==43\n",
    "assert random_search.n_iter==25\n",
    "assert scoring_hash == sha256(\n",
    "                        json.dumps(random_search.get_params()[\"scoring\"]).encode()\n",
    "                       ).hexdigest()"
   ]
  },
  {
   "cell_type": "markdown",
   "metadata": {
    "colab_type": "text",
    "deletable": false,
    "editable": false,
    "id": "bHdIbHyfhacT",
    "nbgrader": {
     "grade": false,
     "grade_id": "cell-ac1d536e4152b7f4",
     "locked": true,
     "schema_version": 3,
     "solution": false
    }
   },
   "source": [
    "2.3) Get the best model from the random_search"
   ]
  },
  {
   "cell_type": "code",
   "execution_count": null,
   "metadata": {
    "ExecuteTime": {
     "end_time": "2020-07-17T08:58:49.964314Z",
     "start_time": "2020-07-17T08:58:42.292675Z"
    },
    "colab": {
     "base_uri": "https://localhost:8080/",
     "height": 34
    },
    "colab_type": "code",
    "deletable": false,
    "id": "R0Ahh3v8e8yQ",
    "nbgrader": {
     "grade": false,
     "grade_id": "cell-af31b5d6621ed971",
     "locked": false,
     "schema_version": 3,
     "solution": true
    },
    "outputId": "62043c63-31a9-43f5-b0ca-df5482967160"
   },
   "outputs": [],
   "source": [
    "# Get the best model from the random search\n",
    "# Begin performing the random search over the train data\n",
    "# Then extract the best estimator and assign it to rs_best_model\n",
    "# rs_best_model = ...\n",
    "\n",
    "# YOUR CODE HERE\n",
    "raise NotImplementedError()"
   ]
  },
  {
   "cell_type": "code",
   "execution_count": null,
   "metadata": {
    "ExecuteTime": {
     "end_time": "2020-07-17T08:58:49.970465Z",
     "start_time": "2020-07-17T08:58:49.966396Z"
    },
    "colab": {},
    "colab_type": "code",
    "deletable": false,
    "editable": false,
    "id": "YR4BChm9h_d3",
    "nbgrader": {
     "grade": true,
     "grade_id": "cell-32edafc7acb11ff3",
     "locked": true,
     "points": 2,
     "schema_version": 3,
     "solution": false
    }
   },
   "outputs": [],
   "source": [
    "rs_best_model_hash ='f411e318b5da9e60c7774f3943ec7fc3765e0d629a963bb36a9022d5efd392ef'\n",
    "assert isinstance(rs_best_model, sklearn.linear_model.LogisticRegression)\n",
    "assert rs_best_model_hash==sha256(json.dumps(rs_best_model.get_params()).encode()).hexdigest()"
   ]
  },
  {
   "cell_type": "markdown",
   "metadata": {
    "colab_type": "text",
    "deletable": false,
    "editable": false,
    "id": "HvQkbsTnPxoT",
    "nbgrader": {
     "grade": false,
     "grade_id": "cell-7969cb3584199467",
     "locked": true,
     "schema_version": 3,
     "solution": false
    }
   },
   "source": [
    " 2.4) Get the score and the best parameters of the random search"
   ]
  },
  {
   "cell_type": "code",
   "execution_count": null,
   "metadata": {
    "ExecuteTime": {
     "end_time": "2020-07-17T08:58:49.979835Z",
     "start_time": "2020-07-17T08:58:49.973223Z"
    },
    "colab": {
     "base_uri": "https://localhost:8080/",
     "height": 34
    },
    "colab_type": "code",
    "deletable": false,
    "id": "HK-802hOP_GG",
    "nbgrader": {
     "grade": false,
     "grade_id": "cell-5a0ff5d8aa97468d",
     "locked": false,
     "schema_version": 3,
     "solution": true
    },
    "outputId": "d2ca3be2-3f19-4b7c-c973-d0bb4a31b9c5"
   },
   "outputs": [],
   "source": [
    "# Get the score applied to test and assign it to best_rs_score=... \n",
    "# Also, get the best parameters (for which the accuracy was higher)\n",
    "# of the random search and assign them to best_rs_params\n",
    "# best_rs_params = ...\n",
    "\n",
    "# YOUR CODE HERE\n",
    "raise NotImplementedError()"
   ]
  },
  {
   "cell_type": "code",
   "execution_count": null,
   "metadata": {
    "ExecuteTime": {
     "end_time": "2020-07-17T08:58:49.986511Z",
     "start_time": "2020-07-17T08:58:49.981781Z"
    },
    "colab": {},
    "colab_type": "code",
    "deletable": false,
    "editable": false,
    "id": "vyUcN9ICgYkc",
    "nbgrader": {
     "grade": true,
     "grade_id": "cell-3ef6f227bb55f1ac",
     "locked": true,
     "points": 3,
     "schema_version": 3,
     "solution": false
    }
   },
   "outputs": [],
   "source": [
    "import math\n",
    "best_lr_params_hash = 'f8c0272053265c70defb9f46bfade221f11ca1565050cf6be22c252c5792097c'\n",
    "assert best_lr_params_hash == sha256(json.dumps(best_rs_params).encode()).hexdigest() \n",
    "assert math.isclose(best_rs_score, 0.267, abs_tol=0.001)"
   ]
  }
 ],
 "metadata": {
  "colab": {
   "collapsed_sections": [],
   "name": "Exercise notebook - SLU18 (Hyperparameter tuning)",
   "provenance": [],
   "toc_visible": true,
   "version": "0.3.2"
  },
  "hide_input": false,
  "kernelspec": {
   "display_name": "Python 3",
   "language": "python",
   "name": "python3"
  },
  "language_info": {
   "codemirror_mode": {
    "name": "ipython",
    "version": 3
   },
   "file_extension": ".py",
   "mimetype": "text/x-python",
   "name": "python",
   "nbconvert_exporter": "python",
   "pygments_lexer": "ipython3",
   "version": "3.7.2"
  }
 },
 "nbformat": 4,
 "nbformat_minor": 1
}
