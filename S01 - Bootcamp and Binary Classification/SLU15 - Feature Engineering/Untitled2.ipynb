{
 "cells": [
  {
   "cell_type": "code",
   "execution_count": 1,
   "metadata": {},
   "outputs": [
    {
     "name": "stdout",
     "output_type": "stream",
     "text": [
      "2.3999999991527305\n"
     ]
    },
    {
     "data": {
      "image/png": "[encoded data removed]",
      "text/plain": [
       "<Figure size 432x288 with 1 Axes>"
      ]
     },
     "metadata": {
      "needs_background": "light"
     },
     "output_type": "display_data"
    }
   ],
   "source": [
    "import numpy as np\n",
    "import matplotlib.pyplot as plt\n",
    "\n",
    "def itera_qn (f,x,delta):\n",
    "    fx = f(x)\n",
    "    fxd = f(x+delta)\n",
    "    novo_x = x - delta/(fxd - fx) * fx\n",
    "    return novo_x\n",
    "\n",
    "def quasi_newton (f,x0,delta,max_it,tol):\n",
    "    iteradas = []\n",
    "    erros = []\n",
    "    for i in range(max_it):\n",
    "        novo_x = itera_qn(f,x0,delta)\n",
    "        erro = abs(x0-novo_x)\n",
    "        iteradas.append(novo_x)\n",
    "        erros.append(erro)\n",
    "        if erro < tol:\n",
    "            break\n",
    "        x0 = novo_x\n",
    "    return iteradas,erros\n",
    "\n",
    "\n",
    "def bissec(F,a,b,tol):\n",
    "    Fa = F(a)\n",
    "    Fb = F(b)\n",
    "    while abs(a-b)>tol:\n",
    "        mid = (a+b)/2\n",
    "        Fmid = F(mid)\n",
    "        if Fmid*Fa<0:\n",
    "            Fb = Fmid\n",
    "            b = mid\n",
    "        else:\n",
    "            Fa = Fmid\n",
    "            a = mid\n",
    "    return (a+b)/2\n",
    "\n",
    "\n",
    "def argMax_F(F,x0,delta,max_it,tol):\n",
    "    \"\"\"\n",
    "    Calcula o valor de x correspondente ao máximo de F\n",
    "    Em vez da derivada F' usa como aproximação a diferença dividida de ordem 1\n",
    "    \"\"\"\n",
    "    def deriv_F(x):\n",
    "        deriv = (F(x+delta)-F(x))/delta\n",
    "        return deriv\n",
    "    max_x = quasi_newton(deriv_F,x0,delta,max_it,tol)[0][-1]\n",
    "    return max_x\n",
    "\n",
    "def cria_W (k):\n",
    "    def W(r):\n",
    "        return 2*np.exp(-k*r)*(k*np.sin(3*r)+np.cos(3*r))\n",
    "    return W\n",
    "\n",
    "def find_k(kmin,kmax,val,delta,max_it,tol,x0):\n",
    "    def target(k):\n",
    "        W = cria_W(k)\n",
    "        max_x = argMax_F(W,x0,delta,max_it,tol)\n",
    "        #print(max_x)\n",
    "        return W(max_x)-val\n",
    "    return bissec(target,kmin,kmax,tol)\n",
    "\n",
    "k=find_k(0,5,2.4,0.001,50,1e-8,0)\n",
    "W=cria_W(k)\n",
    "r0=argMax_F(W,0,0.001,50,1e-8)\n",
    "\n",
    "x=np.linspace(0,1,500)\n",
    "plt.plot(x,W(x))\n",
    "print(W(r0))\n"
   ]
  },
  {
   "cell_type": "code",
   "execution_count": 2,
   "metadata": {},
   "outputs": [
    {
     "data": {
      "text/plain": [
       "1.254648664034903"
      ]
     },
     "execution_count": 2,
     "metadata": {},
     "output_type": "execute_result"
    }
   ],
   "source": [
    "k"
   ]
  },
  {
   "cell_type": "code",
   "execution_count": 4,
   "metadata": {},
   "outputs": [
    {
     "data": {
      "text/plain": [
       "<function __main__.cria_W.<locals>.W(r)>"
      ]
     },
     "execution_count": 4,
     "metadata": {},
     "output_type": "execute_result"
    }
   ],
   "source": [
    "W"
   ]
  },
  {
   "cell_type": "code",
   "execution_count": 5,
   "metadata": {},
   "outputs": [
    {
     "data": {
      "text/plain": [
       "0.16675166034013467"
      ]
     },
     "execution_count": 5,
     "metadata": {},
     "output_type": "execute_result"
    }
   ],
   "source": [
    "r0"
   ]
  },
  {
   "cell_type": "code",
   "execution_count": null,
   "metadata": {},
   "outputs": [],
   "source": []
  }
 ],
 "metadata": {
  "kernelspec": {
   "display_name": "Python 3",
   "language": "python",
   "name": "python3"
  },
  "language_info": {
   "codemirror_mode": {
    "name": "ipython",
    "version": 3
   },
   "file_extension": ".py",
   "mimetype": "text/x-python",
   "name": "python",
   "nbconvert_exporter": "python",
   "pygments_lexer": "ipython3",
   "version": "3.6.9"
  }
 },
 "nbformat": 4,
 "nbformat_minor": 4
}
