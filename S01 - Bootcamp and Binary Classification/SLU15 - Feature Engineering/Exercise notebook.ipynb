{
 "cells": [
  {
   "cell_type": "markdown",
   "metadata": {
    "deletable": false,
    "editable": false,
    "nbgrader": {
     "grade": false,
     "grade_id": "cell-f16e3dd76b298ad4",
     "locked": true,
     "schema_version": 1,
     "solution": false
    }
   },
   "source": [
    "# SLU15 - Feature Engineering (aka Real World Data): Exercises notebook"
   ]
  },
  {
   "cell_type": "markdown",
   "metadata": {
    "deletable": false,
    "editable": false,
    "nbgrader": {
     "grade": false,
     "grade_id": "cell-de4512a037d6b7ce",
     "locked": true,
     "schema_version": 1,
     "solution": false
    }
   },
   "source": [
    "## 1 About the data\n",
    "\n",
    "In this exercise we will be using a dataset with Google Play Store apps, adapted from [here](https://www.kaggle.com/lava18/google-play-store-apps)."
   ]
  },
  {
   "cell_type": "code",
   "execution_count": 1,
   "metadata": {
    "deletable": false,
    "editable": false,
    "nbgrader": {
     "grade": false,
     "grade_id": "cell-159bcb71f42e3691",
     "locked": true,
     "schema_version": 1,
     "solution": false
    }
   },
   "outputs": [
    {
     "data": {
      "text/html": [
       "<div>\n",
       "<style scoped>\n",
       "    .dataframe tbody tr th:only-of-type {\n",
       "        vertical-align: middle;\n",
       "    }\n",
       "\n",
       "    .dataframe tbody tr th {\n",
       "        vertical-align: top;\n",
       "    }\n",
       "\n",
       "    .dataframe thead th {\n",
       "        text-align: right;\n",
       "    }\n",
       "</style>\n",
       "<table border=\"1\" class=\"dataframe\">\n",
       "  <thead>\n",
       "    <tr style=\"text-align: right;\">\n",
       "      <th></th>\n",
       "      <th>App</th>\n",
       "      <th>Category</th>\n",
       "      <th>Rating</th>\n",
       "      <th>Reviews</th>\n",
       "      <th>Size</th>\n",
       "      <th>Installs</th>\n",
       "      <th>Type</th>\n",
       "      <th>Price</th>\n",
       "      <th>Content Rating</th>\n",
       "      <th>Genres</th>\n",
       "      <th>Last Updated</th>\n",
       "      <th>Current Ver</th>\n",
       "      <th>Android Ver</th>\n",
       "    </tr>\n",
       "  </thead>\n",
       "  <tbody>\n",
       "    <tr>\n",
       "      <th>0</th>\n",
       "      <td>Photo Editor &amp; Candy Camera &amp; Grid &amp; ScrapBook</td>\n",
       "      <td>ART_AND_DESIGN</td>\n",
       "      <td>4.1</td>\n",
       "      <td>159</td>\n",
       "      <td>19</td>\n",
       "      <td>10,000</td>\n",
       "      <td>Free</td>\n",
       "      <td>0.0</td>\n",
       "      <td>Everyone</td>\n",
       "      <td>Art &amp; Design</td>\n",
       "      <td>January 7, 2018</td>\n",
       "      <td>1.0.0</td>\n",
       "      <td>4.0.3 and up</td>\n",
       "    </tr>\n",
       "    <tr>\n",
       "      <th>1</th>\n",
       "      <td>Coloring book moana</td>\n",
       "      <td>ART_AND_DESIGN</td>\n",
       "      <td>3.9</td>\n",
       "      <td>967</td>\n",
       "      <td>14</td>\n",
       "      <td>500,000</td>\n",
       "      <td>Free</td>\n",
       "      <td>0.0</td>\n",
       "      <td>Everyone</td>\n",
       "      <td>Art &amp; Design;Pretend Play</td>\n",
       "      <td>January 15, 2018</td>\n",
       "      <td>2.0.0</td>\n",
       "      <td>4.0.3 and up</td>\n",
       "    </tr>\n",
       "    <tr>\n",
       "      <th>2</th>\n",
       "      <td>U Launcher Lite – FREE Live Cool Themes, Hide ...</td>\n",
       "      <td>ART_AND_DESIGN</td>\n",
       "      <td>4.7</td>\n",
       "      <td>87510</td>\n",
       "      <td>8.7</td>\n",
       "      <td>5,000,000</td>\n",
       "      <td>Free</td>\n",
       "      <td>0.0</td>\n",
       "      <td>Everyone</td>\n",
       "      <td>Art &amp; Design</td>\n",
       "      <td>August 1, 2018</td>\n",
       "      <td>1.2.4</td>\n",
       "      <td>4.0.3 and up</td>\n",
       "    </tr>\n",
       "    <tr>\n",
       "      <th>3</th>\n",
       "      <td>Sketch - Draw &amp; Paint</td>\n",
       "      <td>ART_AND_DESIGN</td>\n",
       "      <td>4.5</td>\n",
       "      <td>215644</td>\n",
       "      <td>25</td>\n",
       "      <td>50,000,000</td>\n",
       "      <td>Free</td>\n",
       "      <td>0.0</td>\n",
       "      <td>Teen</td>\n",
       "      <td>Art &amp; Design</td>\n",
       "      <td>June 8, 2018</td>\n",
       "      <td>Varies with device</td>\n",
       "      <td>4.2 and up</td>\n",
       "    </tr>\n",
       "    <tr>\n",
       "      <th>4</th>\n",
       "      <td>Pixel Draw - Number Art Coloring Book</td>\n",
       "      <td>ART_AND_DESIGN</td>\n",
       "      <td>4.3</td>\n",
       "      <td>967</td>\n",
       "      <td>2.8</td>\n",
       "      <td>100,000</td>\n",
       "      <td>Free</td>\n",
       "      <td>0.0</td>\n",
       "      <td>Everyone</td>\n",
       "      <td>Art &amp; Design;Creativity</td>\n",
       "      <td>June 20, 2018</td>\n",
       "      <td>1.1</td>\n",
       "      <td>4.4 and up</td>\n",
       "    </tr>\n",
       "  </tbody>\n",
       "</table>\n",
       "</div>"
      ],
      "text/plain": [
       "                                                 App        Category  Rating  \\\n",
       "0     Photo Editor & Candy Camera & Grid & ScrapBook  ART_AND_DESIGN     4.1   \n",
       "1                                Coloring book moana  ART_AND_DESIGN     3.9   \n",
       "2  U Launcher Lite – FREE Live Cool Themes, Hide ...  ART_AND_DESIGN     4.7   \n",
       "3                              Sketch - Draw & Paint  ART_AND_DESIGN     4.5   \n",
       "4              Pixel Draw - Number Art Coloring Book  ART_AND_DESIGN     4.3   \n",
       "\n",
       "   Reviews Size    Installs  Type  Price Content Rating  \\\n",
       "0      159   19      10,000  Free    0.0       Everyone   \n",
       "1      967   14     500,000  Free    0.0       Everyone   \n",
       "2    87510  8.7   5,000,000  Free    0.0       Everyone   \n",
       "3   215644   25  50,000,000  Free    0.0           Teen   \n",
       "4      967  2.8     100,000  Free    0.0       Everyone   \n",
       "\n",
       "                      Genres      Last Updated         Current Ver  \\\n",
       "0               Art & Design   January 7, 2018               1.0.0   \n",
       "1  Art & Design;Pretend Play  January 15, 2018               2.0.0   \n",
       "2               Art & Design    August 1, 2018               1.2.4   \n",
       "3               Art & Design      June 8, 2018  Varies with device   \n",
       "4    Art & Design;Creativity     June 20, 2018                 1.1   \n",
       "\n",
       "    Android Ver  \n",
       "0  4.0.3 and up  \n",
       "1  4.0.3 and up  \n",
       "2  4.0.3 and up  \n",
       "3    4.2 and up  \n",
       "4    4.4 and up  "
      ]
     },
     "execution_count": 1,
     "metadata": {},
     "output_type": "execute_result"
    }
   ],
   "source": [
    "import pandas as pd\n",
    "import numpy as np\n",
    "import math\n",
    "import matplotlib.pyplot as plt\n",
    "%matplotlib inline\n",
    "\n",
    "data = pd.read_csv('data/googleplaystore.csv')\n",
    "data.head()"
   ]
  },
  {
   "cell_type": "markdown",
   "metadata": {
    "deletable": false,
    "editable": false,
    "nbgrader": {
     "grade": false,
     "grade_id": "cell-a0e51493f92dd216",
     "locked": true,
     "schema_version": 1,
     "solution": false
    }
   },
   "source": [
    "The fields in this dataset have the following meaning:\n",
    "* **App** - name of the app.\n",
    "* **Category** - category the app belongs to.\n",
    "* **Rating** - overall user rating of the app (as when scraped).\n",
    "* **Reviews** - number of user reviews for the app (as when scraped).\n",
    "* **Size** - size of the app in MB (as when scraped).\n",
    "* **Installs** - Number of user installs for the app (as when scraped).\n",
    "* **Type** - Paid or Free.\n",
    "* **Price** - price of the app (as when scraped).\n",
    "* **Content Rating** - age group the app is targeted at: Children / Mature 21+ / Adult.\n",
    "* **Genre** - an app can belong to multiple genres (apart from its main category).\n",
    "* **Last Updated** - date when the app was last updated on Play Store (as when scraped).\n",
    "* **Current Ver** - current version of the app available on Play Store (as when scraped).\n",
    "* **Android Ver** - min required Android version (as when scraped)."
   ]
  },
  {
   "cell_type": "markdown",
   "metadata": {
    "deletable": false,
    "editable": false,
    "nbgrader": {
     "grade": false,
     "grade_id": "cell-5b226bc3bf62c0ed",
     "locked": true,
     "schema_version": 1,
     "solution": false
    }
   },
   "source": [
    "The first thing we want to do is to check the dtypes of our features."
   ]
  },
  {
   "cell_type": "code",
   "execution_count": 2,
   "metadata": {
    "deletable": false,
    "editable": false,
    "nbgrader": {
     "grade": false,
     "grade_id": "cell-f632f5b88c090ec1",
     "locked": true,
     "schema_version": 1,
     "solution": false
    }
   },
   "outputs": [
    {
     "data": {
      "text/plain": [
       "App                object\n",
       "Category           object\n",
       "Rating            float64\n",
       "Reviews             int64\n",
       "Size               object\n",
       "Installs           object\n",
       "Type               object\n",
       "Price             float64\n",
       "Content Rating     object\n",
       "Genres             object\n",
       "Last Updated       object\n",
       "Current Ver        object\n",
       "Android Ver        object\n",
       "dtype: object"
      ]
     },
     "execution_count": 2,
     "metadata": {},
     "output_type": "execute_result"
    }
   ],
   "source": [
    "data.dtypes"
   ]
  },
  {
   "cell_type": "markdown",
   "metadata": {
    "deletable": false,
    "editable": false,
    "nbgrader": {
     "grade": false,
     "grade_id": "cell-46a98ad5fefa0ebe",
     "locked": true,
     "schema_version": 1,
     "solution": false
    }
   },
   "source": [
    "## 2 Category dtype in pandas"
   ]
  },
  {
   "cell_type": "markdown",
   "metadata": {
    "deletable": false,
    "editable": false,
    "nbgrader": {
     "grade": false,
     "grade_id": "cell-2539330ad7ffa6a7",
     "locked": true,
     "schema_version": 1,
     "solution": false
    }
   },
   "source": [
    "### Exercise 1: Convert fields into category dtype (graded)\n",
    "\n",
    "The fields `Category` and `Content Rating` are of dtype `object` but can be converted into dtype `category`, as explained in the Learning Notebook. Moreover:\n",
    "* `Category` is a *nominal* categorical field, that is, without any meaningful order;\n",
    "* `Content Rating` is an *ordinal* categorical field, as its values has a natural order.\n",
    "\n",
    "In the following exercise, convert both fields into dtype `category` and, in the case of the field `Content Rating`, assign a natural order for its categories.\n",
    "\n",
    "_Note:_ Regarding the \"natural order\" for the field `Content Rating`, go from less restrictive to more restrictive. If a given category does not fit, leave it to the end of the ordering. "
   ]
  },
  {
   "cell_type": "code",
   "execution_count": 3,
   "metadata": {},
   "outputs": [
    {
     "data": {
      "text/plain": [
       "array(['ART_AND_DESIGN', 'AUTO_AND_VEHICLES', 'BEAUTY',\n",
       "       'BOOKS_AND_REFERENCE', 'BUSINESS', 'COMICS', 'COMMUNICATION',\n",
       "       'DATING', 'EDUCATION', 'ENTERTAINMENT', 'EVENTS', 'FINANCE',\n",
       "       'FOOD_AND_DRINK', 'HEALTH_AND_FITNESS', 'HOUSE_AND_HOME',\n",
       "       'LIBRARIES_AND_DEMO', 'LIFESTYLE', 'GAME', 'FAMILY', 'MEDICAL',\n",
       "       'SOCIAL', 'SHOPPING', 'PHOTOGRAPHY', 'SPORTS', 'TRAVEL_AND_LOCAL',\n",
       "       'TOOLS', 'PERSONALIZATION', 'PRODUCTIVITY', 'PARENTING', 'WEATHER',\n",
       "       'VIDEO_PLAYERS', 'NEWS_AND_MAGAZINES', 'MAPS_AND_NAVIGATION'],\n",
       "      dtype=object)"
      ]
     },
     "execution_count": 3,
     "metadata": {},
     "output_type": "execute_result"
    }
   ],
   "source": [
    "data['Category'].unique()"
   ]
  },
  {
   "cell_type": "code",
   "execution_count": 4,
   "metadata": {},
   "outputs": [
    {
     "data": {
      "text/plain": [
       "array(['Everyone', 'Teen', 'Everyone 10+', 'Mature 17+',\n",
       "       'Adults only 18+', 'Unrated'], dtype=object)"
      ]
     },
     "execution_count": 4,
     "metadata": {},
     "output_type": "execute_result"
    }
   ],
   "source": [
    "data['Content Rating'].unique()"
   ]
  },
  {
   "cell_type": "code",
   "execution_count": 5,
   "metadata": {
    "deletable": false,
    "nbgrader": {
     "grade": false,
     "grade_id": "cell-3e4465f2a536b366",
     "locked": false,
     "schema_version": 1,
     "solution": true
    }
   },
   "outputs": [],
   "source": [
    "def convert_categorical_features(X, nominal_feat='Category', ordinal_feat='Content Rating'):\n",
    "\n",
    "    X_s = X.copy()\n",
    "    \n",
    "    ## convert nominal feature to dtype 'category'\n",
    "    X_s  = X_s.assign(Category=X_s['Category'].astype('category'))\n",
    "\n",
    "    ## create list of ordered categories for ordinal feature\n",
    "    ordered_cats = ['Everyone','Evryone 10+','Mature 17','Adults only 18+','Teen','Unrated']\n",
    "    ## convert ordinal feature to dtype 'category'\n",
    "    #**{'space column': (lambda x: x['space column2'])}\n",
    "    X_s = X_s.assign(**{'Content Rating' : (lambda X_s: X_s[\"Content Rating\"].astype('category'))})\n",
    "    ## Assign natural order to ordinal feature\n",
    "    # ...\n",
    "    X_s = X_s.assign(**{'Content Rating' :(lambda X_s: X_s[\"Content Rating\"].cat.set_categories(ordered_cats, ordered=True))})\n",
    "    # YOUR CODE HERE\n",
    "    #raise NotImplementedError()\n",
    "\n",
    "    return X_s"
   ]
  },
  {
   "cell_type": "code",
   "execution_count": 6,
   "metadata": {
    "deletable": false,
    "editable": false,
    "nbgrader": {
     "grade": true,
     "grade_id": "cell-0c9076faa5559934",
     "locked": true,
     "points": 4,
     "schema_version": 1,
     "solution": false
    }
   },
   "outputs": [],
   "source": [
    "\"\"\"Check that the solution is correct.\"\"\"\n",
    "X_cat_conv = convert_categorical_features(data)\n",
    "\n",
    "assert X_cat_conv['Category'].dtype == 'category'\n",
    "assert X_cat_conv['Content Rating'].dtype == 'category'\n",
    "assert X_cat_conv['Content Rating'].min() == 'Everyone'\n",
    "assert X_cat_conv['Content Rating'].max() == 'Unrated'"
   ]
  },
  {
   "cell_type": "markdown",
   "metadata": {
    "deletable": false,
    "editable": false,
    "nbgrader": {
     "grade": false,
     "grade_id": "cell-531832e38e6f379e",
     "locked": true,
     "schema_version": 1,
     "solution": false
    }
   },
   "source": [
    "### Exercise 2: Encode binary field (graded)\n",
    "\n",
    "In this exercise, encode the target variable to be `1` when an app is `Paid` and to `0` when it is `Free` using the `map` method."
   ]
  },
  {
   "cell_type": "code",
   "execution_count": 8,
   "metadata": {
    "deletable": false,
    "nbgrader": {
     "grade": false,
     "grade_id": "cell-ec7b5600256b7523",
     "locked": false,
     "schema_version": 1,
     "solution": true
    }
   },
   "outputs": [],
   "source": [
    "def encode_binary_field(f):\n",
    "\n",
    "    f_e = f.copy()\n",
    "    \n",
    "    ## create a dictionary mapping the current values to int values\n",
    "    enconding_map = {'Free':0,'Paid':1}\n",
    "    ## change target using the mapping\n",
    "    f_e =f_e.map(enconding_map)\n",
    "    # YOUR CODE HERE\n",
    "    #raise NotImplementedError()\n",
    "    \n",
    "    return f_e"
   ]
  },
  {
   "cell_type": "code",
   "execution_count": 9,
   "metadata": {},
   "outputs": [
    {
     "data": {
      "text/plain": [
       "0        0.0\n",
       "1        0.0\n",
       "2        0.0\n",
       "3        0.0\n",
       "4        0.0\n",
       "        ... \n",
       "10835    0.0\n",
       "10836    0.0\n",
       "10837    0.0\n",
       "10838    0.0\n",
       "10839    0.0\n",
       "Name: Type, Length: 10840, dtype: float64"
      ]
     },
     "execution_count": 9,
     "metadata": {},
     "output_type": "execute_result"
    }
   ],
   "source": [
    "f_encoded = encode_binary_field(data.Type)\n",
    "f_encoded"
   ]
  },
  {
   "cell_type": "code",
   "execution_count": 10,
   "metadata": {
    "deletable": false,
    "editable": false,
    "nbgrader": {
     "grade": true,
     "grade_id": "cell-a63ec6dac3b0a300",
     "locked": true,
     "points": 2,
     "schema_version": 1,
     "solution": false
    }
   },
   "outputs": [],
   "source": [
    "\"\"\"Check that the solution is correct.\"\"\"\n",
    "f_encoded = encode_binary_field(data.Type)\n",
    "\n",
    "assert f_encoded[123] == 0\n",
    "assert f_encoded[995] == 1\n",
    "assert sum(f_encoded.fillna(0)) == 800"
   ]
  },
  {
   "cell_type": "markdown",
   "metadata": {
    "deletable": false,
    "editable": false,
    "nbgrader": {
     "grade": false,
     "grade_id": "cell-1e0697ce8670cf79",
     "locked": true,
     "schema_version": 1,
     "solution": false
    }
   },
   "source": [
    "### Exercise 3: Discretize `Reviews` field (graded)\n",
    "\n",
    "The field `Reviews` is a continuous field, with a distribution which is, not surprisingly, very skewed to the right (remember *skewness* from SLU04?)."
   ]
  },
  {
   "cell_type": "code",
   "execution_count": 11,
   "metadata": {},
   "outputs": [
    {
     "data": {
      "text/plain": [
       "0           159\n",
       "1           967\n",
       "2         87510\n",
       "3        215644\n",
       "4           967\n",
       "          ...  \n",
       "10835        38\n",
       "10836         4\n",
       "10837         3\n",
       "10838       114\n",
       "10839    398307\n",
       "Name: Reviews, Length: 10840, dtype: int64"
      ]
     },
     "execution_count": 11,
     "metadata": {},
     "output_type": "execute_result"
    }
   ],
   "source": [
    "data.Reviews"
   ]
  },
  {
   "cell_type": "code",
   "execution_count": 12,
   "metadata": {
    "deletable": false,
    "editable": false,
    "nbgrader": {
     "grade": false,
     "grade_id": "cell-ada360e54d9bf9ea",
     "locked": true,
     "schema_version": 1,
     "solution": false
    }
   },
   "outputs": [
    {
     "name": "stdout",
     "output_type": "stream",
     "text": [
      "The field 'Reviews' ranges from 0 to 78158306\n"
     ]
    },
    {
     "data": {
      "image/png": "[encoded data removed]",
      "text/plain": [
       "<Figure size 720x432 with 1 Axes>"
      ]
     },
     "metadata": {
      "needs_background": "light"
     },
     "output_type": "display_data"
    }
   ],
   "source": [
    "data.Reviews.plot.hist(bins=100, figsize=(10,6));\n",
    "plt.xlim(0);\n",
    "plt.xlabel('Reviews');\n",
    "print(\"The field 'Reviews' ranges from\", data.Reviews.min(), \"to\", data.Reviews.max())"
   ]
  },
  {
   "cell_type": "markdown",
   "metadata": {
    "deletable": false,
    "editable": false,
    "nbgrader": {
     "grade": false,
     "grade_id": "cell-56a34dbfc823d4de",
     "locked": true,
     "schema_version": 1,
     "solution": false
    }
   },
   "source": [
    "We will deal with the skewness in a bit. Let's first discretize this field in two ways:\n",
    "* create a new field called `discrete_reviews` which is the discretization of the `Review` field, such that the range is between 0 and 99 and the original instances are uniformly distributed;\n",
    "* create a new field called `binary_reviews` which is the binarization of the `Review` field, such that amounts smaller than `100000` become `0` and amounts equal or greater than `100000` become 1.\n",
    "\n",
    "Use `sklearn` transformers in this exercise."
   ]
  },
  {
   "cell_type": "code",
   "execution_count": 13,
   "metadata": {
    "deletable": false,
    "nbgrader": {
     "grade": false,
     "grade_id": "cell-4720ba22be810107",
     "locked": false,
     "schema_version": 1,
     "solution": true
    }
   },
   "outputs": [],
   "source": [
    "from sklearn.preprocessing import KBinsDiscretizer\n",
    "from sklearn.preprocessing import Binarizer\n",
    "\n",
    "def discretize_reviews(X):\n",
    "\n",
    "    X_a = X.copy()\n",
    "    S_a = X_a[['Reviews']]\n",
    "    \n",
    "    ## create new column `discrete_amount` using suitable transformer\n",
    "    discretizer = KBinsDiscretizer(n_bins=100, encode='ordinal', strategy='uniform')\n",
    "    discretizer.fit(S_a)\n",
    "    X_a['discrete_reviews'] =discretizer.transform(S_a) \n",
    "    ## create new column `binary_amount` using suitable transformer\n",
    "    binarizer = Binarizer(threshold = 100000)\n",
    "    binarizer.fit(S_a)\n",
    "    X_a['binary_reviews'] =binarizer.transform(S_a) \n",
    "    \n",
    "    # YOUR CODE HERE\n",
    "    #raise NotImplementedError()\n",
    "    \n",
    "    return X_a"
   ]
  },
  {
   "cell_type": "code",
   "execution_count": 14,
   "metadata": {
    "deletable": false,
    "editable": false,
    "nbgrader": {
     "grade": true,
     "grade_id": "cell-3857c30743a25a50",
     "locked": true,
     "points": 4,
     "schema_version": 1,
     "solution": false
    }
   },
   "outputs": [],
   "source": [
    "\"\"\"Check that the solution is correct.\"\"\"\n",
    "X_reviews = discretize_reviews(data)\n",
    "\n",
    "assert X_reviews.discrete_reviews.nunique() == 32\n",
    "assert X_reviews.discrete_reviews.max() == 99\n",
    "assert X_reviews.loc[123, 'discrete_reviews'] == 0\n",
    "assert X_reviews.binary_reviews.nunique() == 2\n",
    "assert X_reviews.binary_reviews.max() == 1\n",
    "assert X_reviews.loc[123, 'binary_reviews'] == 0"
   ]
  },
  {
   "cell_type": "markdown",
   "metadata": {
    "deletable": false,
    "editable": false,
    "nbgrader": {
     "grade": false,
     "grade_id": "cell-4f4af6d4de3c102a",
     "locked": true,
     "schema_version": 1,
     "solution": false
    }
   },
   "source": [
    "Check the distribution of the two new fields you just calculated:"
   ]
  },
  {
   "cell_type": "code",
   "execution_count": 15,
   "metadata": {
    "deletable": false,
    "editable": false,
    "nbgrader": {
     "grade": false,
     "grade_id": "cell-1f012f6fda3c3232",
     "locked": true,
     "schema_version": 1,
     "solution": false
    }
   },
   "outputs": [
    {
     "data": {
      "image/png": "[encoded data removed]",
      "text/plain": [
       "<Figure size 720x432 with 1 Axes>"
      ]
     },
     "metadata": {
      "needs_background": "light"
     },
     "output_type": "display_data"
    }
   ],
   "source": [
    "X_reviews.discrete_reviews.plot.hist(bins=100, figsize=(10,6));\n",
    "plt.xlim(0,99);\n",
    "plt.xlabel('discrete_reviews');\n",
    "plt.title('Reviews after discretization');"
   ]
  },
  {
   "cell_type": "code",
   "execution_count": 16,
   "metadata": {
    "deletable": false,
    "editable": false,
    "nbgrader": {
     "grade": false,
     "grade_id": "cell-3db8e7b9b4ab0a02",
     "locked": true,
     "schema_version": 1,
     "solution": false
    }
   },
   "outputs": [
    {
     "data": {
      "image/png": "[encoded data removed]",
      "text/plain": [
       "<Figure size 288x288 with 1 Axes>"
      ]
     },
     "metadata": {
      "needs_background": "light"
     },
     "output_type": "display_data"
    }
   ],
   "source": [
    "X_reviews.binary_reviews.plot.hist(figsize=(4,4));\n",
    "plt.xlim(0,1);\n",
    "plt.xlabel('binary_reviews');\n",
    "plt.title('Reviews after binarization');"
   ]
  },
  {
   "cell_type": "markdown",
   "metadata": {
    "deletable": false,
    "editable": false,
    "nbgrader": {
     "grade": false,
     "grade_id": "cell-c24bc27b2866af9d",
     "locked": true,
     "schema_version": 1,
     "solution": false
    }
   },
   "source": [
    "### Exercise 4: Scale `Reviews` field (graded)\n",
    "\n",
    "In the Learning Notebook, you also learned that numerical data can be scaled. \n",
    "\n",
    "In this exercise, let's scale the field `Reviews` in three different ways and compare the results:\n",
    "* create a new field called `minmaxscaled_reviews` which scales uniformly the `Reviews` field such that the values range from 0 to 1;\n",
    "* create a new field called `standardscaled_reviews` which scales the `Reviews` field such that the *mean* is 0 and the standard deviation is 1;\n",
    "* create a new field called `robustscaled_reviews` which scales the `Reviews` field such that the *median* is 0 and it is scaled according to the Interquartile Range."
   ]
  },
  {
   "cell_type": "code",
   "execution_count": 19,
   "metadata": {
    "deletable": false,
    "nbgrader": {
     "grade": false,
     "grade_id": "cell-448ce1f0353e6cb8",
     "locked": false,
     "schema_version": 1,
     "solution": true
    }
   },
   "outputs": [],
   "source": [
    "from sklearn.preprocessing import MinMaxScaler\n",
    "from sklearn.preprocessing import StandardScaler\n",
    "from sklearn.preprocessing import RobustScaler\n",
    "\n",
    "def scale_reviews(X):\n",
    "\n",
    "    X_s = X.copy()\n",
    "    X_s_ = X_s[['Reviews']]\n",
    "    \n",
    "    ## create new column `minmaxscaled_reviews` using suitable transformer\n",
    "    minmaxs = MinMaxScaler()\n",
    "    minmaxs.fit(X_s_)\n",
    "    X_s['minmaxscaled_reviews'] = minmaxs.transform(X_s_)\n",
    "    \n",
    "    ## create new column `standardscaled_reviews` using suitable transformer\n",
    "    standards = StandardScaler()\n",
    "    standards.fit(X_s_)\n",
    "    X_s['standardscaled_reviews'] =standards.transform(X_s_)\n",
    "    # ...\n",
    "    ## create new column `robustscaled_reviews` using suitable transformer\n",
    "    # ...\n",
    "    robusts = RobustScaler()\n",
    "    robusts.fit(X_s_)\n",
    "    X_s['robustscaled_reviews'] =robusts.transform(X_s_)\n",
    "    # ...\n",
    "    \n",
    "    # YOUR CODE HERE\n",
    "    #raise NotImplementedError()\n",
    "    \n",
    "    return X_s"
   ]
  },
  {
   "cell_type": "code",
   "execution_count": 20,
   "metadata": {
    "deletable": false,
    "editable": false,
    "nbgrader": {
     "grade": true,
     "grade_id": "cell-4d170aec616b4864",
     "locked": true,
     "points": 3,
     "schema_version": 1,
     "solution": false
    }
   },
   "outputs": [],
   "source": [
    "\"\"\"Check that the solution is correct.\"\"\"\n",
    "X_scaled = scale_reviews(data)\n",
    "\n",
    "assert X_scaled.minmaxscaled_reviews.min() == 0\n",
    "assert X_scaled.minmaxscaled_reviews.max() == 1\n",
    "assert math.isclose(X_scaled.minmaxscaled_reviews.mean(), 0.0057, abs_tol = 0.0001)\n",
    "assert math.isclose(X_scaled.loc[1234, 'minmaxscaled_reviews'], 0.00022, abs_tol = 0.00001)\n",
    "assert math.isclose(X_scaled.standardscaled_reviews.min(), -0.152, abs_tol = 0.001)\n",
    "assert math.isclose(X_scaled.standardscaled_reviews.max(), 26.55, abs_tol = 0.01)\n",
    "assert math.isclose(X_scaled.standardscaled_reviews.mean(), -5.244e-18, abs_tol = 0.01e-18)\n",
    "assert math.isclose(X_scaled.loc[1234, 'standardscaled_reviews'], -0.146, abs_tol = 0.01)\n",
    "assert math.isclose(X_scaled.robustscaled_reviews.min(), -0.0383, abs_tol = 0.0001)\n",
    "assert math.isclose(X_scaled.robustscaled_reviews.max(), 1427.84, abs_tol = 0.01)\n",
    "assert math.isclose(X_scaled.robustscaled_reviews.mean(), 8.076, abs_tol = 0.001)\n",
    "assert math.isclose(X_scaled.loc[1234, 'robustscaled_reviews'], 0.274, abs_tol = 0.001)"
   ]
  },
  {
   "cell_type": "markdown",
   "metadata": {
    "deletable": false,
    "editable": false,
    "nbgrader": {
     "grade": false,
     "grade_id": "cell-5edff988face2155",
     "locked": true,
     "schema_version": 1,
     "solution": false
    }
   },
   "source": [
    "Plot the distributions for the new fields you just calculated:"
   ]
  },
  {
   "cell_type": "code",
   "execution_count": 21,
   "metadata": {
    "deletable": false,
    "editable": false,
    "nbgrader": {
     "grade": false,
     "grade_id": "cell-8f8b2b454c57ba3b",
     "locked": true,
     "schema_version": 1,
     "solution": false
    }
   },
   "outputs": [
    {
     "data": {
      "image/png": "[encoded data removed]",
      "text/plain": [
       "<Figure size 720x432 with 1 Axes>"
      ]
     },
     "metadata": {
      "needs_background": "light"
     },
     "output_type": "display_data"
    }
   ],
   "source": [
    "X_scaled.minmaxscaled_reviews.plot.hist(bins=30, figsize=(10,6));\n",
    "plt.xlim(0,1);\n",
    "plt.xlabel('minmaxscaled_reviews');\n",
    "plt.title('Reviews after min-max scaling');"
   ]
  },
  {
   "cell_type": "code",
   "execution_count": 22,
   "metadata": {
    "deletable": false,
    "editable": false,
    "nbgrader": {
     "grade": false,
     "grade_id": "cell-a6f75a8f36bac1f7",
     "locked": true,
     "schema_version": 1,
     "solution": false
    }
   },
   "outputs": [
    {
     "data": {
      "image/png": "[encoded data removed]",
      "text/plain": [
       "<Figure size 720x432 with 1 Axes>"
      ]
     },
     "metadata": {
      "needs_background": "light"
     },
     "output_type": "display_data"
    }
   ],
   "source": [
    "X_scaled.standardscaled_reviews.plot.hist(bins=30, figsize=(10,6));\n",
    "plt.xlabel('standardscaled_reviews');\n",
    "plt.title('Reviews after standard scaling');"
   ]
  },
  {
   "cell_type": "code",
   "execution_count": 23,
   "metadata": {
    "deletable": false,
    "editable": false,
    "nbgrader": {
     "grade": false,
     "grade_id": "cell-de46ac280a117e0c",
     "locked": true,
     "schema_version": 1,
     "solution": false
    }
   },
   "outputs": [
    {
     "data": {
      "image/png": "[encoded data removed]",
      "text/plain": [
       "<Figure size 720x432 with 1 Axes>"
      ]
     },
     "metadata": {
      "needs_background": "light"
     },
     "output_type": "display_data"
    }
   ],
   "source": [
    "X_scaled.robustscaled_reviews.plot.hist(bins=30, figsize=(10,6));\n",
    "plt.xlabel('robustscaled_reviews');\n",
    "plt.title('Reviews after robust scaling');"
   ]
  },
  {
   "cell_type": "markdown",
   "metadata": {
    "deletable": false,
    "editable": false,
    "nbgrader": {
     "grade": false,
     "grade_id": "cell-99f58c18d48c5f61",
     "locked": true,
     "schema_version": 1,
     "solution": false
    }
   },
   "source": [
    "### Exercise 5: Ordinal encode `Content Rating` feature\n",
    "\n",
    "Finally, let's deal with the categorical features.\n",
    "\n",
    "First, create a new field called `content_rating_encoded` which is the result of ordinal encoding of the `Content Rating` feature."
   ]
  },
  {
   "cell_type": "code",
   "execution_count": 30,
   "metadata": {},
   "outputs": [
    {
     "data": {
      "text/plain": [
       "App                object\n",
       "Category           object\n",
       "Rating            float64\n",
       "Reviews             int64\n",
       "Size               object\n",
       "Installs           object\n",
       "Type               object\n",
       "Price             float64\n",
       "Content Rating     object\n",
       "Genres             object\n",
       "Last Updated       object\n",
       "Current Ver        object\n",
       "Android Ver        object\n",
       "dtype: object"
      ]
     },
     "execution_count": 30,
     "metadata": {},
     "output_type": "execute_result"
    }
   ],
   "source": [
    "data.dtypes"
   ]
  },
  {
   "cell_type": "code",
   "execution_count": 28,
   "metadata": {
    "deletable": false,
    "nbgrader": {
     "grade": false,
     "grade_id": "cell-19c253c171a6330a",
     "locked": false,
     "schema_version": 1,
     "solution": true
    }
   },
   "outputs": [],
   "source": [
    "import category_encoders as ce\n",
    "\n",
    "def encode_content_rating(X):\n",
    "\n",
    "    X_r = X.copy()\n",
    "    \n",
    "    # create new column using suitable transformer\n",
    "    # YOUR CODE HERE\n",
    "    #raise NotImplementedError()\n",
    "    ordinalencoder = ce.ordinal.OrdinalEncoder()\n",
    "\n",
    "# save data to scale (no need to reshape)\n",
    "    X_r_ = X_r[['Content Rating']]\n",
    "\n",
    "# fit transformer to data\n",
    "    ordinalencoder.fit(X_r_)\n",
    "\n",
    "# create new feature by transforming the data\n",
    "    X_r['content_rating_encoded']= ordinalencoder.transform(X_r_)\n",
    "    return X_r"
   ]
  },
  {
   "cell_type": "code",
   "execution_count": 31,
   "metadata": {
    "deletable": false,
    "editable": false,
    "nbgrader": {
     "grade": true,
     "grade_id": "cell-1c3c0246ee35e543",
     "locked": true,
     "points": 3,
     "schema_version": 1,
     "solution": false
    }
   },
   "outputs": [],
   "source": [
    "\"\"\"Check that the solution is correct.\"\"\"\n",
    "X_content_rating = encode_content_rating(data)\n",
    "\n",
    "assert X_content_rating.content_rating_encoded.dtype == int\n",
    "assert X_content_rating.content_rating_encoded.min() == 1\n",
    "assert X_content_rating.content_rating_encoded.max() == 6\n",
    "assert X_content_rating.loc[1234, 'content_rating_encoded'] == 1"
   ]
  },
  {
   "cell_type": "markdown",
   "metadata": {
    "deletable": false,
    "editable": false,
    "nbgrader": {
     "grade": false,
     "grade_id": "cell-99f58c18d48c5f62",
     "locked": true,
     "schema_version": 1,
     "solution": false
    }
   },
   "source": [
    "### Exercise 6: One-hot encode type feature\n",
    "\n",
    "Finally, perform a one-hot encoding of the `Category` feature. Pay attention to the following points:\n",
    "* return the original DataFrame `X`, but with the `Category` feature replaced by the new ones resulting from the one-hot encoding;\n",
    "* make sure the new features have names of the form `Category_<value>`, where `<value>` is the category being indicated by that feature."
   ]
  },
  {
   "cell_type": "code",
   "execution_count": 37,
   "metadata": {},
   "outputs": [
    {
     "data": {
      "text/html": [
       "<div>\n",
       "<style scoped>\n",
       "    .dataframe tbody tr th:only-of-type {\n",
       "        vertical-align: middle;\n",
       "    }\n",
       "\n",
       "    .dataframe tbody tr th {\n",
       "        vertical-align: top;\n",
       "    }\n",
       "\n",
       "    .dataframe thead th {\n",
       "        text-align: right;\n",
       "    }\n",
       "</style>\n",
       "<table border=\"1\" class=\"dataframe\">\n",
       "  <thead>\n",
       "    <tr style=\"text-align: right;\">\n",
       "      <th></th>\n",
       "      <th>App</th>\n",
       "      <th>Category</th>\n",
       "      <th>Rating</th>\n",
       "      <th>Reviews</th>\n",
       "      <th>Size</th>\n",
       "      <th>Installs</th>\n",
       "      <th>Type</th>\n",
       "      <th>Price</th>\n",
       "      <th>Content Rating</th>\n",
       "      <th>Genres</th>\n",
       "      <th>Last Updated</th>\n",
       "      <th>Current Ver</th>\n",
       "      <th>Android Ver</th>\n",
       "    </tr>\n",
       "  </thead>\n",
       "  <tbody>\n",
       "    <tr>\n",
       "      <th>0</th>\n",
       "      <td>Photo Editor &amp; Candy Camera &amp; Grid &amp; ScrapBook</td>\n",
       "      <td>ART_AND_DESIGN</td>\n",
       "      <td>4.1</td>\n",
       "      <td>159</td>\n",
       "      <td>19</td>\n",
       "      <td>10,000</td>\n",
       "      <td>Free</td>\n",
       "      <td>0.0</td>\n",
       "      <td>Everyone</td>\n",
       "      <td>Art &amp; Design</td>\n",
       "      <td>January 7, 2018</td>\n",
       "      <td>1.0.0</td>\n",
       "      <td>4.0.3 and up</td>\n",
       "    </tr>\n",
       "    <tr>\n",
       "      <th>1</th>\n",
       "      <td>Coloring book moana</td>\n",
       "      <td>ART_AND_DESIGN</td>\n",
       "      <td>3.9</td>\n",
       "      <td>967</td>\n",
       "      <td>14</td>\n",
       "      <td>500,000</td>\n",
       "      <td>Free</td>\n",
       "      <td>0.0</td>\n",
       "      <td>Everyone</td>\n",
       "      <td>Art &amp; Design;Pretend Play</td>\n",
       "      <td>January 15, 2018</td>\n",
       "      <td>2.0.0</td>\n",
       "      <td>4.0.3 and up</td>\n",
       "    </tr>\n",
       "    <tr>\n",
       "      <th>2</th>\n",
       "      <td>U Launcher Lite – FREE Live Cool Themes, Hide ...</td>\n",
       "      <td>ART_AND_DESIGN</td>\n",
       "      <td>4.7</td>\n",
       "      <td>87510</td>\n",
       "      <td>8.7</td>\n",
       "      <td>5,000,000</td>\n",
       "      <td>Free</td>\n",
       "      <td>0.0</td>\n",
       "      <td>Everyone</td>\n",
       "      <td>Art &amp; Design</td>\n",
       "      <td>August 1, 2018</td>\n",
       "      <td>1.2.4</td>\n",
       "      <td>4.0.3 and up</td>\n",
       "    </tr>\n",
       "    <tr>\n",
       "      <th>3</th>\n",
       "      <td>Sketch - Draw &amp; Paint</td>\n",
       "      <td>ART_AND_DESIGN</td>\n",
       "      <td>4.5</td>\n",
       "      <td>215644</td>\n",
       "      <td>25</td>\n",
       "      <td>50,000,000</td>\n",
       "      <td>Free</td>\n",
       "      <td>0.0</td>\n",
       "      <td>Teen</td>\n",
       "      <td>Art &amp; Design</td>\n",
       "      <td>June 8, 2018</td>\n",
       "      <td>Varies with device</td>\n",
       "      <td>4.2 and up</td>\n",
       "    </tr>\n",
       "    <tr>\n",
       "      <th>4</th>\n",
       "      <td>Pixel Draw - Number Art Coloring Book</td>\n",
       "      <td>ART_AND_DESIGN</td>\n",
       "      <td>4.3</td>\n",
       "      <td>967</td>\n",
       "      <td>2.8</td>\n",
       "      <td>100,000</td>\n",
       "      <td>Free</td>\n",
       "      <td>0.0</td>\n",
       "      <td>Everyone</td>\n",
       "      <td>Art &amp; Design;Creativity</td>\n",
       "      <td>June 20, 2018</td>\n",
       "      <td>1.1</td>\n",
       "      <td>4.4 and up</td>\n",
       "    </tr>\n",
       "    <tr>\n",
       "      <th>...</th>\n",
       "      <td>...</td>\n",
       "      <td>...</td>\n",
       "      <td>...</td>\n",
       "      <td>...</td>\n",
       "      <td>...</td>\n",
       "      <td>...</td>\n",
       "      <td>...</td>\n",
       "      <td>...</td>\n",
       "      <td>...</td>\n",
       "      <td>...</td>\n",
       "      <td>...</td>\n",
       "      <td>...</td>\n",
       "      <td>...</td>\n",
       "    </tr>\n",
       "    <tr>\n",
       "      <th>10835</th>\n",
       "      <td>Sya9a Maroc - FR</td>\n",
       "      <td>FAMILY</td>\n",
       "      <td>4.5</td>\n",
       "      <td>38</td>\n",
       "      <td>53</td>\n",
       "      <td>5,000</td>\n",
       "      <td>Free</td>\n",
       "      <td>0.0</td>\n",
       "      <td>Everyone</td>\n",
       "      <td>Education</td>\n",
       "      <td>July 25, 2017</td>\n",
       "      <td>1.48</td>\n",
       "      <td>4.1 and up</td>\n",
       "    </tr>\n",
       "    <tr>\n",
       "      <th>10836</th>\n",
       "      <td>Fr. Mike Schmitz Audio Teachings</td>\n",
       "      <td>FAMILY</td>\n",
       "      <td>5.0</td>\n",
       "      <td>4</td>\n",
       "      <td>3.6</td>\n",
       "      <td>100</td>\n",
       "      <td>Free</td>\n",
       "      <td>0.0</td>\n",
       "      <td>Everyone</td>\n",
       "      <td>Education</td>\n",
       "      <td>July 6, 2018</td>\n",
       "      <td>1.0</td>\n",
       "      <td>4.1 and up</td>\n",
       "    </tr>\n",
       "    <tr>\n",
       "      <th>10837</th>\n",
       "      <td>Parkinson Exercices FR</td>\n",
       "      <td>MEDICAL</td>\n",
       "      <td>NaN</td>\n",
       "      <td>3</td>\n",
       "      <td>9.5</td>\n",
       "      <td>1,000</td>\n",
       "      <td>Free</td>\n",
       "      <td>0.0</td>\n",
       "      <td>Everyone</td>\n",
       "      <td>Medical</td>\n",
       "      <td>January 20, 2017</td>\n",
       "      <td>1.0</td>\n",
       "      <td>2.2 and up</td>\n",
       "    </tr>\n",
       "    <tr>\n",
       "      <th>10838</th>\n",
       "      <td>The SCP Foundation DB fr nn5n</td>\n",
       "      <td>BOOKS_AND_REFERENCE</td>\n",
       "      <td>4.5</td>\n",
       "      <td>114</td>\n",
       "      <td>Varies with device</td>\n",
       "      <td>1,000</td>\n",
       "      <td>Free</td>\n",
       "      <td>0.0</td>\n",
       "      <td>Mature 17+</td>\n",
       "      <td>Books &amp; Reference</td>\n",
       "      <td>January 19, 2015</td>\n",
       "      <td>Varies with device</td>\n",
       "      <td>Varies with device</td>\n",
       "    </tr>\n",
       "    <tr>\n",
       "      <th>10839</th>\n",
       "      <td>iHoroscope - 2018 Daily Horoscope &amp; Astrology</td>\n",
       "      <td>LIFESTYLE</td>\n",
       "      <td>4.5</td>\n",
       "      <td>398307</td>\n",
       "      <td>19</td>\n",
       "      <td>10,000,000</td>\n",
       "      <td>Free</td>\n",
       "      <td>0.0</td>\n",
       "      <td>Everyone</td>\n",
       "      <td>Lifestyle</td>\n",
       "      <td>July 25, 2018</td>\n",
       "      <td>Varies with device</td>\n",
       "      <td>Varies with device</td>\n",
       "    </tr>\n",
       "  </tbody>\n",
       "</table>\n",
       "<p>10840 rows × 13 columns</p>\n",
       "</div>"
      ],
      "text/plain": [
       "                                                     App             Category  \\\n",
       "0         Photo Editor & Candy Camera & Grid & ScrapBook       ART_AND_DESIGN   \n",
       "1                                    Coloring book moana       ART_AND_DESIGN   \n",
       "2      U Launcher Lite – FREE Live Cool Themes, Hide ...       ART_AND_DESIGN   \n",
       "3                                  Sketch - Draw & Paint       ART_AND_DESIGN   \n",
       "4                  Pixel Draw - Number Art Coloring Book       ART_AND_DESIGN   \n",
       "...                                                  ...                  ...   \n",
       "10835                                   Sya9a Maroc - FR               FAMILY   \n",
       "10836                   Fr. Mike Schmitz Audio Teachings               FAMILY   \n",
       "10837                             Parkinson Exercices FR              MEDICAL   \n",
       "10838                      The SCP Foundation DB fr nn5n  BOOKS_AND_REFERENCE   \n",
       "10839      iHoroscope - 2018 Daily Horoscope & Astrology            LIFESTYLE   \n",
       "\n",
       "       Rating  Reviews                Size    Installs  Type  Price  \\\n",
       "0         4.1      159                  19      10,000  Free    0.0   \n",
       "1         3.9      967                  14     500,000  Free    0.0   \n",
       "2         4.7    87510                 8.7   5,000,000  Free    0.0   \n",
       "3         4.5   215644                  25  50,000,000  Free    0.0   \n",
       "4         4.3      967                 2.8     100,000  Free    0.0   \n",
       "...       ...      ...                 ...         ...   ...    ...   \n",
       "10835     4.5       38                  53       5,000  Free    0.0   \n",
       "10836     5.0        4                 3.6         100  Free    0.0   \n",
       "10837     NaN        3                 9.5       1,000  Free    0.0   \n",
       "10838     4.5      114  Varies with device       1,000  Free    0.0   \n",
       "10839     4.5   398307                  19  10,000,000  Free    0.0   \n",
       "\n",
       "      Content Rating                     Genres      Last Updated  \\\n",
       "0           Everyone               Art & Design   January 7, 2018   \n",
       "1           Everyone  Art & Design;Pretend Play  January 15, 2018   \n",
       "2           Everyone               Art & Design    August 1, 2018   \n",
       "3               Teen               Art & Design      June 8, 2018   \n",
       "4           Everyone    Art & Design;Creativity     June 20, 2018   \n",
       "...              ...                        ...               ...   \n",
       "10835       Everyone                  Education     July 25, 2017   \n",
       "10836       Everyone                  Education      July 6, 2018   \n",
       "10837       Everyone                    Medical  January 20, 2017   \n",
       "10838     Mature 17+          Books & Reference  January 19, 2015   \n",
       "10839       Everyone                  Lifestyle     July 25, 2018   \n",
       "\n",
       "              Current Ver         Android Ver  \n",
       "0                   1.0.0        4.0.3 and up  \n",
       "1                   2.0.0        4.0.3 and up  \n",
       "2                   1.2.4        4.0.3 and up  \n",
       "3      Varies with device          4.2 and up  \n",
       "4                     1.1          4.4 and up  \n",
       "...                   ...                 ...  \n",
       "10835                1.48          4.1 and up  \n",
       "10836                 1.0          4.1 and up  \n",
       "10837                 1.0          2.2 and up  \n",
       "10838  Varies with device  Varies with device  \n",
       "10839  Varies with device  Varies with device  \n",
       "\n",
       "[10840 rows x 13 columns]"
      ]
     },
     "execution_count": 37,
     "metadata": {},
     "output_type": "execute_result"
    }
   ],
   "source": [
    "data"
   ]
  },
  {
   "cell_type": "code",
   "execution_count": 44,
   "metadata": {
    "deletable": false,
    "nbgrader": {
     "grade": false,
     "grade_id": "cell-19c253c171a6330b",
     "locked": false,
     "schema_version": 1,
     "solution": true
    }
   },
   "outputs": [],
   "source": [
    "def encode_category(X):\n",
    "\n",
    "    X_t = X.copy()\n",
    "    \n",
    "    # perform one-hot encoding in X_t\n",
    "    # YOUR CODE HERE\n",
    "    #raise NotImplementedError()\n",
    "    ohe = ce.one_hot.OneHotEncoder(use_cat_names=True, handle_unknown='indicator')\n",
    "\n",
    "# save data to scale (no need to reshape)\n",
    "    X_t_ = X_t[['Category']]\n",
    "    X_t = X_t.drop('Category',axis = 1)\n",
    "\n",
    "# fit transformer to data\n",
    "    ohe.fit(X_t_)\n",
    "\n",
    "# create new feature by transforming the data\n",
    "    X_t = X_t.join(ohe.transform(X_t_))\n",
    "    \n",
    "    return X_t"
   ]
  },
  {
   "cell_type": "code",
   "execution_count": 45,
   "metadata": {},
   "outputs": [
    {
     "data": {
      "text/html": [
       "<div>\n",
       "<style scoped>\n",
       "    .dataframe tbody tr th:only-of-type {\n",
       "        vertical-align: middle;\n",
       "    }\n",
       "\n",
       "    .dataframe tbody tr th {\n",
       "        vertical-align: top;\n",
       "    }\n",
       "\n",
       "    .dataframe thead th {\n",
       "        text-align: right;\n",
       "    }\n",
       "</style>\n",
       "<table border=\"1\" class=\"dataframe\">\n",
       "  <thead>\n",
       "    <tr style=\"text-align: right;\">\n",
       "      <th></th>\n",
       "      <th>App</th>\n",
       "      <th>Rating</th>\n",
       "      <th>Reviews</th>\n",
       "      <th>Size</th>\n",
       "      <th>Installs</th>\n",
       "      <th>Type</th>\n",
       "      <th>Price</th>\n",
       "      <th>Content Rating</th>\n",
       "      <th>Genres</th>\n",
       "      <th>Last Updated</th>\n",
       "      <th>...</th>\n",
       "      <th>Category_TRAVEL_AND_LOCAL</th>\n",
       "      <th>Category_TOOLS</th>\n",
       "      <th>Category_PERSONALIZATION</th>\n",
       "      <th>Category_PRODUCTIVITY</th>\n",
       "      <th>Category_PARENTING</th>\n",
       "      <th>Category_WEATHER</th>\n",
       "      <th>Category_VIDEO_PLAYERS</th>\n",
       "      <th>Category_NEWS_AND_MAGAZINES</th>\n",
       "      <th>Category_MAPS_AND_NAVIGATION</th>\n",
       "      <th>Category_-1</th>\n",
       "    </tr>\n",
       "  </thead>\n",
       "  <tbody>\n",
       "    <tr>\n",
       "      <th>0</th>\n",
       "      <td>Photo Editor &amp; Candy Camera &amp; Grid &amp; ScrapBook</td>\n",
       "      <td>4.1</td>\n",
       "      <td>159</td>\n",
       "      <td>19</td>\n",
       "      <td>10,000</td>\n",
       "      <td>Free</td>\n",
       "      <td>0.0</td>\n",
       "      <td>Everyone</td>\n",
       "      <td>Art &amp; Design</td>\n",
       "      <td>January 7, 2018</td>\n",
       "      <td>...</td>\n",
       "      <td>0</td>\n",
       "      <td>0</td>\n",
       "      <td>0</td>\n",
       "      <td>0</td>\n",
       "      <td>0</td>\n",
       "      <td>0</td>\n",
       "      <td>0</td>\n",
       "      <td>0</td>\n",
       "      <td>0</td>\n",
       "      <td>0</td>\n",
       "    </tr>\n",
       "    <tr>\n",
       "      <th>1</th>\n",
       "      <td>Coloring book moana</td>\n",
       "      <td>3.9</td>\n",
       "      <td>967</td>\n",
       "      <td>14</td>\n",
       "      <td>500,000</td>\n",
       "      <td>Free</td>\n",
       "      <td>0.0</td>\n",
       "      <td>Everyone</td>\n",
       "      <td>Art &amp; Design;Pretend Play</td>\n",
       "      <td>January 15, 2018</td>\n",
       "      <td>...</td>\n",
       "      <td>0</td>\n",
       "      <td>0</td>\n",
       "      <td>0</td>\n",
       "      <td>0</td>\n",
       "      <td>0</td>\n",
       "      <td>0</td>\n",
       "      <td>0</td>\n",
       "      <td>0</td>\n",
       "      <td>0</td>\n",
       "      <td>0</td>\n",
       "    </tr>\n",
       "    <tr>\n",
       "      <th>2</th>\n",
       "      <td>U Launcher Lite – FREE Live Cool Themes, Hide ...</td>\n",
       "      <td>4.7</td>\n",
       "      <td>87510</td>\n",
       "      <td>8.7</td>\n",
       "      <td>5,000,000</td>\n",
       "      <td>Free</td>\n",
       "      <td>0.0</td>\n",
       "      <td>Everyone</td>\n",
       "      <td>Art &amp; Design</td>\n",
       "      <td>August 1, 2018</td>\n",
       "      <td>...</td>\n",
       "      <td>0</td>\n",
       "      <td>0</td>\n",
       "      <td>0</td>\n",
       "      <td>0</td>\n",
       "      <td>0</td>\n",
       "      <td>0</td>\n",
       "      <td>0</td>\n",
       "      <td>0</td>\n",
       "      <td>0</td>\n",
       "      <td>0</td>\n",
       "    </tr>\n",
       "    <tr>\n",
       "      <th>3</th>\n",
       "      <td>Sketch - Draw &amp; Paint</td>\n",
       "      <td>4.5</td>\n",
       "      <td>215644</td>\n",
       "      <td>25</td>\n",
       "      <td>50,000,000</td>\n",
       "      <td>Free</td>\n",
       "      <td>0.0</td>\n",
       "      <td>Teen</td>\n",
       "      <td>Art &amp; Design</td>\n",
       "      <td>June 8, 2018</td>\n",
       "      <td>...</td>\n",
       "      <td>0</td>\n",
       "      <td>0</td>\n",
       "      <td>0</td>\n",
       "      <td>0</td>\n",
       "      <td>0</td>\n",
       "      <td>0</td>\n",
       "      <td>0</td>\n",
       "      <td>0</td>\n",
       "      <td>0</td>\n",
       "      <td>0</td>\n",
       "    </tr>\n",
       "    <tr>\n",
       "      <th>4</th>\n",
       "      <td>Pixel Draw - Number Art Coloring Book</td>\n",
       "      <td>4.3</td>\n",
       "      <td>967</td>\n",
       "      <td>2.8</td>\n",
       "      <td>100,000</td>\n",
       "      <td>Free</td>\n",
       "      <td>0.0</td>\n",
       "      <td>Everyone</td>\n",
       "      <td>Art &amp; Design;Creativity</td>\n",
       "      <td>June 20, 2018</td>\n",
       "      <td>...</td>\n",
       "      <td>0</td>\n",
       "      <td>0</td>\n",
       "      <td>0</td>\n",
       "      <td>0</td>\n",
       "      <td>0</td>\n",
       "      <td>0</td>\n",
       "      <td>0</td>\n",
       "      <td>0</td>\n",
       "      <td>0</td>\n",
       "      <td>0</td>\n",
       "    </tr>\n",
       "    <tr>\n",
       "      <th>...</th>\n",
       "      <td>...</td>\n",
       "      <td>...</td>\n",
       "      <td>...</td>\n",
       "      <td>...</td>\n",
       "      <td>...</td>\n",
       "      <td>...</td>\n",
       "      <td>...</td>\n",
       "      <td>...</td>\n",
       "      <td>...</td>\n",
       "      <td>...</td>\n",
       "      <td>...</td>\n",
       "      <td>...</td>\n",
       "      <td>...</td>\n",
       "      <td>...</td>\n",
       "      <td>...</td>\n",
       "      <td>...</td>\n",
       "      <td>...</td>\n",
       "      <td>...</td>\n",
       "      <td>...</td>\n",
       "      <td>...</td>\n",
       "      <td>...</td>\n",
       "    </tr>\n",
       "    <tr>\n",
       "      <th>10835</th>\n",
       "      <td>Sya9a Maroc - FR</td>\n",
       "      <td>4.5</td>\n",
       "      <td>38</td>\n",
       "      <td>53</td>\n",
       "      <td>5,000</td>\n",
       "      <td>Free</td>\n",
       "      <td>0.0</td>\n",
       "      <td>Everyone</td>\n",
       "      <td>Education</td>\n",
       "      <td>July 25, 2017</td>\n",
       "      <td>...</td>\n",
       "      <td>0</td>\n",
       "      <td>0</td>\n",
       "      <td>0</td>\n",
       "      <td>0</td>\n",
       "      <td>0</td>\n",
       "      <td>0</td>\n",
       "      <td>0</td>\n",
       "      <td>0</td>\n",
       "      <td>0</td>\n",
       "      <td>0</td>\n",
       "    </tr>\n",
       "    <tr>\n",
       "      <th>10836</th>\n",
       "      <td>Fr. Mike Schmitz Audio Teachings</td>\n",
       "      <td>5.0</td>\n",
       "      <td>4</td>\n",
       "      <td>3.6</td>\n",
       "      <td>100</td>\n",
       "      <td>Free</td>\n",
       "      <td>0.0</td>\n",
       "      <td>Everyone</td>\n",
       "      <td>Education</td>\n",
       "      <td>July 6, 2018</td>\n",
       "      <td>...</td>\n",
       "      <td>0</td>\n",
       "      <td>0</td>\n",
       "      <td>0</td>\n",
       "      <td>0</td>\n",
       "      <td>0</td>\n",
       "      <td>0</td>\n",
       "      <td>0</td>\n",
       "      <td>0</td>\n",
       "      <td>0</td>\n",
       "      <td>0</td>\n",
       "    </tr>\n",
       "    <tr>\n",
       "      <th>10837</th>\n",
       "      <td>Parkinson Exercices FR</td>\n",
       "      <td>NaN</td>\n",
       "      <td>3</td>\n",
       "      <td>9.5</td>\n",
       "      <td>1,000</td>\n",
       "      <td>Free</td>\n",
       "      <td>0.0</td>\n",
       "      <td>Everyone</td>\n",
       "      <td>Medical</td>\n",
       "      <td>January 20, 2017</td>\n",
       "      <td>...</td>\n",
       "      <td>0</td>\n",
       "      <td>0</td>\n",
       "      <td>0</td>\n",
       "      <td>0</td>\n",
       "      <td>0</td>\n",
       "      <td>0</td>\n",
       "      <td>0</td>\n",
       "      <td>0</td>\n",
       "      <td>0</td>\n",
       "      <td>0</td>\n",
       "    </tr>\n",
       "    <tr>\n",
       "      <th>10838</th>\n",
       "      <td>The SCP Foundation DB fr nn5n</td>\n",
       "      <td>4.5</td>\n",
       "      <td>114</td>\n",
       "      <td>Varies with device</td>\n",
       "      <td>1,000</td>\n",
       "      <td>Free</td>\n",
       "      <td>0.0</td>\n",
       "      <td>Mature 17+</td>\n",
       "      <td>Books &amp; Reference</td>\n",
       "      <td>January 19, 2015</td>\n",
       "      <td>...</td>\n",
       "      <td>0</td>\n",
       "      <td>0</td>\n",
       "      <td>0</td>\n",
       "      <td>0</td>\n",
       "      <td>0</td>\n",
       "      <td>0</td>\n",
       "      <td>0</td>\n",
       "      <td>0</td>\n",
       "      <td>0</td>\n",
       "      <td>0</td>\n",
       "    </tr>\n",
       "    <tr>\n",
       "      <th>10839</th>\n",
       "      <td>iHoroscope - 2018 Daily Horoscope &amp; Astrology</td>\n",
       "      <td>4.5</td>\n",
       "      <td>398307</td>\n",
       "      <td>19</td>\n",
       "      <td>10,000,000</td>\n",
       "      <td>Free</td>\n",
       "      <td>0.0</td>\n",
       "      <td>Everyone</td>\n",
       "      <td>Lifestyle</td>\n",
       "      <td>July 25, 2018</td>\n",
       "      <td>...</td>\n",
       "      <td>0</td>\n",
       "      <td>0</td>\n",
       "      <td>0</td>\n",
       "      <td>0</td>\n",
       "      <td>0</td>\n",
       "      <td>0</td>\n",
       "      <td>0</td>\n",
       "      <td>0</td>\n",
       "      <td>0</td>\n",
       "      <td>0</td>\n",
       "    </tr>\n",
       "  </tbody>\n",
       "</table>\n",
       "<p>10840 rows × 46 columns</p>\n",
       "</div>"
      ],
      "text/plain": [
       "                                                     App  Rating  Reviews  \\\n",
       "0         Photo Editor & Candy Camera & Grid & ScrapBook     4.1      159   \n",
       "1                                    Coloring book moana     3.9      967   \n",
       "2      U Launcher Lite – FREE Live Cool Themes, Hide ...     4.7    87510   \n",
       "3                                  Sketch - Draw & Paint     4.5   215644   \n",
       "4                  Pixel Draw - Number Art Coloring Book     4.3      967   \n",
       "...                                                  ...     ...      ...   \n",
       "10835                                   Sya9a Maroc - FR     4.5       38   \n",
       "10836                   Fr. Mike Schmitz Audio Teachings     5.0        4   \n",
       "10837                             Parkinson Exercices FR     NaN        3   \n",
       "10838                      The SCP Foundation DB fr nn5n     4.5      114   \n",
       "10839      iHoroscope - 2018 Daily Horoscope & Astrology     4.5   398307   \n",
       "\n",
       "                     Size    Installs  Type  Price Content Rating  \\\n",
       "0                      19      10,000  Free    0.0       Everyone   \n",
       "1                      14     500,000  Free    0.0       Everyone   \n",
       "2                     8.7   5,000,000  Free    0.0       Everyone   \n",
       "3                      25  50,000,000  Free    0.0           Teen   \n",
       "4                     2.8     100,000  Free    0.0       Everyone   \n",
       "...                   ...         ...   ...    ...            ...   \n",
       "10835                  53       5,000  Free    0.0       Everyone   \n",
       "10836                 3.6         100  Free    0.0       Everyone   \n",
       "10837                 9.5       1,000  Free    0.0       Everyone   \n",
       "10838  Varies with device       1,000  Free    0.0     Mature 17+   \n",
       "10839                  19  10,000,000  Free    0.0       Everyone   \n",
       "\n",
       "                          Genres      Last Updated  ...  \\\n",
       "0                   Art & Design   January 7, 2018  ...   \n",
       "1      Art & Design;Pretend Play  January 15, 2018  ...   \n",
       "2                   Art & Design    August 1, 2018  ...   \n",
       "3                   Art & Design      June 8, 2018  ...   \n",
       "4        Art & Design;Creativity     June 20, 2018  ...   \n",
       "...                          ...               ...  ...   \n",
       "10835                  Education     July 25, 2017  ...   \n",
       "10836                  Education      July 6, 2018  ...   \n",
       "10837                    Medical  January 20, 2017  ...   \n",
       "10838          Books & Reference  January 19, 2015  ...   \n",
       "10839                  Lifestyle     July 25, 2018  ...   \n",
       "\n",
       "      Category_TRAVEL_AND_LOCAL Category_TOOLS  Category_PERSONALIZATION  \\\n",
       "0                             0              0                         0   \n",
       "1                             0              0                         0   \n",
       "2                             0              0                         0   \n",
       "3                             0              0                         0   \n",
       "4                             0              0                         0   \n",
       "...                         ...            ...                       ...   \n",
       "10835                         0              0                         0   \n",
       "10836                         0              0                         0   \n",
       "10837                         0              0                         0   \n",
       "10838                         0              0                         0   \n",
       "10839                         0              0                         0   \n",
       "\n",
       "       Category_PRODUCTIVITY  Category_PARENTING  Category_WEATHER  \\\n",
       "0                          0                   0                 0   \n",
       "1                          0                   0                 0   \n",
       "2                          0                   0                 0   \n",
       "3                          0                   0                 0   \n",
       "4                          0                   0                 0   \n",
       "...                      ...                 ...               ...   \n",
       "10835                      0                   0                 0   \n",
       "10836                      0                   0                 0   \n",
       "10837                      0                   0                 0   \n",
       "10838                      0                   0                 0   \n",
       "10839                      0                   0                 0   \n",
       "\n",
       "       Category_VIDEO_PLAYERS  Category_NEWS_AND_MAGAZINES  \\\n",
       "0                           0                            0   \n",
       "1                           0                            0   \n",
       "2                           0                            0   \n",
       "3                           0                            0   \n",
       "4                           0                            0   \n",
       "...                       ...                          ...   \n",
       "10835                       0                            0   \n",
       "10836                       0                            0   \n",
       "10837                       0                            0   \n",
       "10838                       0                            0   \n",
       "10839                       0                            0   \n",
       "\n",
       "       Category_MAPS_AND_NAVIGATION  Category_-1  \n",
       "0                                 0            0  \n",
       "1                                 0            0  \n",
       "2                                 0            0  \n",
       "3                                 0            0  \n",
       "4                                 0            0  \n",
       "...                             ...          ...  \n",
       "10835                             0            0  \n",
       "10836                             0            0  \n",
       "10837                             0            0  \n",
       "10838                             0            0  \n",
       "10839                             0            0  \n",
       "\n",
       "[10840 rows x 46 columns]"
      ]
     },
     "execution_count": 45,
     "metadata": {},
     "output_type": "execute_result"
    }
   ],
   "source": [
    " encode_category(data)"
   ]
  },
  {
   "cell_type": "code",
   "execution_count": 46,
   "metadata": {
    "deletable": false,
    "editable": false,
    "nbgrader": {
     "grade": true,
     "grade_id": "cell-1c3c0246ee35e543b",
     "locked": true,
     "points": 4,
     "schema_version": 1,
     "solution": false
    }
   },
   "outputs": [],
   "source": [
    "\"\"\"Check that the solution is correct.\"\"\"\n",
    "X_category = encode_category(data)\n",
    "\n",
    "assert X_category.shape[1] > 10\n",
    "assert X_category.Category_WEATHER.sum() == 82\n",
    "assert X_category['Category_-1'].sum() == 0\n",
    "assert X_category.loc[1234, 'Category_VIDEO_PLAYERS'] == 0\n",
    "assert X_category.loc[4322, 'Category_SHOPPING'] == 1"
   ]
  },
  {
   "cell_type": "code",
   "execution_count": null,
   "metadata": {},
   "outputs": [],
   "source": []
  }
 ],
 "metadata": {
  "kernelspec": {
   "display_name": "Python 3",
   "language": "python",
   "name": "python3"
  },
  "language_info": {
   "codemirror_mode": {
    "name": "ipython",
    "version": 3
   },
   "file_extension": ".py",
   "mimetype": "text/x-python",
   "name": "python",
   "nbconvert_exporter": "python",
   "pygments_lexer": "ipython3",
   "version": "3.6.9"
  }
 },
 "nbformat": 4,
 "nbformat_minor": 2
}
