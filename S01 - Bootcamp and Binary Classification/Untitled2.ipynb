{
 "cells": [
  {
   "cell_type": "code",
   "execution_count": null,
   "metadata": {},
   "outputs": [],
   "source": [
    "def quasinewton(f,d,xo,maxIt,stop,L):         #f=função , d=incremento\n",
    "    delta ,xo=aproximação inicial,\n",
    "     l=[]\n",
    "     n=0 #no iterações efetuadas\n",
    "     e=1 #valor do erro inicial\n",
    "     q=True\n",
    "     if d==0:\n",
    "         return 'Erro infinito.'\n",
    "                                       #maxIt=maximo de iterções a\n",
    "    efetuar, stop=tolerancia de erro   #L=max f'(x)\n",
    "     while e>=stop and q:\n",
    "        xoo=xo\n",
    "             xo=abs(xo-(abs(f(xo)*d)/abs(f(xo+d)-f(xo))))\n",
    "             e=abs((L/(1-L))*abs(xo-xoo))\n",
    "             if n<=maxIt:\n",
    "                 l=l+[[\"Aproximação:\",xo,\"erro:\",e]]\n",
    "                 n=n+1\n",
    "             if n>maxIt:\n",
    "                 q=False\n",
    "        if q==True:\n",
    "            return l\n",
    "       else:\n",
    "         return ['Máximo de iterações excedido. Solução não encontrada.']\n"
   ]
  }
 ],
 "metadata": {
  "kernelspec": {
   "display_name": "Python 3",
   "language": "python",
   "name": "python3"
  },
  "language_info": {
   "codemirror_mode": {
    "name": "ipython",
    "version": 3
   },
   "file_extension": ".py",
   "mimetype": "text/x-python",
   "name": "python",
   "nbconvert_exporter": "python",
   "pygments_lexer": "ipython3",
   "version": "3.6.9"
  }
 },
 "nbformat": 4,
 "nbformat_minor": 4
}
