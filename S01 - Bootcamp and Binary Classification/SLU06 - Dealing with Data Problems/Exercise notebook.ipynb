{
 "cells": [
  {
   "cell_type": "markdown",
   "metadata": {
    "deletable": false,
    "editable": false,
    "nbgrader": {
     "grade": false,
     "grade_id": "cell-ace921900ddc1444",
     "locked": true,
     "schema_version": 3,
     "solution": false,
     "task": false
    }
   },
   "source": [
    "# SLU06 - Dealing with Data Problems\n",
    "\n",
    "This notebook has exercises covering the following topics:\n",
    "\n",
    "- Tidy Data\n",
    "- Data Entry Problems\n",
    "- Missing Values"
   ]
  },
  {
   "cell_type": "markdown",
   "metadata": {
    "deletable": false,
    "editable": false,
    "nbgrader": {
     "grade": false,
     "grade_id": "cell-65e51f7c4af8b6d6",
     "locked": true,
     "schema_version": 3,
     "solution": false,
     "task": false
    }
   },
   "source": [
    "Import the following dependencies."
   ]
  },
  {
   "cell_type": "code",
   "execution_count": 1,
   "metadata": {
    "deletable": false,
    "editable": false,
    "nbgrader": {
     "grade": false,
     "grade_id": "cell-dc8f655f7e7fe1c2",
     "locked": true,
     "schema_version": 3,
     "solution": false,
     "task": false
    }
   },
   "outputs": [],
   "source": [
    "import os\n",
    "import pandas as pd\n",
    "import numpy as np\n",
    "import copy\n",
    "import hashlib\n",
    "import json\n",
    "import warnings\n",
    "warnings.filterwarnings('ignore')"
   ]
  },
  {
   "cell_type": "markdown",
   "metadata": {
    "deletable": false,
    "editable": false,
    "nbgrader": {
     "grade": false,
     "grade_id": "cell-a9c2a917b658396a",
     "locked": true,
     "schema_version": 3,
     "solution": false,
     "task": false
    }
   },
   "source": [
    "## Exercise 1"
   ]
  },
  {
   "cell_type": "markdown",
   "metadata": {
    "deletable": false,
    "editable": false,
    "nbgrader": {
     "grade": false,
     "grade_id": "cell-eff1e0d683c2cf64",
     "locked": true,
     "schema_version": 3,
     "solution": false,
     "task": false
    }
   },
   "source": [
    "You were hired to do a study regarding houses and apartments renting in capitals of some european countries."
   ]
  },
  {
   "cell_type": "markdown",
   "metadata": {
    "deletable": false,
    "editable": false,
    "nbgrader": {
     "grade": false,
     "grade_id": "cell-357ea225039e001d",
     "locked": true,
     "schema_version": 3,
     "solution": false,
     "task": false
    }
   },
   "source": [
    "For that purpose, a dataset was provided to you. This dataset contains data reported on a web portal for the year of 2019. These data was reported by renting agencies from european capitals, and contains information about the number of contracts done on each month."
   ]
  },
  {
   "cell_type": "markdown",
   "metadata": {
    "deletable": false,
    "editable": false,
    "nbgrader": {
     "grade": false,
     "grade_id": "cell-878cc6b88f2431e5",
     "locked": true,
     "schema_version": 3,
     "solution": false,
     "task": false
    }
   },
   "source": [
    "Note: On this web portal, the agent doesn't select month and capital from  a set of values, these variables are text based entries. This can lead to entry problems."
   ]
  },
  {
   "cell_type": "code",
   "execution_count": 2,
   "metadata": {
    "deletable": false,
    "editable": false,
    "nbgrader": {
     "grade": false,
     "grade_id": "cell-a1cb5fd4d836d159",
     "locked": true,
     "schema_version": 3,
     "solution": false,
     "task": false
    }
   },
   "outputs": [
    {
     "data": {
      "text/html": [
       "<div>\n",
       "<style scoped>\n",
       "    .dataframe tbody tr th:only-of-type {\n",
       "        vertical-align: middle;\n",
       "    }\n",
       "\n",
       "    .dataframe tbody tr th {\n",
       "        vertical-align: top;\n",
       "    }\n",
       "\n",
       "    .dataframe thead th {\n",
       "        text-align: right;\n",
       "    }\n",
       "</style>\n",
       "<table border=\"1\" class=\"dataframe\">\n",
       "  <thead>\n",
       "    <tr style=\"text-align: right;\">\n",
       "      <th></th>\n",
       "      <th>MADRID</th>\n",
       "      <th>rome</th>\n",
       "      <th>Rome</th>\n",
       "      <th>Lisboa</th>\n",
       "      <th>madrid</th>\n",
       "      <th>Roma</th>\n",
       "      <th>Budapest</th>\n",
       "      <th>paris</th>\n",
       "      <th>Lisbon</th>\n",
       "      <th>LISBON</th>\n",
       "      <th>Barcelona</th>\n",
       "      <th>Milan</th>\n",
       "      <th>BERLIN</th>\n",
       "      <th>budapest</th>\n",
       "      <th>lisbon, Portugal</th>\n",
       "      <th>paris, france</th>\n",
       "    </tr>\n",
       "  </thead>\n",
       "  <tbody>\n",
       "    <tr>\n",
       "      <th>dec</th>\n",
       "      <td>NaN</td>\n",
       "      <td>NaN</td>\n",
       "      <td>540.0</td>\n",
       "      <td>186.0</td>\n",
       "      <td>1235.0</td>\n",
       "      <td>NaN</td>\n",
       "      <td>994.0</td>\n",
       "      <td>417.0</td>\n",
       "      <td>1420.0</td>\n",
       "      <td>NaN</td>\n",
       "      <td>401.0</td>\n",
       "      <td>1045.0</td>\n",
       "      <td>1085.0</td>\n",
       "      <td>NaN</td>\n",
       "      <td>1340.0</td>\n",
       "      <td>865.0</td>\n",
       "    </tr>\n",
       "    <tr>\n",
       "      <th>APRIL</th>\n",
       "      <td>198.0</td>\n",
       "      <td>1133.0</td>\n",
       "      <td>975.0</td>\n",
       "      <td>1192.0</td>\n",
       "      <td>NaN</td>\n",
       "      <td>NaN</td>\n",
       "      <td>NaN</td>\n",
       "      <td>1157.0</td>\n",
       "      <td>261.0</td>\n",
       "      <td>34.0</td>\n",
       "      <td>NaN</td>\n",
       "      <td>NaN</td>\n",
       "      <td>1081.0</td>\n",
       "      <td>510.0</td>\n",
       "      <td>571.0</td>\n",
       "      <td>NaN</td>\n",
       "    </tr>\n",
       "    <tr>\n",
       "      <th>jun</th>\n",
       "      <td>96.0</td>\n",
       "      <td>NaN</td>\n",
       "      <td>1277.0</td>\n",
       "      <td>937.0</td>\n",
       "      <td>1324.0</td>\n",
       "      <td>542.0</td>\n",
       "      <td>NaN</td>\n",
       "      <td>NaN</td>\n",
       "      <td>502.0</td>\n",
       "      <td>NaN</td>\n",
       "      <td>1147.0</td>\n",
       "      <td>638.0</td>\n",
       "      <td>1093.0</td>\n",
       "      <td>NaN</td>\n",
       "      <td>NaN</td>\n",
       "      <td>109.0</td>\n",
       "    </tr>\n",
       "    <tr>\n",
       "      <th>november</th>\n",
       "      <td>NaN</td>\n",
       "      <td>NaN</td>\n",
       "      <td>62.0</td>\n",
       "      <td>NaN</td>\n",
       "      <td>NaN</td>\n",
       "      <td>NaN</td>\n",
       "      <td>NaN</td>\n",
       "      <td>474.0</td>\n",
       "      <td>1486.0</td>\n",
       "      <td>887.0</td>\n",
       "      <td>607.0</td>\n",
       "      <td>1201.0</td>\n",
       "      <td>470.0</td>\n",
       "      <td>NaN</td>\n",
       "      <td>379.0</td>\n",
       "      <td>1315.0</td>\n",
       "    </tr>\n",
       "    <tr>\n",
       "      <th>January</th>\n",
       "      <td>NaN</td>\n",
       "      <td>652.0</td>\n",
       "      <td>NaN</td>\n",
       "      <td>NaN</td>\n",
       "      <td>674.0</td>\n",
       "      <td>NaN</td>\n",
       "      <td>938.0</td>\n",
       "      <td>432.0</td>\n",
       "      <td>371.0</td>\n",
       "      <td>NaN</td>\n",
       "      <td>NaN</td>\n",
       "      <td>NaN</td>\n",
       "      <td>1233.0</td>\n",
       "      <td>NaN</td>\n",
       "      <td>NaN</td>\n",
       "      <td>337.0</td>\n",
       "    </tr>\n",
       "  </tbody>\n",
       "</table>\n",
       "</div>"
      ],
      "text/plain": [
       "          MADRID    rome    Rome  Lisboa  madrid   Roma  Budapest   paris  \\\n",
       "dec          NaN     NaN   540.0   186.0  1235.0    NaN     994.0   417.0   \n",
       "APRIL      198.0  1133.0   975.0  1192.0     NaN    NaN       NaN  1157.0   \n",
       "jun         96.0     NaN  1277.0   937.0  1324.0  542.0       NaN     NaN   \n",
       "november     NaN     NaN    62.0     NaN     NaN    NaN       NaN   474.0   \n",
       "January      NaN   652.0     NaN     NaN   674.0    NaN     938.0   432.0   \n",
       "\n",
       "          Lisbon  LISBON  Barcelona   Milan  BERLIN  budapest  \\\n",
       "dec       1420.0     NaN      401.0  1045.0  1085.0       NaN   \n",
       "APRIL      261.0    34.0        NaN     NaN  1081.0     510.0   \n",
       "jun        502.0     NaN     1147.0   638.0  1093.0       NaN   \n",
       "november  1486.0   887.0      607.0  1201.0   470.0       NaN   \n",
       "January    371.0     NaN        NaN     NaN  1233.0       NaN   \n",
       "\n",
       "          lisbon, Portugal  paris, france  \n",
       "dec                 1340.0          865.0  \n",
       "APRIL                571.0            NaN  \n",
       "jun                    NaN          109.0  \n",
       "november             379.0         1315.0  \n",
       "January                NaN          337.0  "
      ]
     },
     "execution_count": 2,
     "metadata": {},
     "output_type": "execute_result"
    }
   ],
   "source": [
    "df_n_contracts = pd.read_csv(os.path.join('data', 'n_renting_contracts.csv'), index_col=0)\n",
    "df_n_contracts.head()"
   ]
  },
  {
   "cell_type": "markdown",
   "metadata": {
    "deletable": false,
    "editable": false,
    "nbgrader": {
     "grade": false,
     "grade_id": "cell-7e95cf826c1870a2",
     "locked": true,
     "schema_version": 3,
     "solution": false,
     "task": false
    }
   },
   "source": [
    "By looking to the dataset provided, you can see that it is not ready for analysis. It is not tidy and has data entry problems, as well as missing values."
   ]
  },
  {
   "cell_type": "markdown",
   "metadata": {
    "deletable": false,
    "editable": false,
    "nbgrader": {
     "grade": false,
     "grade_id": "cell-54f70ee07d82464e",
     "locked": true,
     "schema_version": 3,
     "solution": false,
     "task": false
    }
   },
   "source": [
    "### Exercise 1.1"
   ]
  },
  {
   "cell_type": "markdown",
   "metadata": {
    "deletable": false,
    "editable": false,
    "nbgrader": {
     "grade": false,
     "grade_id": "cell-596f9338b6617511",
     "locked": true,
     "schema_version": 3,
     "solution": false,
     "task": false
    }
   },
   "source": [
    "Create a function named `transform_dataframe`. It should accept a not tidy DataFrame named `df_not_tidy` and 3 strings, `id_vars`, `var_name` and `value_name`. The variable `value_name` should have the value \"frequency\" as default. It should return a tidy DataFrame named `df_tidy`, where the index values and the column names correspond to the values of the columns named `id_vars` and `var_name`, respectively. It should also have a column with the name assigned to `value_name`, where each value represents the frequency of each observation. "
   ]
  },
  {
   "cell_type": "code",
   "execution_count": 3,
   "metadata": {
    "deletable": false,
    "nbgrader": {
     "grade": false,
     "grade_id": "cell-8dc9fa3df59471a6",
     "locked": false,
     "schema_version": 3,
     "solution": true,
     "task": false
    }
   },
   "outputs": [],
   "source": [
    "def transform_dataframe(df_not_tidy: pd.DataFrame,\n",
    "                        id_vars: str,\n",
    "                        var_name: str,\n",
    "                        value_name=\"frequency\")->pd.DataFrame:\n",
    "    \"\"\"\n",
    "    Converts a messy DataFrame in a tidy one.\n",
    "    \n",
    "    \"\"\"\n",
    "    \n",
    "    ###########################################\n",
    "    \n",
    "    #extract the column names\n",
    "    val_vars = df_not_tidy.columns\n",
    "    \n",
    "    #reset the index and rename the new column to the value of id_vars \n",
    "    df_not_tidy_ = df_not_tidy.reset_index().rename(columns = {'index':id_vars})\n",
    "    \n",
    "    #using the function melt, turn df_not_tidy_ in df_tidy following the exposed requirements\n",
    "    df_tidy = pd.melt(\n",
    "    df_not_tidy_,\n",
    "   id_vars=id_vars,\n",
    "    value_vars=val_vars,\n",
    "    var_name =var_name,\n",
    "    value_name=value_name\n",
    ")\n",
    "    \n",
    "    #return the DataFrame sorted by value_name, in descending order\n",
    "    df_tidy = df_tidy.sort_values(value_name,ascending=False)\n",
    "    \n",
    "    # YOUR CODE HERE\n",
    "    #raise NotImplementedError()\n",
    "    return df_tidy"
   ]
  },
  {
   "cell_type": "code",
   "execution_count": 4,
   "metadata": {
    "deletable": false,
    "editable": false,
    "nbgrader": {
     "grade": false,
     "grade_id": "cell-de39501c3fc725cf",
     "locked": true,
     "schema_version": 3,
     "solution": false,
     "task": false
    }
   },
   "outputs": [
    {
     "data": {
      "text/html": [
       "<div>\n",
       "<style scoped>\n",
       "    .dataframe tbody tr th:only-of-type {\n",
       "        vertical-align: middle;\n",
       "    }\n",
       "\n",
       "    .dataframe tbody tr th {\n",
       "        vertical-align: top;\n",
       "    }\n",
       "\n",
       "    .dataframe thead th {\n",
       "        text-align: right;\n",
       "    }\n",
       "</style>\n",
       "<table border=\"1\" class=\"dataframe\">\n",
       "  <thead>\n",
       "    <tr style=\"text-align: right;\">\n",
       "      <th></th>\n",
       "      <th>month</th>\n",
       "      <th>capital</th>\n",
       "      <th>frequency</th>\n",
       "    </tr>\n",
       "  </thead>\n",
       "  <tbody>\n",
       "    <tr>\n",
       "      <th>26</th>\n",
       "      <td>April</td>\n",
       "      <td>rome</td>\n",
       "      <td>1496.0</td>\n",
       "    </tr>\n",
       "    <tr>\n",
       "      <th>171</th>\n",
       "      <td>november</td>\n",
       "      <td>Lisbon</td>\n",
       "      <td>1486.0</td>\n",
       "    </tr>\n",
       "    <tr>\n",
       "      <th>248</th>\n",
       "      <td>JANUARY</td>\n",
       "      <td>Milan</td>\n",
       "      <td>1480.0</td>\n",
       "    </tr>\n",
       "    <tr>\n",
       "      <th>228</th>\n",
       "      <td>February</td>\n",
       "      <td>Barcelona</td>\n",
       "      <td>1457.0</td>\n",
       "    </tr>\n",
       "    <tr>\n",
       "      <th>223</th>\n",
       "      <td>Feb.</td>\n",
       "      <td>Barcelona</td>\n",
       "      <td>1453.0</td>\n",
       "    </tr>\n",
       "  </tbody>\n",
       "</table>\n",
       "</div>"
      ],
      "text/plain": [
       "        month    capital  frequency\n",
       "26      April       rome     1496.0\n",
       "171  november     Lisbon     1486.0\n",
       "248   JANUARY      Milan     1480.0\n",
       "228  February  Barcelona     1457.0\n",
       "223      Feb.  Barcelona     1453.0"
      ]
     },
     "execution_count": 4,
     "metadata": {},
     "output_type": "execute_result"
    }
   ],
   "source": [
    "df_n_contracts_tidy = transform_dataframe(df_n_contracts, \"month\", \"capital\")\n",
    "df_n_contracts_tidy.head()"
   ]
  },
  {
   "cell_type": "code",
   "execution_count": 5,
   "metadata": {
    "deletable": false,
    "editable": false,
    "nbgrader": {
     "grade": true,
     "grade_id": "cell-c210c137c067cfa4",
     "locked": true,
     "points": 2,
     "schema_version": 3,
     "solution": false,
     "task": false
    }
   },
   "outputs": [],
   "source": [
    "assert df_n_contracts_tidy.shape[0] == 336\n",
    "assert df_n_contracts_tidy.shape[1] == 3\n",
    "assert list(df_n_contracts_tidy.columns.sort_values()) == [\"capital\", \"frequency\", \"month\"]\n",
    "assert int(df_n_contracts_tidy.iloc[3].frequency) == 1457\n",
    "assert df_n_contracts_tidy.iloc[325].capital == \"lisbon, Portugal\"\n",
    "assert df_n_contracts_tidy.iloc[105].month == \"Feb.\""
   ]
  },
  {
   "cell_type": "markdown",
   "metadata": {
    "deletable": false,
    "editable": false,
    "nbgrader": {
     "grade": false,
     "grade_id": "cell-42c08a5921a09dc9",
     "locked": true,
     "schema_version": 3,
     "solution": false,
     "task": false
    }
   },
   "source": [
    "### Exercise 1.2"
   ]
  },
  {
   "cell_type": "markdown",
   "metadata": {
    "deletable": false,
    "editable": false,
    "nbgrader": {
     "grade": false,
     "grade_id": "cell-db997810d17d76e9",
     "locked": true,
     "schema_version": 3,
     "solution": false,
     "task": false
    }
   },
   "source": [
    "As said before, month and country capitals are free text input fields. For each capital, there are multiple agencies reporting their values. This results in multiple unique values that represent the same month or capital. "
   ]
  },
  {
   "cell_type": "markdown",
   "metadata": {
    "deletable": false,
    "editable": false,
    "nbgrader": {
     "grade": false,
     "grade_id": "cell-b7048c4216ea8533",
     "locked": true,
     "schema_version": 3,
     "solution": false,
     "task": false
    }
   },
   "source": [
    "#### Exercise 1.2.1"
   ]
  },
  {
   "cell_type": "markdown",
   "metadata": {
    "deletable": false,
    "editable": false,
    "nbgrader": {
     "grade": false,
     "grade_id": "cell-3a48b89224083220",
     "locked": true,
     "schema_version": 3,
     "solution": false,
     "task": false
    }
   },
   "source": [
    "From `df_n_contracts_tidy`, create a variable named  `unique_months` that should contain all unique values from column `month`.   "
   ]
  },
  {
   "cell_type": "code",
   "execution_count": 6,
   "metadata": {
    "deletable": false,
    "nbgrader": {
     "grade": false,
     "grade_id": "cell-9f592f265bddd5ae",
     "locked": false,
     "schema_version": 3,
     "solution": true,
     "task": false
    }
   },
   "outputs": [
    {
     "name": "stdout",
     "output_type": "stream",
     "text": [
      "['April' 'november' 'JANUARY' 'February' 'Feb.' 'dec' 'September'\n",
      " 'OCTOBER' 'June' 'October' 'DECEMBER' 'jun' 'March' 'August' 'May'\n",
      " 'January' 'APRIL' 'July' 'Jul' 'JAN' 'MARCH']\n"
     ]
    }
   ],
   "source": [
    "unique_months = df_n_contracts_tidy.month.unique()\n",
    "# YOUR CODE HERE\n",
    "\n",
    "#raise NotImplementedError()\n",
    "print(unique_months)"
   ]
  },
  {
   "cell_type": "code",
   "execution_count": 7,
   "metadata": {
    "deletable": false,
    "editable": false,
    "nbgrader": {
     "grade": true,
     "grade_id": "cell-4737f542a3370221",
     "locked": true,
     "points": 1,
     "schema_version": 3,
     "solution": false,
     "task": false
    }
   },
   "outputs": [],
   "source": [
    "assert len(unique_months)\n",
    "assert hashlib.sha256(json.dumps(list(np.sort(unique_months))).encode()).hexdigest() == \"f55c747a7f9c637d933db54143de9ac758b6ed645c602ac0f875a38b340da3f0\""
   ]
  },
  {
   "cell_type": "markdown",
   "metadata": {
    "deletable": false,
    "editable": false,
    "nbgrader": {
     "grade": false,
     "grade_id": "cell-5a5044541062f125",
     "locked": true,
     "schema_version": 3,
     "solution": false,
     "task": false
    }
   },
   "source": [
    "#### Exercise 1.2.2"
   ]
  },
  {
   "cell_type": "markdown",
   "metadata": {
    "deletable": false,
    "editable": false,
    "nbgrader": {
     "grade": false,
     "grade_id": "cell-b8a075820a3d8fc2",
     "locked": true,
     "schema_version": 3,
     "solution": false,
     "task": false
    }
   },
   "source": [
    "Then, create a function called `clean_month` that accepts a dataframe and cleans the values on column `month`. All values should be represented by the first 3 characters in upper case.   \n",
    "Hint: Use method [slice](https://pandas.pydata.org/pandas-docs/stable/reference/api/pandas.Series.str.slice.html#pandas.Series.str.slice)."
   ]
  },
  {
   "cell_type": "code",
   "execution_count": 8,
   "metadata": {
    "deletable": false,
    "nbgrader": {
     "grade": false,
     "grade_id": "cell-654190872d380d94",
     "locked": false,
     "schema_version": 3,
     "solution": true,
     "task": false
    }
   },
   "outputs": [],
   "source": [
    "def clean_month(df: pd.DataFrame)->pd.DataFrame:\n",
    "    \"\"\"\n",
    "    This function cleans the month column\n",
    "    \"\"\"\n",
    "    df_cleaned = copy.copy(df)\n",
    "    \n",
    "    #extract the first 3 characters\n",
    "    df_cleaned[\"month\"] = df_cleaned.month.str[0:3]\n",
    "    \n",
    "    #convert month to upper case\n",
    "    df_cleaned[\"month\"] = df_cleaned.month.str.upper()\n",
    "    \n",
    "    \n",
    "    # YOUR CODE HERE\n",
    "    #raise NotImplementedError()\n",
    "    return df_cleaned"
   ]
  },
  {
   "cell_type": "code",
   "execution_count": 9,
   "metadata": {
    "deletable": false,
    "editable": false,
    "nbgrader": {
     "grade": false,
     "grade_id": "cell-44598924ded72c90",
     "locked": true,
     "schema_version": 3,
     "solution": false,
     "task": false
    }
   },
   "outputs": [
    {
     "data": {
      "text/html": [
       "<div>\n",
       "<style scoped>\n",
       "    .dataframe tbody tr th:only-of-type {\n",
       "        vertical-align: middle;\n",
       "    }\n",
       "\n",
       "    .dataframe tbody tr th {\n",
       "        vertical-align: top;\n",
       "    }\n",
       "\n",
       "    .dataframe thead th {\n",
       "        text-align: right;\n",
       "    }\n",
       "</style>\n",
       "<table border=\"1\" class=\"dataframe\">\n",
       "  <thead>\n",
       "    <tr style=\"text-align: right;\">\n",
       "      <th></th>\n",
       "      <th>month</th>\n",
       "      <th>capital</th>\n",
       "      <th>frequency</th>\n",
       "    </tr>\n",
       "  </thead>\n",
       "  <tbody>\n",
       "    <tr>\n",
       "      <th>26</th>\n",
       "      <td>APR</td>\n",
       "      <td>rome</td>\n",
       "      <td>1496.0</td>\n",
       "    </tr>\n",
       "    <tr>\n",
       "      <th>171</th>\n",
       "      <td>NOV</td>\n",
       "      <td>Lisbon</td>\n",
       "      <td>1486.0</td>\n",
       "    </tr>\n",
       "    <tr>\n",
       "      <th>248</th>\n",
       "      <td>JAN</td>\n",
       "      <td>Milan</td>\n",
       "      <td>1480.0</td>\n",
       "    </tr>\n",
       "    <tr>\n",
       "      <th>228</th>\n",
       "      <td>FEB</td>\n",
       "      <td>Barcelona</td>\n",
       "      <td>1457.0</td>\n",
       "    </tr>\n",
       "    <tr>\n",
       "      <th>223</th>\n",
       "      <td>FEB</td>\n",
       "      <td>Barcelona</td>\n",
       "      <td>1453.0</td>\n",
       "    </tr>\n",
       "  </tbody>\n",
       "</table>\n",
       "</div>"
      ],
      "text/plain": [
       "    month    capital  frequency\n",
       "26    APR       rome     1496.0\n",
       "171   NOV     Lisbon     1486.0\n",
       "248   JAN      Milan     1480.0\n",
       "228   FEB  Barcelona     1457.0\n",
       "223   FEB  Barcelona     1453.0"
      ]
     },
     "execution_count": 9,
     "metadata": {},
     "output_type": "execute_result"
    }
   ],
   "source": [
    "df_cleaned_month = clean_month(df_n_contracts_tidy)\n",
    "df_cleaned_month.head()"
   ]
  },
  {
   "cell_type": "code",
   "execution_count": 10,
   "metadata": {
    "deletable": false,
    "editable": false,
    "nbgrader": {
     "grade": true,
     "grade_id": "cell-6a81915efe720543",
     "locked": true,
     "points": 2,
     "schema_version": 3,
     "solution": false,
     "task": false
    }
   },
   "outputs": [],
   "source": [
    "assert len(np.sort(df_cleaned_month.month.unique())) == 12\n",
    "assert hashlib.sha256(json.dumps(list(np.sort(df_cleaned_month.month.unique()))).encode()).hexdigest() == \"08f40eeac558bcbd1fa0fe9b19c7c74dd0515187f9123777e856072a5c08b73a\"\n",
    "assert df_cleaned_month.month.iloc[36] == \"APR\""
   ]
  },
  {
   "cell_type": "markdown",
   "metadata": {
    "deletable": false,
    "editable": false,
    "nbgrader": {
     "grade": false,
     "grade_id": "cell-7bbdf15db1f47531",
     "locked": true,
     "schema_version": 3,
     "solution": false,
     "task": false
    }
   },
   "source": [
    "#### Exercise 1.2.3"
   ]
  },
  {
   "cell_type": "markdown",
   "metadata": {
    "deletable": false,
    "editable": false,
    "nbgrader": {
     "grade": false,
     "grade_id": "cell-258be5972c93dce8",
     "locked": true,
     "schema_version": 3,
     "solution": false,
     "task": false
    }
   },
   "source": [
    "Assign to a list named `lisbon_values`, all the values on the column capital that represent this city. Return the list sorted in ascending order. "
   ]
  },
  {
   "cell_type": "code",
   "execution_count": 16,
   "metadata": {
    "deletable": false,
    "nbgrader": {
     "grade": false,
     "grade_id": "cell-8f153e68d95f41d5",
     "locked": false,
     "schema_version": 3,
     "solution": true,
     "task": false
    }
   },
   "outputs": [],
   "source": [
    "lisbon_values= list(['Lisbon','LISBON','lisbon, Portugal','Lisboa'])\n",
    "lisbon_values.sort()\n",
    "# YOUR CODE HERE\n",
    "#raise NotImplementedError()"
   ]
  },
  {
   "cell_type": "code",
   "execution_count": 17,
   "metadata": {
    "deletable": false,
    "editable": false,
    "nbgrader": {
     "grade": true,
     "grade_id": "cell-43471b81bfbab980",
     "locked": true,
     "points": 1,
     "schema_version": 3,
     "solution": false,
     "task": false
    }
   },
   "outputs": [],
   "source": [
    "assert len(lisbon_values) == 4\n",
    "assert lisbon_values[0] == \"LISBON\"\n",
    "assert hashlib.sha256(json.dumps(lisbon_values).encode()).hexdigest() == \"aafabf9270c0429775eb3bf7c1d9b6b7ea9139f8a77392b286d0f8fbd56826c1\""
   ]
  },
  {
   "cell_type": "code",
   "execution_count": 18,
   "metadata": {},
   "outputs": [
    {
     "data": {
      "text/html": [
       "<div>\n",
       "<style scoped>\n",
       "    .dataframe tbody tr th:only-of-type {\n",
       "        vertical-align: middle;\n",
       "    }\n",
       "\n",
       "    .dataframe tbody tr th {\n",
       "        vertical-align: top;\n",
       "    }\n",
       "\n",
       "    .dataframe thead th {\n",
       "        text-align: right;\n",
       "    }\n",
       "</style>\n",
       "<table border=\"1\" class=\"dataframe\">\n",
       "  <thead>\n",
       "    <tr style=\"text-align: right;\">\n",
       "      <th></th>\n",
       "      <th>month</th>\n",
       "      <th>capital</th>\n",
       "      <th>frequency</th>\n",
       "    </tr>\n",
       "  </thead>\n",
       "  <tbody>\n",
       "    <tr>\n",
       "      <th>26</th>\n",
       "      <td>APR</td>\n",
       "      <td>rome</td>\n",
       "      <td>1496.0</td>\n",
       "    </tr>\n",
       "    <tr>\n",
       "      <th>171</th>\n",
       "      <td>NOV</td>\n",
       "      <td>Lisbon</td>\n",
       "      <td>1486.0</td>\n",
       "    </tr>\n",
       "    <tr>\n",
       "      <th>248</th>\n",
       "      <td>JAN</td>\n",
       "      <td>Milan</td>\n",
       "      <td>1480.0</td>\n",
       "    </tr>\n",
       "    <tr>\n",
       "      <th>228</th>\n",
       "      <td>FEB</td>\n",
       "      <td>Barcelona</td>\n",
       "      <td>1457.0</td>\n",
       "    </tr>\n",
       "    <tr>\n",
       "      <th>223</th>\n",
       "      <td>FEB</td>\n",
       "      <td>Barcelona</td>\n",
       "      <td>1453.0</td>\n",
       "    </tr>\n",
       "  </tbody>\n",
       "</table>\n",
       "</div>"
      ],
      "text/plain": [
       "    month    capital  frequency\n",
       "26    APR       rome     1496.0\n",
       "171   NOV     Lisbon     1486.0\n",
       "248   JAN      Milan     1480.0\n",
       "228   FEB  Barcelona     1457.0\n",
       "223   FEB  Barcelona     1453.0"
      ]
     },
     "execution_count": 18,
     "metadata": {},
     "output_type": "execute_result"
    }
   ],
   "source": [
    "df_cleaned_month.head()"
   ]
  },
  {
   "cell_type": "code",
   "execution_count": null,
   "metadata": {},
   "outputs": [],
   "source": []
  },
  {
   "cell_type": "code",
   "execution_count": null,
   "metadata": {},
   "outputs": [],
   "source": []
  },
  {
   "cell_type": "markdown",
   "metadata": {
    "deletable": false,
    "editable": false,
    "nbgrader": {
     "grade": false,
     "grade_id": "cell-b9a435d3cab6fb69",
     "locked": true,
     "schema_version": 3,
     "solution": false,
     "task": false
    }
   },
   "source": [
    "#### Exercise 1.2.4"
   ]
  },
  {
   "cell_type": "markdown",
   "metadata": {
    "deletable": false,
    "editable": false,
    "nbgrader": {
     "grade": false,
     "grade_id": "cell-9a47ad11534696ea",
     "locked": true,
     "schema_version": 3,
     "solution": false,
     "task": false
    }
   },
   "source": [
    "Now is time to clean capitals. They should be with first character in upper case and the remainings in lower case. Also, we need to handle the following problems.\n",
    "\n",
    "- Capitals should be written in English;\n",
    "- Rows with cities that don't represent capitals should be removed from the dataframe;\n",
    "- References to countries should be removed;\n",
    "\n",
    "Create a function named `clean_capitals` that accepts a dataframe and cleans the column `capital`."
   ]
  },
  {
   "cell_type": "code",
   "execution_count": 52,
   "metadata": {
    "deletable": false,
    "nbgrader": {
     "grade": false,
     "grade_id": "cell-f246bde927a61f3c",
     "locked": false,
     "schema_version": 3,
     "solution": true,
     "task": false
    }
   },
   "outputs": [],
   "source": [
    "def clean_capitals(df: pd.DataFrame)->pd.DataFrame:\n",
    "    \"\"\"\n",
    "    This function cleans the capital column\n",
    "    \"\"\"\n",
    "    df_cleaned = copy.copy(df)\n",
    "    \n",
    "    #remove country reference\n",
    "    df_cleaned[\"capital\"] = df_cleaned.capital.replace({'lisbon, Portugal':'lisbon','paris, france':'paris'})              \n",
    "    \n",
    "    #clean formating capital, CAPITAL -> Capital\n",
    "    df_cleaned[\"capital\"] = df_cleaned.capital.replace({'rome':'Rome', 'MADRID':'Madrid', 'madrid':'Madrid','LISBON':'Lisbon', 'lisbon':'Lisbon', 'paris':'Paris',\n",
    "       'BERLIN':'Berlin', 'budapest':'Budapest','Lisboa':'Lisboa'})\n",
    "    \n",
    "    #replace cities that are not capitals by \"invalid\"\n",
    "    df_cleaned[\"capital\"] = df_cleaned.capital.replace({'Milan':'invalid','Barcelona':'invalid'})\n",
    "    #write all the capitals in english\n",
    "    df_cleaned[\"capital\"] = df_cleaned.capital.replace({'Roma':'Rome','Lisboa':'Lisbon'}) \n",
    "    #df_cleaned[\"capital\"] = df_cleaned.capital.duplicated(keep='first')\n",
    "    #df_cleaned = df_cleaned.capitaldrop_duplicates()\n",
    "    #df_cleaned.capital = df_cleaned.capital.str.strip()\n",
    "    #df_cleaned[\"capital\"] = df_cleaned.capital.replace('invalid',np.nan)\n",
    "    df_cleaned[\"capital\"] = df_cleaned.capital.dropna(axis=0)\n",
    "    #df_cleaned[\"capital\"] = df_cleaned.capital.drop((df_cleaned.capital=='invalid').index,axis=0)\n",
    "    \n",
    "    # YOUR CODE HERE\n",
    "    #raise NotImplementedError()\n",
    "    return df_cleaned"
   ]
  },
  {
   "cell_type": "code",
   "execution_count": 53,
   "metadata": {},
   "outputs": [
    {
     "data": {
      "text/plain": [
       "array(['Rome', 'Lisbon', 'invalid', 'Madrid', 'Budapest', 'Paris',\n",
       "       'Berlin'], dtype=object)"
      ]
     },
     "execution_count": 53,
     "metadata": {},
     "output_type": "execute_result"
    }
   ],
   "source": [
    "df_cleaned_month_capital = clean_capitals(df_cleaned_month)\n",
    "df_cleaned_month_capital.capital.unique()"
   ]
  },
  {
   "cell_type": "code",
   "execution_count": 26,
   "metadata": {},
   "outputs": [
    {
     "data": {
      "text/plain": [
       "array([False, nan, True], dtype=object)"
      ]
     },
     "execution_count": 26,
     "metadata": {},
     "output_type": "execute_result"
    }
   ],
   "source": [
    "df_cleaned_month_capital.capital.unique()"
   ]
  },
  {
   "cell_type": "code",
   "execution_count": null,
   "metadata": {
    "deletable": false,
    "editable": false,
    "nbgrader": {
     "grade": true,
     "grade_id": "cell-484c1cb6a1115f36",
     "locked": true,
     "points": 2,
     "schema_version": 3,
     "solution": false,
     "task": false
    }
   },
   "outputs": [],
   "source": [
    "assert len(np.sort(df_cleaned_month_capital.capital.unique())) == 6\n",
    "assert hashlib.sha256(json.dumps(list(np.sort(df_cleaned_month_capital.capital.unique()))).encode()).hexdigest()==\"48660e0bc5eead63cba5e5ea19b31cf992bb63b5f027f7e7a4fe33793029640d\"\n",
    "assert df_cleaned_month_capital.capital.iloc[50] == 'Paris'"
   ]
  },
  {
   "cell_type": "markdown",
   "metadata": {
    "deletable": false,
    "editable": false,
    "nbgrader": {
     "grade": false,
     "grade_id": "cell-b1ac2ff3e1501f8e",
     "locked": true,
     "schema_version": 3,
     "solution": false,
     "task": false
    }
   },
   "source": [
    "### Exercise 1.3"
   ]
  },
  {
   "cell_type": "markdown",
   "metadata": {
    "deletable": false,
    "editable": false,
    "nbgrader": {
     "grade": false,
     "grade_id": "cell-e9da63656d1ba4c0",
     "locked": true,
     "schema_version": 3,
     "solution": false,
     "task": false
    }
   },
   "source": [
    "#### Exercise 1.3.1"
   ]
  },
  {
   "cell_type": "markdown",
   "metadata": {
    "deletable": false,
    "editable": false,
    "nbgrader": {
     "grade": false,
     "grade_id": "cell-cb9b7a25c6d80679",
     "locked": true,
     "schema_version": 3,
     "solution": false,
     "task": false
    }
   },
   "source": [
    "Calculate the number of missing values on column `frequency` from `df_cleaned_month_capital`, and assign it to variable `n_missing_frequency`."
   ]
  },
  {
   "cell_type": "code",
   "execution_count": null,
   "metadata": {
    "deletable": false,
    "nbgrader": {
     "grade": false,
     "grade_id": "cell-132f65478776e98b",
     "locked": false,
     "schema_version": 3,
     "solution": true,
     "task": false
    }
   },
   "outputs": [],
   "source": [
    "n_missing_frequency = df_cleaned_month_capital.frequency.isnull().sum()\n",
    "# YOUR CODE HERE\n",
    "#raise NotImplementedError()\n",
    "print(n_missing_frequency)"
   ]
  },
  {
   "cell_type": "code",
   "execution_count": null,
   "metadata": {
    "deletable": false,
    "editable": false,
    "nbgrader": {
     "grade": true,
     "grade_id": "cell-b49c6f521410033b",
     "locked": true,
     "points": 1,
     "schema_version": 3,
     "solution": false,
     "task": false
    }
   },
   "outputs": [],
   "source": [
    "assert hashlib.sha256(json.dumps(int(n_missing_frequency)).encode()).hexdigest() == \"b1556dea32e9d0cdbfed038fd7787275775ea40939c146a64e205bcb349ad02f\""
   ]
  },
  {
   "cell_type": "markdown",
   "metadata": {
    "deletable": false,
    "editable": false,
    "nbgrader": {
     "grade": false,
     "grade_id": "cell-c0293b61a623e715",
     "locked": true,
     "schema_version": 3,
     "solution": false,
     "task": false
    }
   },
   "source": [
    "#### Exercise 1.3.2"
   ]
  },
  {
   "cell_type": "markdown",
   "metadata": {
    "deletable": false,
    "editable": false,
    "nbgrader": {
     "grade": false,
     "grade_id": "cell-d6baa9761cf2c71f",
     "locked": true,
     "schema_version": 3,
     "solution": false,
     "task": false
    }
   },
   "source": [
    "In this context, missing values on `frequency` means that there are no contracts done.\n",
    "Replace missing values on the column `frequency`, from `df_cleaned_month_capital` DataFrame, with the value you think is more accurate."
   ]
  },
  {
   "cell_type": "code",
   "execution_count": null,
   "metadata": {
    "deletable": false,
    "nbgrader": {
     "grade": false,
     "grade_id": "cell-e43e61b258dc65a9",
     "locked": false,
     "schema_version": 3,
     "solution": true,
     "task": false
    }
   },
   "outputs": [],
   "source": [
    "#df_cleaned_month_capital[\"frequency\"] = ...\n",
    "# YOUR CODE HERE\n",
    "raise NotImplementedError()"
   ]
  },
  {
   "cell_type": "code",
   "execution_count": null,
   "metadata": {
    "deletable": false,
    "editable": false,
    "nbgrader": {
     "grade": true,
     "grade_id": "cell-8321aa6f33357485",
     "locked": true,
     "points": 1,
     "schema_version": 3,
     "solution": false,
     "task": false
    }
   },
   "outputs": [],
   "source": [
    "assert np.nan not  in df_cleaned_month_capital.frequency\n",
    "assert hashlib.sha256(json.dumps(int(df_cleaned_month_capital.frequency.iloc[135])).encode()).hexdigest()==\"6d976934be74941fba578b143ba964eded443d10384e3f3d62a1ba7b4d339df8\""
   ]
  },
  {
   "cell_type": "markdown",
   "metadata": {},
   "source": [
    "The dataset regarding the number of contracts done in european capitals is now ready for the study!"
   ]
  },
  {
   "cell_type": "code",
   "execution_count": null,
   "metadata": {},
   "outputs": [],
   "source": [
    "df_cleaned_month_capital.head()"
   ]
  },
  {
   "cell_type": "markdown",
   "metadata": {
    "deletable": false,
    "editable": false,
    "nbgrader": {
     "grade": false,
     "grade_id": "cell-a10f72837441e7d9",
     "locked": true,
     "schema_version": 3,
     "solution": false,
     "task": false
    }
   },
   "source": [
    "## Exercise 2"
   ]
  },
  {
   "cell_type": "markdown",
   "metadata": {
    "deletable": false,
    "editable": false,
    "nbgrader": {
     "grade": false,
     "grade_id": "cell-be7ab5928218bb67",
     "locked": true,
     "schema_version": 3,
     "solution": false,
     "task": false
    }
   },
   "source": [
    "For this research, there is also another dataset, `df_contracts_agency`, that has information regarding each contract done and the agency responsible for it."
   ]
  },
  {
   "cell_type": "code",
   "execution_count": null,
   "metadata": {
    "deletable": false,
    "editable": false,
    "nbgrader": {
     "grade": false,
     "grade_id": "cell-6c7a764338295ea9",
     "locked": true,
     "schema_version": 3,
     "solution": false,
     "task": false
    }
   },
   "outputs": [],
   "source": [
    "df_contracts_agency = pd.read_csv(os.path.join('data', 'contracts_agency.csv'), index_col=0)\n",
    "df_contracts_agency.head()"
   ]
  },
  {
   "cell_type": "markdown",
   "metadata": {},
   "source": [
    "### Exercise 2.1"
   ]
  },
  {
   "cell_type": "markdown",
   "metadata": {},
   "source": [
    "#### Exercise 2.1.1"
   ]
  },
  {
   "cell_type": "markdown",
   "metadata": {
    "deletable": false,
    "editable": false,
    "nbgrader": {
     "grade": false,
     "grade_id": "cell-338ea049149a41f0",
     "locked": true,
     "schema_version": 3,
     "solution": false,
     "task": false
    }
   },
   "source": [
    "Start by cleaning the column names on `df_contracts_agency`.    \n",
    "Create a function named `clean_column_names`. It must accept a DataFrame and clean the column names.   \n",
    "\n",
    "Hint: Use [rename](https://pandas.pydata.org/pandas-docs/stable/reference/api/pandas.DataFrame.rename.html) method."
   ]
  },
  {
   "cell_type": "code",
   "execution_count": null,
   "metadata": {
    "deletable": false,
    "nbgrader": {
     "grade": false,
     "grade_id": "cell-df36153b8a3ad711",
     "locked": false,
     "schema_version": 3,
     "solution": true,
     "task": false
    }
   },
   "outputs": [],
   "source": [
    "def clean_column_names(df: pd.DataFrame)->pd.DataFrame:\n",
    "    \"\"\"\n",
    "    cleans the column names of a DataFrame\n",
    "    \n",
    "    \"\"\"\n",
    "    \n",
    "    df_cleaned = copy.copy(df)\n",
    "    \n",
    "    #dataframe with column names cleaned\n",
    "    df_cleaned = df.rename(columns={\"loc^ation\": \"location\", \"rat^e\": \"rate\", \"ho~use_type\":\"house_type\"})\n",
    "    \n",
    "    # YOUR CODE HERE\n",
    "    #raise NotImplementedError()\n",
    "    return df_cleaned"
   ]
  },
  {
   "cell_type": "code",
   "execution_count": null,
   "metadata": {
    "deletable": false,
    "editable": false,
    "nbgrader": {
     "grade": false,
     "grade_id": "cell-3d2f03c3677940b2",
     "locked": true,
     "schema_version": 3,
     "solution": false,
     "task": false
    }
   },
   "outputs": [],
   "source": [
    "df_contracts_agency_col_cleaned = clean_column_names(df_contracts_agency)\n",
    "df_contracts_agency_col_cleaned.columns"
   ]
  },
  {
   "cell_type": "code",
   "execution_count": null,
   "metadata": {
    "deletable": false,
    "editable": false,
    "nbgrader": {
     "grade": true,
     "grade_id": "cell-00b759b04ea40d00",
     "locked": true,
     "points": 1,
     "schema_version": 3,
     "solution": false,
     "task": false
    }
   },
   "outputs": [],
   "source": [
    "assert hashlib.sha256(json.dumps(list(df_contracts_agency_col_cleaned.columns.sort_values())).encode()).hexdigest() == \"87c3c0eff5259a91020d64ab00e1c829101115954c032e4c4e8bead101782770\""
   ]
  },
  {
   "cell_type": "markdown",
   "metadata": {
    "deletable": false,
    "editable": false,
    "nbgrader": {
     "grade": false,
     "grade_id": "cell-3ade8a0a1613daac",
     "locked": true,
     "schema_version": 3,
     "solution": false,
     "task": false
    }
   },
   "source": [
    "#### Exercise 2.1.2"
   ]
  },
  {
   "cell_type": "markdown",
   "metadata": {
    "deletable": false,
    "editable": false,
    "nbgrader": {
     "grade": false,
     "grade_id": "cell-5e5109df4df62982",
     "locked": true,
     "schema_version": 3,
     "solution": false,
     "task": false
    }
   },
   "source": [
    "Create a function named `split_location` that should split the column `location` in two distinct columns, `city` and `country`. After creating these columns, drop the column `location`. "
   ]
  },
  {
   "cell_type": "code",
   "execution_count": null,
   "metadata": {
    "deletable": false,
    "nbgrader": {
     "grade": false,
     "grade_id": "cell-ac6d3d1d65b98ee9",
     "locked": false,
     "schema_version": 3,
     "solution": true,
     "task": false
    }
   },
   "outputs": [],
   "source": [
    "def split_location(df: pd.DataFrame)->pd.DataFrame:\n",
    "    \"\"\"\n",
    "    Creation of city and country columns from location column\n",
    "    \n",
    "    \"\"\"\n",
    "    \n",
    "    df_cleaned = copy.copy(df)\n",
    "    \n",
    "    #DataFrame with column city and country\n",
    "    #city_country = df_cleaned[['city','country']]\n",
    "    \n",
    "    #add city and country to df_cleaned\n",
    "    city_country  = df_cleaned.location.str.split(pat=',', expand=True)\n",
    "    city_country.columns = ['city', 'country']\n",
    "    df_cleaned = df_cleaned.drop('location',axis = 1)\n",
    "    pd.concat([df_cleaned,city_country],axis =1)\n",
    "    \n",
    "    #drop location\n",
    "    \n",
    "    # YOUR CODE HERE\n",
    "    #raise NotImplementedError()\n",
    "    return pd.concat([city_country,df_cleaned],axis = 1)"
   ]
  },
  {
   "cell_type": "code",
   "execution_count": null,
   "metadata": {
    "deletable": false,
    "editable": false,
    "nbgrader": {
     "grade": false,
     "grade_id": "cell-f8377df04c0a11d7",
     "locked": true,
     "schema_version": 3,
     "solution": false,
     "task": false
    }
   },
   "outputs": [],
   "source": [
    "df_contracts_agency_split_loc = split_location(df_contracts_agency_col_cleaned)\n",
    "df_contracts_agency_split_loc.head()"
   ]
  },
  {
   "cell_type": "code",
   "execution_count": null,
   "metadata": {
    "deletable": false,
    "editable": false,
    "nbgrader": {
     "grade": true,
     "grade_id": "cell-58b7ac4083009d64",
     "locked": true,
     "points": 2,
     "schema_version": 3,
     "solution": false,
     "task": false
    }
   },
   "outputs": [],
   "source": [
    "assert df_contracts_agency_split_loc.shape[1] == 9\n",
    "assert hashlib.sha256(json.dumps(list(df_contracts_agency_split_loc.columns.sort_values())).encode()).hexdigest() == \"205332ef1f32072786e8c17b447ee5afda1ab18f833d47afc7c752a63e914d34\"\n",
    "assert \"Paris\" in df_contracts_agency_split_loc.city.values\n",
    "assert \"France\" in df_contracts_agency_split_loc.country.values"
   ]
  },
  {
   "cell_type": "markdown",
   "metadata": {
    "deletable": false,
    "editable": false,
    "nbgrader": {
     "grade": false,
     "grade_id": "cell-d66cfb6819a15e36",
     "locked": true,
     "schema_version": 3,
     "solution": false,
     "task": false
    }
   },
   "source": [
    "#### Exercise 2.1.3"
   ]
  },
  {
   "cell_type": "markdown",
   "metadata": {
    "deletable": false,
    "editable": false,
    "nbgrader": {
     "grade": false,
     "grade_id": "cell-33ea79c64f380743",
     "locked": true,
     "schema_version": 3,
     "solution": false,
     "task": false
    }
   },
   "source": [
    "From DataFrame `df_contracts_agency_split_loc`, create two DataFrames, `df_agencies` and `df_contract` with the information regarding agencies and contracts, respectively.\n",
    "\n",
    "Note: Because each agency only acts on one `location`, this information is relevant for both agencies and contracts. Also, `agency_id` acts as a bridge between both DataFrames."
   ]
  },
  {
   "cell_type": "code",
   "execution_count": null,
   "metadata": {
    "deletable": false,
    "nbgrader": {
     "grade": false,
     "grade_id": "cell-8d56a6c71b984622",
     "locked": false,
     "schema_version": 3,
     "solution": true,
     "task": false
    }
   },
   "outputs": [],
   "source": [
    "#df_agencies = ...\n",
    "#df_contracts = ...\n",
    "\n",
    "# YOUR CODE HERE\n",
    "raise NotImplementedError()"
   ]
  },
  {
   "cell_type": "code",
   "execution_count": null,
   "metadata": {
    "deletable": false,
    "editable": false,
    "nbgrader": {
     "grade": false,
     "grade_id": "cell-cf09cfc1776d182d",
     "locked": true,
     "schema_version": 3,
     "solution": false,
     "task": false
    }
   },
   "outputs": [],
   "source": [
    "df_agencies.head()"
   ]
  },
  {
   "cell_type": "code",
   "execution_count": null,
   "metadata": {
    "deletable": false,
    "editable": false,
    "nbgrader": {
     "grade": false,
     "grade_id": "cell-9a8c0eda04b6e6d3",
     "locked": true,
     "schema_version": 3,
     "solution": false,
     "task": false
    }
   },
   "outputs": [],
   "source": [
    "df_contracts.head()"
   ]
  },
  {
   "cell_type": "code",
   "execution_count": null,
   "metadata": {
    "deletable": false,
    "editable": false,
    "nbgrader": {
     "grade": true,
     "grade_id": "cell-1705f5c6edf7c729",
     "locked": true,
     "points": 1,
     "schema_version": 3,
     "solution": false,
     "task": false
    }
   },
   "outputs": [],
   "source": [
    "assert df_agencies.shape[1]==4\n",
    "assert hashlib.sha256(json.dumps(list(df_agencies.columns.sort_values())).encode()).hexdigest() == \"2b20996c7aa3736584469b70378c0992d0fed7cdf36eb20ed205d01f1da09fc2\"\n",
    "assert df_contracts.shape[1]==8\n",
    "assert hashlib.sha256(json.dumps(list(df_contracts.columns.sort_values())).encode()).hexdigest() == \"5218fd4b0183d357cc438c32fe97119521e4f4c863a89848cec275098a04c170\""
   ]
  },
  {
   "cell_type": "markdown",
   "metadata": {
    "deletable": false,
    "editable": false,
    "nbgrader": {
     "grade": false,
     "grade_id": "cell-2f1880fe13d88035",
     "locked": true,
     "schema_version": 3,
     "solution": false,
     "task": false
    }
   },
   "source": [
    "### Exercise 2.2"
   ]
  },
  {
   "cell_type": "markdown",
   "metadata": {
    "deletable": false,
    "editable": false,
    "nbgrader": {
     "grade": false,
     "grade_id": "cell-3e075797bea720f3",
     "locked": true,
     "schema_version": 3,
     "solution": false,
     "task": false
    }
   },
   "source": [
    "Now let's clean the datasets `df_agencies`and `df_contracts`.   "
   ]
  },
  {
   "cell_type": "markdown",
   "metadata": {
    "deletable": false,
    "editable": false,
    "nbgrader": {
     "grade": false,
     "grade_id": "cell-c03be3e3d4346b25",
     "locked": true,
     "schema_version": 3,
     "solution": false,
     "task": false
    }
   },
   "source": [
    "#### Exercise 2.2.1"
   ]
  },
  {
   "cell_type": "markdown",
   "metadata": {
    "deletable": false,
    "editable": false,
    "nbgrader": {
     "grade": false,
     "grade_id": "cell-d811c66e1a0af3e3",
     "locked": true,
     "schema_version": 3,
     "solution": false,
     "task": false
    }
   },
   "source": [
    "Let's start by cleaning `df_agencies` following the instructions below. "
   ]
  },
  {
   "cell_type": "markdown",
   "metadata": {
    "deletable": false,
    "editable": false,
    "nbgrader": {
     "grade": false,
     "grade_id": "cell-9268b2946ac1f4f2",
     "locked": true,
     "schema_version": 3,
     "solution": false,
     "task": false
    }
   },
   "source": [
    "#### Exercise 2.2.1.1"
   ]
  },
  {
   "cell_type": "markdown",
   "metadata": {
    "deletable": false,
    "editable": false,
    "nbgrader": {
     "grade": false,
     "grade_id": "cell-30d9dabd2ee4a5b6",
     "locked": true,
     "schema_version": 3,
     "solution": false,
     "task": false
    }
   },
   "source": [
    "One agency can only have one rate. Create a sorted (ascending) list named `agencies_with_multiple_rates` with unique agencies id's that have more than one rate assigned."
   ]
  },
  {
   "cell_type": "code",
   "execution_count": null,
   "metadata": {
    "deletable": false,
    "nbgrader": {
     "grade": false,
     "grade_id": "cell-817edce5709dacf6",
     "locked": false,
     "schema_version": 3,
     "solution": true,
     "task": false
    }
   },
   "outputs": [],
   "source": [
    "#agencies_with_multiple_rates = ...\n",
    "# YOUR CODE HERE\n",
    "raise NotImplementedError()"
   ]
  },
  {
   "cell_type": "code",
   "execution_count": null,
   "metadata": {
    "deletable": false,
    "editable": false,
    "nbgrader": {
     "grade": true,
     "grade_id": "cell-3641ac3b812eeef6",
     "locked": true,
     "points": 1,
     "schema_version": 3,
     "solution": false,
     "task": false
    }
   },
   "outputs": [],
   "source": [
    "assert isinstance(agencies_with_multiple_rates, list)\n",
    "assert len(agencies_with_multiple_rates) == 7, \"did you check for duplicates?\"\n",
    "assert hashlib.sha256(json.dumps(agencies_with_multiple_rates).encode()).hexdigest() == \"fe0b48f998e1cc9cb96dddce1aaf4607765824f0ff98a69d86b6d1341970e82a\""
   ]
  },
  {
   "cell_type": "markdown",
   "metadata": {
    "deletable": false,
    "editable": false,
    "nbgrader": {
     "grade": false,
     "grade_id": "cell-01d544e34b3a9553",
     "locked": true,
     "schema_version": 3,
     "solution": false,
     "task": false
    }
   },
   "source": [
    "#### Exercise 2.2.1.2"
   ]
  },
  {
   "cell_type": "markdown",
   "metadata": {
    "deletable": false,
    "editable": false,
    "nbgrader": {
     "grade": false,
     "grade_id": "cell-0fc81ce7e06c035a",
     "locked": true,
     "schema_version": 3,
     "solution": false,
     "task": false
    }
   },
   "source": [
    "Create a dataframe named `df_agencies_cleaned` from the dataframe `df_agencies`, and replace the rates for `agencies_with_multiple_rates` by the mean.   \n",
    "\n",
    "Hint: Use the function [isin](https://numpy.org/devdocs/reference/generated/numpy.isin.html) to filter the agencies that have multiple rates."
   ]
  },
  {
   "cell_type": "code",
   "execution_count": null,
   "metadata": {
    "deletable": false,
    "nbgrader": {
     "grade": false,
     "grade_id": "cell-89eca0e3226bb573",
     "locked": false,
     "schema_version": 3,
     "solution": true,
     "task": false
    }
   },
   "outputs": [],
   "source": [
    "# df_agencies_cleaned = ...\n",
    "\n",
    "# YOUR CODE HERE\n",
    "raise NotImplementedError()"
   ]
  },
  {
   "cell_type": "code",
   "execution_count": null,
   "metadata": {
    "deletable": false,
    "editable": false,
    "nbgrader": {
     "grade": false,
     "grade_id": "cell-f5f6971f765503b2",
     "locked": true,
     "schema_version": 3,
     "solution": false,
     "task": false
    }
   },
   "outputs": [],
   "source": [
    "df_agencies_cleaned.head()"
   ]
  },
  {
   "cell_type": "code",
   "execution_count": null,
   "metadata": {
    "deletable": false,
    "editable": false,
    "nbgrader": {
     "grade": true,
     "grade_id": "cell-51261c328bc89633",
     "locked": true,
     "points": 2,
     "schema_version": 3,
     "solution": false,
     "task": false
    }
   },
   "outputs": [],
   "source": [
    "assert int(df_agencies_cleaned.rate.sum()) == 1336"
   ]
  },
  {
   "cell_type": "markdown",
   "metadata": {
    "deletable": false,
    "editable": false,
    "nbgrader": {
     "grade": false,
     "grade_id": "cell-2fe904a081f31315",
     "locked": true,
     "schema_version": 3,
     "solution": false,
     "task": false
    }
   },
   "source": [
    "#### Exercise 2.2.1.3"
   ]
  },
  {
   "cell_type": "markdown",
   "metadata": {
    "deletable": false,
    "editable": false,
    "nbgrader": {
     "grade": false,
     "grade_id": "cell-d99738627d561dfb",
     "locked": true,
     "schema_version": 3,
     "solution": false,
     "task": false
    }
   },
   "source": [
    "Drop the duplicated rows on `df_agencies_cleaned` dataframe and assign it to a new dataframe called `df_agencies_no_duplicates`. "
   ]
  },
  {
   "cell_type": "code",
   "execution_count": null,
   "metadata": {
    "deletable": false,
    "nbgrader": {
     "grade": false,
     "grade_id": "cell-8e9585e055253aeb",
     "locked": false,
     "schema_version": 3,
     "solution": true,
     "task": false
    }
   },
   "outputs": [],
   "source": [
    "#df_agencies_no_duplicates = ...\n",
    "# YOUR CODE HERE\n",
    "raise NotImplementedError()"
   ]
  },
  {
   "cell_type": "code",
   "execution_count": null,
   "metadata": {
    "deletable": false,
    "editable": false,
    "nbgrader": {
     "grade": true,
     "grade_id": "cell-b5d52b47c34df83e",
     "locked": true,
     "points": 1,
     "schema_version": 3,
     "solution": false,
     "task": false
    }
   },
   "outputs": [],
   "source": [
    "assert df_agencies_no_duplicates.shape[0] == 25"
   ]
  },
  {
   "cell_type": "markdown",
   "metadata": {
    "deletable": false,
    "editable": false,
    "nbgrader": {
     "grade": false,
     "grade_id": "cell-173ab595d66cdff9",
     "locked": true,
     "schema_version": 3,
     "solution": false,
     "task": false
    }
   },
   "source": [
    "The dataset with information regarding the agencies of european capitals is now ready for the study!"
   ]
  },
  {
   "cell_type": "code",
   "execution_count": null,
   "metadata": {
    "deletable": false,
    "editable": false,
    "nbgrader": {
     "grade": false,
     "grade_id": "cell-4918ca17669b19d9",
     "locked": true,
     "schema_version": 3,
     "solution": false,
     "task": false
    }
   },
   "outputs": [],
   "source": [
    "df_agencies_no_duplicates.head()"
   ]
  },
  {
   "cell_type": "markdown",
   "metadata": {
    "deletable": false,
    "editable": false,
    "nbgrader": {
     "grade": false,
     "grade_id": "cell-e16868d4303fd7b0",
     "locked": true,
     "schema_version": 3,
     "solution": false,
     "task": false
    }
   },
   "source": [
    "#### Exercise 2.2.2"
   ]
  },
  {
   "cell_type": "markdown",
   "metadata": {
    "deletable": false,
    "editable": false,
    "nbgrader": {
     "grade": false,
     "grade_id": "cell-b1281cc7d7f77e59",
     "locked": true,
     "schema_version": 3,
     "solution": false,
     "task": false
    }
   },
   "source": [
    "Clean `df_contracts` following the same instructions.   \n",
    "Hint: Look closely to unique values of the features that are not id's. "
   ]
  },
  {
   "cell_type": "markdown",
   "metadata": {
    "deletable": false,
    "editable": false,
    "nbgrader": {
     "grade": false,
     "grade_id": "cell-e92c110fd90f926d",
     "locked": true,
     "schema_version": 3,
     "solution": false,
     "task": false
    }
   },
   "source": [
    "Problems that you need to handle:    \n",
    "- Inconsistent values should be handle as missing values;   \n",
    "\n",
    "After dealing with these entry problems:\n",
    "- Drop duplicated observations;   \n",
    "- Missing values for categorical features should be replaced by `unknown`;\n",
    "- Missing values for numerical features should be replaced by the mean;\n",
    "\n",
    "Create a function named `clean_contracts` that applies these operations on a dataframe.   \n",
    "\n",
    "Hint: Check the distribution of values for the column rent. Are there values too low or too high? If yes, does it look like data entry problems?   \n",
    "Hint: For categorical values, check if there are strings that are actually representing missing values."
   ]
  },
  {
   "cell_type": "code",
   "execution_count": null,
   "metadata": {
    "deletable": false,
    "editable": false,
    "nbgrader": {
     "grade": false,
     "grade_id": "cell-a356f6c26514b4ec",
     "locked": true,
     "schema_version": 3,
     "solution": false,
     "task": false
    }
   },
   "outputs": [],
   "source": [
    "df_contracts.head()"
   ]
  },
  {
   "cell_type": "code",
   "execution_count": null,
   "metadata": {},
   "outputs": [],
   "source": [
    "df_contracts.rent.unique()"
   ]
  },
  {
   "cell_type": "code",
   "execution_count": null,
   "metadata": {
    "deletable": false,
    "nbgrader": {
     "grade": false,
     "grade_id": "cell-0924fe5ec50f02b6",
     "locked": false,
     "schema_version": 3,
     "solution": true,
     "task": false
    }
   },
   "outputs": [],
   "source": [
    "def clean_contracts(df: pd.DataFrame)->pd.DataFrame:\n",
    "    \n",
    "    df_cleaned = copy.copy(df)\n",
    "   \n",
    "    #df_cleaned= ...\n",
    "    \n",
    "    # YOUR CODE HERE\n",
    "    raise NotImplementedError()\n",
    "    return df_cleaned"
   ]
  },
  {
   "cell_type": "code",
   "execution_count": null,
   "metadata": {
    "deletable": false,
    "editable": false,
    "nbgrader": {
     "grade": false,
     "grade_id": "cell-67bbde086ae09509",
     "locked": true,
     "schema_version": 3,
     "solution": false,
     "task": false
    }
   },
   "outputs": [],
   "source": [
    "df_contracts_cleaned = clean_contracts(df_contracts)\n",
    "df_contracts_cleaned.head()"
   ]
  },
  {
   "cell_type": "code",
   "execution_count": null,
   "metadata": {
    "deletable": false,
    "editable": false,
    "nbgrader": {
     "grade": true,
     "grade_id": "cell-0e6ff7c706379b5e",
     "locked": true,
     "points": 2,
     "schema_version": 3,
     "solution": false,
     "task": false
    }
   },
   "outputs": [],
   "source": [
    "house_types = sorted(df_contracts_cleaned.house_type.unique())\n",
    "house_types.sort()\n",
    "assert len(house_types) == 3\n",
    "assert hashlib.sha256(json.dumps(house_types).encode()).hexdigest() == \"2f9da7a5b1ba79b47b611b9af1fc779cd0c22547f02778d4984bd190b70b5d05\"\n",
    "assert df_contracts_cleaned.shape == (500, 8)\n",
    "assert int(df_contracts_cleaned.rent.sum())==321228"
   ]
  },
  {
   "cell_type": "markdown",
   "metadata": {
    "deletable": false,
    "editable": false,
    "nbgrader": {
     "grade": false,
     "grade_id": "cell-c925bcc61c51bcf0",
     "locked": true,
     "schema_version": 3,
     "solution": false,
     "task": false
    }
   },
   "source": [
    "The dataset with information regarding the agencies of european capitals is now ready for the study!"
   ]
  },
  {
   "cell_type": "code",
   "execution_count": null,
   "metadata": {
    "deletable": false,
    "editable": false,
    "nbgrader": {
     "grade": false,
     "grade_id": "cell-2617e750f782b193",
     "locked": true,
     "schema_version": 3,
     "solution": false,
     "task": false
    }
   },
   "outputs": [],
   "source": [
    "df_contracts_cleaned.head()"
   ]
  }
 ],
 "metadata": {
  "kernelspec": {
   "display_name": "Python 3",
   "language": "python",
   "name": "python3"
  },
  "language_info": {
   "codemirror_mode": {
    "name": "ipython",
    "version": 3
   },
   "file_extension": ".py",
   "mimetype": "text/x-python",
   "name": "python",
   "nbconvert_exporter": "python",
   "pygments_lexer": "ipython3",
   "version": "3.6.9"
  }
 },
 "nbformat": 4,
 "nbformat_minor": 2
}
