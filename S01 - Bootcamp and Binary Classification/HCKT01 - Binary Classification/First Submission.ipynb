{
 "cells": [
  {
   "cell_type": "code",
   "execution_count": 1,
   "metadata": {},
   "outputs": [],
   "source": [
    "import pandas as pd\n",
    "import numpy as np\n",
    "import matplotlib.pyplot as plt"
   ]
  },
  {
   "cell_type": "code",
   "execution_count": 2,
   "metadata": {},
   "outputs": [],
   "source": [
    "from sklearn.model_selection import train_test_split\n",
    "from sklearn.ensemble import RandomForestClassifier\n",
    "from sklearn.tree import DecisionTreeClassifier\n",
    "from sklearn.linear_model import LogisticRegression\n",
    "from IPython.display import Image\n",
    "\n",
    "from sklearn.pipeline import make_pipeline\n",
    "from sklearn.pipeline import Pipeline\n",
    "from sklearn.base import BaseEstimator, ClassifierMixin, TransformerMixin\n",
    "from sklearn.impute import SimpleImputer\n",
    "from sklearn.preprocessing import StandardScaler, OneHotEncoder\n",
    "from sklearn.compose import ColumnTransformer\n",
    "from sklearn.preprocessing import MinMaxScaler"
   ]
  },
  {
   "cell_type": "code",
   "execution_count": 3,
   "metadata": {},
   "outputs": [],
   "source": [
    "data = pd.read_csv(\"data/train.csv\")"
   ]
  },
  {
   "cell_type": "code",
   "execution_count": 4,
   "metadata": {
    "scrolled": true
   },
   "outputs": [
    {
     "data": {
      "text/plain": [
       "Index(['ID', 'DATE_DEPARTURE_UTC', 'DATE_ARRIVAL_UTC', 'DATE_DEPARTURE_LCL',\n",
       "       'DATE_ARRIVAL_LCL', 'ORIGIN', 'ORIGIN_AIRPORT_ID', 'DEST',\n",
       "       'DEST_AIRPORT_ID', 'TAIL_NUM', 'OP_CARRIER', 'OP_CARRIER_AIRLINE_ID',\n",
       "       'OP_CARRIER_FL_NUM', 'DISTANCE', 'CANCELLED', 'DEP_DEL15', 'ARR_DEL15'],\n",
       "      dtype='object')"
      ]
     },
     "execution_count": 4,
     "metadata": {},
     "output_type": "execute_result"
    }
   ],
   "source": [
    "data.columns"
   ]
  },
  {
   "cell_type": "code",
   "execution_count": 5,
   "metadata": {
    "scrolled": true
   },
   "outputs": [
    {
     "data": {
      "text/plain": [
       "ID                         int64\n",
       "DATE_DEPARTURE_UTC        object\n",
       "DATE_ARRIVAL_UTC          object\n",
       "DATE_DEPARTURE_LCL        object\n",
       "DATE_ARRIVAL_LCL          object\n",
       "ORIGIN                    object\n",
       "ORIGIN_AIRPORT_ID          int64\n",
       "DEST                      object\n",
       "DEST_AIRPORT_ID            int64\n",
       "TAIL_NUM                  object\n",
       "OP_CARRIER                object\n",
       "OP_CARRIER_AIRLINE_ID      int64\n",
       "OP_CARRIER_FL_NUM          int64\n",
       "DISTANCE                 float64\n",
       "CANCELLED                  int64\n",
       "DEP_DEL15                float64\n",
       "ARR_DEL15                  int64\n",
       "dtype: object"
      ]
     },
     "execution_count": 5,
     "metadata": {},
     "output_type": "execute_result"
    }
   ],
   "source": [
    "data.dtypes"
   ]
  },
  {
   "cell_type": "code",
   "execution_count": 6,
   "metadata": {},
   "outputs": [
    {
     "data": {
      "text/html": [
       "<div>\n",
       "<style scoped>\n",
       "    .dataframe tbody tr th:only-of-type {\n",
       "        vertical-align: middle;\n",
       "    }\n",
       "\n",
       "    .dataframe tbody tr th {\n",
       "        vertical-align: top;\n",
       "    }\n",
       "\n",
       "    .dataframe thead th {\n",
       "        text-align: right;\n",
       "    }\n",
       "</style>\n",
       "<table border=\"1\" class=\"dataframe\">\n",
       "  <thead>\n",
       "    <tr style=\"text-align: right;\">\n",
       "      <th></th>\n",
       "      <th>ID</th>\n",
       "      <th>DATE_DEPARTURE_UTC</th>\n",
       "      <th>DATE_ARRIVAL_UTC</th>\n",
       "      <th>DATE_DEPARTURE_LCL</th>\n",
       "      <th>DATE_ARRIVAL_LCL</th>\n",
       "      <th>ORIGIN</th>\n",
       "      <th>ORIGIN_AIRPORT_ID</th>\n",
       "      <th>DEST</th>\n",
       "      <th>DEST_AIRPORT_ID</th>\n",
       "      <th>TAIL_NUM</th>\n",
       "      <th>OP_CARRIER</th>\n",
       "      <th>OP_CARRIER_AIRLINE_ID</th>\n",
       "      <th>OP_CARRIER_FL_NUM</th>\n",
       "      <th>DISTANCE</th>\n",
       "      <th>CANCELLED</th>\n",
       "      <th>DEP_DEL15</th>\n",
       "    </tr>\n",
       "  </thead>\n",
       "  <tbody>\n",
       "    <tr>\n",
       "      <th>0</th>\n",
       "      <td>345355</td>\n",
       "      <td>2020-01-18 22:10:00</td>\n",
       "      <td>2020-01-18 23:59:00</td>\n",
       "      <td>2020-01-18 15:10:00</td>\n",
       "      <td>2020-01-18 15:59:00</td>\n",
       "      <td>SLC</td>\n",
       "      <td>14869</td>\n",
       "      <td>SNA</td>\n",
       "      <td>14908</td>\n",
       "      <td>N128DU</td>\n",
       "      <td>DL</td>\n",
       "      <td>19790</td>\n",
       "      <td>1056</td>\n",
       "      <td>588.0</td>\n",
       "      <td>0</td>\n",
       "      <td>0.0</td>\n",
       "    </tr>\n",
       "    <tr>\n",
       "      <th>1</th>\n",
       "      <td>323447</td>\n",
       "      <td>2020-01-17 21:47:00</td>\n",
       "      <td>2020-01-18 04:10:00</td>\n",
       "      <td>2020-01-17 16:47:00</td>\n",
       "      <td>2020-01-17 20:10:00</td>\n",
       "      <td>BOS</td>\n",
       "      <td>10721</td>\n",
       "      <td>SEA</td>\n",
       "      <td>14747</td>\n",
       "      <td>N486AS</td>\n",
       "      <td>AS</td>\n",
       "      <td>19930</td>\n",
       "      <td>15</td>\n",
       "      <td>2496.0</td>\n",
       "      <td>0</td>\n",
       "      <td>NaN</td>\n",
       "    </tr>\n",
       "    <tr>\n",
       "      <th>2</th>\n",
       "      <td>242237</td>\n",
       "      <td>2020-01-13 13:26:00</td>\n",
       "      <td>2020-01-13 14:26:00</td>\n",
       "      <td>2020-01-13 07:26:00</td>\n",
       "      <td>2020-01-13 08:26:00</td>\n",
       "      <td>DAL</td>\n",
       "      <td>11259</td>\n",
       "      <td>HOU</td>\n",
       "      <td>12191</td>\n",
       "      <td>N901WN</td>\n",
       "      <td>WN</td>\n",
       "      <td>19393</td>\n",
       "      <td>3</td>\n",
       "      <td>239.0</td>\n",
       "      <td>0</td>\n",
       "      <td>NaN</td>\n",
       "    </tr>\n",
       "    <tr>\n",
       "      <th>3</th>\n",
       "      <td>271408</td>\n",
       "      <td>2020-01-15 02:45:00</td>\n",
       "      <td>2020-01-15 03:37:00</td>\n",
       "      <td>2020-01-14 20:45:00</td>\n",
       "      <td>2020-01-14 21:37:00</td>\n",
       "      <td>STL</td>\n",
       "      <td>15016</td>\n",
       "      <td>DSM</td>\n",
       "      <td>11423</td>\n",
       "      <td>N778SW</td>\n",
       "      <td>WN</td>\n",
       "      <td>19393</td>\n",
       "      <td>1588</td>\n",
       "      <td>259.0</td>\n",
       "      <td>0</td>\n",
       "      <td>0.0</td>\n",
       "    </tr>\n",
       "    <tr>\n",
       "      <th>4</th>\n",
       "      <td>282447</td>\n",
       "      <td>2020-01-15 23:22:00</td>\n",
       "      <td>2020-01-16 00:49:00</td>\n",
       "      <td>2020-01-15 18:22:00</td>\n",
       "      <td>2020-01-15 19:49:00</td>\n",
       "      <td>CLT</td>\n",
       "      <td>11057</td>\n",
       "      <td>CHS</td>\n",
       "      <td>10994</td>\n",
       "      <td>N579NN</td>\n",
       "      <td>OH</td>\n",
       "      <td>20397</td>\n",
       "      <td>5207</td>\n",
       "      <td>168.0</td>\n",
       "      <td>0</td>\n",
       "      <td>NaN</td>\n",
       "    </tr>\n",
       "  </tbody>\n",
       "</table>\n",
       "</div>"
      ],
      "text/plain": [
       "       ID   DATE_DEPARTURE_UTC     DATE_ARRIVAL_UTC   DATE_DEPARTURE_LCL  \\\n",
       "0  345355  2020-01-18 22:10:00  2020-01-18 23:59:00  2020-01-18 15:10:00   \n",
       "1  323447  2020-01-17 21:47:00  2020-01-18 04:10:00  2020-01-17 16:47:00   \n",
       "2  242237  2020-01-13 13:26:00  2020-01-13 14:26:00  2020-01-13 07:26:00   \n",
       "3  271408  2020-01-15 02:45:00  2020-01-15 03:37:00  2020-01-14 20:45:00   \n",
       "4  282447  2020-01-15 23:22:00  2020-01-16 00:49:00  2020-01-15 18:22:00   \n",
       "\n",
       "      DATE_ARRIVAL_LCL ORIGIN  ORIGIN_AIRPORT_ID DEST  DEST_AIRPORT_ID  \\\n",
       "0  2020-01-18 15:59:00    SLC              14869  SNA            14908   \n",
       "1  2020-01-17 20:10:00    BOS              10721  SEA            14747   \n",
       "2  2020-01-13 08:26:00    DAL              11259  HOU            12191   \n",
       "3  2020-01-14 21:37:00    STL              15016  DSM            11423   \n",
       "4  2020-01-15 19:49:00    CLT              11057  CHS            10994   \n",
       "\n",
       "  TAIL_NUM OP_CARRIER  OP_CARRIER_AIRLINE_ID  OP_CARRIER_FL_NUM  DISTANCE  \\\n",
       "0   N128DU         DL                  19790               1056     588.0   \n",
       "1   N486AS         AS                  19930                 15    2496.0   \n",
       "2   N901WN         WN                  19393                  3     239.0   \n",
       "3   N778SW         WN                  19393               1588     259.0   \n",
       "4   N579NN         OH                  20397               5207     168.0   \n",
       "\n",
       "   CANCELLED  DEP_DEL15  \n",
       "0          0        0.0  \n",
       "1          0        NaN  \n",
       "2          0        NaN  \n",
       "3          0        0.0  \n",
       "4          0        NaN  "
      ]
     },
     "execution_count": 6,
     "metadata": {},
     "output_type": "execute_result"
    }
   ],
   "source": [
    "df = data.copy()\n",
    "X, y = df.drop('ARR_DEL15', axis=1), df['ARR_DEL15']\n",
    "X.head()"
   ]
  },
  {
   "cell_type": "code",
   "execution_count": 7,
   "metadata": {},
   "outputs": [
    {
     "data": {
      "text/plain": [
       "0    0\n",
       "1    0\n",
       "2    0\n",
       "3    0\n",
       "4    1\n",
       "Name: ARR_DEL15, dtype: int64"
      ]
     },
     "execution_count": 7,
     "metadata": {},
     "output_type": "execute_result"
    }
   ],
   "source": [
    "y.head()"
   ]
  },
  {
   "cell_type": "markdown",
   "metadata": {},
   "source": [
    "# EDA"
   ]
  },
  {
   "cell_type": "markdown",
   "metadata": {},
   "source": [
    "ID - Id of the row\n",
    "\n",
    "Prep: Drop"
   ]
  },
  {
   "cell_type": "markdown",
   "metadata": {},
   "source": [
    "Dates\n",
    "'DATE_DEPARTURE_UTC', 'DATE_ARRIVAL_UTC','DATE_DEPARTURE_LCL','DATE_ARRIVAL_LCL\n",
    "\n",
    "1. Keep only Local timestamp\n",
    "2. Tranform to Month/Day/Hour\n"
   ]
  },
  {
   "cell_type": "code",
   "execution_count": 8,
   "metadata": {
    "scrolled": true
   },
   "outputs": [
    {
     "name": "stdout",
     "output_type": "stream",
     "text": [
      "['2020-01-18 15:10:00' '2020-01-17 16:47:00' '2020-01-13 07:26:00' ...\n",
      " '2020-01-07 00:26:00' '2020-01-08 01:09:00' '2020-01-17 00:49:00']\n",
      "2020-01-03 05:56:00    71\n",
      "2020-01-21 05:55:00    69\n",
      "2020-01-09 05:55:00    68\n",
      "2020-01-06 05:56:00    68\n",
      "2020-01-13 05:55:00    67\n",
      "                       ..\n",
      "2020-01-19 00:53:00     1\n",
      "2020-01-10 04:13:00     1\n",
      "2020-01-05 00:05:00     1\n",
      "2020-01-11 22:45:00     1\n",
      "2020-01-21 23:32:00     1\n",
      "Name: DATE_DEPARTURE_LCL, Length: 26687, dtype: int64\n",
      "Nulls 0.0\n"
     ]
    }
   ],
   "source": [
    "print(data.DATE_DEPARTURE_LCL.unique())\n",
    "print(data.DATE_DEPARTURE_LCL.value_counts())\n",
    "print('Nulls',data.DATE_DEPARTURE_LCL.isnull().sum()/len(data))"
   ]
  },
  {
   "cell_type": "code",
   "execution_count": 9,
   "metadata": {},
   "outputs": [],
   "source": [
    "class DateTransformer(BaseEstimator, TransformerMixin):\n",
    "    def __init__(self, colname):\n",
    "        self.colname = colname\n",
    "        \n",
    "    def fit(self, x, y=None):\n",
    "        return self\n",
    "\n",
    "    def transform(self, x):\n",
    "        x_copy = x.copy()\n",
    "        #x_timestamp = x_copy[self.colname].apply(pd.to_datetime)\n",
    "        x_copy.loc[:, self.colname+'_year'] = x_copy[self.colname].apply(pd.to_datetime).apply(lambda t: t.year)\n",
    "        #col_year = \"%month\"%self.colname        \n",
    "        x_copy.loc[:, self.colname+'_month'] = x_copy[self.colname].apply(pd.to_datetime).apply(lambda t: t.month)\n",
    "        x_copy.loc[:, self.colname+'_hour']= x_copy[self.colname].apply(pd.to_datetime).apply(lambda t: t.hour)\n",
    "        \n",
    "        return x_copy\n"
   ]
  },
  {
   "cell_type": "code",
   "execution_count": 10,
   "metadata": {
    "scrolled": true
   },
   "outputs": [],
   "source": [
    "z = Pipeline(steps=[('DateTransformer',DateTransformer('DATE_DEPARTURE_LCL'))])\n",
    "\n",
    "# X_train, X_test, y_train, y_test = train_test_split(X, y, test_size=0.2)\n",
    "\n",
    "df= z.fit_transform(df)"
   ]
  },
  {
   "cell_type": "code",
   "execution_count": 11,
   "metadata": {},
   "outputs": [
    {
     "data": {
      "text/html": [
       "<div>\n",
       "<style scoped>\n",
       "    .dataframe tbody tr th:only-of-type {\n",
       "        vertical-align: middle;\n",
       "    }\n",
       "\n",
       "    .dataframe tbody tr th {\n",
       "        vertical-align: top;\n",
       "    }\n",
       "\n",
       "    .dataframe thead th {\n",
       "        text-align: right;\n",
       "    }\n",
       "</style>\n",
       "<table border=\"1\" class=\"dataframe\">\n",
       "  <thead>\n",
       "    <tr style=\"text-align: right;\">\n",
       "      <th></th>\n",
       "      <th>ID</th>\n",
       "      <th>DATE_DEPARTURE_UTC</th>\n",
       "      <th>DATE_ARRIVAL_UTC</th>\n",
       "      <th>DATE_DEPARTURE_LCL</th>\n",
       "      <th>DATE_ARRIVAL_LCL</th>\n",
       "      <th>ORIGIN</th>\n",
       "      <th>ORIGIN_AIRPORT_ID</th>\n",
       "      <th>DEST</th>\n",
       "      <th>DEST_AIRPORT_ID</th>\n",
       "      <th>TAIL_NUM</th>\n",
       "      <th>OP_CARRIER</th>\n",
       "      <th>OP_CARRIER_AIRLINE_ID</th>\n",
       "      <th>OP_CARRIER_FL_NUM</th>\n",
       "      <th>DISTANCE</th>\n",
       "      <th>CANCELLED</th>\n",
       "      <th>DEP_DEL15</th>\n",
       "      <th>ARR_DEL15</th>\n",
       "      <th>DATE_DEPARTURE_LCL_year</th>\n",
       "      <th>DATE_DEPARTURE_LCL_month</th>\n",
       "      <th>DATE_DEPARTURE_LCL_hour</th>\n",
       "    </tr>\n",
       "  </thead>\n",
       "  <tbody>\n",
       "    <tr>\n",
       "      <th>0</th>\n",
       "      <td>345355</td>\n",
       "      <td>2020-01-18 22:10:00</td>\n",
       "      <td>2020-01-18 23:59:00</td>\n",
       "      <td>2020-01-18 15:10:00</td>\n",
       "      <td>2020-01-18 15:59:00</td>\n",
       "      <td>SLC</td>\n",
       "      <td>14869</td>\n",
       "      <td>SNA</td>\n",
       "      <td>14908</td>\n",
       "      <td>N128DU</td>\n",
       "      <td>DL</td>\n",
       "      <td>19790</td>\n",
       "      <td>1056</td>\n",
       "      <td>588.0</td>\n",
       "      <td>0</td>\n",
       "      <td>0.0</td>\n",
       "      <td>0</td>\n",
       "      <td>2020</td>\n",
       "      <td>1</td>\n",
       "      <td>15</td>\n",
       "    </tr>\n",
       "    <tr>\n",
       "      <th>1</th>\n",
       "      <td>323447</td>\n",
       "      <td>2020-01-17 21:47:00</td>\n",
       "      <td>2020-01-18 04:10:00</td>\n",
       "      <td>2020-01-17 16:47:00</td>\n",
       "      <td>2020-01-17 20:10:00</td>\n",
       "      <td>BOS</td>\n",
       "      <td>10721</td>\n",
       "      <td>SEA</td>\n",
       "      <td>14747</td>\n",
       "      <td>N486AS</td>\n",
       "      <td>AS</td>\n",
       "      <td>19930</td>\n",
       "      <td>15</td>\n",
       "      <td>2496.0</td>\n",
       "      <td>0</td>\n",
       "      <td>NaN</td>\n",
       "      <td>0</td>\n",
       "      <td>2020</td>\n",
       "      <td>1</td>\n",
       "      <td>16</td>\n",
       "    </tr>\n",
       "    <tr>\n",
       "      <th>2</th>\n",
       "      <td>242237</td>\n",
       "      <td>2020-01-13 13:26:00</td>\n",
       "      <td>2020-01-13 14:26:00</td>\n",
       "      <td>2020-01-13 07:26:00</td>\n",
       "      <td>2020-01-13 08:26:00</td>\n",
       "      <td>DAL</td>\n",
       "      <td>11259</td>\n",
       "      <td>HOU</td>\n",
       "      <td>12191</td>\n",
       "      <td>N901WN</td>\n",
       "      <td>WN</td>\n",
       "      <td>19393</td>\n",
       "      <td>3</td>\n",
       "      <td>239.0</td>\n",
       "      <td>0</td>\n",
       "      <td>NaN</td>\n",
       "      <td>0</td>\n",
       "      <td>2020</td>\n",
       "      <td>1</td>\n",
       "      <td>7</td>\n",
       "    </tr>\n",
       "    <tr>\n",
       "      <th>3</th>\n",
       "      <td>271408</td>\n",
       "      <td>2020-01-15 02:45:00</td>\n",
       "      <td>2020-01-15 03:37:00</td>\n",
       "      <td>2020-01-14 20:45:00</td>\n",
       "      <td>2020-01-14 21:37:00</td>\n",
       "      <td>STL</td>\n",
       "      <td>15016</td>\n",
       "      <td>DSM</td>\n",
       "      <td>11423</td>\n",
       "      <td>N778SW</td>\n",
       "      <td>WN</td>\n",
       "      <td>19393</td>\n",
       "      <td>1588</td>\n",
       "      <td>259.0</td>\n",
       "      <td>0</td>\n",
       "      <td>0.0</td>\n",
       "      <td>0</td>\n",
       "      <td>2020</td>\n",
       "      <td>1</td>\n",
       "      <td>20</td>\n",
       "    </tr>\n",
       "    <tr>\n",
       "      <th>4</th>\n",
       "      <td>282447</td>\n",
       "      <td>2020-01-15 23:22:00</td>\n",
       "      <td>2020-01-16 00:49:00</td>\n",
       "      <td>2020-01-15 18:22:00</td>\n",
       "      <td>2020-01-15 19:49:00</td>\n",
       "      <td>CLT</td>\n",
       "      <td>11057</td>\n",
       "      <td>CHS</td>\n",
       "      <td>10994</td>\n",
       "      <td>N579NN</td>\n",
       "      <td>OH</td>\n",
       "      <td>20397</td>\n",
       "      <td>5207</td>\n",
       "      <td>168.0</td>\n",
       "      <td>0</td>\n",
       "      <td>NaN</td>\n",
       "      <td>1</td>\n",
       "      <td>2020</td>\n",
       "      <td>1</td>\n",
       "      <td>18</td>\n",
       "    </tr>\n",
       "    <tr>\n",
       "      <th>...</th>\n",
       "      <td>...</td>\n",
       "      <td>...</td>\n",
       "      <td>...</td>\n",
       "      <td>...</td>\n",
       "      <td>...</td>\n",
       "      <td>...</td>\n",
       "      <td>...</td>\n",
       "      <td>...</td>\n",
       "      <td>...</td>\n",
       "      <td>...</td>\n",
       "      <td>...</td>\n",
       "      <td>...</td>\n",
       "      <td>...</td>\n",
       "      <td>...</td>\n",
       "      <td>...</td>\n",
       "      <td>...</td>\n",
       "      <td>...</td>\n",
       "      <td>...</td>\n",
       "      <td>...</td>\n",
       "      <td>...</td>\n",
       "    </tr>\n",
       "    <tr>\n",
       "      <th>419482</th>\n",
       "      <td>374775</td>\n",
       "      <td>2020-01-21 00:54:00</td>\n",
       "      <td>2020-01-21 01:58:00</td>\n",
       "      <td>2020-01-20 16:54:00</td>\n",
       "      <td>2020-01-20 17:58:00</td>\n",
       "      <td>ONT</td>\n",
       "      <td>13891</td>\n",
       "      <td>OAK</td>\n",
       "      <td>13796</td>\n",
       "      <td>N278WN</td>\n",
       "      <td>WN</td>\n",
       "      <td>19393</td>\n",
       "      <td>1475</td>\n",
       "      <td>362.0</td>\n",
       "      <td>0</td>\n",
       "      <td>0.0</td>\n",
       "      <td>0</td>\n",
       "      <td>2020</td>\n",
       "      <td>1</td>\n",
       "      <td>16</td>\n",
       "    </tr>\n",
       "    <tr>\n",
       "      <th>419483</th>\n",
       "      <td>295665</td>\n",
       "      <td>2020-01-16 17:28:00</td>\n",
       "      <td>2020-01-16 20:18:00</td>\n",
       "      <td>2020-01-16 12:28:00</td>\n",
       "      <td>2020-01-16 15:18:00</td>\n",
       "      <td>FLL</td>\n",
       "      <td>11697</td>\n",
       "      <td>JFK</td>\n",
       "      <td>12478</td>\n",
       "      <td>N2017J</td>\n",
       "      <td>B6</td>\n",
       "      <td>20409</td>\n",
       "      <td>1202</td>\n",
       "      <td>1069.0</td>\n",
       "      <td>0</td>\n",
       "      <td>0.0</td>\n",
       "      <td>0</td>\n",
       "      <td>2020</td>\n",
       "      <td>1</td>\n",
       "      <td>12</td>\n",
       "    </tr>\n",
       "    <tr>\n",
       "      <th>419484</th>\n",
       "      <td>365119</td>\n",
       "      <td>2020-01-20 00:37:00</td>\n",
       "      <td>2020-01-20 03:51:00</td>\n",
       "      <td>2020-01-19 18:37:00</td>\n",
       "      <td>2020-01-19 19:51:00</td>\n",
       "      <td>IAH</td>\n",
       "      <td>12266</td>\n",
       "      <td>LAS</td>\n",
       "      <td>12889</td>\n",
       "      <td>N832UA</td>\n",
       "      <td>UA</td>\n",
       "      <td>19977</td>\n",
       "      <td>1044</td>\n",
       "      <td>1222.0</td>\n",
       "      <td>0</td>\n",
       "      <td>0.0</td>\n",
       "      <td>0</td>\n",
       "      <td>2020</td>\n",
       "      <td>1</td>\n",
       "      <td>18</td>\n",
       "    </tr>\n",
       "    <tr>\n",
       "      <th>419485</th>\n",
       "      <td>71648</td>\n",
       "      <td>2020-01-04 21:43:00</td>\n",
       "      <td>2020-01-05 00:19:00</td>\n",
       "      <td>2020-01-04 15:43:00</td>\n",
       "      <td>2020-01-04 19:19:00</td>\n",
       "      <td>MKE</td>\n",
       "      <td>13342</td>\n",
       "      <td>MCO</td>\n",
       "      <td>13204</td>\n",
       "      <td>N286WN</td>\n",
       "      <td>WN</td>\n",
       "      <td>19393</td>\n",
       "      <td>3487</td>\n",
       "      <td>1066.0</td>\n",
       "      <td>0</td>\n",
       "      <td>NaN</td>\n",
       "      <td>0</td>\n",
       "      <td>2020</td>\n",
       "      <td>1</td>\n",
       "      <td>15</td>\n",
       "    </tr>\n",
       "    <tr>\n",
       "      <th>419486</th>\n",
       "      <td>224261</td>\n",
       "      <td>2020-01-12 22:21:00</td>\n",
       "      <td>2020-01-12 23:05:00</td>\n",
       "      <td>2020-01-12 15:21:00</td>\n",
       "      <td>2020-01-12 16:05:00</td>\n",
       "      <td>PHX</td>\n",
       "      <td>14107</td>\n",
       "      <td>TUS</td>\n",
       "      <td>15376</td>\n",
       "      <td>N907FJ</td>\n",
       "      <td>YV</td>\n",
       "      <td>20378</td>\n",
       "      <td>5756</td>\n",
       "      <td>NaN</td>\n",
       "      <td>0</td>\n",
       "      <td>NaN</td>\n",
       "      <td>1</td>\n",
       "      <td>2020</td>\n",
       "      <td>1</td>\n",
       "      <td>15</td>\n",
       "    </tr>\n",
       "  </tbody>\n",
       "</table>\n",
       "<p>419487 rows × 20 columns</p>\n",
       "</div>"
      ],
      "text/plain": [
       "            ID   DATE_DEPARTURE_UTC     DATE_ARRIVAL_UTC   DATE_DEPARTURE_LCL  \\\n",
       "0       345355  2020-01-18 22:10:00  2020-01-18 23:59:00  2020-01-18 15:10:00   \n",
       "1       323447  2020-01-17 21:47:00  2020-01-18 04:10:00  2020-01-17 16:47:00   \n",
       "2       242237  2020-01-13 13:26:00  2020-01-13 14:26:00  2020-01-13 07:26:00   \n",
       "3       271408  2020-01-15 02:45:00  2020-01-15 03:37:00  2020-01-14 20:45:00   \n",
       "4       282447  2020-01-15 23:22:00  2020-01-16 00:49:00  2020-01-15 18:22:00   \n",
       "...        ...                  ...                  ...                  ...   \n",
       "419482  374775  2020-01-21 00:54:00  2020-01-21 01:58:00  2020-01-20 16:54:00   \n",
       "419483  295665  2020-01-16 17:28:00  2020-01-16 20:18:00  2020-01-16 12:28:00   \n",
       "419484  365119  2020-01-20 00:37:00  2020-01-20 03:51:00  2020-01-19 18:37:00   \n",
       "419485   71648  2020-01-04 21:43:00  2020-01-05 00:19:00  2020-01-04 15:43:00   \n",
       "419486  224261  2020-01-12 22:21:00  2020-01-12 23:05:00  2020-01-12 15:21:00   \n",
       "\n",
       "           DATE_ARRIVAL_LCL ORIGIN  ORIGIN_AIRPORT_ID DEST  DEST_AIRPORT_ID  \\\n",
       "0       2020-01-18 15:59:00    SLC              14869  SNA            14908   \n",
       "1       2020-01-17 20:10:00    BOS              10721  SEA            14747   \n",
       "2       2020-01-13 08:26:00    DAL              11259  HOU            12191   \n",
       "3       2020-01-14 21:37:00    STL              15016  DSM            11423   \n",
       "4       2020-01-15 19:49:00    CLT              11057  CHS            10994   \n",
       "...                     ...    ...                ...  ...              ...   \n",
       "419482  2020-01-20 17:58:00    ONT              13891  OAK            13796   \n",
       "419483  2020-01-16 15:18:00    FLL              11697  JFK            12478   \n",
       "419484  2020-01-19 19:51:00    IAH              12266  LAS            12889   \n",
       "419485  2020-01-04 19:19:00    MKE              13342  MCO            13204   \n",
       "419486  2020-01-12 16:05:00    PHX              14107  TUS            15376   \n",
       "\n",
       "       TAIL_NUM OP_CARRIER  OP_CARRIER_AIRLINE_ID  OP_CARRIER_FL_NUM  \\\n",
       "0        N128DU         DL                  19790               1056   \n",
       "1        N486AS         AS                  19930                 15   \n",
       "2        N901WN         WN                  19393                  3   \n",
       "3        N778SW         WN                  19393               1588   \n",
       "4        N579NN         OH                  20397               5207   \n",
       "...         ...        ...                    ...                ...   \n",
       "419482   N278WN         WN                  19393               1475   \n",
       "419483   N2017J         B6                  20409               1202   \n",
       "419484   N832UA         UA                  19977               1044   \n",
       "419485   N286WN         WN                  19393               3487   \n",
       "419486   N907FJ         YV                  20378               5756   \n",
       "\n",
       "        DISTANCE  CANCELLED  DEP_DEL15  ARR_DEL15  DATE_DEPARTURE_LCL_year  \\\n",
       "0          588.0          0        0.0          0                     2020   \n",
       "1         2496.0          0        NaN          0                     2020   \n",
       "2          239.0          0        NaN          0                     2020   \n",
       "3          259.0          0        0.0          0                     2020   \n",
       "4          168.0          0        NaN          1                     2020   \n",
       "...          ...        ...        ...        ...                      ...   \n",
       "419482     362.0          0        0.0          0                     2020   \n",
       "419483    1069.0          0        0.0          0                     2020   \n",
       "419484    1222.0          0        0.0          0                     2020   \n",
       "419485    1066.0          0        NaN          0                     2020   \n",
       "419486       NaN          0        NaN          1                     2020   \n",
       "\n",
       "        DATE_DEPARTURE_LCL_month  DATE_DEPARTURE_LCL_hour  \n",
       "0                              1                       15  \n",
       "1                              1                       16  \n",
       "2                              1                        7  \n",
       "3                              1                       20  \n",
       "4                              1                       18  \n",
       "...                          ...                      ...  \n",
       "419482                         1                       16  \n",
       "419483                         1                       12  \n",
       "419484                         1                       18  \n",
       "419485                         1                       15  \n",
       "419486                         1                       15  \n",
       "\n",
       "[419487 rows x 20 columns]"
      ]
     },
     "execution_count": 11,
     "metadata": {},
     "output_type": "execute_result"
    }
   ],
   "source": [
    "df"
   ]
  },
  {
   "cell_type": "code",
   "execution_count": 12,
   "metadata": {},
   "outputs": [
    {
     "data": {
      "image/png": "[encoded data removed]",
      "text/plain": [
       "<Figure size 720x576 with 2 Axes>"
      ]
     },
     "metadata": {
      "needs_background": "light"
     },
     "output_type": "display_data"
    }
   ],
   "source": [
    "df.plot(kind='scatter', x='DISTANCE', y='DATE_DEPARTURE_LCL_hour', c='ARR_DEL15', colormap='coolwarm', figsize=(10, 8), alpha=.5)\n",
    "plt.xlabel('Color')\n",
    "# plt.ylabel('IBU')\n",
    "plt.show()"
   ]
  },
  {
   "cell_type": "markdown",
   "metadata": {},
   "source": [
    "Duration Flight"
   ]
  },
  {
   "cell_type": "markdown",
   "metadata": {},
   "source": [
    "Airports (Origin and Destination)\n",
    "1. First Shoot Keep just ID (change to category)\n",
    "2. Try to use external data to get more info on airports (Country, state, Continent)\n"
   ]
  },
  {
   "cell_type": "markdown",
   "metadata": {},
   "source": [
    "Flight Company CARRIER \n",
    "1. Keep the ID\n",
    "2. Category"
   ]
  },
  {
   "cell_type": "markdown",
   "metadata": {},
   "source": [
    "Flight Number ??"
   ]
  },
  {
   "cell_type": "markdown",
   "metadata": {},
   "source": [
    "CANCELLED - Drop columns"
   ]
  },
  {
   "cell_type": "markdown",
   "metadata": {},
   "source": [
    "DEP_DEL15 - Discriminates whether an airplane departed with delay or not"
   ]
  },
  {
   "cell_type": "code",
   "execution_count": 13,
   "metadata": {},
   "outputs": [
    {
     "data": {
      "text/html": [
       "<div>\n",
       "<style scoped>\n",
       "    .dataframe tbody tr th:only-of-type {\n",
       "        vertical-align: middle;\n",
       "    }\n",
       "\n",
       "    .dataframe tbody tr th {\n",
       "        vertical-align: top;\n",
       "    }\n",
       "\n",
       "    .dataframe thead th {\n",
       "        text-align: right;\n",
       "    }\n",
       "</style>\n",
       "<table border=\"1\" class=\"dataframe\">\n",
       "  <thead>\n",
       "    <tr style=\"text-align: right;\">\n",
       "      <th></th>\n",
       "      <th>ID</th>\n",
       "      <th>DATE_DEPARTURE_UTC</th>\n",
       "      <th>DATE_ARRIVAL_UTC</th>\n",
       "      <th>DATE_DEPARTURE_LCL</th>\n",
       "      <th>DATE_ARRIVAL_LCL</th>\n",
       "      <th>ORIGIN</th>\n",
       "      <th>ORIGIN_AIRPORT_ID</th>\n",
       "      <th>DEST</th>\n",
       "      <th>DEST_AIRPORT_ID</th>\n",
       "      <th>TAIL_NUM</th>\n",
       "      <th>OP_CARRIER</th>\n",
       "      <th>OP_CARRIER_AIRLINE_ID</th>\n",
       "      <th>OP_CARRIER_FL_NUM</th>\n",
       "      <th>DISTANCE</th>\n",
       "      <th>CANCELLED</th>\n",
       "      <th>DEP_DEL15</th>\n",
       "    </tr>\n",
       "  </thead>\n",
       "  <tbody>\n",
       "    <tr>\n",
       "      <th>0</th>\n",
       "      <td>425552</td>\n",
       "      <td>2020-01-23 01:26:00</td>\n",
       "      <td>2020-01-23 02:52:00</td>\n",
       "      <td>2020-01-22 20:26:00</td>\n",
       "      <td>2020-01-22 21:52:00</td>\n",
       "      <td>LGA</td>\n",
       "      <td>12953</td>\n",
       "      <td>BGR</td>\n",
       "      <td>10581</td>\n",
       "      <td>N8894A</td>\n",
       "      <td>9E</td>\n",
       "      <td>20363</td>\n",
       "      <td>5032</td>\n",
       "      <td>378.0</td>\n",
       "      <td>0</td>\n",
       "      <td>NaN</td>\n",
       "    </tr>\n",
       "    <tr>\n",
       "      <th>1</th>\n",
       "      <td>415418</td>\n",
       "      <td>2020-01-23 01:26:00</td>\n",
       "      <td>2020-01-23 03:04:00</td>\n",
       "      <td>2020-01-22 19:26:00</td>\n",
       "      <td>2020-01-22 22:04:00</td>\n",
       "      <td>MDW</td>\n",
       "      <td>13232</td>\n",
       "      <td>PHL</td>\n",
       "      <td>14100</td>\n",
       "      <td>N8615E</td>\n",
       "      <td>WN</td>\n",
       "      <td>19393</td>\n",
       "      <td>1168</td>\n",
       "      <td>668.0</td>\n",
       "      <td>0</td>\n",
       "      <td>NaN</td>\n",
       "    </tr>\n",
       "    <tr>\n",
       "      <th>2</th>\n",
       "      <td>414222</td>\n",
       "      <td>2020-01-23 01:26:00</td>\n",
       "      <td>2020-01-23 03:06:00</td>\n",
       "      <td>2020-01-22 18:26:00</td>\n",
       "      <td>2020-01-22 19:06:00</td>\n",
       "      <td>DEN</td>\n",
       "      <td>11292</td>\n",
       "      <td>LAS</td>\n",
       "      <td>12889</td>\n",
       "      <td>N7853B</td>\n",
       "      <td>WN</td>\n",
       "      <td>19393</td>\n",
       "      <td>799</td>\n",
       "      <td>628.0</td>\n",
       "      <td>0</td>\n",
       "      <td>NaN</td>\n",
       "    </tr>\n",
       "    <tr>\n",
       "      <th>3</th>\n",
       "      <td>421432</td>\n",
       "      <td>2020-01-23 01:26:00</td>\n",
       "      <td>2020-01-23 02:48:00</td>\n",
       "      <td>2020-01-22 17:26:00</td>\n",
       "      <td>2020-01-22 18:48:00</td>\n",
       "      <td>SJC</td>\n",
       "      <td>14831</td>\n",
       "      <td>SAN</td>\n",
       "      <td>14679</td>\n",
       "      <td>N7812G</td>\n",
       "      <td>WN</td>\n",
       "      <td>19393</td>\n",
       "      <td>4454</td>\n",
       "      <td>417.0</td>\n",
       "      <td>0</td>\n",
       "      <td>0.0</td>\n",
       "    </tr>\n",
       "    <tr>\n",
       "      <th>4</th>\n",
       "      <td>421356</td>\n",
       "      <td>2020-01-23 01:26:00</td>\n",
       "      <td>2020-01-23 02:24:00</td>\n",
       "      <td>2020-01-22 17:26:00</td>\n",
       "      <td>2020-01-22 18:24:00</td>\n",
       "      <td>SJC</td>\n",
       "      <td>14831</td>\n",
       "      <td>BUR</td>\n",
       "      <td>10800</td>\n",
       "      <td>N7859B</td>\n",
       "      <td>WN</td>\n",
       "      <td>19393</td>\n",
       "      <td>2024</td>\n",
       "      <td>296.0</td>\n",
       "      <td>0</td>\n",
       "      <td>NaN</td>\n",
       "    </tr>\n",
       "    <tr>\n",
       "      <th>...</th>\n",
       "      <td>...</td>\n",
       "      <td>...</td>\n",
       "      <td>...</td>\n",
       "      <td>...</td>\n",
       "      <td>...</td>\n",
       "      <td>...</td>\n",
       "      <td>...</td>\n",
       "      <td>...</td>\n",
       "      <td>...</td>\n",
       "      <td>...</td>\n",
       "      <td>...</td>\n",
       "      <td>...</td>\n",
       "      <td>...</td>\n",
       "      <td>...</td>\n",
       "      <td>...</td>\n",
       "      <td>...</td>\n",
       "    </tr>\n",
       "    <tr>\n",
       "      <th>179776</th>\n",
       "      <td>595550</td>\n",
       "      <td>2020-02-01 09:21:00</td>\n",
       "      <td>2020-02-01 14:09:00</td>\n",
       "      <td>2020-01-31 23:21:00</td>\n",
       "      <td>2020-02-01 06:09:00</td>\n",
       "      <td>KOA</td>\n",
       "      <td>12758</td>\n",
       "      <td>SFO</td>\n",
       "      <td>14771</td>\n",
       "      <td>N77430</td>\n",
       "      <td>UA</td>\n",
       "      <td>19977</td>\n",
       "      <td>1724</td>\n",
       "      <td>2367.0</td>\n",
       "      <td>0</td>\n",
       "      <td>NaN</td>\n",
       "    </tr>\n",
       "    <tr>\n",
       "      <th>179777</th>\n",
       "      <td>605277</td>\n",
       "      <td>2020-02-01 09:27:00</td>\n",
       "      <td>2020-02-01 14:46:00</td>\n",
       "      <td>2020-01-31 23:27:00</td>\n",
       "      <td>2020-02-01 06:46:00</td>\n",
       "      <td>LIH</td>\n",
       "      <td>12982</td>\n",
       "      <td>LAX</td>\n",
       "      <td>12892</td>\n",
       "      <td>N544US</td>\n",
       "      <td>DL</td>\n",
       "      <td>19790</td>\n",
       "      <td>1381</td>\n",
       "      <td>2615.0</td>\n",
       "      <td>0</td>\n",
       "      <td>0.0</td>\n",
       "    </tr>\n",
       "    <tr>\n",
       "      <th>179778</th>\n",
       "      <td>588211</td>\n",
       "      <td>2020-02-01 09:38:00</td>\n",
       "      <td>2020-02-01 14:52:00</td>\n",
       "      <td>2020-01-31 23:38:00</td>\n",
       "      <td>2020-02-01 06:52:00</td>\n",
       "      <td>KOA</td>\n",
       "      <td>12758</td>\n",
       "      <td>SEA</td>\n",
       "      <td>14747</td>\n",
       "      <td>N566AS</td>\n",
       "      <td>AS</td>\n",
       "      <td>19930</td>\n",
       "      <td>880</td>\n",
       "      <td>2688.0</td>\n",
       "      <td>0</td>\n",
       "      <td>1.0</td>\n",
       "    </tr>\n",
       "    <tr>\n",
       "      <th>179779</th>\n",
       "      <td>605355</td>\n",
       "      <td>2020-02-01 09:39:00</td>\n",
       "      <td>2020-02-01 14:48:00</td>\n",
       "      <td>2020-01-31 23:39:00</td>\n",
       "      <td>2020-02-01 06:48:00</td>\n",
       "      <td>HNL</td>\n",
       "      <td>12173</td>\n",
       "      <td>SEA</td>\n",
       "      <td>14747</td>\n",
       "      <td>N1611B</td>\n",
       "      <td>DL</td>\n",
       "      <td>19790</td>\n",
       "      <td>1450</td>\n",
       "      <td>2677.0</td>\n",
       "      <td>0</td>\n",
       "      <td>NaN</td>\n",
       "    </tr>\n",
       "    <tr>\n",
       "      <th>179780</th>\n",
       "      <td>588169</td>\n",
       "      <td>2020-02-01 09:42:00</td>\n",
       "      <td>2020-02-01 14:57:00</td>\n",
       "      <td>2020-01-31 23:42:00</td>\n",
       "      <td>2020-02-01 06:57:00</td>\n",
       "      <td>LIH</td>\n",
       "      <td>12982</td>\n",
       "      <td>SEA</td>\n",
       "      <td>14747</td>\n",
       "      <td>N585AS</td>\n",
       "      <td>AS</td>\n",
       "      <td>19930</td>\n",
       "      <td>816</td>\n",
       "      <td>2701.0</td>\n",
       "      <td>0</td>\n",
       "      <td>NaN</td>\n",
       "    </tr>\n",
       "  </tbody>\n",
       "</table>\n",
       "<p>179781 rows × 16 columns</p>\n",
       "</div>"
      ],
      "text/plain": [
       "            ID   DATE_DEPARTURE_UTC     DATE_ARRIVAL_UTC   DATE_DEPARTURE_LCL  \\\n",
       "0       425552  2020-01-23 01:26:00  2020-01-23 02:52:00  2020-01-22 20:26:00   \n",
       "1       415418  2020-01-23 01:26:00  2020-01-23 03:04:00  2020-01-22 19:26:00   \n",
       "2       414222  2020-01-23 01:26:00  2020-01-23 03:06:00  2020-01-22 18:26:00   \n",
       "3       421432  2020-01-23 01:26:00  2020-01-23 02:48:00  2020-01-22 17:26:00   \n",
       "4       421356  2020-01-23 01:26:00  2020-01-23 02:24:00  2020-01-22 17:26:00   \n",
       "...        ...                  ...                  ...                  ...   \n",
       "179776  595550  2020-02-01 09:21:00  2020-02-01 14:09:00  2020-01-31 23:21:00   \n",
       "179777  605277  2020-02-01 09:27:00  2020-02-01 14:46:00  2020-01-31 23:27:00   \n",
       "179778  588211  2020-02-01 09:38:00  2020-02-01 14:52:00  2020-01-31 23:38:00   \n",
       "179779  605355  2020-02-01 09:39:00  2020-02-01 14:48:00  2020-01-31 23:39:00   \n",
       "179780  588169  2020-02-01 09:42:00  2020-02-01 14:57:00  2020-01-31 23:42:00   \n",
       "\n",
       "           DATE_ARRIVAL_LCL ORIGIN  ORIGIN_AIRPORT_ID DEST  DEST_AIRPORT_ID  \\\n",
       "0       2020-01-22 21:52:00    LGA              12953  BGR            10581   \n",
       "1       2020-01-22 22:04:00    MDW              13232  PHL            14100   \n",
       "2       2020-01-22 19:06:00    DEN              11292  LAS            12889   \n",
       "3       2020-01-22 18:48:00    SJC              14831  SAN            14679   \n",
       "4       2020-01-22 18:24:00    SJC              14831  BUR            10800   \n",
       "...                     ...    ...                ...  ...              ...   \n",
       "179776  2020-02-01 06:09:00    KOA              12758  SFO            14771   \n",
       "179777  2020-02-01 06:46:00    LIH              12982  LAX            12892   \n",
       "179778  2020-02-01 06:52:00    KOA              12758  SEA            14747   \n",
       "179779  2020-02-01 06:48:00    HNL              12173  SEA            14747   \n",
       "179780  2020-02-01 06:57:00    LIH              12982  SEA            14747   \n",
       "\n",
       "       TAIL_NUM OP_CARRIER  OP_CARRIER_AIRLINE_ID  OP_CARRIER_FL_NUM  \\\n",
       "0        N8894A         9E                  20363               5032   \n",
       "1        N8615E         WN                  19393               1168   \n",
       "2        N7853B         WN                  19393                799   \n",
       "3        N7812G         WN                  19393               4454   \n",
       "4        N7859B         WN                  19393               2024   \n",
       "...         ...        ...                    ...                ...   \n",
       "179776   N77430         UA                  19977               1724   \n",
       "179777   N544US         DL                  19790               1381   \n",
       "179778   N566AS         AS                  19930                880   \n",
       "179779   N1611B         DL                  19790               1450   \n",
       "179780   N585AS         AS                  19930                816   \n",
       "\n",
       "        DISTANCE  CANCELLED  DEP_DEL15  \n",
       "0          378.0          0        NaN  \n",
       "1          668.0          0        NaN  \n",
       "2          628.0          0        NaN  \n",
       "3          417.0          0        0.0  \n",
       "4          296.0          0        NaN  \n",
       "...          ...        ...        ...  \n",
       "179776    2367.0          0        NaN  \n",
       "179777    2615.0          0        0.0  \n",
       "179778    2688.0          0        1.0  \n",
       "179779    2677.0          0        NaN  \n",
       "179780    2701.0          0        NaN  \n",
       "\n",
       "[179781 rows x 16 columns]"
      ]
     },
     "execution_count": 13,
     "metadata": {},
     "output_type": "execute_result"
    }
   ],
   "source": [
    "train_data = pd.read_csv(\"data/train.csv\")\n",
    "df = train_data.copy()\n",
    "X, y = df.drop('ARR_DEL15', axis=1), df['ARR_DEL15']\n",
    "X_train, X_val, y_train, y_val = train_test_split(X, y, test_size=0.8)\n",
    "\n",
    "X_train.head()\n",
    "\n",
    "test_data = pd.read_csv(\"data/test.csv\")\n",
    "X_test = test_data.copy()\n",
    "X_test"
   ]
  },
  {
   "cell_type": "code",
   "execution_count": 14,
   "metadata": {},
   "outputs": [],
   "source": [
    "keep_columns = ['DISTANCE','DEP_DEL15']\n",
    "drop_columns = X_train.columns[~ X_train.columns.isin(keep_columns)]\n",
    "class DropColumns(TransformerMixin):\n",
    "\n",
    "    \n",
    "    def transform(self, X, *_):\n",
    "        for colname in drop_columns:\n",
    "            X = X.drop(colname, axis=1)\n",
    "            \n",
    "        return X\n",
    "    \n",
    "    def fit(self, *_):\n",
    "        return self"
   ]
  },
  {
   "cell_type": "code",
   "execution_count": 15,
   "metadata": {},
   "outputs": [],
   "source": [
    "numeric_features = ['DISTANCE']\n",
    "numeric_transformer = Pipeline(steps=[\n",
    "    ('imputer', SimpleImputer(strategy='median')),\n",
    "    ('scaler',   MinMaxScaler())]) #  MinMaxScaler() # StandardScaler()\n",
    "\n",
    "categorical_features = ['DEP_DEL15']\n",
    "categorical_transformer = Pipeline(steps=[\n",
    "    ('imputer', SimpleImputer(strategy='constant', fill_value=0)),\n",
    "    ('onehot', OneHotEncoder(handle_unknown='ignore'))])"
   ]
  },
  {
   "cell_type": "code",
   "execution_count": 16,
   "metadata": {},
   "outputs": [],
   "source": [
    "preprocessor = ColumnTransformer(\n",
    "    transformers=[\n",
    "        ('num', numeric_transformer, numeric_features),\n",
    "        ('cat', categorical_transformer, categorical_features)])"
   ]
  },
  {
   "cell_type": "code",
   "execution_count": 17,
   "metadata": {},
   "outputs": [],
   "source": [
    "prep = Pipeline(steps=[('DropColumns', DropColumns()), ('preprocessor', preprocessor)])"
   ]
  },
  {
   "cell_type": "code",
   "execution_count": 18,
   "metadata": {
    "scrolled": true
   },
   "outputs": [
    {
     "data": {
      "text/plain": [
       "array([[0.07780411, 1.        , 0.        ],\n",
       "       [0.07464455, 1.        , 0.        ],\n",
       "       [0.13823065, 1.        , 0.        ],\n",
       "       ...,\n",
       "       [0.04127172, 1.        , 0.        ],\n",
       "       [0.11275671, 1.        , 0.        ],\n",
       "       [0.08254344, 1.        , 0.        ]])"
      ]
     },
     "execution_count": 18,
     "metadata": {},
     "output_type": "execute_result"
    }
   ],
   "source": [
    "prep.fit_transform(X_train)"
   ]
  },
  {
   "cell_type": "code",
   "execution_count": 19,
   "metadata": {},
   "outputs": [],
   "source": [
    "# Append classifier to preprocessing pipeline.\n",
    "# Now we have a full prediction pipeline.\n",
    "clf = Pipeline(steps=[\n",
    "    ('DropColumns', DropColumns()),\n",
    "    ('preprocessor', preprocessor),\n",
    "    ('classifier', RandomForestClassifier(max_depth=2, random_state=0))])"
   ]
  },
  {
   "cell_type": "code",
   "execution_count": 20,
   "metadata": {
    "scrolled": true
   },
   "outputs": [],
   "source": [
    "# Append classifier to preprocessing pipeline.\n",
    "# Now we have a full prediction pipeline.\n",
    "clf.fit(X_train, y_train)\n",
    "y_pred_val = clf.predict(X_val)\n",
    "probas = clf.predict_proba(X_val)"
   ]
  },
  {
   "cell_type": "code",
   "execution_count": 21,
   "metadata": {},
   "outputs": [
    {
     "data": {
      "text/plain": [
       "array([0.91866   , 0.91914858, 0.91914858, ..., 0.8967562 , 0.91340607,\n",
       "       0.91866   ])"
      ]
     },
     "execution_count": 21,
     "metadata": {},
     "output_type": "execute_result"
    }
   ],
   "source": [
    "probas[:,0]"
   ]
  },
  {
   "cell_type": "code",
   "execution_count": 22,
   "metadata": {},
   "outputs": [],
   "source": [
    "from sklearn.metrics import accuracy_score, precision_score, \\\n",
    "                            recall_score, f1_score, \\\n",
    "                            roc_auc_score, roc_curve, \\\n",
    "                            confusion_matrix\n",
    "\n",
    "from matplotlib import pyplot as plt  # for the plots "
   ]
  },
  {
   "cell_type": "code",
   "execution_count": 23,
   "metadata": {},
   "outputs": [
    {
     "data": {
      "text/plain": [
       "0.9013796597038053"
      ]
     },
     "execution_count": 23,
     "metadata": {},
     "output_type": "execute_result"
    }
   ],
   "source": [
    "# advice: always use named arguments when calculating metrics \n",
    "accuracy = accuracy_score(y_true=y_val, y_pred=y_pred_val)\n",
    "accuracy"
   ]
  },
  {
   "cell_type": "code",
   "execution_count": 24,
   "metadata": {},
   "outputs": [
    {
     "data": {
      "text/plain": [
       "0.7593471718017935"
      ]
     },
     "execution_count": 24,
     "metadata": {},
     "output_type": "execute_result"
    }
   ],
   "source": [
    "# advice: always use named arguments when calculating metrics\n",
    "precision = precision_score(y_true=y_val, y_pred=y_pred_val)\n",
    "precision"
   ]
  },
  {
   "cell_type": "code",
   "execution_count": 25,
   "metadata": {},
   "outputs": [
    {
     "data": {
      "text/plain": [
       "0.4912974524722462"
      ]
     },
     "execution_count": 25,
     "metadata": {},
     "output_type": "execute_result"
    }
   ],
   "source": [
    "# advice: always use named arguments when calculating metrics\n",
    "recall = recall_score(y_true=y_val, y_pred=y_pred_val)\n",
    "recall\n"
   ]
  },
  {
   "cell_type": "code",
   "execution_count": 26,
   "metadata": {},
   "outputs": [
    {
     "data": {
      "text/plain": [
       "0.7491950137726493"
      ]
     },
     "execution_count": 26,
     "metadata": {},
     "output_type": "execute_result"
    }
   ],
   "source": [
    "roc_auc = roc_auc_score(y_true=y_val, y_score=probas[:,1])\n",
    "roc_auc"
   ]
  },
  {
   "cell_type": "code",
   "execution_count": 27,
   "metadata": {},
   "outputs": [],
   "source": [
    "fpr, tpr, thresholds = roc_curve(y_true=y_val, y_score=probas[:,1])"
   ]
  },
  {
   "cell_type": "code",
   "execution_count": 28,
   "metadata": {},
   "outputs": [
    {
     "data": {
      "image/png": "[encoded data removed]",
      "text/plain": [
       "<Figure size 576x432 with 1 Axes>"
      ]
     },
     "metadata": {
      "needs_background": "light"
     },
     "output_type": "display_data"
    }
   ],
   "source": [
    "def plot_roc_curve(roc_auc, fpr, tpr):\n",
    "    # Function to plot ROC Curve\n",
    "    # Inputs: \n",
    "    #     roc_auc - AU ROC value (float)\n",
    "    #     fpr - false positive rate (output of roc_curve()) array\n",
    "    #     tpr - true positive rate (output of roc_curve()) array\n",
    "    plt.figure(figsize=(8, 6))\n",
    "    lw = 2\n",
    "    plt.plot(fpr, tpr, color='orange', lw=lw, label='ROC curve (AUROC = %0.2f)' % roc_auc)\n",
    "    plt.plot([0, 1], [0, 1], color='navy', lw=lw, linestyle='--', label='random')\n",
    "    plt.xlim([0.0, 1.0])\n",
    "    plt.ylim([0.0, 1.05])\n",
    "    plt.grid()\n",
    "    plt.xlabel('False Positive Rate')\n",
    "    plt.ylabel('True Positive Rate')\n",
    "    plt.title('Delayed Flight')\n",
    "    plt.legend(loc=\"lower right\")\n",
    "    plt.show()\n",
    "    \n",
    "plot_roc_curve(roc_auc=roc_auc, fpr=fpr, tpr=tpr)"
   ]
  },
  {
   "cell_type": "code",
   "execution_count": 29,
   "metadata": {},
   "outputs": [],
   "source": [
    "confmat = confusion_matrix(y_true=y_val, y_pred=y_pred_val)"
   ]
  },
  {
   "cell_type": "code",
   "execution_count": 30,
   "metadata": {},
   "outputs": [
    {
     "data": {
      "image/png": "[encoded data removed]",
      "text/plain": [
       "<Figure size 288x288 with 1 Axes>"
      ]
     },
     "metadata": {
      "needs_background": "light"
     },
     "output_type": "display_data"
    }
   ],
   "source": [
    "def make_confmat_pretty(confmat):\n",
    "    # Plot the confusion matrix\n",
    "    fig, ax = plt.subplots(figsize=(4, 4))\n",
    "    ax.matshow(confmat, cmap=plt.cm.Blues, alpha=0.4)\n",
    "    for i in range(confmat.shape[0]):\n",
    "        for j in range(confmat.shape[1]):\n",
    "            ax.text(x=j, y=i,\n",
    "                    s=confmat[i, j],\n",
    "                    va='center', ha='center')\n",
    "    plt.xlabel('predicted label')\n",
    "    plt.ylabel('true label')\n",
    "    plt.title('Confusion Matrix')\n",
    "    plt.show()\n",
    "    \n",
    "make_confmat_pretty(confmat=confmat)"
   ]
  }
 ],
 "metadata": {
  "kernelspec": {
   "display_name": "Python 3",
   "language": "python",
   "name": "python3"
  },
  "language_info": {
   "codemirror_mode": {
    "name": "ipython",
    "version": 3
   },
   "file_extension": ".py",
   "mimetype": "text/x-python",
   "name": "python",
   "nbconvert_exporter": "python",
   "pygments_lexer": "ipython3",
   "version": "3.6.9"
  }
 },
 "nbformat": 4,
 "nbformat_minor": 4
}
