{
 "cells": [
  {
   "cell_type": "code",
   "execution_count": 55,
   "metadata": {},
   "outputs": [
    {
     "ename": "ModuleNotFoundError",
     "evalue": "No module named 'ml_metrics'",
     "output_type": "error",
     "traceback": [
      "\u001b[0;31m---------------------------------------------------------------------------\u001b[0m",
      "\u001b[0;31mModuleNotFoundError\u001b[0m                       Traceback (most recent call last)",
      "\u001b[0;32m<ipython-input-55-ac78dfe3ea9f>\u001b[0m in \u001b[0;36m<module>\u001b[0;34m\u001b[0m\n\u001b[1;32m     10\u001b[0m \u001b[0;34m\u001b[0m\u001b[0m\n\u001b[1;32m     11\u001b[0m \u001b[0;31m# Model Evaluation\u001b[0m\u001b[0;34m\u001b[0m\u001b[0;34m\u001b[0m\u001b[0;34m\u001b[0m\u001b[0m\n\u001b[0;32m---> 12\u001b[0;31m \u001b[0;32mfrom\u001b[0m \u001b[0mevaluation\u001b[0m \u001b[0;32mimport\u001b[0m \u001b[0mevaluate\u001b[0m\u001b[0;34m\u001b[0m\u001b[0;34m\u001b[0m\u001b[0m\n\u001b[0m\u001b[1;32m     13\u001b[0m \u001b[0mget_ipython\u001b[0m\u001b[0;34m(\u001b[0m\u001b[0;34m)\u001b[0m\u001b[0;34m.\u001b[0m\u001b[0mrun_line_magic\u001b[0m\u001b[0;34m(\u001b[0m\u001b[0;34m'matplotlib'\u001b[0m\u001b[0;34m,\u001b[0m \u001b[0;34m'inline'\u001b[0m\u001b[0;34m)\u001b[0m\u001b[0;34m\u001b[0m\u001b[0;34m\u001b[0m\u001b[0m\n",
      "\u001b[0;32m~/projects/batch4-workspace/S05 - Recommender Systems/HCKT05 - Recommender Systems/evaluation.py\u001b[0m in \u001b[0;36m<module>\u001b[0;34m\u001b[0m\n\u001b[1;32m      2\u001b[0m \u001b[0;32mimport\u001b[0m \u001b[0margparse\u001b[0m\u001b[0;34m\u001b[0m\u001b[0;34m\u001b[0m\u001b[0m\n\u001b[1;32m      3\u001b[0m \u001b[0;34m\u001b[0m\u001b[0m\n\u001b[0;32m----> 4\u001b[0;31m \u001b[0;32mimport\u001b[0m \u001b[0mml_metrics\u001b[0m \u001b[0;32mas\u001b[0m \u001b[0mmetrics\u001b[0m\u001b[0;34m\u001b[0m\u001b[0;34m\u001b[0m\u001b[0m\n\u001b[0m\u001b[1;32m      5\u001b[0m \u001b[0;34m\u001b[0m\u001b[0m\n\u001b[1;32m      6\u001b[0m \u001b[0mparser\u001b[0m \u001b[0;34m=\u001b[0m \u001b[0margparse\u001b[0m\u001b[0;34m.\u001b[0m\u001b[0mArgumentParser\u001b[0m\u001b[0;34m(\u001b[0m\u001b[0;34m)\u001b[0m\u001b[0;34m\u001b[0m\u001b[0;34m\u001b[0m\u001b[0m\n",
      "\u001b[0;31mModuleNotFoundError\u001b[0m: No module named 'ml_metrics'"
     ]
    }
   ],
   "source": [
    "import pandas as pd\n",
    "import numpy as np\n",
    "import matplotlib.pyplot as plt\n",
    "from scipy.sparse import csr_matrix, save_npz, load_npz\n",
    "# Scikit-learn\n",
    "from sklearn.metrics.pairwise import cosine_similarity\n",
    "from sklearn.model_selection import train_test_split\n",
    "\n",
    "import os\n",
    "\n",
    "# Model Evaluation\n",
    "from evaluation import evaluate\n",
    "%matplotlib inline"
   ]
  },
  {
   "cell_type": "code",
   "execution_count": null,
   "metadata": {},
   "outputs": [],
   "source": [
    "! explorer.exe ."
   ]
  },
  {
   "cell_type": "markdown",
   "metadata": {},
   "source": [
    "## Understanding the data\n",
    "\n",
    "- The dataset that you selected is appropriated for building a RS?\n",
    "- Do you have data regarding the items or only about the users' preference?\n",
    "- Do you have a test dataset or do you have to create it?"
   ]
  },
  {
   "cell_type": "code",
   "execution_count": 3,
   "metadata": {},
   "outputs": [
    {
     "name": "stdout",
     "output_type": "stream",
     "text": [
      "BookRatings.csv \n",
      "\n",
      "User-ID,ISBN,Book-Rating\r\n",
      "99,0316748641,7\r\n",
      "99,0446677450,10\r\n",
      "99,0553347594,9\r\n"
     ]
    }
   ],
   "source": [
    "print(\"BookRatings.csv \\n\")\n",
    "!head -4 data/BookRatings.csv"
   ]
  },
  {
   "cell_type": "code",
   "execution_count": 4,
   "metadata": {},
   "outputs": [
    {
     "name": "stdout",
     "output_type": "stream",
     "text": [
      "BooksMetaInfo.csv \n",
      "\n",
      "ISBN,Book-Title,Book-Author,Year-Of-Publication,Publisher,Image-URL-S,Image-URL-M,Image-URL-L,authors,description,pageCount,categories\r\n",
      "0195153448,Classical Mythology,Mark P. O. Morford,2002,Oxford University Press,http://images.amazon.com/images/P/0195153448.01.THUMBZZZ.jpg,http://images.amazon.com/images/P/0195153448.01.MZZZZZZZ.jpg,http://images.amazon.com/images/P/0195153448.01.LZZZZZZZ.jpg,\"['Mark P. O. Morford', 'Robert J. Lenardon']\",\"Provides an introduction to classical myths placing the addressed topics within their historical context, discussion of archaeological evidence as support for mythical events, and how these themes have been portrayed in literature, art, music, and film.\",808.0,['Social Science']\r\n"
     ]
    }
   ],
   "source": [
    "print(\"BooksMetaInfo.csv \\n\")\n",
    "!head -2 data/BooksMetaInfo.csv"
   ]
  },
  {
   "cell_type": "code",
   "execution_count": 5,
   "metadata": {},
   "outputs": [
    {
     "name": "stdout",
     "output_type": "stream",
     "text": [
      "BooksUsers.csv \n",
      "\n",
      "User-ID,Location,Age\r\n",
      "2,\"stockton, california, usa\",18.0\r\n",
      "8,\"timmins, ontario, canada\",\r\n",
      "9,\"germantown, tennessee, usa\",\r\n"
     ]
    }
   ],
   "source": [
    "print(\"BooksUsers.csv \\n\")\n",
    "!head -4 data/BooksUsers.csv"
   ]
  },
  {
   "cell_type": "code",
   "execution_count": 6,
   "metadata": {},
   "outputs": [
    {
     "name": "stdout",
     "output_type": "stream",
     "text": [
      "test_users.csv \n",
      "\n",
      "User-ID\r\n",
      "114\r\n",
      "507\r\n",
      "850\r\n"
     ]
    }
   ],
   "source": [
    "print(\"test_users.csv \\n\")\n",
    "!head -4 data/test_users.csv"
   ]
  },
  {
   "cell_type": "markdown",
   "metadata": {},
   "source": [
    "## Load the Data"
   ]
  },
  {
   "cell_type": "code",
   "execution_count": 7,
   "metadata": {},
   "outputs": [
    {
     "data": {
      "text/html": [
       "<div>\n",
       "<style scoped>\n",
       "    .dataframe tbody tr th:only-of-type {\n",
       "        vertical-align: middle;\n",
       "    }\n",
       "\n",
       "    .dataframe tbody tr th {\n",
       "        vertical-align: top;\n",
       "    }\n",
       "\n",
       "    .dataframe thead th {\n",
       "        text-align: right;\n",
       "    }\n",
       "</style>\n",
       "<table border=\"1\" class=\"dataframe\">\n",
       "  <thead>\n",
       "    <tr style=\"text-align: right;\">\n",
       "      <th></th>\n",
       "      <th>User-ID</th>\n",
       "      <th>ISBN</th>\n",
       "      <th>Book-Rating</th>\n",
       "    </tr>\n",
       "  </thead>\n",
       "  <tbody>\n",
       "    <tr>\n",
       "      <th>0</th>\n",
       "      <td>99</td>\n",
       "      <td>0316748641</td>\n",
       "      <td>7</td>\n",
       "    </tr>\n",
       "    <tr>\n",
       "      <th>1</th>\n",
       "      <td>99</td>\n",
       "      <td>0446677450</td>\n",
       "      <td>10</td>\n",
       "    </tr>\n",
       "    <tr>\n",
       "      <th>2</th>\n",
       "      <td>99</td>\n",
       "      <td>0553347594</td>\n",
       "      <td>9</td>\n",
       "    </tr>\n",
       "    <tr>\n",
       "      <th>3</th>\n",
       "      <td>99</td>\n",
       "      <td>0451166892</td>\n",
       "      <td>3</td>\n",
       "    </tr>\n",
       "    <tr>\n",
       "      <th>4</th>\n",
       "      <td>99</td>\n",
       "      <td>0671621009</td>\n",
       "      <td>10</td>\n",
       "    </tr>\n",
       "    <tr>\n",
       "      <th>5</th>\n",
       "      <td>99</td>\n",
       "      <td>0312252617</td>\n",
       "      <td>8</td>\n",
       "    </tr>\n",
       "    <tr>\n",
       "      <th>6</th>\n",
       "      <td>114</td>\n",
       "      <td>0671027360</td>\n",
       "      <td>10</td>\n",
       "    </tr>\n",
       "    <tr>\n",
       "      <th>7</th>\n",
       "      <td>114</td>\n",
       "      <td>0553584383</td>\n",
       "      <td>9</td>\n",
       "    </tr>\n",
       "    <tr>\n",
       "      <th>8</th>\n",
       "      <td>114</td>\n",
       "      <td>0451208080</td>\n",
       "      <td>8</td>\n",
       "    </tr>\n",
       "    <tr>\n",
       "      <th>9</th>\n",
       "      <td>243</td>\n",
       "      <td>155874262X</td>\n",
       "      <td>5</td>\n",
       "    </tr>\n",
       "    <tr>\n",
       "      <th>10</th>\n",
       "      <td>243</td>\n",
       "      <td>0375400117</td>\n",
       "      <td>10</td>\n",
       "    </tr>\n",
       "    <tr>\n",
       "      <th>11</th>\n",
       "      <td>243</td>\n",
       "      <td>0446364800</td>\n",
       "      <td>9</td>\n",
       "    </tr>\n",
       "    <tr>\n",
       "      <th>12</th>\n",
       "      <td>243</td>\n",
       "      <td>0060915544</td>\n",
       "      <td>10</td>\n",
       "    </tr>\n",
       "    <tr>\n",
       "      <th>13</th>\n",
       "      <td>243</td>\n",
       "      <td>0316776963</td>\n",
       "      <td>9</td>\n",
       "    </tr>\n",
       "    <tr>\n",
       "      <th>14</th>\n",
       "      <td>243</td>\n",
       "      <td>0449006522</td>\n",
       "      <td>6</td>\n",
       "    </tr>\n",
       "    <tr>\n",
       "      <th>15</th>\n",
       "      <td>243</td>\n",
       "      <td>044023722X</td>\n",
       "      <td>7</td>\n",
       "    </tr>\n",
       "    <tr>\n",
       "      <th>16</th>\n",
       "      <td>243</td>\n",
       "      <td>0385720106</td>\n",
       "      <td>7</td>\n",
       "    </tr>\n",
       "    <tr>\n",
       "      <th>17</th>\n",
       "      <td>243</td>\n",
       "      <td>0786863986</td>\n",
       "      <td>5</td>\n",
       "    </tr>\n",
       "    <tr>\n",
       "      <th>18</th>\n",
       "      <td>243</td>\n",
       "      <td>0385316895</td>\n",
       "      <td>6</td>\n",
       "    </tr>\n",
       "    <tr>\n",
       "      <th>19</th>\n",
       "      <td>243</td>\n",
       "      <td>0553580388</td>\n",
       "      <td>8</td>\n",
       "    </tr>\n",
       "  </tbody>\n",
       "</table>\n",
       "</div>"
      ],
      "text/plain": [
       "    User-ID        ISBN  Book-Rating\n",
       "0        99  0316748641            7\n",
       "1        99  0446677450           10\n",
       "2        99  0553347594            9\n",
       "3        99  0451166892            3\n",
       "4        99  0671621009           10\n",
       "5        99  0312252617            8\n",
       "6       114  0671027360           10\n",
       "7       114  0553584383            9\n",
       "8       114  0451208080            8\n",
       "9       243  155874262X            5\n",
       "10      243  0375400117           10\n",
       "11      243  0446364800            9\n",
       "12      243  0060915544           10\n",
       "13      243  0316776963            9\n",
       "14      243  0449006522            6\n",
       "15      243  044023722X            7\n",
       "16      243  0385720106            7\n",
       "17      243  0786863986            5\n",
       "18      243  0385316895            6\n",
       "19      243  0553580388            8"
      ]
     },
     "execution_count": 7,
     "metadata": {},
     "output_type": "execute_result"
    }
   ],
   "source": [
    "path = os.path.join('data','BookRatings.csv')\n",
    "book_ratings_df = pd.read_csv(path)\n",
    "book_ratings_df.head(n=20)"
   ]
  },
  {
   "cell_type": "code",
   "execution_count": 8,
   "metadata": {},
   "outputs": [
    {
     "data": {
      "text/plain": [
       "(109209, 3)"
      ]
     },
     "execution_count": 8,
     "metadata": {},
     "output_type": "execute_result"
    }
   ],
   "source": [
    "book_ratings_df.shape"
   ]
  },
  {
   "cell_type": "code",
   "execution_count": 9,
   "metadata": {},
   "outputs": [
    {
     "name": "stderr",
     "output_type": "stream",
     "text": [
      "/home/sonia/.virtualenvs/blu10/lib/python3.6/site-packages/IPython/core/interactiveshell.py:3072: DtypeWarning: Columns (3) have mixed types.Specify dtype option on import or set low_memory=False.\n",
      "  interactivity=interactivity, compiler=compiler, result=result)\n"
     ]
    },
    {
     "data": {
      "text/html": [
       "<div>\n",
       "<style scoped>\n",
       "    .dataframe tbody tr th:only-of-type {\n",
       "        vertical-align: middle;\n",
       "    }\n",
       "\n",
       "    .dataframe tbody tr th {\n",
       "        vertical-align: top;\n",
       "    }\n",
       "\n",
       "    .dataframe thead th {\n",
       "        text-align: right;\n",
       "    }\n",
       "</style>\n",
       "<table border=\"1\" class=\"dataframe\">\n",
       "  <thead>\n",
       "    <tr style=\"text-align: right;\">\n",
       "      <th></th>\n",
       "      <th>ISBN</th>\n",
       "      <th>Book-Title</th>\n",
       "      <th>Book-Author</th>\n",
       "      <th>Year-Of-Publication</th>\n",
       "      <th>Publisher</th>\n",
       "      <th>Image-URL-S</th>\n",
       "      <th>Image-URL-M</th>\n",
       "      <th>Image-URL-L</th>\n",
       "      <th>authors</th>\n",
       "      <th>description</th>\n",
       "      <th>pageCount</th>\n",
       "      <th>categories</th>\n",
       "    </tr>\n",
       "  </thead>\n",
       "  <tbody>\n",
       "    <tr>\n",
       "      <th>0</th>\n",
       "      <td>0195153448</td>\n",
       "      <td>Classical Mythology</td>\n",
       "      <td>Mark P. O. Morford</td>\n",
       "      <td>2002</td>\n",
       "      <td>Oxford University Press</td>\n",
       "      <td>http://images.amazon.com/images/P/0195153448.0...</td>\n",
       "      <td>http://images.amazon.com/images/P/0195153448.0...</td>\n",
       "      <td>http://images.amazon.com/images/P/0195153448.0...</td>\n",
       "      <td>['Mark P. O. Morford', 'Robert J. Lenardon']</td>\n",
       "      <td>Provides an introduction to classical myths pl...</td>\n",
       "      <td>808.0</td>\n",
       "      <td>['Social Science']</td>\n",
       "    </tr>\n",
       "    <tr>\n",
       "      <th>1</th>\n",
       "      <td>0002005018</td>\n",
       "      <td>Clara Callan</td>\n",
       "      <td>Richard Bruce Wright</td>\n",
       "      <td>2001</td>\n",
       "      <td>HarperFlamingo Canada</td>\n",
       "      <td>http://images.amazon.com/images/P/0002005018.0...</td>\n",
       "      <td>http://images.amazon.com/images/P/0002005018.0...</td>\n",
       "      <td>http://images.amazon.com/images/P/0002005018.0...</td>\n",
       "      <td>['Richard Bruce Wright']</td>\n",
       "      <td>In a small town in Canada, Clara Callan reluct...</td>\n",
       "      <td>414.0</td>\n",
       "      <td>['Actresses']</td>\n",
       "    </tr>\n",
       "    <tr>\n",
       "      <th>2</th>\n",
       "      <td>0060973129</td>\n",
       "      <td>Decision in Normandy</td>\n",
       "      <td>Carlo D'Este</td>\n",
       "      <td>1991</td>\n",
       "      <td>HarperPerennial</td>\n",
       "      <td>http://images.amazon.com/images/P/0060973129.0...</td>\n",
       "      <td>http://images.amazon.com/images/P/0060973129.0...</td>\n",
       "      <td>http://images.amazon.com/images/P/0060973129.0...</td>\n",
       "      <td>[\"Carlo D'Este\"]</td>\n",
       "      <td>Here, for the first time in paperback, is an o...</td>\n",
       "      <td>555.0</td>\n",
       "      <td>['1940-1949']</td>\n",
       "    </tr>\n",
       "    <tr>\n",
       "      <th>3</th>\n",
       "      <td>0374157065</td>\n",
       "      <td>Flu: The Story of the Great Influenza Pandemic...</td>\n",
       "      <td>Gina Bari Kolata</td>\n",
       "      <td>1999</td>\n",
       "      <td>Farrar Straus Giroux</td>\n",
       "      <td>http://images.amazon.com/images/P/0374157065.0...</td>\n",
       "      <td>http://images.amazon.com/images/P/0374157065.0...</td>\n",
       "      <td>http://images.amazon.com/images/P/0374157065.0...</td>\n",
       "      <td>['Gina Bari Kolata']</td>\n",
       "      <td>Describes the great flu epidemic of 1918, an o...</td>\n",
       "      <td>330.0</td>\n",
       "      <td>['Medical']</td>\n",
       "    </tr>\n",
       "    <tr>\n",
       "      <th>4</th>\n",
       "      <td>0393045218</td>\n",
       "      <td>The Mummies of Urumchi</td>\n",
       "      <td>E. J. W. Barber</td>\n",
       "      <td>1999</td>\n",
       "      <td>W. W. Norton &amp;amp; Company</td>\n",
       "      <td>http://images.amazon.com/images/P/0393045218.0...</td>\n",
       "      <td>http://images.amazon.com/images/P/0393045218.0...</td>\n",
       "      <td>http://images.amazon.com/images/P/0393045218.0...</td>\n",
       "      <td>['E. J. W. Barber']</td>\n",
       "      <td>A look at the incredibly well-preserved ancien...</td>\n",
       "      <td>240.0</td>\n",
       "      <td>['Design']</td>\n",
       "    </tr>\n",
       "  </tbody>\n",
       "</table>\n",
       "</div>"
      ],
      "text/plain": [
       "         ISBN                                         Book-Title  \\\n",
       "0  0195153448                                Classical Mythology   \n",
       "1  0002005018                                       Clara Callan   \n",
       "2  0060973129                               Decision in Normandy   \n",
       "3  0374157065  Flu: The Story of the Great Influenza Pandemic...   \n",
       "4  0393045218                             The Mummies of Urumchi   \n",
       "\n",
       "            Book-Author Year-Of-Publication                   Publisher  \\\n",
       "0    Mark P. O. Morford                2002     Oxford University Press   \n",
       "1  Richard Bruce Wright                2001       HarperFlamingo Canada   \n",
       "2          Carlo D'Este                1991             HarperPerennial   \n",
       "3      Gina Bari Kolata                1999        Farrar Straus Giroux   \n",
       "4       E. J. W. Barber                1999  W. W. Norton &amp; Company   \n",
       "\n",
       "                                         Image-URL-S  \\\n",
       "0  http://images.amazon.com/images/P/0195153448.0...   \n",
       "1  http://images.amazon.com/images/P/0002005018.0...   \n",
       "2  http://images.amazon.com/images/P/0060973129.0...   \n",
       "3  http://images.amazon.com/images/P/0374157065.0...   \n",
       "4  http://images.amazon.com/images/P/0393045218.0...   \n",
       "\n",
       "                                         Image-URL-M  \\\n",
       "0  http://images.amazon.com/images/P/0195153448.0...   \n",
       "1  http://images.amazon.com/images/P/0002005018.0...   \n",
       "2  http://images.amazon.com/images/P/0060973129.0...   \n",
       "3  http://images.amazon.com/images/P/0374157065.0...   \n",
       "4  http://images.amazon.com/images/P/0393045218.0...   \n",
       "\n",
       "                                         Image-URL-L  \\\n",
       "0  http://images.amazon.com/images/P/0195153448.0...   \n",
       "1  http://images.amazon.com/images/P/0002005018.0...   \n",
       "2  http://images.amazon.com/images/P/0060973129.0...   \n",
       "3  http://images.amazon.com/images/P/0374157065.0...   \n",
       "4  http://images.amazon.com/images/P/0393045218.0...   \n",
       "\n",
       "                                        authors  \\\n",
       "0  ['Mark P. O. Morford', 'Robert J. Lenardon']   \n",
       "1                      ['Richard Bruce Wright']   \n",
       "2                              [\"Carlo D'Este\"]   \n",
       "3                          ['Gina Bari Kolata']   \n",
       "4                           ['E. J. W. Barber']   \n",
       "\n",
       "                                         description  pageCount  \\\n",
       "0  Provides an introduction to classical myths pl...      808.0   \n",
       "1  In a small town in Canada, Clara Callan reluct...      414.0   \n",
       "2  Here, for the first time in paperback, is an o...      555.0   \n",
       "3  Describes the great flu epidemic of 1918, an o...      330.0   \n",
       "4  A look at the incredibly well-preserved ancien...      240.0   \n",
       "\n",
       "           categories  \n",
       "0  ['Social Science']  \n",
       "1       ['Actresses']  \n",
       "2       ['1940-1949']  \n",
       "3         ['Medical']  \n",
       "4          ['Design']  "
      ]
     },
     "execution_count": 9,
     "metadata": {},
     "output_type": "execute_result"
    }
   ],
   "source": [
    "path = os.path.join('data','BooksMetaInfo.csv')\n",
    "book_meta_info_df = pd.read_csv(path)\n",
    "book_meta_info_df.head()"
   ]
  },
  {
   "cell_type": "code",
   "execution_count": 10,
   "metadata": {},
   "outputs": [
    {
     "data": {
      "text/html": [
       "<div>\n",
       "<style scoped>\n",
       "    .dataframe tbody tr th:only-of-type {\n",
       "        vertical-align: middle;\n",
       "    }\n",
       "\n",
       "    .dataframe tbody tr th {\n",
       "        vertical-align: top;\n",
       "    }\n",
       "\n",
       "    .dataframe thead th {\n",
       "        text-align: right;\n",
       "    }\n",
       "</style>\n",
       "<table border=\"1\" class=\"dataframe\">\n",
       "  <thead>\n",
       "    <tr style=\"text-align: right;\">\n",
       "      <th></th>\n",
       "      <th>User-ID</th>\n",
       "      <th>Location</th>\n",
       "      <th>Age</th>\n",
       "    </tr>\n",
       "  </thead>\n",
       "  <tbody>\n",
       "    <tr>\n",
       "      <th>0</th>\n",
       "      <td>2</td>\n",
       "      <td>stockton, california, usa</td>\n",
       "      <td>18.0</td>\n",
       "    </tr>\n",
       "    <tr>\n",
       "      <th>1</th>\n",
       "      <td>8</td>\n",
       "      <td>timmins, ontario, canada</td>\n",
       "      <td>NaN</td>\n",
       "    </tr>\n",
       "    <tr>\n",
       "      <th>2</th>\n",
       "      <td>9</td>\n",
       "      <td>germantown, tennessee, usa</td>\n",
       "      <td>NaN</td>\n",
       "    </tr>\n",
       "    <tr>\n",
       "      <th>3</th>\n",
       "      <td>10</td>\n",
       "      <td>albacete, wisconsin, spain</td>\n",
       "      <td>26.0</td>\n",
       "    </tr>\n",
       "    <tr>\n",
       "      <th>4</th>\n",
       "      <td>12</td>\n",
       "      <td>fort bragg, california, usa</td>\n",
       "      <td>NaN</td>\n",
       "    </tr>\n",
       "  </tbody>\n",
       "</table>\n",
       "</div>"
      ],
      "text/plain": [
       "   User-ID                     Location   Age\n",
       "0        2    stockton, california, usa  18.0\n",
       "1        8     timmins, ontario, canada   NaN\n",
       "2        9   germantown, tennessee, usa   NaN\n",
       "3       10   albacete, wisconsin, spain  26.0\n",
       "4       12  fort bragg, california, usa   NaN"
      ]
     },
     "execution_count": 10,
     "metadata": {},
     "output_type": "execute_result"
    }
   ],
   "source": [
    "path = os.path.join('data','BooksUsers.csv')\n",
    "book_user_df = pd.read_csv(path)\n",
    "book_user_df.head()"
   ]
  },
  {
   "cell_type": "code",
   "execution_count": 11,
   "metadata": {},
   "outputs": [
    {
     "data": {
      "text/html": [
       "<div>\n",
       "<style scoped>\n",
       "    .dataframe tbody tr th:only-of-type {\n",
       "        vertical-align: middle;\n",
       "    }\n",
       "\n",
       "    .dataframe tbody tr th {\n",
       "        vertical-align: top;\n",
       "    }\n",
       "\n",
       "    .dataframe thead th {\n",
       "        text-align: right;\n",
       "    }\n",
       "</style>\n",
       "<table border=\"1\" class=\"dataframe\">\n",
       "  <thead>\n",
       "    <tr style=\"text-align: right;\">\n",
       "      <th></th>\n",
       "      <th>User-ID</th>\n",
       "    </tr>\n",
       "  </thead>\n",
       "  <tbody>\n",
       "    <tr>\n",
       "      <th>0</th>\n",
       "      <td>114</td>\n",
       "    </tr>\n",
       "    <tr>\n",
       "      <th>1</th>\n",
       "      <td>507</td>\n",
       "    </tr>\n",
       "    <tr>\n",
       "      <th>2</th>\n",
       "      <td>850</td>\n",
       "    </tr>\n",
       "    <tr>\n",
       "      <th>3</th>\n",
       "      <td>3346</td>\n",
       "    </tr>\n",
       "    <tr>\n",
       "      <th>4</th>\n",
       "      <td>4092</td>\n",
       "    </tr>\n",
       "  </tbody>\n",
       "</table>\n",
       "</div>"
      ],
      "text/plain": [
       "   User-ID\n",
       "0      114\n",
       "1      507\n",
       "2      850\n",
       "3     3346\n",
       "4     4092"
      ]
     },
     "execution_count": 11,
     "metadata": {},
     "output_type": "execute_result"
    }
   ],
   "source": [
    "path = os.path.join('data','test_users.csv')\n",
    "test_user_df = pd.read_csv(path)\n",
    "test_user_df.head()"
   ]
  },
  {
   "cell_type": "code",
   "execution_count": 12,
   "metadata": {},
   "outputs": [
    {
     "data": {
      "text/plain": [
       "(589, 1)"
      ]
     },
     "execution_count": 12,
     "metadata": {},
     "output_type": "execute_result"
    }
   ],
   "source": [
    "test_user_df.shape"
   ]
  },
  {
   "cell_type": "markdown",
   "metadata": {},
   "source": [
    "## Process and clean data\n",
    "- Check if data needs to be processed and cleaned.\n",
    "- Process and clean data if necessary."
   ]
  },
  {
   "cell_type": "code",
   "execution_count": 13,
   "metadata": {},
   "outputs": [
    {
     "data": {
      "text/plain": [
       "User-ID        0\n",
       "ISBN           0\n",
       "Book-Rating    0\n",
       "dtype: int64"
      ]
     },
     "execution_count": 13,
     "metadata": {},
     "output_type": "execute_result"
    }
   ],
   "source": [
    "book_ratings_df.isnull().sum()"
   ]
  },
  {
   "cell_type": "markdown",
   "metadata": {},
   "source": [
    "## Identify and separate the Users\n",
    "- Which users are present in the training data?\n",
    "- Make sure that you identify which test users are present in the training data and which are not.\n",
    "- Can you use personalized methologies for all users?"
   ]
  },
  {
   "cell_type": "code",
   "execution_count": 14,
   "metadata": {},
   "outputs": [
    {
     "data": {
      "text/plain": [
       "Int64Index([  0,   1,   2,   3,   4,   5,   6,   8,   9,  10,\n",
       "            ...\n",
       "            577, 578, 579, 580, 581, 582, 583, 584, 585, 588],\n",
       "           dtype='int64', length=489)"
      ]
     },
     "execution_count": 14,
     "metadata": {},
     "output_type": "execute_result"
    }
   ],
   "source": [
    "# YOUR CODE HERE\n",
    "# The indexes in training data(book_ratings_df)\n",
    "test_index_in_training_data = test_user_df[test_user_df['User-ID'].isin(book_ratings_df['User-ID'].values).values].index\n",
    "test_index_in_training_data"
   ]
  },
  {
   "cell_type": "code",
   "execution_count": 15,
   "metadata": {},
   "outputs": [
    {
     "data": {
      "text/plain": [
       "Int64Index([  7,  11,  18,  28,  31,  37,  51,  54,  56,  57,  59,  62,  66,\n",
       "             71,  86,  91,  96,  99, 107, 113, 121, 125, 126, 142, 144, 151,\n",
       "            158, 160, 164, 173, 174, 177, 186, 197, 199, 205, 206, 209, 212,\n",
       "            225, 228, 229, 244, 249, 258, 259, 263, 264, 266, 267, 280, 288,\n",
       "            296, 298, 300, 302, 304, 306, 318, 338, 342, 359, 361, 364, 368,\n",
       "            379, 399, 413, 414, 415, 421, 423, 426, 437, 448, 453, 454, 460,\n",
       "            461, 462, 463, 465, 487, 488, 490, 505, 508, 509, 511, 513, 520,\n",
       "            539, 545, 549, 555, 566, 567, 571, 586, 587],\n",
       "           dtype='int64')"
      ]
     },
     "execution_count": 15,
     "metadata": {},
     "output_type": "execute_result"
    }
   ],
   "source": [
    "# indixes not in training data(book_ratings_df)\n",
    "test_index_not_in_training_data = test_user_df[~test_user_df['User-ID'].isin(book_ratings_df['User-ID'].values).values].index\n",
    "test_index_not_in_training_data"
   ]
  },
  {
   "cell_type": "code",
   "execution_count": 16,
   "metadata": {},
   "outputs": [
    {
     "data": {
      "text/plain": [
       "100"
      ]
     },
     "execution_count": 16,
     "metadata": {},
     "output_type": "execute_result"
    }
   ],
   "source": [
    "len(test_index_not_in_training_data)"
   ]
  },
  {
   "cell_type": "code",
   "execution_count": 17,
   "metadata": {},
   "outputs": [
    {
     "data": {
      "text/plain": [
       "489"
      ]
     },
     "execution_count": 17,
     "metadata": {},
     "output_type": "execute_result"
    }
   ],
   "source": [
    "len(test_index_in_training_data)"
   ]
  },
  {
   "cell_type": "code",
   "execution_count": 31,
   "metadata": {},
   "outputs": [],
   "source": [
    "!explorer.exe ."
   ]
  },
  {
   "cell_type": "code",
   "execution_count": 32,
   "metadata": {},
   "outputs": [
    {
     "data": {
      "text/html": [
       "<div>\n",
       "<style scoped>\n",
       "    .dataframe tbody tr th:only-of-type {\n",
       "        vertical-align: middle;\n",
       "    }\n",
       "\n",
       "    .dataframe tbody tr th {\n",
       "        vertical-align: top;\n",
       "    }\n",
       "\n",
       "    .dataframe thead th {\n",
       "        text-align: right;\n",
       "    }\n",
       "</style>\n",
       "<table border=\"1\" class=\"dataframe\">\n",
       "  <thead>\n",
       "    <tr style=\"text-align: right;\">\n",
       "      <th></th>\n",
       "      <th>User-ID</th>\n",
       "    </tr>\n",
       "  </thead>\n",
       "  <tbody>\n",
       "    <tr>\n",
       "      <th>0</th>\n",
       "      <td>114</td>\n",
       "    </tr>\n",
       "    <tr>\n",
       "      <th>1</th>\n",
       "      <td>507</td>\n",
       "    </tr>\n",
       "    <tr>\n",
       "      <th>2</th>\n",
       "      <td>850</td>\n",
       "    </tr>\n",
       "    <tr>\n",
       "      <th>3</th>\n",
       "      <td>3346</td>\n",
       "    </tr>\n",
       "    <tr>\n",
       "      <th>4</th>\n",
       "      <td>4092</td>\n",
       "    </tr>\n",
       "    <tr>\n",
       "      <th>...</th>\n",
       "      <td>...</td>\n",
       "    </tr>\n",
       "    <tr>\n",
       "      <th>582</th>\n",
       "      <td>276463</td>\n",
       "    </tr>\n",
       "    <tr>\n",
       "      <th>583</th>\n",
       "      <td>276626</td>\n",
       "    </tr>\n",
       "    <tr>\n",
       "      <th>584</th>\n",
       "      <td>276681</td>\n",
       "    </tr>\n",
       "    <tr>\n",
       "      <th>585</th>\n",
       "      <td>276847</td>\n",
       "    </tr>\n",
       "    <tr>\n",
       "      <th>588</th>\n",
       "      <td>278633</td>\n",
       "    </tr>\n",
       "  </tbody>\n",
       "</table>\n",
       "<p>489 rows × 1 columns</p>\n",
       "</div>"
      ],
      "text/plain": [
       "     User-ID\n",
       "0        114\n",
       "1        507\n",
       "2        850\n",
       "3       3346\n",
       "4       4092\n",
       "..       ...\n",
       "582   276463\n",
       "583   276626\n",
       "584   276681\n",
       "585   276847\n",
       "588   278633\n",
       "\n",
       "[489 rows x 1 columns]"
      ]
     },
     "execution_count": 32,
     "metadata": {},
     "output_type": "execute_result"
    }
   ],
   "source": [
    "#data frmae for the test data exists in training data\n",
    "test_index_in_training_data_df = test_user_df.iloc[test_index_in_training_data,:]\n",
    "test_index_in_training_data_df"
   ]
  },
  {
   "cell_type": "code",
   "execution_count": 33,
   "metadata": {},
   "outputs": [
    {
     "data": {
      "text/html": [
       "<div>\n",
       "<style scoped>\n",
       "    .dataframe tbody tr th:only-of-type {\n",
       "        vertical-align: middle;\n",
       "    }\n",
       "\n",
       "    .dataframe tbody tr th {\n",
       "        vertical-align: top;\n",
       "    }\n",
       "\n",
       "    .dataframe thead th {\n",
       "        text-align: right;\n",
       "    }\n",
       "</style>\n",
       "<table border=\"1\" class=\"dataframe\">\n",
       "  <thead>\n",
       "    <tr style=\"text-align: right;\">\n",
       "      <th></th>\n",
       "      <th>User-ID</th>\n",
       "    </tr>\n",
       "  </thead>\n",
       "  <tbody>\n",
       "    <tr>\n",
       "      <th>7</th>\n",
       "      <td>5490</td>\n",
       "    </tr>\n",
       "    <tr>\n",
       "      <th>11</th>\n",
       "      <td>8454</td>\n",
       "    </tr>\n",
       "    <tr>\n",
       "      <th>18</th>\n",
       "      <td>12569</td>\n",
       "    </tr>\n",
       "    <tr>\n",
       "      <th>28</th>\n",
       "      <td>15185</td>\n",
       "    </tr>\n",
       "    <tr>\n",
       "      <th>31</th>\n",
       "      <td>17003</td>\n",
       "    </tr>\n",
       "    <tr>\n",
       "      <th>...</th>\n",
       "      <td>...</td>\n",
       "    </tr>\n",
       "    <tr>\n",
       "      <th>566</th>\n",
       "      <td>272715</td>\n",
       "    </tr>\n",
       "    <tr>\n",
       "      <th>567</th>\n",
       "      <td>273190</td>\n",
       "    </tr>\n",
       "    <tr>\n",
       "      <th>571</th>\n",
       "      <td>274056</td>\n",
       "    </tr>\n",
       "    <tr>\n",
       "      <th>586</th>\n",
       "      <td>277901</td>\n",
       "    </tr>\n",
       "    <tr>\n",
       "      <th>587</th>\n",
       "      <td>278137</td>\n",
       "    </tr>\n",
       "  </tbody>\n",
       "</table>\n",
       "<p>100 rows × 1 columns</p>\n",
       "</div>"
      ],
      "text/plain": [
       "     User-ID\n",
       "7       5490\n",
       "11      8454\n",
       "18     12569\n",
       "28     15185\n",
       "31     17003\n",
       "..       ...\n",
       "566   272715\n",
       "567   273190\n",
       "571   274056\n",
       "586   277901\n",
       "587   278137\n",
       "\n",
       "[100 rows x 1 columns]"
      ]
     },
     "execution_count": 33,
     "metadata": {},
     "output_type": "execute_result"
    }
   ],
   "source": [
    "# test indexes not in training data dataframe\n",
    "test_index_not_in_training_data_df = test_user_df.iloc[test_index_not_in_training_data,:]\n",
    "test_index_not_in_training_data_df"
   ]
  },
  {
   "cell_type": "markdown",
   "metadata": {},
   "source": [
    "## Create the Ratings Matrix"
   ]
  },
  {
   "cell_type": "code",
   "execution_count": 34,
   "metadata": {},
   "outputs": [
    {
     "data": {
      "text/plain": [
       "array([[0, 0, 0, ..., 0, 0, 0],\n",
       "       [0, 0, 0, ..., 0, 0, 0],\n",
       "       [0, 0, 0, ..., 0, 0, 0],\n",
       "       ...,\n",
       "       [0, 0, 0, ..., 0, 0, 0],\n",
       "       [0, 0, 0, ..., 0, 0, 0],\n",
       "       [0, 0, 0, ..., 0, 0, 0]])"
      ]
     },
     "execution_count": 34,
     "metadata": {},
     "output_type": "execute_result"
    }
   ],
   "source": [
    "# YOUR CODE HERE\n",
    "user_id, user_pos = np.unique(book_ratings_df.iloc[:, 0].values, return_inverse=True)\n",
    "ISBN, ISBN_pos = np.unique(book_ratings_df.iloc[:, 1].values, return_inverse=True)\n",
    "values = book_ratings_df.iloc[:, 2].fillna(0).values\n",
    "    \n",
    "#R Matrix dimensions (n_users, n_items)\n",
    "shape = (len(user_id), len(ISBN))\n",
    "R = csr_matrix((values, (user_pos, ISBN_pos)), shape=shape)\n",
    "R.toarray()"
   ]
  },
  {
   "cell_type": "code",
   "execution_count": 35,
   "metadata": {},
   "outputs": [
    {
     "data": {
      "text/plain": [
       "'0002197154'"
      ]
     },
     "execution_count": 35,
     "metadata": {},
     "output_type": "execute_result"
    }
   ],
   "source": [
    "ISBN[10]"
   ]
  },
  {
   "cell_type": "code",
   "execution_count": 36,
   "metadata": {},
   "outputs": [
    {
     "data": {
      "text/plain": [
       "11141"
      ]
     },
     "execution_count": 36,
     "metadata": {},
     "output_type": "execute_result"
    }
   ],
   "source": [
    "ISBN_pos[10]"
   ]
  },
  {
   "cell_type": "markdown",
   "metadata": {},
   "source": [
    "# Split train and validation set from train set and creating rating matrix for each one of them"
   ]
  },
  {
   "cell_type": "code",
   "execution_count": 37,
   "metadata": {},
   "outputs": [],
   "source": [
    "test_size = 0.2\n",
    "train_data, val_data = train_test_split(book_ratings_df, test_size=test_size, random_state=8)"
   ]
  },
  {
   "cell_type": "code",
   "execution_count": 38,
   "metadata": {},
   "outputs": [
    {
     "data": {
      "text/html": [
       "<div>\n",
       "<style scoped>\n",
       "    .dataframe tbody tr th:only-of-type {\n",
       "        vertical-align: middle;\n",
       "    }\n",
       "\n",
       "    .dataframe tbody tr th {\n",
       "        vertical-align: top;\n",
       "    }\n",
       "\n",
       "    .dataframe thead th {\n",
       "        text-align: right;\n",
       "    }\n",
       "</style>\n",
       "<table border=\"1\" class=\"dataframe\">\n",
       "  <thead>\n",
       "    <tr style=\"text-align: right;\">\n",
       "      <th></th>\n",
       "      <th>User-ID</th>\n",
       "      <th>ISBN</th>\n",
       "      <th>Book-Rating</th>\n",
       "    </tr>\n",
       "  </thead>\n",
       "  <tbody>\n",
       "    <tr>\n",
       "      <th>24506</th>\n",
       "      <td>56959</td>\n",
       "      <td>0385313632</td>\n",
       "      <td>10</td>\n",
       "    </tr>\n",
       "    <tr>\n",
       "      <th>56801</th>\n",
       "      <td>135149</td>\n",
       "      <td>014023828X</td>\n",
       "      <td>3</td>\n",
       "    </tr>\n",
       "    <tr>\n",
       "      <th>84895</th>\n",
       "      <td>209486</td>\n",
       "      <td>0679450424</td>\n",
       "      <td>5</td>\n",
       "    </tr>\n",
       "    <tr>\n",
       "      <th>666</th>\n",
       "      <td>2110</td>\n",
       "      <td>0590879979</td>\n",
       "      <td>9</td>\n",
       "    </tr>\n",
       "    <tr>\n",
       "      <th>99455</th>\n",
       "      <td>248718</td>\n",
       "      <td>0415073294</td>\n",
       "      <td>9</td>\n",
       "    </tr>\n",
       "  </tbody>\n",
       "</table>\n",
       "</div>"
      ],
      "text/plain": [
       "       User-ID        ISBN  Book-Rating\n",
       "24506    56959  0385313632           10\n",
       "56801   135149  014023828X            3\n",
       "84895   209486  0679450424            5\n",
       "666       2110  0590879979            9\n",
       "99455   248718  0415073294            9"
      ]
     },
     "execution_count": 38,
     "metadata": {},
     "output_type": "execute_result"
    }
   ],
   "source": [
    "train_data.head()"
   ]
  },
  {
   "cell_type": "code",
   "execution_count": 39,
   "metadata": {},
   "outputs": [
    {
     "data": {
      "text/html": [
       "<div>\n",
       "<style scoped>\n",
       "    .dataframe tbody tr th:only-of-type {\n",
       "        vertical-align: middle;\n",
       "    }\n",
       "\n",
       "    .dataframe tbody tr th {\n",
       "        vertical-align: top;\n",
       "    }\n",
       "\n",
       "    .dataframe thead th {\n",
       "        text-align: right;\n",
       "    }\n",
       "</style>\n",
       "<table border=\"1\" class=\"dataframe\">\n",
       "  <thead>\n",
       "    <tr style=\"text-align: right;\">\n",
       "      <th></th>\n",
       "      <th>User-ID</th>\n",
       "      <th>ISBN</th>\n",
       "      <th>Book-Rating</th>\n",
       "    </tr>\n",
       "  </thead>\n",
       "  <tbody>\n",
       "    <tr>\n",
       "      <th>26666</th>\n",
       "      <td>62891</td>\n",
       "      <td>0140119906</td>\n",
       "      <td>10</td>\n",
       "    </tr>\n",
       "    <tr>\n",
       "      <th>95881</th>\n",
       "      <td>240568</td>\n",
       "      <td>0425108783</td>\n",
       "      <td>5</td>\n",
       "    </tr>\n",
       "    <tr>\n",
       "      <th>16464</th>\n",
       "      <td>35859</td>\n",
       "      <td>0070212570</td>\n",
       "      <td>10</td>\n",
       "    </tr>\n",
       "    <tr>\n",
       "      <th>59610</th>\n",
       "      <td>141493</td>\n",
       "      <td>0385336179</td>\n",
       "      <td>10</td>\n",
       "    </tr>\n",
       "    <tr>\n",
       "      <th>46170</th>\n",
       "      <td>106816</td>\n",
       "      <td>0679721037</td>\n",
       "      <td>8</td>\n",
       "    </tr>\n",
       "  </tbody>\n",
       "</table>\n",
       "</div>"
      ],
      "text/plain": [
       "       User-ID        ISBN  Book-Rating\n",
       "26666    62891  0140119906           10\n",
       "95881   240568  0425108783            5\n",
       "16464    35859  0070212570           10\n",
       "59610   141493  0385336179           10\n",
       "46170   106816  0679721037            8"
      ]
     },
     "execution_count": 39,
     "metadata": {},
     "output_type": "execute_result"
    }
   ],
   "source": [
    "val_data.head()"
   ]
  },
  {
   "cell_type": "code",
   "execution_count": 40,
   "metadata": {},
   "outputs": [],
   "source": [
    " #Store the indexes of each observation to identify which records to replace with zero\n",
    "train_index = train_data.index\n",
    "val_index = val_data.index\n",
    "#make copies of data to replace the observations\n",
    "train_data_clean = book_ratings_df.copy()\n",
    "val_data_clean = book_ratings_df.copy()\n",
    "train_data_clean.loc[val_index,['Book-Rating']]=0\n",
    "val_data_clean.loc[train_index,['Book-Rating']] = 0\n",
    "\n"
   ]
  },
  {
   "cell_type": "code",
   "execution_count": 41,
   "metadata": {},
   "outputs": [],
   "source": [
    "# function to make rating matrix\n",
    "def make_ratings(data: pd.DataFrame) -> csr_matrix:\n",
    "    \"\"\"Creates the ratings matrix of listening history with optional shape\n",
    "    \n",
    "    Creates the ratings matrix from the listening history imported using the read_users_history() method.\n",
    "    \n",
    "    Args:\n",
    "        data (pd.DataFrame):  Listening history for the users.\n",
    "        shape (tuple): The overall (n_users, n_items) shape desired for the matrix. \n",
    "                       If None, define the shape with the (n_users, n_items) from data argument.\n",
    "        \n",
    "    Returns:\n",
    "        ratings (csr_matrix): Ratings matrix with shape (n_users, n_items).\n",
    "    \n",
    "    \"\"\"\n",
    "    users, user_pos = np.unique(data.iloc[:, 0].values, return_inverse=True)\n",
    "    items, item_pos = np.unique(data.iloc[:, 1].values, return_inverse=True)\n",
    "    values = data.iloc[:, 2].fillna(0).values\n",
    "    \n",
    "    #R Matrix dimensions (n_users, n_items)\n",
    "    shape = (len(users), len(items))\n",
    "\n",
    "    R_ = csr_matrix((values, (user_pos, item_pos)), shape=shape)\n",
    "    return R_\n"
   ]
  },
  {
   "cell_type": "code",
   "execution_count": 44,
   "metadata": {},
   "outputs": [],
   "source": [
    "R_train = make_ratings(train_data_clean)\n",
    "R_val = make_ratings(val_data_clean)\n",
    "R_train.eliminate_zeros()\n",
    "R_val.eliminate_zeros()"
   ]
  },
  {
   "cell_type": "code",
   "execution_count": 45,
   "metadata": {},
   "outputs": [
    {
     "data": {
      "text/plain": [
       "(5719, 47768)"
      ]
     },
     "execution_count": 45,
     "metadata": {},
     "output_type": "execute_result"
    }
   ],
   "source": [
    "R_train.shape"
   ]
  },
  {
   "cell_type": "code",
   "execution_count": 46,
   "metadata": {},
   "outputs": [
    {
     "data": {
      "text/plain": [
       "(5719, 47768)"
      ]
     },
     "execution_count": 46,
     "metadata": {},
     "output_type": "execute_result"
    }
   ],
   "source": [
    "R_val.shape"
   ]
  },
  {
   "cell_type": "markdown",
   "metadata": {},
   "source": [
    "## Non-Personalized Recommendations\n",
    "- Create non-personalized recommendations as a baseline.\n",
    "- Apply the recommendations to the test users.\n",
    "- Store results in the required format for submission.\n",
    "- Submit baseline recommendations."
   ]
  },
  {
   "cell_type": "code",
   "execution_count": 47,
   "metadata": {},
   "outputs": [
    {
     "data": {
      "text/plain": [
       "array([ 7192,  5791, 23964,  3950, 16148, 17420, 25509, 19960, 32475,\n",
       "       16034])"
      ]
     },
     "execution_count": 47,
     "metadata": {},
     "output_type": "execute_result"
    }
   ],
   "source": [
    "# This is for the test ids which are not in the training set\n",
    "\n",
    "def get_most_rated(ratings: csr_matrix,treshold : int, n: int) -> np.matrix:\n",
    "    \"\"\"Returns the n most rated items in a ratings matrix.\n",
    "    \n",
    "    Args:\n",
    "        ratings (csr_matrix): A sparse ratings matrix\n",
    "        n (int): The number of top-n items we should retrieve.\n",
    "        \n",
    "    Returns:\n",
    "        most_rated (np.matrix): An array of the most rated items.\n",
    "    \n",
    "    \"\"\" \n",
    "    ratings_=ratings.toarray()\n",
    "    R_greater =  np.greater(ratings_,treshold)\n",
    "    R_mask_int = R_greater.astype(np.int)\n",
    "    R_treshold = np.multiply(ratings_,R_mask_int)\n",
    "    R_best_array = R_treshold.sum(axis=0)\n",
    "        \n",
    "        \n",
    "    return np.negative(R_best_array).argsort()[:n]\n",
    "\n",
    "\n",
    "non_pers_most_rated = get_most_rated(R_train,5,10)\n",
    "non_pers_most_rated\n"
   ]
  },
  {
   "cell_type": "code",
   "execution_count": 48,
   "metadata": {},
   "outputs": [
    {
     "data": {
      "text/plain": [
       "array(['0316666343', '0312195516', '059035342X', '0142001740',\n",
       "       '043935806X', '0446310786', '0671027360', '0452282152',\n",
       "       '0786868716', '0439139597'], dtype=object)"
      ]
     },
     "execution_count": 48,
     "metadata": {},
     "output_type": "execute_result"
    }
   ],
   "source": [
    "non_pers_most_rated_isbn = ISBN[non_pers_most_rated]\n",
    "non_pers_most_rated_isbn"
   ]
  },
  {
   "cell_type": "code",
   "execution_count": 49,
   "metadata": {},
   "outputs": [
    {
     "data": {
      "text/html": [
       "<div>\n",
       "<style scoped>\n",
       "    .dataframe tbody tr th:only-of-type {\n",
       "        vertical-align: middle;\n",
       "    }\n",
       "\n",
       "    .dataframe tbody tr th {\n",
       "        vertical-align: top;\n",
       "    }\n",
       "\n",
       "    .dataframe thead th {\n",
       "        text-align: right;\n",
       "    }\n",
       "</style>\n",
       "<table border=\"1\" class=\"dataframe\">\n",
       "  <thead>\n",
       "    <tr style=\"text-align: right;\">\n",
       "      <th></th>\n",
       "      <th>User-ID</th>\n",
       "    </tr>\n",
       "  </thead>\n",
       "  <tbody>\n",
       "    <tr>\n",
       "      <th>0</th>\n",
       "      <td>99</td>\n",
       "    </tr>\n",
       "    <tr>\n",
       "      <th>1</th>\n",
       "      <td>114</td>\n",
       "    </tr>\n",
       "    <tr>\n",
       "      <th>2</th>\n",
       "      <td>243</td>\n",
       "    </tr>\n",
       "    <tr>\n",
       "      <th>3</th>\n",
       "      <td>244</td>\n",
       "    </tr>\n",
       "    <tr>\n",
       "      <th>4</th>\n",
       "      <td>254</td>\n",
       "    </tr>\n",
       "    <tr>\n",
       "      <th>...</th>\n",
       "      <td>...</td>\n",
       "    </tr>\n",
       "    <tr>\n",
       "      <th>5714</th>\n",
       "      <td>278554</td>\n",
       "    </tr>\n",
       "    <tr>\n",
       "      <th>5715</th>\n",
       "      <td>278582</td>\n",
       "    </tr>\n",
       "    <tr>\n",
       "      <th>5716</th>\n",
       "      <td>278633</td>\n",
       "    </tr>\n",
       "    <tr>\n",
       "      <th>5717</th>\n",
       "      <td>278843</td>\n",
       "    </tr>\n",
       "    <tr>\n",
       "      <th>5718</th>\n",
       "      <td>278851</td>\n",
       "    </tr>\n",
       "  </tbody>\n",
       "</table>\n",
       "<p>5719 rows × 1 columns</p>\n",
       "</div>"
      ],
      "text/plain": [
       "      User-ID\n",
       "0          99\n",
       "1         114\n",
       "2         243\n",
       "3         244\n",
       "4         254\n",
       "...       ...\n",
       "5714   278554\n",
       "5715   278582\n",
       "5716   278633\n",
       "5717   278843\n",
       "5718   278851\n",
       "\n",
       "[5719 rows x 1 columns]"
      ]
     },
     "execution_count": 49,
     "metadata": {},
     "output_type": "execute_result"
    }
   ],
   "source": [
    "book_ratings_unique_df = pd.DataFrame(np.unique(book_ratings_df.iloc[:,0].values),columns = ['User-ID'])\n",
    "book_ratings_unique_df"
   ]
  },
  {
   "cell_type": "code",
   "execution_count": 50,
   "metadata": {},
   "outputs": [
    {
     "data": {
      "text/html": [
       "<div>\n",
       "<style scoped>\n",
       "    .dataframe tbody tr th:only-of-type {\n",
       "        vertical-align: middle;\n",
       "    }\n",
       "\n",
       "    .dataframe tbody tr th {\n",
       "        vertical-align: top;\n",
       "    }\n",
       "\n",
       "    .dataframe thead th {\n",
       "        text-align: right;\n",
       "    }\n",
       "</style>\n",
       "<table border=\"1\" class=\"dataframe\">\n",
       "  <thead>\n",
       "    <tr style=\"text-align: right;\">\n",
       "      <th></th>\n",
       "      <th>0</th>\n",
       "      <th>1</th>\n",
       "      <th>2</th>\n",
       "      <th>3</th>\n",
       "      <th>4</th>\n",
       "      <th>5</th>\n",
       "      <th>6</th>\n",
       "      <th>7</th>\n",
       "      <th>8</th>\n",
       "      <th>9</th>\n",
       "    </tr>\n",
       "    <tr>\n",
       "      <th>User-ID</th>\n",
       "      <th></th>\n",
       "      <th></th>\n",
       "      <th></th>\n",
       "      <th></th>\n",
       "      <th></th>\n",
       "      <th></th>\n",
       "      <th></th>\n",
       "      <th></th>\n",
       "      <th></th>\n",
       "      <th></th>\n",
       "    </tr>\n",
       "  </thead>\n",
       "  <tbody>\n",
       "    <tr>\n",
       "      <th>99</th>\n",
       "      <td>7192</td>\n",
       "      <td>5791</td>\n",
       "      <td>23964</td>\n",
       "      <td>3950</td>\n",
       "      <td>16148</td>\n",
       "      <td>17420</td>\n",
       "      <td>25509</td>\n",
       "      <td>19960</td>\n",
       "      <td>32475</td>\n",
       "      <td>16034</td>\n",
       "    </tr>\n",
       "    <tr>\n",
       "      <th>114</th>\n",
       "      <td>7192</td>\n",
       "      <td>5791</td>\n",
       "      <td>23964</td>\n",
       "      <td>3950</td>\n",
       "      <td>16148</td>\n",
       "      <td>17420</td>\n",
       "      <td>25509</td>\n",
       "      <td>19960</td>\n",
       "      <td>32475</td>\n",
       "      <td>16034</td>\n",
       "    </tr>\n",
       "    <tr>\n",
       "      <th>243</th>\n",
       "      <td>7192</td>\n",
       "      <td>5791</td>\n",
       "      <td>23964</td>\n",
       "      <td>3950</td>\n",
       "      <td>16148</td>\n",
       "      <td>17420</td>\n",
       "      <td>25509</td>\n",
       "      <td>19960</td>\n",
       "      <td>32475</td>\n",
       "      <td>16034</td>\n",
       "    </tr>\n",
       "    <tr>\n",
       "      <th>244</th>\n",
       "      <td>7192</td>\n",
       "      <td>5791</td>\n",
       "      <td>23964</td>\n",
       "      <td>3950</td>\n",
       "      <td>16148</td>\n",
       "      <td>17420</td>\n",
       "      <td>25509</td>\n",
       "      <td>19960</td>\n",
       "      <td>32475</td>\n",
       "      <td>16034</td>\n",
       "    </tr>\n",
       "    <tr>\n",
       "      <th>254</th>\n",
       "      <td>7192</td>\n",
       "      <td>5791</td>\n",
       "      <td>23964</td>\n",
       "      <td>3950</td>\n",
       "      <td>16148</td>\n",
       "      <td>17420</td>\n",
       "      <td>25509</td>\n",
       "      <td>19960</td>\n",
       "      <td>32475</td>\n",
       "      <td>16034</td>\n",
       "    </tr>\n",
       "  </tbody>\n",
       "</table>\n",
       "</div>"
      ],
      "text/plain": [
       "            0     1      2     3      4      5      6      7      8      9\n",
       "User-ID                                                                   \n",
       "99       7192  5791  23964  3950  16148  17420  25509  19960  32475  16034\n",
       "114      7192  5791  23964  3950  16148  17420  25509  19960  32475  16034\n",
       "243      7192  5791  23964  3950  16148  17420  25509  19960  32475  16034\n",
       "244      7192  5791  23964  3950  16148  17420  25509  19960  32475  16034\n",
       "254      7192  5791  23964  3950  16148  17420  25509  19960  32475  16034"
      ]
     },
     "execution_count": 50,
     "metadata": {},
     "output_type": "execute_result"
    }
   ],
   "source": [
    "non_pers_df = pd.DataFrame(np.zeros((len(book_ratings_unique_df), 1), dtype=non_pers_most_rated.dtype) + non_pers_most_rated)\n",
    "non_pers_df = pd.concat([book_ratings_unique_df, non_pers_df], axis=1)\n",
    "non_pers_df = non_pers_df.set_index('User-ID')\n",
    "non_pers_df.head()"
   ]
  },
  {
   "cell_type": "code",
   "execution_count": 51,
   "metadata": {},
   "outputs": [
    {
     "data": {
      "text/plain": [
       "{99: [7192, 5791, 23964, 3950, 16148, 17420, 25509, 19960, 32475, 16034],\n",
       " 114: [7192, 5791, 23964, 3950, 16148, 17420, 25509, 19960, 32475, 16034],\n",
       " 243: [7192, 5791, 23964, 3950, 16148, 17420, 25509, 19960, 32475, 16034],\n",
       " 244: [7192, 5791, 23964, 3950, 16148, 17420, 25509, 19960, 32475, 16034],\n",
       " 254: [7192, 5791, 23964, 3950, 16148, 17420, 25509, 19960, 32475, 16034]}"
      ]
     },
     "execution_count": 51,
     "metadata": {},
     "output_type": "execute_result"
    }
   ],
   "source": [
    "def create_dict_preds(preds_df: pd.DataFrame) -> dict:\n",
    "    \"\"\"Convert the predictions DataFrame (index:users -> columns: items) to a dictionary of key (user->list of items).\n",
    "    \n",
    "    Args: \n",
    "        preds_df (pd.DataFrame): DataFrame containing the users and the ordered predictions.\n",
    "        \n",
    "    Returns:\n",
    "        preds_dict (dict): Dict of (user_id: list of items) used for evaluating the performance.\n",
    "    \n",
    "    \"\"\"\n",
    "    return {preds_df.index[i]: preds_df.values[i].tolist() for i in range(len(preds_df))}\n",
    "\n",
    "\n",
    "non_pers_dict = create_dict_preds(non_pers_df)\n",
    "# Since dicts in python are not ordered, we need to HAMMER DOWN a way to print some values.\n",
    "dict(list(non_pers_dict.items())[0:5])"
   ]
  },
  {
   "cell_type": "code",
   "execution_count": 52,
   "metadata": {},
   "outputs": [
    {
     "data": {
      "text/html": [
       "<div>\n",
       "<style scoped>\n",
       "    .dataframe tbody tr th:only-of-type {\n",
       "        vertical-align: middle;\n",
       "    }\n",
       "\n",
       "    .dataframe tbody tr th {\n",
       "        vertical-align: top;\n",
       "    }\n",
       "\n",
       "    .dataframe thead th {\n",
       "        text-align: right;\n",
       "    }\n",
       "</style>\n",
       "<table border=\"1\" class=\"dataframe\">\n",
       "  <thead>\n",
       "    <tr style=\"text-align: right;\">\n",
       "      <th></th>\n",
       "      <th>0</th>\n",
       "      <th>1</th>\n",
       "      <th>2</th>\n",
       "      <th>3</th>\n",
       "      <th>4</th>\n",
       "      <th>5</th>\n",
       "      <th>6</th>\n",
       "      <th>7</th>\n",
       "      <th>8</th>\n",
       "      <th>9</th>\n",
       "    </tr>\n",
       "    <tr>\n",
       "      <th>User-ID</th>\n",
       "      <th></th>\n",
       "      <th></th>\n",
       "      <th></th>\n",
       "      <th></th>\n",
       "      <th></th>\n",
       "      <th></th>\n",
       "      <th></th>\n",
       "      <th></th>\n",
       "      <th></th>\n",
       "      <th></th>\n",
       "    </tr>\n",
       "  </thead>\n",
       "  <tbody>\n",
       "    <tr>\n",
       "      <th>99</th>\n",
       "      <td>17954</td>\n",
       "      <td>0</td>\n",
       "      <td>31839</td>\n",
       "      <td>31840</td>\n",
       "      <td>31841</td>\n",
       "      <td>31842</td>\n",
       "      <td>31843</td>\n",
       "      <td>31844</td>\n",
       "      <td>31845</td>\n",
       "      <td>31846</td>\n",
       "    </tr>\n",
       "    <tr>\n",
       "      <th>114</th>\n",
       "      <td>23519</td>\n",
       "      <td>0</td>\n",
       "      <td>31839</td>\n",
       "      <td>31840</td>\n",
       "      <td>31841</td>\n",
       "      <td>31842</td>\n",
       "      <td>31843</td>\n",
       "      <td>31844</td>\n",
       "      <td>31845</td>\n",
       "      <td>31846</td>\n",
       "    </tr>\n",
       "    <tr>\n",
       "      <th>243</th>\n",
       "      <td>11141</td>\n",
       "      <td>3301</td>\n",
       "      <td>0</td>\n",
       "      <td>31841</td>\n",
       "      <td>31842</td>\n",
       "      <td>31843</td>\n",
       "      <td>31844</td>\n",
       "      <td>31845</td>\n",
       "      <td>31846</td>\n",
       "      <td>31847</td>\n",
       "    </tr>\n",
       "    <tr>\n",
       "      <th>244</th>\n",
       "      <td>33261</td>\n",
       "      <td>31840</td>\n",
       "      <td>31841</td>\n",
       "      <td>31842</td>\n",
       "      <td>31843</td>\n",
       "      <td>31844</td>\n",
       "      <td>31845</td>\n",
       "      <td>31846</td>\n",
       "      <td>31847</td>\n",
       "      <td>31848</td>\n",
       "    </tr>\n",
       "    <tr>\n",
       "      <th>254</th>\n",
       "      <td>15995</td>\n",
       "      <td>12652</td>\n",
       "      <td>11700</td>\n",
       "      <td>42600</td>\n",
       "      <td>11699</td>\n",
       "      <td>6424</td>\n",
       "      <td>10942</td>\n",
       "      <td>0</td>\n",
       "      <td>31844</td>\n",
       "      <td>31845</td>\n",
       "    </tr>\n",
       "  </tbody>\n",
       "</table>\n",
       "</div>"
      ],
      "text/plain": [
       "             0      1      2      3      4      5      6      7      8      9\n",
       "User-ID                                                                      \n",
       "99       17954      0  31839  31840  31841  31842  31843  31844  31845  31846\n",
       "114      23519      0  31839  31840  31841  31842  31843  31844  31845  31846\n",
       "243      11141   3301      0  31841  31842  31843  31844  31845  31846  31847\n",
       "244      33261  31840  31841  31842  31843  31844  31845  31846  31847  31848\n",
       "254      15995  12652  11700  42600  11699   6424  10942      0  31844  31845"
      ]
     },
     "execution_count": 52,
     "metadata": {},
     "output_type": "execute_result"
    }
   ],
   "source": [
    "def get_y_true(R_val_: csr_matrix, users_to_pred: pd.DataFrame, n=10):\n",
    "    \"\"\"Get the ground truth (best recommendations) of the users in the validation set.\n",
    "    \n",
    "    Args:\n",
    "        R_val_ (csr_matrix): Validation set ratings matrix.\n",
    "        users_to_pred: \n",
    "        n (int): Number of top-n items.\n",
    "        \n",
    "    Returns:\n",
    "        y_true_df (pd.DataFrame): DataFrame which returns the y_true items.\n",
    "        \n",
    "    \"\"\"\n",
    "    top_from_R_val = pd.DataFrame(np.negative(R_val_).toarray().argsort()[:, :n])\n",
    "    y_true_df = pd.concat([users_to_pred, top_from_R_val], axis=1)\n",
    "    y_true_df = y_true_df.set_index(\"User-ID\")\n",
    "    return y_true_df\n",
    "\n",
    "\n",
    "y_true_df = get_y_true(R_val, book_ratings_unique_df, n=10)\n",
    "y_true_df.head()"
   ]
  },
  {
   "cell_type": "code",
   "execution_count": 53,
   "metadata": {},
   "outputs": [
    {
     "data": {
      "text/plain": [
       "{99: [17954, 0, 31839, 31840, 31841, 31842, 31843, 31844, 31845, 31846],\n",
       " 114: [23519, 0, 31839, 31840, 31841, 31842, 31843, 31844, 31845, 31846],\n",
       " 243: [11141, 3301, 0, 31841, 31842, 31843, 31844, 31845, 31846, 31847],\n",
       " 244: [33261, 31840, 31841, 31842, 31843, 31844, 31845, 31846, 31847, 31848],\n",
       " 254: [15995, 12652, 11700, 42600, 11699, 6424, 10942, 0, 31844, 31845]}"
      ]
     },
     "execution_count": 53,
     "metadata": {},
     "output_type": "execute_result"
    }
   ],
   "source": [
    "# Create the dictionary with the ground truth.\n",
    "y_true_dict = create_dict_preds(y_true_df)\n",
    "# Since dicts in python are not ordered, we need to HAMMER DOWN a way to print some values.\n",
    "dict(list(y_true_dict.items())[0:5])"
   ]
  },
  {
   "cell_type": "markdown",
   "metadata": {},
   "source": [
    "## Evaluate results\n",
    "- Calculate the evaluation metric on the validation users.\n",
    "- Compare it later with the personalized recommendations"
   ]
  },
  {
   "cell_type": "code",
   "execution_count": 54,
   "metadata": {},
   "outputs": [
    {
     "ename": "NameError",
     "evalue": "name 'evaluate' is not defined",
     "output_type": "error",
     "traceback": [
      "\u001b[0;31m---------------------------------------------------------------------------\u001b[0m",
      "\u001b[0;31mNameError\u001b[0m                                 Traceback (most recent call last)",
      "\u001b[0;32m<ipython-input-54-e96e3aa00d4b>\u001b[0m in \u001b[0;36m<module>\u001b[0;34m\u001b[0m\n\u001b[1;32m      1\u001b[0m \u001b[0;31m# YOUR CODE HERE\u001b[0m\u001b[0;34m\u001b[0m\u001b[0;34m\u001b[0m\u001b[0;34m\u001b[0m\u001b[0m\n\u001b[0;32m----> 2\u001b[0;31m \u001b[0mevaluate\u001b[0m\u001b[0;34m(\u001b[0m\u001b[0my_true_dict\u001b[0m\u001b[0;34m,\u001b[0m \u001b[0mnon_pers_dict\u001b[0m\u001b[0;34m)\u001b[0m\u001b[0;34m\u001b[0m\u001b[0;34m\u001b[0m\u001b[0m\n\u001b[0m",
      "\u001b[0;31mNameError\u001b[0m: name 'evaluate' is not defined"
     ]
    }
   ],
   "source": [
    "# YOUR CODE HERE\n",
    "evaluate(y_true_dict, non_pers_dict)"
   ]
  },
  {
   "cell_type": "markdown",
   "metadata": {},
   "source": [
    "# Predict"
   ]
  },
  {
   "cell_type": "code",
   "execution_count": null,
   "metadata": {},
   "outputs": [],
   "source": [
    "# Join both dataframes with user_id's\n",
    "all_test_users = pd.concat([test_index_in_training_data_df,test_index_not_in_training_data_df]).reset_index(drop=True)\n",
    "all_test_users"
   ]
  },
  {
   "cell_type": "code",
   "execution_count": null,
   "metadata": {},
   "outputs": [],
   "source": [
    "def convert_non_pers_recommendations_to_df(non_pers_recs: np.array, users_to_pred: pd.DataFrame) -> pd.DataFrame:\n",
    "    non_pers_df = pd.DataFrame(np.zeros((len(users_to_pred), 1), dtype=non_pers_recs.dtype) + non_pers_recs)\n",
    "    non_pers_df = pd.concat([users_to_pred, non_pers_df], axis=1)\n",
    "    non_pers_df = non_pers_df.set_index(\"User-ID\")\n",
    "    \n",
    "    return non_pers_df\n",
    "\n",
    "\n",
    "non_pers_test_most_rated_df = convert_non_pers_recommendations_to_df(non_pers_most_rated, all_test_users)\n",
    "print(non_pers_test_most_rated_df.shape)\n",
    "non_pers_test_most_rated_df.head()"
   ]
  },
  {
   "cell_type": "markdown",
   "metadata": {},
   "source": [
    "# Final format of test recomendation"
   ]
  },
  {
   "cell_type": "code",
   "execution_count": null,
   "metadata": {},
   "outputs": [],
   "source": [
    "values = ISBN[non_pers_test_most_rated_df.values].reshape(-1,1)\n",
    "index_to_list = 10*non_pers_test_most_rated_df.index.tolist()\n",
    "index_to_list.sort()\n",
    "test_final_format = pd.DataFrame(index_to_list, columns = ['User-ID'])\n",
    "test_final_format['ISBN']=values\n",
    "#test_final_format = test_final_format.set_index('User-ID')\n",
    "test_final_format"
   ]
  },
  {
   "cell_type": "code",
   "execution_count": null,
   "metadata": {},
   "outputs": [],
   "source": [
    "def save_predictions(predictions: pd.DataFrame, output_path: str):\n",
    "    \"\"\"Save predictions to csv.\n",
    "    \n",
    "    Saves the predictions into a csv file with the format we need.\n",
    "    We keep the index since it contains the user ids.\n",
    "    \n",
    "    Args:\n",
    "        predictions (pd.DataFrame): DataFrame with user_id as index and ordered recommendations in the columns.\n",
    "        output_path (str): Filepath for the predictions file.\n",
    "    \n",
    "    \"\"\"\n",
    "    predictions.to_csv(output_path,index = False)\n",
    "    print(f\"Saved to csv in '{output_path}'.\")\n",
    "    \n",
    "    \n",
    "save_predictions(non_pers_test_most_rated_df, os.path.join(\"data\", \"test_non_personalized_recommendations_books.csv\"))"
   ]
  },
  {
   "cell_type": "code",
   "execution_count": null,
   "metadata": {},
   "outputs": [],
   "source": [
    "save_predictions(test_final_format, os.path.join(\"data\", \"test_final_format.csv\"))"
   ]
  },
  {
   "cell_type": "code",
   "execution_count": null,
   "metadata": {},
   "outputs": [],
   "source": [
    "path2 = os.path.join('data','test_final_format.csv')\n",
    "ff = pd.read_csv(path2)\n",
    "ff"
   ]
  },
  {
   "cell_type": "code",
   "execution_count": null,
   "metadata": {},
   "outputs": [],
   "source": [
    "# Filter the non-personalized recommendations for the users without training data and save\n",
    "new_users_recommendations = non_pers_test_most_rated_df.iloc[test_index_not_in_training_data]\n",
    "save_predictions(new_users_recommendations, os.path.join(\"data\", \"new_users_non_personalized_without_infor.csv\"))"
   ]
  },
  {
   "cell_type": "code",
   "execution_count": null,
   "metadata": {},
   "outputs": [],
   "source": [
    "from validate_sample_submission import validate_submission\n"
   ]
  },
  {
   "cell_type": "code",
   "execution_count": null,
   "metadata": {},
   "outputs": [],
   "source": [
    "validate_submission(test_final_format)"
   ]
  },
  {
   "cell_type": "markdown",
   "metadata": {},
   "source": [
    "## Personalized Recommendations: Collaborative Filtering\n",
    "- Compute the user similarities matrix.\n",
    "- Predict ratings.\n",
    "- Select the best recommendations.\n",
    "- Submit recommendations."
   ]
  },
  {
   "cell_type": "code",
   "execution_count": null,
   "metadata": {},
   "outputs": [],
   "source": [
    "# YOUR CODE HERE\n",
    "def make_user_similarities(R_: csr_matrix) -> csr_matrix:\n",
    "    \"\"\"Creates the user similarities matrix.\n",
    "    \n",
    "    Args:\n",
    "        R_ (csr_matrix): Ratings matrix.\n",
    "        \n",
    "    Returns:\n",
    "        user_similarities (csr_matrix): Matrix with user similarities.\n",
    "    \n",
    "    \"\"\"\n",
    "    return cosine_similarity(R_, dense_output=False)\n",
    "\n",
    "\n",
    "user_similarities = make_user_similarities(R_train)\n",
    "user_similarities"
   ]
  },
  {
   "cell_type": "code",
   "execution_count": null,
   "metadata": {},
   "outputs": [],
   "source": [
    "def make_user_predictions_collab_filt(S: csr_matrix, R_: csr_matrix):\n",
    "    \"\"\"Predict using collaborative filtering.\n",
    "    \n",
    "    Args:\n",
    "        S (csr_matrix): Similarities matrix (tipically using the cosine_similarity).\n",
    "        R_ (csr_matrix): Ratings matrix.\n",
    "        \n",
    "    Returns:\n",
    "        preds (csr_matrix): Predictions matrix.\n",
    "    \n",
    "    \"\"\"\n",
    "    weighted_sum = np.dot(S, R_)\n",
    "    \n",
    "    # We use the absolute value to support negative similarities.\n",
    "    # In this particular example there are none.\n",
    "    sum_of_weights = np.abs(S).sum(axis=1)\n",
    "    \n",
    "    preds = weighted_sum / sum_of_weights\n",
    "    \n",
    "    # Exclude previously rated items.\n",
    "    preds[R_.nonzero()] = 0\n",
    "    \n",
    "    return csr_matrix(preds)\n",
    " \n",
    "\n",
    "collab_filt_user_preds = make_user_predictions_collab_filt(user_similarities, R_train)\n",
    "collab_filt_user_preds"
   ]
  },
  {
   "cell_type": "code",
   "execution_count": null,
   "metadata": {},
   "outputs": [],
   "source": [
    "def sparsity(matrix: csr_matrix) -> float:\n",
    "    \"\"\"Calculates the sparsity of a matrix.\n",
    "    \n",
    "    Args:\n",
    "        matrix (csr_matrix): Sparse matrix.\n",
    "        \n",
    "    Returns:\n",
    "        sparsity_ (float): Sparsity percentage (between 0 and 1).\n",
    "    \n",
    "    \"\"\"\n",
    "    return 1 - matrix.nnz / (matrix.shape[0] * matrix.shape[1])\n",
    "\n",
    "\n",
    "sparsity(collab_filt_user_preds)"
   ]
  },
  {
   "cell_type": "code",
   "execution_count": null,
   "metadata": {},
   "outputs": [],
   "source": [
    "def get_most_rated_from_user_preds(user_preds_: csr_matrix, n: int) -> np.matrix:\n",
    "    \"\"\"Returns the n most rated items from the user predictions.\n",
    "    \n",
    "    Args:\n",
    "        user_preds_ (csr_matrix): A sparse ratings matrix\n",
    "        n (int): The number of top-n items we should retrieve.\n",
    "        \n",
    "    Returns:\n",
    "        most_rated (np.matrix): An array of the most rated items.\n",
    "    \n",
    "    \"\"\"\n",
    "    pred_ = np.negative(user_preds_).toarray()\n",
    "    return pred_.argsort()[:, :n]\n",
    "\n",
    "\n",
    "collab_filt_most_rated = get_most_rated_from_user_preds(collab_filt_user_preds, 10)\n",
    "print(collab_filt_most_rated.shape)\n",
    "collab_filt_most_rated"
   ]
  },
  {
   "cell_type": "code",
   "execution_count": null,
   "metadata": {},
   "outputs": [],
   "source": [
    "def convert_pers_recommendations_to_df(pers_recs: np.array, users_to_pred: pd.DataFrame) -> pd.DataFrame:\n",
    "    \"\"\"Converts the personalized most rated to an DataFrame with the users and the recommendations.\n",
    "    \n",
    "    Args:\n",
    "        pers_recs (np.array): Array of indices for the best personalized items to recommend.\n",
    "        users_to_pred (pd.DataFrame): DataFrame containing the users which need recommendations.\n",
    "        \n",
    "    Returns:\n",
    "        non_pers_most_rated_matrix (np.array): Two dimensional array of (n_users, top_n_items)\n",
    "    \n",
    "    \"\"\"\n",
    "    pers_df = pd.concat([users_to_pred, pd.DataFrame(pers_recs)], axis=1)\n",
    "    pers_df = pers_df.set_index(\"User-ID\")\n",
    "    \n",
    "    return pers_df\n",
    "\n",
    "\n",
    "collab_filt_most_rated_df = convert_pers_recommendations_to_df(collab_filt_most_rated, book_ratings_unique_df)\n",
    "collab_filt_most_rated_df.head()"
   ]
  },
  {
   "cell_type": "code",
   "execution_count": null,
   "metadata": {},
   "outputs": [],
   "source": [
    "collab_filt_dict = create_dict_preds(collab_filt_most_rated_df)\n",
    "# Since dicts in python are not ordered, we need to HAMMER DOWN a way to print some values.\n",
    "dict(list(collab_filt_dict.items())[0:1])"
   ]
  },
  {
   "cell_type": "markdown",
   "metadata": {},
   "source": [
    "## Evaluate results (Again)\n",
    "- Calculate the evaluation metric on the validation users."
   ]
  },
  {
   "cell_type": "code",
   "execution_count": null,
   "metadata": {},
   "outputs": [],
   "source": [
    "evaluate(y_true_dict, collab_filt_dict)"
   ]
  },
  {
   "cell_type": "markdown",
   "metadata": {},
   "source": [
    "# Predict"
   ]
  },
  {
   "cell_type": "code",
   "execution_count": null,
   "metadata": {},
   "outputs": [],
   "source": [
    "pers_test_most_rated_df = convert_pers_recommendations_to_df(collab_filt_most_rated, all_test_users)\n",
    "print(pers_test_most_rated_df.shape)\n",
    "pers_test_most_rated_df.head()"
   ]
  },
  {
   "cell_type": "markdown",
   "metadata": {},
   "source": [
    "# Final Format for submission"
   ]
  },
  {
   "cell_type": "code",
   "execution_count": null,
   "metadata": {},
   "outputs": [],
   "source": [
    "values = ISBN[df_test_prediction.values].reshape(-1,1)\n",
    "index_to_list_pers = 10*df_test_prediction.index.tolist()\n",
    "#index_to_list_pers.sort()\n",
    "test_final_format_pers = pd.DataFrame(index_to_list, columns = ['User-ID'])\n",
    "test_final_format_pers['ISBN']=values\n",
    "#test_final_format = test_final_format.set_index('User-ID')\n",
    "test_final_format_pers"
   ]
  },
  {
   "cell_type": "code",
   "execution_count": null,
   "metadata": {},
   "outputs": [],
   "source": [
    "validate_submission(test_final_format_pers)"
   ]
  },
  {
   "cell_type": "code",
   "execution_count": null,
   "metadata": {},
   "outputs": [],
   "source": [
    "save_predictions(test_final_format_pers, os.path.join(\"data\", \"test_final_format_pers_.csv\"))"
   ]
  },
  {
   "cell_type": "code",
   "execution_count": null,
   "metadata": {},
   "outputs": [],
   "source": [
    "!explorer.exe ."
   ]
  },
  {
   "cell_type": "markdown",
   "metadata": {},
   "source": [
    "## Content-based Recommendations\n",
    "\n",
    "- Compute the item similarities matrix.\n",
    "- Predict ratings.\n",
    "- Select the best recommendations.\n",
    "- Submit recommendations."
   ]
  },
  {
   "cell_type": "code",
   "execution_count": null,
   "metadata": {},
   "outputs": [],
   "source": [
    "# YOUR CODE HERE"
   ]
  },
  {
   "cell_type": "markdown",
   "metadata": {},
   "source": [
    "## Evaluate results (Yet again)\n",
    "- Calculate the evaluation metric on the validation users."
   ]
  },
  {
   "cell_type": "code",
   "execution_count": null,
   "metadata": {},
   "outputs": [],
   "source": [
    "# YOUR CODE HERE"
   ]
  },
  {
   "cell_type": "markdown",
   "metadata": {},
   "source": [
    "## Potential improvements\n",
    "\n",
    "At this point you can try to improve your prediction using several approaches:\n",
    "- Aggregation of ratings from different sources. \n",
    "- Mixing Collaborative Filtering and Content-based Recommendations.\n",
    "- Matrix Factorization.\n",
    "- Could you use a classification or regression models to predict users' preference? 🤔"
   ]
  },
  {
   "cell_type": "code",
   "execution_count": null,
   "metadata": {},
   "outputs": [],
   "source": [
    "# YOUR CODE HERE"
   ]
  },
  {
   "cell_type": "code",
   "execution_count": null,
   "metadata": {},
   "outputs": [],
   "source": [
    "!explorer.exe ."
   ]
  },
  {
   "cell_type": "code",
   "execution_count": null,
   "metadata": {},
   "outputs": [],
   "source": []
  }
 ],
 "metadata": {
  "kernelspec": {
   "display_name": "Python 3",
   "language": "python",
   "name": "python3"
  },
  "language_info": {
   "codemirror_mode": {
    "name": "ipython",
    "version": 3
   },
   "file_extension": ".py",
   "mimetype": "text/x-python",
   "name": "python",
   "nbconvert_exporter": "python",
   "pygments_lexer": "ipython3",
   "version": "3.6.9"
  }
 },
 "nbformat": 4,
 "nbformat_minor": 4
}
