{
 "cells": [
  {
   "cell_type": "markdown",
   "metadata": {
    "editable": false
   },
   "source": [
    "# BLU10 - Exercises Notebook"
   ]
  },
  {
   "cell_type": "code",
   "execution_count": 1,
   "metadata": {},
   "outputs": [],
   "source": [
    "# Import all the necessary dependencies\n",
    "import os\n",
    "import numpy as np\n",
    "import scipy as sp\n",
    "import pandas as pd\n",
    "\n",
    "import scipy.sparse\n",
    "\n",
    "from mlxtend.frequent_patterns import apriori\n",
    "import hashlib # for grading purposes"
   ]
  },
  {
   "cell_type": "markdown",
   "metadata": {
    "editable": false
   },
   "source": [
    "## Q0: Create the ratings matrix (ungraded)"
   ]
  },
  {
   "cell_type": "code",
   "execution_count": 2,
   "metadata": {
    "editable": false
   },
   "outputs": [
    {
     "data": {
      "text/html": [
       "<div>\n",
       "<style scoped>\n",
       "    .dataframe tbody tr th:only-of-type {\n",
       "        vertical-align: middle;\n",
       "    }\n",
       "\n",
       "    .dataframe tbody tr th {\n",
       "        vertical-align: top;\n",
       "    }\n",
       "\n",
       "    .dataframe thead th {\n",
       "        text-align: right;\n",
       "    }\n",
       "</style>\n",
       "<table border=\"1\" class=\"dataframe\">\n",
       "  <thead>\n",
       "    <tr style=\"text-align: right;\">\n",
       "      <th></th>\n",
       "      <th>userId</th>\n",
       "      <th>movieId</th>\n",
       "      <th>rating</th>\n",
       "      <th>timestamp</th>\n",
       "    </tr>\n",
       "  </thead>\n",
       "  <tbody>\n",
       "    <tr>\n",
       "      <th>58111</th>\n",
       "      <td>423</td>\n",
       "      <td>1206</td>\n",
       "      <td>5.0</td>\n",
       "      <td>1353691236</td>\n",
       "    </tr>\n",
       "    <tr>\n",
       "      <th>94054</th>\n",
       "      <td>624</td>\n",
       "      <td>3268</td>\n",
       "      <td>1.0</td>\n",
       "      <td>1028111170</td>\n",
       "    </tr>\n",
       "    <tr>\n",
       "      <th>97308</th>\n",
       "      <td>652</td>\n",
       "      <td>26843</td>\n",
       "      <td>5.0</td>\n",
       "      <td>1440269953</td>\n",
       "    </tr>\n",
       "    <tr>\n",
       "      <th>55435</th>\n",
       "      <td>401</td>\n",
       "      <td>924</td>\n",
       "      <td>5.0</td>\n",
       "      <td>977458816</td>\n",
       "    </tr>\n",
       "    <tr>\n",
       "      <th>22437</th>\n",
       "      <td>157</td>\n",
       "      <td>5378</td>\n",
       "      <td>2.5</td>\n",
       "      <td>1323618006</td>\n",
       "    </tr>\n",
       "  </tbody>\n",
       "</table>\n",
       "</div>"
      ],
      "text/plain": [
       "       userId  movieId  rating   timestamp\n",
       "58111     423     1206     5.0  1353691236\n",
       "94054     624     3268     1.0  1028111170\n",
       "97308     652    26843     5.0  1440269953\n",
       "55435     401      924     5.0   977458816\n",
       "22437     157     5378     2.5  1323618006"
      ]
     },
     "execution_count": 2,
     "metadata": {},
     "output_type": "execute_result"
    }
   ],
   "source": [
    "path = os.path.join('data', 'ml-latest-small', 'ratings.csv')\n",
    "data = pd.read_csv(path)\n",
    "# Shuffle Data\n",
    "data = data.sample(10493, random_state=200)\n",
    "data.head()"
   ]
  },
  {
   "cell_type": "code",
   "execution_count": 3,
   "metadata": {},
   "outputs": [
    {
     "data": {
      "text/plain": [
       "657"
      ]
     },
     "execution_count": 3,
     "metadata": {},
     "output_type": "execute_result"
    }
   ],
   "source": [
    "len(data.userId.unique())"
   ]
  },
  {
   "cell_type": "code",
   "execution_count": 4,
   "metadata": {},
   "outputs": [
    {
     "data": {
      "text/plain": [
       "28"
      ]
     },
     "execution_count": 4,
     "metadata": {},
     "output_type": "execute_result"
    }
   ],
   "source": [
    "len(data[data.userId==652])"
   ]
  },
  {
   "cell_type": "markdown",
   "metadata": {
    "editable": false
   },
   "source": [
    "So, we'll ignore the _timestamp_ and use the _rating_ column as our only source of information for our recommender system. Remember that if you had data of other types of interactions between users and the movies, you could create a metric that incorporates all of that information in the ratings matrix (maybe by averaging them).\n",
    "\n",
    "Keep the following ratings matrix schema in your mind while developing non-personalized systems. These systems rely heavily on the ratings matrix, so maybe also write it on a piece of paper to remember it better!\n",
    "\n",
    "<img align=\"left\" width=\"413\" height=\"239\" src=\"./media/ratings_matrix3.png\">\n"
   ]
  },
  {
   "cell_type": "markdown",
   "metadata": {
    "editable": false
   },
   "source": [
    "In the following exercise you will build the ratings matrix with users as rows and products as columns.\n",
    "\n",
    "Tip: you can use the pandas' _pivot_ function or flex your numpy muscles with the _genfromtxt_ function (it is good for your health!)."
   ]
  },
  {
   "cell_type": "code",
   "execution_count": 5,
   "metadata": {},
   "outputs": [
    {
     "data": {
      "text/plain": [
       "Index(['userId', 'movieId', 'rating', 'timestamp'], dtype='object')"
      ]
     },
     "execution_count": 5,
     "metadata": {},
     "output_type": "execute_result"
    }
   ],
   "source": [
    "data.columns"
   ]
  },
  {
   "cell_type": "code",
   "execution_count": 6,
   "metadata": {
    "deletable": false,
    "nbgrader": {
     "grade": false,
     "grade_id": "cell-8a6b8634bc3ef2ff",
     "locked": false,
     "schema_version": 3,
     "solution": true,
     "task": false
    }
   },
   "outputs": [
    {
     "data": {
      "text/plain": [
       "array([[0., 0., 0., ..., 0., 0., 0.],\n",
       "       [0., 0., 0., ..., 0., 0., 0.],\n",
       "       [0., 0., 0., ..., 0., 0., 0.],\n",
       "       ...,\n",
       "       [0., 0., 0., ..., 0., 0., 0.],\n",
       "       [0., 0., 0., ..., 0., 0., 0.],\n",
       "       [0., 0., 0., ..., 0., 0., 0.]])"
      ]
     },
     "execution_count": 6,
     "metadata": {},
     "output_type": "execute_result"
    }
   ],
   "source": [
    "def make_ratings(original_data: pd.DataFrame):\n",
    "    \"\"\"\n",
    "    Parameters\n",
    "        original_data - the original data with ratings per user and product.\n",
    "        \n",
    "    Returns:\n",
    "        R - (numpy.ndarray) Ratings matrix with the userId, movieId and rating\n",
    "        hint: don't forget to put zeros on places where you do not have ratings\n",
    "    \n",
    "    Extra Hint: Your input is a pandas DataFrame but you want to output an array (use .to_numpy)!\n",
    "    \"\"\"\n",
    "    # YOUR CODE HERE\n",
    "    return pd.DataFrame(data).pivot(index='userId', columns='movieId', values='rating').fillna(0).to_numpy()\n",
    "    \n",
    "    # YOUR CODE HERE\n",
    "    #raise NotImplementedError()\n",
    "    \n",
    "\n",
    "R = make_ratings(data)\n",
    "R"
   ]
  },
  {
   "cell_type": "code",
   "execution_count": 7,
   "metadata": {
    "editable": false
   },
   "outputs": [
    {
     "data": {
      "text/plain": [
       "'We have 657 user and 3628 items.'"
      ]
     },
     "execution_count": 7,
     "metadata": {},
     "output_type": "execute_result"
    }
   ],
   "source": [
    "f\"We have {R.shape[0]} user and {R.shape[1]} items.\""
   ]
  },
  {
   "cell_type": "code",
   "execution_count": 8,
   "metadata": {
    "deletable": false,
    "editable": false,
    "nbgrader": {
     "grade": false,
     "grade_id": "cell-96e5374618fa4f16",
     "locked": true,
     "points": 0,
     "schema_version": 3,
     "solution": false,
     "task": false
    }
   },
   "outputs": [],
   "source": [
    "expected_hash = '0825c15053e635376af0a569e8f37cfaef0e1dfce37ae6878517e14e061f13c4'\n",
    "assert hashlib.sha256(str(R.shape).encode()).hexdigest() == expected_hash\n",
    "\n",
    "expected_hash_1 = '8ab31b5afaea56114427e1f01b81d001b079a0f59539f6db3f099816ca794055'\n",
    "assert hashlib.sha256(str(R[0].sum()).encode()).hexdigest() == expected_hash_1\n",
    "\n",
    "expected_hash_2 = 'b5967724d1225caa9c6af28a9b333a29e6d5c11a24e9d381acf5c3377524b776'\n",
    "assert hashlib.sha256(str(R[:,0].sum()).encode()).hexdigest() == expected_hash_2\n",
    "\n"
   ]
  },
  {
   "cell_type": "markdown",
   "metadata": {
    "editable": false
   },
   "source": [
    "## Q1: Convert the Ratings Matrix to a Sparse Representation"
   ]
  },
  {
   "cell_type": "markdown",
   "metadata": {
    "editable": false
   },
   "source": [
    "In this exercise, convert the ratings matrix to a sparse row representation. \n",
    "\n",
    "Hint: Remember what we have done with scipy library!"
   ]
  },
  {
   "cell_type": "code",
   "execution_count": 9,
   "metadata": {
    "deletable": false,
    "nbgrader": {
     "grade": false,
     "grade_id": "cell-c0c272ba37054416",
     "locked": false,
     "schema_version": 3,
     "solution": true,
     "task": false
    }
   },
   "outputs": [],
   "source": [
    "from scipy.sparse import csr_matrix\n",
    "\n",
    "def get_csr(orig_matrix):\n",
    "    \"\"\"\n",
    "    Parameters\n",
    "        orig_matrix - The original Ratings Matrix.\n",
    "    \n",
    "    Returns\n",
    "        H_ - The Compressed Sparse Row Matrix\n",
    "    \"\"\"\n",
    "    # YOUR CODE HERE\n",
    "    return csr_matrix(orig_matrix)\n",
    "    #raise NotImplementedError()\n",
    "    \n",
    "sparse_mat = get_csr(R)"
   ]
  },
  {
   "cell_type": "code",
   "execution_count": 10,
   "metadata": {
    "deletable": false,
    "editable": false,
    "nbgrader": {
     "grade": true,
     "grade_id": "cell-35b3a4b1f0a76185",
     "locked": true,
     "points": 2,
     "schema_version": 3,
     "solution": false,
     "task": false
    }
   },
   "outputs": [],
   "source": [
    "expected_hash = 'e33275c9e0741880dc0334b76fb8cb17e27020dec75dda07ab221dbb97277d30'\n",
    "assert hashlib.sha256(str(sparse_mat).encode()).hexdigest() == expected_hash"
   ]
  },
  {
   "cell_type": "code",
   "execution_count": 11,
   "metadata": {},
   "outputs": [
    {
     "data": {
      "text/plain": [
       "array([1093, 1444, 1738, ..., 1479, 1665, 2135], dtype=int32)"
      ]
     },
     "execution_count": 11,
     "metadata": {},
     "output_type": "execute_result"
    }
   ],
   "source": [
    "sparse_mat.indices"
   ]
  },
  {
   "cell_type": "markdown",
   "metadata": {
    "editable": false
   },
   "source": [
    "## Q2: What is the density score of this matrix?\n",
    "\n",
    "In this exercise, let's understand the density score (this is, the fraction of rows that are non zero in the original rating matrix).\n",
    "\n",
    "Calculate the get_density_score function below:"
   ]
  },
  {
   "cell_type": "code",
   "execution_count": 12,
   "metadata": {},
   "outputs": [
    {
     "data": {
      "text/plain": [
       "array([[1, 0, 0],\n",
       "       [0, 0, 3],\n",
       "       [2, 5, 0]])"
      ]
     },
     "execution_count": 12,
     "metadata": {},
     "output_type": "execute_result"
    }
   ],
   "source": [
    "B=np.array([[1,0,0],[0,0,3],[2,5,0]])\n",
    "B"
   ]
  },
  {
   "cell_type": "code",
   "execution_count": 13,
   "metadata": {},
   "outputs": [
    {
     "data": {
      "text/plain": [
       "(array([0, 1, 2, 2]), array([0, 2, 0, 1]))"
      ]
     },
     "execution_count": 13,
     "metadata": {},
     "output_type": "execute_result"
    }
   ],
   "source": [
    "B.nonzero()"
   ]
  },
  {
   "cell_type": "code",
   "execution_count": 14,
   "metadata": {},
   "outputs": [
    {
     "data": {
      "text/plain": [
       "0.4444444444444444"
      ]
     },
     "execution_count": 14,
     "metadata": {},
     "output_type": "execute_result"
    }
   ],
   "source": [
    "B[B.nonzero()].size/B.size"
   ]
  },
  {
   "cell_type": "code",
   "execution_count": 15,
   "metadata": {
    "deletable": false,
    "nbgrader": {
     "grade": false,
     "grade_id": "cell-49adf0f3c0101526",
     "locked": false,
     "schema_version": 3,
     "solution": true,
     "task": false
    }
   },
   "outputs": [],
   "source": [
    "def get_density_score(orig_matrix):\n",
    "    \"\"\"\n",
    "    Parameters\n",
    "        orig_matrix - Ratings Matrix\n",
    "        \n",
    "    Returns:\n",
    "        dense_score - (float) Density Score of matrix Orig Matrix. \n",
    "    \"\"\"\n",
    "    # YOUR CODE HERE\n",
    "    # YOUR CODE HERE\n",
    "    return orig_matrix[orig_matrix.nonzero()].size/orig_matrix.size\n",
    "    #raise NotImplementedError()\n",
    "    \n",
    "dense_score = get_density_score(R)"
   ]
  },
  {
   "cell_type": "code",
   "execution_count": 16,
   "metadata": {
    "deletable": false,
    "editable": false,
    "nbgrader": {
     "grade": true,
     "grade_id": "cell-0792440f45999d40",
     "locked": true,
     "points": 2,
     "schema_version": 3,
     "solution": false,
     "task": false
    }
   },
   "outputs": [],
   "source": [
    "np.testing.assert_almost_equal(dense_score,0.004,3)"
   ]
  },
  {
   "cell_type": "code",
   "execution_count": 17,
   "metadata": {
    "editable": false
   },
   "outputs": [
    {
     "data": {
      "text/plain": [
       "'The Density Score is 0.004402172180184897.'"
      ]
     },
     "execution_count": 17,
     "metadata": {},
     "output_type": "execute_result"
    }
   ],
   "source": [
    "f\"The Density Score is {dense_score}.\""
   ]
  },
  {
   "cell_type": "markdown",
   "metadata": {
    "editable": false
   },
   "source": [
    "## Q3: Popular Items - What are the Top-3 Most Rated items?\n",
    "More ratings give us the current trends but not necessarily the best suggestions - but let's check Items that have more ratings given.\n",
    "\n",
    "In this exercise you will have to retrieve the indexes of the products so you may need to recreate the ratings matrix as a dataframe or come up with another creative solution!\n",
    "\n",
    "Return the product IDs from the product with most ratings to the lowest.\n",
    "\n",
    "**Hint: To get the ID's it's easier if you work with the original data frame other than the rating matrix!**\n",
    "**Remember the pandas pivot method! ;)**"
   ]
  },
  {
   "cell_type": "code",
   "execution_count": 18,
   "metadata": {
    "deletable": false,
    "nbgrader": {
     "grade": false,
     "grade_id": "cell-9ce05dd01331575e",
     "locked": false,
     "schema_version": 3,
     "solution": true,
     "task": false
    }
   },
   "outputs": [],
   "source": [
    "def top3items(original_df, n):\n",
    "    \"\"\"\n",
    "    Parameters\n",
    "        original_df - Original Data Frame with ratings\n",
    "        n - Number of Top-n items to retrieve\n",
    "        \n",
    "    Returns\n",
    "        top_ids - (list) list of product ids of  \n",
    "        the top-n most rated items\n",
    "    \"\"\"\n",
    "    # YOUR CODE HERE\n",
    "    # YOUR CODE HERE\n",
    "    series_data = pd.DataFrame(original_df).pivot(index = 'userId',columns ='movieId', values = 'rating').fillna(0).sum(axis=0)\n",
    "    sort_original_df = sorted(series_data.items(), key=lambda x: x[1], reverse=True)\n",
    "    list_ids = []\n",
    "    for i in sort_original_df:\n",
    "        list_ids.append(i[0])\n",
    "    return list_ids[:n]\n",
    "#raise NotImplementedError()\n",
    "\n",
    "most_wanted = top3items(data, 3)"
   ]
  },
  {
   "cell_type": "code",
   "execution_count": 19,
   "metadata": {
    "deletable": false,
    "editable": false,
    "nbgrader": {
     "grade": true,
     "grade_id": "cell-ae4661f44fc09de8",
     "locked": true,
     "points": 3,
     "schema_version": 3,
     "solution": false,
     "task": false
    }
   },
   "outputs": [],
   "source": [
    "expected_hash = '3f54e8a66e4924557721acdcb1d40e4399376f780ce6d2b11f48931fc5e1376f'\n",
    "assert hashlib.sha256(str(most_wanted).encode()).hexdigest() == expected_hash"
   ]
  },
  {
   "cell_type": "markdown",
   "metadata": {
    "editable": false
   },
   "source": [
    "## Q4: Influencers - What are the Top-5 Most Active Users?"
   ]
  },
  {
   "cell_type": "markdown",
   "metadata": {
    "editable": false
   },
   "source": [
    "Now let's do the following for users! Return the top 5 most active users - this is, the ones that have rated most products. \n",
    "\n",
    "Return the user IDs from the users with most ratings to the lowest ones (but only the top 5)."
   ]
  },
  {
   "cell_type": "code",
   "execution_count": 20,
   "metadata": {
    "deletable": false,
    "nbgrader": {
     "grade": false,
     "grade_id": "cell-1559bfc72b8eaf4c",
     "locked": false,
     "schema_version": 3,
     "solution": true,
     "task": false
    }
   },
   "outputs": [],
   "source": [
    "def get_influencers(original_df, n):\n",
    "    \"\"\"\n",
    "    Parameters\n",
    "        original_df - Original DataFrame with ratings\n",
    "        n - number of top-n most active users\n",
    "        \n",
    "    Returns\n",
    "        influencers - (list) list of \n",
    "        ids of the top-n most active users\n",
    "    \"\"\"    \n",
    "    # YOUR CODE HERE\n",
    "    series_data = pd.DataFrame(original_df).pivot(index = 'userId',columns ='movieId', values = 'rating').fillna(0)\n",
    "    series_data['nonzero']= np.count_nonzero(series_data, axis=1)\n",
    "    series_nonzero = series_data['nonzero']\n",
    "    sort_series_nonzero = sorted(series_nonzero.items(), key=lambda x: x[1], reverse=True)\n",
    "    list_ids = []\n",
    "    for i in sort_series_nonzero:\n",
    "        list_ids.append(i[0])\n",
    "    influencers= list_ids[:n]\n",
    "    #raise NotImplementedError()\n",
    "    \n",
    "    return influencers\n",
    "\n",
    "influencers = get_influencers(data, 5)"
   ]
  },
  {
   "cell_type": "code",
   "execution_count": 21,
   "metadata": {
    "deletable": false,
    "editable": false,
    "nbgrader": {
     "grade": true,
     "grade_id": "cell-2cd4b77837e74779",
     "locked": true,
     "points": 4,
     "schema_version": 3,
     "solution": false,
     "task": false
    }
   },
   "outputs": [],
   "source": [
    "expected_hash = '2cbf47fd3da8e22be1bff24eb3e2ad0b99b8992d870e7a5ea4f21880588accc6'\n",
    "assert hashlib.sha256(str(influencers).encode()).hexdigest() == expected_hash"
   ]
  },
  {
   "cell_type": "markdown",
   "metadata": {},
   "source": [
    "## Q5: Elite - What are the Top-7 Better Rated Items (On Average)?\n",
    "\n",
    "Since this can be biased by a low number of ratings, we need items to have more than 10 ratings. Use average to obtain the ids of the top average rated products. Return the product ID from the highest rated to the lowest rated item.\n",
    "\n",
    "Hint: In this exercise and to filter the movies by rating, it may be easier to use the original data and then reconstruct the ratings matrix!\n",
    "<br>\n",
    "Hint 2: Don't forget that we are asking for the **top** rated items so you have to sort your average ratings in some way!"
   ]
  },
  {
   "cell_type": "code",
   "execution_count": 22,
   "metadata": {},
   "outputs": [
    {
     "data": {
      "text/html": [
       "<div>\n",
       "<style scoped>\n",
       "    .dataframe tbody tr th:only-of-type {\n",
       "        vertical-align: middle;\n",
       "    }\n",
       "\n",
       "    .dataframe tbody tr th {\n",
       "        vertical-align: top;\n",
       "    }\n",
       "\n",
       "    .dataframe thead th {\n",
       "        text-align: right;\n",
       "    }\n",
       "</style>\n",
       "<table border=\"1\" class=\"dataframe\">\n",
       "  <thead>\n",
       "    <tr style=\"text-align: right;\">\n",
       "      <th></th>\n",
       "      <th>userId</th>\n",
       "      <th>movieId</th>\n",
       "      <th>rating</th>\n",
       "      <th>timestamp</th>\n",
       "    </tr>\n",
       "  </thead>\n",
       "  <tbody>\n",
       "    <tr>\n",
       "      <th>58111</th>\n",
       "      <td>423</td>\n",
       "      <td>1206</td>\n",
       "      <td>5.0</td>\n",
       "      <td>1353691236</td>\n",
       "    </tr>\n",
       "    <tr>\n",
       "      <th>94054</th>\n",
       "      <td>624</td>\n",
       "      <td>3268</td>\n",
       "      <td>1.0</td>\n",
       "      <td>1028111170</td>\n",
       "    </tr>\n",
       "    <tr>\n",
       "      <th>97308</th>\n",
       "      <td>652</td>\n",
       "      <td>26843</td>\n",
       "      <td>5.0</td>\n",
       "      <td>1440269953</td>\n",
       "    </tr>\n",
       "    <tr>\n",
       "      <th>55435</th>\n",
       "      <td>401</td>\n",
       "      <td>924</td>\n",
       "      <td>5.0</td>\n",
       "      <td>977458816</td>\n",
       "    </tr>\n",
       "    <tr>\n",
       "      <th>22437</th>\n",
       "      <td>157</td>\n",
       "      <td>5378</td>\n",
       "      <td>2.5</td>\n",
       "      <td>1323618006</td>\n",
       "    </tr>\n",
       "    <tr>\n",
       "      <th>...</th>\n",
       "      <td>...</td>\n",
       "      <td>...</td>\n",
       "      <td>...</td>\n",
       "      <td>...</td>\n",
       "    </tr>\n",
       "    <tr>\n",
       "      <th>56012</th>\n",
       "      <td>405</td>\n",
       "      <td>2405</td>\n",
       "      <td>3.0</td>\n",
       "      <td>1061363297</td>\n",
       "    </tr>\n",
       "    <tr>\n",
       "      <th>72495</th>\n",
       "      <td>509</td>\n",
       "      <td>1079</td>\n",
       "      <td>4.0</td>\n",
       "      <td>940018077</td>\n",
       "    </tr>\n",
       "    <tr>\n",
       "      <th>9949</th>\n",
       "      <td>70</td>\n",
       "      <td>376</td>\n",
       "      <td>4.0</td>\n",
       "      <td>853954323</td>\n",
       "    </tr>\n",
       "    <tr>\n",
       "      <th>37093</th>\n",
       "      <td>268</td>\n",
       "      <td>231</td>\n",
       "      <td>3.5</td>\n",
       "      <td>1314894209</td>\n",
       "    </tr>\n",
       "    <tr>\n",
       "      <th>76373</th>\n",
       "      <td>529</td>\n",
       "      <td>3635</td>\n",
       "      <td>3.0</td>\n",
       "      <td>959966549</td>\n",
       "    </tr>\n",
       "  </tbody>\n",
       "</table>\n",
       "<p>10493 rows × 4 columns</p>\n",
       "</div>"
      ],
      "text/plain": [
       "       userId  movieId  rating   timestamp\n",
       "58111     423     1206     5.0  1353691236\n",
       "94054     624     3268     1.0  1028111170\n",
       "97308     652    26843     5.0  1440269953\n",
       "55435     401      924     5.0   977458816\n",
       "22437     157     5378     2.5  1323618006\n",
       "...       ...      ...     ...         ...\n",
       "56012     405     2405     3.0  1061363297\n",
       "72495     509     1079     4.0   940018077\n",
       "9949       70      376     4.0   853954323\n",
       "37093     268      231     3.5  1314894209\n",
       "76373     529     3635     3.0   959966549\n",
       "\n",
       "[10493 rows x 4 columns]"
      ]
     },
     "execution_count": 22,
     "metadata": {},
     "output_type": "execute_result"
    }
   ],
   "source": [
    "data"
   ]
  },
  {
   "cell_type": "code",
   "execution_count": 23,
   "metadata": {
    "deletable": false,
    "nbgrader": {
     "grade": false,
     "grade_id": "cell-62b63f8f75bd5d58",
     "locked": false,
     "schema_version": 3,
     "solution": true,
     "task": false
    }
   },
   "outputs": [
    {
     "data": {
      "text/plain": [
       "[527, 2959, 50, 318, 1193, 1219, 2571]"
      ]
     },
     "execution_count": 23,
     "metadata": {},
     "output_type": "execute_result"
    }
   ],
   "source": [
    "def elite(original_data, n, k):\n",
    "    \"\"\"\n",
    "    Parameters\n",
    "        original_data - The original dataframe with ratings.\n",
    "        n - Top-n items\n",
    "        k - Mininum number of ratings\n",
    "        \n",
    "    Returns\n",
    "        best_items - (list) list of ids of top-n best mean rated items.\n",
    "        Your indices should refer only to items with more than k ratings (subset of original matrix).\n",
    "    \"\"\"\n",
    "    \n",
    "    # YOUR CODE HERE\n",
    "    #series_data = pd.DataFrame(data).pivot(index = 'userId',columns ='movieId', values = 'rating').fillna(0)\n",
    "    #series_data['nonzero']= np.count_nonzero(series_data, axis=0)\n",
    "    #series_data_filtered = series_data[series_data.nonzero>k]\n",
    "    #series_data_filtered['Ave_rating'] = series_data_filtered.drop(columns = 'nonzero').sum(axis=0)/series_data_filtered['nonzero']\n",
    "    #series_avg = series_data_filtered['Ave_rating']\n",
    "    #sort_series_avg = sorted(series_avg.items(), key=lambda x: x[1], reverse=True)\n",
    "    #list_ids = []\n",
    "    #for i in sort_series_avg:\n",
    "     #   list_ids.append(i[0])\n",
    "    #return list_ids[:n]\n",
    "    #raise NotImplementedError()\n",
    "    \n",
    "    # YOUR CODE HERE\n",
    "    series_data = pd.DataFrame(original_data).pivot(index = 'userId',columns ='movieId', values = 'rating').fillna(0)\n",
    "    series_data.loc['nonzero',:]= np.count_nonzero(series_data, axis=0)\n",
    "    for movieid in series_data.columns:\n",
    "        if series_data.loc['nonzero',movieid]<=k:\n",
    "            series_data = series_data.drop(columns = movieid,axis = 1)\n",
    "    series_data.loc['Ave_rating'] = series_data.drop(index = 'nonzero').sum(axis=0)/series_data.loc['nonzero']\n",
    "    series_avg = series_data.loc['Ave_rating']\n",
    "    #series_data_filtered\n",
    "    sort_series_avg = sorted(series_avg.items(), key=lambda x: x[1], reverse=True)\n",
    "    list_ids = []\n",
    "    for i in sort_series_avg:\n",
    "        list_ids.append(i[0])\n",
    "    return list_ids[:n]\n",
    "\n",
    "\n",
    "    #raise NotImplementedError()\n",
    "\n",
    "    \n",
    "best_items = elite(data, 7, 10)\n",
    "best_items "
   ]
  },
  {
   "cell_type": "code",
   "execution_count": 24,
   "metadata": {
    "deletable": false,
    "editable": false,
    "nbgrader": {
     "grade": true,
     "grade_id": "cell-3e673279793bc5d4",
     "locked": true,
     "points": 5,
     "schema_version": 3,
     "solution": false,
     "task": false
    }
   },
   "outputs": [],
   "source": [
    "expected_hash = '0ed83bd0067fb63b2c591d0039829a3a9bc6887a7bb8f076bc15f6e6944e9216'\n",
    "assert hashlib.sha256(str(best_items).encode()).hexdigest() == expected_hash"
   ]
  },
  {
   "cell_type": "markdown",
   "metadata": {
    "editable": false
   },
   "source": [
    "## Q6: Apriori - What are the 5 most common 2-piece itemsets?\n",
    "We define \"common itemsets\" as at least 2 different items that are usually rated together at least by 0.5% of the population (erheeem support!).\n",
    "Show your results sorted by support in descending way.\n",
    "\n",
    "Hint: Check the mlxtend documentation for help: http://rasbt.github.io/mlxtend/user_guide/frequent_patterns/apriori/"
   ]
  },
  {
   "cell_type": "code",
   "execution_count": 33,
   "metadata": {
    "deletable": false,
    "nbgrader": {
     "grade": false,
     "grade_id": "cell-dff47ecd831f9ca3",
     "locked": false,
     "schema_version": 3,
     "solution": true,
     "task": false
    }
   },
   "outputs": [],
   "source": [
    "def getBundlesSolution(original_data, n=None, min_support=None, top=None):\n",
    "    \"\"\"\n",
    "    Parameters\n",
    "        original_data: Original data frame with ratings.\n",
    "        n: Number of items in commonset\n",
    "        min_support: Minimum percentage of users that contains the itemset\n",
    "        top: Number of most common itemsets\n",
    "        \n",
    "    Return\n",
    "        df: the return dataframe should have two columns [\"support\", \"itemsets\"],\n",
    "            with the support percentage and the itemsets.\n",
    "    \"\"\"\n",
    "    # YOUR CODE HERE\n",
    "    # YOUR CODE HERE\n",
    "    series_data = pd.DataFrame(original_data).pivot(index = 'userId',columns ='movieId', values = 'rating').fillna(0)\n",
    "    data_nonzero_mask = np.greater(series_data,0)    \n",
    "    frequent_itemsets = apriori(data_nonzero_mask, min_support=min_support, max_len = n, use_colnames=True)\n",
    "    frequent_itemsets['length'] = frequent_itemsets['itemsets'].apply(lambda x: len(x))\n",
    "    frequent_itemsets =  frequent_itemsets[ frequent_itemsets['length'] == 2].drop('length',axis = 1)\n",
    "    df = frequent_itemsets.sort_values('support',ascending = False)\n",
    "    return df.iloc[:top,:]\n",
    "    #raise NotImplementedError()\n",
    "    \n",
    "\n",
    "df = getBundlesSolution(data, n=2, min_support=0.005, top=5)"
   ]
  },
  {
   "cell_type": "code",
   "execution_count": 34,
   "metadata": {},
   "outputs": [
    {
     "data": {
      "text/html": [
       "<div>\n",
       "<style scoped>\n",
       "    .dataframe tbody tr th:only-of-type {\n",
       "        vertical-align: middle;\n",
       "    }\n",
       "\n",
       "    .dataframe tbody tr th {\n",
       "        vertical-align: top;\n",
       "    }\n",
       "\n",
       "    .dataframe thead th {\n",
       "        text-align: right;\n",
       "    }\n",
       "</style>\n",
       "<table border=\"1\" class=\"dataframe\">\n",
       "  <thead>\n",
       "    <tr style=\"text-align: right;\">\n",
       "      <th></th>\n",
       "      <th>support</th>\n",
       "      <th>itemsets</th>\n",
       "    </tr>\n",
       "  </thead>\n",
       "  <tbody>\n",
       "    <tr>\n",
       "      <th>834</th>\n",
       "      <td>0.010654</td>\n",
       "      <td>(457, 318)</td>\n",
       "    </tr>\n",
       "    <tr>\n",
       "      <th>846</th>\n",
       "      <td>0.010654</td>\n",
       "      <td>(480, 377)</td>\n",
       "    </tr>\n",
       "    <tr>\n",
       "      <th>823</th>\n",
       "      <td>0.009132</td>\n",
       "      <td>(288, 377)</td>\n",
       "    </tr>\n",
       "    <tr>\n",
       "      <th>847</th>\n",
       "      <td>0.009132</td>\n",
       "      <td>(377, 589)</td>\n",
       "    </tr>\n",
       "    <tr>\n",
       "      <th>813</th>\n",
       "      <td>0.009132</td>\n",
       "      <td>(296, 260)</td>\n",
       "    </tr>\n",
       "  </tbody>\n",
       "</table>\n",
       "</div>"
      ],
      "text/plain": [
       "      support    itemsets\n",
       "834  0.010654  (457, 318)\n",
       "846  0.010654  (480, 377)\n",
       "823  0.009132  (288, 377)\n",
       "847  0.009132  (377, 589)\n",
       "813  0.009132  (296, 260)"
      ]
     },
     "execution_count": 34,
     "metadata": {},
     "output_type": "execute_result"
    }
   ],
   "source": [
    "df"
   ]
  },
  {
   "cell_type": "code",
   "execution_count": 35,
   "metadata": {
    "deletable": false,
    "editable": false,
    "nbgrader": {
     "grade": true,
     "grade_id": "cell-404e9c98f711743d",
     "locked": true,
     "points": 4,
     "schema_version": 3,
     "solution": false,
     "task": false
    }
   },
   "outputs": [],
   "source": [
    "expected_hash = 'f7441550a0ca5274581d023417c99540e3a8a4cca68824a87cbe6d95c07742ea'\n",
    "assert hashlib.sha256(str(df.shape).encode()).hexdigest() == expected_hash\n",
    "\n",
    "np.testing.assert_almost_equal(df.iloc[0,0],0.011,3)\n",
    "\n",
    "np.testing.assert_almost_equal(df.iloc[4,0],0.009,3)"
   ]
  },
  {
   "cell_type": "code",
   "execution_count": null,
   "metadata": {},
   "outputs": [],
   "source": []
  }
 ],
 "metadata": {
  "kernelspec": {
   "display_name": "Python 3",
   "language": "python",
   "name": "python3"
  },
  "language_info": {
   "codemirror_mode": {
    "name": "ipython",
    "version": 3
   },
   "file_extension": ".py",
   "mimetype": "text/x-python",
   "name": "python",
   "nbconvert_exporter": "python",
   "pygments_lexer": "ipython3",
   "version": "3.6.9"
  }
 },
 "nbformat": 4,
 "nbformat_minor": 2
}
