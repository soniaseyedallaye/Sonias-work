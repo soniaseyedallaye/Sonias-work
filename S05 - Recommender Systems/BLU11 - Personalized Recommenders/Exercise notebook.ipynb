{
 "cells": [
  {
   "cell_type": "markdown",
   "metadata": {
    "deletable": false,
    "editable": false,
    "nbgrader": {
     "grade": false,
     "grade_id": "cell-17a04b92ed01953e",
     "locked": true,
     "schema_version": 3,
     "solution": false,
     "task": false
    }
   },
   "source": [
    "# BLU11 - Exercise Notebook\n",
    "\n",
    "## Create your own movie recommender system\n",
    "\n",
    "This exercise notebook will help you creating a Recommender System using Collaborative and Content-based filtering and, in the end, it will help you to pick some movies according to users preferences.\n",
    "\n",
    "## Overall Strategy\n",
    "\n",
    "1. **Setup:** Import and pre-process the data\n",
    "1. **Collaborative Filtering:** normally better but may have the cold-start problem\n",
    "1. **Content-based Filtering:** larger amounts of accessible information about the movie (not only ratings)"
   ]
  },
  {
   "cell_type": "code",
   "execution_count": 1,
   "metadata": {
    "deletable": false,
    "editable": false,
    "nbgrader": {
     "grade": false,
     "grade_id": "cell-ccd7a7449d7ca0c1",
     "locked": true,
     "schema_version": 3,
     "solution": false,
     "task": false
    }
   },
   "outputs": [],
   "source": [
    "# Define your setup\n",
    "import os\n",
    "import hashlib # for grading purposes\n",
    "import json\n",
    "import pandas as pd\n",
    "import numpy as np\n",
    "\n",
    "from scipy.sparse import csr_matrix\n",
    "\n",
    "from sklearn.metrics.pairwise import cosine_similarity\n",
    "from sklearn.feature_extraction.text import TfidfVectorizer\n",
    "from sklearn.preprocessing import normalize\n",
    "\n",
    "import warnings\n",
    "warnings.filterwarnings('ignore')"
   ]
  },
  {
   "cell_type": "markdown",
   "metadata": {
    "deletable": false,
    "editable": false,
    "nbgrader": {
     "grade": false,
     "grade_id": "cell-4a7c06fbdf00b1b7",
     "locked": true,
     "schema_version": 3,
     "solution": false,
     "task": false
    }
   },
   "source": [
    "We'll be using a standard dataset for recommendations, called the [MovieLens](https://grouplens.org/datasets/movielens/) dataset. Our dataset is an adapted version from the smallest version of the dataset available.\n",
    "\n",
    "We have 3 data files available:   "
   ]
  },
  {
   "cell_type": "markdown",
   "metadata": {
    "deletable": false,
    "editable": false,
    "nbgrader": {
     "grade": false,
     "grade_id": "cell-df6eca2c5ff41681",
     "locked": true,
     "schema_version": 3,
     "solution": false,
     "task": false
    }
   },
   "source": [
    "#### Dataset Ratings"
   ]
  },
  {
   "cell_type": "markdown",
   "metadata": {
    "deletable": false,
    "editable": false,
    "nbgrader": {
     "grade": false,
     "grade_id": "cell-d87166cac16585bb",
     "locked": true,
     "schema_version": 3,
     "solution": false,
     "task": false
    }
   },
   "source": [
    "`ratings.csv`: has 70,584 ratings, provided by 147 users, for 9,298 movies."
   ]
  },
  {
   "cell_type": "code",
   "execution_count": 2,
   "metadata": {
    "deletable": false,
    "editable": false,
    "nbgrader": {
     "grade": false,
     "grade_id": "cell-b427a7d303addf56",
     "locked": true,
     "schema_version": 3,
     "solution": false,
     "task": false
    }
   },
   "outputs": [
    {
     "data": {
      "text/html": [
       "<div>\n",
       "<style scoped>\n",
       "    .dataframe tbody tr th:only-of-type {\n",
       "        vertical-align: middle;\n",
       "    }\n",
       "\n",
       "    .dataframe tbody tr th {\n",
       "        vertical-align: top;\n",
       "    }\n",
       "\n",
       "    .dataframe thead th {\n",
       "        text-align: right;\n",
       "    }\n",
       "</style>\n",
       "<table border=\"1\" class=\"dataframe\">\n",
       "  <thead>\n",
       "    <tr style=\"text-align: right;\">\n",
       "      <th></th>\n",
       "      <th>userId</th>\n",
       "      <th>movieId</th>\n",
       "      <th>rating</th>\n",
       "    </tr>\n",
       "  </thead>\n",
       "  <tbody>\n",
       "    <tr>\n",
       "      <th>0</th>\n",
       "      <td>474</td>\n",
       "      <td>185</td>\n",
       "      <td>3.0</td>\n",
       "    </tr>\n",
       "    <tr>\n",
       "      <th>1</th>\n",
       "      <td>62</td>\n",
       "      <td>96079</td>\n",
       "      <td>4.5</td>\n",
       "    </tr>\n",
       "    <tr>\n",
       "      <th>2</th>\n",
       "      <td>298</td>\n",
       "      <td>127198</td>\n",
       "      <td>3.0</td>\n",
       "    </tr>\n",
       "    <tr>\n",
       "      <th>3</th>\n",
       "      <td>414</td>\n",
       "      <td>3836</td>\n",
       "      <td>5.0</td>\n",
       "    </tr>\n",
       "    <tr>\n",
       "      <th>4</th>\n",
       "      <td>68</td>\n",
       "      <td>7360</td>\n",
       "      <td>4.5</td>\n",
       "    </tr>\n",
       "  </tbody>\n",
       "</table>\n",
       "</div>"
      ],
      "text/plain": [
       "   userId  movieId  rating\n",
       "0     474      185     3.0\n",
       "1      62    96079     4.5\n",
       "2     298   127198     3.0\n",
       "3     414     3836     5.0\n",
       "4      68     7360     4.5"
      ]
     },
     "execution_count": 2,
     "metadata": {},
     "output_type": "execute_result"
    }
   ],
   "source": [
    "df_ratings = pd.read_csv(os.path.join(\"data\", \"ratings.csv\"))\n",
    "df_ratings.head()"
   ]
  },
  {
   "cell_type": "code",
   "execution_count": 3,
   "metadata": {},
   "outputs": [
    {
     "data": {
      "text/plain": [
       "(70584, 3)"
      ]
     },
     "execution_count": 3,
     "metadata": {},
     "output_type": "execute_result"
    }
   ],
   "source": [
    "df_ratings.shape"
   ]
  },
  {
   "cell_type": "markdown",
   "metadata": {
    "deletable": false,
    "editable": false,
    "nbgrader": {
     "grade": false,
     "grade_id": "cell-edd2e7ad2b6dc57c",
     "locked": true,
     "schema_version": 3,
     "solution": false,
     "task": false
    }
   },
   "source": [
    "#### Dataset Movies"
   ]
  },
  {
   "cell_type": "markdown",
   "metadata": {
    "deletable": false,
    "editable": false,
    "nbgrader": {
     "grade": false,
     "grade_id": "cell-6b7bfe56b5fd5b2d",
     "locked": true,
     "schema_version": 3,
     "solution": false,
     "task": false
    }
   },
   "source": [
    "`movies.csv`: has the `movieId`, `title`, `genre` and year for 9,742 movies"
   ]
  },
  {
   "cell_type": "code",
   "execution_count": 4,
   "metadata": {
    "deletable": false,
    "editable": false,
    "nbgrader": {
     "grade": false,
     "grade_id": "cell-afef74c7b9c0b58d",
     "locked": true,
     "schema_version": 3,
     "solution": false,
     "task": false
    }
   },
   "outputs": [
    {
     "data": {
      "text/html": [
       "<div>\n",
       "<style scoped>\n",
       "    .dataframe tbody tr th:only-of-type {\n",
       "        vertical-align: middle;\n",
       "    }\n",
       "\n",
       "    .dataframe tbody tr th {\n",
       "        vertical-align: top;\n",
       "    }\n",
       "\n",
       "    .dataframe thead th {\n",
       "        text-align: right;\n",
       "    }\n",
       "</style>\n",
       "<table border=\"1\" class=\"dataframe\">\n",
       "  <thead>\n",
       "    <tr style=\"text-align: right;\">\n",
       "      <th></th>\n",
       "      <th>title</th>\n",
       "      <th>genres</th>\n",
       "      <th>year</th>\n",
       "    </tr>\n",
       "    <tr>\n",
       "      <th>movieId</th>\n",
       "      <th></th>\n",
       "      <th></th>\n",
       "      <th></th>\n",
       "    </tr>\n",
       "  </thead>\n",
       "  <tbody>\n",
       "    <tr>\n",
       "      <th>1</th>\n",
       "      <td>Toy Story</td>\n",
       "      <td>Adventure|Animation|Children|Comedy|Fantasy</td>\n",
       "      <td>1995.0</td>\n",
       "    </tr>\n",
       "    <tr>\n",
       "      <th>2</th>\n",
       "      <td>Jumanji</td>\n",
       "      <td>Adventure|Children|Fantasy</td>\n",
       "      <td>1995.0</td>\n",
       "    </tr>\n",
       "    <tr>\n",
       "      <th>3</th>\n",
       "      <td>Grumpier Old Men</td>\n",
       "      <td>Comedy|Romance</td>\n",
       "      <td>1995.0</td>\n",
       "    </tr>\n",
       "    <tr>\n",
       "      <th>4</th>\n",
       "      <td>Waiting to Exhale</td>\n",
       "      <td>Comedy|Drama|Romance</td>\n",
       "      <td>1995.0</td>\n",
       "    </tr>\n",
       "    <tr>\n",
       "      <th>5</th>\n",
       "      <td>Father of the Bride Part II</td>\n",
       "      <td>Comedy</td>\n",
       "      <td>1995.0</td>\n",
       "    </tr>\n",
       "  </tbody>\n",
       "</table>\n",
       "</div>"
      ],
      "text/plain": [
       "                               title  \\\n",
       "movieId                                \n",
       "1                          Toy Story   \n",
       "2                            Jumanji   \n",
       "3                   Grumpier Old Men   \n",
       "4                  Waiting to Exhale   \n",
       "5        Father of the Bride Part II   \n",
       "\n",
       "                                              genres    year  \n",
       "movieId                                                       \n",
       "1        Adventure|Animation|Children|Comedy|Fantasy  1995.0  \n",
       "2                         Adventure|Children|Fantasy  1995.0  \n",
       "3                                     Comedy|Romance  1995.0  \n",
       "4                               Comedy|Drama|Romance  1995.0  \n",
       "5                                             Comedy  1995.0  "
      ]
     },
     "execution_count": 4,
     "metadata": {},
     "output_type": "execute_result"
    }
   ],
   "source": [
    "df_movies = pd.read_csv(os.path.join(\"data\",\"movies.csv\"))\n",
    "df_movies = df_movies.set_index(\"movieId\")\n",
    "df_movies.head()"
   ]
  },
  {
   "cell_type": "markdown",
   "metadata": {
    "deletable": false,
    "editable": false,
    "nbgrader": {
     "grade": false,
     "grade_id": "cell-837d83d87288301d",
     "locked": true,
     "schema_version": 3,
     "solution": false,
     "task": false
    }
   },
   "source": [
    "#### Dataset Tags"
   ]
  },
  {
   "cell_type": "markdown",
   "metadata": {
    "deletable": false,
    "editable": false,
    "nbgrader": {
     "grade": false,
     "grade_id": "cell-5869592ff3ec59f1",
     "locked": true,
     "schema_version": 3,
     "solution": false,
     "task": false
    }
   },
   "source": [
    "`tags.csv`: has 3.5k tags, provided by 49 users, for 1,551 movies."
   ]
  },
  {
   "cell_type": "code",
   "execution_count": 5,
   "metadata": {
    "deletable": false,
    "editable": false,
    "nbgrader": {
     "grade": false,
     "grade_id": "cell-21fbb3c32a995313",
     "locked": true,
     "schema_version": 3,
     "solution": false,
     "task": false
    }
   },
   "outputs": [
    {
     "data": {
      "text/html": [
       "<div>\n",
       "<style scoped>\n",
       "    .dataframe tbody tr th:only-of-type {\n",
       "        vertical-align: middle;\n",
       "    }\n",
       "\n",
       "    .dataframe tbody tr th {\n",
       "        vertical-align: top;\n",
       "    }\n",
       "\n",
       "    .dataframe thead th {\n",
       "        text-align: right;\n",
       "    }\n",
       "</style>\n",
       "<table border=\"1\" class=\"dataframe\">\n",
       "  <thead>\n",
       "    <tr style=\"text-align: right;\">\n",
       "      <th></th>\n",
       "      <th>userId</th>\n",
       "      <th>movieId</th>\n",
       "      <th>tag</th>\n",
       "    </tr>\n",
       "  </thead>\n",
       "  <tbody>\n",
       "    <tr>\n",
       "      <th>0</th>\n",
       "      <td>2</td>\n",
       "      <td>60756</td>\n",
       "      <td>funny</td>\n",
       "    </tr>\n",
       "    <tr>\n",
       "      <th>1</th>\n",
       "      <td>2</td>\n",
       "      <td>60756</td>\n",
       "      <td>Highly quotable</td>\n",
       "    </tr>\n",
       "    <tr>\n",
       "      <th>2</th>\n",
       "      <td>2</td>\n",
       "      <td>60756</td>\n",
       "      <td>will ferrell</td>\n",
       "    </tr>\n",
       "    <tr>\n",
       "      <th>3</th>\n",
       "      <td>2</td>\n",
       "      <td>89774</td>\n",
       "      <td>Boxing story</td>\n",
       "    </tr>\n",
       "    <tr>\n",
       "      <th>4</th>\n",
       "      <td>2</td>\n",
       "      <td>89774</td>\n",
       "      <td>MMA</td>\n",
       "    </tr>\n",
       "  </tbody>\n",
       "</table>\n",
       "</div>"
      ],
      "text/plain": [
       "   userId  movieId              tag\n",
       "0       2    60756            funny\n",
       "1       2    60756  Highly quotable\n",
       "2       2    60756     will ferrell\n",
       "3       2    89774     Boxing story\n",
       "4       2    89774              MMA"
      ]
     },
     "execution_count": 5,
     "metadata": {},
     "output_type": "execute_result"
    }
   ],
   "source": [
    "df_tags = pd.read_csv(os.path.join(\"data\", \"tags.csv\"))\n",
    "df_tags.head()"
   ]
  },
  {
   "cell_type": "markdown",
   "metadata": {
    "deletable": false,
    "editable": false,
    "nbgrader": {
     "grade": false,
     "grade_id": "cell-802387ea90c38d91",
     "locked": true,
     "schema_version": 3,
     "solution": false,
     "task": false
    }
   },
   "source": [
    "# 1) Build the Ratings Matrix"
   ]
  },
  {
   "cell_type": "markdown",
   "metadata": {
    "deletable": false,
    "editable": false,
    "nbgrader": {
     "grade": false,
     "grade_id": "cell-336d1babda4bb533",
     "locked": true,
     "schema_version": 3,
     "solution": false,
     "task": false
    }
   },
   "source": [
    "## 1.1 -  Create a Ratings Dataframe"
   ]
  },
  {
   "cell_type": "markdown",
   "metadata": {
    "deletable": false,
    "editable": false,
    "nbgrader": {
     "grade": false,
     "grade_id": "cell-59a3ed65a75a3612",
     "locked": true,
     "schema_version": 3,
     "solution": false,
     "task": false
    }
   },
   "source": [
    "Transform the `df_ratings` dataframe in order to have the `userId` as the index, the `movieId` as the column names and the correspondent`rating` as the values.   \n",
    "Make sure that index and column names are in ascending order.  \n",
    "Assign the transformed dataframe to a variable called `df_ratings_transformed`."
   ]
  },
  {
   "cell_type": "code",
   "execution_count": 6,
   "metadata": {
    "deletable": false,
    "nbgrader": {
     "grade": false,
     "grade_id": "cell-858cb039a058302d",
     "locked": false,
     "schema_version": 3,
     "solution": true,
     "task": false
    }
   },
   "outputs": [],
   "source": [
    "# df_ratings_transformed = ...\n",
    "# YOUR CODE HERE\n",
    "df_ratings_transformed = df_ratings.pivot(index = 'userId',columns = 'movieId',values = 'rating').sort_index()\n",
    "#raise NotImplementedError()"
   ]
  },
  {
   "cell_type": "code",
   "execution_count": 7,
   "metadata": {
    "deletable": false,
    "editable": false,
    "nbgrader": {
     "grade": true,
     "grade_id": "cell-74f1244b20ac0139",
     "locked": true,
     "points": 1,
     "schema_version": 3,
     "solution": false,
     "task": false
    }
   },
   "outputs": [
    {
     "data": {
      "text/html": [
       "<div>\n",
       "<style scoped>\n",
       "    .dataframe tbody tr th:only-of-type {\n",
       "        vertical-align: middle;\n",
       "    }\n",
       "\n",
       "    .dataframe tbody tr th {\n",
       "        vertical-align: top;\n",
       "    }\n",
       "\n",
       "    .dataframe thead th {\n",
       "        text-align: right;\n",
       "    }\n",
       "</style>\n",
       "<table border=\"1\" class=\"dataframe\">\n",
       "  <thead>\n",
       "    <tr style=\"text-align: right;\">\n",
       "      <th>movieId</th>\n",
       "      <th>1</th>\n",
       "      <th>2</th>\n",
       "      <th>3</th>\n",
       "      <th>4</th>\n",
       "      <th>5</th>\n",
       "      <th>6</th>\n",
       "      <th>7</th>\n",
       "      <th>8</th>\n",
       "      <th>9</th>\n",
       "      <th>10</th>\n",
       "      <th>...</th>\n",
       "      <th>187717</th>\n",
       "      <th>188189</th>\n",
       "      <th>188301</th>\n",
       "      <th>188675</th>\n",
       "      <th>188751</th>\n",
       "      <th>188797</th>\n",
       "      <th>188833</th>\n",
       "      <th>189381</th>\n",
       "      <th>189713</th>\n",
       "      <th>190183</th>\n",
       "    </tr>\n",
       "    <tr>\n",
       "      <th>userId</th>\n",
       "      <th></th>\n",
       "      <th></th>\n",
       "      <th></th>\n",
       "      <th></th>\n",
       "      <th></th>\n",
       "      <th></th>\n",
       "      <th></th>\n",
       "      <th></th>\n",
       "      <th></th>\n",
       "      <th></th>\n",
       "      <th></th>\n",
       "      <th></th>\n",
       "      <th></th>\n",
       "      <th></th>\n",
       "      <th></th>\n",
       "      <th></th>\n",
       "      <th></th>\n",
       "      <th></th>\n",
       "      <th></th>\n",
       "      <th></th>\n",
       "      <th></th>\n",
       "    </tr>\n",
       "  </thead>\n",
       "  <tbody>\n",
       "    <tr>\n",
       "      <th>1</th>\n",
       "      <td>4.0</td>\n",
       "      <td>NaN</td>\n",
       "      <td>4.0</td>\n",
       "      <td>NaN</td>\n",
       "      <td>NaN</td>\n",
       "      <td>4.0</td>\n",
       "      <td>NaN</td>\n",
       "      <td>NaN</td>\n",
       "      <td>NaN</td>\n",
       "      <td>NaN</td>\n",
       "      <td>...</td>\n",
       "      <td>NaN</td>\n",
       "      <td>NaN</td>\n",
       "      <td>NaN</td>\n",
       "      <td>NaN</td>\n",
       "      <td>NaN</td>\n",
       "      <td>NaN</td>\n",
       "      <td>NaN</td>\n",
       "      <td>NaN</td>\n",
       "      <td>NaN</td>\n",
       "      <td>NaN</td>\n",
       "    </tr>\n",
       "    <tr>\n",
       "      <th>4</th>\n",
       "      <td>NaN</td>\n",
       "      <td>NaN</td>\n",
       "      <td>NaN</td>\n",
       "      <td>NaN</td>\n",
       "      <td>NaN</td>\n",
       "      <td>NaN</td>\n",
       "      <td>NaN</td>\n",
       "      <td>NaN</td>\n",
       "      <td>NaN</td>\n",
       "      <td>NaN</td>\n",
       "      <td>...</td>\n",
       "      <td>NaN</td>\n",
       "      <td>NaN</td>\n",
       "      <td>NaN</td>\n",
       "      <td>NaN</td>\n",
       "      <td>NaN</td>\n",
       "      <td>NaN</td>\n",
       "      <td>NaN</td>\n",
       "      <td>NaN</td>\n",
       "      <td>NaN</td>\n",
       "      <td>NaN</td>\n",
       "    </tr>\n",
       "    <tr>\n",
       "      <th>6</th>\n",
       "      <td>NaN</td>\n",
       "      <td>4.0</td>\n",
       "      <td>5.0</td>\n",
       "      <td>3.0</td>\n",
       "      <td>5.0</td>\n",
       "      <td>4.0</td>\n",
       "      <td>4.0</td>\n",
       "      <td>3.0</td>\n",
       "      <td>NaN</td>\n",
       "      <td>3.0</td>\n",
       "      <td>...</td>\n",
       "      <td>NaN</td>\n",
       "      <td>NaN</td>\n",
       "      <td>NaN</td>\n",
       "      <td>NaN</td>\n",
       "      <td>NaN</td>\n",
       "      <td>NaN</td>\n",
       "      <td>NaN</td>\n",
       "      <td>NaN</td>\n",
       "      <td>NaN</td>\n",
       "      <td>NaN</td>\n",
       "    </tr>\n",
       "    <tr>\n",
       "      <th>18</th>\n",
       "      <td>3.5</td>\n",
       "      <td>3.0</td>\n",
       "      <td>NaN</td>\n",
       "      <td>NaN</td>\n",
       "      <td>NaN</td>\n",
       "      <td>4.0</td>\n",
       "      <td>NaN</td>\n",
       "      <td>NaN</td>\n",
       "      <td>NaN</td>\n",
       "      <td>NaN</td>\n",
       "      <td>...</td>\n",
       "      <td>NaN</td>\n",
       "      <td>NaN</td>\n",
       "      <td>NaN</td>\n",
       "      <td>NaN</td>\n",
       "      <td>NaN</td>\n",
       "      <td>NaN</td>\n",
       "      <td>NaN</td>\n",
       "      <td>NaN</td>\n",
       "      <td>NaN</td>\n",
       "      <td>NaN</td>\n",
       "    </tr>\n",
       "    <tr>\n",
       "      <th>19</th>\n",
       "      <td>4.0</td>\n",
       "      <td>3.0</td>\n",
       "      <td>3.0</td>\n",
       "      <td>NaN</td>\n",
       "      <td>NaN</td>\n",
       "      <td>NaN</td>\n",
       "      <td>2.0</td>\n",
       "      <td>NaN</td>\n",
       "      <td>NaN</td>\n",
       "      <td>2.0</td>\n",
       "      <td>...</td>\n",
       "      <td>NaN</td>\n",
       "      <td>NaN</td>\n",
       "      <td>NaN</td>\n",
       "      <td>NaN</td>\n",
       "      <td>NaN</td>\n",
       "      <td>NaN</td>\n",
       "      <td>NaN</td>\n",
       "      <td>NaN</td>\n",
       "      <td>NaN</td>\n",
       "      <td>NaN</td>\n",
       "    </tr>\n",
       "  </tbody>\n",
       "</table>\n",
       "<p>5 rows × 9298 columns</p>\n",
       "</div>"
      ],
      "text/plain": [
       "movieId  1       2       3       4       5       6       7       8       \\\n",
       "userId                                                                    \n",
       "1           4.0     NaN     4.0     NaN     NaN     4.0     NaN     NaN   \n",
       "4           NaN     NaN     NaN     NaN     NaN     NaN     NaN     NaN   \n",
       "6           NaN     4.0     5.0     3.0     5.0     4.0     4.0     3.0   \n",
       "18          3.5     3.0     NaN     NaN     NaN     4.0     NaN     NaN   \n",
       "19          4.0     3.0     3.0     NaN     NaN     NaN     2.0     NaN   \n",
       "\n",
       "movieId  9       10      ...  187717  188189  188301  188675  188751  188797  \\\n",
       "userId                   ...                                                   \n",
       "1           NaN     NaN  ...     NaN     NaN     NaN     NaN     NaN     NaN   \n",
       "4           NaN     NaN  ...     NaN     NaN     NaN     NaN     NaN     NaN   \n",
       "6           NaN     3.0  ...     NaN     NaN     NaN     NaN     NaN     NaN   \n",
       "18          NaN     NaN  ...     NaN     NaN     NaN     NaN     NaN     NaN   \n",
       "19          NaN     2.0  ...     NaN     NaN     NaN     NaN     NaN     NaN   \n",
       "\n",
       "movieId  188833  189381  189713  190183  \n",
       "userId                                   \n",
       "1           NaN     NaN     NaN     NaN  \n",
       "4           NaN     NaN     NaN     NaN  \n",
       "6           NaN     NaN     NaN     NaN  \n",
       "18          NaN     NaN     NaN     NaN  \n",
       "19          NaN     NaN     NaN     NaN  \n",
       "\n",
       "[5 rows x 9298 columns]"
      ]
     },
     "execution_count": 7,
     "metadata": {},
     "output_type": "execute_result"
    }
   ],
   "source": [
    "assert df_ratings_transformed.shape == (147, 9298)\n",
    "assert df_ratings_transformed.columns[888] == 1228\n",
    "assert df_ratings_transformed.index[64] == 275\n",
    "df_ratings_transformed.head()"
   ]
  },
  {
   "cell_type": "markdown",
   "metadata": {
    "deletable": false,
    "editable": false,
    "nbgrader": {
     "grade": false,
     "grade_id": "cell-8367a6879c5ddcb7",
     "locked": true,
     "schema_version": 3,
     "solution": false,
     "task": false
    }
   },
   "source": [
    "## 1.2 - Create utility functions"
   ]
  },
  {
   "cell_type": "markdown",
   "metadata": {
    "deletable": false,
    "editable": false,
    "nbgrader": {
     "grade": false,
     "grade_id": "cell-2f66d84c37cc301e",
     "locked": true,
     "schema_version": 3,
     "solution": false,
     "task": false
    }
   },
   "source": [
    "Create a set of utility functions that do the correspondence between user/movie Id and index.    \n",
    "\n",
    "The functions must follow the requirements below:   \n",
    "- Accepts movie/user's index or Id;\n",
    "- Accepts an array of movie/user's Id that keeps the same order of movies and users  as `df_ratings_transformed`;\n",
    "- Returns the correspondent id, if it accepts an index, of the index position on the array of movie/user's Id;\n",
    "- Returns the correspondent index, if it accepts an id of the same array;"
   ]
  },
  {
   "cell_type": "markdown",
   "metadata": {
    "deletable": false,
    "editable": false,
    "nbgrader": {
     "grade": false,
     "grade_id": "cell-2254ac0f95f0b178",
     "locked": true,
     "schema_version": 3,
     "solution": false,
     "task": false
    }
   },
   "source": [
    "The array of movie/user's Id should have the following default values:"
   ]
  },
  {
   "cell_type": "code",
   "execution_count": 8,
   "metadata": {
    "deletable": false,
    "editable": false,
    "nbgrader": {
     "grade": false,
     "grade_id": "cell-44f5e0402dbfa88f",
     "locked": true,
     "schema_version": 3,
     "solution": false,
     "task": false
    }
   },
   "outputs": [],
   "source": [
    "user_id_array = df_ratings_transformed.index.to_numpy()\n",
    "movie_id_array = df_ratings_transformed.columns.to_numpy()"
   ]
  },
  {
   "cell_type": "code",
   "execution_count": 9,
   "metadata": {},
   "outputs": [
    {
     "data": {
      "text/plain": [
       "8"
      ]
     },
     "execution_count": 9,
     "metadata": {},
     "output_type": "execute_result"
    }
   ],
   "source": [
    "np. where(user_id_array == 28)[0][0]"
   ]
  },
  {
   "cell_type": "code",
   "execution_count": 10,
   "metadata": {
    "deletable": false,
    "nbgrader": {
     "grade": false,
     "grade_id": "cell-c168dca2ff205190",
     "locked": false,
     "schema_version": 3,
     "solution": true,
     "task": false
    }
   },
   "outputs": [],
   "source": [
    "def get_user_index(user_id, user_id_array=user_id_array):\n",
    "    \"\"\"\n",
    "    For the user_id, returns the correspondent position on user_id_array\n",
    "    \n",
    "    Parameters\n",
    "    ----------\n",
    "    user_id : int\n",
    "    user_id_array: np.array\n",
    "    \n",
    "    Returns\n",
    "    -------\n",
    "    user_index : int\n",
    "    \"\"\"\n",
    "    user_index =  np. where(user_id_array == user_id)[0][0]\n",
    "    # YOUR CODE HERE\n",
    "    #raise NotImplementedError()\n",
    "    return user_index\n",
    "\n",
    "def get_user_id(user_index, user_id_array=user_id_array):\n",
    "    \"\"\"\n",
    "    For the user_index, returns the correspondent id on user_id_array\n",
    "    \n",
    "    Parameters\n",
    "    ----------\n",
    "    user_index : int\n",
    "    user_id_array: np.array\n",
    "    \n",
    "    Returns\n",
    "    -------\n",
    "    user_id : int\n",
    "    \"\"\"\n",
    "    user_id = user_id_array[user_index]\n",
    "    # YOUR CODE HERE\n",
    "    #raise NotImplementedError()\n",
    "    return user_id\n",
    "\n",
    "def get_movie_index(movie_id, movie_id_array=movie_id_array):\n",
    "    \"\"\"\n",
    "    For the movie_id, returns the correspondent position on movie_id_array\n",
    "    \n",
    "    Parameters\n",
    "    ----------\n",
    "    movie_id : int\n",
    "    movie_id_array: np.array\n",
    "    \n",
    "    Returns\n",
    "    -------\n",
    "    movie_index : int\n",
    "    \"\"\"\n",
    "    movie_index = np. where(movie_id_array == movie_id)[0][0]\n",
    "    # YOUR CODE HERE\n",
    "    #raise NotImplementedError()\n",
    "    return movie_index\n",
    "\n",
    "def get_movie_id(movie_index, movie_id_array=movie_id_array):\n",
    "    \"\"\"\n",
    "    For the movie_index, returns the correspondent id on movie_id_array\n",
    "    \n",
    "    Parameters\n",
    "    ----------\n",
    "    movie_index : int\n",
    "    movie_id_array: np.array\n",
    "    \n",
    "    Returns\n",
    "    -------\n",
    "    movie_id : int\n",
    "    \"\"\"\n",
    "    movie_id = movie_id_array[movie_index]\n",
    "    # YOUR CODE HERE\n",
    "    #raise NotImplementedError()\n",
    "    return movie_id"
   ]
  },
  {
   "cell_type": "code",
   "execution_count": 11,
   "metadata": {
    "deletable": false,
    "editable": false,
    "nbgrader": {
     "grade": false,
     "grade_id": "cell-72371ca468475796",
     "locked": true,
     "schema_version": 3,
     "solution": false,
     "task": false
    }
   },
   "outputs": [],
   "source": [
    "user_index_45 = get_user_index(45)\n",
    "user_id_45 = get_user_id(45)\n",
    "movie_index_87 = get_movie_index(87)\n",
    "movie_id_98 = get_movie_id(98)"
   ]
  },
  {
   "cell_type": "code",
   "execution_count": 12,
   "metadata": {
    "deletable": false,
    "editable": false,
    "nbgrader": {
     "grade": true,
     "grade_id": "cell-63f666f689c79a76",
     "locked": true,
     "points": 1,
     "schema_version": 3,
     "solution": false,
     "task": false
    }
   },
   "outputs": [],
   "source": [
    "assert hashlib.sha256(json.dumps(int(user_index_45)).encode()).hexdigest() == \"6b51d431df5d7f141cbececcf79edf3dd861c3b4069f0b11661a3eefacbba918\"\n",
    "assert hashlib.sha256(json.dumps(int(user_id_45)).encode()).hexdigest() == \"1dfacb2ea5a03e0a915999e03b5a56196f1b1664d2f768d1b7eff60ac059789d\"\n",
    "assert hashlib.sha256(json.dumps(int(movie_index_87)).encode()).hexdigest() == \"f74efabef12ea619e30b79bddef89cffa9dda494761681ca862cff2871a85980\"\n",
    "assert hashlib.sha256(json.dumps(int(movie_id_98)).encode()).hexdigest() == \"e5b861a6d8a966dfca7e7341cd3eb6be9901688d547a72ebed0b1f5e14f3d08d\""
   ]
  },
  {
   "cell_type": "markdown",
   "metadata": {
    "deletable": false,
    "editable": false,
    "nbgrader": {
     "grade": false,
     "grade_id": "cell-32813d87f38715a8",
     "locked": true,
     "schema_version": 3,
     "solution": false,
     "task": false
    }
   },
   "source": [
    "### 1.3 - Create a Ratings Matrix"
   ]
  },
  {
   "cell_type": "markdown",
   "metadata": {
    "deletable": false,
    "editable": false,
    "nbgrader": {
     "grade": false,
     "grade_id": "cell-3786ee9a17c7481c",
     "locked": true,
     "schema_version": 3,
     "solution": false,
     "task": false
    }
   },
   "source": [
    "Create a function called `create_ratings_matrix` that accepts the dataframe `df_ratings_transformed`,  that contains users' Ids as indexes, items' Ids as column names and ratings as values. \n",
    "The order of users and items in the `df_ratings_transformed` dataframe should be maintained in the ratings matrix."
   ]
  },
  {
   "cell_type": "code",
   "execution_count": 13,
   "metadata": {
    "deletable": false,
    "nbgrader": {
     "grade": false,
     "grade_id": "cell-eb562bd06d152cf6",
     "locked": false,
     "schema_version": 3,
     "solution": true,
     "task": false
    }
   },
   "outputs": [],
   "source": [
    "def create_ratings_matrix(df_ratings_transformed):\n",
    "    \"\"\"\n",
    "    Creates a rating matrix from df_ratings_transformed, following the same organization of movies and users\n",
    "    \n",
    "    Parameters\n",
    "    ----------\n",
    "    df_ratings_transformed: pd.DataFrame\n",
    "    \n",
    "    Returns\n",
    "    -------\n",
    "    R : csr_matrix\n",
    "    \"\"\"\n",
    "    R = csr_matrix(df_ratings_transformed.fillna(0))\n",
    "    # YOUR CODE HERE\n",
    "    #raise NotImplementedError()\n",
    "    return R"
   ]
  },
  {
   "cell_type": "code",
   "execution_count": 14,
   "metadata": {
    "deletable": false,
    "editable": false,
    "nbgrader": {
     "grade": true,
     "grade_id": "cell-7147902c1cfe5670",
     "locked": true,
     "points": 2,
     "schema_version": 3,
     "solution": false,
     "task": false
    }
   },
   "outputs": [],
   "source": [
    "R = create_ratings_matrix(df_ratings_transformed)\n",
    "assert hashlib.sha256(json.dumps(int(R.shape[0])).encode()).hexdigest() == \"1d28c120568c10e19b9d8abe8b66d0983fa3d2e11ee7751aca50f83c6f4a43aa\"\n",
    "assert hashlib.sha256(json.dumps(int(R.shape[1])).encode()).hexdigest() == \"5c7b55dd4c978558ebd771143a57aa9825ca25ba65e6df89c7270fe10c7e9929\"\n",
    "assert hashlib.sha256(json.dumps(int(R[45].sum())).encode()).hexdigest() == \"fc9e91cc78e1817d80b4ba8c2dc9a638d0c57959825ee34f5e3d7688ad80dfb9\""
   ]
  },
  {
   "cell_type": "markdown",
   "metadata": {
    "deletable": false,
    "editable": false,
    "nbgrader": {
     "grade": false,
     "grade_id": "cell-aa4297c81933f067",
     "locked": true,
     "schema_version": 3,
     "solution": false,
     "task": false
    }
   },
   "source": [
    "\n",
    "# 2) Collaborative Filtering\n",
    "\n",
    "Now that we have the ratings matrix already built, let's calculate similarities and give recommendations based on it.\n",
    "\n",
    "\n",
    "## 2.1 -  Calculate Similarities\n",
    "\n",
    "Create a function, named `calculate_similarities`, that accepts a ratings matrix, and a string named `similarity_type`.    \n",
    "If `similarity_type` equals `users`, that indicates that we want to return the users similarity, if it equals `items`, it indicates that we want the items similarity."
   ]
  },
  {
   "cell_type": "code",
   "execution_count": 15,
   "metadata": {
    "deletable": false,
    "nbgrader": {
     "grade": false,
     "grade_id": "cell-7ba0f4b6ac6e6c79",
     "locked": false,
     "schema_version": 3,
     "solution": true,
     "task": false
    }
   },
   "outputs": [],
   "source": [
    "def calculate_similarities(ratings_matrix, similarity_type):\n",
    "    \"\"\"\n",
    "    Get the cosine similarity between users.\n",
    "    \n",
    "    Parameters\n",
    "    ----------\n",
    "    ratings_matrix : csr_matrix\n",
    "              Ratings matrix.\n",
    "              \n",
    "    similarity_type: str, \"users\" or \"items\"\n",
    "\n",
    "    Returns\n",
    "    -------\n",
    "    similarities : csr_matrix\n",
    "                        sparse representation of the cosine similarity between users or items.\n",
    "    \"\"\"\n",
    "    if similarity_type=='users':\n",
    "        similarities = csr_matrix(cosine_similarity(ratings_matrix))\n",
    "    else:\n",
    "        similarities = csr_matrix(cosine_similarity(ratings_matrix.T))\n",
    "    # YOUR CODE HERE\n",
    "    #raise NotImplementedError()\n",
    "    return similarities"
   ]
  },
  {
   "cell_type": "code",
   "execution_count": 16,
   "metadata": {
    "deletable": false,
    "editable": false,
    "nbgrader": {
     "grade": true,
     "grade_id": "cell-7565813cf2d25920",
     "locked": true,
     "points": 2,
     "schema_version": 3,
     "solution": false,
     "task": false
    }
   },
   "outputs": [],
   "source": [
    "users_similarities = calculate_similarities(ratings_matrix=R, similarity_type=\"users\")\n",
    "assert isinstance(users_similarities, csr_matrix)\n",
    "items_similarities = calculate_similarities(ratings_matrix=R, similarity_type=\"items\")\n",
    "assert isinstance(items_similarities, csr_matrix)\n",
    "np.testing.assert_almost_equal(users_similarities[73].sum(), 38.97, 1)\n",
    "np.testing.assert_almost_equal(items_similarities[82].sum(), 1170.75, 1)"
   ]
  },
  {
   "cell_type": "markdown",
   "metadata": {
    "deletable": false,
    "editable": false,
    "nbgrader": {
     "grade": false,
     "grade_id": "cell-b9726c92a3d67781",
     "locked": true,
     "schema_version": 3,
     "solution": false,
     "task": false
    }
   },
   "source": [
    "## 2.2 - Calculate the nearest neighbor of a user"
   ]
  },
  {
   "cell_type": "markdown",
   "metadata": {
    "deletable": false,
    "editable": false,
    "nbgrader": {
     "grade": false,
     "grade_id": "cell-550e637b11231d24",
     "locked": true,
     "schema_version": 3,
     "solution": false,
     "task": false
    }
   },
   "source": [
    "John, that has the `userId` nº 25, wants to see a new movie and asked us for recommendations.    \n",
    "Let's first take a look at his past history. For that, we need to first merge the dataframe `df_ratings` with `df_movies`, on column `movieId`. This new dataframe is called `df_ratings_title` and has been created in the cell below for you."
   ]
  },
  {
   "cell_type": "code",
   "execution_count": 17,
   "metadata": {
    "deletable": false,
    "editable": false,
    "nbgrader": {
     "grade": false,
     "grade_id": "cell-4406eb727a8049b9",
     "locked": true,
     "schema_version": 3,
     "solution": false,
     "task": false
    }
   },
   "outputs": [],
   "source": [
    "df_ratings_title = pd.merge(df_ratings, df_movies, on=\"movieId\", how=\"left\").sort_values(\"rating\", ascending=False)"
   ]
  },
  {
   "cell_type": "markdown",
   "metadata": {
    "deletable": false,
    "editable": false,
    "nbgrader": {
     "grade": false,
     "grade_id": "cell-b412b76cad4d0a85",
     "locked": true,
     "schema_version": 3,
     "solution": false,
     "task": false
    }
   },
   "source": [
    "Now let's only select and preview the information that corresponds to `John` on `df_ratings_title`."
   ]
  },
  {
   "cell_type": "code",
   "execution_count": 18,
   "metadata": {
    "deletable": false,
    "editable": false,
    "nbgrader": {
     "grade": false,
     "grade_id": "cell-7a26a6a815d24ccc",
     "locked": true,
     "schema_version": 3,
     "solution": false,
     "task": false
    }
   },
   "outputs": [
    {
     "data": {
      "text/html": [
       "<div>\n",
       "<style scoped>\n",
       "    .dataframe tbody tr th:only-of-type {\n",
       "        vertical-align: middle;\n",
       "    }\n",
       "\n",
       "    .dataframe tbody tr th {\n",
       "        vertical-align: top;\n",
       "    }\n",
       "\n",
       "    .dataframe thead th {\n",
       "        text-align: right;\n",
       "    }\n",
       "</style>\n",
       "<table border=\"1\" class=\"dataframe\">\n",
       "  <thead>\n",
       "    <tr style=\"text-align: right;\">\n",
       "      <th></th>\n",
       "      <th>userId</th>\n",
       "      <th>movieId</th>\n",
       "      <th>rating</th>\n",
       "      <th>title</th>\n",
       "      <th>genres</th>\n",
       "      <th>year</th>\n",
       "    </tr>\n",
       "  </thead>\n",
       "  <tbody>\n",
       "    <tr>\n",
       "      <th>8299</th>\n",
       "      <td>25</td>\n",
       "      <td>260</td>\n",
       "      <td>5.0</td>\n",
       "      <td>Star Wars: Episode IV - A New Hope</td>\n",
       "      <td>Action|Adventure|Sci-Fi</td>\n",
       "      <td>1977.0</td>\n",
       "    </tr>\n",
       "    <tr>\n",
       "      <th>59927</th>\n",
       "      <td>25</td>\n",
       "      <td>357</td>\n",
       "      <td>5.0</td>\n",
       "      <td>Four Weddings and a Funeral</td>\n",
       "      <td>Comedy|Romance</td>\n",
       "      <td>1994.0</td>\n",
       "    </tr>\n",
       "    <tr>\n",
       "      <th>30786</th>\n",
       "      <td>25</td>\n",
       "      <td>179819</td>\n",
       "      <td>5.0</td>\n",
       "      <td>Star Wars: The Last Jedi</td>\n",
       "      <td>Action|Adventure|Fantasy|Sci-Fi</td>\n",
       "      <td>2017.0</td>\n",
       "    </tr>\n",
       "    <tr>\n",
       "      <th>39291</th>\n",
       "      <td>25</td>\n",
       "      <td>924</td>\n",
       "      <td>5.0</td>\n",
       "      <td>2001: A Space Odyssey</td>\n",
       "      <td>Adventure|Drama|Sci-Fi</td>\n",
       "      <td>1968.0</td>\n",
       "    </tr>\n",
       "    <tr>\n",
       "      <th>5882</th>\n",
       "      <td>25</td>\n",
       "      <td>1196</td>\n",
       "      <td>5.0</td>\n",
       "      <td>Star Wars: Episode V - The Empire Strikes Back</td>\n",
       "      <td>Action|Adventure|Sci-Fi</td>\n",
       "      <td>1980.0</td>\n",
       "    </tr>\n",
       "    <tr>\n",
       "      <th>61913</th>\n",
       "      <td>25</td>\n",
       "      <td>1270</td>\n",
       "      <td>5.0</td>\n",
       "      <td>Back to the Future</td>\n",
       "      <td>Adventure|Comedy|Sci-Fi</td>\n",
       "      <td>1985.0</td>\n",
       "    </tr>\n",
       "    <tr>\n",
       "      <th>3838</th>\n",
       "      <td>25</td>\n",
       "      <td>33493</td>\n",
       "      <td>5.0</td>\n",
       "      <td>Star Wars: Episode III - Revenge of the Sith</td>\n",
       "      <td>Action|Adventure|Sci-Fi</td>\n",
       "      <td>2005.0</td>\n",
       "    </tr>\n",
       "    <tr>\n",
       "      <th>43541</th>\n",
       "      <td>25</td>\n",
       "      <td>1210</td>\n",
       "      <td>5.0</td>\n",
       "      <td>Star Wars: Episode VI - Return of the Jedi</td>\n",
       "      <td>Action|Adventure|Sci-Fi</td>\n",
       "      <td>1983.0</td>\n",
       "    </tr>\n",
       "    <tr>\n",
       "      <th>4269</th>\n",
       "      <td>25</td>\n",
       "      <td>1240</td>\n",
       "      <td>5.0</td>\n",
       "      <td>Terminator, The</td>\n",
       "      <td>Action|Sci-Fi|Thriller</td>\n",
       "      <td>1984.0</td>\n",
       "    </tr>\n",
       "    <tr>\n",
       "      <th>58831</th>\n",
       "      <td>25</td>\n",
       "      <td>5</td>\n",
       "      <td>5.0</td>\n",
       "      <td>Father of the Bride Part II</td>\n",
       "      <td>Comedy</td>\n",
       "      <td>1995.0</td>\n",
       "    </tr>\n",
       "    <tr>\n",
       "      <th>46662</th>\n",
       "      <td>25</td>\n",
       "      <td>2628</td>\n",
       "      <td>5.0</td>\n",
       "      <td>Star Wars: Episode I - The Phantom Menace</td>\n",
       "      <td>Action|Adventure|Sci-Fi</td>\n",
       "      <td>1999.0</td>\n",
       "    </tr>\n",
       "    <tr>\n",
       "      <th>35319</th>\n",
       "      <td>25</td>\n",
       "      <td>1097</td>\n",
       "      <td>4.5</td>\n",
       "      <td>E.T. the Extra-Terrestrial</td>\n",
       "      <td>Children|Drama|Sci-Fi</td>\n",
       "      <td>1982.0</td>\n",
       "    </tr>\n",
       "    <tr>\n",
       "      <th>714</th>\n",
       "      <td>25</td>\n",
       "      <td>1726</td>\n",
       "      <td>4.5</td>\n",
       "      <td>Postman, The</td>\n",
       "      <td>Action|Adventure|Drama|Sci-Fi</td>\n",
       "      <td>1997.0</td>\n",
       "    </tr>\n",
       "    <tr>\n",
       "      <th>52379</th>\n",
       "      <td>25</td>\n",
       "      <td>1580</td>\n",
       "      <td>1.0</td>\n",
       "      <td>Men in Black (a.k.a. MIB)</td>\n",
       "      <td>Action|Comedy|Sci-Fi</td>\n",
       "      <td>1997.0</td>\n",
       "    </tr>\n",
       "  </tbody>\n",
       "</table>\n",
       "</div>"
      ],
      "text/plain": [
       "       userId  movieId  rating  \\\n",
       "8299       25      260     5.0   \n",
       "59927      25      357     5.0   \n",
       "30786      25   179819     5.0   \n",
       "39291      25      924     5.0   \n",
       "5882       25     1196     5.0   \n",
       "61913      25     1270     5.0   \n",
       "3838       25    33493     5.0   \n",
       "43541      25     1210     5.0   \n",
       "4269       25     1240     5.0   \n",
       "58831      25        5     5.0   \n",
       "46662      25     2628     5.0   \n",
       "35319      25     1097     4.5   \n",
       "714        25     1726     4.5   \n",
       "52379      25     1580     1.0   \n",
       "\n",
       "                                                title  \\\n",
       "8299               Star Wars: Episode IV - A New Hope   \n",
       "59927                     Four Weddings and a Funeral   \n",
       "30786                        Star Wars: The Last Jedi   \n",
       "39291                           2001: A Space Odyssey   \n",
       "5882   Star Wars: Episode V - The Empire Strikes Back   \n",
       "61913                              Back to the Future   \n",
       "3838     Star Wars: Episode III - Revenge of the Sith   \n",
       "43541      Star Wars: Episode VI - Return of the Jedi   \n",
       "4269                                  Terminator, The   \n",
       "58831                     Father of the Bride Part II   \n",
       "46662       Star Wars: Episode I - The Phantom Menace   \n",
       "35319                      E.T. the Extra-Terrestrial   \n",
       "714                                      Postman, The   \n",
       "52379                       Men in Black (a.k.a. MIB)   \n",
       "\n",
       "                                genres    year  \n",
       "8299           Action|Adventure|Sci-Fi  1977.0  \n",
       "59927                   Comedy|Romance  1994.0  \n",
       "30786  Action|Adventure|Fantasy|Sci-Fi  2017.0  \n",
       "39291           Adventure|Drama|Sci-Fi  1968.0  \n",
       "5882           Action|Adventure|Sci-Fi  1980.0  \n",
       "61913          Adventure|Comedy|Sci-Fi  1985.0  \n",
       "3838           Action|Adventure|Sci-Fi  2005.0  \n",
       "43541          Action|Adventure|Sci-Fi  1983.0  \n",
       "4269            Action|Sci-Fi|Thriller  1984.0  \n",
       "58831                           Comedy  1995.0  \n",
       "46662          Action|Adventure|Sci-Fi  1999.0  \n",
       "35319            Children|Drama|Sci-Fi  1982.0  \n",
       "714      Action|Adventure|Drama|Sci-Fi  1997.0  \n",
       "52379             Action|Comedy|Sci-Fi  1997.0  "
      ]
     },
     "execution_count": 18,
     "metadata": {},
     "output_type": "execute_result"
    }
   ],
   "source": [
    "john_id = 25\n",
    "df_john = df_ratings_title[df_ratings_title.userId==john_id]\n",
    "df_john"
   ]
  },
  {
   "cell_type": "markdown",
   "metadata": {
    "deletable": false,
    "editable": false,
    "nbgrader": {
     "grade": false,
     "grade_id": "cell-354795d9714b426e",
     "locked": true,
     "schema_version": 3,
     "solution": false,
     "task": false
    }
   },
   "source": [
    "## 2.2.1  - Get Closest User"
   ]
  },
  {
   "cell_type": "markdown",
   "metadata": {
    "deletable": false,
    "editable": false,
    "nbgrader": {
     "grade": false,
     "grade_id": "cell-b1e27ab39bdfaf0c",
     "locked": true,
     "schema_version": 3,
     "solution": false,
     "task": false
    }
   },
   "source": [
    "Now we want to find out who is the most similar user to John. For that, let's build a function called `get_closest_user_id`, that accepts `users_similarities` and a `user_id`. It should return the id of the user who is most similar."
   ]
  },
  {
   "cell_type": "code",
   "execution_count": 19,
   "metadata": {},
   "outputs": [
    {
     "data": {
      "text/plain": [
       "2"
      ]
     },
     "execution_count": 19,
     "metadata": {},
     "output_type": "execute_result"
    }
   ],
   "source": [
    "A = np.arange(9).reshape(3,3)\n",
    "A[0].max()"
   ]
  },
  {
   "cell_type": "code",
   "execution_count": 20,
   "metadata": {
    "deletable": false,
    "nbgrader": {
     "grade": false,
     "grade_id": "cell-cbf93a8d2861a14a",
     "locked": false,
     "schema_version": 3,
     "solution": true,
     "task": false
    }
   },
   "outputs": [],
   "source": [
    "def get_closest_user_id(users_similarities, user_id):\n",
    "    \"\"\"\n",
    "    Return the id of the closest user to user_id.\n",
    "    Hint: Use the utility functions to convert between id and index\n",
    "    \n",
    "    Parameters\n",
    "    ----------\n",
    "    users_similarities : csr_matrix\n",
    "    user_id: int\n",
    "    \n",
    "    Returns\n",
    "    -------\n",
    "    closest_user_id : int\n",
    "    \"\"\"\n",
    "    # closest_user_id = ...\n",
    "    # YOUR CODE HERE\n",
    "    user_index = get_user_index(user_id,user_id_array)\n",
    "    users_similarities_numpy_matrix = users_similarities.toarray()\n",
    "    np.fill_diagonal(users_similarities_numpy_matrix,0)\n",
    "    u_index= users_similarities_numpy_matrix[user_index].argmax()\n",
    "    closest_user_id = get_user_id(u_index,user_id_array)\n",
    "    #raise NotImplementedError()\n",
    "    return closest_user_id"
   ]
  },
  {
   "cell_type": "markdown",
   "metadata": {
    "deletable": false,
    "editable": false,
    "nbgrader": {
     "grade": false,
     "grade_id": "cell-2f23b7f65c887cdc",
     "locked": true,
     "schema_version": 3,
     "solution": false,
     "task": false
    }
   },
   "source": [
    "With help of the function `get_closest_user_id`, let's see who is the closest user to John."
   ]
  },
  {
   "cell_type": "code",
   "execution_count": 21,
   "metadata": {
    "deletable": false,
    "editable": false,
    "nbgrader": {
     "grade": false,
     "grade_id": "cell-fd83975777e86339",
     "locked": true,
     "schema_version": 3,
     "solution": false,
     "task": false
    }
   },
   "outputs": [
    {
     "data": {
      "text/plain": [
       "'The Id of the closest user to John is 30'"
      ]
     },
     "execution_count": 21,
     "metadata": {},
     "output_type": "execute_result"
    }
   ],
   "source": [
    "closest_user_to_john = get_closest_user_id(users_similarities, john_id)\n",
    "\"The Id of the closest user to John is %s\" % str(closest_user_to_john)"
   ]
  },
  {
   "cell_type": "code",
   "execution_count": 22,
   "metadata": {
    "deletable": false,
    "editable": false,
    "nbgrader": {
     "grade": true,
     "grade_id": "cell-424b8fa117620dcc",
     "locked": true,
     "points": 2,
     "schema_version": 3,
     "solution": false,
     "task": false
    }
   },
   "outputs": [],
   "source": [
    "assert  hashlib.sha256(json.dumps(int(closest_user_to_john)).encode()).hexdigest() == \"624b60c58c9d8bfb6ff1886c2fd605d2adeb6ea4da576068201b6c6958ce93f4\""
   ]
  },
  {
   "cell_type": "markdown",
   "metadata": {},
   "source": [
    "Let's take a look at the movies rated by the user most similar to John."
   ]
  },
  {
   "cell_type": "code",
   "execution_count": 23,
   "metadata": {},
   "outputs": [
    {
     "data": {
      "text/html": [
       "<div>\n",
       "<style scoped>\n",
       "    .dataframe tbody tr th:only-of-type {\n",
       "        vertical-align: middle;\n",
       "    }\n",
       "\n",
       "    .dataframe tbody tr th {\n",
       "        vertical-align: top;\n",
       "    }\n",
       "\n",
       "    .dataframe thead th {\n",
       "        text-align: right;\n",
       "    }\n",
       "</style>\n",
       "<table border=\"1\" class=\"dataframe\">\n",
       "  <thead>\n",
       "    <tr style=\"text-align: right;\">\n",
       "      <th></th>\n",
       "      <th>userId</th>\n",
       "      <th>movieId</th>\n",
       "      <th>rating</th>\n",
       "      <th>title</th>\n",
       "      <th>genres</th>\n",
       "      <th>year</th>\n",
       "    </tr>\n",
       "  </thead>\n",
       "  <tbody>\n",
       "    <tr>\n",
       "      <th>25970</th>\n",
       "      <td>30</td>\n",
       "      <td>1371</td>\n",
       "      <td>5.0</td>\n",
       "      <td>Star Trek: The Motion Picture</td>\n",
       "      <td>Adventure|Sci-Fi</td>\n",
       "      <td>1979.0</td>\n",
       "    </tr>\n",
       "    <tr>\n",
       "      <th>12997</th>\n",
       "      <td>30</td>\n",
       "      <td>1196</td>\n",
       "      <td>5.0</td>\n",
       "      <td>Star Wars: Episode V - The Empire Strikes Back</td>\n",
       "      <td>Action|Adventure|Sci-Fi</td>\n",
       "      <td>1980.0</td>\n",
       "    </tr>\n",
       "    <tr>\n",
       "      <th>51886</th>\n",
       "      <td>30</td>\n",
       "      <td>11</td>\n",
       "      <td>5.0</td>\n",
       "      <td>American President, The</td>\n",
       "      <td>Comedy|Drama|Romance</td>\n",
       "      <td>1995.0</td>\n",
       "    </tr>\n",
       "    <tr>\n",
       "      <th>46785</th>\n",
       "      <td>30</td>\n",
       "      <td>260</td>\n",
       "      <td>5.0</td>\n",
       "      <td>Star Wars: Episode IV - A New Hope</td>\n",
       "      <td>Action|Adventure|Sci-Fi</td>\n",
       "      <td>1977.0</td>\n",
       "    </tr>\n",
       "    <tr>\n",
       "      <th>29723</th>\n",
       "      <td>30</td>\n",
       "      <td>1374</td>\n",
       "      <td>5.0</td>\n",
       "      <td>Star Trek II: The Wrath of Khan</td>\n",
       "      <td>Action|Adventure|Sci-Fi|Thriller</td>\n",
       "      <td>1982.0</td>\n",
       "    </tr>\n",
       "    <tr>\n",
       "      <th>48799</th>\n",
       "      <td>30</td>\n",
       "      <td>2571</td>\n",
       "      <td>5.0</td>\n",
       "      <td>Matrix, The</td>\n",
       "      <td>Action|Sci-Fi|Thriller</td>\n",
       "      <td>1999.0</td>\n",
       "    </tr>\n",
       "    <tr>\n",
       "      <th>51915</th>\n",
       "      <td>30</td>\n",
       "      <td>1210</td>\n",
       "      <td>4.5</td>\n",
       "      <td>Star Wars: Episode VI - Return of the Jedi</td>\n",
       "      <td>Action|Adventure|Sci-Fi</td>\n",
       "      <td>1983.0</td>\n",
       "    </tr>\n",
       "    <tr>\n",
       "      <th>56214</th>\n",
       "      <td>30</td>\n",
       "      <td>1270</td>\n",
       "      <td>4.5</td>\n",
       "      <td>Back to the Future</td>\n",
       "      <td>Adventure|Comedy|Sci-Fi</td>\n",
       "      <td>1985.0</td>\n",
       "    </tr>\n",
       "    <tr>\n",
       "      <th>67305</th>\n",
       "      <td>30</td>\n",
       "      <td>2628</td>\n",
       "      <td>4.5</td>\n",
       "      <td>Star Wars: Episode I - The Phantom Menace</td>\n",
       "      <td>Action|Adventure|Sci-Fi</td>\n",
       "      <td>1999.0</td>\n",
       "    </tr>\n",
       "    <tr>\n",
       "      <th>29288</th>\n",
       "      <td>30</td>\n",
       "      <td>338</td>\n",
       "      <td>4.0</td>\n",
       "      <td>Virtuosity</td>\n",
       "      <td>Action|Sci-Fi|Thriller</td>\n",
       "      <td>1995.0</td>\n",
       "    </tr>\n",
       "    <tr>\n",
       "      <th>32199</th>\n",
       "      <td>30</td>\n",
       "      <td>1240</td>\n",
       "      <td>4.0</td>\n",
       "      <td>Terminator, The</td>\n",
       "      <td>Action|Sci-Fi|Thriller</td>\n",
       "      <td>1984.0</td>\n",
       "    </tr>\n",
       "    <tr>\n",
       "      <th>37501</th>\n",
       "      <td>30</td>\n",
       "      <td>188797</td>\n",
       "      <td>2.0</td>\n",
       "      <td>Tag</td>\n",
       "      <td>Comedy</td>\n",
       "      <td>2018.0</td>\n",
       "    </tr>\n",
       "  </tbody>\n",
       "</table>\n",
       "</div>"
      ],
      "text/plain": [
       "       userId  movieId  rating  \\\n",
       "25970      30     1371     5.0   \n",
       "12997      30     1196     5.0   \n",
       "51886      30       11     5.0   \n",
       "46785      30      260     5.0   \n",
       "29723      30     1374     5.0   \n",
       "48799      30     2571     5.0   \n",
       "51915      30     1210     4.5   \n",
       "56214      30     1270     4.5   \n",
       "67305      30     2628     4.5   \n",
       "29288      30      338     4.0   \n",
       "32199      30     1240     4.0   \n",
       "37501      30   188797     2.0   \n",
       "\n",
       "                                                title  \\\n",
       "25970                   Star Trek: The Motion Picture   \n",
       "12997  Star Wars: Episode V - The Empire Strikes Back   \n",
       "51886                         American President, The   \n",
       "46785              Star Wars: Episode IV - A New Hope   \n",
       "29723                 Star Trek II: The Wrath of Khan   \n",
       "48799                                     Matrix, The   \n",
       "51915      Star Wars: Episode VI - Return of the Jedi   \n",
       "56214                              Back to the Future   \n",
       "67305       Star Wars: Episode I - The Phantom Menace   \n",
       "29288                                      Virtuosity   \n",
       "32199                                 Terminator, The   \n",
       "37501                                             Tag   \n",
       "\n",
       "                                 genres    year  \n",
       "25970                  Adventure|Sci-Fi  1979.0  \n",
       "12997           Action|Adventure|Sci-Fi  1980.0  \n",
       "51886              Comedy|Drama|Romance  1995.0  \n",
       "46785           Action|Adventure|Sci-Fi  1977.0  \n",
       "29723  Action|Adventure|Sci-Fi|Thriller  1982.0  \n",
       "48799            Action|Sci-Fi|Thriller  1999.0  \n",
       "51915           Action|Adventure|Sci-Fi  1983.0  \n",
       "56214           Adventure|Comedy|Sci-Fi  1985.0  \n",
       "67305           Action|Adventure|Sci-Fi  1999.0  \n",
       "29288            Action|Sci-Fi|Thriller  1995.0  \n",
       "32199            Action|Sci-Fi|Thriller  1984.0  \n",
       "37501                            Comedy  2018.0  "
      ]
     },
     "execution_count": 23,
     "metadata": {},
     "output_type": "execute_result"
    }
   ],
   "source": [
    "df_closest_user = df_ratings_title[df_ratings_title[\"userId\"] == closest_user_to_john]\n",
    "df_closest_user"
   ]
  },
  {
   "cell_type": "markdown",
   "metadata": {
    "deletable": false,
    "editable": false,
    "nbgrader": {
     "grade": false,
     "grade_id": "cell-a619dd320e606b14",
     "locked": true,
     "schema_version": 3,
     "solution": false,
     "task": false
    }
   },
   "source": [
    "## 2.3 - Get recommendations from the closest user"
   ]
  },
  {
   "cell_type": "markdown",
   "metadata": {
    "deletable": false,
    "editable": false,
    "nbgrader": {
     "grade": false,
     "grade_id": "cell-2b8a4ea22ad82af5",
     "locked": true,
     "schema_version": 3,
     "solution": false,
     "task": false
    }
   },
   "source": [
    "Create a function called `get_closest_user_recommendations`, that accepts the dataframe `df_user` and `df_closest_user`, and returns a dataframe with `genres`, `movieId`, `title` and `year` of the movies watched by the closest user, with a rating greater than 2, that the user hasn't watched yet."
   ]
  },
  {
   "cell_type": "code",
   "execution_count": 24,
   "metadata": {
    "deletable": false,
    "nbgrader": {
     "grade": false,
     "grade_id": "cell-d6dcef57cc70293a",
     "locked": false,
     "schema_version": 3,
     "solution": true,
     "task": false
    }
   },
   "outputs": [],
   "source": [
    "def get_closest_user_recommendations(df_user, df_closest_user):\n",
    "    \"\"\"\n",
    "    Get the movies on df_closest_user, that are not on df_user and have ratings bigger than 2\n",
    "    \n",
    "    Parameters\n",
    "    ----------\n",
    "    df_user : pd.DataFrame\n",
    "    df_closest_user: pd.DataFrame\n",
    "    \n",
    "    Returns\n",
    "    -------\n",
    "    df_new_movies : pd.DataFrame\n",
    "    \"\"\"\n",
    "    # df_new_movies = ...\n",
    "    # YOUR CODE HERE\n",
    "    #raise NotImplementedError()\n",
    "    df_new = pd.DataFrame() \n",
    "    for movie in df_closest_user['movieId']:\n",
    "        if movie not in df_user['movieId'].values:\n",
    "            df_new = df_new.append(df_closest_user[df_closest_user['movieId']==movie])\n",
    "    df_new= df_new[df_new.rating>2]\n",
    "    df_new_movies = df_new[['genres', 'movieId', 'title', 'year']]\n",
    "    return df_new_movies"
   ]
  },
  {
   "cell_type": "code",
   "execution_count": 25,
   "metadata": {
    "deletable": false,
    "editable": false,
    "nbgrader": {
     "grade": true,
     "grade_id": "cell-5ff930902eadd30b",
     "locked": true,
     "points": 1,
     "schema_version": 3,
     "solution": false,
     "task": false
    }
   },
   "outputs": [
    {
     "name": "stdout",
     "output_type": "stream",
     "text": [
      "Those are the movies that the closest user to John can recommend to him.\n"
     ]
    },
    {
     "data": {
      "text/html": [
       "<div>\n",
       "<style scoped>\n",
       "    .dataframe tbody tr th:only-of-type {\n",
       "        vertical-align: middle;\n",
       "    }\n",
       "\n",
       "    .dataframe tbody tr th {\n",
       "        vertical-align: top;\n",
       "    }\n",
       "\n",
       "    .dataframe thead th {\n",
       "        text-align: right;\n",
       "    }\n",
       "</style>\n",
       "<table border=\"1\" class=\"dataframe\">\n",
       "  <thead>\n",
       "    <tr style=\"text-align: right;\">\n",
       "      <th></th>\n",
       "      <th>genres</th>\n",
       "      <th>movieId</th>\n",
       "      <th>title</th>\n",
       "      <th>year</th>\n",
       "    </tr>\n",
       "  </thead>\n",
       "  <tbody>\n",
       "    <tr>\n",
       "      <th>25970</th>\n",
       "      <td>Adventure|Sci-Fi</td>\n",
       "      <td>1371</td>\n",
       "      <td>Star Trek: The Motion Picture</td>\n",
       "      <td>1979.0</td>\n",
       "    </tr>\n",
       "    <tr>\n",
       "      <th>51886</th>\n",
       "      <td>Comedy|Drama|Romance</td>\n",
       "      <td>11</td>\n",
       "      <td>American President, The</td>\n",
       "      <td>1995.0</td>\n",
       "    </tr>\n",
       "    <tr>\n",
       "      <th>29723</th>\n",
       "      <td>Action|Adventure|Sci-Fi|Thriller</td>\n",
       "      <td>1374</td>\n",
       "      <td>Star Trek II: The Wrath of Khan</td>\n",
       "      <td>1982.0</td>\n",
       "    </tr>\n",
       "    <tr>\n",
       "      <th>48799</th>\n",
       "      <td>Action|Sci-Fi|Thriller</td>\n",
       "      <td>2571</td>\n",
       "      <td>Matrix, The</td>\n",
       "      <td>1999.0</td>\n",
       "    </tr>\n",
       "    <tr>\n",
       "      <th>29288</th>\n",
       "      <td>Action|Sci-Fi|Thriller</td>\n",
       "      <td>338</td>\n",
       "      <td>Virtuosity</td>\n",
       "      <td>1995.0</td>\n",
       "    </tr>\n",
       "  </tbody>\n",
       "</table>\n",
       "</div>"
      ],
      "text/plain": [
       "                                 genres  movieId  \\\n",
       "25970                  Adventure|Sci-Fi     1371   \n",
       "51886              Comedy|Drama|Romance       11   \n",
       "29723  Action|Adventure|Sci-Fi|Thriller     1374   \n",
       "48799            Action|Sci-Fi|Thriller     2571   \n",
       "29288            Action|Sci-Fi|Thriller      338   \n",
       "\n",
       "                                 title    year  \n",
       "25970    Star Trek: The Motion Picture  1979.0  \n",
       "51886          American President, The  1995.0  \n",
       "29723  Star Trek II: The Wrath of Khan  1982.0  \n",
       "48799                      Matrix, The  1999.0  \n",
       "29288                       Virtuosity  1995.0  "
      ]
     },
     "execution_count": 25,
     "metadata": {},
     "output_type": "execute_result"
    }
   ],
   "source": [
    "user_recommendations = get_closest_user_recommendations(df_john, df_closest_user)\n",
    "assert list(user_recommendations.columns.sort_values()) == ['genres', 'movieId', 'title', 'year']\n",
    "assert  hashlib.sha256(json.dumps(int(user_recommendations.movieId.sum())).encode()).hexdigest() == \"ad0d7f127516cc1330d5d41d6cab963a831fc6d563568f0b8417f6d7e544f13b\"\n",
    "assert hashlib.sha256(json.dumps(int(user_recommendations.movieId.sort_values().iloc[1])).encode()).hexdigest() == \"5d8f6cce532a7aeb57196be62344095936793400b3aeb3580d248b17d5518a86\"\n",
    "print(\"Those are the movies that the closest user to John can recommend to him.\")\n",
    "user_recommendations"
   ]
  },
  {
   "cell_type": "markdown",
   "metadata": {
    "deletable": false,
    "editable": false,
    "nbgrader": {
     "grade": false,
     "grade_id": "cell-8fc58c4991132154",
     "locked": true,
     "schema_version": 3,
     "solution": false,
     "task": false
    }
   },
   "source": [
    "## 2.4 - Get Users Predictions with collaborative filtering\n",
    "Let's build a function, named `make_user_predictions`, that predicts the user's ratings, for the movies that haven't been rated by the users yet, based on user's ratings and similarities between them. "
   ]
  },
  {
   "cell_type": "code",
   "execution_count": 26,
   "metadata": {
    "deletable": false,
    "nbgrader": {
     "grade": false,
     "grade_id": "cell-4b927f9157112c21",
     "locked": false,
     "schema_version": 3,
     "solution": true,
     "task": false
    }
   },
   "outputs": [],
   "source": [
    "def make_user_predictions(users_similarities, R):\n",
    "    \"\"\"\n",
    "    Parameters\n",
    "    ----------\n",
    "    users_similarities : csr_matrix, shape: (n_users, n_users)\n",
    "                Matrix with the similarities between users.\n",
    "    \n",
    "    R : csr_matrix, shape: (n_users, n_items)\n",
    "        Matrix with the available ratings.\n",
    "    \n",
    "    Returns\n",
    "    -------\n",
    "    users_predictions : csr_matrix, shape: (n_users, n_items)\n",
    "                        Ratings predictions.\n",
    "    \"\"\"\n",
    "    # users_predictions = ...\n",
    "    # YOUR CODE HERE\n",
    "    users_predictions = np.dot(users_similarities, R)/(np.abs(users_similarities).sum(axis = 1))\n",
    "    users_predictions[R.nonzero()]=0\n",
    "    #raise NotImplementedError()\n",
    "    return csr_matrix(users_predictions)"
   ]
  },
  {
   "cell_type": "code",
   "execution_count": 27,
   "metadata": {
    "deletable": false,
    "editable": false,
    "nbgrader": {
     "grade": true,
     "grade_id": "cell-2eb483cbd08d7c67",
     "locked": true,
     "points": 2,
     "schema_version": 3,
     "solution": false,
     "task": false
    }
   },
   "outputs": [],
   "source": [
    "users_predictions = make_user_predictions(users_similarities, R)\n",
    "assert hashlib.sha256(json.dumps(users_predictions.shape[0]).encode()).hexdigest() == \"1d28c120568c10e19b9d8abe8b66d0983fa3d2e11ee7751aca50f83c6f4a43aa\"\n",
    "assert hashlib.sha256(json.dumps(users_predictions.shape[1]).encode()).hexdigest() == \"5c7b55dd4c978558ebd771143a57aa9825ca25ba65e6df89c7270fe10c7e9929\"\n",
    "assert hashlib.sha256(json.dumps((users_predictions == 0).size).encode()).hexdigest() == \"3a4d4cb0054e390d365952fd4849735694518b5be6eb2d4a961957181fb5974e\"\n",
    "np.testing.assert_almost_equal(users_predictions[33].sum(), 1339.89, 1)\n",
    "assert hashlib.sha256(json.dumps(round(users_predictions[34].toarray()[0][5], 1)).encode()).hexdigest() == \"ec6c168f4411ec8fa9ab8d47dd25954ce53728404fed0e7a9bc7f29dab38c30d\""
   ]
  },
  {
   "cell_type": "markdown",
   "metadata": {
    "deletable": false,
    "editable": false,
    "nbgrader": {
     "grade": false,
     "grade_id": "cell-fd11dfac840b2729",
     "locked": true,
     "schema_version": 3,
     "solution": false,
     "task": false
    }
   },
   "source": [
    "## 2.5 - Get top 10 movies"
   ]
  },
  {
   "cell_type": "markdown",
   "metadata": {
    "deletable": false,
    "editable": false,
    "nbgrader": {
     "grade": false,
     "grade_id": "cell-f394be590625e6b8",
     "locked": true,
     "schema_version": 3,
     "solution": false,
     "task": false
    }
   },
   "source": [
    "From users predictions, let's create a function named `get_top_n`, that returns, by default, the top 10 unseen movies, with the greatest predicted rating, for a given user Id."
   ]
  },
  {
   "cell_type": "code",
   "execution_count": 28,
   "metadata": {
    "deletable": false,
    "nbgrader": {
     "grade": false,
     "grade_id": "cell-04f3e47dbc84e1d6",
     "locked": false,
     "schema_version": 3,
     "solution": true,
     "task": false
    }
   },
   "outputs": [],
   "source": [
    "def get_top_n(users_predictions, user_id, n=10):\n",
    "    \"\"\"\n",
    "    Returns the top n movies for a given user\n",
    "    \n",
    "    Hint: Use the utility functions to convert between id and index\n",
    "    \n",
    "    Parameters\n",
    "    ----------\n",
    "    users_predictions : csr_matrix, shape: (n_users, n_items)\n",
    "                        Ratings predictions.\n",
    "    \n",
    "    user_id: int\n",
    "    \n",
    "    n: int\n",
    "    \n",
    "    Returns\n",
    "    -------\n",
    "    movies_ids : list\n",
    "    \"\"\"\n",
    "    # movies_ids = ...\n",
    "    # YOUR CODE HERE\n",
    "    numpy_matrix_users_predictions = np.negative(users_predictions).toarray()\n",
    "    user_index = get_user_index(user_id, user_id_array)\n",
    "    list_index_movies = numpy_matrix_users_predictions.argsort()[user_index,:n] \n",
    "    movies_ids =[get_movie_id(movie_index,movie_id_array) for movie_index in list_index_movies]\n",
    "   # raise NotImplementedError()\n",
    "    return movies_ids"
   ]
  },
  {
   "cell_type": "code",
   "execution_count": 29,
   "metadata": {
    "deletable": false,
    "editable": false,
    "nbgrader": {
     "grade": true,
     "grade_id": "cell-a71327ba24c1cd00",
     "locked": true,
     "points": 1,
     "schema_version": 3,
     "solution": false,
     "task": false
    }
   },
   "outputs": [
    {
     "name": "stdout",
     "output_type": "stream",
     "text": [
      "Those are the top 10 movies that we can recommend to John using collaborative filtering.\n"
     ]
    },
    {
     "data": {
      "text/html": [
       "<div>\n",
       "<style scoped>\n",
       "    .dataframe tbody tr th:only-of-type {\n",
       "        vertical-align: middle;\n",
       "    }\n",
       "\n",
       "    .dataframe tbody tr th {\n",
       "        vertical-align: top;\n",
       "    }\n",
       "\n",
       "    .dataframe thead th {\n",
       "        text-align: right;\n",
       "    }\n",
       "</style>\n",
       "<table border=\"1\" class=\"dataframe\">\n",
       "  <thead>\n",
       "    <tr style=\"text-align: right;\">\n",
       "      <th></th>\n",
       "      <th>title</th>\n",
       "      <th>genres</th>\n",
       "      <th>year</th>\n",
       "    </tr>\n",
       "    <tr>\n",
       "      <th>movieId</th>\n",
       "      <th></th>\n",
       "      <th></th>\n",
       "      <th></th>\n",
       "    </tr>\n",
       "  </thead>\n",
       "  <tbody>\n",
       "    <tr>\n",
       "      <th>2571</th>\n",
       "      <td>Matrix, The</td>\n",
       "      <td>Action|Sci-Fi|Thriller</td>\n",
       "      <td>1999.0</td>\n",
       "    </tr>\n",
       "    <tr>\n",
       "      <th>356</th>\n",
       "      <td>Forrest Gump</td>\n",
       "      <td>Comedy|Drama|Romance|War</td>\n",
       "      <td>1994.0</td>\n",
       "    </tr>\n",
       "    <tr>\n",
       "      <th>296</th>\n",
       "      <td>Pulp Fiction</td>\n",
       "      <td>Comedy|Crime|Drama|Thriller</td>\n",
       "      <td>1994.0</td>\n",
       "    </tr>\n",
       "    <tr>\n",
       "      <th>1198</th>\n",
       "      <td>Raiders of the Lost Ark (Indiana Jones and the...</td>\n",
       "      <td>Action|Adventure</td>\n",
       "      <td>1981.0</td>\n",
       "    </tr>\n",
       "    <tr>\n",
       "      <th>318</th>\n",
       "      <td>Shawshank Redemption, The</td>\n",
       "      <td>Crime|Drama</td>\n",
       "      <td>1994.0</td>\n",
       "    </tr>\n",
       "    <tr>\n",
       "      <th>593</th>\n",
       "      <td>Silence of the Lambs, The</td>\n",
       "      <td>Crime|Horror|Thriller</td>\n",
       "      <td>1991.0</td>\n",
       "    </tr>\n",
       "    <tr>\n",
       "      <th>2028</th>\n",
       "      <td>Saving Private Ryan</td>\n",
       "      <td>Action|Drama|War</td>\n",
       "      <td>1998.0</td>\n",
       "    </tr>\n",
       "    <tr>\n",
       "      <th>1265</th>\n",
       "      <td>Groundhog Day</td>\n",
       "      <td>Comedy|Fantasy|Romance</td>\n",
       "      <td>1993.0</td>\n",
       "    </tr>\n",
       "    <tr>\n",
       "      <th>589</th>\n",
       "      <td>Terminator 2: Judgment Day</td>\n",
       "      <td>Action|Sci-Fi</td>\n",
       "      <td>1991.0</td>\n",
       "    </tr>\n",
       "    <tr>\n",
       "      <th>858</th>\n",
       "      <td>Godfather, The</td>\n",
       "      <td>Crime|Drama</td>\n",
       "      <td>1972.0</td>\n",
       "    </tr>\n",
       "  </tbody>\n",
       "</table>\n",
       "</div>"
      ],
      "text/plain": [
       "                                                     title  \\\n",
       "movieId                                                      \n",
       "2571                                           Matrix, The   \n",
       "356                                           Forrest Gump   \n",
       "296                                           Pulp Fiction   \n",
       "1198     Raiders of the Lost Ark (Indiana Jones and the...   \n",
       "318                              Shawshank Redemption, The   \n",
       "593                              Silence of the Lambs, The   \n",
       "2028                                   Saving Private Ryan   \n",
       "1265                                         Groundhog Day   \n",
       "589                             Terminator 2: Judgment Day   \n",
       "858                                         Godfather, The   \n",
       "\n",
       "                              genres    year  \n",
       "movieId                                       \n",
       "2571          Action|Sci-Fi|Thriller  1999.0  \n",
       "356         Comedy|Drama|Romance|War  1994.0  \n",
       "296      Comedy|Crime|Drama|Thriller  1994.0  \n",
       "1198                Action|Adventure  1981.0  \n",
       "318                      Crime|Drama  1994.0  \n",
       "593            Crime|Horror|Thriller  1991.0  \n",
       "2028                Action|Drama|War  1998.0  \n",
       "1265          Comedy|Fantasy|Romance  1993.0  \n",
       "589                    Action|Sci-Fi  1991.0  \n",
       "858                      Crime|Drama  1972.0  "
      ]
     },
     "execution_count": 29,
     "metadata": {},
     "output_type": "execute_result"
    }
   ],
   "source": [
    "top_movies_ids = get_top_n(users_predictions,john_id)\n",
    "assert  hashlib.sha256(json.dumps(int(sum(top_movies_ids))).encode()).hexdigest() == \"5a5dd583a59e0901a10cac855da950b7627863114e1889990f0f747bb95a1e1d\"\n",
    "assert hashlib.sha256(json.dumps(int(len(top_movies_ids))).encode()).hexdigest() == \"4a44dc15364204a80fe80e9039455cc1608281820fe2b24f1e5233ade6af1dd5\"\n",
    "print(\"Those are the top 10 movies that we can recommend to John using collaborative filtering.\")\n",
    "df_movies.loc[top_movies_ids]"
   ]
  },
  {
   "cell_type": "markdown",
   "metadata": {
    "deletable": false,
    "editable": false,
    "nbgrader": {
     "grade": false,
     "grade_id": "cell-bf5b9fc76e784e53",
     "locked": true,
     "schema_version": 3,
     "solution": false,
     "task": false
    }
   },
   "source": [
    "# 3) Content-based Filtering"
   ]
  },
  {
   "cell_type": "markdown",
   "metadata": {
    "deletable": false,
    "editable": false,
    "nbgrader": {
     "grade": false,
     "grade_id": "cell-94edc58f987a065c",
     "locked": true,
     "schema_version": 3,
     "solution": false,
     "task": false
    }
   },
   "source": [
    "Now let's do predictions based on the characteristics of the items themselves.    \n",
    "For that purpose, we can make use of the `tag.csv` dataset to describe the movies."
   ]
  },
  {
   "cell_type": "markdown",
   "metadata": {
    "deletable": false,
    "editable": false,
    "nbgrader": {
     "grade": false,
     "grade_id": "cell-7cb6f5d54a6cce32",
     "locked": true,
     "schema_version": 3,
     "solution": false,
     "task": false
    }
   },
   "source": [
    "## 3.1 - Processing the Tags"
   ]
  },
  {
   "cell_type": "markdown",
   "metadata": {
    "deletable": false,
    "editable": false,
    "nbgrader": {
     "grade": false,
     "grade_id": "cell-d89c503f1e247864",
     "locked": true,
     "schema_version": 3,
     "solution": false,
     "task": false
    }
   },
   "source": [
    "Since we have multiple tags for the same movie, we are able to join them on a single string (document), for each movie, in order to describe it.   \n",
    "Create a function named `create_movie_document_tags`, that applies the following processing to tags:  \n",
    "- Remove whitespaces for multi-word tags;\n",
    "- Lowercase tags; \n",
    "- Join all the tags in a single document, separated by comma;   \n",
    "\n",
    "Then, returns a series that has the correspondence between `movieId` and all the given `tags`, in a single document, already processed. The series shouls have `movieId` as index.  "
   ]
  },
  {
   "cell_type": "code",
   "execution_count": 30,
   "metadata": {
    "deletable": false,
    "nbgrader": {
     "grade": false,
     "grade_id": "cell-6394b2a5662fff0d",
     "locked": false,
     "schema_version": 3,
     "solution": true,
     "task": false
    }
   },
   "outputs": [],
   "source": [
    "def create_movie_document_tags(df):\n",
    "    \"\"\"\n",
    "    1st step of preprocessing the movies contents.\n",
    "    Join the multiple tags (lower cased and without spaces) in a single row for each movie, with the tags separated by a space.\n",
    "    \n",
    "    Parameters\n",
    "    ----------\n",
    "    df : pd.DataFrame\n",
    "              Original dataframe for the tags\n",
    "              \n",
    "    Returns\n",
    "    -------\n",
    "    tags : pd.Series\n",
    "                        Series with movieId as Index and the multiple tags in a document.\n",
    "    \"\"\"\n",
    "    # tags = ...\n",
    "    # YOUR CODE HERE\n",
    "    tags = df.groupby('movieId')['tag'].apply(','.join).str.replace(' ','').str.lower().str.replace(',',' ')\n",
    "    #raise NotImplementedError()\n",
    "    return tags"
   ]
  },
  {
   "cell_type": "code",
   "execution_count": 31,
   "metadata": {
    "deletable": false,
    "editable": false,
    "nbgrader": {
     "grade": true,
     "grade_id": "cell-2f64ce9a11bd0ff5",
     "locked": true,
     "points": 2,
     "schema_version": 3,
     "solution": false,
     "task": false
    }
   },
   "outputs": [],
   "source": [
    "df_document_tags = create_movie_document_tags(df_tags)\n",
    "assert isinstance(df_document_tags, pd.Series)\n",
    "assert df_document_tags.shape[0] == 1551\n",
    "assert hashlib.sha256(json.dumps(df_document_tags.loc[50]).encode()).hexdigest() == \"a3bbafd77ce83eac3385449cebf8f7db4d5174b30da52e7cbdc35550e4d547cd\""
   ]
  },
  {
   "cell_type": "markdown",
   "metadata": {
    "deletable": false,
    "editable": false,
    "nbgrader": {
     "grade": false,
     "grade_id": "cell-eb5c8452dbe626cd",
     "locked": true,
     "schema_version": 3,
     "solution": false,
     "task": false
    }
   },
   "source": [
    "## 3.2 - Add more information about movies"
   ]
  },
  {
   "cell_type": "markdown",
   "metadata": {
    "deletable": false,
    "editable": false,
    "nbgrader": {
     "grade": false,
     "grade_id": "cell-5955a93d0dc5e270",
     "locked": true,
     "schema_version": 3,
     "solution": false,
     "task": false
    }
   },
   "source": [
    "From the dataframe `df_movies`, create a new dataframe named `df_movies_processed`, with `movieId` as the index. Create a new column named `decade`, from the column `year` with help of the function `extract_decade` below. After creating the column `decade`, drop the column `year`.   \n",
    "Also, clean the column `genres` in order to have each genre in lower case, without spaces (in the cases where each genre has more than one word), and separate genres with one space.   \n",
    "Finally, join the serie `df_document_tags` by `movieId` and give the name `tags` to the new column created.  \n",
    "If there is any missing values, fill them with empty strings.   \n",
    "Select only the movies that have ratings, assign it to `df_movies_processed_w_ratings`, and keep the same order they appear in the ratings matrix.   "
   ]
  },
  {
   "cell_type": "code",
   "execution_count": 32,
   "metadata": {
    "deletable": false,
    "editable": false,
    "nbgrader": {
     "grade": false,
     "grade_id": "cell-02c603a67bc6b09b",
     "locked": true,
     "schema_version": 3,
     "solution": false,
     "task": false
    }
   },
   "outputs": [],
   "source": [
    "def extract_decade(value):\n",
    "    try: \n",
    "        decade = int(10*round(value/10))\n",
    "        return str(decade)\n",
    "    except:\n",
    "        return \"\""
   ]
  },
  {
   "cell_type": "code",
   "execution_count": null,
   "metadata": {},
   "outputs": [],
   "source": []
  },
  {
   "cell_type": "code",
   "execution_count": 33,
   "metadata": {
    "deletable": false,
    "nbgrader": {
     "grade": false,
     "grade_id": "cell-3133fcaddcded315",
     "locked": false,
     "schema_version": 3,
     "solution": true,
     "task": false
    }
   },
   "outputs": [
    {
     "data": {
      "text/html": [
       "<div>\n",
       "<style scoped>\n",
       "    .dataframe tbody tr th:only-of-type {\n",
       "        vertical-align: middle;\n",
       "    }\n",
       "\n",
       "    .dataframe tbody tr th {\n",
       "        vertical-align: top;\n",
       "    }\n",
       "\n",
       "    .dataframe thead th {\n",
       "        text-align: right;\n",
       "    }\n",
       "</style>\n",
       "<table border=\"1\" class=\"dataframe\">\n",
       "  <thead>\n",
       "    <tr style=\"text-align: right;\">\n",
       "      <th></th>\n",
       "      <th>genres</th>\n",
       "      <th>decade</th>\n",
       "      <th>tags</th>\n",
       "    </tr>\n",
       "    <tr>\n",
       "      <th>movieId</th>\n",
       "      <th></th>\n",
       "      <th></th>\n",
       "      <th></th>\n",
       "    </tr>\n",
       "  </thead>\n",
       "  <tbody>\n",
       "    <tr>\n",
       "      <th>1</th>\n",
       "      <td>adventure animation children comedy fantasy</td>\n",
       "      <td>2000</td>\n",
       "      <td>pixar pixar fun</td>\n",
       "    </tr>\n",
       "    <tr>\n",
       "      <th>2</th>\n",
       "      <td>adventure children fantasy</td>\n",
       "      <td>2000</td>\n",
       "      <td>fantasy magicboardgame robinwilliams game</td>\n",
       "    </tr>\n",
       "    <tr>\n",
       "      <th>3</th>\n",
       "      <td>comedy romance</td>\n",
       "      <td>2000</td>\n",
       "      <td></td>\n",
       "    </tr>\n",
       "    <tr>\n",
       "      <th>4</th>\n",
       "      <td>comedy drama romance</td>\n",
       "      <td>2000</td>\n",
       "      <td></td>\n",
       "    </tr>\n",
       "    <tr>\n",
       "      <th>5</th>\n",
       "      <td>comedy</td>\n",
       "      <td>2000</td>\n",
       "      <td>pregnancy remake</td>\n",
       "    </tr>\n",
       "    <tr>\n",
       "      <th>...</th>\n",
       "      <td>...</td>\n",
       "      <td>...</td>\n",
       "      <td>...</td>\n",
       "    </tr>\n",
       "    <tr>\n",
       "      <th>188797</th>\n",
       "      <td>comedy</td>\n",
       "      <td>2020</td>\n",
       "      <td></td>\n",
       "    </tr>\n",
       "    <tr>\n",
       "      <th>188833</th>\n",
       "      <td>adventure comedy fantasy</td>\n",
       "      <td>2020</td>\n",
       "      <td></td>\n",
       "    </tr>\n",
       "    <tr>\n",
       "      <th>189381</th>\n",
       "      <td>action crime thriller</td>\n",
       "      <td>2020</td>\n",
       "      <td></td>\n",
       "    </tr>\n",
       "    <tr>\n",
       "      <th>189713</th>\n",
       "      <td>comedy crime drama</td>\n",
       "      <td>2020</td>\n",
       "      <td></td>\n",
       "    </tr>\n",
       "    <tr>\n",
       "      <th>190183</th>\n",
       "      <td>sci-fi thriller</td>\n",
       "      <td>2020</td>\n",
       "      <td></td>\n",
       "    </tr>\n",
       "  </tbody>\n",
       "</table>\n",
       "<p>9298 rows × 3 columns</p>\n",
       "</div>"
      ],
      "text/plain": [
       "                                              genres decade  \\\n",
       "movieId                                                       \n",
       "1        adventure animation children comedy fantasy   2000   \n",
       "2                         adventure children fantasy   2000   \n",
       "3                                     comedy romance   2000   \n",
       "4                               comedy drama romance   2000   \n",
       "5                                             comedy   2000   \n",
       "...                                              ...    ...   \n",
       "188797                                        comedy   2020   \n",
       "188833                      adventure comedy fantasy   2020   \n",
       "189381                         action crime thriller   2020   \n",
       "189713                            comedy crime drama   2020   \n",
       "190183                               sci-fi thriller   2020   \n",
       "\n",
       "                                              tags  \n",
       "movieId                                             \n",
       "1                                  pixar pixar fun  \n",
       "2        fantasy magicboardgame robinwilliams game  \n",
       "3                                                   \n",
       "4                                                   \n",
       "5                                 pregnancy remake  \n",
       "...                                            ...  \n",
       "188797                                              \n",
       "188833                                              \n",
       "189381                                              \n",
       "189713                                              \n",
       "190183                                              \n",
       "\n",
       "[9298 rows x 3 columns]"
      ]
     },
     "execution_count": 33,
     "metadata": {},
     "output_type": "execute_result"
    }
   ],
   "source": [
    "df_movies_processed = df_movies[[\"genres\", \"year\"]]\n",
    "df_movies_processed[\"decade\"] = [extract_decade(year) for year in df_movies['year']]\n",
    "df_movies_processed = df_movies_processed.drop('year',axis = 1)\n",
    "df_movies_processed[\"genres\"] = df_movies['genres'].str.lower().str.replace(' ','').str.replace('|',' ')\n",
    "df_document_tags_=pd.DataFrame(df_document_tags)\n",
    "df_movies_processed = df_movies_processed.join(df_document_tags_,on='movieId').rename(columns={'tag': 'tags'})\n",
    "df_movies_processed[\"tags\"] = df_movies_processed[\"tags\"].fillna(\"\")\n",
    "list_movieIds =[]\n",
    "for movieid in df_movies_processed.index:\n",
    "    if movieid in df_ratings.movieId.values:\n",
    "        list_movieIds.append(movieid)\n",
    "df_movies_processed_w_ratings = df_movies_processed.loc[list_movieIds,:]\n",
    "df_movies_processed_w_ratings\n",
    "# YOUR CODE HERE\n",
    "#raise NotImplementedError()\n",
    "#df_movies_processed_w_ratings[df_movies_processed_w_ratings.tags==\"\"].size "
   ]
  },
  {
   "cell_type": "code",
   "execution_count": 34,
   "metadata": {
    "deletable": false,
    "editable": false,
    "nbgrader": {
     "grade": true,
     "grade_id": "cell-29392df2bc0e9a00",
     "locked": true,
     "points": 1,
     "schema_version": 3,
     "solution": false,
     "task": false
    }
   },
   "outputs": [
    {
     "data": {
      "text/html": [
       "<div>\n",
       "<style scoped>\n",
       "    .dataframe tbody tr th:only-of-type {\n",
       "        vertical-align: middle;\n",
       "    }\n",
       "\n",
       "    .dataframe tbody tr th {\n",
       "        vertical-align: top;\n",
       "    }\n",
       "\n",
       "    .dataframe thead th {\n",
       "        text-align: right;\n",
       "    }\n",
       "</style>\n",
       "<table border=\"1\" class=\"dataframe\">\n",
       "  <thead>\n",
       "    <tr style=\"text-align: right;\">\n",
       "      <th></th>\n",
       "      <th>genres</th>\n",
       "      <th>decade</th>\n",
       "      <th>tags</th>\n",
       "    </tr>\n",
       "    <tr>\n",
       "      <th>movieId</th>\n",
       "      <th></th>\n",
       "      <th></th>\n",
       "      <th></th>\n",
       "    </tr>\n",
       "  </thead>\n",
       "  <tbody>\n",
       "    <tr>\n",
       "      <th>1</th>\n",
       "      <td>adventure animation children comedy fantasy</td>\n",
       "      <td>2000</td>\n",
       "      <td>pixar pixar fun</td>\n",
       "    </tr>\n",
       "    <tr>\n",
       "      <th>2</th>\n",
       "      <td>adventure children fantasy</td>\n",
       "      <td>2000</td>\n",
       "      <td>fantasy magicboardgame robinwilliams game</td>\n",
       "    </tr>\n",
       "    <tr>\n",
       "      <th>3</th>\n",
       "      <td>comedy romance</td>\n",
       "      <td>2000</td>\n",
       "      <td></td>\n",
       "    </tr>\n",
       "    <tr>\n",
       "      <th>4</th>\n",
       "      <td>comedy drama romance</td>\n",
       "      <td>2000</td>\n",
       "      <td></td>\n",
       "    </tr>\n",
       "    <tr>\n",
       "      <th>5</th>\n",
       "      <td>comedy</td>\n",
       "      <td>2000</td>\n",
       "      <td>pregnancy remake</td>\n",
       "    </tr>\n",
       "  </tbody>\n",
       "</table>\n",
       "</div>"
      ],
      "text/plain": [
       "                                              genres decade  \\\n",
       "movieId                                                       \n",
       "1        adventure animation children comedy fantasy   2000   \n",
       "2                         adventure children fantasy   2000   \n",
       "3                                     comedy romance   2000   \n",
       "4                               comedy drama romance   2000   \n",
       "5                                             comedy   2000   \n",
       "\n",
       "                                              tags  \n",
       "movieId                                             \n",
       "1                                  pixar pixar fun  \n",
       "2        fantasy magicboardgame robinwilliams game  \n",
       "3                                                   \n",
       "4                                                   \n",
       "5                                 pregnancy remake  "
      ]
     },
     "execution_count": 34,
     "metadata": {},
     "output_type": "execute_result"
    }
   ],
   "source": [
    "assert df_movies_processed_w_ratings.shape == (9298, 3)\n",
    "assert ('genres' and 'decade' and 'tags') in df_movies_processed_w_ratings.columns\n",
    "assert hashlib.sha256(json.dumps(int(sum(df_movies_processed_w_ratings.index))).encode()).hexdigest() == \"131cb34d8c2b760e68aca73489b1adb4df2bac32813f0f094ebf425fe93cc037\"\n",
    "assert hashlib.sha256(json.dumps(df_movies_processed_w_ratings.iloc[58].decade).encode()).hexdigest() == \"637116a317aaf00163e5ae8e254bd0fa5625603b98429d84f87e5c8c5240e350\"\n",
    "assert hashlib.sha256(json.dumps(df_movies_processed_w_ratings.iloc[58].genres).encode()).hexdigest() == \"2a82415726224b3ddf84350f8d9f94213c447329073f7bc9096abbc8dcfa9660\"\n",
    "assert hashlib.sha256(json.dumps(df_movies_processed_w_ratings.iloc[58].tags).encode()).hexdigest() == \"12ae32cb1ec02d01eda3581b127c1fee3b0dc53572ed6baf239721a03d82e126\"\n",
    "assert df_movies_processed_w_ratings[df_movies_processed_w_ratings.tags==\"\"].size == 23307\n",
    "df_movies_processed_w_ratings.head()"
   ]
  },
  {
   "cell_type": "markdown",
   "metadata": {
    "deletable": false,
    "editable": false,
    "nbgrader": {
     "grade": false,
     "grade_id": "cell-1eb78679f7200351",
     "locked": true,
     "schema_version": 3,
     "solution": false,
     "task": false
    }
   },
   "source": [
    "## 3.3 - Calculate the Profiles for the Items   \n",
    "### 3.3.1 - Calculate the tf-idf\n",
    "\n",
    "Create a function named `get_tf_idf`, that accepts a pandas series where the values are type `str`, and returns the correspondent tf-idf for that serie."
   ]
  },
  {
   "cell_type": "code",
   "execution_count": 35,
   "metadata": {
    "deletable": false,
    "nbgrader": {
     "grade": false,
     "grade_id": "cell-810408e9f169b757",
     "locked": false,
     "schema_version": 3,
     "solution": true,
     "task": false
    }
   },
   "outputs": [],
   "source": [
    "def get_tf_idf(doc_series: pd.Series):\n",
    "    \"\"\"\n",
    "    Generates the tf-idf of doc_series\n",
    "    \n",
    "    Parameters\n",
    "    ----------\n",
    "    doc_series : pd.Series, shape:(n_items, )\n",
    "              serie where elements are of type str\n",
    "              \n",
    "    Returns\n",
    "    -------\n",
    "    doc_tf_idf : csr_matrix, shape: (n_items, n_tfidf_features)\n",
    "    \"\"\"\n",
    "    # YOUR CODE HERE\n",
    "    vectorizer = TfidfVectorizer()\n",
    "    doc_tf_idf = csr_matrix(vectorizer.fit_transform(doc_series))\n",
    "    #raise NotImplementedError()\n",
    "    return doc_tf_idf"
   ]
  },
  {
   "cell_type": "code",
   "execution_count": 36,
   "metadata": {
    "deletable": false,
    "editable": false,
    "nbgrader": {
     "grade": true,
     "grade_id": "cell-61a2eb080d104894",
     "locked": true,
     "points": 1,
     "schema_version": 3,
     "solution": false,
     "task": false
    }
   },
   "outputs": [],
   "source": [
    "tag_tf_idf  = get_tf_idf(df_movies_processed_w_ratings[\"tags\"])\n",
    "assert tag_tf_idf.shape == (9298, 1458)\n",
    "np.testing.assert_almost_equal(tag_tf_idf[:, 5].toarray().sum(), 2.26, 2)"
   ]
  },
  {
   "cell_type": "markdown",
   "metadata": {
    "deletable": false,
    "editable": false,
    "nbgrader": {
     "grade": false,
     "grade_id": "cell-5ab9a7084c94c594",
     "locked": true,
     "schema_version": 3,
     "solution": false,
     "task": false
    }
   },
   "source": [
    "### 3.3.2 - Calculate items profile"
   ]
  },
  {
   "cell_type": "markdown",
   "metadata": {
    "deletable": false,
    "editable": false,
    "nbgrader": {
     "grade": false,
     "grade_id": "cell-c93858b37dd602c3",
     "locked": true,
     "schema_version": 3,
     "solution": false,
     "task": false
    }
   },
   "source": [
    "Let's now create an items profile that contains information regarding `tags`, `genres`, and `decade`. "
   ]
  },
  {
   "cell_type": "markdown",
   "metadata": {
    "deletable": false,
    "editable": false,
    "nbgrader": {
     "grade": false,
     "grade_id": "cell-28db82386ba682c1",
     "locked": true,
     "schema_version": 3,
     "solution": false,
     "task": false
    }
   },
   "source": [
    "Create a function named `get_items_profile`, that accepts a dataframe, calculates tf-idf for each column, concatenates horizontally all the  csr_matrix that are a result of the tf-idf, and returns it as a csr_matrix.        \n",
    "Hint: Use the function `get_if_idf` and the method `np.hstack`."
   ]
  },
  {
   "cell_type": "code",
   "execution_count": 37,
   "metadata": {
    "deletable": false,
    "nbgrader": {
     "grade": false,
     "grade_id": "cell-04e8da78ee6158a6",
     "locked": false,
     "schema_version": 3,
     "solution": true,
     "task": false
    }
   },
   "outputs": [],
   "source": [
    "def get_items_profile(df: pd.DataFrame):   \n",
    "    \"\"\"\n",
    "    Creates the item profiles from tf-idf applied to all the columns on df\n",
    "    \n",
    "    Parameters\n",
    "    ----------\n",
    "    df : pd.DataFrame, shape:(n_items, n_features)\n",
    "              \n",
    "              \n",
    "    Returns\n",
    "    -------\n",
    "    item_profiles : csr_matrix, shape: (n_items, n_tfidf_features)\n",
    "    \"\"\"\n",
    "    # item_profiles = ...\n",
    "    # YOUR CODE HERE\n",
    "    tags_profile = get_tf_idf(df['tags'])\n",
    "    genres_profile = get_tf_idf(df['genres'])\n",
    "    decade_profile = get_tf_idf(df['decade'])\n",
    "    \n",
    "    item_profiles_ = np.hstack([tags_profile.toarray(),genres_profile.toarray(), decade_profile.toarray()])\n",
    "    item_profiles = csr_matrix(item_profiles_)\n",
    "   # raise NotImplementedError()\n",
    "    return item_profiles"
   ]
  },
  {
   "cell_type": "code",
   "execution_count": 38,
   "metadata": {
    "deletable": false,
    "editable": false,
    "nbgrader": {
     "grade": true,
     "grade_id": "cell-b7dc880fad53861e",
     "locked": true,
     "points": 1,
     "schema_version": 3,
     "solution": false,
     "task": false
    }
   },
   "outputs": [],
   "source": [
    "item_profiles = get_items_profile(df_movies_processed_w_ratings)\n",
    "assert item_profiles.shape == (9298, 1493)\n",
    "assert hashlib.sha256(json.dumps(int(item_profiles[45, :].toarray()[0].sum())).encode()).hexdigest() == \"ef2d127de37b942baad06145e54b0c619a1f22327b2ebbcfbec78f5564afe39d\""
   ]
  },
  {
   "cell_type": "markdown",
   "metadata": {
    "deletable": false,
    "editable": false,
    "nbgrader": {
     "grade": false,
     "grade_id": "cell-814515cc2a92c161",
     "locked": true,
     "schema_version": 3,
     "solution": false,
     "task": false
    }
   },
   "source": [
    "## 3.4 - User Profiles\n",
    "Next step is to create a function called `make_user_profiles` that accepts the ratings matrix and the items profiles, calculates and returns the user profiles."
   ]
  },
  {
   "cell_type": "code",
   "execution_count": 39,
   "metadata": {
    "deletable": false,
    "nbgrader": {
     "grade": false,
     "grade_id": "cell-20bcd68441488e85",
     "locked": false,
     "schema_version": 3,
     "solution": true,
     "task": false
    }
   },
   "outputs": [],
   "source": [
    "# YOUR CODE HERE\n",
    "def make_user_profiles(R, item_profiles):\n",
    "    return np.dot(R, item_profiles)\n",
    "#raise NotImplementedError()"
   ]
  },
  {
   "cell_type": "code",
   "execution_count": 40,
   "metadata": {
    "deletable": false,
    "editable": false,
    "nbgrader": {
     "grade": true,
     "grade_id": "cell-4c85ea9dfea538d0",
     "locked": true,
     "points": 1,
     "schema_version": 3,
     "solution": false,
     "task": false
    }
   },
   "outputs": [],
   "source": [
    "user_profiles = make_user_profiles(R, item_profiles)\n",
    "assert user_profiles.shape == (147, 1493)\n",
    "assert hashlib.sha256(json.dumps(int(user_profiles[10, :].toarray()[0].sum())).encode()).hexdigest() == \"3c7f572560e6d2f14680d05690428dbedc48378a6b8015d86024428f36791dad\""
   ]
  },
  {
   "cell_type": "markdown",
   "metadata": {
    "deletable": false,
    "editable": false,
    "nbgrader": {
     "grade": false,
     "grade_id": "cell-d1ccca8b6ac23283",
     "locked": true,
     "schema_version": 3,
     "solution": false,
     "task": false
    }
   },
   "source": [
    "## 3.5 - The Moment of Truth\n",
    "Finally, let's make predictions, this time based not only on ratings, but also on items characteristics. "
   ]
  },
  {
   "cell_type": "code",
   "execution_count": 41,
   "metadata": {
    "deletable": false,
    "nbgrader": {
     "grade": false,
     "grade_id": "cell-5ac2689623d9a18c",
     "locked": false,
     "schema_version": 3,
     "solution": true,
     "task": false
    }
   },
   "outputs": [],
   "source": [
    "#todo compare tfidf with tags vs tfidf for tags with one hot encode? for genre, decade and compare the results\n",
    "#\n",
    "def make_predictions(R, item_profiles, user_profiles):\n",
    "    \"\"\"\n",
    "    Make predictions based on the ratings matrix, the item profiles and the user profiles we calculated previously.\n",
    "    \n",
    "    \n",
    "    Parameters\n",
    "    ----------\n",
    "    R : csr_matrix. shape: (n_users, n_items)\n",
    "        Matrix containing the ratings initially assigned.\n",
    "        \n",
    "    item_profiles : csr_matrix. shape: (n_items, n_tfidf_features)\n",
    "                    Matrix containing the TF-IDF features calculated for the items.\n",
    "                    \n",
    "    user_profiles : csr_matrix. shape: (n_users, n_tfidf_features)\n",
    "                    Matrix containing the user profiles as the product of the ratings with the item profiles.\n",
    "                    \n",
    "                    \n",
    "    Returns\n",
    "    -------\n",
    "    predictions : csr_matrix. shape: (n_users, n_items)\n",
    "                  Matrix with the predictions. Already rated content is suppressed to 0.\n",
    "    \"\"\"\n",
    "    # YOUR CODE HERE\n",
    "    #raise NotImplementedError()\n",
    "    \n",
    "    \n",
    "    predictions= cosine_similarity(user_profiles, item_profiles)\n",
    "    \n",
    "    # Exclude previously rated items.\n",
    "    predictions[R.nonzero()] = 0\n",
    "    \n",
    "    return csr_matrix(predictions)"
   ]
  },
  {
   "cell_type": "code",
   "execution_count": 42,
   "metadata": {
    "deletable": false,
    "editable": false,
    "nbgrader": {
     "grade": true,
     "grade_id": "cell-001af6c8b8138140",
     "locked": true,
     "points": 2,
     "schema_version": 3,
     "solution": false,
     "task": false
    }
   },
   "outputs": [],
   "source": [
    "pred = make_predictions(R, item_profiles, user_profiles)\n",
    "assert pred.shape == (147, 9298)\n",
    "assert hashlib.sha256(json.dumps(int(pred[:, 50].toarray().sum())).encode()).hexdigest() == \"bbb965ab0c80d6538cf2184babad2a564a010376712012bd07b0af92dcd3097d\"\n",
    "assert hashlib.sha256(json.dumps(pred[pred == 0].size).encode()).hexdigest() == \"ade54f1d9e8f688033b38ac8289791a62e9e1b9fde4ea1eb8ae8cb7f3ac503a8\""
   ]
  },
  {
   "cell_type": "markdown",
   "metadata": {
    "deletable": false,
    "editable": false,
    "nbgrader": {
     "grade": false,
     "grade_id": "cell-d91941cf9c36e511",
     "locked": true,
     "schema_version": 3,
     "solution": false,
     "task": false
    }
   },
   "source": [
    "## 3.6 - Get Top-20 items for John (Not Graded)"
   ]
  },
  {
   "cell_type": "markdown",
   "metadata": {
    "deletable": false,
    "editable": false,
    "nbgrader": {
     "grade": false,
     "grade_id": "cell-a90bbe59493e101f",
     "locked": true,
     "schema_version": 3,
     "solution": false,
     "task": false
    }
   },
   "source": [
    "With this new predictions, we can give recommendations to John, having in account not only the ratings, but also the movies' content."
   ]
  },
  {
   "cell_type": "code",
   "execution_count": 43,
   "metadata": {
    "deletable": false,
    "editable": false,
    "nbgrader": {
     "grade": false,
     "grade_id": "cell-c1585e7213d67765",
     "locked": true,
     "schema_version": 3,
     "solution": false,
     "task": false
    }
   },
   "outputs": [
    {
     "data": {
      "text/html": [
       "<div>\n",
       "<style scoped>\n",
       "    .dataframe tbody tr th:only-of-type {\n",
       "        vertical-align: middle;\n",
       "    }\n",
       "\n",
       "    .dataframe tbody tr th {\n",
       "        vertical-align: top;\n",
       "    }\n",
       "\n",
       "    .dataframe thead th {\n",
       "        text-align: right;\n",
       "    }\n",
       "</style>\n",
       "<table border=\"1\" class=\"dataframe\">\n",
       "  <thead>\n",
       "    <tr style=\"text-align: right;\">\n",
       "      <th></th>\n",
       "      <th>title</th>\n",
       "      <th>genres</th>\n",
       "      <th>year</th>\n",
       "    </tr>\n",
       "    <tr>\n",
       "      <th>movieId</th>\n",
       "      <th></th>\n",
       "      <th></th>\n",
       "      <th></th>\n",
       "    </tr>\n",
       "  </thead>\n",
       "  <tbody>\n",
       "    <tr>\n",
       "      <th>8633</th>\n",
       "      <td>Last Starfighter, The</td>\n",
       "      <td>Action|Adventure|Comedy|Sci-Fi</td>\n",
       "      <td>1984.0</td>\n",
       "    </tr>\n",
       "    <tr>\n",
       "      <th>1375</th>\n",
       "      <td>Star Trek III: The Search for Spock</td>\n",
       "      <td>Action|Adventure|Sci-Fi</td>\n",
       "      <td>1984.0</td>\n",
       "    </tr>\n",
       "    <tr>\n",
       "      <th>2105</th>\n",
       "      <td>Tron</td>\n",
       "      <td>Action|Adventure|Sci-Fi</td>\n",
       "      <td>1982.0</td>\n",
       "    </tr>\n",
       "    <tr>\n",
       "      <th>4941</th>\n",
       "      <td>Flash Gordon</td>\n",
       "      <td>Action|Adventure|Sci-Fi</td>\n",
       "      <td>1980.0</td>\n",
       "    </tr>\n",
       "    <tr>\n",
       "      <th>3704</th>\n",
       "      <td>Mad Max Beyond Thunderdome</td>\n",
       "      <td>Action|Adventure|Sci-Fi</td>\n",
       "      <td>1985.0</td>\n",
       "    </tr>\n",
       "    <tr>\n",
       "      <th>3702</th>\n",
       "      <td>Mad Max</td>\n",
       "      <td>Action|Adventure|Sci-Fi</td>\n",
       "      <td>1979.0</td>\n",
       "    </tr>\n",
       "    <tr>\n",
       "      <th>4987</th>\n",
       "      <td>Spacehunter: Adventures in the Forbidden Zone</td>\n",
       "      <td>Action|Adventure|Sci-Fi</td>\n",
       "      <td>1983.0</td>\n",
       "    </tr>\n",
       "    <tr>\n",
       "      <th>2528</th>\n",
       "      <td>Logan's Run</td>\n",
       "      <td>Action|Adventure|Sci-Fi</td>\n",
       "      <td>1976.0</td>\n",
       "    </tr>\n",
       "    <tr>\n",
       "      <th>3070</th>\n",
       "      <td>Adventures of Buckaroo Banzai Across the 8th D...</td>\n",
       "      <td>Adventure|Comedy|Sci-Fi</td>\n",
       "      <td>1984.0</td>\n",
       "    </tr>\n",
       "    <tr>\n",
       "      <th>26444</th>\n",
       "      <td>Hitch Hikers Guide to the Galaxy, The</td>\n",
       "      <td>Adventure|Comedy|Sci-Fi</td>\n",
       "      <td>1981.0</td>\n",
       "    </tr>\n",
       "    <tr>\n",
       "      <th>4953</th>\n",
       "      <td>People That Time Forgot, The</td>\n",
       "      <td>Adventure|Sci-Fi</td>\n",
       "      <td>1977.0</td>\n",
       "    </tr>\n",
       "    <tr>\n",
       "      <th>69453</th>\n",
       "      <td>Land That Time Forgot, The</td>\n",
       "      <td>Adventure|Sci-Fi</td>\n",
       "      <td>1975.0</td>\n",
       "    </tr>\n",
       "    <tr>\n",
       "      <th>1371</th>\n",
       "      <td>Star Trek: The Motion Picture</td>\n",
       "      <td>Adventure|Sci-Fi</td>\n",
       "      <td>1979.0</td>\n",
       "    </tr>\n",
       "    <tr>\n",
       "      <th>2021</th>\n",
       "      <td>Dune</td>\n",
       "      <td>Adventure|Sci-Fi</td>\n",
       "      <td>1984.0</td>\n",
       "    </tr>\n",
       "    <tr>\n",
       "      <th>3401</th>\n",
       "      <td>Baby... Secret of the Lost Legend</td>\n",
       "      <td>Adventure|Sci-Fi</td>\n",
       "      <td>1985.0</td>\n",
       "    </tr>\n",
       "    <tr>\n",
       "      <th>2615</th>\n",
       "      <td>My Science Project</td>\n",
       "      <td>Adventure|Sci-Fi</td>\n",
       "      <td>1985.0</td>\n",
       "    </tr>\n",
       "    <tr>\n",
       "      <th>3703</th>\n",
       "      <td>Road Warrior, The (Mad Max 2)</td>\n",
       "      <td>Action|Adventure|Sci-Fi|Thriller</td>\n",
       "      <td>1981.0</td>\n",
       "    </tr>\n",
       "    <tr>\n",
       "      <th>1129</th>\n",
       "      <td>Escape from New York</td>\n",
       "      <td>Action|Adventure|Sci-Fi|Thriller</td>\n",
       "      <td>1981.0</td>\n",
       "    </tr>\n",
       "    <tr>\n",
       "      <th>3638</th>\n",
       "      <td>Moonraker</td>\n",
       "      <td>Action|Adventure|Sci-Fi|Thriller</td>\n",
       "      <td>1979.0</td>\n",
       "    </tr>\n",
       "    <tr>\n",
       "      <th>7481</th>\n",
       "      <td>Enemy Mine</td>\n",
       "      <td>Adventure|Drama|Sci-Fi</td>\n",
       "      <td>1985.0</td>\n",
       "    </tr>\n",
       "  </tbody>\n",
       "</table>\n",
       "</div>"
      ],
      "text/plain": [
       "                                                     title  \\\n",
       "movieId                                                      \n",
       "8633                                 Last Starfighter, The   \n",
       "1375                   Star Trek III: The Search for Spock   \n",
       "2105                                                  Tron   \n",
       "4941                                          Flash Gordon   \n",
       "3704                            Mad Max Beyond Thunderdome   \n",
       "3702                                               Mad Max   \n",
       "4987         Spacehunter: Adventures in the Forbidden Zone   \n",
       "2528                                           Logan's Run   \n",
       "3070     Adventures of Buckaroo Banzai Across the 8th D...   \n",
       "26444                Hitch Hikers Guide to the Galaxy, The   \n",
       "4953                          People That Time Forgot, The   \n",
       "69453                           Land That Time Forgot, The   \n",
       "1371                         Star Trek: The Motion Picture   \n",
       "2021                                                  Dune   \n",
       "3401                     Baby... Secret of the Lost Legend   \n",
       "2615                                    My Science Project   \n",
       "3703                         Road Warrior, The (Mad Max 2)   \n",
       "1129                                  Escape from New York   \n",
       "3638                                             Moonraker   \n",
       "7481                                            Enemy Mine   \n",
       "\n",
       "                                   genres    year  \n",
       "movieId                                            \n",
       "8633       Action|Adventure|Comedy|Sci-Fi  1984.0  \n",
       "1375              Action|Adventure|Sci-Fi  1984.0  \n",
       "2105              Action|Adventure|Sci-Fi  1982.0  \n",
       "4941              Action|Adventure|Sci-Fi  1980.0  \n",
       "3704              Action|Adventure|Sci-Fi  1985.0  \n",
       "3702              Action|Adventure|Sci-Fi  1979.0  \n",
       "4987              Action|Adventure|Sci-Fi  1983.0  \n",
       "2528              Action|Adventure|Sci-Fi  1976.0  \n",
       "3070              Adventure|Comedy|Sci-Fi  1984.0  \n",
       "26444             Adventure|Comedy|Sci-Fi  1981.0  \n",
       "4953                     Adventure|Sci-Fi  1977.0  \n",
       "69453                    Adventure|Sci-Fi  1975.0  \n",
       "1371                     Adventure|Sci-Fi  1979.0  \n",
       "2021                     Adventure|Sci-Fi  1984.0  \n",
       "3401                     Adventure|Sci-Fi  1985.0  \n",
       "2615                     Adventure|Sci-Fi  1985.0  \n",
       "3703     Action|Adventure|Sci-Fi|Thriller  1981.0  \n",
       "1129     Action|Adventure|Sci-Fi|Thriller  1981.0  \n",
       "3638     Action|Adventure|Sci-Fi|Thriller  1979.0  \n",
       "7481               Adventure|Drama|Sci-Fi  1985.0  "
      ]
     },
     "execution_count": 43,
     "metadata": {},
     "output_type": "execute_result"
    }
   ],
   "source": [
    "top_movies_ids = get_top_n(pred, john_id, 20)\n",
    "df_movies.loc[top_movies_ids]"
   ]
  },
  {
   "cell_type": "code",
   "execution_count": 46,
   "metadata": {},
   "outputs": [],
   "source": [
    "!explorer.exe ."
   ]
  },
  {
   "cell_type": "code",
   "execution_count": null,
   "metadata": {},
   "outputs": [],
   "source": []
  }
 ],
 "metadata": {
  "kernelspec": {
   "display_name": "Python 3",
   "language": "python",
   "name": "python3"
  },
  "language_info": {
   "codemirror_mode": {
    "name": "ipython",
    "version": 3
   },
   "file_extension": ".py",
   "mimetype": "text/x-python",
   "name": "python",
   "nbconvert_exporter": "python",
   "pygments_lexer": "ipython3",
   "version": "3.6.9"
  }
 },
 "nbformat": 4,
 "nbformat_minor": 2
}
